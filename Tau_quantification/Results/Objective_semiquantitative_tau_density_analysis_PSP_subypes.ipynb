{
 "cells": [
  {
   "attachments": {},
   "cell_type": "markdown",
   "metadata": {},
   "source": [
    "### Objective vs Semi-quantitative: Tau density\n"
   ]
  },
  {
   "attachments": {},
   "cell_type": "markdown",
   "metadata": {},
   "source": [
    "https://www.w3schools.com/cssref/css_colors.php\n"
   ]
  },
  {
   "cell_type": "code",
   "execution_count": 1,
   "metadata": {},
   "outputs": [],
   "source": [
    "import sys\n",
    "sys.path.insert(0,\n",
    "                '/Users/mokur/OneDrive - University of Cambridge/Attachments/Jan2023/Tau_pipeline/Tau_quantification/')\n",
    "\n",
    "from helper_functions import *\n",
    "from plotting import *"
   ]
  },
  {
   "cell_type": "code",
   "execution_count": 2,
   "metadata": {},
   "outputs": [],
   "source": [
    "## Importing libraries \n",
    "import pandas as pd\n",
    "import numpy as np \n",
    "from statistics import mean\n",
    "import seaborn as sns\n",
    "import matplotlib.pyplot as plt\n",
    "from scipy import stats\n"
   ]
  },
  {
   "attachments": {},
   "cell_type": "markdown",
   "metadata": {},
   "source": [
    "**Read in data obj-semi data**"
   ]
  },
  {
   "cell_type": "code",
   "execution_count": 3,
   "metadata": {},
   "outputs": [],
   "source": [
    "# Read in data \n",
    "\n",
    "dat = pd.read_csv('/Users/mokur/OneDrive - University of Cambridge/Attachments/Jan2023/Tau_pipeline/Tau_quantification/Results/objective_semiquan_tau_PSP_May2023_corticalUpdated3_noArtefacts_novel.txt',sep='\\t')\n",
    "\n",
    "# Change region name to be more readable \n",
    "dat = dat.copy()\n",
    "r = dat['region_name']\n",
    "dat.loc[:,'region_name'] = [region_dict[i] for i in r]\n",
    "\n",
    "# Subset only relevant columns \n",
    "data = dat[['Slice_ID',\n",
    "            'Total_tau_density',\n",
    "            'Tau_hallmark_density',\n",
    "            'NFT_density',\n",
    "            'CB_density',\n",
    "            'TA_density',\n",
    "            'Others_density',\n",
    "            'Others_AF',\n",
    "            'Patient_ID',\n",
    "            'region_name',\n",
    "            'GP_SK',\n",
    "            'STN_SK',\n",
    "            'STR_SK',\n",
    "            'FCF_SK',\n",
    "            'DE_SK',\n",
    "            'OC_SK',\n",
    "            'Stage_SK',\n",
    "            'MDS-PSP last visit' ]]"
   ]
  },
  {
   "cell_type": "code",
   "execution_count": 4,
   "metadata": {},
   "outputs": [
    {
     "data": {
      "text/plain": [
       "Index(['Comments', 'Diagnosis', 'Extra_comments', 'PSP Stage', 'Patient_ID',\n",
       "       'Slice_ID', 'brain_hemi', 'brain_region', 'label_name', 'new_sample_ID',\n",
       "       'region_name', 'sample_ID', 'stained_protein', 'Non_tau', 'Others',\n",
       "       'CB', 'NFT', 'Ambiguous', 'TA', 'Non_tau_area', 'Others_area',\n",
       "       'CB_area', 'NFT_area', 'Ambiguous_area', 'TA_area', 'Area µm^2',\n",
       "       'Total_tau', 'Total_tau_hallmarks', 'Total_tau_density',\n",
       "       'Tau_hallmark_density', 'NFT_density', 'CB_density', 'TA_density',\n",
       "       'Others_density', 'Ambiguous_density', 'Total_tau_AF',\n",
       "       'Tau_hallmarks_AF', 'NFT_AF', 'CB_AF', 'TA_AF', 'Others_AF',\n",
       "       'Ambiguous_AF', '_merge', 'REDCap ID', 'JR Number', 'JR', 'GP_SK',\n",
       "       'STN_SK', 'STR_SK', 'FCF_SK', 'DE_SK', 'OC_SK', 'Stage_SK', 'Gender',\n",
       "       'Age at Death', 'disease duration (years)', 'MDS_first',\n",
       "       'MDS-PSP last visit', 'years PSPRS and death', 'years ACER and death',\n",
       "       'PSPRS Total (last assesment)', 'ACE-R last assesment',\n",
       "       'imputed ACER at average', 'imputed PSPRS at death_average'],\n",
       "      dtype='object')"
      ]
     },
     "execution_count": 4,
     "metadata": {},
     "output_type": "execute_result"
    }
   ],
   "source": [
    "dat.columns"
   ]
  },
  {
   "cell_type": "code",
   "execution_count": 5,
   "metadata": {},
   "outputs": [],
   "source": [
    "dat_subset = dat[['Patient_ID',\n",
    "     'GP_SK',\n",
    "     'STN_SK',\n",
    "     'STR_SK',\n",
    "     'FCF_SK',\n",
    "     'DE_SK',\n",
    "     'OC_SK',\n",
    "     'Stage_SK',\n",
    "     'Gender',\n",
    "     'Age at Death',\n",
    "     'disease duration (years)',\n",
    "     'PSPRS Total (last assesment)',\n",
    "     'years PSPRS and death',\n",
    "     'imputed PSPRS at death_average','Extra_comments']]\n",
    "dat_subset = dat_subset.drop_duplicates(subset='Patient_ID')"
   ]
  },
  {
   "cell_type": "code",
   "execution_count": 6,
   "metadata": {},
   "outputs": [
    {
     "name": "stdout",
     "output_type": "stream",
     "text": [
      "(269, 18)\n"
     ]
    },
    {
     "data": {
      "text/html": [
       "<div>\n",
       "<style scoped>\n",
       "    .dataframe tbody tr th:only-of-type {\n",
       "        vertical-align: middle;\n",
       "    }\n",
       "\n",
       "    .dataframe tbody tr th {\n",
       "        vertical-align: top;\n",
       "    }\n",
       "\n",
       "    .dataframe thead th {\n",
       "        text-align: right;\n",
       "    }\n",
       "</style>\n",
       "<table border=\"1\" class=\"dataframe\">\n",
       "  <thead>\n",
       "    <tr style=\"text-align: right;\">\n",
       "      <th></th>\n",
       "      <th>Slice_ID</th>\n",
       "      <th>Total_tau_density</th>\n",
       "      <th>Tau_hallmark_density</th>\n",
       "      <th>NFT_density</th>\n",
       "      <th>CB_density</th>\n",
       "      <th>TA_density</th>\n",
       "      <th>Others_density</th>\n",
       "      <th>Others_AF</th>\n",
       "      <th>Patient_ID</th>\n",
       "      <th>region_name</th>\n",
       "      <th>GP_SK</th>\n",
       "      <th>STN_SK</th>\n",
       "      <th>STR_SK</th>\n",
       "      <th>FCF_SK</th>\n",
       "      <th>DE_SK</th>\n",
       "      <th>OC_SK</th>\n",
       "      <th>Stage_SK</th>\n",
       "      <th>MDS-PSP last visit</th>\n",
       "    </tr>\n",
       "  </thead>\n",
       "  <tbody>\n",
       "    <tr>\n",
       "      <th>0</th>\n",
       "      <td>S760051</td>\n",
       "      <td>0.000004</td>\n",
       "      <td>9.675765e-08</td>\n",
       "      <td>0.000000e+00</td>\n",
       "      <td>8.796150e-08</td>\n",
       "      <td>8.796150e-09</td>\n",
       "      <td>0.000004</td>\n",
       "      <td>0.000070</td>\n",
       "      <td>NP19-00221</td>\n",
       "      <td>Pre-frontal</td>\n",
       "      <td>2.0</td>\n",
       "      <td>2.0</td>\n",
       "      <td>2.0</td>\n",
       "      <td>0.0</td>\n",
       "      <td>1.0</td>\n",
       "      <td>0.0</td>\n",
       "      <td>2.0</td>\n",
       "      <td>prob. PSP-RS</td>\n",
       "    </tr>\n",
       "    <tr>\n",
       "      <th>1</th>\n",
       "      <td>S760052</td>\n",
       "      <td>0.000010</td>\n",
       "      <td>8.333108e-07</td>\n",
       "      <td>8.389035e-08</td>\n",
       "      <td>6.543447e-07</td>\n",
       "      <td>9.507573e-08</td>\n",
       "      <td>0.000010</td>\n",
       "      <td>0.000125</td>\n",
       "      <td>NP19-00221</td>\n",
       "      <td>Temporal</td>\n",
       "      <td>2.0</td>\n",
       "      <td>2.0</td>\n",
       "      <td>2.0</td>\n",
       "      <td>0.0</td>\n",
       "      <td>1.0</td>\n",
       "      <td>0.0</td>\n",
       "      <td>2.0</td>\n",
       "      <td>prob. PSP-RS</td>\n",
       "    </tr>\n",
       "    <tr>\n",
       "      <th>2</th>\n",
       "      <td>S760053</td>\n",
       "      <td>0.000003</td>\n",
       "      <td>3.571501e-07</td>\n",
       "      <td>9.652706e-09</td>\n",
       "      <td>2.992339e-07</td>\n",
       "      <td>4.826353e-08</td>\n",
       "      <td>0.000003</td>\n",
       "      <td>0.000040</td>\n",
       "      <td>NP19-00221</td>\n",
       "      <td>Parietal</td>\n",
       "      <td>2.0</td>\n",
       "      <td>2.0</td>\n",
       "      <td>2.0</td>\n",
       "      <td>0.0</td>\n",
       "      <td>1.0</td>\n",
       "      <td>0.0</td>\n",
       "      <td>2.0</td>\n",
       "      <td>prob. PSP-RS</td>\n",
       "    </tr>\n",
       "    <tr>\n",
       "      <th>3</th>\n",
       "      <td>S760055</td>\n",
       "      <td>0.000003</td>\n",
       "      <td>9.760352e-08</td>\n",
       "      <td>1.626725e-08</td>\n",
       "      <td>6.506901e-08</td>\n",
       "      <td>1.626725e-08</td>\n",
       "      <td>0.000003</td>\n",
       "      <td>0.000031</td>\n",
       "      <td>NP19-00221</td>\n",
       "      <td>Cingulate</td>\n",
       "      <td>2.0</td>\n",
       "      <td>2.0</td>\n",
       "      <td>2.0</td>\n",
       "      <td>0.0</td>\n",
       "      <td>1.0</td>\n",
       "      <td>0.0</td>\n",
       "      <td>2.0</td>\n",
       "      <td>prob. PSP-RS</td>\n",
       "    </tr>\n",
       "    <tr>\n",
       "      <th>4</th>\n",
       "      <td>S760101</td>\n",
       "      <td>0.000002</td>\n",
       "      <td>1.247020e-07</td>\n",
       "      <td>0.000000e+00</td>\n",
       "      <td>1.184669e-07</td>\n",
       "      <td>6.235098e-09</td>\n",
       "      <td>0.000002</td>\n",
       "      <td>0.000031</td>\n",
       "      <td>NP19-00221</td>\n",
       "      <td>Primary somatosensory</td>\n",
       "      <td>2.0</td>\n",
       "      <td>2.0</td>\n",
       "      <td>2.0</td>\n",
       "      <td>0.0</td>\n",
       "      <td>1.0</td>\n",
       "      <td>0.0</td>\n",
       "      <td>2.0</td>\n",
       "      <td>prob. PSP-RS</td>\n",
       "    </tr>\n",
       "  </tbody>\n",
       "</table>\n",
       "</div>"
      ],
      "text/plain": [
       "  Slice_ID  Total_tau_density  Tau_hallmark_density   NFT_density  \\\n",
       "0  S760051           0.000004          9.675765e-08  0.000000e+00   \n",
       "1  S760052           0.000010          8.333108e-07  8.389035e-08   \n",
       "2  S760053           0.000003          3.571501e-07  9.652706e-09   \n",
       "3  S760055           0.000003          9.760352e-08  1.626725e-08   \n",
       "4  S760101           0.000002          1.247020e-07  0.000000e+00   \n",
       "\n",
       "     CB_density    TA_density  Others_density  Others_AF  Patient_ID  \\\n",
       "0  8.796150e-08  8.796150e-09        0.000004   0.000070  NP19-00221   \n",
       "1  6.543447e-07  9.507573e-08        0.000010   0.000125  NP19-00221   \n",
       "2  2.992339e-07  4.826353e-08        0.000003   0.000040  NP19-00221   \n",
       "3  6.506901e-08  1.626725e-08        0.000003   0.000031  NP19-00221   \n",
       "4  1.184669e-07  6.235098e-09        0.000002   0.000031  NP19-00221   \n",
       "\n",
       "             region_name  GP_SK  STN_SK  STR_SK  FCF_SK  DE_SK  OC_SK  \\\n",
       "0            Pre-frontal    2.0     2.0     2.0     0.0    1.0    0.0   \n",
       "1               Temporal    2.0     2.0     2.0     0.0    1.0    0.0   \n",
       "2               Parietal    2.0     2.0     2.0     0.0    1.0    0.0   \n",
       "3              Cingulate    2.0     2.0     2.0     0.0    1.0    0.0   \n",
       "4  Primary somatosensory    2.0     2.0     2.0     0.0    1.0    0.0   \n",
       "\n",
       "   Stage_SK MDS-PSP last visit  \n",
       "0       2.0       prob. PSP-RS  \n",
       "1       2.0       prob. PSP-RS  \n",
       "2       2.0       prob. PSP-RS  \n",
       "3       2.0       prob. PSP-RS  \n",
       "4       2.0       prob. PSP-RS  "
      ]
     },
     "execution_count": 6,
     "metadata": {},
     "output_type": "execute_result"
    }
   ],
   "source": [
    "print(data.shape)\n",
    "data.head()"
   ]
  },
  {
   "cell_type": "code",
   "execution_count": 7,
   "metadata": {},
   "outputs": [
    {
     "name": "stdout",
     "output_type": "stream",
     "text": [
      "No. of unique patients:  32\n"
     ]
    },
    {
     "data": {
      "text/html": [
       "<div>\n",
       "<style scoped>\n",
       "    .dataframe tbody tr th:only-of-type {\n",
       "        vertical-align: middle;\n",
       "    }\n",
       "\n",
       "    .dataframe tbody tr th {\n",
       "        vertical-align: top;\n",
       "    }\n",
       "\n",
       "    .dataframe thead th {\n",
       "        text-align: right;\n",
       "    }\n",
       "</style>\n",
       "<table border=\"1\" class=\"dataframe\">\n",
       "  <thead>\n",
       "    <tr style=\"text-align: right;\">\n",
       "      <th></th>\n",
       "      <th>Regions</th>\n",
       "      <th>Stage 2</th>\n",
       "      <th>Stage 3</th>\n",
       "      <th>Stage 4</th>\n",
       "      <th>Stage 5</th>\n",
       "      <th>Stage 6</th>\n",
       "    </tr>\n",
       "  </thead>\n",
       "  <tbody>\n",
       "    <tr>\n",
       "      <th>0</th>\n",
       "      <td>Pre-motor</td>\n",
       "      <td>1</td>\n",
       "      <td>3</td>\n",
       "      <td>5</td>\n",
       "      <td>10</td>\n",
       "      <td>1</td>\n",
       "    </tr>\n",
       "    <tr>\n",
       "      <th>1</th>\n",
       "      <td>Subthalamic nucleus</td>\n",
       "      <td>2</td>\n",
       "      <td>2</td>\n",
       "      <td>7</td>\n",
       "      <td>9</td>\n",
       "      <td>1</td>\n",
       "    </tr>\n",
       "    <tr>\n",
       "      <th>2</th>\n",
       "      <td>Striatum</td>\n",
       "      <td>2</td>\n",
       "      <td>2</td>\n",
       "      <td>7</td>\n",
       "      <td>9</td>\n",
       "      <td>1</td>\n",
       "    </tr>\n",
       "    <tr>\n",
       "      <th>3</th>\n",
       "      <td>Dentate nucleus</td>\n",
       "      <td>2</td>\n",
       "      <td>3</td>\n",
       "      <td>9</td>\n",
       "      <td>11</td>\n",
       "      <td>2</td>\n",
       "    </tr>\n",
       "    <tr>\n",
       "      <th>4</th>\n",
       "      <td>Primary motor</td>\n",
       "      <td>1</td>\n",
       "      <td>3</td>\n",
       "      <td>5</td>\n",
       "      <td>9</td>\n",
       "      <td>1</td>\n",
       "    </tr>\n",
       "    <tr>\n",
       "      <th>5</th>\n",
       "      <td>Globus pallidus</td>\n",
       "      <td>2</td>\n",
       "      <td>2</td>\n",
       "      <td>7</td>\n",
       "      <td>9</td>\n",
       "      <td>1</td>\n",
       "    </tr>\n",
       "    <tr>\n",
       "      <th>6</th>\n",
       "      <td>Primary somatosensory</td>\n",
       "      <td>2</td>\n",
       "      <td>3</td>\n",
       "      <td>6</td>\n",
       "      <td>9</td>\n",
       "      <td>2</td>\n",
       "    </tr>\n",
       "    <tr>\n",
       "      <th>7</th>\n",
       "      <td>Cingulate</td>\n",
       "      <td>2</td>\n",
       "      <td>2</td>\n",
       "      <td>6</td>\n",
       "      <td>10</td>\n",
       "      <td>2</td>\n",
       "    </tr>\n",
       "    <tr>\n",
       "      <th>8</th>\n",
       "      <td>Pre-frontal</td>\n",
       "      <td>2</td>\n",
       "      <td>3</td>\n",
       "      <td>10</td>\n",
       "      <td>12</td>\n",
       "      <td>1</td>\n",
       "    </tr>\n",
       "    <tr>\n",
       "      <th>9</th>\n",
       "      <td>Parietal</td>\n",
       "      <td>1</td>\n",
       "      <td>3</td>\n",
       "      <td>5</td>\n",
       "      <td>10</td>\n",
       "      <td>1</td>\n",
       "    </tr>\n",
       "    <tr>\n",
       "      <th>10</th>\n",
       "      <td>Temporal</td>\n",
       "      <td>2</td>\n",
       "      <td>3</td>\n",
       "      <td>6</td>\n",
       "      <td>10</td>\n",
       "      <td>2</td>\n",
       "    </tr>\n",
       "    <tr>\n",
       "      <th>11</th>\n",
       "      <td>Occipital</td>\n",
       "      <td>1</td>\n",
       "      <td>2</td>\n",
       "      <td>9</td>\n",
       "      <td>12</td>\n",
       "      <td>1</td>\n",
       "    </tr>\n",
       "  </tbody>\n",
       "</table>\n",
       "</div>"
      ],
      "text/plain": [
       "                  Regions  Stage 2  Stage 3  Stage 4  Stage 5  Stage 6\n",
       "0               Pre-motor        1        3        5       10        1\n",
       "1     Subthalamic nucleus        2        2        7        9        1\n",
       "2                Striatum        2        2        7        9        1\n",
       "3         Dentate nucleus        2        3        9       11        2\n",
       "4           Primary motor        1        3        5        9        1\n",
       "5         Globus pallidus        2        2        7        9        1\n",
       "6   Primary somatosensory        2        3        6        9        2\n",
       "7               Cingulate        2        2        6       10        2\n",
       "8             Pre-frontal        2        3       10       12        1\n",
       "9                Parietal        1        3        5       10        1\n",
       "10               Temporal        2        3        6       10        2\n",
       "11              Occipital        1        2        9       12        1"
      ]
     },
     "execution_count": 7,
     "metadata": {},
     "output_type": "execute_result"
    }
   ],
   "source": [
    "table1, table2, table3 = data_inspection(data)\n",
    "table1"
   ]
  },
  {
   "cell_type": "code",
   "execution_count": 8,
   "metadata": {},
   "outputs": [
    {
     "data": {
      "text/html": [
       "<div>\n",
       "<style scoped>\n",
       "    .dataframe tbody tr th:only-of-type {\n",
       "        vertical-align: middle;\n",
       "    }\n",
       "\n",
       "    .dataframe tbody tr th {\n",
       "        vertical-align: top;\n",
       "    }\n",
       "\n",
       "    .dataframe thead th {\n",
       "        text-align: right;\n",
       "    }\n",
       "</style>\n",
       "<table border=\"1\" class=\"dataframe\">\n",
       "  <thead>\n",
       "    <tr style=\"text-align: right;\">\n",
       "      <th></th>\n",
       "      <th>Stage_SK</th>\n",
       "      <th>Counts</th>\n",
       "    </tr>\n",
       "  </thead>\n",
       "  <tbody>\n",
       "    <tr>\n",
       "      <th>3</th>\n",
       "      <td>2.0</td>\n",
       "      <td>2</td>\n",
       "    </tr>\n",
       "    <tr>\n",
       "      <th>2</th>\n",
       "      <td>3.0</td>\n",
       "      <td>3</td>\n",
       "    </tr>\n",
       "    <tr>\n",
       "      <th>1</th>\n",
       "      <td>4.0</td>\n",
       "      <td>10</td>\n",
       "    </tr>\n",
       "    <tr>\n",
       "      <th>0</th>\n",
       "      <td>5.0</td>\n",
       "      <td>15</td>\n",
       "    </tr>\n",
       "    <tr>\n",
       "      <th>4</th>\n",
       "      <td>6.0</td>\n",
       "      <td>2</td>\n",
       "    </tr>\n",
       "  </tbody>\n",
       "</table>\n",
       "</div>"
      ],
      "text/plain": [
       "   Stage_SK  Counts\n",
       "3       2.0       2\n",
       "2       3.0       3\n",
       "1       4.0      10\n",
       "0       5.0      15\n",
       "4       6.0       2"
      ]
     },
     "execution_count": 8,
     "metadata": {},
     "output_type": "execute_result"
    }
   ],
   "source": [
    "table2"
   ]
  },
  {
   "cell_type": "code",
   "execution_count": 9,
   "metadata": {},
   "outputs": [
    {
     "data": {
      "text/html": [
       "<div>\n",
       "<style scoped>\n",
       "    .dataframe tbody tr th:only-of-type {\n",
       "        vertical-align: middle;\n",
       "    }\n",
       "\n",
       "    .dataframe tbody tr th {\n",
       "        vertical-align: top;\n",
       "    }\n",
       "\n",
       "    .dataframe thead th {\n",
       "        text-align: right;\n",
       "    }\n",
       "</style>\n",
       "<table border=\"1\" class=\"dataframe\">\n",
       "  <thead>\n",
       "    <tr style=\"text-align: right;\">\n",
       "      <th></th>\n",
       "      <th>PSP subtype</th>\n",
       "      <th>Counts</th>\n",
       "    </tr>\n",
       "  </thead>\n",
       "  <tbody>\n",
       "    <tr>\n",
       "      <th>0</th>\n",
       "      <td>prob. PSP-RS</td>\n",
       "      <td>22</td>\n",
       "    </tr>\n",
       "    <tr>\n",
       "      <th>1</th>\n",
       "      <td>poss. PSP-CBS</td>\n",
       "      <td>4</td>\n",
       "    </tr>\n",
       "    <tr>\n",
       "      <th>2</th>\n",
       "      <td>s.o. PSP-CBS</td>\n",
       "      <td>3</td>\n",
       "    </tr>\n",
       "    <tr>\n",
       "      <th>3</th>\n",
       "      <td>poss. PSP-PGF</td>\n",
       "      <td>1</td>\n",
       "    </tr>\n",
       "    <tr>\n",
       "      <th>4</th>\n",
       "      <td>poss. PSP-SL</td>\n",
       "      <td>1</td>\n",
       "    </tr>\n",
       "    <tr>\n",
       "      <th>5</th>\n",
       "      <td>prob. PSP-F</td>\n",
       "      <td>1</td>\n",
       "    </tr>\n",
       "  </tbody>\n",
       "</table>\n",
       "</div>"
      ],
      "text/plain": [
       "     PSP subtype  Counts\n",
       "0   prob. PSP-RS      22\n",
       "1  poss. PSP-CBS       4\n",
       "2   s.o. PSP-CBS       3\n",
       "3  poss. PSP-PGF       1\n",
       "4   poss. PSP-SL       1\n",
       "5    prob. PSP-F       1"
      ]
     },
     "execution_count": 9,
     "metadata": {},
     "output_type": "execute_result"
    }
   ],
   "source": [
    "table3"
   ]
  },
  {
   "cell_type": "markdown",
   "metadata": {},
   "source": [
    "### 0) Correlation between tau types"
   ]
  },
  {
   "cell_type": "markdown",
   "metadata": {},
   "source": [
    "**Correlation between tau types across all regions**"
   ]
  },
  {
   "cell_type": "code",
   "execution_count": 10,
   "metadata": {},
   "outputs": [
    {
     "data": {
      "text/html": [
       "<div>\n",
       "<style scoped>\n",
       "    .dataframe tbody tr th:only-of-type {\n",
       "        vertical-align: middle;\n",
       "    }\n",
       "\n",
       "    .dataframe tbody tr th {\n",
       "        vertical-align: top;\n",
       "    }\n",
       "\n",
       "    .dataframe thead th {\n",
       "        text-align: right;\n",
       "    }\n",
       "</style>\n",
       "<table border=\"1\" class=\"dataframe\">\n",
       "  <thead>\n",
       "    <tr style=\"text-align: right;\">\n",
       "      <th></th>\n",
       "      <th>Total tau</th>\n",
       "      <th>Tau hallmark</th>\n",
       "      <th>CB</th>\n",
       "      <th>NFT</th>\n",
       "      <th>TA</th>\n",
       "      <th>TF</th>\n",
       "    </tr>\n",
       "  </thead>\n",
       "  <tbody>\n",
       "    <tr>\n",
       "      <th>Total tau</th>\n",
       "      <td>1.000000</td>\n",
       "      <td>0.679472</td>\n",
       "      <td>0.708196</td>\n",
       "      <td>0.369101</td>\n",
       "      <td>0.012028</td>\n",
       "      <td>0.999601</td>\n",
       "    </tr>\n",
       "    <tr>\n",
       "      <th>Tau hallmark</th>\n",
       "      <td>0.679472</td>\n",
       "      <td>1.000000</td>\n",
       "      <td>0.988476</td>\n",
       "      <td>0.612684</td>\n",
       "      <td>0.344962</td>\n",
       "      <td>0.658483</td>\n",
       "    </tr>\n",
       "    <tr>\n",
       "      <th>CB</th>\n",
       "      <td>0.708196</td>\n",
       "      <td>0.988476</td>\n",
       "      <td>1.000000</td>\n",
       "      <td>0.550081</td>\n",
       "      <td>0.219742</td>\n",
       "      <td>0.688391</td>\n",
       "    </tr>\n",
       "    <tr>\n",
       "      <th>NFT</th>\n",
       "      <td>0.369101</td>\n",
       "      <td>0.612684</td>\n",
       "      <td>0.550081</td>\n",
       "      <td>1.000000</td>\n",
       "      <td>0.162686</td>\n",
       "      <td>0.355027</td>\n",
       "    </tr>\n",
       "    <tr>\n",
       "      <th>TA</th>\n",
       "      <td>0.012028</td>\n",
       "      <td>0.344962</td>\n",
       "      <td>0.219742</td>\n",
       "      <td>0.162686</td>\n",
       "      <td>1.000000</td>\n",
       "      <td>-0.000938</td>\n",
       "    </tr>\n",
       "    <tr>\n",
       "      <th>TF</th>\n",
       "      <td>0.999601</td>\n",
       "      <td>0.658483</td>\n",
       "      <td>0.688391</td>\n",
       "      <td>0.355027</td>\n",
       "      <td>-0.000938</td>\n",
       "      <td>1.000000</td>\n",
       "    </tr>\n",
       "  </tbody>\n",
       "</table>\n",
       "</div>"
      ],
      "text/plain": [
       "              Total tau  Tau hallmark        CB       NFT        TA        TF\n",
       "Total tau      1.000000      0.679472  0.708196  0.369101  0.012028  0.999601\n",
       "Tau hallmark   0.679472      1.000000  0.988476  0.612684  0.344962  0.658483\n",
       "CB             0.708196      0.988476  1.000000  0.550081  0.219742  0.688391\n",
       "NFT            0.369101      0.612684  0.550081  1.000000  0.162686  0.355027\n",
       "TA             0.012028      0.344962  0.219742  0.162686  1.000000 -0.000938\n",
       "TF             0.999601      0.658483  0.688391  0.355027 -0.000938  1.000000"
      ]
     },
     "execution_count": 10,
     "metadata": {},
     "output_type": "execute_result"
    }
   ],
   "source": [
    "data_tau = data[['Total_tau_density',\n",
    "                 'Tau_hallmark_density',\n",
    "                 'CB_density',\n",
    "                 'NFT_density',\n",
    "                 'TA_density',\n",
    "                 'Others_density']]\n",
    "data_tau = data_tau.rename(columns={'Total_tau_density': 'Total tau',\n",
    "                                    'Tau_hallmark_density': 'Tau hallmark',\n",
    "                                    'NFT_density': 'NFT',\n",
    "                                    'CB_density': 'CB',\n",
    "                                    'TA_density':'TA',\n",
    "                                    'Others_density':'TF'})\n",
    "data_tau.corr()"
   ]
  },
  {
   "cell_type": "code",
   "execution_count": 11,
   "metadata": {},
   "outputs": [
    {
     "data": {
      "text/html": [
       "<div>\n",
       "<style scoped>\n",
       "    .dataframe tbody tr th:only-of-type {\n",
       "        vertical-align: middle;\n",
       "    }\n",
       "\n",
       "    .dataframe tbody tr th {\n",
       "        vertical-align: top;\n",
       "    }\n",
       "\n",
       "    .dataframe thead th {\n",
       "        text-align: right;\n",
       "    }\n",
       "</style>\n",
       "<table border=\"1\" class=\"dataframe\">\n",
       "  <thead>\n",
       "    <tr style=\"text-align: right;\">\n",
       "      <th></th>\n",
       "      <th>Tau_burden</th>\n",
       "      <th>TF</th>\n",
       "      <th>p_val</th>\n",
       "    </tr>\n",
       "  </thead>\n",
       "  <tbody>\n",
       "    <tr>\n",
       "      <th>0</th>\n",
       "      <td>Total tau</td>\n",
       "      <td>1.000</td>\n",
       "      <td>0.000000e+00</td>\n",
       "    </tr>\n",
       "    <tr>\n",
       "      <th>1</th>\n",
       "      <td>Tau hallmark</td>\n",
       "      <td>0.658</td>\n",
       "      <td>8.120760e-35</td>\n",
       "    </tr>\n",
       "    <tr>\n",
       "      <th>2</th>\n",
       "      <td>CB</td>\n",
       "      <td>0.688</td>\n",
       "      <td>4.104243e-39</td>\n",
       "    </tr>\n",
       "    <tr>\n",
       "      <th>3</th>\n",
       "      <td>NFT</td>\n",
       "      <td>0.355</td>\n",
       "      <td>2.071685e-09</td>\n",
       "    </tr>\n",
       "    <tr>\n",
       "      <th>4</th>\n",
       "      <td>TA</td>\n",
       "      <td>-0.001</td>\n",
       "      <td>9.877847e-01</td>\n",
       "    </tr>\n",
       "    <tr>\n",
       "      <th>5</th>\n",
       "      <td>TF</td>\n",
       "      <td>1.000</td>\n",
       "      <td>0.000000e+00</td>\n",
       "    </tr>\n",
       "  </tbody>\n",
       "</table>\n",
       "</div>"
      ],
      "text/plain": [
       "     Tau_burden     TF         p_val\n",
       "0     Total tau  1.000  0.000000e+00\n",
       "1  Tau hallmark  0.658  8.120760e-35\n",
       "2            CB  0.688  4.104243e-39\n",
       "3           NFT  0.355  2.071685e-09\n",
       "4            TA -0.001  9.877847e-01\n",
       "5            TF  1.000  0.000000e+00"
      ]
     },
     "execution_count": 11,
     "metadata": {},
     "output_type": "execute_result"
    }
   ],
   "source": [
    "correlation_tau(data_tau,'TF')"
   ]
  },
  {
   "cell_type": "code",
   "execution_count": 12,
   "metadata": {},
   "outputs": [
    {
     "data": {
      "image/png": "[encoded data removed]",
      "text/plain": [
       "<Figure size 640x480 with 2 Axes>"
      ]
     },
     "metadata": {},
     "output_type": "display_data"
    }
   ],
   "source": [
    "ax = sns.heatmap(data_tau.corr(),annot=True,fmt=\".2f\")\n",
    "ax.set_xticklabels(ax.get_xticklabels(), rotation=20)\n",
    "plt.show()"
   ]
  },
  {
   "cell_type": "markdown",
   "metadata": {},
   "source": [
    "**Correlation between tau types across cortical regions only**"
   ]
  },
  {
   "cell_type": "code",
   "execution_count": 13,
   "metadata": {},
   "outputs": [
    {
     "data": {
      "text/html": [
       "<div>\n",
       "<style scoped>\n",
       "    .dataframe tbody tr th:only-of-type {\n",
       "        vertical-align: middle;\n",
       "    }\n",
       "\n",
       "    .dataframe tbody tr th {\n",
       "        vertical-align: top;\n",
       "    }\n",
       "\n",
       "    .dataframe thead th {\n",
       "        text-align: right;\n",
       "    }\n",
       "</style>\n",
       "<table border=\"1\" class=\"dataframe\">\n",
       "  <thead>\n",
       "    <tr style=\"text-align: right;\">\n",
       "      <th></th>\n",
       "      <th>Total tau</th>\n",
       "      <th>Tau hallmark</th>\n",
       "      <th>CB</th>\n",
       "      <th>NFT</th>\n",
       "      <th>TA</th>\n",
       "      <th>TF</th>\n",
       "    </tr>\n",
       "  </thead>\n",
       "  <tbody>\n",
       "    <tr>\n",
       "      <th>Total tau</th>\n",
       "      <td>1.000000</td>\n",
       "      <td>0.945106</td>\n",
       "      <td>0.886068</td>\n",
       "      <td>0.685096</td>\n",
       "      <td>0.881906</td>\n",
       "      <td>0.997265</td>\n",
       "    </tr>\n",
       "    <tr>\n",
       "      <th>Tau hallmark</th>\n",
       "      <td>0.945106</td>\n",
       "      <td>1.000000</td>\n",
       "      <td>0.981281</td>\n",
       "      <td>0.726763</td>\n",
       "      <td>0.784015</td>\n",
       "      <td>0.918372</td>\n",
       "    </tr>\n",
       "    <tr>\n",
       "      <th>CB</th>\n",
       "      <td>0.886068</td>\n",
       "      <td>0.981281</td>\n",
       "      <td>1.000000</td>\n",
       "      <td>0.670880</td>\n",
       "      <td>0.659153</td>\n",
       "      <td>0.851109</td>\n",
       "    </tr>\n",
       "    <tr>\n",
       "      <th>NFT</th>\n",
       "      <td>0.685096</td>\n",
       "      <td>0.726763</td>\n",
       "      <td>0.670880</td>\n",
       "      <td>1.000000</td>\n",
       "      <td>0.538711</td>\n",
       "      <td>0.665293</td>\n",
       "    </tr>\n",
       "    <tr>\n",
       "      <th>TA</th>\n",
       "      <td>0.881906</td>\n",
       "      <td>0.784015</td>\n",
       "      <td>0.659153</td>\n",
       "      <td>0.538711</td>\n",
       "      <td>1.000000</td>\n",
       "      <td>0.890685</td>\n",
       "    </tr>\n",
       "    <tr>\n",
       "      <th>TF</th>\n",
       "      <td>0.997265</td>\n",
       "      <td>0.918372</td>\n",
       "      <td>0.851109</td>\n",
       "      <td>0.665293</td>\n",
       "      <td>0.890685</td>\n",
       "      <td>1.000000</td>\n",
       "    </tr>\n",
       "  </tbody>\n",
       "</table>\n",
       "</div>"
      ],
      "text/plain": [
       "              Total tau  Tau hallmark        CB       NFT        TA        TF\n",
       "Total tau      1.000000      0.945106  0.886068  0.685096  0.881906  0.997265\n",
       "Tau hallmark   0.945106      1.000000  0.981281  0.726763  0.784015  0.918372\n",
       "CB             0.886068      0.981281  1.000000  0.670880  0.659153  0.851109\n",
       "NFT            0.685096      0.726763  0.670880  1.000000  0.538711  0.665293\n",
       "TA             0.881906      0.784015  0.659153  0.538711  1.000000  0.890685\n",
       "TF             0.997265      0.918372  0.851109  0.665293  0.890685  1.000000"
      ]
     },
     "execution_count": 13,
     "metadata": {},
     "output_type": "execute_result"
    }
   ],
   "source": [
    "subcortical_regions = ['Subthalamic nucleus',\n",
    "                       'Globus pallidus',\n",
    "                       'Striatum',\n",
    "                       'Dentate nucleus'\n",
    "                      ]\n",
    "cortical_data = data[~(data['region_name'].isin(subcortical_regions))]\n",
    "cortical_data_tau = cortical_data[['Total_tau_density',\n",
    "                                   'Tau_hallmark_density',\n",
    "                                   'CB_density',\n",
    "                                   'NFT_density',\n",
    "                                   'TA_density',\n",
    "                                   'Others_density']]\n",
    "cortical_data_tau = cortical_data_tau.rename(columns={'Total_tau_density': 'Total tau',\n",
    "                                    'Tau_hallmark_density': 'Tau hallmark',\n",
    "                                    'NFT_density': 'NFT',\n",
    "                                    'CB_density': 'CB',\n",
    "                                    'TA_density':'TA',\n",
    "                                    'Others_density':'TF'})\n",
    "cortical_data_tau.corr()"
   ]
  },
  {
   "cell_type": "code",
   "execution_count": 14,
   "metadata": {},
   "outputs": [
    {
     "data": {
      "text/html": [
       "<div>\n",
       "<style scoped>\n",
       "    .dataframe tbody tr th:only-of-type {\n",
       "        vertical-align: middle;\n",
       "    }\n",
       "\n",
       "    .dataframe tbody tr th {\n",
       "        vertical-align: top;\n",
       "    }\n",
       "\n",
       "    .dataframe thead th {\n",
       "        text-align: right;\n",
       "    }\n",
       "</style>\n",
       "<table border=\"1\" class=\"dataframe\">\n",
       "  <thead>\n",
       "    <tr style=\"text-align: right;\">\n",
       "      <th></th>\n",
       "      <th>Tau_burden</th>\n",
       "      <th>TF</th>\n",
       "      <th>p_val</th>\n",
       "    </tr>\n",
       "  </thead>\n",
       "  <tbody>\n",
       "    <tr>\n",
       "      <th>0</th>\n",
       "      <td>Total tau</td>\n",
       "      <td>0.997</td>\n",
       "      <td>3.419710e-202</td>\n",
       "    </tr>\n",
       "    <tr>\n",
       "      <th>1</th>\n",
       "      <td>Tau hallmark</td>\n",
       "      <td>0.918</td>\n",
       "      <td>3.559390e-73</td>\n",
       "    </tr>\n",
       "    <tr>\n",
       "      <th>2</th>\n",
       "      <td>CB</td>\n",
       "      <td>0.851</td>\n",
       "      <td>2.055748e-51</td>\n",
       "    </tr>\n",
       "    <tr>\n",
       "      <th>3</th>\n",
       "      <td>NFT</td>\n",
       "      <td>0.665</td>\n",
       "      <td>3.062665e-24</td>\n",
       "    </tr>\n",
       "    <tr>\n",
       "      <th>4</th>\n",
       "      <td>TA</td>\n",
       "      <td>0.891</td>\n",
       "      <td>1.701638e-62</td>\n",
       "    </tr>\n",
       "    <tr>\n",
       "      <th>5</th>\n",
       "      <td>TF</td>\n",
       "      <td>1.000</td>\n",
       "      <td>0.000000e+00</td>\n",
       "    </tr>\n",
       "  </tbody>\n",
       "</table>\n",
       "</div>"
      ],
      "text/plain": [
       "     Tau_burden     TF          p_val\n",
       "0     Total tau  0.997  3.419710e-202\n",
       "1  Tau hallmark  0.918   3.559390e-73\n",
       "2            CB  0.851   2.055748e-51\n",
       "3           NFT  0.665   3.062665e-24\n",
       "4            TA  0.891   1.701638e-62\n",
       "5            TF  1.000   0.000000e+00"
      ]
     },
     "execution_count": 14,
     "metadata": {},
     "output_type": "execute_result"
    }
   ],
   "source": [
    "correlation_tau(cortical_data_tau,'TF')"
   ]
  },
  {
   "cell_type": "code",
   "execution_count": 15,
   "metadata": {},
   "outputs": [
    {
     "data": {
      "image/png": "[encoded data removed]",
      "text/plain": [
       "<Figure size 640x480 with 2 Axes>"
      ]
     },
     "metadata": {},
     "output_type": "display_data"
    }
   ],
   "source": [
    "ax=sns.heatmap(cortical_data_tau.corr(),annot=True,fmt=\".2f\")\n",
    "ax.set_xticklabels(ax.get_xticklabels(), rotation=20)\n",
    "plt.show()"
   ]
  },
  {
   "cell_type": "markdown",
   "metadata": {},
   "source": [
    "**Correlation between tau types across subcortical regions only**"
   ]
  },
  {
   "cell_type": "code",
   "execution_count": 16,
   "metadata": {},
   "outputs": [
    {
     "data": {
      "text/html": [
       "<div>\n",
       "<style scoped>\n",
       "    .dataframe tbody tr th:only-of-type {\n",
       "        vertical-align: middle;\n",
       "    }\n",
       "\n",
       "    .dataframe tbody tr th {\n",
       "        vertical-align: top;\n",
       "    }\n",
       "\n",
       "    .dataframe thead th {\n",
       "        text-align: right;\n",
       "    }\n",
       "</style>\n",
       "<table border=\"1\" class=\"dataframe\">\n",
       "  <thead>\n",
       "    <tr style=\"text-align: right;\">\n",
       "      <th></th>\n",
       "      <th>Total tau</th>\n",
       "      <th>Tau hallmark</th>\n",
       "      <th>CB</th>\n",
       "      <th>NFT</th>\n",
       "      <th>TF</th>\n",
       "    </tr>\n",
       "  </thead>\n",
       "  <tbody>\n",
       "    <tr>\n",
       "      <th>Total tau</th>\n",
       "      <td>1.000000</td>\n",
       "      <td>0.716678</td>\n",
       "      <td>0.721610</td>\n",
       "      <td>0.289901</td>\n",
       "      <td>0.999745</td>\n",
       "    </tr>\n",
       "    <tr>\n",
       "      <th>Tau hallmark</th>\n",
       "      <td>0.716678</td>\n",
       "      <td>1.000000</td>\n",
       "      <td>0.996571</td>\n",
       "      <td>0.504417</td>\n",
       "      <td>0.700747</td>\n",
       "    </tr>\n",
       "    <tr>\n",
       "      <th>CB</th>\n",
       "      <td>0.721610</td>\n",
       "      <td>0.996571</td>\n",
       "      <td>1.000000</td>\n",
       "      <td>0.436583</td>\n",
       "      <td>0.705903</td>\n",
       "    </tr>\n",
       "    <tr>\n",
       "      <th>NFT</th>\n",
       "      <td>0.289901</td>\n",
       "      <td>0.504417</td>\n",
       "      <td>0.436583</td>\n",
       "      <td>1.000000</td>\n",
       "      <td>0.280222</td>\n",
       "    </tr>\n",
       "    <tr>\n",
       "      <th>TF</th>\n",
       "      <td>0.999745</td>\n",
       "      <td>0.700747</td>\n",
       "      <td>0.705903</td>\n",
       "      <td>0.280222</td>\n",
       "      <td>1.000000</td>\n",
       "    </tr>\n",
       "  </tbody>\n",
       "</table>\n",
       "</div>"
      ],
      "text/plain": [
       "              Total tau  Tau hallmark        CB       NFT        TF\n",
       "Total tau      1.000000      0.716678  0.721610  0.289901  0.999745\n",
       "Tau hallmark   0.716678      1.000000  0.996571  0.504417  0.700747\n",
       "CB             0.721610      0.996571  1.000000  0.436583  0.705903\n",
       "NFT            0.289901      0.504417  0.436583  1.000000  0.280222\n",
       "TF             0.999745      0.700747  0.705903  0.280222  1.000000"
      ]
     },
     "execution_count": 16,
     "metadata": {},
     "output_type": "execute_result"
    }
   ],
   "source": [
    "subcortical_data = data[(data['region_name'].isin(subcortical_regions))]\n",
    "subcortical_data_tau = subcortical_data[['Total_tau_density',\n",
    "                                         'Tau_hallmark_density',\n",
    "                                         'CB_density',\n",
    "                                         'NFT_density',\n",
    "                                         'Others_density']]\n",
    "subcortical_data_tau = subcortical_data_tau.rename(columns={'Total_tau_density': 'Total tau',\n",
    "                                    'Tau_hallmark_density': 'Tau hallmark',\n",
    "                                    'NFT_density': 'NFT',\n",
    "                                    'CB_density': 'CB',\n",
    "                                    'Others_density':'TF'})                                         \n",
    "subcortical_data_tau.corr()"
   ]
  },
  {
   "cell_type": "code",
   "execution_count": 17,
   "metadata": {},
   "outputs": [
    {
     "data": {
      "text/html": [
       "<div>\n",
       "<style scoped>\n",
       "    .dataframe tbody tr th:only-of-type {\n",
       "        vertical-align: middle;\n",
       "    }\n",
       "\n",
       "    .dataframe tbody tr th {\n",
       "        vertical-align: top;\n",
       "    }\n",
       "\n",
       "    .dataframe thead th {\n",
       "        text-align: right;\n",
       "    }\n",
       "</style>\n",
       "<table border=\"1\" class=\"dataframe\">\n",
       "  <thead>\n",
       "    <tr style=\"text-align: right;\">\n",
       "      <th></th>\n",
       "      <th>Tau_burden</th>\n",
       "      <th>TF</th>\n",
       "      <th>p_val</th>\n",
       "    </tr>\n",
       "  </thead>\n",
       "  <tbody>\n",
       "    <tr>\n",
       "      <th>0</th>\n",
       "      <td>Total tau</td>\n",
       "      <td>1.000</td>\n",
       "      <td>1.142590e-146</td>\n",
       "    </tr>\n",
       "    <tr>\n",
       "      <th>1</th>\n",
       "      <td>Tau hallmark</td>\n",
       "      <td>0.701</td>\n",
       "      <td>1.485470e-14</td>\n",
       "    </tr>\n",
       "    <tr>\n",
       "      <th>2</th>\n",
       "      <td>CB</td>\n",
       "      <td>0.706</td>\n",
       "      <td>7.844202e-15</td>\n",
       "    </tr>\n",
       "    <tr>\n",
       "      <th>3</th>\n",
       "      <td>NFT</td>\n",
       "      <td>0.280</td>\n",
       "      <td>7.471055e-03</td>\n",
       "    </tr>\n",
       "    <tr>\n",
       "      <th>4</th>\n",
       "      <td>TF</td>\n",
       "      <td>1.000</td>\n",
       "      <td>0.000000e+00</td>\n",
       "    </tr>\n",
       "  </tbody>\n",
       "</table>\n",
       "</div>"
      ],
      "text/plain": [
       "     Tau_burden     TF          p_val\n",
       "0     Total tau  1.000  1.142590e-146\n",
       "1  Tau hallmark  0.701   1.485470e-14\n",
       "2            CB  0.706   7.844202e-15\n",
       "3           NFT  0.280   7.471055e-03\n",
       "4            TF  1.000   0.000000e+00"
      ]
     },
     "execution_count": 17,
     "metadata": {},
     "output_type": "execute_result"
    }
   ],
   "source": [
    "correlation_tau_noTA(subcortical_data_tau,'TF')"
   ]
  },
  {
   "cell_type": "code",
   "execution_count": 18,
   "metadata": {},
   "outputs": [
    {
     "data": {
      "image/png": "[encoded data removed]",
      "text/plain": [
       "<Figure size 640x480 with 2 Axes>"
      ]
     },
     "metadata": {},
     "output_type": "display_data"
    }
   ],
   "source": [
    "ax=sns.heatmap(subcortical_data_tau.corr(),annot=True,fmt=\".2f\")\n",
    "ax.set_xticklabels(ax.get_xticklabels(), rotation=20)\n",
    "plt.show()"
   ]
  },
  {
   "attachments": {},
   "cell_type": "markdown",
   "metadata": {},
   "source": [
    "### 1) Tau density & Stage_SK"
   ]
  },
  {
   "attachments": {},
   "cell_type": "markdown",
   "metadata": {},
   "source": [
    "**Correlation betweeen tau burden & Stage_SK: all regions**"
   ]
  },
  {
   "cell_type": "code",
   "execution_count": 19,
   "metadata": {},
   "outputs": [
    {
     "data": {
      "text/html": [
       "<div>\n",
       "<style scoped>\n",
       "    .dataframe tbody tr th:only-of-type {\n",
       "        vertical-align: middle;\n",
       "    }\n",
       "\n",
       "    .dataframe tbody tr th {\n",
       "        vertical-align: top;\n",
       "    }\n",
       "\n",
       "    .dataframe thead th {\n",
       "        text-align: right;\n",
       "    }\n",
       "</style>\n",
       "<table border=\"1\" class=\"dataframe\">\n",
       "  <thead>\n",
       "    <tr style=\"text-align: right;\">\n",
       "      <th></th>\n",
       "      <th>Tau_burden</th>\n",
       "      <th>Stage_SK</th>\n",
       "      <th>p_val</th>\n",
       "    </tr>\n",
       "  </thead>\n",
       "  <tbody>\n",
       "    <tr>\n",
       "      <th>0</th>\n",
       "      <td>Total_tau_density</td>\n",
       "      <td>0.373</td>\n",
       "      <td>2.552307e-10</td>\n",
       "    </tr>\n",
       "    <tr>\n",
       "      <th>1</th>\n",
       "      <td>Tau_hallmark_density</td>\n",
       "      <td>0.473</td>\n",
       "      <td>1.953975e-16</td>\n",
       "    </tr>\n",
       "    <tr>\n",
       "      <th>2</th>\n",
       "      <td>CB_density</td>\n",
       "      <td>0.459</td>\n",
       "      <td>1.888980e-15</td>\n",
       "    </tr>\n",
       "    <tr>\n",
       "      <th>3</th>\n",
       "      <td>NFT_density</td>\n",
       "      <td>0.369</td>\n",
       "      <td>4.100313e-10</td>\n",
       "    </tr>\n",
       "    <tr>\n",
       "      <th>4</th>\n",
       "      <td>TA_density</td>\n",
       "      <td>0.368</td>\n",
       "      <td>4.909268e-10</td>\n",
       "    </tr>\n",
       "    <tr>\n",
       "      <th>5</th>\n",
       "      <td>Others_density</td>\n",
       "      <td>0.358</td>\n",
       "      <td>1.477344e-09</td>\n",
       "    </tr>\n",
       "    <tr>\n",
       "      <th>6</th>\n",
       "      <td>Others_AF</td>\n",
       "      <td>0.310</td>\n",
       "      <td>2.050735e-07</td>\n",
       "    </tr>\n",
       "  </tbody>\n",
       "</table>\n",
       "</div>"
      ],
      "text/plain": [
       "             Tau_burden  Stage_SK         p_val\n",
       "0     Total_tau_density     0.373  2.552307e-10\n",
       "1  Tau_hallmark_density     0.473  1.953975e-16\n",
       "2            CB_density     0.459  1.888980e-15\n",
       "3           NFT_density     0.369  4.100313e-10\n",
       "4            TA_density     0.368  4.909268e-10\n",
       "5        Others_density     0.358  1.477344e-09\n",
       "6             Others_AF     0.310  2.050735e-07"
      ]
     },
     "execution_count": 19,
     "metadata": {},
     "output_type": "execute_result"
    }
   ],
   "source": [
    "correlation_table(data,'Stage_SK')"
   ]
  },
  {
   "attachments": {},
   "cell_type": "markdown",
   "metadata": {},
   "source": [
    "**Correlation betweeen tau burden & Stage_SK: cortical regions**"
   ]
  },
  {
   "cell_type": "code",
   "execution_count": 20,
   "metadata": {},
   "outputs": [
    {
     "data": {
      "text/html": [
       "<div>\n",
       "<style scoped>\n",
       "    .dataframe tbody tr th:only-of-type {\n",
       "        vertical-align: middle;\n",
       "    }\n",
       "\n",
       "    .dataframe tbody tr th {\n",
       "        vertical-align: top;\n",
       "    }\n",
       "\n",
       "    .dataframe thead th {\n",
       "        text-align: right;\n",
       "    }\n",
       "</style>\n",
       "<table border=\"1\" class=\"dataframe\">\n",
       "  <thead>\n",
       "    <tr style=\"text-align: right;\">\n",
       "      <th></th>\n",
       "      <th>Tau_burden</th>\n",
       "      <th>Stage_SK</th>\n",
       "      <th>p_val</th>\n",
       "    </tr>\n",
       "  </thead>\n",
       "  <tbody>\n",
       "    <tr>\n",
       "      <th>0</th>\n",
       "      <td>Total_tau_density</td>\n",
       "      <td>0.568</td>\n",
       "      <td>1.048961e-16</td>\n",
       "    </tr>\n",
       "    <tr>\n",
       "      <th>1</th>\n",
       "      <td>Tau_hallmark_density</td>\n",
       "      <td>0.585</td>\n",
       "      <td>8.635678e-18</td>\n",
       "    </tr>\n",
       "    <tr>\n",
       "      <th>2</th>\n",
       "      <td>CB_density</td>\n",
       "      <td>0.577</td>\n",
       "      <td>2.861183e-17</td>\n",
       "    </tr>\n",
       "    <tr>\n",
       "      <th>3</th>\n",
       "      <td>NFT_density</td>\n",
       "      <td>0.511</td>\n",
       "      <td>2.854953e-13</td>\n",
       "    </tr>\n",
       "    <tr>\n",
       "      <th>4</th>\n",
       "      <td>TA_density</td>\n",
       "      <td>0.618</td>\n",
       "      <td>3.275235e-20</td>\n",
       "    </tr>\n",
       "    <tr>\n",
       "      <th>5</th>\n",
       "      <td>Others_density</td>\n",
       "      <td>0.557</td>\n",
       "      <td>5.519859e-16</td>\n",
       "    </tr>\n",
       "    <tr>\n",
       "      <th>6</th>\n",
       "      <td>Others_AF</td>\n",
       "      <td>0.558</td>\n",
       "      <td>4.719558e-16</td>\n",
       "    </tr>\n",
       "  </tbody>\n",
       "</table>\n",
       "</div>"
      ],
      "text/plain": [
       "             Tau_burden  Stage_SK         p_val\n",
       "0     Total_tau_density     0.568  1.048961e-16\n",
       "1  Tau_hallmark_density     0.585  8.635678e-18\n",
       "2            CB_density     0.577  2.861183e-17\n",
       "3           NFT_density     0.511  2.854953e-13\n",
       "4            TA_density     0.618  3.275235e-20\n",
       "5        Others_density     0.557  5.519859e-16\n",
       "6             Others_AF     0.558  4.719558e-16"
      ]
     },
     "execution_count": 20,
     "metadata": {},
     "output_type": "execute_result"
    }
   ],
   "source": [
    "subcortical_regions = ['Subthalamic nucleus',\n",
    "                       'Globus pallidus',\n",
    "                       'Striatum',\n",
    "                       'Dentate nucleus'\n",
    "                      ]\n",
    "cortical_data = data[~(data['region_name'].isin(subcortical_regions))]\n",
    "correlation_table(cortical_data,'Stage_SK')"
   ]
  },
  {
   "attachments": {},
   "cell_type": "markdown",
   "metadata": {},
   "source": [
    "Total tau correlation is stronger than only consider cortical regions as opposed to all regions. \n",
    "\n",
    "It is TA density that is espeically high."
   ]
  },
  {
   "attachments": {},
   "cell_type": "markdown",
   "metadata": {},
   "source": [
    "**Correlation betweeen tau burden & Stage_SK: subcortical regions**"
   ]
  },
  {
   "cell_type": "code",
   "execution_count": 21,
   "metadata": {},
   "outputs": [
    {
     "data": {
      "text/html": [
       "<div>\n",
       "<style scoped>\n",
       "    .dataframe tbody tr th:only-of-type {\n",
       "        vertical-align: middle;\n",
       "    }\n",
       "\n",
       "    .dataframe tbody tr th {\n",
       "        vertical-align: top;\n",
       "    }\n",
       "\n",
       "    .dataframe thead th {\n",
       "        text-align: right;\n",
       "    }\n",
       "</style>\n",
       "<table border=\"1\" class=\"dataframe\">\n",
       "  <thead>\n",
       "    <tr style=\"text-align: right;\">\n",
       "      <th></th>\n",
       "      <th>Tau_burden</th>\n",
       "      <th>Stage_SK</th>\n",
       "      <th>p_val</th>\n",
       "    </tr>\n",
       "  </thead>\n",
       "  <tbody>\n",
       "    <tr>\n",
       "      <th>0</th>\n",
       "      <td>Total_tau_density</td>\n",
       "      <td>0.266</td>\n",
       "      <td>0.011206</td>\n",
       "    </tr>\n",
       "    <tr>\n",
       "      <th>1</th>\n",
       "      <td>Tau_hallmark_density</td>\n",
       "      <td>0.391</td>\n",
       "      <td>0.000141</td>\n",
       "    </tr>\n",
       "    <tr>\n",
       "      <th>2</th>\n",
       "      <td>CB_density</td>\n",
       "      <td>0.378</td>\n",
       "      <td>0.000238</td>\n",
       "    </tr>\n",
       "    <tr>\n",
       "      <th>3</th>\n",
       "      <td>NFT_density</td>\n",
       "      <td>0.240</td>\n",
       "      <td>0.022467</td>\n",
       "    </tr>\n",
       "    <tr>\n",
       "      <th>4</th>\n",
       "      <td>TA_density</td>\n",
       "      <td>-0.007</td>\n",
       "      <td>0.951491</td>\n",
       "    </tr>\n",
       "    <tr>\n",
       "      <th>5</th>\n",
       "      <td>Others_density</td>\n",
       "      <td>0.258</td>\n",
       "      <td>0.013954</td>\n",
       "    </tr>\n",
       "    <tr>\n",
       "      <th>6</th>\n",
       "      <td>Others_AF</td>\n",
       "      <td>0.213</td>\n",
       "      <td>0.043394</td>\n",
       "    </tr>\n",
       "  </tbody>\n",
       "</table>\n",
       "</div>"
      ],
      "text/plain": [
       "             Tau_burden  Stage_SK     p_val\n",
       "0     Total_tau_density     0.266  0.011206\n",
       "1  Tau_hallmark_density     0.391  0.000141\n",
       "2            CB_density     0.378  0.000238\n",
       "3           NFT_density     0.240  0.022467\n",
       "4            TA_density    -0.007  0.951491\n",
       "5        Others_density     0.258  0.013954\n",
       "6             Others_AF     0.213  0.043394"
      ]
     },
     "execution_count": 21,
     "metadata": {},
     "output_type": "execute_result"
    }
   ],
   "source": [
    "subcortical_data = data[(data['region_name'].isin(subcortical_regions))]\n",
    "correlation_table(subcortical_data,'Stage_SK')"
   ]
  },
  {
   "attachments": {},
   "cell_type": "markdown",
   "metadata": {},
   "source": [
    "Total tau correlation is weaked when considering only subcortical regions, likely because they are heavily affected early on in the disease course.\n",
    "\n",
    "It is CB density that is especially high."
   ]
  },
  {
   "attachments": {},
   "cell_type": "markdown",
   "metadata": {},
   "source": [
    "**Correlation betweeen tau burden & Stage_SK: regions with TA quantified**"
   ]
  },
  {
   "cell_type": "code",
   "execution_count": 22,
   "metadata": {},
   "outputs": [
    {
     "data": {
      "text/html": [
       "<div>\n",
       "<style scoped>\n",
       "    .dataframe tbody tr th:only-of-type {\n",
       "        vertical-align: middle;\n",
       "    }\n",
       "\n",
       "    .dataframe tbody tr th {\n",
       "        vertical-align: top;\n",
       "    }\n",
       "\n",
       "    .dataframe thead th {\n",
       "        text-align: right;\n",
       "    }\n",
       "</style>\n",
       "<table border=\"1\" class=\"dataframe\">\n",
       "  <thead>\n",
       "    <tr style=\"text-align: right;\">\n",
       "      <th></th>\n",
       "      <th>Tau_burden</th>\n",
       "      <th>Stage_SK</th>\n",
       "      <th>p_val</th>\n",
       "    </tr>\n",
       "  </thead>\n",
       "  <tbody>\n",
       "    <tr>\n",
       "      <th>0</th>\n",
       "      <td>Total_tau_density</td>\n",
       "      <td>0.538</td>\n",
       "      <td>2.018235e-16</td>\n",
       "    </tr>\n",
       "    <tr>\n",
       "      <th>1</th>\n",
       "      <td>Tau_hallmark_density</td>\n",
       "      <td>0.577</td>\n",
       "      <td>3.551500e-19</td>\n",
       "    </tr>\n",
       "    <tr>\n",
       "      <th>2</th>\n",
       "      <td>CB_density</td>\n",
       "      <td>0.568</td>\n",
       "      <td>1.665117e-18</td>\n",
       "    </tr>\n",
       "    <tr>\n",
       "      <th>3</th>\n",
       "      <td>NFT_density</td>\n",
       "      <td>0.509</td>\n",
       "      <td>1.447017e-14</td>\n",
       "    </tr>\n",
       "    <tr>\n",
       "      <th>4</th>\n",
       "      <td>TA_density</td>\n",
       "      <td>0.591</td>\n",
       "      <td>3.244190e-20</td>\n",
       "    </tr>\n",
       "    <tr>\n",
       "      <th>5</th>\n",
       "      <td>Others_density</td>\n",
       "      <td>0.523</td>\n",
       "      <td>1.833980e-15</td>\n",
       "    </tr>\n",
       "    <tr>\n",
       "      <th>6</th>\n",
       "      <td>Others_AF</td>\n",
       "      <td>0.468</td>\n",
       "      <td>2.802127e-12</td>\n",
       "    </tr>\n",
       "  </tbody>\n",
       "</table>\n",
       "</div>"
      ],
      "text/plain": [
       "             Tau_burden  Stage_SK         p_val\n",
       "0     Total_tau_density     0.538  2.018235e-16\n",
       "1  Tau_hallmark_density     0.577  3.551500e-19\n",
       "2            CB_density     0.568  1.665117e-18\n",
       "3           NFT_density     0.509  1.447017e-14\n",
       "4            TA_density     0.591  3.244190e-20\n",
       "5        Others_density     0.523  1.833980e-15\n",
       "6             Others_AF     0.468  2.802127e-12"
      ]
     },
     "execution_count": 22,
     "metadata": {},
     "output_type": "execute_result"
    }
   ],
   "source": [
    "data_with_TA = data[(data['region_name']!='Subthalamic nucleus')&\n",
    "                    (data['region_name']!='Globus pallidus')&\n",
    "                    (data['region_name']!='Dentate nucleus')]\n",
    "\n",
    "correlation_table(data_with_TA,'Stage_SK')"
   ]
  },
  {
   "attachments": {},
   "cell_type": "markdown",
   "metadata": {},
   "source": [
    "TA density is strongly correlated with Stage_SK in regions it can be quantified."
   ]
  },
  {
   "cell_type": "code",
   "execution_count": 23,
   "metadata": {},
   "outputs": [
    {
     "name": "stderr",
     "output_type": "stream",
     "text": [
      "c:\\Users\\mokur\\anaconda3\\lib\\site-packages\\scipy\\stats\\_stats_py.py:4916: ConstantInputWarning: An input array is constant; the correlation coefficient is not defined.\n",
      "  warnings.warn(stats.ConstantInputWarning(warn_msg))\n"
     ]
    },
    {
     "data": {
      "text/html": [
       "<div>\n",
       "<style scoped>\n",
       "    .dataframe tbody tr th:only-of-type {\n",
       "        vertical-align: middle;\n",
       "    }\n",
       "\n",
       "    .dataframe tbody tr th {\n",
       "        vertical-align: top;\n",
       "    }\n",
       "\n",
       "    .dataframe thead th {\n",
       "        text-align: right;\n",
       "    }\n",
       "</style>\n",
       "<table border=\"1\" class=\"dataframe\">\n",
       "  <thead>\n",
       "    <tr style=\"text-align: right;\">\n",
       "      <th></th>\n",
       "      <th>Tau_burden</th>\n",
       "      <th>Stage_SK</th>\n",
       "      <th>p_val</th>\n",
       "    </tr>\n",
       "  </thead>\n",
       "  <tbody>\n",
       "    <tr>\n",
       "      <th>0</th>\n",
       "      <td>Total_tau_density</td>\n",
       "      <td>0.315</td>\n",
       "      <td>0.008424</td>\n",
       "    </tr>\n",
       "    <tr>\n",
       "      <th>1</th>\n",
       "      <td>Tau_hallmark_density</td>\n",
       "      <td>0.432</td>\n",
       "      <td>0.000208</td>\n",
       "    </tr>\n",
       "    <tr>\n",
       "      <th>2</th>\n",
       "      <td>CB_density</td>\n",
       "      <td>0.426</td>\n",
       "      <td>0.000264</td>\n",
       "    </tr>\n",
       "    <tr>\n",
       "      <th>3</th>\n",
       "      <td>NFT_density</td>\n",
       "      <td>0.284</td>\n",
       "      <td>0.018159</td>\n",
       "    </tr>\n",
       "    <tr>\n",
       "      <th>4</th>\n",
       "      <td>TA_density</td>\n",
       "      <td>NaN</td>\n",
       "      <td>NaN</td>\n",
       "    </tr>\n",
       "    <tr>\n",
       "      <th>5</th>\n",
       "      <td>Others_density</td>\n",
       "      <td>0.306</td>\n",
       "      <td>0.010638</td>\n",
       "    </tr>\n",
       "    <tr>\n",
       "      <th>6</th>\n",
       "      <td>Others_AF</td>\n",
       "      <td>0.214</td>\n",
       "      <td>0.077473</td>\n",
       "    </tr>\n",
       "  </tbody>\n",
       "</table>\n",
       "</div>"
      ],
      "text/plain": [
       "             Tau_burden  Stage_SK     p_val\n",
       "0     Total_tau_density     0.315  0.008424\n",
       "1  Tau_hallmark_density     0.432  0.000208\n",
       "2            CB_density     0.426  0.000264\n",
       "3           NFT_density     0.284  0.018159\n",
       "4            TA_density       NaN       NaN\n",
       "5        Others_density     0.306  0.010638\n",
       "6             Others_AF     0.214  0.077473"
      ]
     },
     "execution_count": 23,
     "metadata": {},
     "output_type": "execute_result"
    }
   ],
   "source": [
    "data_without_TA = data[(data['region_name']=='Subthalamic nucleus')|\n",
    "                       (data['region_name']=='Globus pallidus')|\n",
    "                       (data['region_name']=='Dentate nucleus')]\n",
    "\n",
    "correlation_table(data_without_TA,'Stage_SK')"
   ]
  },
  {
   "attachments": {},
   "cell_type": "markdown",
   "metadata": {},
   "source": [
    "In regions where TA cannot be quantified, it is CB density that correlates best with Stage_SK\n"
   ]
  },
  {
   "attachments": {},
   "cell_type": "markdown",
   "metadata": {},
   "source": [
    "Kovac's region"
   ]
  },
  {
   "cell_type": "code",
   "execution_count": 24,
   "metadata": {},
   "outputs": [
    {
     "data": {
      "text/html": [
       "<div>\n",
       "<style scoped>\n",
       "    .dataframe tbody tr th:only-of-type {\n",
       "        vertical-align: middle;\n",
       "    }\n",
       "\n",
       "    .dataframe tbody tr th {\n",
       "        vertical-align: top;\n",
       "    }\n",
       "\n",
       "    .dataframe thead th {\n",
       "        text-align: right;\n",
       "    }\n",
       "</style>\n",
       "<table border=\"1\" class=\"dataframe\">\n",
       "  <thead>\n",
       "    <tr style=\"text-align: right;\">\n",
       "      <th></th>\n",
       "      <th>Tau_burden</th>\n",
       "      <th>Stage_SK</th>\n",
       "      <th>p_val</th>\n",
       "    </tr>\n",
       "  </thead>\n",
       "  <tbody>\n",
       "    <tr>\n",
       "      <th>0</th>\n",
       "      <td>Total_tau_density</td>\n",
       "      <td>0.226</td>\n",
       "      <td>0.006693</td>\n",
       "    </tr>\n",
       "    <tr>\n",
       "      <th>1</th>\n",
       "      <td>Tau_hallmark_density</td>\n",
       "      <td>0.346</td>\n",
       "      <td>0.000024</td>\n",
       "    </tr>\n",
       "    <tr>\n",
       "      <th>2</th>\n",
       "      <td>CB_density</td>\n",
       "      <td>0.334</td>\n",
       "      <td>0.000045</td>\n",
       "    </tr>\n",
       "    <tr>\n",
       "      <th>3</th>\n",
       "      <td>NFT_density</td>\n",
       "      <td>0.231</td>\n",
       "      <td>0.005448</td>\n",
       "    </tr>\n",
       "    <tr>\n",
       "      <th>4</th>\n",
       "      <td>TA_density</td>\n",
       "      <td>0.191</td>\n",
       "      <td>0.022172</td>\n",
       "    </tr>\n",
       "    <tr>\n",
       "      <th>5</th>\n",
       "      <td>Others_density</td>\n",
       "      <td>0.217</td>\n",
       "      <td>0.009393</td>\n",
       "    </tr>\n",
       "    <tr>\n",
       "      <th>6</th>\n",
       "      <td>Others_AF</td>\n",
       "      <td>0.168</td>\n",
       "      <td>0.045464</td>\n",
       "    </tr>\n",
       "  </tbody>\n",
       "</table>\n",
       "</div>"
      ],
      "text/plain": [
       "             Tau_burden  Stage_SK     p_val\n",
       "0     Total_tau_density     0.226  0.006693\n",
       "1  Tau_hallmark_density     0.346  0.000024\n",
       "2            CB_density     0.334  0.000045\n",
       "3           NFT_density     0.231  0.005448\n",
       "4            TA_density     0.191  0.022172\n",
       "5        Others_density     0.217  0.009393\n",
       "6             Others_AF     0.168  0.045464"
      ]
     },
     "execution_count": 24,
     "metadata": {},
     "output_type": "execute_result"
    }
   ],
   "source": [
    "data_kovacs = data[(data['region_name']=='Subthalamic nucleus')|\n",
    "                       (data['region_name']=='Globus pallidus')|\n",
    "                       (data['region_name']=='Dentate nucleus')|\n",
    "                       (data['region_name']=='Striatum')|\n",
    "                       (data['region_name']=='Pre-frontal')|\n",
    "                       (data['region_name']=='Occipital')]\n",
    "\n",
    "correlation_table(data_kovacs,'Stage_SK')"
   ]
  },
  {
   "cell_type": "code",
   "execution_count": 25,
   "metadata": {},
   "outputs": [
    {
     "data": {
      "text/plain": [
       "{'Dentate nucleus',\n",
       " 'Globus pallidus',\n",
       " 'Occipital',\n",
       " 'Pre-frontal',\n",
       " 'Striatum',\n",
       " 'Subthalamic nucleus'}"
      ]
     },
     "execution_count": 25,
     "metadata": {},
     "output_type": "execute_result"
    }
   ],
   "source": [
    "set(data_kovacs['region_name'])"
   ]
  },
  {
   "attachments": {},
   "cell_type": "markdown",
   "metadata": {},
   "source": [
    "### 2) Correlation between region-specific tau & overall PSP stage (Stage_SK)"
   ]
  },
  {
   "cell_type": "code",
   "execution_count": 26,
   "metadata": {},
   "outputs": [
    {
     "name": "stdout",
     "output_type": "stream",
     "text": [
      "Correlation between region-specific tau & Stage_SK\n"
     ]
    },
    {
     "name": "stderr",
     "output_type": "stream",
     "text": [
      "c:\\Users\\mokur\\anaconda3\\lib\\site-packages\\scipy\\stats\\_stats_py.py:4916: ConstantInputWarning: An input array is constant; the correlation coefficient is not defined.\n",
      "  warnings.warn(stats.ConstantInputWarning(warn_msg))\n",
      "c:\\Users\\mokur\\anaconda3\\lib\\site-packages\\scipy\\stats\\_stats_py.py:4916: ConstantInputWarning: An input array is constant; the correlation coefficient is not defined.\n",
      "  warnings.warn(stats.ConstantInputWarning(warn_msg))\n",
      "c:\\Users\\mokur\\anaconda3\\lib\\site-packages\\scipy\\stats\\_stats_py.py:4916: ConstantInputWarning: An input array is constant; the correlation coefficient is not defined.\n",
      "  warnings.warn(stats.ConstantInputWarning(warn_msg))\n",
      "c:\\Users\\mokur\\anaconda3\\lib\\site-packages\\scipy\\stats\\_stats_py.py:4916: ConstantInputWarning: An input array is constant; the correlation coefficient is not defined.\n",
      "  warnings.warn(stats.ConstantInputWarning(warn_msg))\n",
      "c:\\Users\\mokur\\anaconda3\\lib\\site-packages\\scipy\\stats\\_stats_py.py:4916: ConstantInputWarning: An input array is constant; the correlation coefficient is not defined.\n",
      "  warnings.warn(stats.ConstantInputWarning(warn_msg))\n",
      "c:\\Users\\mokur\\anaconda3\\lib\\site-packages\\scipy\\stats\\_stats_py.py:4916: ConstantInputWarning: An input array is constant; the correlation coefficient is not defined.\n",
      "  warnings.warn(stats.ConstantInputWarning(warn_msg))\n"
     ]
    },
    {
     "data": {
      "text/html": [
       "<div>\n",
       "<style scoped>\n",
       "    .dataframe tbody tr th:only-of-type {\n",
       "        vertical-align: middle;\n",
       "    }\n",
       "\n",
       "    .dataframe tbody tr th {\n",
       "        vertical-align: top;\n",
       "    }\n",
       "\n",
       "    .dataframe thead th {\n",
       "        text-align: right;\n",
       "    }\n",
       "</style>\n",
       "<table border=\"1\" class=\"dataframe\">\n",
       "  <thead>\n",
       "    <tr style=\"text-align: right;\">\n",
       "      <th></th>\n",
       "      <th>Tau_burden</th>\n",
       "      <th>Globus pallidus</th>\n",
       "      <th>Globus pallidus_pval</th>\n",
       "      <th>Subthalamic nucleus</th>\n",
       "      <th>Subthalamic nucleus_pval</th>\n",
       "      <th>Striatum</th>\n",
       "      <th>Striatum_pval</th>\n",
       "      <th>Pre-frontal</th>\n",
       "      <th>Pre-frontal_pval</th>\n",
       "      <th>Dentate nucleus</th>\n",
       "      <th>Dentate nucleus_pval</th>\n",
       "      <th>Occipital</th>\n",
       "      <th>Occipital_pval</th>\n",
       "    </tr>\n",
       "  </thead>\n",
       "  <tbody>\n",
       "    <tr>\n",
       "      <th>0</th>\n",
       "      <td>Total_tau_density</td>\n",
       "      <td>0.189</td>\n",
       "      <td>0.411</td>\n",
       "      <td>0.340</td>\n",
       "      <td>0.131</td>\n",
       "      <td>0.282</td>\n",
       "      <td>0.216</td>\n",
       "      <td>0.698</td>\n",
       "      <td>0.000</td>\n",
       "      <td>0.626</td>\n",
       "      <td>0.000</td>\n",
       "      <td>0.850</td>\n",
       "      <td>0.0</td>\n",
       "    </tr>\n",
       "    <tr>\n",
       "      <th>1</th>\n",
       "      <td>Tau_hallmark_density</td>\n",
       "      <td>0.295</td>\n",
       "      <td>0.194</td>\n",
       "      <td>0.508</td>\n",
       "      <td>0.019</td>\n",
       "      <td>0.365</td>\n",
       "      <td>0.104</td>\n",
       "      <td>0.749</td>\n",
       "      <td>0.000</td>\n",
       "      <td>0.706</td>\n",
       "      <td>0.000</td>\n",
       "      <td>0.805</td>\n",
       "      <td>0.0</td>\n",
       "    </tr>\n",
       "    <tr>\n",
       "      <th>2</th>\n",
       "      <td>CB_density</td>\n",
       "      <td>0.295</td>\n",
       "      <td>0.194</td>\n",
       "      <td>0.487</td>\n",
       "      <td>0.025</td>\n",
       "      <td>0.372</td>\n",
       "      <td>0.097</td>\n",
       "      <td>0.671</td>\n",
       "      <td>0.000</td>\n",
       "      <td>0.724</td>\n",
       "      <td>0.000</td>\n",
       "      <td>0.792</td>\n",
       "      <td>0.0</td>\n",
       "    </tr>\n",
       "    <tr>\n",
       "      <th>3</th>\n",
       "      <td>NFT_density</td>\n",
       "      <td>0.118</td>\n",
       "      <td>0.610</td>\n",
       "      <td>0.121</td>\n",
       "      <td>0.601</td>\n",
       "      <td>0.531</td>\n",
       "      <td>0.013</td>\n",
       "      <td>0.539</td>\n",
       "      <td>0.003</td>\n",
       "      <td>0.677</td>\n",
       "      <td>0.000</td>\n",
       "      <td>0.691</td>\n",
       "      <td>0.0</td>\n",
       "    </tr>\n",
       "    <tr>\n",
       "      <th>4</th>\n",
       "      <td>TA_density</td>\n",
       "      <td>NaN</td>\n",
       "      <td>NaN</td>\n",
       "      <td>NaN</td>\n",
       "      <td>NaN</td>\n",
       "      <td>0.333</td>\n",
       "      <td>0.141</td>\n",
       "      <td>0.725</td>\n",
       "      <td>0.000</td>\n",
       "      <td>NaN</td>\n",
       "      <td>NaN</td>\n",
       "      <td>0.827</td>\n",
       "      <td>0.0</td>\n",
       "    </tr>\n",
       "    <tr>\n",
       "      <th>5</th>\n",
       "      <td>Others_density</td>\n",
       "      <td>0.164</td>\n",
       "      <td>0.477</td>\n",
       "      <td>0.338</td>\n",
       "      <td>0.134</td>\n",
       "      <td>0.269</td>\n",
       "      <td>0.239</td>\n",
       "      <td>0.672</td>\n",
       "      <td>0.000</td>\n",
       "      <td>0.599</td>\n",
       "      <td>0.001</td>\n",
       "      <td>0.838</td>\n",
       "      <td>0.0</td>\n",
       "    </tr>\n",
       "    <tr>\n",
       "      <th>6</th>\n",
       "      <td>Others_AF</td>\n",
       "      <td>0.157</td>\n",
       "      <td>0.497</td>\n",
       "      <td>0.300</td>\n",
       "      <td>0.187</td>\n",
       "      <td>0.230</td>\n",
       "      <td>0.316</td>\n",
       "      <td>0.659</td>\n",
       "      <td>0.000</td>\n",
       "      <td>0.614</td>\n",
       "      <td>0.001</td>\n",
       "      <td>0.851</td>\n",
       "      <td>0.0</td>\n",
       "    </tr>\n",
       "  </tbody>\n",
       "</table>\n",
       "</div>"
      ],
      "text/plain": [
       "             Tau_burden  Globus pallidus  Globus pallidus_pval  \\\n",
       "0     Total_tau_density            0.189                 0.411   \n",
       "1  Tau_hallmark_density            0.295                 0.194   \n",
       "2            CB_density            0.295                 0.194   \n",
       "3           NFT_density            0.118                 0.610   \n",
       "4            TA_density              NaN                   NaN   \n",
       "5        Others_density            0.164                 0.477   \n",
       "6             Others_AF            0.157                 0.497   \n",
       "\n",
       "   Subthalamic nucleus  Subthalamic nucleus_pval  Striatum  Striatum_pval  \\\n",
       "0                0.340                     0.131     0.282          0.216   \n",
       "1                0.508                     0.019     0.365          0.104   \n",
       "2                0.487                     0.025     0.372          0.097   \n",
       "3                0.121                     0.601     0.531          0.013   \n",
       "4                  NaN                       NaN     0.333          0.141   \n",
       "5                0.338                     0.134     0.269          0.239   \n",
       "6                0.300                     0.187     0.230          0.316   \n",
       "\n",
       "   Pre-frontal  Pre-frontal_pval  Dentate nucleus  Dentate nucleus_pval  \\\n",
       "0        0.698             0.000            0.626                 0.000   \n",
       "1        0.749             0.000            0.706                 0.000   \n",
       "2        0.671             0.000            0.724                 0.000   \n",
       "3        0.539             0.003            0.677                 0.000   \n",
       "4        0.725             0.000              NaN                   NaN   \n",
       "5        0.672             0.000            0.599                 0.001   \n",
       "6        0.659             0.000            0.614                 0.001   \n",
       "\n",
       "   Occipital  Occipital_pval  \n",
       "0      0.850             0.0  \n",
       "1      0.805             0.0  \n",
       "2      0.792             0.0  \n",
       "3      0.691             0.0  \n",
       "4      0.827             0.0  \n",
       "5      0.838             0.0  \n",
       "6      0.851             0.0  "
      ]
     },
     "execution_count": 26,
     "metadata": {},
     "output_type": "execute_result"
    }
   ],
   "source": [
    "correlation_region_tau_stage(data,'Stage_SK')"
   ]
  },
  {
   "attachments": {},
   "cell_type": "markdown",
   "metadata": {},
   "source": [
    "**Looking at total tau, regions with highest correlation to PSP stage:** FCF > DE > OC > STR > STN > GP\n",
    "\n",
    "**For each region, tau density type & Stage_SK** \n",
    "\n",
    "1) GP: CB density\n",
    "\n",
    "2) STN: CB density \n",
    "\n",
    "3) STR: NFT density\n",
    "\n",
    "4) FCF: TA density \n",
    "\n",
    "5) DE: CB density\n",
    "\n",
    "6) OC: TA density"
   ]
  },
  {
   "attachments": {},
   "cell_type": "markdown",
   "metadata": {},
   "source": [
    "### 3) Region-specific tau & region-specific rating"
   ]
  },
  {
   "cell_type": "code",
   "execution_count": 27,
   "metadata": {},
   "outputs": [
    {
     "name": "stderr",
     "output_type": "stream",
     "text": [
      "c:\\Users\\mokur\\anaconda3\\lib\\site-packages\\scipy\\stats\\_stats_py.py:4916: ConstantInputWarning: An input array is constant; the correlation coefficient is not defined.\n",
      "  warnings.warn(stats.ConstantInputWarning(warn_msg))\n",
      "c:\\Users\\mokur\\anaconda3\\lib\\site-packages\\scipy\\stats\\_stats_py.py:4916: ConstantInputWarning: An input array is constant; the correlation coefficient is not defined.\n",
      "  warnings.warn(stats.ConstantInputWarning(warn_msg))\n"
     ]
    },
    {
     "name": "stdout",
     "output_type": "stream",
     "text": [
      "Correlation between region-specific tau & region-specific rating\n"
     ]
    },
    {
     "name": "stderr",
     "output_type": "stream",
     "text": [
      "c:\\Users\\mokur\\anaconda3\\lib\\site-packages\\scipy\\stats\\_stats_py.py:4916: ConstantInputWarning: An input array is constant; the correlation coefficient is not defined.\n",
      "  warnings.warn(stats.ConstantInputWarning(warn_msg))\n",
      "c:\\Users\\mokur\\anaconda3\\lib\\site-packages\\scipy\\stats\\_stats_py.py:4916: ConstantInputWarning: An input array is constant; the correlation coefficient is not defined.\n",
      "  warnings.warn(stats.ConstantInputWarning(warn_msg))\n",
      "c:\\Users\\mokur\\anaconda3\\lib\\site-packages\\scipy\\stats\\_stats_py.py:4916: ConstantInputWarning: An input array is constant; the correlation coefficient is not defined.\n",
      "  warnings.warn(stats.ConstantInputWarning(warn_msg))\n",
      "c:\\Users\\mokur\\anaconda3\\lib\\site-packages\\scipy\\stats\\_stats_py.py:4916: ConstantInputWarning: An input array is constant; the correlation coefficient is not defined.\n",
      "  warnings.warn(stats.ConstantInputWarning(warn_msg))\n"
     ]
    },
    {
     "data": {
      "text/html": [
       "<div>\n",
       "<style scoped>\n",
       "    .dataframe tbody tr th:only-of-type {\n",
       "        vertical-align: middle;\n",
       "    }\n",
       "\n",
       "    .dataframe tbody tr th {\n",
       "        vertical-align: top;\n",
       "    }\n",
       "\n",
       "    .dataframe thead th {\n",
       "        text-align: right;\n",
       "    }\n",
       "</style>\n",
       "<table border=\"1\" class=\"dataframe\">\n",
       "  <thead>\n",
       "    <tr style=\"text-align: right;\">\n",
       "      <th></th>\n",
       "      <th>Tau_burden</th>\n",
       "      <th>Globus pallidus</th>\n",
       "      <th>Globus pallidus_pval</th>\n",
       "      <th>Subthalamic nucleus</th>\n",
       "      <th>Subthalamic nucleus_pval</th>\n",
       "      <th>Striatum</th>\n",
       "      <th>Striatum_pval</th>\n",
       "      <th>Pre-frontal</th>\n",
       "      <th>Pre-frontal_pval</th>\n",
       "      <th>Dentate nucleus</th>\n",
       "      <th>Dentate nucleus_pval</th>\n",
       "      <th>Occipital</th>\n",
       "      <th>Occipital_pval</th>\n",
       "    </tr>\n",
       "  </thead>\n",
       "  <tbody>\n",
       "    <tr>\n",
       "      <th>0</th>\n",
       "      <td>Total_tau_density</td>\n",
       "      <td>0.693</td>\n",
       "      <td>0.001</td>\n",
       "      <td>0.655</td>\n",
       "      <td>0.002</td>\n",
       "      <td>0.866</td>\n",
       "      <td>0.000</td>\n",
       "      <td>0.833</td>\n",
       "      <td>0.000</td>\n",
       "      <td>0.500</td>\n",
       "      <td>0.011</td>\n",
       "      <td>0.841</td>\n",
       "      <td>0.0</td>\n",
       "    </tr>\n",
       "    <tr>\n",
       "      <th>1</th>\n",
       "      <td>Tau_hallmark_density</td>\n",
       "      <td>0.616</td>\n",
       "      <td>0.005</td>\n",
       "      <td>0.436</td>\n",
       "      <td>0.062</td>\n",
       "      <td>0.828</td>\n",
       "      <td>0.000</td>\n",
       "      <td>0.728</td>\n",
       "      <td>0.000</td>\n",
       "      <td>0.578</td>\n",
       "      <td>0.002</td>\n",
       "      <td>0.804</td>\n",
       "      <td>0.0</td>\n",
       "    </tr>\n",
       "    <tr>\n",
       "      <th>2</th>\n",
       "      <td>CB_density</td>\n",
       "      <td>0.616</td>\n",
       "      <td>0.005</td>\n",
       "      <td>0.502</td>\n",
       "      <td>0.029</td>\n",
       "      <td>0.789</td>\n",
       "      <td>0.000</td>\n",
       "      <td>0.630</td>\n",
       "      <td>0.001</td>\n",
       "      <td>0.628</td>\n",
       "      <td>0.001</td>\n",
       "      <td>0.792</td>\n",
       "      <td>0.0</td>\n",
       "    </tr>\n",
       "    <tr>\n",
       "      <th>3</th>\n",
       "      <td>NFT_density</td>\n",
       "      <td>0.500</td>\n",
       "      <td>0.029</td>\n",
       "      <td>0.196</td>\n",
       "      <td>0.420</td>\n",
       "      <td>0.609</td>\n",
       "      <td>0.006</td>\n",
       "      <td>0.443</td>\n",
       "      <td>0.024</td>\n",
       "      <td>0.558</td>\n",
       "      <td>0.004</td>\n",
       "      <td>0.720</td>\n",
       "      <td>0.0</td>\n",
       "    </tr>\n",
       "    <tr>\n",
       "      <th>4</th>\n",
       "      <td>TA_density</td>\n",
       "      <td>NaN</td>\n",
       "      <td>NaN</td>\n",
       "      <td>NaN</td>\n",
       "      <td>NaN</td>\n",
       "      <td>0.868</td>\n",
       "      <td>0.000</td>\n",
       "      <td>0.808</td>\n",
       "      <td>0.000</td>\n",
       "      <td>NaN</td>\n",
       "      <td>NaN</td>\n",
       "      <td>0.841</td>\n",
       "      <td>0.0</td>\n",
       "    </tr>\n",
       "    <tr>\n",
       "      <th>5</th>\n",
       "      <td>Others_density</td>\n",
       "      <td>0.674</td>\n",
       "      <td>0.002</td>\n",
       "      <td>0.655</td>\n",
       "      <td>0.002</td>\n",
       "      <td>0.866</td>\n",
       "      <td>0.000</td>\n",
       "      <td>0.805</td>\n",
       "      <td>0.000</td>\n",
       "      <td>0.482</td>\n",
       "      <td>0.015</td>\n",
       "      <td>0.823</td>\n",
       "      <td>0.0</td>\n",
       "    </tr>\n",
       "    <tr>\n",
       "      <th>6</th>\n",
       "      <td>Others_AF</td>\n",
       "      <td>0.770</td>\n",
       "      <td>0.000</td>\n",
       "      <td>0.480</td>\n",
       "      <td>0.038</td>\n",
       "      <td>0.731</td>\n",
       "      <td>0.000</td>\n",
       "      <td>0.777</td>\n",
       "      <td>0.000</td>\n",
       "      <td>0.491</td>\n",
       "      <td>0.013</td>\n",
       "      <td>0.836</td>\n",
       "      <td>0.0</td>\n",
       "    </tr>\n",
       "  </tbody>\n",
       "</table>\n",
       "</div>"
      ],
      "text/plain": [
       "             Tau_burden  Globus pallidus  Globus pallidus_pval  \\\n",
       "0     Total_tau_density            0.693                 0.001   \n",
       "1  Tau_hallmark_density            0.616                 0.005   \n",
       "2            CB_density            0.616                 0.005   \n",
       "3           NFT_density            0.500                 0.029   \n",
       "4            TA_density              NaN                   NaN   \n",
       "5        Others_density            0.674                 0.002   \n",
       "6             Others_AF            0.770                 0.000   \n",
       "\n",
       "   Subthalamic nucleus  Subthalamic nucleus_pval  Striatum  Striatum_pval  \\\n",
       "0                0.655                     0.002     0.866          0.000   \n",
       "1                0.436                     0.062     0.828          0.000   \n",
       "2                0.502                     0.029     0.789          0.000   \n",
       "3                0.196                     0.420     0.609          0.006   \n",
       "4                  NaN                       NaN     0.868          0.000   \n",
       "5                0.655                     0.002     0.866          0.000   \n",
       "6                0.480                     0.038     0.731          0.000   \n",
       "\n",
       "   Pre-frontal  Pre-frontal_pval  Dentate nucleus  Dentate nucleus_pval  \\\n",
       "0        0.833             0.000            0.500                 0.011   \n",
       "1        0.728             0.000            0.578                 0.002   \n",
       "2        0.630             0.001            0.628                 0.001   \n",
       "3        0.443             0.024            0.558                 0.004   \n",
       "4        0.808             0.000              NaN                   NaN   \n",
       "5        0.805             0.000            0.482                 0.015   \n",
       "6        0.777             0.000            0.491                 0.013   \n",
       "\n",
       "   Occipital  Occipital_pval  \n",
       "0      0.841             0.0  \n",
       "1      0.804             0.0  \n",
       "2      0.792             0.0  \n",
       "3      0.720             0.0  \n",
       "4      0.841             0.0  \n",
       "5      0.823             0.0  \n",
       "6      0.836             0.0  "
      ]
     },
     "execution_count": 27,
     "metadata": {},
     "output_type": "execute_result"
    }
   ],
   "source": [
    "correlation_region_tau_region_stage(data)"
   ]
  },
  {
   "attachments": {},
   "cell_type": "markdown",
   "metadata": {},
   "source": [
    "1) GP & GP_SK: Others density\n",
    "\n",
    "2) STN & STN_SK: Others density\n",
    "\n",
    "3) STR & STR_SK: TA density\n",
    "\n",
    "4) FCF & FCF_SK: TA density\n",
    "\n",
    "5) DE & DE_SK: CB density\n",
    "\n",
    "6) OC & OC_SK: TA density"
   ]
  },
  {
   "attachments": {},
   "cell_type": "markdown",
   "metadata": {},
   "source": [
    "### Prepping for bar polar plots"
   ]
  },
  {
   "cell_type": "code",
   "execution_count": 28,
   "metadata": {},
   "outputs": [
    {
     "data": {
      "text/plain": [
       "{'Cingulate',\n",
       " 'Occipital',\n",
       " 'Parietal',\n",
       " 'Pre-frontal',\n",
       " 'Pre-motor',\n",
       " 'Primary motor',\n",
       " 'Primary somatosensory',\n",
       " 'Striatum',\n",
       " 'Temporal'}"
      ]
     },
     "execution_count": 28,
     "metadata": {},
     "output_type": "execute_result"
    }
   ],
   "source": [
    "set(data_with_TA['region_name'])"
   ]
  },
  {
   "cell_type": "code",
   "execution_count": 29,
   "metadata": {},
   "outputs": [],
   "source": [
    "# Change naming system for the paper\n",
    "region_code_plot = {'Cingulate':'C',\n",
    "                    'Dentate nucleus': 'DN',\n",
    "                    'Globus pallidus': 'GP',\n",
    "                    'Occipital':'OC',\n",
    "                    'Parietal':'P',\n",
    "                    'Pre-frontal':'PF',\n",
    "                    'Pre-motor':'PM',\n",
    "                    'Primary motor': '1°M',\n",
    "                    'Primary somatosensory':'1°S',\n",
    "                    'Striatum':'PU',\n",
    "                    'Subthalamic nucleus':'STN',\n",
    "                    'Temporal':'T'}\n",
    "region_code_plot_with_TA = {'Cingulate':'C',\n",
    "                            'Occipital':'OC',\n",
    "                            'Parietal':'P',\n",
    "                            'Pre-frontal':'PF',\n",
    "                            'Pre-motor':\"PM\",\n",
    "                            'Primary motor':'1°M',\n",
    "                            'Primary somatosensory':'1°S',\n",
    "                            'Striatum':'PU',\n",
    "                            'Temporal':'T'}"
   ]
  },
  {
   "cell_type": "code",
   "execution_count": 30,
   "metadata": {},
   "outputs": [
    {
     "data": {
      "text/plain": [
       "{'1°M', '1°S', 'C', 'OC', 'P', 'PF', 'PM', 'PU', 'T'}"
      ]
     },
     "execution_count": 30,
     "metadata": {},
     "output_type": "execute_result"
    }
   ],
   "source": [
    "# for all data \n",
    "data_rename = data.copy()\n",
    "data_rename.loc[:,'region_name'] = [region_code_plot[i] for i in data['region_name']]\n",
    "set(data_rename['region_name'])\n",
    "\n",
    "# for TA quantified area \n",
    "data_with_TA_rename = data_with_TA.copy()\n",
    "data_with_TA_rename.loc[:,'region_name'] = [region_code_plot_with_TA[i] for i in data_with_TA['region_name']]\n",
    "set(data_with_TA_rename['region_name'])"
   ]
  },
  {
   "cell_type": "markdown",
   "metadata": {},
   "source": [
    "**Check PSP-RS vs non PSP-RS**"
   ]
  },
  {
   "cell_type": "code",
   "execution_count": 31,
   "metadata": {},
   "outputs": [
    {
     "data": {
      "text/plain": [
       "prob. PSP-RS     22\n",
       "poss. PSP-CBS     4\n",
       "s.o. PSP-CBS      3\n",
       "poss. PSP-PGF     1\n",
       "poss. PSP-SL      1\n",
       "prob. PSP-F       1\n",
       "Name: MDS-PSP last visit, dtype: int64"
      ]
     },
     "execution_count": 31,
     "metadata": {},
     "output_type": "execute_result"
    }
   ],
   "source": [
    "data_rename.columns\n",
    "x = data_rename[['Patient_ID','MDS-PSP last visit']].drop_duplicates()\n",
    "x['MDS-PSP last visit'].value_counts()"
   ]
  },
  {
   "cell_type": "markdown",
   "metadata": {},
   "source": [
    "This means we can group:\n",
    "1) PSP-RS (22) vs non PSP-RS (10)\n",
    "\n",
    "2) Or, do PSP-RS (22), CBS (7), others (1+1+1)"
   ]
  },
  {
   "cell_type": "markdown",
   "metadata": {},
   "source": [
    "Let's try PSP-RS (22) vs non PSP-RS (10)\n"
   ]
  },
  {
   "cell_type": "code",
   "execution_count": 42,
   "metadata": {},
   "outputs": [],
   "source": [
    "psp_rs = data_rename[data_rename['MDS-PSP last visit']=='prob. PSP-RS']\n",
    "not_psp_rs = data_rename[data_rename['MDS-PSP last visit']!='prob. PSP-RS']\n",
    "\n",
    "psp_rs_TA = data_with_TA_rename[data_with_TA_rename['MDS-PSP last visit']=='prob. PSP-RS']\n",
    "not_psp_rs_TA = data_with_TA_rename[data_with_TA_rename['MDS-PSP last visit']!='prob. PSP-RS']\n"
   ]
  },
  {
   "cell_type": "code",
   "execution_count": 43,
   "metadata": {},
   "outputs": [],
   "source": [
    "# 1) Scatter points \n",
    "# Create a dict, key = PSP stage, value = subset dataframe\n",
    "psp_stage_dict_psp_rs = subset_psp_stage(psp_rs,'Stage_SK') # change here\n",
    "psp_stage_dict_not_psp_rs = subset_psp_stage(not_psp_rs,'Stage_SK') # change here\n",
    "\n",
    "psp_stage_withTA_dict_psp_rs = subset_psp_stage(psp_rs_TA,'Stage_SK') # change here \n",
    "psp_stage_withTA_dict_not_psp_rs = subset_psp_stage(not_psp_rs_TA,'Stage_SK') # change here \n",
    "\n",
    "# 2) mean points\n",
    "\n",
    "mean_total_tau_dict_psp_rs = mean_tau_stage(psp_stage_dict_psp_rs,'Total_tau_density')\n",
    "mean_total_tau_dict_not_psp_rs = mean_tau_stage(psp_stage_dict_not_psp_rs,'Total_tau_density')\n",
    "\n",
    "mean_tau_hallmark_dict_psp_rs = mean_tau_stage(psp_stage_dict_psp_rs,'Tau_hallmark_density')\n",
    "mean_tau_hallmark_dict_not_psp_rs = mean_tau_stage(psp_stage_dict_not_psp_rs,'Tau_hallmark_density')\n",
    "\n",
    "mean_CB_dict_psp_rs = mean_tau_stage(psp_stage_dict_psp_rs,'CB_density')\n",
    "mean_CB_dict_not_psp_rs = mean_tau_stage(psp_stage_dict_not_psp_rs,'CB_density')\n",
    "\n",
    "mean_TA_dict_psp_rs = mean_tau_stage(psp_stage_withTA_dict_psp_rs,'TA_density')\n",
    "mean_TA_dict_not_psp_rs = mean_tau_stage(psp_stage_withTA_dict_not_psp_rs,'TA_density')\n",
    "\n",
    "mean_NFT_dict_psp_rs = mean_tau_stage(psp_stage_dict_psp_rs,'NFT_density')\n",
    "mean_NFT_dict_not_psp_rs = mean_tau_stage(psp_stage_dict_not_psp_rs,'NFT_density')\n",
    "\n",
    "# psp_stage_withTA_dict = subset_psp_stage(data_with_TA_rename,'Stage_SK') # change here "
   ]
  },
  {
   "cell_type": "code",
   "execution_count": 34,
   "metadata": {},
   "outputs": [],
   "source": [
    "# # 1) Scatter points \n",
    "# # Create a dict, key = PSP stage, value = subset dataframe\n",
    "# psp_stage_dict = subset_psp_stage(data_rename,'Stage_SK') # change here \n",
    "# psp_stage_withTA_dict = subset_psp_stage(data_with_TA_rename,'Stage_SK') # change here \n",
    "\n",
    "# # 2) mean points \n",
    "# # Create a dict, key = PSP stage, value = mean tau hallmark density \n",
    "# mean_total_tau_dict = mean_tau_stage(psp_stage_dict,'Total_tau_density')\n",
    "# mean_tau_hallmark_dict = mean_tau_stage(psp_stage_dict,'Tau_hallmark_density')\n",
    "# mean_CB_dict = mean_tau_stage(psp_stage_dict,'CB_density')\n",
    "# mean_TA_dict = mean_tau_stage(psp_stage_withTA_dict,'TA_density')\n",
    "# mean_NFT_dict = mean_tau_stage(psp_stage_dict,'NFT_density')\n",
    "# mean_Others_dict = mean_tau_stage(psp_stage_dict,'Others_density')"
   ]
  },
  {
   "cell_type": "code",
   "execution_count": 35,
   "metadata": {},
   "outputs": [],
   "source": [
    "anatomical_order = ['STN',\n",
    "                    'GP',\n",
    "                    'PU',\n",
    "                    'DN',\n",
    "                    'PF',\n",
    "                    'PM',\n",
    "                    '1°M',\n",
    "                    '1°S',\n",
    "                    'T',\n",
    "                    'P',\n",
    "                    'OC',\n",
    "                    'C']\n",
    "\n",
    "anatomical_order_withTA = ['PU',\n",
    "                           'PF',\n",
    "                           'PM',\n",
    "                           '1°M',\n",
    "                           '1°S',\n",
    "                           'T',\n",
    "                           'P',\n",
    "                           'OC',\n",
    "                           'C']"
   ]
  },
  {
   "cell_type": "markdown",
   "metadata": {},
   "source": [
    "**PSP-RS**"
   ]
  },
  {
   "cell_type": "code",
   "execution_count": 36,
   "metadata": {},
   "outputs": [
    {
     "name": "stdout",
     "output_type": "stream",
     "text": [
      "min value:  -5.658614087379893\n",
      "max value:  -2.212324961535779\n"
     ]
    },
    {
     "data": {
      "application/vnd.plotly.v1+json": {
       "config": {
        "plotlyServerURL": "https://plot.ly"
       },
       "data": [
        {
         "marker": {
          "color": "PaleTurquoise",
          "line": {
           "color": "black"
          }
         },
         "name": "Tau density, stage 2",
         "r": [
          0.0000021947543204421538,
          0.000002960640018535819,
          0.0000031660877163173205,
          0.000004037432907024077,
          0.000008531410691943275,
          0.000010463922933644944,
          0.0000307360346675199,
          0.00009769640560611824,
          0.0001319481935171
         ],
         "showlegend": false,
         "subplot": "polar",
         "theta": [
          "1°S",
          "C",
          "P",
          "PF",
          "PU",
          "T",
          "DN",
          "GP",
          "STN"
         ],
         "type": "barpolar"
        },
        {
         "marker": {
          "color": "black",
          "size": 4
         },
         "mode": "markers",
         "name": "Stage 2",
         "r": [
          0.000004037432907024077,
          0.000010463922933644944,
          0.0000031660877163173205,
          0.000002960640018535819,
          0.0000021947543204421538,
          0.0001319481935171,
          0.000008531410691943275,
          0.00009769640560611824,
          0.0000307360346675199
         ],
         "showlegend": false,
         "subplot": "polar",
         "theta": [
          "PF",
          "T",
          "P",
          "C",
          "1°S",
          "STN",
          "PU",
          "GP",
          "DN"
         ],
         "type": "scatterpolargl"
        },
        {
         "marker": {
          "color": "skyblue",
          "line": {
           "color": "black"
          }
         },
         "name": "Tau density, stage 3",
         "r": [
          0.0000016618278218667003,
          0.0000043587430879447505,
          0.000006087719166369657,
          0.000008057637762426889,
          0.00001246124266305726,
          0.000012852918519178074,
          0.000018315529447473547,
          0.000021852863749995444,
          0.000044074526623295256,
          0.00006629926061063708,
          0.00044991911813915787,
          0.0013033780023884
         ],
         "showlegend": false,
         "subplot": "polar2",
         "theta": [
          "OC",
          "1°S",
          "P",
          "PF",
          "T",
          "C",
          "PM",
          "1°M",
          "DN",
          "PU",
          "GP",
          "STN"
         ],
         "type": "barpolar"
        },
        {
         "marker": {
          "color": "black",
          "size": 4
         },
         "mode": "markers",
         "name": "Stage 3",
         "r": [
          0.000004152215345830047,
          0.000002377642645778917,
          0.000009068134691427444,
          0.000002499107113920624,
          0.0000018054207426724264,
          0.000034381221794583325,
          0.000022280465092749375,
          0.00001774528351217223,
          0.000004707415474117456,
          0.000007017448058959541,
          0.00005830610368324002,
          0.00004359687015989999,
          0.000013869432732923788,
          0.000001573607624719137,
          0.000004874844920967396,
          0.0000022815834910932213,
          0.000001894617652264557,
          0.0000017202143009909833,
          0.0000015182349010609743,
          0.0000014288985698693243,
          0.000003425371945606772,
          0.0000019065658590446628,
          0.000004519571150074184,
          0.0001334321152467,
          0.00005318594081361565,
          0.0024733238895301,
          0.0001280789500712,
          0.0008466522954647,
          0.00005319742364842387,
          0.00005533786784859476,
          0.000023688288372867148
         ],
         "showlegend": false,
         "subplot": "polar2",
         "theta": [
          "1°S",
          "1°M",
          "PM",
          "P",
          "OC",
          "T",
          "C",
          "PF",
          "PF",
          "1°S",
          "1°M",
          "PM",
          "P",
          "T",
          "1°M",
          "PM",
          "P",
          "PF",
          "OC",
          "T",
          "C",
          "1°S",
          "PU",
          "STN",
          "GP",
          "STN",
          "PU",
          "GP",
          "DN",
          "DN",
          "DN"
         ],
         "type": "scatterpolargl"
        },
        {
         "marker": {
          "color": "cornflowerblue",
          "line": {
           "color": "black"
          }
         },
         "name": "Tau density, stage 4",
         "r": [
          0.000002101775421447424,
          0.00000774609371441645,
          0.000008376980327722583,
          0.000008915950711350321,
          0.000012222151633887324,
          0.000014646590342112351,
          0.000015239835168330995,
          0.00004643398332971267,
          0.00005370935377274873,
          0.00010218170995994149,
          0.00012077517558810137,
          0.00088701158755472
         ],
         "showlegend": false,
         "subplot": "polar3",
         "theta": [
          "OC",
          "PF",
          "1°S",
          "T",
          "C",
          "P",
          "PU",
          "PM",
          "1°M",
          "DN",
          "GP",
          "STN"
         ],
         "type": "barpolar"
        },
        {
         "marker": {
          "color": "black",
          "size": 4
         },
         "mode": "markers",
         "name": "Stage 4",
         "r": [
          0.0000018151080133748476,
          0.000006253637043480856,
          0.000008692535770277975,
          0.000002429633473849704,
          0.000005882078212652481,
          0.00005179229082192849,
          0.00000962425587073579,
          0.000005284989939782411,
          0.000019683380949506323,
          0.000010633496644642429,
          0.00001716045969045303,
          0.0001125475857389,
          0.00003011306626180802,
          0.000005884296637886882,
          0.00000195024448478838,
          0.0000022460242299758945,
          0.0000035790656642473782,
          0.000002638307802377136,
          0.000010570219403056286,
          0.000015421283957326487,
          0.0000954717415321337,
          0.00004432138296139497,
          0.000012933748812263652,
          0.000003889543056840718,
          0.00001982553491095845,
          0.000006192290063334212,
          0.00007473835349989986,
          0.00002906651818496384,
          0.000006291251545162026,
          0.0000011023794727734375,
          0.0000046721393512708725,
          7.228329862743984e-7,
          0.00000327385392702496,
          0.000006451369495703576,
          0.000003054525768020078,
          0.0000011581671365574046,
          0.00001090702349252296,
          0.000007119782909227292,
          0.00001309674372348463,
          0.000010974565951822482,
          0.00002938392331932856,
          0.00003532740627078155,
          0.00001427062922059227,
          0.00003205681685737915,
          0.000018453006018113634,
          0.0004245307684965,
          0.000010326623434956856,
          0.0001708091949199,
          0.0001248290364299,
          0.000011793883917634869,
          0.0001590696046814,
          0.000230915431044,
          0.0000057304889959673205,
          0.00003458427166261925,
          0.0032448465804728,
          0.00004057411419710897,
          0.0001867307283784,
          0.0004099361213304,
          0.000007774065295986963,
          0.00005268207829818755,
          0.0001121849620538,
          0.0001891657405,
          0.000046577739719812034,
          0.000156093417686,
          0.000012892391687852582,
          0.00009617600811218429
         ],
         "showlegend": false,
         "subplot": "polar3",
         "theta": [
          "OC",
          "PF",
          "PF",
          "OC",
          "1°S",
          "1°M",
          "P",
          "T",
          "C",
          "1°S",
          "1°M",
          "PM",
          "P",
          "PF",
          "OC",
          "T",
          "C",
          "OC",
          "PF",
          "1°S",
          "1°M",
          "PM",
          "P",
          "T",
          "C",
          "1°S",
          "1°M",
          "PM",
          "P",
          "T",
          "C",
          "OC",
          "PF",
          "PF",
          "OC",
          "1°S",
          "PM",
          "C",
          "PF",
          "1°S",
          "1°M",
          "PM",
          "P",
          "T",
          "C",
          "STN",
          "PU",
          "GP",
          "STN",
          "PU",
          "GP",
          "STN",
          "PU",
          "GP",
          "STN",
          "PU",
          "GP",
          "STN",
          "PU",
          "GP",
          "DN",
          "DN",
          "DN",
          "DN",
          "DN",
          "DN"
         ],
         "type": "scatterpolargl"
        },
        {
         "marker": {
          "color": "steelblue",
          "line": {
           "color": "black"
          }
         },
         "name": "Tau density, stage 5",
         "r": [
          0.000006249771978571338,
          0.000023048752822753402,
          0.000026989936950729742,
          0.000052975202075310376,
          0.000059884184657865494,
          0.00007367500090981956,
          0.00009363576723831844,
          0.00011649274087191236,
          0.00015909506689441242,
          0.00015975134835205274,
          0.0005175828480709297,
          0.0014800644876150429
         ],
         "showlegend": false,
         "subplot": "polar4",
         "theta": [
          "OC",
          "T",
          "PF",
          "C",
          "1°S",
          "P",
          "PU",
          "PM",
          "DN",
          "1°M",
          "GP",
          "STN"
         ],
         "type": "barpolar"
        },
        {
         "marker": {
          "color": "black",
          "size": 4
         },
         "mode": "markers",
         "name": "Stage 5",
         "r": [
          0.00003249973977292729,
          0.000003158165489371379,
          0.00003271457244312547,
          0.0001371466959569,
          0.000056227940476401125,
          0.00004012576975894377,
          0.00003096631948968532,
          0.000010866904190417496,
          0.000003731821213969811,
          0.0000355397455717813,
          0.000006374272978740713,
          0.00009593877072052638,
          0.0003044322898395,
          0.0001079656916754,
          0.00002156338180390821,
          0.000159687452231,
          0.00001812132623287299,
          0.000007563771404123183,
          0.000005104436914984708,
          0.0001295516085417,
          0.000005162759871168257,
          0.00003714325045852129,
          0.00001911378929626024,
          0.0001101478142325,
          0.0000318689358202295,
          0.00006742720585657604,
          0.0001503502632132,
          0.0001524699357661,
          0.00002526141998769881,
          0.0000404315458902521,
          0.00004970551220171814,
          0.000006480058487632254,
          0.00002332945988507647,
          0.000009526419025108689,
          0.0001328329030424,
          0.000009601875117744028,
          0.00002064629184198242,
          0.000002098245186626721,
          0.00001834460624623921,
          0.000004325412793832194,
          0.0001100608533432,
          0.0002334963495802,
          0.00009888112533761384,
          0.0001725978385664,
          0.000013123001837991684,
          0.00009489864193553096,
          0.000008590387537435704,
          0.00003731510090712682,
          0.0000774006890909089,
          0.0003571002171189,
          0.00007181560684845105,
          0.00003483102914283444,
          0.000020186892340173747,
          0.00002099411458495481,
          0.00002347400725168031,
          0.000007021016248023314,
          0.00003054276423573699,
          0.0002115257042738,
          0.00006557661346311475,
          0.00006946477448783547,
          0.000003994292794683245,
          0.000014460574088460091,
          0.0001608874417612,
          0.000004730437201739223,
          0.00006132412780638707,
          0.0041330292854355,
          0.0026472683973814,
          0.0004202419743139,
          0.0003485938605987,
          0.0000025987142254226174,
          0.00008458790295737801,
          0.0024294749803377,
          0.00007481799797393058,
          0.0004186352847978,
          0.00059509709497,
          0.000107595621246,
          0.0000397817141201633,
          0.0023591987655332,
          0.00008285068640651388,
          0.0002384343991188,
          0.000334169984669,
          0.000030428846426559573,
          0.00006523420318874281,
          0.0003791663644605,
          0.0001305017940559,
          0.0001125914679555,
          0.00000767552921037774,
          0.0001951503225622,
          0.00007691231200490917,
          0.0002116676780115
         ],
         "showlegend": false,
         "subplot": "polar4",
         "theta": [
          "PF",
          "OC",
          "1°S",
          "1°M",
          "PM",
          "P",
          "PF",
          "OC",
          "T",
          "C",
          "OC",
          "1°S",
          "PM",
          "P",
          "T",
          "C",
          "PF",
          "OC",
          "1°S",
          "P",
          "T",
          "C",
          "1°M",
          "T",
          "PF",
          "1°S",
          "1°M",
          "PM",
          "P",
          "C",
          "PM",
          "T",
          "PF",
          "1°M",
          "PM",
          "P",
          "C",
          "OC",
          "PF",
          "OC",
          "1°S",
          "1°M",
          "PM",
          "P",
          "T",
          "C",
          "OC",
          "PF",
          "1°S",
          "1°M",
          "PM",
          "P",
          "T",
          "C",
          "PF",
          "OC",
          "1°S",
          "1°M",
          "PM",
          "P",
          "T",
          "C",
          "STN",
          "PU",
          "GP",
          "STN",
          "GP",
          "PU",
          "STN",
          "PU",
          "GP",
          "STN",
          "PU",
          "GP",
          "STN",
          "GP",
          "PU",
          "STN",
          "PU",
          "GP",
          "STN",
          "PU",
          "GP",
          "DN",
          "DN",
          "DN",
          "DN",
          "DN",
          "DN",
          "DN"
         ],
         "type": "scatterpolargl"
        }
       ],
       "layout": {
        "annotations": [
         {
          "font": {
           "color": "black",
           "size": 16
          },
          "showarrow": false,
          "text": "Stage 2",
          "x": 0.025,
          "xanchor": "center",
          "xref": "paper",
          "y": 1,
          "yanchor": "bottom",
          "yref": "paper"
         },
         {
          "font": {
           "color": "black",
           "size": 16
          },
          "showarrow": false,
          "text": "Stage 3",
          "x": 0.575,
          "xanchor": "center",
          "xref": "paper",
          "y": 1,
          "yanchor": "bottom",
          "yref": "paper"
         },
         {
          "font": {
           "color": "black",
           "size": 16
          },
          "showarrow": false,
          "text": "Stage 4",
          "x": 0.025,
          "xanchor": "center",
          "xref": "paper",
          "y": 0.6111111111111112,
          "yanchor": "bottom",
          "yref": "paper"
         },
         {
          "font": {
           "color": "black",
           "size": 16
          },
          "showarrow": false,
          "text": "Stage 5",
          "x": 0.575,
          "xanchor": "center",
          "xref": "paper",
          "y": 0.6111111111111112,
          "yanchor": "bottom",
          "yref": "paper"
         },
         {
          "font": {
           "color": "black",
           "size": 16
          },
          "showarrow": false,
          "text": "Stage 6",
          "x": 0.025,
          "xanchor": "center",
          "xref": "paper",
          "y": 0.22222222222222224,
          "yanchor": "bottom",
          "yref": "paper"
         }
        ],
        "height": 1200,
        "polar": {
         "angularaxis": {
          "categoryarray": [
           "STN",
           "GP",
           "PU",
           "DN",
           "PF",
           "PM",
           "1°M",
           "1°S",
           "T",
           "P",
           "OC",
           "C"
          ],
          "color": "black",
          "tickfont": {
           "size": 15
          }
         },
         "domain": {
          "x": [
           0,
           0.45
          ],
          "y": [
           0.7777777777777778,
           1
          ]
         },
         "radialaxis": {
          "dtick": 1,
          "range": [
           -5.658614087379893,
           -2.212324961535779
          ],
          "showticklabels": true,
          "tickangle": 90,
          "ticks": "outside",
          "type": "log"
         }
        },
        "polar2": {
         "angularaxis": {
          "categoryarray": [
           "STN",
           "GP",
           "PU",
           "DN",
           "PF",
           "PM",
           "1°M",
           "1°S",
           "T",
           "P",
           "OC",
           "C"
          ],
          "color": "black",
          "tickfont": {
           "size": 15
          }
         },
         "domain": {
          "x": [
           0.55,
           1
          ],
          "y": [
           0.7777777777777778,
           1
          ]
         },
         "radialaxis": {
          "dtick": 1,
          "range": [
           -5.658614087379893,
           -2.212324961535779
          ],
          "showticklabels": true,
          "tickangle": 90,
          "ticks": "outside",
          "type": "log"
         }
        },
        "polar3": {
         "angularaxis": {
          "categoryarray": [
           "STN",
           "GP",
           "PU",
           "DN",
           "PF",
           "PM",
           "1°M",
           "1°S",
           "T",
           "P",
           "OC",
           "C"
          ],
          "color": "black",
          "tickfont": {
           "size": 15
          }
         },
         "domain": {
          "x": [
           0,
           0.45
          ],
          "y": [
           0.3888888888888889,
           0.6111111111111112
          ]
         },
         "radialaxis": {
          "dtick": 1,
          "range": [
           -5.658614087379893,
           -2.212324961535779
          ],
          "showticklabels": true,
          "tickangle": 90,
          "ticks": "outside",
          "type": "log"
         }
        },
        "polar4": {
         "angularaxis": {
          "categoryarray": [
           "STN",
           "GP",
           "PU",
           "DN",
           "PF",
           "PM",
           "1°M",
           "1°S",
           "T",
           "P",
           "OC",
           "C"
          ],
          "color": "black",
          "tickfont": {
           "size": 15
          }
         },
         "domain": {
          "x": [
           0.55,
           1
          ],
          "y": [
           0.3888888888888889,
           0.6111111111111112
          ]
         },
         "radialaxis": {
          "dtick": 1,
          "range": [
           -5.658614087379893,
           -2.212324961535779
          ],
          "showticklabels": true,
          "tickangle": 90,
          "ticks": "outside",
          "type": "log"
         }
        },
        "polar5": {
         "angularaxis": {
          "categoryarray": [
           "STN",
           "GP",
           "PU",
           "DN",
           "PF",
           "PM",
           "1°M",
           "1°S",
           "T",
           "P",
           "OC",
           "C"
          ],
          "color": "black",
          "tickfont": {
           "size": 15
          }
         },
         "domain": {
          "x": [
           0,
           0.45
          ],
          "y": [
           0,
           0.22222222222222224
          ]
         },
         "radialaxis": {
          "dtick": 1,
          "range": [
           -5.658614087379893,
           -2.212324961535779
          ],
          "showticklabels": true,
          "tickangle": 90,
          "ticks": "outside",
          "type": "log"
         }
        },
        "polar6": {
         "domain": {
          "x": [
           0.55,
           1
          ],
          "y": [
           0,
           0.22222222222222224
          ]
         }
        },
        "template": {
         "data": {
          "bar": [
           {
            "error_x": {
             "color": "#2a3f5f"
            },
            "error_y": {
             "color": "#2a3f5f"
            },
            "marker": {
             "line": {
              "color": "#E5ECF6",
              "width": 0.5
             },
             "pattern": {
              "fillmode": "overlay",
              "size": 10,
              "solidity": 0.2
             }
            },
            "type": "bar"
           }
          ],
          "barpolar": [
           {
            "marker": {
             "line": {
              "color": "#E5ECF6",
              "width": 0.5
             },
             "pattern": {
              "fillmode": "overlay",
              "size": 10,
              "solidity": 0.2
             }
            },
            "type": "barpolar"
           }
          ],
          "carpet": [
           {
            "aaxis": {
             "endlinecolor": "#2a3f5f",
             "gridcolor": "white",
             "linecolor": "white",
             "minorgridcolor": "white",
             "startlinecolor": "#2a3f5f"
            },
            "baxis": {
             "endlinecolor": "#2a3f5f",
             "gridcolor": "white",
             "linecolor": "white",
             "minorgridcolor": "white",
             "startlinecolor": "#2a3f5f"
            },
            "type": "carpet"
           }
          ],
          "choropleth": [
           {
            "colorbar": {
             "outlinewidth": 0,
             "ticks": ""
            },
            "type": "choropleth"
           }
          ],
          "contour": [
           {
            "colorbar": {
             "outlinewidth": 0,
             "ticks": ""
            },
            "colorscale": [
             [
              0,
              "#0d0887"
             ],
             [
              0.1111111111111111,
              "#46039f"
             ],
             [
              0.2222222222222222,
              "#7201a8"
             ],
             [
              0.3333333333333333,
              "#9c179e"
             ],
             [
              0.4444444444444444,
              "#bd3786"
             ],
             [
              0.5555555555555556,
              "#d8576b"
             ],
             [
              0.6666666666666666,
              "#ed7953"
             ],
             [
              0.7777777777777778,
              "#fb9f3a"
             ],
             [
              0.8888888888888888,
              "#fdca26"
             ],
             [
              1,
              "#f0f921"
             ]
            ],
            "type": "contour"
           }
          ],
          "contourcarpet": [
           {
            "colorbar": {
             "outlinewidth": 0,
             "ticks": ""
            },
            "type": "contourcarpet"
           }
          ],
          "heatmap": [
           {
            "colorbar": {
             "outlinewidth": 0,
             "ticks": ""
            },
            "colorscale": [
             [
              0,
              "#0d0887"
             ],
             [
              0.1111111111111111,
              "#46039f"
             ],
             [
              0.2222222222222222,
              "#7201a8"
             ],
             [
              0.3333333333333333,
              "#9c179e"
             ],
             [
              0.4444444444444444,
              "#bd3786"
             ],
             [
              0.5555555555555556,
              "#d8576b"
             ],
             [
              0.6666666666666666,
              "#ed7953"
             ],
             [
              0.7777777777777778,
              "#fb9f3a"
             ],
             [
              0.8888888888888888,
              "#fdca26"
             ],
             [
              1,
              "#f0f921"
             ]
            ],
            "type": "heatmap"
           }
          ],
          "heatmapgl": [
           {
            "colorbar": {
             "outlinewidth": 0,
             "ticks": ""
            },
            "colorscale": [
             [
              0,
              "#0d0887"
             ],
             [
              0.1111111111111111,
              "#46039f"
             ],
             [
              0.2222222222222222,
              "#7201a8"
             ],
             [
              0.3333333333333333,
              "#9c179e"
             ],
             [
              0.4444444444444444,
              "#bd3786"
             ],
             [
              0.5555555555555556,
              "#d8576b"
             ],
             [
              0.6666666666666666,
              "#ed7953"
             ],
             [
              0.7777777777777778,
              "#fb9f3a"
             ],
             [
              0.8888888888888888,
              "#fdca26"
             ],
             [
              1,
              "#f0f921"
             ]
            ],
            "type": "heatmapgl"
           }
          ],
          "histogram": [
           {
            "marker": {
             "pattern": {
              "fillmode": "overlay",
              "size": 10,
              "solidity": 0.2
             }
            },
            "type": "histogram"
           }
          ],
          "histogram2d": [
           {
            "colorbar": {
             "outlinewidth": 0,
             "ticks": ""
            },
            "colorscale": [
             [
              0,
              "#0d0887"
             ],
             [
              0.1111111111111111,
              "#46039f"
             ],
             [
              0.2222222222222222,
              "#7201a8"
             ],
             [
              0.3333333333333333,
              "#9c179e"
             ],
             [
              0.4444444444444444,
              "#bd3786"
             ],
             [
              0.5555555555555556,
              "#d8576b"
             ],
             [
              0.6666666666666666,
              "#ed7953"
             ],
             [
              0.7777777777777778,
              "#fb9f3a"
             ],
             [
              0.8888888888888888,
              "#fdca26"
             ],
             [
              1,
              "#f0f921"
             ]
            ],
            "type": "histogram2d"
           }
          ],
          "histogram2dcontour": [
           {
            "colorbar": {
             "outlinewidth": 0,
             "ticks": ""
            },
            "colorscale": [
             [
              0,
              "#0d0887"
             ],
             [
              0.1111111111111111,
              "#46039f"
             ],
             [
              0.2222222222222222,
              "#7201a8"
             ],
             [
              0.3333333333333333,
              "#9c179e"
             ],
             [
              0.4444444444444444,
              "#bd3786"
             ],
             [
              0.5555555555555556,
              "#d8576b"
             ],
             [
              0.6666666666666666,
              "#ed7953"
             ],
             [
              0.7777777777777778,
              "#fb9f3a"
             ],
             [
              0.8888888888888888,
              "#fdca26"
             ],
             [
              1,
              "#f0f921"
             ]
            ],
            "type": "histogram2dcontour"
           }
          ],
          "mesh3d": [
           {
            "colorbar": {
             "outlinewidth": 0,
             "ticks": ""
            },
            "type": "mesh3d"
           }
          ],
          "parcoords": [
           {
            "line": {
             "colorbar": {
              "outlinewidth": 0,
              "ticks": ""
             }
            },
            "type": "parcoords"
           }
          ],
          "pie": [
           {
            "automargin": true,
            "type": "pie"
           }
          ],
          "scatter": [
           {
            "fillpattern": {
             "fillmode": "overlay",
             "size": 10,
             "solidity": 0.2
            },
            "type": "scatter"
           }
          ],
          "scatter3d": [
           {
            "line": {
             "colorbar": {
              "outlinewidth": 0,
              "ticks": ""
             }
            },
            "marker": {
             "colorbar": {
              "outlinewidth": 0,
              "ticks": ""
             }
            },
            "type": "scatter3d"
           }
          ],
          "scattercarpet": [
           {
            "marker": {
             "colorbar": {
              "outlinewidth": 0,
              "ticks": ""
             }
            },
            "type": "scattercarpet"
           }
          ],
          "scattergeo": [
           {
            "marker": {
             "colorbar": {
              "outlinewidth": 0,
              "ticks": ""
             }
            },
            "type": "scattergeo"
           }
          ],
          "scattergl": [
           {
            "marker": {
             "colorbar": {
              "outlinewidth": 0,
              "ticks": ""
             }
            },
            "type": "scattergl"
           }
          ],
          "scattermapbox": [
           {
            "marker": {
             "colorbar": {
              "outlinewidth": 0,
              "ticks": ""
             }
            },
            "type": "scattermapbox"
           }
          ],
          "scatterpolar": [
           {
            "marker": {
             "colorbar": {
              "outlinewidth": 0,
              "ticks": ""
             }
            },
            "type": "scatterpolar"
           }
          ],
          "scatterpolargl": [
           {
            "marker": {
             "colorbar": {
              "outlinewidth": 0,
              "ticks": ""
             }
            },
            "type": "scatterpolargl"
           }
          ],
          "scatterternary": [
           {
            "marker": {
             "colorbar": {
              "outlinewidth": 0,
              "ticks": ""
             }
            },
            "type": "scatterternary"
           }
          ],
          "surface": [
           {
            "colorbar": {
             "outlinewidth": 0,
             "ticks": ""
            },
            "colorscale": [
             [
              0,
              "#0d0887"
             ],
             [
              0.1111111111111111,
              "#46039f"
             ],
             [
              0.2222222222222222,
              "#7201a8"
             ],
             [
              0.3333333333333333,
              "#9c179e"
             ],
             [
              0.4444444444444444,
              "#bd3786"
             ],
             [
              0.5555555555555556,
              "#d8576b"
             ],
             [
              0.6666666666666666,
              "#ed7953"
             ],
             [
              0.7777777777777778,
              "#fb9f3a"
             ],
             [
              0.8888888888888888,
              "#fdca26"
             ],
             [
              1,
              "#f0f921"
             ]
            ],
            "type": "surface"
           }
          ],
          "table": [
           {
            "cells": {
             "fill": {
              "color": "#EBF0F8"
             },
             "line": {
              "color": "white"
             }
            },
            "header": {
             "fill": {
              "color": "#C8D4E3"
             },
             "line": {
              "color": "white"
             }
            },
            "type": "table"
           }
          ]
         },
         "layout": {
          "annotationdefaults": {
           "arrowcolor": "#2a3f5f",
           "arrowhead": 0,
           "arrowwidth": 1
          },
          "autotypenumbers": "strict",
          "coloraxis": {
           "colorbar": {
            "outlinewidth": 0,
            "ticks": ""
           }
          },
          "colorscale": {
           "diverging": [
            [
             0,
             "#8e0152"
            ],
            [
             0.1,
             "#c51b7d"
            ],
            [
             0.2,
             "#de77ae"
            ],
            [
             0.3,
             "#f1b6da"
            ],
            [
             0.4,
             "#fde0ef"
            ],
            [
             0.5,
             "#f7f7f7"
            ],
            [
             0.6,
             "#e6f5d0"
            ],
            [
             0.7,
             "#b8e186"
            ],
            [
             0.8,
             "#7fbc41"
            ],
            [
             0.9,
             "#4d9221"
            ],
            [
             1,
             "#276419"
            ]
           ],
           "sequential": [
            [
             0,
             "#0d0887"
            ],
            [
             0.1111111111111111,
             "#46039f"
            ],
            [
             0.2222222222222222,
             "#7201a8"
            ],
            [
             0.3333333333333333,
             "#9c179e"
            ],
            [
             0.4444444444444444,
             "#bd3786"
            ],
            [
             0.5555555555555556,
             "#d8576b"
            ],
            [
             0.6666666666666666,
             "#ed7953"
            ],
            [
             0.7777777777777778,
             "#fb9f3a"
            ],
            [
             0.8888888888888888,
             "#fdca26"
            ],
            [
             1,
             "#f0f921"
            ]
           ],
           "sequentialminus": [
            [
             0,
             "#0d0887"
            ],
            [
             0.1111111111111111,
             "#46039f"
            ],
            [
             0.2222222222222222,
             "#7201a8"
            ],
            [
             0.3333333333333333,
             "#9c179e"
            ],
            [
             0.4444444444444444,
             "#bd3786"
            ],
            [
             0.5555555555555556,
             "#d8576b"
            ],
            [
             0.6666666666666666,
             "#ed7953"
            ],
            [
             0.7777777777777778,
             "#fb9f3a"
            ],
            [
             0.8888888888888888,
             "#fdca26"
            ],
            [
             1,
             "#f0f921"
            ]
           ]
          },
          "colorway": [
           "#636efa",
           "#EF553B",
           "#00cc96",
           "#ab63fa",
           "#FFA15A",
           "#19d3f3",
           "#FF6692",
           "#B6E880",
           "#FF97FF",
           "#FECB52"
          ],
          "font": {
           "color": "#2a3f5f"
          },
          "geo": {
           "bgcolor": "white",
           "lakecolor": "white",
           "landcolor": "#E5ECF6",
           "showlakes": true,
           "showland": true,
           "subunitcolor": "white"
          },
          "hoverlabel": {
           "align": "left"
          },
          "hovermode": "closest",
          "mapbox": {
           "style": "light"
          },
          "paper_bgcolor": "white",
          "plot_bgcolor": "#E5ECF6",
          "polar": {
           "angularaxis": {
            "gridcolor": "white",
            "linecolor": "white",
            "ticks": ""
           },
           "bgcolor": "#E5ECF6",
           "radialaxis": {
            "gridcolor": "white",
            "linecolor": "white",
            "ticks": ""
           }
          },
          "scene": {
           "xaxis": {
            "backgroundcolor": "#E5ECF6",
            "gridcolor": "white",
            "gridwidth": 2,
            "linecolor": "white",
            "showbackground": true,
            "ticks": "",
            "zerolinecolor": "white"
           },
           "yaxis": {
            "backgroundcolor": "#E5ECF6",
            "gridcolor": "white",
            "gridwidth": 2,
            "linecolor": "white",
            "showbackground": true,
            "ticks": "",
            "zerolinecolor": "white"
           },
           "zaxis": {
            "backgroundcolor": "#E5ECF6",
            "gridcolor": "white",
            "gridwidth": 2,
            "linecolor": "white",
            "showbackground": true,
            "ticks": "",
            "zerolinecolor": "white"
           }
          },
          "shapedefaults": {
           "line": {
            "color": "#2a3f5f"
           }
          },
          "ternary": {
           "aaxis": {
            "gridcolor": "white",
            "linecolor": "white",
            "ticks": ""
           },
           "baxis": {
            "gridcolor": "white",
            "linecolor": "white",
            "ticks": ""
           },
           "bgcolor": "#E5ECF6",
           "caxis": {
            "gridcolor": "white",
            "linecolor": "white",
            "ticks": ""
           }
          },
          "title": {
           "x": 0.05
          },
          "xaxis": {
           "automargin": true,
           "gridcolor": "white",
           "linecolor": "white",
           "ticks": "",
           "title": {
            "standoff": 15
           },
           "zerolinecolor": "white",
           "zerolinewidth": 2
          },
          "yaxis": {
           "automargin": true,
           "gridcolor": "white",
           "linecolor": "white",
           "ticks": "",
           "title": {
            "standoff": 15
           },
           "zerolinecolor": "white",
           "zerolinewidth": 2
          }
         }
        },
        "title": {
         "text": ""
        },
        "width": 1000
       }
      }
     },
     "metadata": {},
     "output_type": "display_data"
    }
   ],
   "source": [
    "total_tau_plot = polar_plot(dict_subset=psp_stage_dict_psp_rs,\n",
    "                    dict_mean=mean_total_tau_dict_psp_rs,\n",
    "                    tau_type='Total_tau_density',\n",
    "                    val_add=0.002,\n",
    "                    anatomical_order=anatomical_order,\n",
    "                    marker_colors=['PaleTurquoise','skyblue','cornflowerblue','steelblue','slategrey'],\n",
    "                    marker_color='',\n",
    "                    marker_line_color=\"black\",\n",
    "                   title='',\n",
    "                   tick_label=True,\n",
    "                   fig_height=1200,\n",
    "                   fig_width=1000,\n",
    "                   tickangle_val=90) # 'Total tau density across brain regions in PSP'\n",
    "total_tau_plot.show()"
   ]
  },
  {
   "cell_type": "markdown",
   "metadata": {},
   "source": [
    "**not PSP-RS**"
   ]
  },
  {
   "cell_type": "code",
   "execution_count": 37,
   "metadata": {},
   "outputs": [
    {
     "name": "stdout",
     "output_type": "stream",
     "text": [
      "min value:  -6.691066099842773\n",
      "max value:  -2.5660061837039487\n"
     ]
    },
    {
     "data": {
      "application/vnd.plotly.v1+json": {
       "config": {
        "plotlyServerURL": "https://plot.ly"
       },
       "data": [
        {
         "marker": {
          "color": "PaleTurquoise",
          "line": {
           "color": "black"
          }
         },
         "name": "Tau density, stage 2",
         "r": [
          2.036732062450102e-7,
          5.347539955165242e-7,
          7.087362869338425e-7,
          0.0000015280869972250446,
          0.000001752486320605612,
          0.0000018955510300429585,
          0.00000206379826454516,
          0.000011361085626222826,
          0.000015063809368703616,
          0.0003385799946907,
          0.0003992457503518
         ],
         "showlegend": false,
         "subplot": "polar",
         "theta": [
          "OC",
          "T",
          "1°M",
          "PF",
          "PM",
          "1°S",
          "C",
          "DN",
          "PU",
          "GP",
          "STN"
         ],
         "type": "barpolar"
        },
        {
         "marker": {
          "color": "black",
          "size": 4
         },
         "mode": "markers",
         "name": "Stage 2",
         "r": [
          0.0000015280869972250446,
          2.036732062450102e-7,
          0.0000018955510300429585,
          7.087362869338425e-7,
          0.000001752486320605612,
          5.347539955165242e-7,
          0.00000206379826454516,
          0.0003992457503518,
          0.000015063809368703616,
          0.0003385799946907,
          0.000011361085626222826
         ],
         "showlegend": false,
         "subplot": "polar",
         "theta": [
          "PF",
          "OC",
          "1°S",
          "1°M",
          "PM",
          "T",
          "C",
          "STN",
          "PU",
          "GP",
          "DN"
         ],
         "type": "scatterpolargl"
        },
        {
         "marker": {
          "color": "cornflowerblue",
          "line": {
           "color": "black"
          }
         },
         "name": "Tau density, stage 4",
         "r": [
          9.838031063289398e-7,
          0.000003183788567987672,
          0.000015054340639325451,
          0.00003994918292889455,
          0.00008811110926459409,
          0.00011001789808332407,
          0.0002732128971502
         ],
         "showlegend": false,
         "subplot": "polar3",
         "theta": [
          "OC",
          "T",
          "PF",
          "PU",
          "GP",
          "DN",
          "STN"
         ],
         "type": "barpolar"
        },
        {
         "marker": {
          "color": "black",
          "size": 4
         },
         "mode": "markers",
         "name": "Stage 4",
         "r": [
          0.00003417787906610497,
          8.117825691329557e-7,
          0.000001093361954055708,
          0.000006949108793288062,
          0.000001046264795798156,
          0.000004036034058583322,
          0.000003183788567987672,
          0.00006534095935577438,
          0.000315760164068,
          0.0001466342965396,
          0.0002306656302324,
          0.000014557406502014727,
          0.00002958792198958816,
          0.0001066049576358,
          0.0002113159275715,
          0.000012132809042672185
         ],
         "showlegend": false,
         "subplot": "polar3",
         "theta": [
          "PF",
          "OC",
          "OC",
          "PF",
          "OC",
          "PF",
          "T",
          "PU",
          "STN",
          "GP",
          "STN",
          "PU",
          "GP",
          "DN",
          "DN",
          "DN"
         ],
         "type": "scatterpolargl"
        },
        {
         "marker": {
          "color": "steelblue",
          "line": {
           "color": "black"
          }
         },
         "name": "Tau density, stage 5",
         "r": [
          0.000005375280949238995,
          0.000008726290486667842,
          0.000018110070988720437,
          0.000025617069881867588,
          0.00004013358365917324,
          0.000047945614093392174,
          0.00005722399590488492,
          0.00013712115515404015,
          0.00016307504135634244,
          0.00022378668566225,
          0.00023218267041454999,
          0.00084803045057375
         ],
         "showlegend": false,
         "subplot": "polar4",
         "theta": [
          "T",
          "OC",
          "PF",
          "C",
          "P",
          "PM",
          "PU",
          "1°S",
          "1°M",
          "GP",
          "DN",
          "STN"
         ],
         "type": "barpolar"
        },
        {
         "marker": {
          "color": "black",
          "size": 4
         },
         "mode": "markers",
         "name": "Stage 5",
         "r": [
          0.00004050689192850597,
          0.000007423775299340301,
          0.00001301850674155154,
          0.000003628962978875728,
          0.00000531509975510908,
          0.000017844710926810904,
          0.0002061463896275,
          0.00006933222415881086,
          0.000246578069048,
          0.00006350938083731082,
          0.000002916705631651637,
          0.00003329178068392995,
          0.00007957201366468489,
          0.00002655900402797349,
          0.0000680959206805803,
          0.000016757786481035675,
          0.00001359978552971516,
          0.000006007712741644434,
          0.000007833856266826352,
          0.000017942359079805226,
          0.0014440604986635,
          0.00007216331680285128,
          0.0002532476638184,
          0.000252000402484,
          0.00004228467500691856,
          0.0001943257075061,
          0.0003501028101909,
          0.0001790373303532,
          0.0002909749041612,
          0.0001086156369529
         ],
         "showlegend": false,
         "subplot": "polar4",
         "theta": [
          "PF",
          "OC",
          "PF",
          "OC",
          "PF",
          "OC",
          "1°S",
          "PM",
          "1°M",
          "P",
          "T",
          "C",
          "1°M",
          "PM",
          "1°S",
          "P",
          "PF",
          "OC",
          "T",
          "C",
          "STN",
          "PU",
          "GP",
          "STN",
          "PU",
          "GP",
          "DN",
          "DN",
          "DN",
          "DN"
         ],
         "type": "scatterpolargl"
        },
        {
         "marker": {
          "color": "slategrey",
          "line": {
           "color": "black"
          }
         },
         "name": "Tau density, stage 6",
         "r": [
          0.000014464985418386819,
          0.000017560168131297917,
          0.000018897050175134974,
          0.00001912725287548418,
          0.000031124445627096464,
          0.000036433789182861416,
          0.00007271028873316696,
          0.00010785810748634283,
          0.00020913659524170002,
          0.0002119141043453,
          0.0003074197684753,
          0.0007164005910816
         ],
         "showlegend": false,
         "subplot": "polar5",
         "theta": [
          "T",
          "OC",
          "C",
          "PF",
          "P",
          "PU",
          "PM",
          "1°S",
          "DN",
          "GP",
          "1°M",
          "STN"
         ],
         "type": "barpolar"
        },
        {
         "marker": {
          "color": "black",
          "size": 4
         },
         "mode": "markers",
         "name": "Stage 6",
         "r": [
          0.00001912725287548418,
          0.000017560168131297917,
          0.0001939784256596,
          0.000020503133645778014,
          0.000024764014106284807,
          0.000021737789313085685,
          0.0003074197684753,
          0.00007271028873316696,
          0.000031124445627096464,
          0.000008426837190995623,
          0.000013030086243985138,
          0.0007164005910816,
          0.000036433789182861416,
          0.0002119141043453,
          0.0002052284867728,
          0.0002130447037106
         ],
         "showlegend": false,
         "subplot": "polar5",
         "theta": [
          "PF",
          "OC",
          "1°S",
          "T",
          "C",
          "1°S",
          "1°M",
          "PM",
          "P",
          "T",
          "C",
          "STN",
          "PU",
          "GP",
          "DN",
          "DN"
         ],
         "type": "scatterpolargl"
        }
       ],
       "layout": {
        "annotations": [
         {
          "font": {
           "color": "black",
           "size": 16
          },
          "showarrow": false,
          "text": "Stage 2",
          "x": 0.025,
          "xanchor": "center",
          "xref": "paper",
          "y": 1,
          "yanchor": "bottom",
          "yref": "paper"
         },
         {
          "font": {
           "color": "black",
           "size": 16
          },
          "showarrow": false,
          "text": "Stage 3",
          "x": 0.575,
          "xanchor": "center",
          "xref": "paper",
          "y": 1,
          "yanchor": "bottom",
          "yref": "paper"
         },
         {
          "font": {
           "color": "black",
           "size": 16
          },
          "showarrow": false,
          "text": "Stage 4",
          "x": 0.025,
          "xanchor": "center",
          "xref": "paper",
          "y": 0.6111111111111112,
          "yanchor": "bottom",
          "yref": "paper"
         },
         {
          "font": {
           "color": "black",
           "size": 16
          },
          "showarrow": false,
          "text": "Stage 5",
          "x": 0.575,
          "xanchor": "center",
          "xref": "paper",
          "y": 0.6111111111111112,
          "yanchor": "bottom",
          "yref": "paper"
         },
         {
          "font": {
           "color": "black",
           "size": 16
          },
          "showarrow": false,
          "text": "Stage 6",
          "x": 0.025,
          "xanchor": "center",
          "xref": "paper",
          "y": 0.22222222222222224,
          "yanchor": "bottom",
          "yref": "paper"
         }
        ],
        "height": 1200,
        "polar": {
         "angularaxis": {
          "categoryarray": [
           "STN",
           "GP",
           "PU",
           "DN",
           "PF",
           "PM",
           "1°M",
           "1°S",
           "T",
           "P",
           "OC",
           "C"
          ],
          "color": "black",
          "tickfont": {
           "size": 15
          }
         },
         "domain": {
          "x": [
           0,
           0.45
          ],
          "y": [
           0.7777777777777778,
           1
          ]
         },
         "radialaxis": {
          "dtick": 1,
          "range": [
           -6.691066099842773,
           -2.5660061837039487
          ],
          "showticklabels": true,
          "tickangle": 90,
          "ticks": "outside",
          "type": "log"
         }
        },
        "polar2": {
         "angularaxis": {
          "categoryarray": [
           "STN",
           "GP",
           "PU",
           "DN",
           "PF",
           "PM",
           "1°M",
           "1°S",
           "T",
           "P",
           "OC",
           "C"
          ],
          "color": "black",
          "tickfont": {
           "size": 15
          }
         },
         "domain": {
          "x": [
           0.55,
           1
          ],
          "y": [
           0.7777777777777778,
           1
          ]
         },
         "radialaxis": {
          "dtick": 1,
          "range": [
           -6.691066099842773,
           -2.5660061837039487
          ],
          "showticklabels": true,
          "tickangle": 90,
          "ticks": "outside",
          "type": "log"
         }
        },
        "polar3": {
         "angularaxis": {
          "categoryarray": [
           "STN",
           "GP",
           "PU",
           "DN",
           "PF",
           "PM",
           "1°M",
           "1°S",
           "T",
           "P",
           "OC",
           "C"
          ],
          "color": "black",
          "tickfont": {
           "size": 15
          }
         },
         "domain": {
          "x": [
           0,
           0.45
          ],
          "y": [
           0.3888888888888889,
           0.6111111111111112
          ]
         },
         "radialaxis": {
          "dtick": 1,
          "range": [
           -6.691066099842773,
           -2.5660061837039487
          ],
          "showticklabels": true,
          "tickangle": 90,
          "ticks": "outside",
          "type": "log"
         }
        },
        "polar4": {
         "angularaxis": {
          "categoryarray": [
           "STN",
           "GP",
           "PU",
           "DN",
           "PF",
           "PM",
           "1°M",
           "1°S",
           "T",
           "P",
           "OC",
           "C"
          ],
          "color": "black",
          "tickfont": {
           "size": 15
          }
         },
         "domain": {
          "x": [
           0.55,
           1
          ],
          "y": [
           0.3888888888888889,
           0.6111111111111112
          ]
         },
         "radialaxis": {
          "dtick": 1,
          "range": [
           -6.691066099842773,
           -2.5660061837039487
          ],
          "showticklabels": true,
          "tickangle": 90,
          "ticks": "outside",
          "type": "log"
         }
        },
        "polar5": {
         "angularaxis": {
          "categoryarray": [
           "STN",
           "GP",
           "PU",
           "DN",
           "PF",
           "PM",
           "1°M",
           "1°S",
           "T",
           "P",
           "OC",
           "C"
          ],
          "color": "black",
          "tickfont": {
           "size": 15
          }
         },
         "domain": {
          "x": [
           0,
           0.45
          ],
          "y": [
           0,
           0.22222222222222224
          ]
         },
         "radialaxis": {
          "dtick": 1,
          "range": [
           -6.691066099842773,
           -2.5660061837039487
          ],
          "showticklabels": true,
          "tickangle": 90,
          "ticks": "outside",
          "type": "log"
         }
        },
        "polar6": {
         "domain": {
          "x": [
           0.55,
           1
          ],
          "y": [
           0,
           0.22222222222222224
          ]
         }
        },
        "template": {
         "data": {
          "bar": [
           {
            "error_x": {
             "color": "#2a3f5f"
            },
            "error_y": {
             "color": "#2a3f5f"
            },
            "marker": {
             "line": {
              "color": "#E5ECF6",
              "width": 0.5
             },
             "pattern": {
              "fillmode": "overlay",
              "size": 10,
              "solidity": 0.2
             }
            },
            "type": "bar"
           }
          ],
          "barpolar": [
           {
            "marker": {
             "line": {
              "color": "#E5ECF6",
              "width": 0.5
             },
             "pattern": {
              "fillmode": "overlay",
              "size": 10,
              "solidity": 0.2
             }
            },
            "type": "barpolar"
           }
          ],
          "carpet": [
           {
            "aaxis": {
             "endlinecolor": "#2a3f5f",
             "gridcolor": "white",
             "linecolor": "white",
             "minorgridcolor": "white",
             "startlinecolor": "#2a3f5f"
            },
            "baxis": {
             "endlinecolor": "#2a3f5f",
             "gridcolor": "white",
             "linecolor": "white",
             "minorgridcolor": "white",
             "startlinecolor": "#2a3f5f"
            },
            "type": "carpet"
           }
          ],
          "choropleth": [
           {
            "colorbar": {
             "outlinewidth": 0,
             "ticks": ""
            },
            "type": "choropleth"
           }
          ],
          "contour": [
           {
            "colorbar": {
             "outlinewidth": 0,
             "ticks": ""
            },
            "colorscale": [
             [
              0,
              "#0d0887"
             ],
             [
              0.1111111111111111,
              "#46039f"
             ],
             [
              0.2222222222222222,
              "#7201a8"
             ],
             [
              0.3333333333333333,
              "#9c179e"
             ],
             [
              0.4444444444444444,
              "#bd3786"
             ],
             [
              0.5555555555555556,
              "#d8576b"
             ],
             [
              0.6666666666666666,
              "#ed7953"
             ],
             [
              0.7777777777777778,
              "#fb9f3a"
             ],
             [
              0.8888888888888888,
              "#fdca26"
             ],
             [
              1,
              "#f0f921"
             ]
            ],
            "type": "contour"
           }
          ],
          "contourcarpet": [
           {
            "colorbar": {
             "outlinewidth": 0,
             "ticks": ""
            },
            "type": "contourcarpet"
           }
          ],
          "heatmap": [
           {
            "colorbar": {
             "outlinewidth": 0,
             "ticks": ""
            },
            "colorscale": [
             [
              0,
              "#0d0887"
             ],
             [
              0.1111111111111111,
              "#46039f"
             ],
             [
              0.2222222222222222,
              "#7201a8"
             ],
             [
              0.3333333333333333,
              "#9c179e"
             ],
             [
              0.4444444444444444,
              "#bd3786"
             ],
             [
              0.5555555555555556,
              "#d8576b"
             ],
             [
              0.6666666666666666,
              "#ed7953"
             ],
             [
              0.7777777777777778,
              "#fb9f3a"
             ],
             [
              0.8888888888888888,
              "#fdca26"
             ],
             [
              1,
              "#f0f921"
             ]
            ],
            "type": "heatmap"
           }
          ],
          "heatmapgl": [
           {
            "colorbar": {
             "outlinewidth": 0,
             "ticks": ""
            },
            "colorscale": [
             [
              0,
              "#0d0887"
             ],
             [
              0.1111111111111111,
              "#46039f"
             ],
             [
              0.2222222222222222,
              "#7201a8"
             ],
             [
              0.3333333333333333,
              "#9c179e"
             ],
             [
              0.4444444444444444,
              "#bd3786"
             ],
             [
              0.5555555555555556,
              "#d8576b"
             ],
             [
              0.6666666666666666,
              "#ed7953"
             ],
             [
              0.7777777777777778,
              "#fb9f3a"
             ],
             [
              0.8888888888888888,
              "#fdca26"
             ],
             [
              1,
              "#f0f921"
             ]
            ],
            "type": "heatmapgl"
           }
          ],
          "histogram": [
           {
            "marker": {
             "pattern": {
              "fillmode": "overlay",
              "size": 10,
              "solidity": 0.2
             }
            },
            "type": "histogram"
           }
          ],
          "histogram2d": [
           {
            "colorbar": {
             "outlinewidth": 0,
             "ticks": ""
            },
            "colorscale": [
             [
              0,
              "#0d0887"
             ],
             [
              0.1111111111111111,
              "#46039f"
             ],
             [
              0.2222222222222222,
              "#7201a8"
             ],
             [
              0.3333333333333333,
              "#9c179e"
             ],
             [
              0.4444444444444444,
              "#bd3786"
             ],
             [
              0.5555555555555556,
              "#d8576b"
             ],
             [
              0.6666666666666666,
              "#ed7953"
             ],
             [
              0.7777777777777778,
              "#fb9f3a"
             ],
             [
              0.8888888888888888,
              "#fdca26"
             ],
             [
              1,
              "#f0f921"
             ]
            ],
            "type": "histogram2d"
           }
          ],
          "histogram2dcontour": [
           {
            "colorbar": {
             "outlinewidth": 0,
             "ticks": ""
            },
            "colorscale": [
             [
              0,
              "#0d0887"
             ],
             [
              0.1111111111111111,
              "#46039f"
             ],
             [
              0.2222222222222222,
              "#7201a8"
             ],
             [
              0.3333333333333333,
              "#9c179e"
             ],
             [
              0.4444444444444444,
              "#bd3786"
             ],
             [
              0.5555555555555556,
              "#d8576b"
             ],
             [
              0.6666666666666666,
              "#ed7953"
             ],
             [
              0.7777777777777778,
              "#fb9f3a"
             ],
             [
              0.8888888888888888,
              "#fdca26"
             ],
             [
              1,
              "#f0f921"
             ]
            ],
            "type": "histogram2dcontour"
           }
          ],
          "mesh3d": [
           {
            "colorbar": {
             "outlinewidth": 0,
             "ticks": ""
            },
            "type": "mesh3d"
           }
          ],
          "parcoords": [
           {
            "line": {
             "colorbar": {
              "outlinewidth": 0,
              "ticks": ""
             }
            },
            "type": "parcoords"
           }
          ],
          "pie": [
           {
            "automargin": true,
            "type": "pie"
           }
          ],
          "scatter": [
           {
            "fillpattern": {
             "fillmode": "overlay",
             "size": 10,
             "solidity": 0.2
            },
            "type": "scatter"
           }
          ],
          "scatter3d": [
           {
            "line": {
             "colorbar": {
              "outlinewidth": 0,
              "ticks": ""
             }
            },
            "marker": {
             "colorbar": {
              "outlinewidth": 0,
              "ticks": ""
             }
            },
            "type": "scatter3d"
           }
          ],
          "scattercarpet": [
           {
            "marker": {
             "colorbar": {
              "outlinewidth": 0,
              "ticks": ""
             }
            },
            "type": "scattercarpet"
           }
          ],
          "scattergeo": [
           {
            "marker": {
             "colorbar": {
              "outlinewidth": 0,
              "ticks": ""
             }
            },
            "type": "scattergeo"
           }
          ],
          "scattergl": [
           {
            "marker": {
             "colorbar": {
              "outlinewidth": 0,
              "ticks": ""
             }
            },
            "type": "scattergl"
           }
          ],
          "scattermapbox": [
           {
            "marker": {
             "colorbar": {
              "outlinewidth": 0,
              "ticks": ""
             }
            },
            "type": "scattermapbox"
           }
          ],
          "scatterpolar": [
           {
            "marker": {
             "colorbar": {
              "outlinewidth": 0,
              "ticks": ""
             }
            },
            "type": "scatterpolar"
           }
          ],
          "scatterpolargl": [
           {
            "marker": {
             "colorbar": {
              "outlinewidth": 0,
              "ticks": ""
             }
            },
            "type": "scatterpolargl"
           }
          ],
          "scatterternary": [
           {
            "marker": {
             "colorbar": {
              "outlinewidth": 0,
              "ticks": ""
             }
            },
            "type": "scatterternary"
           }
          ],
          "surface": [
           {
            "colorbar": {
             "outlinewidth": 0,
             "ticks": ""
            },
            "colorscale": [
             [
              0,
              "#0d0887"
             ],
             [
              0.1111111111111111,
              "#46039f"
             ],
             [
              0.2222222222222222,
              "#7201a8"
             ],
             [
              0.3333333333333333,
              "#9c179e"
             ],
             [
              0.4444444444444444,
              "#bd3786"
             ],
             [
              0.5555555555555556,
              "#d8576b"
             ],
             [
              0.6666666666666666,
              "#ed7953"
             ],
             [
              0.7777777777777778,
              "#fb9f3a"
             ],
             [
              0.8888888888888888,
              "#fdca26"
             ],
             [
              1,
              "#f0f921"
             ]
            ],
            "type": "surface"
           }
          ],
          "table": [
           {
            "cells": {
             "fill": {
              "color": "#EBF0F8"
             },
             "line": {
              "color": "white"
             }
            },
            "header": {
             "fill": {
              "color": "#C8D4E3"
             },
             "line": {
              "color": "white"
             }
            },
            "type": "table"
           }
          ]
         },
         "layout": {
          "annotationdefaults": {
           "arrowcolor": "#2a3f5f",
           "arrowhead": 0,
           "arrowwidth": 1
          },
          "autotypenumbers": "strict",
          "coloraxis": {
           "colorbar": {
            "outlinewidth": 0,
            "ticks": ""
           }
          },
          "colorscale": {
           "diverging": [
            [
             0,
             "#8e0152"
            ],
            [
             0.1,
             "#c51b7d"
            ],
            [
             0.2,
             "#de77ae"
            ],
            [
             0.3,
             "#f1b6da"
            ],
            [
             0.4,
             "#fde0ef"
            ],
            [
             0.5,
             "#f7f7f7"
            ],
            [
             0.6,
             "#e6f5d0"
            ],
            [
             0.7,
             "#b8e186"
            ],
            [
             0.8,
             "#7fbc41"
            ],
            [
             0.9,
             "#4d9221"
            ],
            [
             1,
             "#276419"
            ]
           ],
           "sequential": [
            [
             0,
             "#0d0887"
            ],
            [
             0.1111111111111111,
             "#46039f"
            ],
            [
             0.2222222222222222,
             "#7201a8"
            ],
            [
             0.3333333333333333,
             "#9c179e"
            ],
            [
             0.4444444444444444,
             "#bd3786"
            ],
            [
             0.5555555555555556,
             "#d8576b"
            ],
            [
             0.6666666666666666,
             "#ed7953"
            ],
            [
             0.7777777777777778,
             "#fb9f3a"
            ],
            [
             0.8888888888888888,
             "#fdca26"
            ],
            [
             1,
             "#f0f921"
            ]
           ],
           "sequentialminus": [
            [
             0,
             "#0d0887"
            ],
            [
             0.1111111111111111,
             "#46039f"
            ],
            [
             0.2222222222222222,
             "#7201a8"
            ],
            [
             0.3333333333333333,
             "#9c179e"
            ],
            [
             0.4444444444444444,
             "#bd3786"
            ],
            [
             0.5555555555555556,
             "#d8576b"
            ],
            [
             0.6666666666666666,
             "#ed7953"
            ],
            [
             0.7777777777777778,
             "#fb9f3a"
            ],
            [
             0.8888888888888888,
             "#fdca26"
            ],
            [
             1,
             "#f0f921"
            ]
           ]
          },
          "colorway": [
           "#636efa",
           "#EF553B",
           "#00cc96",
           "#ab63fa",
           "#FFA15A",
           "#19d3f3",
           "#FF6692",
           "#B6E880",
           "#FF97FF",
           "#FECB52"
          ],
          "font": {
           "color": "#2a3f5f"
          },
          "geo": {
           "bgcolor": "white",
           "lakecolor": "white",
           "landcolor": "#E5ECF6",
           "showlakes": true,
           "showland": true,
           "subunitcolor": "white"
          },
          "hoverlabel": {
           "align": "left"
          },
          "hovermode": "closest",
          "mapbox": {
           "style": "light"
          },
          "paper_bgcolor": "white",
          "plot_bgcolor": "#E5ECF6",
          "polar": {
           "angularaxis": {
            "gridcolor": "white",
            "linecolor": "white",
            "ticks": ""
           },
           "bgcolor": "#E5ECF6",
           "radialaxis": {
            "gridcolor": "white",
            "linecolor": "white",
            "ticks": ""
           }
          },
          "scene": {
           "xaxis": {
            "backgroundcolor": "#E5ECF6",
            "gridcolor": "white",
            "gridwidth": 2,
            "linecolor": "white",
            "showbackground": true,
            "ticks": "",
            "zerolinecolor": "white"
           },
           "yaxis": {
            "backgroundcolor": "#E5ECF6",
            "gridcolor": "white",
            "gridwidth": 2,
            "linecolor": "white",
            "showbackground": true,
            "ticks": "",
            "zerolinecolor": "white"
           },
           "zaxis": {
            "backgroundcolor": "#E5ECF6",
            "gridcolor": "white",
            "gridwidth": 2,
            "linecolor": "white",
            "showbackground": true,
            "ticks": "",
            "zerolinecolor": "white"
           }
          },
          "shapedefaults": {
           "line": {
            "color": "#2a3f5f"
           }
          },
          "ternary": {
           "aaxis": {
            "gridcolor": "white",
            "linecolor": "white",
            "ticks": ""
           },
           "baxis": {
            "gridcolor": "white",
            "linecolor": "white",
            "ticks": ""
           },
           "bgcolor": "#E5ECF6",
           "caxis": {
            "gridcolor": "white",
            "linecolor": "white",
            "ticks": ""
           }
          },
          "title": {
           "x": 0.05
          },
          "xaxis": {
           "automargin": true,
           "gridcolor": "white",
           "linecolor": "white",
           "ticks": "",
           "title": {
            "standoff": 15
           },
           "zerolinecolor": "white",
           "zerolinewidth": 2
          },
          "yaxis": {
           "automargin": true,
           "gridcolor": "white",
           "linecolor": "white",
           "ticks": "",
           "title": {
            "standoff": 15
           },
           "zerolinecolor": "white",
           "zerolinewidth": 2
          }
         }
        },
        "title": {
         "text": ""
        },
        "width": 1000
       }
      }
     },
     "metadata": {},
     "output_type": "display_data"
    }
   ],
   "source": [
    "total_tau_plot = polar_plot(dict_subset=psp_stage_dict_not_psp_rs,\n",
    "                    dict_mean=mean_total_tau_dict_not_psp_rs,\n",
    "                    tau_type='Total_tau_density',\n",
    "                    val_add=0.002,\n",
    "                    anatomical_order=anatomical_order,\n",
    "                    marker_colors=['PaleTurquoise','skyblue','cornflowerblue','steelblue','slategrey'],\n",
    "                    marker_color='',\n",
    "                    marker_line_color=\"black\",\n",
    "                   title='',\n",
    "                   tick_label=True,\n",
    "                   fig_height=1200,\n",
    "                   fig_width=1000,\n",
    "                   tickangle_val=90) # 'Total tau density across brain regions in PSP'\n",
    "total_tau_plot.show()"
   ]
  },
  {
   "cell_type": "markdown",
   "metadata": {},
   "source": [
    "**PSP-RS: Tau hallmark density**"
   ]
  },
  {
   "cell_type": "code",
   "execution_count": 39,
   "metadata": {},
   "outputs": [
    {
     "name": "stdout",
     "output_type": "stream",
     "text": [
      "min value:  -7.0143146819689965\n",
      "max value:  -3.791403386202706\n"
     ]
    },
    {
     "data": {
      "application/vnd.plotly.v1+json": {
       "config": {
        "plotlyServerURL": "https://plot.ly"
       },
       "data": [
        {
         "marker": {
          "color": "PaleTurquoise",
          "line": {
           "color": "black"
          }
         },
         "name": "Tau density, stage 2",
         "r": [
          9.675765136659009e-8,
          9.760351709458745e-8,
          1.247019500251224e-7,
          3.1365480485085573e-7,
          3.571501387309173e-7,
          8.333108055120772e-7,
          0.000002254342435363713,
          0.00000287468831191978,
          0.0000033435330800090543
         ],
         "showlegend": false,
         "subplot": "polar",
         "theta": [
          "PF",
          "C",
          "1°S",
          "PU",
          "P",
          "T",
          "DN",
          "STN",
          "GP"
         ],
         "type": "barpolar"
        },
        {
         "marker": {
          "color": "black",
          "size": 4
         },
         "mode": "markers",
         "name": "Stage 2",
         "r": [
          9.675765136659009e-8,
          8.333108055120772e-7,
          3.571501387309173e-7,
          9.760351709458745e-8,
          1.247019500251224e-7,
          0.00000287468831191978,
          3.1365480485085573e-7,
          0.0000033435330800090543,
          0.000002254342435363713
         ],
         "showlegend": false,
         "subplot": "polar",
         "theta": [
          "PF",
          "T",
          "P",
          "C",
          "1°S",
          "STN",
          "PU",
          "GP",
          "DN"
         ],
         "type": "scatterpolargl"
        },
        {
         "marker": {
          "color": "skyblue",
          "line": {
           "color": "black"
          }
         },
         "name": "Tau density, stage 3",
         "r": [
          2.91878107234628e-7,
          0.0000011641717424139058,
          0.0000017957117267710755,
          0.000002456267347013393,
          0.0000024920724859312685,
          0.0000032529623545247048,
          0.000004638409322189504,
          0.000004653611153058026,
          0.000005170740025242888,
          0.000007691846733772164,
          0.000022445960375079422,
          0.0000607161975914192
         ],
         "showlegend": false,
         "subplot": "polar2",
         "theta": [
          "OC",
          "1°S",
          "PF",
          "C",
          "P",
          "DN",
          "PU",
          "T",
          "PM",
          "1°M",
          "GP",
          "STN"
         ],
         "type": "barpolar"
        },
        {
         "marker": {
          "color": "black",
          "size": 4
         },
         "mode": "markers",
         "name": "Stage 3",
         "r": [
          0.000001377947570518821,
          5.840730847239515e-7,
          0.0000025757736672148,
          9.950678211034065e-7,
          5.46950519898081e-7,
          0.000013455773557182778,
          0.00000451216654454028,
          0.000002864651319349936,
          0.0000023743542961557345,
          0.0000020229608887207504,
          0.000022242945610817732,
          0.000012782159000304692,
          0.0000063724420664784975,
          4.350562256576438e-7,
          2.485215057748084e-7,
          1.5428740820917278e-7,
          1.0870757021190085e-7,
          1.481295648075569e-7,
          3.680569457117514e-8,
          7.000367633365566e-8,
          4.003681494865058e-7,
          9.160676800214597e-8,
          7.705498354224837e-7,
          0.00001497367876833839,
          0.000004778202169351567,
          0.0001064587164145,
          0.000008506268808956525,
          0.00004011371858080728,
          0.000003337193570950306,
          0.000005344953112038939,
          0.0000010767403805848705
         ],
         "showlegend": false,
         "subplot": "polar2",
         "theta": [
          "1°S",
          "1°M",
          "PM",
          "P",
          "OC",
          "T",
          "C",
          "PF",
          "PF",
          "1°S",
          "1°M",
          "PM",
          "P",
          "T",
          "1°M",
          "PM",
          "P",
          "PF",
          "OC",
          "T",
          "C",
          "1°S",
          "PU",
          "STN",
          "GP",
          "STN",
          "PU",
          "GP",
          "DN",
          "DN",
          "DN"
         ],
         "type": "scatterpolargl"
        },
        {
         "marker": {
          "color": "cornflowerblue",
          "line": {
           "color": "black"
          }
         },
         "name": "Tau density, stage 4",
         "r": [
          2.148973624485787e-7,
          4.208829879336394e-7,
          6.767331155255242e-7,
          0.0000010399333718598153,
          0.0000016729217461974557,
          0.000001921787158825919,
          0.0000025449100932096293,
          0.000005396080144678354,
          0.00000708062026756549,
          0.000008527908500804261,
          0.000008702633356852134,
          0.000027300341319100295
         ],
         "showlegend": false,
         "subplot": "polar3",
         "theta": [
          "OC",
          "T",
          "PU",
          "PF",
          "1°S",
          "C",
          "P",
          "GP",
          "DN",
          "1°M",
          "PM",
          "STN"
         ],
         "type": "barpolar"
        },
        {
         "marker": {
          "color": "black",
          "size": 4
         },
         "mode": "markers",
         "name": "Stage 4",
         "r": [
          9.361588607663969e-8,
          2.699411673444974e-7,
          6.06769559972868e-7,
          1.5238119348186297e-7,
          6.996304482009558e-7,
          0.000006125323184299537,
          0.0000010506666276910475,
          3.324479268411041e-7,
          0.000001893560544774812,
          0.0000028094181475901867,
          0.0000050533411093678566,
          0.00002537682486989523,
          0.000007047293979325904,
          0.0000014636669381249342,
          2.5065838205744064e-7,
          3.1119612824967214e-7,
          0.0000011794648211724314,
          1.969936492441595e-7,
          0.0000011847430167449636,
          0.000003615289475007363,
          0.000016040593101798233,
          0.000004755908097712941,
          0.000001693002127632685,
          2.991956197569782e-7,
          0.0000031867711671688766,
          0.000001376919156940154,
          0.000012601634012947211,
          0.000006562063809310416,
          0.00000142844841846674,
          1.394847496162309e-7,
          8.398022631398277e-7,
          5.0284033827784245e-8,
          5.421220481310148e-7,
          0.000002177891174212002,
          5.454510300035853e-7,
          3.557768327986799e-7,
          0.000004721690988802585,
          0.0000028839626974085235,
          0.000001034399698488428,
          0.000001180496416647396,
          0.000002818651095608467,
          0.0000020966790185394936,
          0.0000015051393129317683,
          0.0000010220905152042115,
          0.0000015471614592910454,
          0.00002871066747430742,
          4.168298521922689e-7,
          0.0000063163816871429135,
          0.000019460039899726684,
          0.0000011943173587478348,
          0.000011075236439183084,
          0.00004919775729406473,
          6.416953823609239e-7,
          0.000004902546984531543,
          0.000017004436457471756,
          8.036964743469435e-7,
          0.000003154779848052032,
          0.00002212880546993091,
          3.271265099796495e-7,
          0.000001531455764482196,
          0.000010530910954087468,
          0.00001434108501985916,
          0.000003971305457231233,
          0.00000646991177451605,
          3.883250508389332e-7,
          0.000006782183348860096
         ],
         "showlegend": false,
         "subplot": "polar3",
         "theta": [
          "OC",
          "PF",
          "PF",
          "OC",
          "1°S",
          "1°M",
          "P",
          "T",
          "C",
          "1°S",
          "1°M",
          "PM",
          "P",
          "PF",
          "OC",
          "T",
          "C",
          "OC",
          "PF",
          "1°S",
          "1°M",
          "PM",
          "P",
          "T",
          "C",
          "1°S",
          "1°M",
          "PM",
          "P",
          "T",
          "C",
          "OC",
          "PF",
          "PF",
          "OC",
          "1°S",
          "PM",
          "C",
          "PF",
          "1°S",
          "1°M",
          "PM",
          "P",
          "T",
          "C",
          "STN",
          "PU",
          "GP",
          "STN",
          "PU",
          "GP",
          "STN",
          "PU",
          "GP",
          "STN",
          "PU",
          "GP",
          "STN",
          "PU",
          "GP",
          "DN",
          "DN",
          "DN",
          "DN",
          "DN",
          "DN"
         ],
         "type": "scatterpolargl"
        },
        {
         "marker": {
          "color": "steelblue",
          "line": {
           "color": "black"
          }
         },
         "name": "Tau density, stage 5",
         "r": [
          9.133000898556626e-7,
          0.0000023566761495011255,
          0.000004615464020014296,
          0.000007398269153171313,
          0.000008281086088589778,
          0.000011068053117194442,
          0.000013509438313228436,
          0.000014182908425493514,
          0.0000202817278053091,
          0.000022861219600969364,
          0.000026081679428892155,
          0.00005570429027684668
         ],
         "showlegend": false,
         "subplot": "polar4",
         "theta": [
          "OC",
          "T",
          "PF",
          "C",
          "PU",
          "1°S",
          "DN",
          "P",
          "GP",
          "PM",
          "1°M",
          "STN"
         ],
         "type": "barpolar"
        },
        {
         "marker": {
          "color": "black",
          "size": 4
         },
         "mode": "markers",
         "name": "Stage 5",
         "r": [
          0.000003015191097191424,
          3.378137214999236e-7,
          0.000006292875698389421,
          0.000027404943099612698,
          0.00001090016047460609,
          0.000008498672562342975,
          0.0000052607580079807535,
          0.000001806869018264848,
          9.284699414564312e-7,
          0.000005700849745688096,
          7.189999363981685e-7,
          0.00002259035429812212,
          0.000051805390186071424,
          0.00002599887862731394,
          0.000005643387954308704,
          0.000020946555421906166,
          0.000003893388955847951,
          0.0000012246427384909525,
          0.0000011608424758613525,
          0.000025007499166105476,
          0.0000010465685168703073,
          0.000005562026042096621,
          0.000004290451295833178,
          0.000005190912498038677,
          0.000005382536511816896,
          0.000010849761814862804,
          0.000021631435602199463,
          0.00002828662245828241,
          0.000004827691397732221,
          0.000005596928873237377,
          0.0000144743437018634,
          0.000002570302528613911,
          0.000008328105922065937,
          0.000002320645764280669,
          0.000035016836477141654,
          0.000002723290442877401,
          0.00000395802467670907,
          4.7151577227566766e-7,
          0.0000029846116428472734,
          9.273685029976224e-7,
          0.00002271397423144178,
          0.00005130361755537668,
          0.000022153341126031725,
          0.00002799192527264089,
          8.05728380326541e-7,
          0.00001148957679626114,
          9.45111399010608e-7,
          0.000004838661436308753,
          0.000008688680058927957,
          0.00003911741723964909,
          0.000008786484344165454,
          0.000006005114809165781,
          0.000002062008745476975,
          0.000004387441915215166,
          0.000003220458586055378,
          8.740796299075104e-7,
          0.000005179883242755656,
          0.00003650324544529334,
          0.00001146657803959275,
          0.000012410195125769434,
          6.060306309174577e-7,
          0.0000015447497542568643,
          0.000022915718707834183,
          1.74126522763407e-7,
          0.00000420626513814424,
          0.00008669571865412287,
          0.0000422058747940299,
          0.000020573866140946672,
          0.000035119530731963206,
          1.8645483231731785e-7,
          0.00001223359091730228,
          0.0001116577812416,
          0.000016948266120161556,
          0.000047058343566963056,
          0.00006989593065302728,
          0.000018619761402281043,
          0.0000095290292153396,
          0.00005581959500913718,
          0.000007174876852315482,
          0.000015489774154109782,
          0.000007825756940242052,
          0.000003380982936284397,
          0.0000021584846643334024,
          0.00003159719703838134,
          0.00001196630162887662,
          0.000006819050265326932,
          3.655013909703685e-7,
          0.000014048268993757222,
          0.000011156039677141638,
          0.000018613709198144915
         ],
         "showlegend": false,
         "subplot": "polar4",
         "theta": [
          "PF",
          "OC",
          "1°S",
          "1°M",
          "PM",
          "P",
          "PF",
          "OC",
          "T",
          "C",
          "OC",
          "1°S",
          "PM",
          "P",
          "T",
          "C",
          "PF",
          "OC",
          "1°S",
          "P",
          "T",
          "C",
          "1°M",
          "T",
          "PF",
          "1°S",
          "1°M",
          "PM",
          "P",
          "C",
          "PM",
          "T",
          "PF",
          "1°M",
          "PM",
          "P",
          "C",
          "OC",
          "PF",
          "OC",
          "1°S",
          "1°M",
          "PM",
          "P",
          "T",
          "C",
          "OC",
          "PF",
          "1°S",
          "1°M",
          "PM",
          "P",
          "T",
          "C",
          "PF",
          "OC",
          "1°S",
          "1°M",
          "PM",
          "P",
          "T",
          "C",
          "STN",
          "PU",
          "GP",
          "STN",
          "GP",
          "PU",
          "STN",
          "PU",
          "GP",
          "STN",
          "PU",
          "GP",
          "STN",
          "GP",
          "PU",
          "STN",
          "PU",
          "GP",
          "STN",
          "PU",
          "GP",
          "DN",
          "DN",
          "DN",
          "DN",
          "DN",
          "DN",
          "DN"
         ],
         "type": "scatterpolargl"
        }
       ],
       "layout": {
        "annotations": [
         {
          "font": {
           "color": "black",
           "size": 16
          },
          "showarrow": false,
          "text": "Stage 2",
          "x": 0.025,
          "xanchor": "center",
          "xref": "paper",
          "y": 1,
          "yanchor": "bottom",
          "yref": "paper"
         },
         {
          "font": {
           "color": "black",
           "size": 16
          },
          "showarrow": false,
          "text": "Stage 3",
          "x": 0.575,
          "xanchor": "center",
          "xref": "paper",
          "y": 1,
          "yanchor": "bottom",
          "yref": "paper"
         },
         {
          "font": {
           "color": "black",
           "size": 16
          },
          "showarrow": false,
          "text": "Stage 4",
          "x": 0.025,
          "xanchor": "center",
          "xref": "paper",
          "y": 0.6111111111111112,
          "yanchor": "bottom",
          "yref": "paper"
         },
         {
          "font": {
           "color": "black",
           "size": 16
          },
          "showarrow": false,
          "text": "Stage 5",
          "x": 0.575,
          "xanchor": "center",
          "xref": "paper",
          "y": 0.6111111111111112,
          "yanchor": "bottom",
          "yref": "paper"
         },
         {
          "font": {
           "color": "black",
           "size": 16
          },
          "showarrow": false,
          "text": "Stage 6",
          "x": 0.025,
          "xanchor": "center",
          "xref": "paper",
          "y": 0.22222222222222224,
          "yanchor": "bottom",
          "yref": "paper"
         }
        ],
        "height": 1200,
        "polar": {
         "angularaxis": {
          "categoryarray": [
           "STN",
           "GP",
           "PU",
           "DN",
           "PF",
           "PM",
           "1°M",
           "1°S",
           "T",
           "P",
           "OC",
           "C"
          ],
          "color": "black",
          "tickfont": {
           "size": 15
          }
         },
         "domain": {
          "x": [
           0,
           0.45
          ],
          "y": [
           0.7777777777777778,
           1
          ]
         },
         "radialaxis": {
          "dtick": 1,
          "range": [
           -7.0143146819689965,
           -3.791403386202706
          ],
          "showticklabels": true,
          "tickangle": 90,
          "ticks": "outside",
          "type": "log"
         }
        },
        "polar2": {
         "angularaxis": {
          "categoryarray": [
           "STN",
           "GP",
           "PU",
           "DN",
           "PF",
           "PM",
           "1°M",
           "1°S",
           "T",
           "P",
           "OC",
           "C"
          ],
          "color": "black",
          "tickfont": {
           "size": 15
          }
         },
         "domain": {
          "x": [
           0.55,
           1
          ],
          "y": [
           0.7777777777777778,
           1
          ]
         },
         "radialaxis": {
          "dtick": 1,
          "range": [
           -7.0143146819689965,
           -3.791403386202706
          ],
          "showticklabels": true,
          "tickangle": 90,
          "ticks": "outside",
          "type": "log"
         }
        },
        "polar3": {
         "angularaxis": {
          "categoryarray": [
           "STN",
           "GP",
           "PU",
           "DN",
           "PF",
           "PM",
           "1°M",
           "1°S",
           "T",
           "P",
           "OC",
           "C"
          ],
          "color": "black",
          "tickfont": {
           "size": 15
          }
         },
         "domain": {
          "x": [
           0,
           0.45
          ],
          "y": [
           0.3888888888888889,
           0.6111111111111112
          ]
         },
         "radialaxis": {
          "dtick": 1,
          "range": [
           -7.0143146819689965,
           -3.791403386202706
          ],
          "showticklabels": true,
          "tickangle": 90,
          "ticks": "outside",
          "type": "log"
         }
        },
        "polar4": {
         "angularaxis": {
          "categoryarray": [
           "STN",
           "GP",
           "PU",
           "DN",
           "PF",
           "PM",
           "1°M",
           "1°S",
           "T",
           "P",
           "OC",
           "C"
          ],
          "color": "black",
          "tickfont": {
           "size": 15
          }
         },
         "domain": {
          "x": [
           0.55,
           1
          ],
          "y": [
           0.3888888888888889,
           0.6111111111111112
          ]
         },
         "radialaxis": {
          "dtick": 1,
          "range": [
           -7.0143146819689965,
           -3.791403386202706
          ],
          "showticklabels": true,
          "tickangle": 90,
          "ticks": "outside",
          "type": "log"
         }
        },
        "polar5": {
         "angularaxis": {
          "categoryarray": [
           "STN",
           "GP",
           "PU",
           "DN",
           "PF",
           "PM",
           "1°M",
           "1°S",
           "T",
           "P",
           "OC",
           "C"
          ],
          "color": "black",
          "tickfont": {
           "size": 15
          }
         },
         "domain": {
          "x": [
           0,
           0.45
          ],
          "y": [
           0,
           0.22222222222222224
          ]
         },
         "radialaxis": {
          "dtick": 1,
          "range": [
           -7.0143146819689965,
           -3.791403386202706
          ],
          "showticklabels": true,
          "tickangle": 90,
          "ticks": "outside",
          "type": "log"
         }
        },
        "polar6": {
         "domain": {
          "x": [
           0.55,
           1
          ],
          "y": [
           0,
           0.22222222222222224
          ]
         }
        },
        "template": {
         "data": {
          "bar": [
           {
            "error_x": {
             "color": "#2a3f5f"
            },
            "error_y": {
             "color": "#2a3f5f"
            },
            "marker": {
             "line": {
              "color": "#E5ECF6",
              "width": 0.5
             },
             "pattern": {
              "fillmode": "overlay",
              "size": 10,
              "solidity": 0.2
             }
            },
            "type": "bar"
           }
          ],
          "barpolar": [
           {
            "marker": {
             "line": {
              "color": "#E5ECF6",
              "width": 0.5
             },
             "pattern": {
              "fillmode": "overlay",
              "size": 10,
              "solidity": 0.2
             }
            },
            "type": "barpolar"
           }
          ],
          "carpet": [
           {
            "aaxis": {
             "endlinecolor": "#2a3f5f",
             "gridcolor": "white",
             "linecolor": "white",
             "minorgridcolor": "white",
             "startlinecolor": "#2a3f5f"
            },
            "baxis": {
             "endlinecolor": "#2a3f5f",
             "gridcolor": "white",
             "linecolor": "white",
             "minorgridcolor": "white",
             "startlinecolor": "#2a3f5f"
            },
            "type": "carpet"
           }
          ],
          "choropleth": [
           {
            "colorbar": {
             "outlinewidth": 0,
             "ticks": ""
            },
            "type": "choropleth"
           }
          ],
          "contour": [
           {
            "colorbar": {
             "outlinewidth": 0,
             "ticks": ""
            },
            "colorscale": [
             [
              0,
              "#0d0887"
             ],
             [
              0.1111111111111111,
              "#46039f"
             ],
             [
              0.2222222222222222,
              "#7201a8"
             ],
             [
              0.3333333333333333,
              "#9c179e"
             ],
             [
              0.4444444444444444,
              "#bd3786"
             ],
             [
              0.5555555555555556,
              "#d8576b"
             ],
             [
              0.6666666666666666,
              "#ed7953"
             ],
             [
              0.7777777777777778,
              "#fb9f3a"
             ],
             [
              0.8888888888888888,
              "#fdca26"
             ],
             [
              1,
              "#f0f921"
             ]
            ],
            "type": "contour"
           }
          ],
          "contourcarpet": [
           {
            "colorbar": {
             "outlinewidth": 0,
             "ticks": ""
            },
            "type": "contourcarpet"
           }
          ],
          "heatmap": [
           {
            "colorbar": {
             "outlinewidth": 0,
             "ticks": ""
            },
            "colorscale": [
             [
              0,
              "#0d0887"
             ],
             [
              0.1111111111111111,
              "#46039f"
             ],
             [
              0.2222222222222222,
              "#7201a8"
             ],
             [
              0.3333333333333333,
              "#9c179e"
             ],
             [
              0.4444444444444444,
              "#bd3786"
             ],
             [
              0.5555555555555556,
              "#d8576b"
             ],
             [
              0.6666666666666666,
              "#ed7953"
             ],
             [
              0.7777777777777778,
              "#fb9f3a"
             ],
             [
              0.8888888888888888,
              "#fdca26"
             ],
             [
              1,
              "#f0f921"
             ]
            ],
            "type": "heatmap"
           }
          ],
          "heatmapgl": [
           {
            "colorbar": {
             "outlinewidth": 0,
             "ticks": ""
            },
            "colorscale": [
             [
              0,
              "#0d0887"
             ],
             [
              0.1111111111111111,
              "#46039f"
             ],
             [
              0.2222222222222222,
              "#7201a8"
             ],
             [
              0.3333333333333333,
              "#9c179e"
             ],
             [
              0.4444444444444444,
              "#bd3786"
             ],
             [
              0.5555555555555556,
              "#d8576b"
             ],
             [
              0.6666666666666666,
              "#ed7953"
             ],
             [
              0.7777777777777778,
              "#fb9f3a"
             ],
             [
              0.8888888888888888,
              "#fdca26"
             ],
             [
              1,
              "#f0f921"
             ]
            ],
            "type": "heatmapgl"
           }
          ],
          "histogram": [
           {
            "marker": {
             "pattern": {
              "fillmode": "overlay",
              "size": 10,
              "solidity": 0.2
             }
            },
            "type": "histogram"
           }
          ],
          "histogram2d": [
           {
            "colorbar": {
             "outlinewidth": 0,
             "ticks": ""
            },
            "colorscale": [
             [
              0,
              "#0d0887"
             ],
             [
              0.1111111111111111,
              "#46039f"
             ],
             [
              0.2222222222222222,
              "#7201a8"
             ],
             [
              0.3333333333333333,
              "#9c179e"
             ],
             [
              0.4444444444444444,
              "#bd3786"
             ],
             [
              0.5555555555555556,
              "#d8576b"
             ],
             [
              0.6666666666666666,
              "#ed7953"
             ],
             [
              0.7777777777777778,
              "#fb9f3a"
             ],
             [
              0.8888888888888888,
              "#fdca26"
             ],
             [
              1,
              "#f0f921"
             ]
            ],
            "type": "histogram2d"
           }
          ],
          "histogram2dcontour": [
           {
            "colorbar": {
             "outlinewidth": 0,
             "ticks": ""
            },
            "colorscale": [
             [
              0,
              "#0d0887"
             ],
             [
              0.1111111111111111,
              "#46039f"
             ],
             [
              0.2222222222222222,
              "#7201a8"
             ],
             [
              0.3333333333333333,
              "#9c179e"
             ],
             [
              0.4444444444444444,
              "#bd3786"
             ],
             [
              0.5555555555555556,
              "#d8576b"
             ],
             [
              0.6666666666666666,
              "#ed7953"
             ],
             [
              0.7777777777777778,
              "#fb9f3a"
             ],
             [
              0.8888888888888888,
              "#fdca26"
             ],
             [
              1,
              "#f0f921"
             ]
            ],
            "type": "histogram2dcontour"
           }
          ],
          "mesh3d": [
           {
            "colorbar": {
             "outlinewidth": 0,
             "ticks": ""
            },
            "type": "mesh3d"
           }
          ],
          "parcoords": [
           {
            "line": {
             "colorbar": {
              "outlinewidth": 0,
              "ticks": ""
             }
            },
            "type": "parcoords"
           }
          ],
          "pie": [
           {
            "automargin": true,
            "type": "pie"
           }
          ],
          "scatter": [
           {
            "fillpattern": {
             "fillmode": "overlay",
             "size": 10,
             "solidity": 0.2
            },
            "type": "scatter"
           }
          ],
          "scatter3d": [
           {
            "line": {
             "colorbar": {
              "outlinewidth": 0,
              "ticks": ""
             }
            },
            "marker": {
             "colorbar": {
              "outlinewidth": 0,
              "ticks": ""
             }
            },
            "type": "scatter3d"
           }
          ],
          "scattercarpet": [
           {
            "marker": {
             "colorbar": {
              "outlinewidth": 0,
              "ticks": ""
             }
            },
            "type": "scattercarpet"
           }
          ],
          "scattergeo": [
           {
            "marker": {
             "colorbar": {
              "outlinewidth": 0,
              "ticks": ""
             }
            },
            "type": "scattergeo"
           }
          ],
          "scattergl": [
           {
            "marker": {
             "colorbar": {
              "outlinewidth": 0,
              "ticks": ""
             }
            },
            "type": "scattergl"
           }
          ],
          "scattermapbox": [
           {
            "marker": {
             "colorbar": {
              "outlinewidth": 0,
              "ticks": ""
             }
            },
            "type": "scattermapbox"
           }
          ],
          "scatterpolar": [
           {
            "marker": {
             "colorbar": {
              "outlinewidth": 0,
              "ticks": ""
             }
            },
            "type": "scatterpolar"
           }
          ],
          "scatterpolargl": [
           {
            "marker": {
             "colorbar": {
              "outlinewidth": 0,
              "ticks": ""
             }
            },
            "type": "scatterpolargl"
           }
          ],
          "scatterternary": [
           {
            "marker": {
             "colorbar": {
              "outlinewidth": 0,
              "ticks": ""
             }
            },
            "type": "scatterternary"
           }
          ],
          "surface": [
           {
            "colorbar": {
             "outlinewidth": 0,
             "ticks": ""
            },
            "colorscale": [
             [
              0,
              "#0d0887"
             ],
             [
              0.1111111111111111,
              "#46039f"
             ],
             [
              0.2222222222222222,
              "#7201a8"
             ],
             [
              0.3333333333333333,
              "#9c179e"
             ],
             [
              0.4444444444444444,
              "#bd3786"
             ],
             [
              0.5555555555555556,
              "#d8576b"
             ],
             [
              0.6666666666666666,
              "#ed7953"
             ],
             [
              0.7777777777777778,
              "#fb9f3a"
             ],
             [
              0.8888888888888888,
              "#fdca26"
             ],
             [
              1,
              "#f0f921"
             ]
            ],
            "type": "surface"
           }
          ],
          "table": [
           {
            "cells": {
             "fill": {
              "color": "#EBF0F8"
             },
             "line": {
              "color": "white"
             }
            },
            "header": {
             "fill": {
              "color": "#C8D4E3"
             },
             "line": {
              "color": "white"
             }
            },
            "type": "table"
           }
          ]
         },
         "layout": {
          "annotationdefaults": {
           "arrowcolor": "#2a3f5f",
           "arrowhead": 0,
           "arrowwidth": 1
          },
          "autotypenumbers": "strict",
          "coloraxis": {
           "colorbar": {
            "outlinewidth": 0,
            "ticks": ""
           }
          },
          "colorscale": {
           "diverging": [
            [
             0,
             "#8e0152"
            ],
            [
             0.1,
             "#c51b7d"
            ],
            [
             0.2,
             "#de77ae"
            ],
            [
             0.3,
             "#f1b6da"
            ],
            [
             0.4,
             "#fde0ef"
            ],
            [
             0.5,
             "#f7f7f7"
            ],
            [
             0.6,
             "#e6f5d0"
            ],
            [
             0.7,
             "#b8e186"
            ],
            [
             0.8,
             "#7fbc41"
            ],
            [
             0.9,
             "#4d9221"
            ],
            [
             1,
             "#276419"
            ]
           ],
           "sequential": [
            [
             0,
             "#0d0887"
            ],
            [
             0.1111111111111111,
             "#46039f"
            ],
            [
             0.2222222222222222,
             "#7201a8"
            ],
            [
             0.3333333333333333,
             "#9c179e"
            ],
            [
             0.4444444444444444,
             "#bd3786"
            ],
            [
             0.5555555555555556,
             "#d8576b"
            ],
            [
             0.6666666666666666,
             "#ed7953"
            ],
            [
             0.7777777777777778,
             "#fb9f3a"
            ],
            [
             0.8888888888888888,
             "#fdca26"
            ],
            [
             1,
             "#f0f921"
            ]
           ],
           "sequentialminus": [
            [
             0,
             "#0d0887"
            ],
            [
             0.1111111111111111,
             "#46039f"
            ],
            [
             0.2222222222222222,
             "#7201a8"
            ],
            [
             0.3333333333333333,
             "#9c179e"
            ],
            [
             0.4444444444444444,
             "#bd3786"
            ],
            [
             0.5555555555555556,
             "#d8576b"
            ],
            [
             0.6666666666666666,
             "#ed7953"
            ],
            [
             0.7777777777777778,
             "#fb9f3a"
            ],
            [
             0.8888888888888888,
             "#fdca26"
            ],
            [
             1,
             "#f0f921"
            ]
           ]
          },
          "colorway": [
           "#636efa",
           "#EF553B",
           "#00cc96",
           "#ab63fa",
           "#FFA15A",
           "#19d3f3",
           "#FF6692",
           "#B6E880",
           "#FF97FF",
           "#FECB52"
          ],
          "font": {
           "color": "#2a3f5f"
          },
          "geo": {
           "bgcolor": "white",
           "lakecolor": "white",
           "landcolor": "#E5ECF6",
           "showlakes": true,
           "showland": true,
           "subunitcolor": "white"
          },
          "hoverlabel": {
           "align": "left"
          },
          "hovermode": "closest",
          "mapbox": {
           "style": "light"
          },
          "paper_bgcolor": "white",
          "plot_bgcolor": "#E5ECF6",
          "polar": {
           "angularaxis": {
            "gridcolor": "white",
            "linecolor": "white",
            "ticks": ""
           },
           "bgcolor": "#E5ECF6",
           "radialaxis": {
            "gridcolor": "white",
            "linecolor": "white",
            "ticks": ""
           }
          },
          "scene": {
           "xaxis": {
            "backgroundcolor": "#E5ECF6",
            "gridcolor": "white",
            "gridwidth": 2,
            "linecolor": "white",
            "showbackground": true,
            "ticks": "",
            "zerolinecolor": "white"
           },
           "yaxis": {
            "backgroundcolor": "#E5ECF6",
            "gridcolor": "white",
            "gridwidth": 2,
            "linecolor": "white",
            "showbackground": true,
            "ticks": "",
            "zerolinecolor": "white"
           },
           "zaxis": {
            "backgroundcolor": "#E5ECF6",
            "gridcolor": "white",
            "gridwidth": 2,
            "linecolor": "white",
            "showbackground": true,
            "ticks": "",
            "zerolinecolor": "white"
           }
          },
          "shapedefaults": {
           "line": {
            "color": "#2a3f5f"
           }
          },
          "ternary": {
           "aaxis": {
            "gridcolor": "white",
            "linecolor": "white",
            "ticks": ""
           },
           "baxis": {
            "gridcolor": "white",
            "linecolor": "white",
            "ticks": ""
           },
           "bgcolor": "#E5ECF6",
           "caxis": {
            "gridcolor": "white",
            "linecolor": "white",
            "ticks": ""
           }
          },
          "title": {
           "x": 0.05
          },
          "xaxis": {
           "automargin": true,
           "gridcolor": "white",
           "linecolor": "white",
           "ticks": "",
           "title": {
            "standoff": 15
           },
           "zerolinecolor": "white",
           "zerolinewidth": 2
          },
          "yaxis": {
           "automargin": true,
           "gridcolor": "white",
           "linecolor": "white",
           "ticks": "",
           "title": {
            "standoff": 15
           },
           "zerolinecolor": "white",
           "zerolinewidth": 2
          }
         }
        },
        "title": {
         "text": ""
        },
        "width": 1000
       }
      }
     },
     "metadata": {},
     "output_type": "display_data"
    }
   ],
   "source": [
    "tau_hallmark_plot = polar_plot(dict_subset=psp_stage_dict_psp_rs,\n",
    "                    dict_mean=mean_tau_hallmark_dict_psp_rs,\n",
    "                    tau_type='Tau_hallmark_density',\n",
    "                    val_add=0.00005,\n",
    "                    anatomical_order=anatomical_order,\n",
    "                    marker_colors=['PaleTurquoise','skyblue','cornflowerblue','steelblue','slategrey'],\n",
    "                    marker_color='',\n",
    "                    marker_line_color=\"black\",\n",
    "                   title='',\n",
    "                   tick_label=True,\n",
    "                   fig_height=1200,\n",
    "                   fig_width=1000,\n",
    "                   tickangle_val=90) # 'Tau hallmark density across brain regions in PSP'\n",
    "tau_hallmark_plot.show()"
   ]
  },
  {
   "cell_type": "markdown",
   "metadata": {},
   "source": [
    "**not PSP-RS: Tau hallmark density**"
   ]
  },
  {
   "cell_type": "code",
   "execution_count": 40,
   "metadata": {},
   "outputs": [
    {
     "name": "stdout",
     "output_type": "stream",
     "text": [
      "min value:  -inf\n",
      "max value:  -3.833352271253858\n"
     ]
    },
    {
     "name": "stderr",
     "output_type": "stream",
     "text": [
      "c:\\Users\\mokur\\anaconda3\\lib\\site-packages\\pandas\\core\\arraylike.py:402: RuntimeWarning:\n",
      "\n",
      "divide by zero encountered in log10\n",
      "\n"
     ]
    },
    {
     "data": {
      "application/vnd.plotly.v1+json": {
       "config": {
        "plotlyServerURL": "https://plot.ly"
       },
       "data": [
        {
         "marker": {
          "color": "PaleTurquoise",
          "line": {
           "color": "black"
          }
         },
         "name": "Tau density, stage 2",
         "r": [
          0,
          6.449294418289739e-8,
          7.122439393845546e-8,
          9.051746774320877e-8,
          1.2964688175619074e-7,
          1.6911979450197397e-7,
          2.0354656981538278e-7,
          5.709823961632606e-7,
          9.783885144286784e-7,
          0.000013168379256657868,
          0.00002418874408972617
         ],
         "showlegend": false,
         "subplot": "polar",
         "theta": [
          "OC",
          "T",
          "PF",
          "C",
          "1°M",
          "1°S",
          "PM",
          "DN",
          "PU",
          "STN",
          "GP"
         ],
         "type": "barpolar"
        },
        {
         "marker": {
          "color": "black",
          "size": 4
         },
         "mode": "markers",
         "name": "Stage 2",
         "r": [
          7.122439393845546e-8,
          0,
          1.6911979450197397e-7,
          1.2964688175619074e-7,
          2.0354656981538278e-7,
          6.449294418289739e-8,
          9.051746774320877e-8,
          0.000013168379256657868,
          9.783885144286784e-7,
          0.00002418874408972617,
          5.709823961632606e-7
         ],
         "showlegend": false,
         "subplot": "polar",
         "theta": [
          "PF",
          "OC",
          "1°S",
          "1°M",
          "PM",
          "T",
          "C",
          "STN",
          "PU",
          "GP",
          "DN"
         ],
         "type": "scatterpolargl"
        },
        {
         "marker": {
          "color": "cornflowerblue",
          "line": {
           "color": "black"
          }
         },
         "name": "Tau density, stage 4",
         "r": [
          8.861734494939407e-8,
          1.6938099685416829e-7,
          0.0000016977002481637136,
          0.0000022229874090618327,
          0.0000034127140811874663,
          0.000003913494791572745,
          0.000015741309078236695
         ],
         "showlegend": false,
         "subplot": "polar3",
         "theta": [
          "OC",
          "T",
          "PF",
          "PU",
          "GP",
          "DN",
          "STN"
         ],
         "type": "barpolar"
        },
        {
         "marker": {
          "color": "black",
          "size": 4
         },
         "mode": "markers",
         "name": "Stage 4",
         "r": [
          0.000003555033154394075,
          5.1954084424509167e-8,
          1.6820953139318585e-7,
          8.450510102817832e-7,
          4.568841903048716e-8,
          6.930165798152825e-7,
          1.6938099685416829e-7,
          0.000004165741055673534,
          0.000018051454877114955,
          0.00000595921781137004,
          0.000013431163279358434,
          2.802337624501316e-7,
          8.662103510048923e-7,
          0.000005140433295441619,
          0.000006080897602014891,
          5.191534772617257e-7
         ],
         "showlegend": false,
         "subplot": "polar3",
         "theta": [
          "PF",
          "OC",
          "OC",
          "PF",
          "OC",
          "PF",
          "T",
          "PU",
          "STN",
          "GP",
          "STN",
          "PU",
          "GP",
          "DN",
          "DN",
          "DN"
         ],
         "type": "scatterpolargl"
        },
        {
         "marker": {
          "color": "steelblue",
          "line": {
           "color": "black"
          }
         },
         "name": "Tau density, stage 5",
         "r": [
          9.545634433086412e-7,
          0.000001980172082976119,
          0.000002502289910606393,
          0.000003554055456434199,
          0.000007892262581862122,
          0.000008225035687256156,
          0.000010597146440501976,
          0.000014100707547289678,
          0.000014860420983580947,
          0.000022885152840617775,
          0.00003239814269629086,
          0.00003626313505771855
         ],
         "showlegend": false,
         "subplot": "polar4",
         "theta": [
          "T",
          "OC",
          "PF",
          "PU",
          "P",
          "C",
          "PM",
          "GP",
          "DN",
          "1°S",
          "1°M",
          "STN"
         ],
         "type": "barpolar"
        },
        {
         "marker": {
          "color": "black",
          "size": 4
         },
         "mode": "markers",
         "name": "Stage 5",
         "r": [
          0.000002840772943310896,
          6.578975089042764e-7,
          0.000003435353463836097,
          4.30099316014901e-7,
          0.0000015389990335688976,
          0.000005798668154166793,
          0.00003221417332352744,
          0.000016341199291701812,
          0.00004991410101872297,
          0.000012239797362147654,
          7.595226317856223e-7,
          0.000011737841279342411,
          0.000014882184373858751,
          0.0000048530935893021406,
          0.000013556132357708114,
          0.0000035447278015765928,
          0.000002194034201709682,
          0.0000010340233528185053,
          0.0000011496042548316603,
          0.000004712230095169899,
          0.00005700017896713039,
          0.00000410142718233728,
          0.00000994959035218169,
          0.000015526091148306717,
          0.0000030066837305311176,
          0.000018251824742397666,
          0.00001905321416005153,
          0.000013474243389506535,
          0.00001872807752191118,
          0.000008186148862854544
         ],
         "showlegend": false,
         "subplot": "polar4",
         "theta": [
          "PF",
          "OC",
          "PF",
          "OC",
          "PF",
          "OC",
          "1°S",
          "PM",
          "1°M",
          "P",
          "T",
          "C",
          "1°M",
          "PM",
          "1°S",
          "P",
          "PF",
          "OC",
          "T",
          "C",
          "STN",
          "PU",
          "GP",
          "STN",
          "PU",
          "GP",
          "DN",
          "DN",
          "DN",
          "DN"
         ],
         "type": "scatterpolargl"
        },
        {
         "marker": {
          "color": "slategrey",
          "line": {
           "color": "black"
          }
         },
         "name": "Tau density, stage 6",
         "r": [
          0.000002955481849420633,
          0.000004239466991171613,
          0.00000428093393029039,
          0.000005017980567987665,
          0.000007628092725047155,
          0.00001092284330069831,
          0.000022655562354755704,
          0.00002304402220641803,
          0.000024049828078625936,
          0.00002500993029740565,
          0.00007206656602288137,
          0.00009677352639080424
         ],
         "showlegend": false,
         "subplot": "polar5",
         "theta": [
          "OC",
          "PF",
          "T",
          "C",
          "PU",
          "P",
          "DN",
          "1°S",
          "GP",
          "PM",
          "1°M",
          "STN"
         ],
         "type": "barpolar"
        },
        {
         "marker": {
          "color": "black",
          "size": 4
         },
         "mode": "markers",
         "name": "Stage 6",
         "r": [
          0.000004239466991171613,
          0.000002955481849420633,
          0.00003711368558803796,
          0.0000048146336196954764,
          0.0000054850118963481695,
          0.000008974358824798104,
          0.00007206656602288137,
          0.00002500993029740565,
          0.00001092284330069831,
          0.000003747234240885303,
          0.000004550949239627162,
          0.00009677352639080424,
          0.000007628092725047155,
          0.000024049828078625936,
          0.000015678068494859674,
          0.00002963305621465173
         ],
         "showlegend": false,
         "subplot": "polar5",
         "theta": [
          "PF",
          "OC",
          "1°S",
          "T",
          "C",
          "1°S",
          "1°M",
          "PM",
          "P",
          "T",
          "C",
          "STN",
          "PU",
          "GP",
          "DN",
          "DN"
         ],
         "type": "scatterpolargl"
        }
       ],
       "layout": {
        "annotations": [
         {
          "font": {
           "color": "black",
           "size": 16
          },
          "showarrow": false,
          "text": "Stage 2",
          "x": 0.025,
          "xanchor": "center",
          "xref": "paper",
          "y": 1,
          "yanchor": "bottom",
          "yref": "paper"
         },
         {
          "font": {
           "color": "black",
           "size": 16
          },
          "showarrow": false,
          "text": "Stage 3",
          "x": 0.575,
          "xanchor": "center",
          "xref": "paper",
          "y": 1,
          "yanchor": "bottom",
          "yref": "paper"
         },
         {
          "font": {
           "color": "black",
           "size": 16
          },
          "showarrow": false,
          "text": "Stage 4",
          "x": 0.025,
          "xanchor": "center",
          "xref": "paper",
          "y": 0.6111111111111112,
          "yanchor": "bottom",
          "yref": "paper"
         },
         {
          "font": {
           "color": "black",
           "size": 16
          },
          "showarrow": false,
          "text": "Stage 5",
          "x": 0.575,
          "xanchor": "center",
          "xref": "paper",
          "y": 0.6111111111111112,
          "yanchor": "bottom",
          "yref": "paper"
         },
         {
          "font": {
           "color": "black",
           "size": 16
          },
          "showarrow": false,
          "text": "Stage 6",
          "x": 0.025,
          "xanchor": "center",
          "xref": "paper",
          "y": 0.22222222222222224,
          "yanchor": "bottom",
          "yref": "paper"
         }
        ],
        "height": 1200,
        "polar": {
         "angularaxis": {
          "categoryarray": [
           "STN",
           "GP",
           "PU",
           "DN",
           "PF",
           "PM",
           "1°M",
           "1°S",
           "T",
           "P",
           "OC",
           "C"
          ],
          "color": "black",
          "tickfont": {
           "size": 15
          }
         },
         "domain": {
          "x": [
           0,
           0.45
          ],
          "y": [
           0.7777777777777778,
           1
          ]
         },
         "radialaxis": {
          "dtick": 1,
          "range": [
           null,
           -3.833352271253858
          ],
          "showticklabels": true,
          "tickangle": 90,
          "ticks": "outside",
          "type": "log"
         }
        },
        "polar2": {
         "angularaxis": {
          "categoryarray": [
           "STN",
           "GP",
           "PU",
           "DN",
           "PF",
           "PM",
           "1°M",
           "1°S",
           "T",
           "P",
           "OC",
           "C"
          ],
          "color": "black",
          "tickfont": {
           "size": 15
          }
         },
         "domain": {
          "x": [
           0.55,
           1
          ],
          "y": [
           0.7777777777777778,
           1
          ]
         },
         "radialaxis": {
          "dtick": 1,
          "range": [
           null,
           -3.833352271253858
          ],
          "showticklabels": true,
          "tickangle": 90,
          "ticks": "outside",
          "type": "log"
         }
        },
        "polar3": {
         "angularaxis": {
          "categoryarray": [
           "STN",
           "GP",
           "PU",
           "DN",
           "PF",
           "PM",
           "1°M",
           "1°S",
           "T",
           "P",
           "OC",
           "C"
          ],
          "color": "black",
          "tickfont": {
           "size": 15
          }
         },
         "domain": {
          "x": [
           0,
           0.45
          ],
          "y": [
           0.3888888888888889,
           0.6111111111111112
          ]
         },
         "radialaxis": {
          "dtick": 1,
          "range": [
           null,
           -3.833352271253858
          ],
          "showticklabels": true,
          "tickangle": 90,
          "ticks": "outside",
          "type": "log"
         }
        },
        "polar4": {
         "angularaxis": {
          "categoryarray": [
           "STN",
           "GP",
           "PU",
           "DN",
           "PF",
           "PM",
           "1°M",
           "1°S",
           "T",
           "P",
           "OC",
           "C"
          ],
          "color": "black",
          "tickfont": {
           "size": 15
          }
         },
         "domain": {
          "x": [
           0.55,
           1
          ],
          "y": [
           0.3888888888888889,
           0.6111111111111112
          ]
         },
         "radialaxis": {
          "dtick": 1,
          "range": [
           null,
           -3.833352271253858
          ],
          "showticklabels": true,
          "tickangle": 90,
          "ticks": "outside",
          "type": "log"
         }
        },
        "polar5": {
         "angularaxis": {
          "categoryarray": [
           "STN",
           "GP",
           "PU",
           "DN",
           "PF",
           "PM",
           "1°M",
           "1°S",
           "T",
           "P",
           "OC",
           "C"
          ],
          "color": "black",
          "tickfont": {
           "size": 15
          }
         },
         "domain": {
          "x": [
           0,
           0.45
          ],
          "y": [
           0,
           0.22222222222222224
          ]
         },
         "radialaxis": {
          "dtick": 1,
          "range": [
           null,
           -3.833352271253858
          ],
          "showticklabels": true,
          "tickangle": 90,
          "ticks": "outside",
          "type": "log"
         }
        },
        "polar6": {
         "domain": {
          "x": [
           0.55,
           1
          ],
          "y": [
           0,
           0.22222222222222224
          ]
         }
        },
        "template": {
         "data": {
          "bar": [
           {
            "error_x": {
             "color": "#2a3f5f"
            },
            "error_y": {
             "color": "#2a3f5f"
            },
            "marker": {
             "line": {
              "color": "#E5ECF6",
              "width": 0.5
             },
             "pattern": {
              "fillmode": "overlay",
              "size": 10,
              "solidity": 0.2
             }
            },
            "type": "bar"
           }
          ],
          "barpolar": [
           {
            "marker": {
             "line": {
              "color": "#E5ECF6",
              "width": 0.5
             },
             "pattern": {
              "fillmode": "overlay",
              "size": 10,
              "solidity": 0.2
             }
            },
            "type": "barpolar"
           }
          ],
          "carpet": [
           {
            "aaxis": {
             "endlinecolor": "#2a3f5f",
             "gridcolor": "white",
             "linecolor": "white",
             "minorgridcolor": "white",
             "startlinecolor": "#2a3f5f"
            },
            "baxis": {
             "endlinecolor": "#2a3f5f",
             "gridcolor": "white",
             "linecolor": "white",
             "minorgridcolor": "white",
             "startlinecolor": "#2a3f5f"
            },
            "type": "carpet"
           }
          ],
          "choropleth": [
           {
            "colorbar": {
             "outlinewidth": 0,
             "ticks": ""
            },
            "type": "choropleth"
           }
          ],
          "contour": [
           {
            "colorbar": {
             "outlinewidth": 0,
             "ticks": ""
            },
            "colorscale": [
             [
              0,
              "#0d0887"
             ],
             [
              0.1111111111111111,
              "#46039f"
             ],
             [
              0.2222222222222222,
              "#7201a8"
             ],
             [
              0.3333333333333333,
              "#9c179e"
             ],
             [
              0.4444444444444444,
              "#bd3786"
             ],
             [
              0.5555555555555556,
              "#d8576b"
             ],
             [
              0.6666666666666666,
              "#ed7953"
             ],
             [
              0.7777777777777778,
              "#fb9f3a"
             ],
             [
              0.8888888888888888,
              "#fdca26"
             ],
             [
              1,
              "#f0f921"
             ]
            ],
            "type": "contour"
           }
          ],
          "contourcarpet": [
           {
            "colorbar": {
             "outlinewidth": 0,
             "ticks": ""
            },
            "type": "contourcarpet"
           }
          ],
          "heatmap": [
           {
            "colorbar": {
             "outlinewidth": 0,
             "ticks": ""
            },
            "colorscale": [
             [
              0,
              "#0d0887"
             ],
             [
              0.1111111111111111,
              "#46039f"
             ],
             [
              0.2222222222222222,
              "#7201a8"
             ],
             [
              0.3333333333333333,
              "#9c179e"
             ],
             [
              0.4444444444444444,
              "#bd3786"
             ],
             [
              0.5555555555555556,
              "#d8576b"
             ],
             [
              0.6666666666666666,
              "#ed7953"
             ],
             [
              0.7777777777777778,
              "#fb9f3a"
             ],
             [
              0.8888888888888888,
              "#fdca26"
             ],
             [
              1,
              "#f0f921"
             ]
            ],
            "type": "heatmap"
           }
          ],
          "heatmapgl": [
           {
            "colorbar": {
             "outlinewidth": 0,
             "ticks": ""
            },
            "colorscale": [
             [
              0,
              "#0d0887"
             ],
             [
              0.1111111111111111,
              "#46039f"
             ],
             [
              0.2222222222222222,
              "#7201a8"
             ],
             [
              0.3333333333333333,
              "#9c179e"
             ],
             [
              0.4444444444444444,
              "#bd3786"
             ],
             [
              0.5555555555555556,
              "#d8576b"
             ],
             [
              0.6666666666666666,
              "#ed7953"
             ],
             [
              0.7777777777777778,
              "#fb9f3a"
             ],
             [
              0.8888888888888888,
              "#fdca26"
             ],
             [
              1,
              "#f0f921"
             ]
            ],
            "type": "heatmapgl"
           }
          ],
          "histogram": [
           {
            "marker": {
             "pattern": {
              "fillmode": "overlay",
              "size": 10,
              "solidity": 0.2
             }
            },
            "type": "histogram"
           }
          ],
          "histogram2d": [
           {
            "colorbar": {
             "outlinewidth": 0,
             "ticks": ""
            },
            "colorscale": [
             [
              0,
              "#0d0887"
             ],
             [
              0.1111111111111111,
              "#46039f"
             ],
             [
              0.2222222222222222,
              "#7201a8"
             ],
             [
              0.3333333333333333,
              "#9c179e"
             ],
             [
              0.4444444444444444,
              "#bd3786"
             ],
             [
              0.5555555555555556,
              "#d8576b"
             ],
             [
              0.6666666666666666,
              "#ed7953"
             ],
             [
              0.7777777777777778,
              "#fb9f3a"
             ],
             [
              0.8888888888888888,
              "#fdca26"
             ],
             [
              1,
              "#f0f921"
             ]
            ],
            "type": "histogram2d"
           }
          ],
          "histogram2dcontour": [
           {
            "colorbar": {
             "outlinewidth": 0,
             "ticks": ""
            },
            "colorscale": [
             [
              0,
              "#0d0887"
             ],
             [
              0.1111111111111111,
              "#46039f"
             ],
             [
              0.2222222222222222,
              "#7201a8"
             ],
             [
              0.3333333333333333,
              "#9c179e"
             ],
             [
              0.4444444444444444,
              "#bd3786"
             ],
             [
              0.5555555555555556,
              "#d8576b"
             ],
             [
              0.6666666666666666,
              "#ed7953"
             ],
             [
              0.7777777777777778,
              "#fb9f3a"
             ],
             [
              0.8888888888888888,
              "#fdca26"
             ],
             [
              1,
              "#f0f921"
             ]
            ],
            "type": "histogram2dcontour"
           }
          ],
          "mesh3d": [
           {
            "colorbar": {
             "outlinewidth": 0,
             "ticks": ""
            },
            "type": "mesh3d"
           }
          ],
          "parcoords": [
           {
            "line": {
             "colorbar": {
              "outlinewidth": 0,
              "ticks": ""
             }
            },
            "type": "parcoords"
           }
          ],
          "pie": [
           {
            "automargin": true,
            "type": "pie"
           }
          ],
          "scatter": [
           {
            "fillpattern": {
             "fillmode": "overlay",
             "size": 10,
             "solidity": 0.2
            },
            "type": "scatter"
           }
          ],
          "scatter3d": [
           {
            "line": {
             "colorbar": {
              "outlinewidth": 0,
              "ticks": ""
             }
            },
            "marker": {
             "colorbar": {
              "outlinewidth": 0,
              "ticks": ""
             }
            },
            "type": "scatter3d"
           }
          ],
          "scattercarpet": [
           {
            "marker": {
             "colorbar": {
              "outlinewidth": 0,
              "ticks": ""
             }
            },
            "type": "scattercarpet"
           }
          ],
          "scattergeo": [
           {
            "marker": {
             "colorbar": {
              "outlinewidth": 0,
              "ticks": ""
             }
            },
            "type": "scattergeo"
           }
          ],
          "scattergl": [
           {
            "marker": {
             "colorbar": {
              "outlinewidth": 0,
              "ticks": ""
             }
            },
            "type": "scattergl"
           }
          ],
          "scattermapbox": [
           {
            "marker": {
             "colorbar": {
              "outlinewidth": 0,
              "ticks": ""
             }
            },
            "type": "scattermapbox"
           }
          ],
          "scatterpolar": [
           {
            "marker": {
             "colorbar": {
              "outlinewidth": 0,
              "ticks": ""
             }
            },
            "type": "scatterpolar"
           }
          ],
          "scatterpolargl": [
           {
            "marker": {
             "colorbar": {
              "outlinewidth": 0,
              "ticks": ""
             }
            },
            "type": "scatterpolargl"
           }
          ],
          "scatterternary": [
           {
            "marker": {
             "colorbar": {
              "outlinewidth": 0,
              "ticks": ""
             }
            },
            "type": "scatterternary"
           }
          ],
          "surface": [
           {
            "colorbar": {
             "outlinewidth": 0,
             "ticks": ""
            },
            "colorscale": [
             [
              0,
              "#0d0887"
             ],
             [
              0.1111111111111111,
              "#46039f"
             ],
             [
              0.2222222222222222,
              "#7201a8"
             ],
             [
              0.3333333333333333,
              "#9c179e"
             ],
             [
              0.4444444444444444,
              "#bd3786"
             ],
             [
              0.5555555555555556,
              "#d8576b"
             ],
             [
              0.6666666666666666,
              "#ed7953"
             ],
             [
              0.7777777777777778,
              "#fb9f3a"
             ],
             [
              0.8888888888888888,
              "#fdca26"
             ],
             [
              1,
              "#f0f921"
             ]
            ],
            "type": "surface"
           }
          ],
          "table": [
           {
            "cells": {
             "fill": {
              "color": "#EBF0F8"
             },
             "line": {
              "color": "white"
             }
            },
            "header": {
             "fill": {
              "color": "#C8D4E3"
             },
             "line": {
              "color": "white"
             }
            },
            "type": "table"
           }
          ]
         },
         "layout": {
          "annotationdefaults": {
           "arrowcolor": "#2a3f5f",
           "arrowhead": 0,
           "arrowwidth": 1
          },
          "autotypenumbers": "strict",
          "coloraxis": {
           "colorbar": {
            "outlinewidth": 0,
            "ticks": ""
           }
          },
          "colorscale": {
           "diverging": [
            [
             0,
             "#8e0152"
            ],
            [
             0.1,
             "#c51b7d"
            ],
            [
             0.2,
             "#de77ae"
            ],
            [
             0.3,
             "#f1b6da"
            ],
            [
             0.4,
             "#fde0ef"
            ],
            [
             0.5,
             "#f7f7f7"
            ],
            [
             0.6,
             "#e6f5d0"
            ],
            [
             0.7,
             "#b8e186"
            ],
            [
             0.8,
             "#7fbc41"
            ],
            [
             0.9,
             "#4d9221"
            ],
            [
             1,
             "#276419"
            ]
           ],
           "sequential": [
            [
             0,
             "#0d0887"
            ],
            [
             0.1111111111111111,
             "#46039f"
            ],
            [
             0.2222222222222222,
             "#7201a8"
            ],
            [
             0.3333333333333333,
             "#9c179e"
            ],
            [
             0.4444444444444444,
             "#bd3786"
            ],
            [
             0.5555555555555556,
             "#d8576b"
            ],
            [
             0.6666666666666666,
             "#ed7953"
            ],
            [
             0.7777777777777778,
             "#fb9f3a"
            ],
            [
             0.8888888888888888,
             "#fdca26"
            ],
            [
             1,
             "#f0f921"
            ]
           ],
           "sequentialminus": [
            [
             0,
             "#0d0887"
            ],
            [
             0.1111111111111111,
             "#46039f"
            ],
            [
             0.2222222222222222,
             "#7201a8"
            ],
            [
             0.3333333333333333,
             "#9c179e"
            ],
            [
             0.4444444444444444,
             "#bd3786"
            ],
            [
             0.5555555555555556,
             "#d8576b"
            ],
            [
             0.6666666666666666,
             "#ed7953"
            ],
            [
             0.7777777777777778,
             "#fb9f3a"
            ],
            [
             0.8888888888888888,
             "#fdca26"
            ],
            [
             1,
             "#f0f921"
            ]
           ]
          },
          "colorway": [
           "#636efa",
           "#EF553B",
           "#00cc96",
           "#ab63fa",
           "#FFA15A",
           "#19d3f3",
           "#FF6692",
           "#B6E880",
           "#FF97FF",
           "#FECB52"
          ],
          "font": {
           "color": "#2a3f5f"
          },
          "geo": {
           "bgcolor": "white",
           "lakecolor": "white",
           "landcolor": "#E5ECF6",
           "showlakes": true,
           "showland": true,
           "subunitcolor": "white"
          },
          "hoverlabel": {
           "align": "left"
          },
          "hovermode": "closest",
          "mapbox": {
           "style": "light"
          },
          "paper_bgcolor": "white",
          "plot_bgcolor": "#E5ECF6",
          "polar": {
           "angularaxis": {
            "gridcolor": "white",
            "linecolor": "white",
            "ticks": ""
           },
           "bgcolor": "#E5ECF6",
           "radialaxis": {
            "gridcolor": "white",
            "linecolor": "white",
            "ticks": ""
           }
          },
          "scene": {
           "xaxis": {
            "backgroundcolor": "#E5ECF6",
            "gridcolor": "white",
            "gridwidth": 2,
            "linecolor": "white",
            "showbackground": true,
            "ticks": "",
            "zerolinecolor": "white"
           },
           "yaxis": {
            "backgroundcolor": "#E5ECF6",
            "gridcolor": "white",
            "gridwidth": 2,
            "linecolor": "white",
            "showbackground": true,
            "ticks": "",
            "zerolinecolor": "white"
           },
           "zaxis": {
            "backgroundcolor": "#E5ECF6",
            "gridcolor": "white",
            "gridwidth": 2,
            "linecolor": "white",
            "showbackground": true,
            "ticks": "",
            "zerolinecolor": "white"
           }
          },
          "shapedefaults": {
           "line": {
            "color": "#2a3f5f"
           }
          },
          "ternary": {
           "aaxis": {
            "gridcolor": "white",
            "linecolor": "white",
            "ticks": ""
           },
           "baxis": {
            "gridcolor": "white",
            "linecolor": "white",
            "ticks": ""
           },
           "bgcolor": "#E5ECF6",
           "caxis": {
            "gridcolor": "white",
            "linecolor": "white",
            "ticks": ""
           }
          },
          "title": {
           "x": 0.05
          },
          "xaxis": {
           "automargin": true,
           "gridcolor": "white",
           "linecolor": "white",
           "ticks": "",
           "title": {
            "standoff": 15
           },
           "zerolinecolor": "white",
           "zerolinewidth": 2
          },
          "yaxis": {
           "automargin": true,
           "gridcolor": "white",
           "linecolor": "white",
           "ticks": "",
           "title": {
            "standoff": 15
           },
           "zerolinecolor": "white",
           "zerolinewidth": 2
          }
         }
        },
        "title": {
         "text": ""
        },
        "width": 1000
       }
      }
     },
     "metadata": {},
     "output_type": "display_data"
    }
   ],
   "source": [
    "tau_hallmark_plot = polar_plot(dict_subset=psp_stage_dict_not_psp_rs,\n",
    "                    dict_mean=mean_tau_hallmark_dict_not_psp_rs,\n",
    "                    tau_type='Tau_hallmark_density',\n",
    "                    val_add=0.00005,\n",
    "                    anatomical_order=anatomical_order,\n",
    "                    marker_colors=['PaleTurquoise','skyblue','cornflowerblue','steelblue','slategrey'],\n",
    "                    marker_color='',\n",
    "                    marker_line_color=\"black\",\n",
    "                   title='',\n",
    "                   tick_label=True,\n",
    "                   fig_height=1200,\n",
    "                   fig_width=1000,\n",
    "                   tickangle_val=90) # 'Tau hallmark density across brain regions in PSP'\n",
    "tau_hallmark_plot.show()"
   ]
  },
  {
   "cell_type": "code",
   "execution_count": 29,
   "metadata": {},
   "outputs": [
    {
     "name": "stdout",
     "output_type": "stream",
     "text": [
      "min value:  -inf\n",
      "max value:  -3.8382890356285024\n"
     ]
    },
    {
     "data": {
      "application/vnd.plotly.v1+json": {
       "config": {
        "plotlyServerURL": "https://plot.ly"
       },
       "data": [
        {
         "marker": {
          "color": "BurlyWood",
          "line": {
           "color": "saddlebrown"
          }
         },
         "name": "Tau density, stage 2",
         "r": [
          0,
          5.968974602115845e-8,
          6.664305778341314e-8,
          1.123606308553653e-7,
          1.2617667825229782e-7,
          1.886529183654767e-7,
          2.992339000177956e-7,
          3.459828052913083e-7,
          4.69110367840352e-7,
          0.0000012066361755922698,
          0.000006753467633647695,
          0.000013320877491060368
         ],
         "showlegend": false,
         "subplot": "polar",
         "theta": [
          "OC",
          "C",
          "PF",
          "1°M",
          "1°S",
          "PM",
          "P",
          "T",
          "PU",
          "DN",
          "STN",
          "GP"
         ],
         "type": "barpolar"
        },
        {
         "marker": {
          "color": "saddlebrown",
          "size": 4
         },
         "mode": "markers",
         "name": "Stage 2",
         "r": [
          8.796150124235462e-8,
          6.543447264759264e-7,
          2.992339000177956e-7,
          6.506901139639163e-8,
          1.1846685252386628e-7,
          4.532461432447167e-8,
          0,
          1.3388650398072938e-7,
          1.123606308553653e-7,
          1.886529183654767e-7,
          3.762088410669015e-8,
          5.431048064592527e-8,
          0.00000287468831191978,
          2.634700360747188e-7,
          0.0000031396591117158197,
          0.00001063224695537561,
          6.747506996059851e-7,
          0.000023502095870404917,
          0.0000020618985689302256,
          3.513737822543143e-7
         ],
         "showlegend": false,
         "subplot": "polar",
         "theta": [
          "PF",
          "T",
          "P",
          "C",
          "1°S",
          "PF",
          "OC",
          "1°S",
          "1°M",
          "PM",
          "T",
          "C",
          "STN",
          "PU",
          "GP",
          "STN",
          "PU",
          "GP",
          "DN",
          "DN"
         ],
         "type": "scatterpolargl"
        },
        {
         "marker": {
          "color": "BurlyWood",
          "line": {
           "color": "saddlebrown"
          }
         },
         "name": "Tau density, stage 3",
         "r": [
          2.7759685523804386e-7,
          0.000001097338646923163,
          0.0000015851256959521546,
          0.0000018085865584319198,
          0.0000021772759458941705,
          0.0000023500748492835704,
          0.000004108390501783546,
          0.000004300312431555269,
          0.000004462174675773147,
          0.000007241391450444506,
          0.00002168983945674462,
          0.000056869316588009715
         ],
         "showlegend": false,
         "subplot": "polar2",
         "theta": [
          "OC",
          "1°S",
          "PF",
          "C",
          "DN",
          "P",
          "T",
          "PU",
          "PM",
          "1°M",
          "GP",
          "STN"
         ],
         "type": "barpolar"
        },
        {
         "marker": {
          "color": "saddlebrown",
          "size": 4
         },
         "mode": "markers",
         "name": "Stage 3",
         "r": [
          0.0000012768980820141074,
          5.117100476785061e-7,
          0.000002311139386336567,
          9.550363570360275e-7,
          5.275894395477064e-7,
          0.000011920402089976054,
          0.0000033206041172442056,
          0.0000025146712939089936,
          0.000002140359959722996,
          0.0000019406873597536386,
          0.000021021293914597468,
          0.000010953824864818072,
          0.000006013657513155758,
          3.471193289821626e-7,
          1.9117038905754495e-7,
          1.2155977616480277e-7,
          8.153067765892561e-8,
          1.0034583422447405e-7,
          2.760427092838136e-8,
          5.76500863924223e-8,
          2.965689996196339e-7,
          7.44304990017436e-8,
          7.409133032908498e-7,
          0.00001397543351711583,
          0.000004209368577762095,
          0.0000997631996589036,
          0.000007859711559819688,
          0.00003917031033572715,
          0.0000017558056767020777,
          0.0000041607419435033655,
          6.152802174770687e-7
         ],
         "showlegend": false,
         "subplot": "polar2",
         "theta": [
          "1°S",
          "1°M",
          "PM",
          "P",
          "OC",
          "T",
          "C",
          "PF",
          "PF",
          "1°S",
          "1°M",
          "PM",
          "P",
          "T",
          "1°M",
          "PM",
          "P",
          "PF",
          "OC",
          "T",
          "C",
          "1°S",
          "PU",
          "STN",
          "GP",
          "STN",
          "PU",
          "GP",
          "DN",
          "DN",
          "DN"
         ],
         "type": "scatterpolargl"
        },
        {
         "marker": {
          "color": "BurlyWood",
          "line": {
           "color": "saddlebrown"
          }
         },
         "name": "Tau density, stage 4",
         "r": [
          1.5662804046725927e-7,
          2.3565383414529173e-7,
          8.369798133757729e-7,
          9.117872890478649e-7,
          0.0000013490804764969716,
          0.000001465925822858763,
          0.0000021958584229968097,
          0.000004345825108576268,
          0.000004387470194411716,
          0.0000069757132564088795,
          0.000007045130093201836,
          0.0000207659601564714
         ],
         "showlegend": false,
         "subplot": "polar3",
         "theta": [
          "OC",
          "T",
          "PU",
          "PF",
          "C",
          "1°S",
          "P",
          "DN",
          "GP",
          "PM",
          "1°M",
          "STN"
         ],
         "type": "barpolar"
        },
        {
         "marker": {
          "color": "saddlebrown",
          "size": 4
         },
         "mode": "markers",
         "name": "Stage 4",
         "r": [
          5.7209708157946485e-8,
          1.67106436927546e-7,
          0.000002458977356122444,
          4.5459823871445513e-8,
          1.617399340319095e-7,
          5.004671031765901e-7,
          2.831591279873384e-7,
          1.227515169715007e-7,
          5.145430280419728e-7,
          0.000004122101931428163,
          6.954590489342878e-7,
          1.895263881991341e-7,
          0.0000011337241478269573,
          0.000002295868593729615,
          0.00000465026811098401,
          0.000019935849373116784,
          0.0000062177905336881375,
          0.0000010962687593243436,
          2.323175248337255e-7,
          2.164842631302067e-7,
          8.947664160618446e-7,
          1.969936492441595e-7,
          8.726643684316562e-7,
          0.000003259687231564016,
          0.000012430317161507463,
          0.000003329710747975566,
          0.0000014173971301110851,
          2.1759681436871146e-7,
          0.0000022175227937442416,
          0.00000131538087059646,
          0.000011558186610601266,
          0.00000578923965123225,
          0.0000013170091801466395,
          1.394847496162309e-7,
          7.215202542468942e-7,
          4.3998529599311215e-8,
          3.942705804589199e-7,
          4.568841903048716e-8,
          5.67013565303413e-7,
          1.4354321767302397e-7,
          0.000001975296646378328,
          5.03493258464848e-7,
          3.4820711295189946e-7,
          0.000004250348806032449,
          0.0000020428069106643707,
          8.026489463680697e-7,
          0.0000010618681002686137,
          0.00000246477665148828,
          0.0000015734177036873494,
          0.0000013316362221038987,
          5.072875718844432e-7,
          0.0000010841423364375209,
          0.000002951947041782644,
          0.00001674202291711698,
          0.000005724602936906652,
          0.000010394552450981745,
          1.6224059931323409e-7,
          6.382602586351838e-7,
          0.00002387179093369381,
          3.227069823424017e-7,
          0.000005070897974185156,
          0.000014239053585165868,
          0.0000010721712652395336,
          0.000010101589279694462,
          0.00004375460116791289,
          5.521564917989345e-7,
          0.000004582815659453399,
          0.00001533733484399413,
          4.897525390551687e-7,
          0.000003062669487524965,
          0.000021022365196434365,
          3.078837740984936e-7,
          0.000001531455764482196,
          0.0000032513694695549468,
          0.000004754845165438434,
          0.000008902419569434767,
          0.000008763996401025042,
          0.000002779913820061863,
          0.000005110686611802594,
          3.653302247397329e-7,
          1.553300203355733e-7,
          0.000005028534694793467
         ],
         "showlegend": false,
         "subplot": "polar3",
         "theta": [
          "OC",
          "PF",
          "PF",
          "OC",
          "OC",
          "PF",
          "PF",
          "OC",
          "1°S",
          "1°M",
          "P",
          "T",
          "C",
          "1°S",
          "1°M",
          "PM",
          "P",
          "PF",
          "OC",
          "T",
          "C",
          "OC",
          "PF",
          "1°S",
          "1°M",
          "PM",
          "P",
          "T",
          "C",
          "1°S",
          "1°M",
          "PM",
          "P",
          "T",
          "C",
          "OC",
          "PF",
          "OC",
          "PF",
          "T",
          "PF",
          "OC",
          "1°S",
          "PM",
          "C",
          "PF",
          "1°S",
          "1°M",
          "PM",
          "P",
          "T",
          "C",
          "PU",
          "STN",
          "GP",
          "STN",
          "PU",
          "GP",
          "STN",
          "PU",
          "GP",
          "STN",
          "PU",
          "GP",
          "STN",
          "PU",
          "GP",
          "STN",
          "PU",
          "GP",
          "STN",
          "PU",
          "GP",
          "DN",
          "DN",
          "DN",
          "DN",
          "DN",
          "DN",
          "DN",
          "DN",
          "DN"
         ],
         "type": "scatterpolargl"
        },
        {
         "marker": {
          "color": "BurlyWood",
          "line": {
           "color": "saddlebrown"
          }
         },
         "name": "Tau density, stage 5",
         "r": [
          0.0000010752116990332713,
          0.0000015259963860104046,
          0.0000029576792275401273,
          0.000005011989493602433,
          0.000005675537510800978,
          0.000009170015441752574,
          0.0000104367240083641,
          0.000011121917743604472,
          0.000015271265933956683,
          0.00001824307545862174,
          0.000019167277315615744,
          0.000047848910111055265
         ],
         "showlegend": false,
         "subplot": "polar4",
         "theta": [
          "OC",
          "T",
          "PF",
          "C",
          "PU",
          "P",
          "DN",
          "1°S",
          "PM",
          "GP",
          "1°M",
          "STN"
         ],
         "type": "barpolar"
        },
        {
         "marker": {
          "color": "saddlebrown",
          "size": 4
         },
         "mode": "markers",
         "name": "Stage 5",
         "r": [
          0.000002106613513237741,
          2.788927235638905e-7,
          0.0000016044041521938054,
          5.158514558453986e-7,
          0.000005343007668443848,
          0.00002062825093848196,
          0.000008648484132433938,
          0.000007418458232016156,
          0.000004246966100192796,
          0.000001335884203077328,
          6.907457535472967e-7,
          0.000004923894470983112,
          6.02928197786805e-7,
          0.00001829335112581877,
          0.000031248011551232847,
          0.00002003879470181592,
          0.000004676052005151424,
          0.00001237353873462966,
          0.000002681342838716124,
          9.851120651221986e-7,
          9.482938535205416e-7,
          0.00001896012995518906,
          7.428767597427628e-7,
          0.000003791368905973517,
          0.0000034343179129702293,
          0.0000029657041297038178,
          0.000004177575856584392,
          0.000008933959639467885,
          0.00001659981499900554,
          0.00002325762907469221,
          0.00000394611296858112,
          0.000003950071336975634,
          0.000013142396116532352,
          0.0000023591274382348337,
          0.000007655399466325555,
          0.0000022113399855283186,
          0.00003235057989258772,
          0.000002549463393332035,
          0.0000032983538972575586,
          4.086470026389119e-7,
          0.000002811305442527741,
          3.379351768688508e-7,
          0.0000012296126299132944,
          0.000005308542631612219,
          0.00002682643701854724,
          0.000012552019019628802,
          0.00003319127050037935,
          0.000008142228312475744,
          5.757112186137594e-7,
          0.000006746839274816368,
          0.000002379622796324177,
          8.373999168859129e-7,
          0.00001959808289456451,
          0.00004164226173809262,
          0.00001803329423696448,
          0.000016721824373735655,
          5.185380665467838e-7,
          0.000007520848933430479,
          8.269724741342819e-7,
          0.000003499144993488816,
          0.000006479130445472091,
          0.000022002272737575,
          0.000005060570096956052,
          0.000004928147567567378,
          0.0000015710542822681715,
          0.00000299330149355801,
          0.0000014385046852704856,
          6.527218015543097e-7,
          0.000003649764279742156,
          0.0000215203287285377,
          0.000005133951114373874,
          0.000006043506480517928,
          2.892418920287867e-7,
          0.0000011692897445416543,
          0.000011275638299970975,
          0.00000328572410416456,
          0.00001002523276686321,
          0.000002951488432294756,
          0.0000016616582557065972,
          8.116527393091493e-7,
          8.709123142664094e-7,
          0.000003352388143858345,
          0.00001503844040201618,
          1.2575804421801618e-7,
          0.000004045369750346373,
          0.00008305915327433583,
          0.00004090165892056632,
          0.000014392480349720544,
          0.000032084509557596015,
          1.8645483231731785e-7,
          0.000011733774945972807,
          0.0001098213045764,
          0.000014786748122227908,
          0.00004613847882645658,
          0.00005213123879026211,
          0.0000022755426559811487,
          0.000009627597136900729,
          0.00006302413971803864,
          0.00001750257571814418,
          0.000008928507754682051,
          0.0000525360894203644,
          0.000005408943306909089,
          0.00001480813007145548,
          0.00000741922411217753,
          0.000002733129918553255,
          0.0000020865351755222886,
          0.000015526091148306717,
          0.0000022422726125994777,
          0.000017343558582230952,
          0.0000099076713632268,
          0.00002295170990084378,
          0.000009602138693080328,
          0.000004720880952918645,
          0,
          0.000011103808573348512,
          0.000011459821620311208,
          0.000014749024224054697,
          0.000009368212805804836,
          0.000014114927518834965,
          0.00000682576843958134
         ],
         "showlegend": false,
         "subplot": "polar4",
         "theta": [
          "PF",
          "OC",
          "PF",
          "OC",
          "1°S",
          "1°M",
          "PM",
          "P",
          "PF",
          "OC",
          "T",
          "C",
          "OC",
          "1°S",
          "PM",
          "P",
          "T",
          "C",
          "PF",
          "OC",
          "1°S",
          "P",
          "T",
          "C",
          "1°M",
          "T",
          "PF",
          "1°S",
          "1°M",
          "PM",
          "P",
          "C",
          "PM",
          "T",
          "PF",
          "1°M",
          "PM",
          "P",
          "C",
          "OC",
          "PF",
          "OC",
          "PF",
          "OC",
          "1°S",
          "PM",
          "1°M",
          "P",
          "T",
          "C",
          "PF",
          "OC",
          "1°S",
          "1°M",
          "PM",
          "P",
          "T",
          "C",
          "OC",
          "PF",
          "1°S",
          "1°M",
          "PM",
          "P",
          "T",
          "C",
          "PF",
          "OC",
          "1°S",
          "1°M",
          "PM",
          "P",
          "T",
          "C",
          "1°M",
          "PM",
          "1°S",
          "P",
          "PF",
          "OC",
          "T",
          "C",
          "STN",
          "PU",
          "GP",
          "STN",
          "GP",
          "PU",
          "STN",
          "PU",
          "GP",
          "STN",
          "PU",
          "GP",
          "STN",
          "PU",
          "GP",
          "STN",
          "GP",
          "PU",
          "STN",
          "PU",
          "GP",
          "STN",
          "PU",
          "GP",
          "STN",
          "PU",
          "GP",
          "DN",
          "DN",
          "DN",
          "DN",
          "DN",
          "DN",
          "DN",
          "DN",
          "DN",
          "DN",
          "DN"
         ],
         "type": "scatterpolargl"
        },
        {
         "marker": {
          "color": "BurlyWood",
          "line": {
           "color": "saddlebrown"
          }
         },
         "name": "Tau density, stage 6",
         "r": [
          0.000002514078716065604,
          0.000003315186800303568,
          0.000003606700439883928,
          0.0000036889513105111246,
          0.00000684153841682245,
          0.000010410315004443728,
          0.00001635270604425522,
          0.000019475581014504933,
          0.0000227555369708904,
          0.00002347192093440757,
          0.00006526797543380262,
          0.00009511455165267616
         ],
         "showlegend": false,
         "subplot": "polar5",
         "theta": [
          "OC",
          "PF",
          "T",
          "C",
          "PU",
          "P",
          "1°S",
          "DN",
          "PM",
          "GP",
          "1°M",
          "STN"
         ],
         "type": "barpolar"
        },
        {
         "marker": {
          "color": "saddlebrown",
          "size": 4
         },
         "mode": "markers",
         "name": "Stage 6",
         "r": [
          0.000003315186800303568,
          0.000002514078716065604,
          0.000024181149049193517,
          0.000003941230695487681,
          0.000004000619237930513,
          0.00000852426303931693,
          0.00006526797543380262,
          0.0000227555369708904,
          0.000010410315004443728,
          0.000003272170184280176,
          0.000003377283383091736,
          0.00009511455165267616,
          0.00000684153841682245,
          0.00002347192093440757,
          0.0000133649108480771,
          0.00002558625118093277
         ],
         "showlegend": false,
         "subplot": "polar5",
         "theta": [
          "PF",
          "OC",
          "1°S",
          "T",
          "C",
          "1°S",
          "1°M",
          "PM",
          "P",
          "T",
          "C",
          "STN",
          "PU",
          "GP",
          "DN",
          "DN"
         ],
         "type": "scatterpolargl"
        }
       ],
       "layout": {
        "annotations": [
         {
          "font": {
           "color": "black",
           "size": 16
          },
          "showarrow": false,
          "text": "Stage 2",
          "x": 0.025,
          "xanchor": "center",
          "xref": "paper",
          "y": 1,
          "yanchor": "bottom",
          "yref": "paper"
         },
         {
          "font": {
           "color": "black",
           "size": 16
          },
          "showarrow": false,
          "text": "Stage 3",
          "x": 0.575,
          "xanchor": "center",
          "xref": "paper",
          "y": 1,
          "yanchor": "bottom",
          "yref": "paper"
         },
         {
          "font": {
           "color": "black",
           "size": 16
          },
          "showarrow": false,
          "text": "Stage 4",
          "x": 0.025,
          "xanchor": "center",
          "xref": "paper",
          "y": 0.6111111111111112,
          "yanchor": "bottom",
          "yref": "paper"
         },
         {
          "font": {
           "color": "black",
           "size": 16
          },
          "showarrow": false,
          "text": "Stage 5",
          "x": 0.575,
          "xanchor": "center",
          "xref": "paper",
          "y": 0.6111111111111112,
          "yanchor": "bottom",
          "yref": "paper"
         },
         {
          "font": {
           "color": "black",
           "size": 16
          },
          "showarrow": false,
          "text": "Stage 6",
          "x": 0.025,
          "xanchor": "center",
          "xref": "paper",
          "y": 0.22222222222222224,
          "yanchor": "bottom",
          "yref": "paper"
         }
        ],
        "height": 1200,
        "polar": {
         "angularaxis": {
          "categoryarray": [
           "STN",
           "GP",
           "PU",
           "DN",
           "PF",
           "PM",
           "1°M",
           "1°S",
           "T",
           "P",
           "OC",
           "C"
          ],
          "color": "black",
          "tickfont": {
           "size": 15
          }
         },
         "domain": {
          "x": [
           0,
           0.45
          ],
          "y": [
           0.7777777777777778,
           1
          ]
         },
         "radialaxis": {
          "dtick": 1,
          "range": [
           null,
           -3.8382890356285024
          ],
          "showticklabels": true,
          "tickangle": 90,
          "ticks": "outside",
          "type": "log"
         }
        },
        "polar2": {
         "angularaxis": {
          "categoryarray": [
           "STN",
           "GP",
           "PU",
           "DN",
           "PF",
           "PM",
           "1°M",
           "1°S",
           "T",
           "P",
           "OC",
           "C"
          ],
          "color": "black",
          "tickfont": {
           "size": 15
          }
         },
         "domain": {
          "x": [
           0.55,
           1
          ],
          "y": [
           0.7777777777777778,
           1
          ]
         },
         "radialaxis": {
          "dtick": 1,
          "range": [
           null,
           -3.8382890356285024
          ],
          "showticklabels": true,
          "tickangle": 90,
          "ticks": "outside",
          "type": "log"
         }
        },
        "polar3": {
         "angularaxis": {
          "categoryarray": [
           "STN",
           "GP",
           "PU",
           "DN",
           "PF",
           "PM",
           "1°M",
           "1°S",
           "T",
           "P",
           "OC",
           "C"
          ],
          "color": "black",
          "tickfont": {
           "size": 15
          }
         },
         "domain": {
          "x": [
           0,
           0.45
          ],
          "y": [
           0.3888888888888889,
           0.6111111111111112
          ]
         },
         "radialaxis": {
          "dtick": 1,
          "range": [
           null,
           -3.8382890356285024
          ],
          "showticklabels": true,
          "tickangle": 90,
          "ticks": "outside",
          "type": "log"
         }
        },
        "polar4": {
         "angularaxis": {
          "categoryarray": [
           "STN",
           "GP",
           "PU",
           "DN",
           "PF",
           "PM",
           "1°M",
           "1°S",
           "T",
           "P",
           "OC",
           "C"
          ],
          "color": "black",
          "tickfont": {
           "size": 15
          }
         },
         "domain": {
          "x": [
           0.55,
           1
          ],
          "y": [
           0.3888888888888889,
           0.6111111111111112
          ]
         },
         "radialaxis": {
          "dtick": 1,
          "range": [
           null,
           -3.8382890356285024
          ],
          "showticklabels": true,
          "tickangle": 90,
          "ticks": "outside",
          "type": "log"
         }
        },
        "polar5": {
         "angularaxis": {
          "categoryarray": [
           "STN",
           "GP",
           "PU",
           "DN",
           "PF",
           "PM",
           "1°M",
           "1°S",
           "T",
           "P",
           "OC",
           "C"
          ],
          "color": "black",
          "tickfont": {
           "size": 15
          }
         },
         "domain": {
          "x": [
           0,
           0.45
          ],
          "y": [
           0,
           0.22222222222222224
          ]
         },
         "radialaxis": {
          "dtick": 1,
          "range": [
           null,
           -3.8382890356285024
          ],
          "showticklabels": true,
          "tickangle": 90,
          "ticks": "outside",
          "type": "log"
         }
        },
        "polar6": {
         "domain": {
          "x": [
           0.55,
           1
          ],
          "y": [
           0,
           0.22222222222222224
          ]
         }
        },
        "template": {
         "data": {
          "bar": [
           {
            "error_x": {
             "color": "#2a3f5f"
            },
            "error_y": {
             "color": "#2a3f5f"
            },
            "marker": {
             "line": {
              "color": "#E5ECF6",
              "width": 0.5
             },
             "pattern": {
              "fillmode": "overlay",
              "size": 10,
              "solidity": 0.2
             }
            },
            "type": "bar"
           }
          ],
          "barpolar": [
           {
            "marker": {
             "line": {
              "color": "#E5ECF6",
              "width": 0.5
             },
             "pattern": {
              "fillmode": "overlay",
              "size": 10,
              "solidity": 0.2
             }
            },
            "type": "barpolar"
           }
          ],
          "carpet": [
           {
            "aaxis": {
             "endlinecolor": "#2a3f5f",
             "gridcolor": "white",
             "linecolor": "white",
             "minorgridcolor": "white",
             "startlinecolor": "#2a3f5f"
            },
            "baxis": {
             "endlinecolor": "#2a3f5f",
             "gridcolor": "white",
             "linecolor": "white",
             "minorgridcolor": "white",
             "startlinecolor": "#2a3f5f"
            },
            "type": "carpet"
           }
          ],
          "choropleth": [
           {
            "colorbar": {
             "outlinewidth": 0,
             "ticks": ""
            },
            "type": "choropleth"
           }
          ],
          "contour": [
           {
            "colorbar": {
             "outlinewidth": 0,
             "ticks": ""
            },
            "colorscale": [
             [
              0,
              "#0d0887"
             ],
             [
              0.1111111111111111,
              "#46039f"
             ],
             [
              0.2222222222222222,
              "#7201a8"
             ],
             [
              0.3333333333333333,
              "#9c179e"
             ],
             [
              0.4444444444444444,
              "#bd3786"
             ],
             [
              0.5555555555555556,
              "#d8576b"
             ],
             [
              0.6666666666666666,
              "#ed7953"
             ],
             [
              0.7777777777777778,
              "#fb9f3a"
             ],
             [
              0.8888888888888888,
              "#fdca26"
             ],
             [
              1,
              "#f0f921"
             ]
            ],
            "type": "contour"
           }
          ],
          "contourcarpet": [
           {
            "colorbar": {
             "outlinewidth": 0,
             "ticks": ""
            },
            "type": "contourcarpet"
           }
          ],
          "heatmap": [
           {
            "colorbar": {
             "outlinewidth": 0,
             "ticks": ""
            },
            "colorscale": [
             [
              0,
              "#0d0887"
             ],
             [
              0.1111111111111111,
              "#46039f"
             ],
             [
              0.2222222222222222,
              "#7201a8"
             ],
             [
              0.3333333333333333,
              "#9c179e"
             ],
             [
              0.4444444444444444,
              "#bd3786"
             ],
             [
              0.5555555555555556,
              "#d8576b"
             ],
             [
              0.6666666666666666,
              "#ed7953"
             ],
             [
              0.7777777777777778,
              "#fb9f3a"
             ],
             [
              0.8888888888888888,
              "#fdca26"
             ],
             [
              1,
              "#f0f921"
             ]
            ],
            "type": "heatmap"
           }
          ],
          "heatmapgl": [
           {
            "colorbar": {
             "outlinewidth": 0,
             "ticks": ""
            },
            "colorscale": [
             [
              0,
              "#0d0887"
             ],
             [
              0.1111111111111111,
              "#46039f"
             ],
             [
              0.2222222222222222,
              "#7201a8"
             ],
             [
              0.3333333333333333,
              "#9c179e"
             ],
             [
              0.4444444444444444,
              "#bd3786"
             ],
             [
              0.5555555555555556,
              "#d8576b"
             ],
             [
              0.6666666666666666,
              "#ed7953"
             ],
             [
              0.7777777777777778,
              "#fb9f3a"
             ],
             [
              0.8888888888888888,
              "#fdca26"
             ],
             [
              1,
              "#f0f921"
             ]
            ],
            "type": "heatmapgl"
           }
          ],
          "histogram": [
           {
            "marker": {
             "pattern": {
              "fillmode": "overlay",
              "size": 10,
              "solidity": 0.2
             }
            },
            "type": "histogram"
           }
          ],
          "histogram2d": [
           {
            "colorbar": {
             "outlinewidth": 0,
             "ticks": ""
            },
            "colorscale": [
             [
              0,
              "#0d0887"
             ],
             [
              0.1111111111111111,
              "#46039f"
             ],
             [
              0.2222222222222222,
              "#7201a8"
             ],
             [
              0.3333333333333333,
              "#9c179e"
             ],
             [
              0.4444444444444444,
              "#bd3786"
             ],
             [
              0.5555555555555556,
              "#d8576b"
             ],
             [
              0.6666666666666666,
              "#ed7953"
             ],
             [
              0.7777777777777778,
              "#fb9f3a"
             ],
             [
              0.8888888888888888,
              "#fdca26"
             ],
             [
              1,
              "#f0f921"
             ]
            ],
            "type": "histogram2d"
           }
          ],
          "histogram2dcontour": [
           {
            "colorbar": {
             "outlinewidth": 0,
             "ticks": ""
            },
            "colorscale": [
             [
              0,
              "#0d0887"
             ],
             [
              0.1111111111111111,
              "#46039f"
             ],
             [
              0.2222222222222222,
              "#7201a8"
             ],
             [
              0.3333333333333333,
              "#9c179e"
             ],
             [
              0.4444444444444444,
              "#bd3786"
             ],
             [
              0.5555555555555556,
              "#d8576b"
             ],
             [
              0.6666666666666666,
              "#ed7953"
             ],
             [
              0.7777777777777778,
              "#fb9f3a"
             ],
             [
              0.8888888888888888,
              "#fdca26"
             ],
             [
              1,
              "#f0f921"
             ]
            ],
            "type": "histogram2dcontour"
           }
          ],
          "mesh3d": [
           {
            "colorbar": {
             "outlinewidth": 0,
             "ticks": ""
            },
            "type": "mesh3d"
           }
          ],
          "parcoords": [
           {
            "line": {
             "colorbar": {
              "outlinewidth": 0,
              "ticks": ""
             }
            },
            "type": "parcoords"
           }
          ],
          "pie": [
           {
            "automargin": true,
            "type": "pie"
           }
          ],
          "scatter": [
           {
            "fillpattern": {
             "fillmode": "overlay",
             "size": 10,
             "solidity": 0.2
            },
            "type": "scatter"
           }
          ],
          "scatter3d": [
           {
            "line": {
             "colorbar": {
              "outlinewidth": 0,
              "ticks": ""
             }
            },
            "marker": {
             "colorbar": {
              "outlinewidth": 0,
              "ticks": ""
             }
            },
            "type": "scatter3d"
           }
          ],
          "scattercarpet": [
           {
            "marker": {
             "colorbar": {
              "outlinewidth": 0,
              "ticks": ""
             }
            },
            "type": "scattercarpet"
           }
          ],
          "scattergeo": [
           {
            "marker": {
             "colorbar": {
              "outlinewidth": 0,
              "ticks": ""
             }
            },
            "type": "scattergeo"
           }
          ],
          "scattergl": [
           {
            "marker": {
             "colorbar": {
              "outlinewidth": 0,
              "ticks": ""
             }
            },
            "type": "scattergl"
           }
          ],
          "scattermapbox": [
           {
            "marker": {
             "colorbar": {
              "outlinewidth": 0,
              "ticks": ""
             }
            },
            "type": "scattermapbox"
           }
          ],
          "scatterpolar": [
           {
            "marker": {
             "colorbar": {
              "outlinewidth": 0,
              "ticks": ""
             }
            },
            "type": "scatterpolar"
           }
          ],
          "scatterpolargl": [
           {
            "marker": {
             "colorbar": {
              "outlinewidth": 0,
              "ticks": ""
             }
            },
            "type": "scatterpolargl"
           }
          ],
          "scatterternary": [
           {
            "marker": {
             "colorbar": {
              "outlinewidth": 0,
              "ticks": ""
             }
            },
            "type": "scatterternary"
           }
          ],
          "surface": [
           {
            "colorbar": {
             "outlinewidth": 0,
             "ticks": ""
            },
            "colorscale": [
             [
              0,
              "#0d0887"
             ],
             [
              0.1111111111111111,
              "#46039f"
             ],
             [
              0.2222222222222222,
              "#7201a8"
             ],
             [
              0.3333333333333333,
              "#9c179e"
             ],
             [
              0.4444444444444444,
              "#bd3786"
             ],
             [
              0.5555555555555556,
              "#d8576b"
             ],
             [
              0.6666666666666666,
              "#ed7953"
             ],
             [
              0.7777777777777778,
              "#fb9f3a"
             ],
             [
              0.8888888888888888,
              "#fdca26"
             ],
             [
              1,
              "#f0f921"
             ]
            ],
            "type": "surface"
           }
          ],
          "table": [
           {
            "cells": {
             "fill": {
              "color": "#EBF0F8"
             },
             "line": {
              "color": "white"
             }
            },
            "header": {
             "fill": {
              "color": "#C8D4E3"
             },
             "line": {
              "color": "white"
             }
            },
            "type": "table"
           }
          ]
         },
         "layout": {
          "annotationdefaults": {
           "arrowcolor": "#2a3f5f",
           "arrowhead": 0,
           "arrowwidth": 1
          },
          "autotypenumbers": "strict",
          "coloraxis": {
           "colorbar": {
            "outlinewidth": 0,
            "ticks": ""
           }
          },
          "colorscale": {
           "diverging": [
            [
             0,
             "#8e0152"
            ],
            [
             0.1,
             "#c51b7d"
            ],
            [
             0.2,
             "#de77ae"
            ],
            [
             0.3,
             "#f1b6da"
            ],
            [
             0.4,
             "#fde0ef"
            ],
            [
             0.5,
             "#f7f7f7"
            ],
            [
             0.6,
             "#e6f5d0"
            ],
            [
             0.7,
             "#b8e186"
            ],
            [
             0.8,
             "#7fbc41"
            ],
            [
             0.9,
             "#4d9221"
            ],
            [
             1,
             "#276419"
            ]
           ],
           "sequential": [
            [
             0,
             "#0d0887"
            ],
            [
             0.1111111111111111,
             "#46039f"
            ],
            [
             0.2222222222222222,
             "#7201a8"
            ],
            [
             0.3333333333333333,
             "#9c179e"
            ],
            [
             0.4444444444444444,
             "#bd3786"
            ],
            [
             0.5555555555555556,
             "#d8576b"
            ],
            [
             0.6666666666666666,
             "#ed7953"
            ],
            [
             0.7777777777777778,
             "#fb9f3a"
            ],
            [
             0.8888888888888888,
             "#fdca26"
            ],
            [
             1,
             "#f0f921"
            ]
           ],
           "sequentialminus": [
            [
             0,
             "#0d0887"
            ],
            [
             0.1111111111111111,
             "#46039f"
            ],
            [
             0.2222222222222222,
             "#7201a8"
            ],
            [
             0.3333333333333333,
             "#9c179e"
            ],
            [
             0.4444444444444444,
             "#bd3786"
            ],
            [
             0.5555555555555556,
             "#d8576b"
            ],
            [
             0.6666666666666666,
             "#ed7953"
            ],
            [
             0.7777777777777778,
             "#fb9f3a"
            ],
            [
             0.8888888888888888,
             "#fdca26"
            ],
            [
             1,
             "#f0f921"
            ]
           ]
          },
          "colorway": [
           "#636efa",
           "#EF553B",
           "#00cc96",
           "#ab63fa",
           "#FFA15A",
           "#19d3f3",
           "#FF6692",
           "#B6E880",
           "#FF97FF",
           "#FECB52"
          ],
          "font": {
           "color": "#2a3f5f"
          },
          "geo": {
           "bgcolor": "white",
           "lakecolor": "white",
           "landcolor": "#E5ECF6",
           "showlakes": true,
           "showland": true,
           "subunitcolor": "white"
          },
          "hoverlabel": {
           "align": "left"
          },
          "hovermode": "closest",
          "mapbox": {
           "style": "light"
          },
          "paper_bgcolor": "white",
          "plot_bgcolor": "#E5ECF6",
          "polar": {
           "angularaxis": {
            "gridcolor": "white",
            "linecolor": "white",
            "ticks": ""
           },
           "bgcolor": "#E5ECF6",
           "radialaxis": {
            "gridcolor": "white",
            "linecolor": "white",
            "ticks": ""
           }
          },
          "scene": {
           "xaxis": {
            "backgroundcolor": "#E5ECF6",
            "gridcolor": "white",
            "gridwidth": 2,
            "linecolor": "white",
            "showbackground": true,
            "ticks": "",
            "zerolinecolor": "white"
           },
           "yaxis": {
            "backgroundcolor": "#E5ECF6",
            "gridcolor": "white",
            "gridwidth": 2,
            "linecolor": "white",
            "showbackground": true,
            "ticks": "",
            "zerolinecolor": "white"
           },
           "zaxis": {
            "backgroundcolor": "#E5ECF6",
            "gridcolor": "white",
            "gridwidth": 2,
            "linecolor": "white",
            "showbackground": true,
            "ticks": "",
            "zerolinecolor": "white"
           }
          },
          "shapedefaults": {
           "line": {
            "color": "#2a3f5f"
           }
          },
          "ternary": {
           "aaxis": {
            "gridcolor": "white",
            "linecolor": "white",
            "ticks": ""
           },
           "baxis": {
            "gridcolor": "white",
            "linecolor": "white",
            "ticks": ""
           },
           "bgcolor": "#E5ECF6",
           "caxis": {
            "gridcolor": "white",
            "linecolor": "white",
            "ticks": ""
           }
          },
          "title": {
           "x": 0.05
          },
          "xaxis": {
           "automargin": true,
           "gridcolor": "white",
           "linecolor": "white",
           "ticks": "",
           "title": {
            "standoff": 15
           },
           "zerolinecolor": "white",
           "zerolinewidth": 2
          },
          "yaxis": {
           "automargin": true,
           "gridcolor": "white",
           "linecolor": "white",
           "ticks": "",
           "title": {
            "standoff": 15
           },
           "zerolinecolor": "white",
           "zerolinewidth": 2
          }
         }
        },
        "title": {
         "text": "CB density across brain regions in PSP"
        },
        "width": 1000
       }
      }
     },
     "metadata": {},
     "output_type": "display_data"
    }
   ],
   "source": [
    "cb_plot = polar_plot(dict_subset=psp_stage_dict,\n",
    "                     dict_mean=mean_CB_dict,\n",
    "                     tau_type='CB_density',\n",
    "                     val_add=0.00005,\n",
    "                     anatomical_order=anatomical_order,\n",
    "                     marker_colors=[],\n",
    "                     marker_color='BurlyWood',\n",
    "                     marker_line_color='saddlebrown',\n",
    "                     title='CB density across brain regions in PSP',\n",
    "                     tick_label=True,\n",
    "                    fig_height=1200,\n",
    "                    fig_width=1000,\n",
    "                    tickangle_val=90)\n",
    "cb_plot.show()"
   ]
  },
  {
   "cell_type": "code",
   "execution_count": 30,
   "metadata": {},
   "outputs": [
    {
     "name": "stdout",
     "output_type": "stream",
     "text": [
      "min value:  -inf\n",
      "max value:  -4.714332824778807\n"
     ]
    },
    {
     "data": {
      "application/vnd.plotly.v1+json": {
       "config": {
        "plotlyServerURL": "https://plot.ly"
       },
       "data": [
        {
         "marker": {
          "color": "lightcoral",
          "line": {
           "color": "maroon"
          }
         },
         "name": "Tau density, stage 2",
         "r": [
          0,
          2.8810418168042382e-9,
          4.964550483302017e-9,
          6.640877802752517e-9,
          7.635547513865705e-9,
          8.133626424548952e-9,
          4.826353226093477e-8,
          5.559948276683974e-8,
          1.0100183809374179e-7
         ],
         "showlegend": false,
         "subplot": "polar",
         "theta": [
          "OC",
          "1°M",
          "PM",
          "1°S",
          "PF",
          "C",
          "P",
          "T",
          "PU"
         ],
         "type": "barpolar"
        },
        {
         "marker": {
          "color": "maroon",
          "size": 4
         },
         "mode": "markers",
         "name": "Stage 2",
         "r": [
          8.79615012423546e-9,
          9.507572948795513e-8,
          4.826353226093477e-8,
          1.6267252849097905e-8,
          6.235097501256119e-9,
          6.474944903495951e-9,
          0,
          7.046658104248915e-9,
          2.8810418168042382e-9,
          4.964550483302017e-9,
          1.6123236045724348e-8,
          0,
          5.018476877613691e-8,
          1.5181890741134665e-7
         ],
         "showlegend": false,
         "subplot": "polar",
         "theta": [
          "PF",
          "T",
          "P",
          "C",
          "1°S",
          "PF",
          "OC",
          "1°S",
          "1°M",
          "PM",
          "T",
          "C",
          "PU",
          "PU"
         ],
         "type": "scatterpolargl"
        },
        {
         "marker": {
          "color": "lightcoral",
          "line": {
           "color": "maroon"
          }
         },
         "name": "Tau density, stage 3",
         "r": [
          2.4201350437968183e-9,
          1.1800827324230212e-8,
          3.1333584802011956e-8,
          7.583846947825344e-8,
          9.897278983277431e-8,
          1.4370342125724872e-7,
          1.6512101683850064e-7,
          2.6737969150989435e-7,
          2.9296882549802343e-7
         ],
         "showlegend": false,
         "subplot": "polar2",
         "theta": [
          "OC",
          "1°S",
          "P",
          "PF",
          "T",
          "1°M",
          "C",
          "PU",
          "PM"
         ],
         "type": "barpolar"
        },
        {
         "marker": {
          "color": "maroon",
          "size": 4
         },
         "mode": "markers",
         "name": "Stage 3",
         "r": [
          4.593158568396069e-9,
          2.584394180194476e-8,
          2.352304718917625e-8,
          1.7156341743162175e-8,
          4.8402700875936365e-9,
          2.737770808995121e-7,
          3.154135836960196e-7,
          1.2314112006255382e-7,
          7.570405002235677e-8,
          1.9358477404026322e-8,
          3.909285427904855e-7,
          8.413573012858784e-7,
          5.354993333175208e-8,
          2.3141288598810843e-8,
          1.433777917931587e-8,
          1.4026128019015705e-8,
          2.3294479331121604e-8,
          2.867023834984972e-8,
          0,
          0,
          1.4828449980981697e-8,
          1.1450846000268245e-8,
          2.963653213163399e-8,
          5.051228508881547e-7
         ],
         "showlegend": false,
         "subplot": "polar2",
         "theta": [
          "1°S",
          "1°M",
          "PM",
          "P",
          "OC",
          "T",
          "C",
          "PF",
          "PF",
          "1°S",
          "1°M",
          "PM",
          "P",
          "T",
          "1°M",
          "PM",
          "P",
          "PF",
          "OC",
          "T",
          "C",
          "1°S",
          "PU",
          "PU"
         ],
         "type": "scatterpolargl"
        },
        {
         "marker": {
          "color": "lightcoral",
          "line": {
           "color": "maroon"
          }
         },
         "name": "Tau density, stage 4",
         "r": [
          4.878845328658552e-9,
          8.540163337816346e-8,
          1.170477887043849e-7,
          1.728746721273014e-7,
          1.7968214349213347e-7,
          2.087306510906768e-7,
          2.1396431813630027e-7,
          0.000001072266811180644,
          0.0000011751291113646636
         ],
         "showlegend": false,
         "subplot": "polar3",
         "theta": [
          "OC",
          "T",
          "1°S",
          "P",
          "PF",
          "C",
          "PU",
          "PM",
          "1°M"
         ],
         "type": "barpolar"
        },
        {
         "marker": {
          "color": "maroon",
          "size": 4
         },
         "mode": "markers",
         "name": "Stage 4",
         "r": [
          0,
          2.5708682604237845e-8,
          6.242752590155815e-7,
          0,
          0,
          9.024816614659821e-8,
          3.0563207465300017e-7,
          2.5396865580310493e-8,
          1.3696469091764746e-7,
          0.000001545209927157134,
          2.654709272813679e-7,
          1.0563765899623869e-7,
          4.583140172066423e-7,
          2.114615810014119e-7,
          2.6125101747101175e-7,
          0.0000033106464662937624,
          3.136777735605002e-7,
          1.6592175816800876e-7,
          1.2227238149143446e-8,
          3.157062170648848e-8,
          2.033560036504192e-8,
          0,
          2.2539013489294435e-7,
          2.48921570410343e-7,
          0.00000293493599646704,
          0.0000010753988080681017,
          1.4272401657368565e-7,
          4.895928323296008e-8,
          5.28680930958892e-7,
          6.153828634369403e-8,
          9.861151274917747e-7,
          7.172918832462021e-7,
          8.611213870189567e-8,
          0,
          9.46256071143468e-8,
          6.285504228473031e-9,
          1.4785146767209496e-7,
          0,
          8.26894782734144e-8,
          1.4354321767302396e-8,
          4.431755296361632e-8,
          0,
          0,
          0,
          6.00825561960109e-8,
          8.478686053183835e-8,
          4.3400603553213095e-8,
          1.481334882363574e-7,
          2.579968982951543e-7,
          5.63885045190576e-8,
          3.1188791456599104e-7,
          9.034519470312673e-8,
          0.0000010972697885573644,
          1.4749145392112188e-8,
          1.3446124264266736e-8,
          1.3571788167589033e-8,
          4.476944528099469e-8,
          3.139439352917748e-7,
          0
         ],
         "showlegend": false,
         "subplot": "polar3",
         "theta": [
          "OC",
          "PF",
          "PF",
          "OC",
          "OC",
          "PF",
          "PF",
          "OC",
          "1°S",
          "1°M",
          "P",
          "T",
          "C",
          "1°S",
          "1°M",
          "PM",
          "P",
          "PF",
          "OC",
          "T",
          "C",
          "OC",
          "PF",
          "1°S",
          "1°M",
          "PM",
          "P",
          "T",
          "C",
          "1°S",
          "1°M",
          "PM",
          "P",
          "T",
          "C",
          "OC",
          "PF",
          "OC",
          "PF",
          "T",
          "PF",
          "OC",
          "1°S",
          "PM",
          "C",
          "PF",
          "1°S",
          "1°M",
          "PM",
          "P",
          "T",
          "C",
          "PU",
          "PU",
          "PU",
          "PU",
          "PU",
          "PU",
          "PU"
         ],
         "type": "scatterpolargl"
        },
        {
         "marker": {
          "color": "lightcoral",
          "line": {
           "color": "maroon"
          }
         },
         "name": "Tau density, stage 5",
         "r": [
          1.3310107631122786e-7,
          3.278681219747128e-7,
          6.562367144545577e-7,
          0.0000013444383701004472,
          0.0000013999902621913547,
          0.0000018561217385446312,
          0.000003142524012356115,
          0.000003983492655478991,
          0.0000065083392653944925
         ],
         "showlegend": false,
         "subplot": "polar4",
         "theta": [
          "OC",
          "T",
          "PF",
          "C",
          "PU",
          "1°S",
          "P",
          "PM",
          "1°M"
         ],
         "type": "barpolar"
        },
        {
         "marker": {
          "color": "maroon",
          "size": 4
         },
         "mode": "markers",
         "name": "Stage 5",
         "r": [
          3.9398497003301286e-7,
          3.928066529068879e-9,
          5.923069092328386e-7,
          1.1214162083595623e-7,
          7.752599362055779e-7,
          0.000005958971307020961,
          0.00000200220083835194,
          7.645352566240054e-7,
          8.219934387469928e-7,
          4.452947343591094e-7,
          1.300754990446208e-7,
          4.957260648424431e-7,
          7.093272915138882e-8,
          0.0000032929874257201462,
          0.000016991180908446444,
          0.000004557994659273349,
          5.282867914216877e-7,
          0.000005897361797616961,
          9.943725287489684e-7,
          1.990466158979785e-7,
          2.0927864353556777e-7,
          0.000005370680588165142,
          2.522977674598062e-7,
          0.0000016287342358994964,
          7.24044232364094e-7,
          0.000001462386101597993,
          7.729936278850031e-7,
          0.0000015158704081407603,
          0.000003907438702660506,
          0.000003827427365366435,
          7.136587283604152e-7,
          9.66633771284067e-7,
          5.928321622571711e-7,
          2.4134296043323103e-8,
          1.3454129114807656e-7,
          5.0448820962623245e-8,
          0.00000145755359955615,
          5.7942349848455346e-8,
          9.824883949277835e-8,
          5.5010173432161226e-8,
          4.819380758618985e-7,
          8.44837942172127e-8,
          3.9664923545590144e-8,
          1.7948258572421025e-7,
          0.0000026938681524900994,
          0.0000011672285208358438,
          0.000007886106625543945,
          0.000002210453318043957,
          1.7340699355836125e-8,
          3.871137288829064e-7,
          4.10047995976765e-7,
          3.460330235065755e-8,
          0.000001958352265467256,
          0.000006664517348327681,
          0.000002890504100183302,
          0.00001029636418123982,
          1.276401394576699e-7,
          0.000002104960634429522,
          8.438494634023286e-8,
          0.0000012028310915117804,
          0.0000018689799361938724,
          0.0000159188516377512,
          0.0000034478609451788486,
          8.656635422974509e-7,
          2.887967430640021e-7,
          7.380743408773176e-7,
          0.0000016376056797715909,
          1.759510943320313e-7,
          0.0000013976411307179583,
          0.000014303765080195947,
          0.00000610646167788963,
          0.0000060952156268753,
          2.1693141902159e-7,
          2.681857212251501e-7,
          0.000003160909633723481,
          0.0000013516764367241515,
          0.0000029928577484304425,
          4.927318728332608e-7,
          3.925600409921735e-7,
          1.519532525647266e-7,
          2.307917632805985e-7,
          8.593445664538292e-7,
          0,
          0.0000059148583773424165,
          0,
          0.0000020927424252721224,
          0.0000016487464752917303,
          4.305625566978655e-7,
          0.000001481902275865504,
          4.960124667004055e-7,
          5.350877825521481e-7
         ],
         "showlegend": false,
         "subplot": "polar4",
         "theta": [
          "PF",
          "OC",
          "PF",
          "OC",
          "1°S",
          "1°M",
          "PM",
          "P",
          "PF",
          "OC",
          "T",
          "C",
          "OC",
          "1°S",
          "PM",
          "P",
          "T",
          "C",
          "PF",
          "OC",
          "1°S",
          "P",
          "T",
          "C",
          "1°M",
          "T",
          "PF",
          "1°S",
          "1°M",
          "PM",
          "P",
          "C",
          "PM",
          "T",
          "PF",
          "1°M",
          "PM",
          "P",
          "C",
          "OC",
          "PF",
          "OC",
          "PF",
          "OC",
          "1°S",
          "PM",
          "1°M",
          "P",
          "T",
          "C",
          "PF",
          "OC",
          "1°S",
          "1°M",
          "PM",
          "P",
          "T",
          "C",
          "OC",
          "PF",
          "1°S",
          "1°M",
          "PM",
          "P",
          "T",
          "C",
          "PF",
          "OC",
          "1°S",
          "1°M",
          "PM",
          "P",
          "T",
          "C",
          "1°M",
          "PM",
          "1°S",
          "P",
          "PF",
          "OC",
          "T",
          "C",
          "PU",
          "PU",
          "PU",
          "PU",
          "PU",
          "PU",
          "PU",
          "PU",
          "PU"
         ],
         "type": "scatterpolargl"
        },
        {
         "marker": {
          "color": "lightcoral",
          "line": {
           "color": "maroon"
          }
         },
         "name": "Tau density, stage 6",
         "r": [
          2.129987724694369e-7,
          2.2948717271725817e-7,
          2.974673290001287e-7,
          3.710161831248617e-7,
          4.0939941398182367e-7,
          4.201273594854752e-7,
          0.0000013103152547615716,
          0.00000450980704635457,
          0.0000047121481139455265
         ],
         "showlegend": false,
         "subplot": "polar5",
         "theta": [
          "P",
          "T",
          "OC",
          "PU",
          "C",
          "PF",
          "PM",
          "1°M",
          "1°S"
         ],
         "type": "barpolar"
        },
        {
         "marker": {
          "color": "maroon",
          "size": 4
         },
         "mode": "markers",
         "name": "Stage 6",
         "r": [
          4.201273594854752e-7,
          2.974673290001287e-7,
          0.000009304883060314416,
          3.657374745120147e-7,
          5.79275183772744e-7,
          1.1941316757663804e-7,
          0.00000450980704635457,
          0.0000013103152547615716,
          2.129987724694369e-7,
          9.323687092250163e-8,
          2.395236441909033e-7,
          3.710161831248617e-7
         ],
         "showlegend": false,
         "subplot": "polar5",
         "theta": [
          "PF",
          "OC",
          "1°S",
          "T",
          "C",
          "1°S",
          "1°M",
          "PM",
          "P",
          "T",
          "C",
          "PU"
         ],
         "type": "scatterpolargl"
        }
       ],
       "layout": {
        "annotations": [
         {
          "font": {
           "color": "black",
           "size": 16
          },
          "showarrow": false,
          "text": "Stage 2",
          "x": 0.025,
          "xanchor": "center",
          "xref": "paper",
          "y": 1,
          "yanchor": "bottom",
          "yref": "paper"
         },
         {
          "font": {
           "color": "black",
           "size": 16
          },
          "showarrow": false,
          "text": "Stage 3",
          "x": 0.575,
          "xanchor": "center",
          "xref": "paper",
          "y": 1,
          "yanchor": "bottom",
          "yref": "paper"
         },
         {
          "font": {
           "color": "black",
           "size": 16
          },
          "showarrow": false,
          "text": "Stage 4",
          "x": 0.025,
          "xanchor": "center",
          "xref": "paper",
          "y": 0.6111111111111112,
          "yanchor": "bottom",
          "yref": "paper"
         },
         {
          "font": {
           "color": "black",
           "size": 16
          },
          "showarrow": false,
          "text": "Stage 5",
          "x": 0.575,
          "xanchor": "center",
          "xref": "paper",
          "y": 0.6111111111111112,
          "yanchor": "bottom",
          "yref": "paper"
         },
         {
          "font": {
           "color": "black",
           "size": 16
          },
          "showarrow": false,
          "text": "Stage 6",
          "x": 0.025,
          "xanchor": "center",
          "xref": "paper",
          "y": 0.22222222222222224,
          "yanchor": "bottom",
          "yref": "paper"
         }
        ],
        "height": 1200,
        "polar": {
         "angularaxis": {
          "categoryarray": [
           "PU",
           "PF",
           "PM",
           "1°M",
           "1°S",
           "T",
           "P",
           "OC",
           "C"
          ],
          "color": "black",
          "tickfont": {
           "size": 15
          }
         },
         "domain": {
          "x": [
           0,
           0.45
          ],
          "y": [
           0.7777777777777778,
           1
          ]
         },
         "radialaxis": {
          "dtick": 1,
          "range": [
           null,
           -4.714332824778807
          ],
          "showticklabels": true,
          "tickangle": 90,
          "ticks": "outside",
          "type": "log"
         }
        },
        "polar2": {
         "angularaxis": {
          "categoryarray": [
           "PU",
           "PF",
           "PM",
           "1°M",
           "1°S",
           "T",
           "P",
           "OC",
           "C"
          ],
          "color": "black",
          "tickfont": {
           "size": 15
          }
         },
         "domain": {
          "x": [
           0.55,
           1
          ],
          "y": [
           0.7777777777777778,
           1
          ]
         },
         "radialaxis": {
          "dtick": 1,
          "range": [
           null,
           -4.714332824778807
          ],
          "showticklabels": true,
          "tickangle": 90,
          "ticks": "outside",
          "type": "log"
         }
        },
        "polar3": {
         "angularaxis": {
          "categoryarray": [
           "PU",
           "PF",
           "PM",
           "1°M",
           "1°S",
           "T",
           "P",
           "OC",
           "C"
          ],
          "color": "black",
          "tickfont": {
           "size": 15
          }
         },
         "domain": {
          "x": [
           0,
           0.45
          ],
          "y": [
           0.3888888888888889,
           0.6111111111111112
          ]
         },
         "radialaxis": {
          "dtick": 1,
          "range": [
           null,
           -4.714332824778807
          ],
          "showticklabels": true,
          "tickangle": 90,
          "ticks": "outside",
          "type": "log"
         }
        },
        "polar4": {
         "angularaxis": {
          "categoryarray": [
           "PU",
           "PF",
           "PM",
           "1°M",
           "1°S",
           "T",
           "P",
           "OC",
           "C"
          ],
          "color": "black",
          "tickfont": {
           "size": 15
          }
         },
         "domain": {
          "x": [
           0.55,
           1
          ],
          "y": [
           0.3888888888888889,
           0.6111111111111112
          ]
         },
         "radialaxis": {
          "dtick": 1,
          "range": [
           null,
           -4.714332824778807
          ],
          "showticklabels": true,
          "tickangle": 90,
          "ticks": "outside",
          "type": "log"
         }
        },
        "polar5": {
         "angularaxis": {
          "categoryarray": [
           "PU",
           "PF",
           "PM",
           "1°M",
           "1°S",
           "T",
           "P",
           "OC",
           "C"
          ],
          "color": "black",
          "tickfont": {
           "size": 15
          }
         },
         "domain": {
          "x": [
           0,
           0.45
          ],
          "y": [
           0,
           0.22222222222222224
          ]
         },
         "radialaxis": {
          "dtick": 1,
          "range": [
           null,
           -4.714332824778807
          ],
          "showticklabels": true,
          "tickangle": 90,
          "ticks": "outside",
          "type": "log"
         }
        },
        "polar6": {
         "domain": {
          "x": [
           0.55,
           1
          ],
          "y": [
           0,
           0.22222222222222224
          ]
         }
        },
        "template": {
         "data": {
          "bar": [
           {
            "error_x": {
             "color": "#2a3f5f"
            },
            "error_y": {
             "color": "#2a3f5f"
            },
            "marker": {
             "line": {
              "color": "#E5ECF6",
              "width": 0.5
             },
             "pattern": {
              "fillmode": "overlay",
              "size": 10,
              "solidity": 0.2
             }
            },
            "type": "bar"
           }
          ],
          "barpolar": [
           {
            "marker": {
             "line": {
              "color": "#E5ECF6",
              "width": 0.5
             },
             "pattern": {
              "fillmode": "overlay",
              "size": 10,
              "solidity": 0.2
             }
            },
            "type": "barpolar"
           }
          ],
          "carpet": [
           {
            "aaxis": {
             "endlinecolor": "#2a3f5f",
             "gridcolor": "white",
             "linecolor": "white",
             "minorgridcolor": "white",
             "startlinecolor": "#2a3f5f"
            },
            "baxis": {
             "endlinecolor": "#2a3f5f",
             "gridcolor": "white",
             "linecolor": "white",
             "minorgridcolor": "white",
             "startlinecolor": "#2a3f5f"
            },
            "type": "carpet"
           }
          ],
          "choropleth": [
           {
            "colorbar": {
             "outlinewidth": 0,
             "ticks": ""
            },
            "type": "choropleth"
           }
          ],
          "contour": [
           {
            "colorbar": {
             "outlinewidth": 0,
             "ticks": ""
            },
            "colorscale": [
             [
              0,
              "#0d0887"
             ],
             [
              0.1111111111111111,
              "#46039f"
             ],
             [
              0.2222222222222222,
              "#7201a8"
             ],
             [
              0.3333333333333333,
              "#9c179e"
             ],
             [
              0.4444444444444444,
              "#bd3786"
             ],
             [
              0.5555555555555556,
              "#d8576b"
             ],
             [
              0.6666666666666666,
              "#ed7953"
             ],
             [
              0.7777777777777778,
              "#fb9f3a"
             ],
             [
              0.8888888888888888,
              "#fdca26"
             ],
             [
              1,
              "#f0f921"
             ]
            ],
            "type": "contour"
           }
          ],
          "contourcarpet": [
           {
            "colorbar": {
             "outlinewidth": 0,
             "ticks": ""
            },
            "type": "contourcarpet"
           }
          ],
          "heatmap": [
           {
            "colorbar": {
             "outlinewidth": 0,
             "ticks": ""
            },
            "colorscale": [
             [
              0,
              "#0d0887"
             ],
             [
              0.1111111111111111,
              "#46039f"
             ],
             [
              0.2222222222222222,
              "#7201a8"
             ],
             [
              0.3333333333333333,
              "#9c179e"
             ],
             [
              0.4444444444444444,
              "#bd3786"
             ],
             [
              0.5555555555555556,
              "#d8576b"
             ],
             [
              0.6666666666666666,
              "#ed7953"
             ],
             [
              0.7777777777777778,
              "#fb9f3a"
             ],
             [
              0.8888888888888888,
              "#fdca26"
             ],
             [
              1,
              "#f0f921"
             ]
            ],
            "type": "heatmap"
           }
          ],
          "heatmapgl": [
           {
            "colorbar": {
             "outlinewidth": 0,
             "ticks": ""
            },
            "colorscale": [
             [
              0,
              "#0d0887"
             ],
             [
              0.1111111111111111,
              "#46039f"
             ],
             [
              0.2222222222222222,
              "#7201a8"
             ],
             [
              0.3333333333333333,
              "#9c179e"
             ],
             [
              0.4444444444444444,
              "#bd3786"
             ],
             [
              0.5555555555555556,
              "#d8576b"
             ],
             [
              0.6666666666666666,
              "#ed7953"
             ],
             [
              0.7777777777777778,
              "#fb9f3a"
             ],
             [
              0.8888888888888888,
              "#fdca26"
             ],
             [
              1,
              "#f0f921"
             ]
            ],
            "type": "heatmapgl"
           }
          ],
          "histogram": [
           {
            "marker": {
             "pattern": {
              "fillmode": "overlay",
              "size": 10,
              "solidity": 0.2
             }
            },
            "type": "histogram"
           }
          ],
          "histogram2d": [
           {
            "colorbar": {
             "outlinewidth": 0,
             "ticks": ""
            },
            "colorscale": [
             [
              0,
              "#0d0887"
             ],
             [
              0.1111111111111111,
              "#46039f"
             ],
             [
              0.2222222222222222,
              "#7201a8"
             ],
             [
              0.3333333333333333,
              "#9c179e"
             ],
             [
              0.4444444444444444,
              "#bd3786"
             ],
             [
              0.5555555555555556,
              "#d8576b"
             ],
             [
              0.6666666666666666,
              "#ed7953"
             ],
             [
              0.7777777777777778,
              "#fb9f3a"
             ],
             [
              0.8888888888888888,
              "#fdca26"
             ],
             [
              1,
              "#f0f921"
             ]
            ],
            "type": "histogram2d"
           }
          ],
          "histogram2dcontour": [
           {
            "colorbar": {
             "outlinewidth": 0,
             "ticks": ""
            },
            "colorscale": [
             [
              0,
              "#0d0887"
             ],
             [
              0.1111111111111111,
              "#46039f"
             ],
             [
              0.2222222222222222,
              "#7201a8"
             ],
             [
              0.3333333333333333,
              "#9c179e"
             ],
             [
              0.4444444444444444,
              "#bd3786"
             ],
             [
              0.5555555555555556,
              "#d8576b"
             ],
             [
              0.6666666666666666,
              "#ed7953"
             ],
             [
              0.7777777777777778,
              "#fb9f3a"
             ],
             [
              0.8888888888888888,
              "#fdca26"
             ],
             [
              1,
              "#f0f921"
             ]
            ],
            "type": "histogram2dcontour"
           }
          ],
          "mesh3d": [
           {
            "colorbar": {
             "outlinewidth": 0,
             "ticks": ""
            },
            "type": "mesh3d"
           }
          ],
          "parcoords": [
           {
            "line": {
             "colorbar": {
              "outlinewidth": 0,
              "ticks": ""
             }
            },
            "type": "parcoords"
           }
          ],
          "pie": [
           {
            "automargin": true,
            "type": "pie"
           }
          ],
          "scatter": [
           {
            "fillpattern": {
             "fillmode": "overlay",
             "size": 10,
             "solidity": 0.2
            },
            "type": "scatter"
           }
          ],
          "scatter3d": [
           {
            "line": {
             "colorbar": {
              "outlinewidth": 0,
              "ticks": ""
             }
            },
            "marker": {
             "colorbar": {
              "outlinewidth": 0,
              "ticks": ""
             }
            },
            "type": "scatter3d"
           }
          ],
          "scattercarpet": [
           {
            "marker": {
             "colorbar": {
              "outlinewidth": 0,
              "ticks": ""
             }
            },
            "type": "scattercarpet"
           }
          ],
          "scattergeo": [
           {
            "marker": {
             "colorbar": {
              "outlinewidth": 0,
              "ticks": ""
             }
            },
            "type": "scattergeo"
           }
          ],
          "scattergl": [
           {
            "marker": {
             "colorbar": {
              "outlinewidth": 0,
              "ticks": ""
             }
            },
            "type": "scattergl"
           }
          ],
          "scattermapbox": [
           {
            "marker": {
             "colorbar": {
              "outlinewidth": 0,
              "ticks": ""
             }
            },
            "type": "scattermapbox"
           }
          ],
          "scatterpolar": [
           {
            "marker": {
             "colorbar": {
              "outlinewidth": 0,
              "ticks": ""
             }
            },
            "type": "scatterpolar"
           }
          ],
          "scatterpolargl": [
           {
            "marker": {
             "colorbar": {
              "outlinewidth": 0,
              "ticks": ""
             }
            },
            "type": "scatterpolargl"
           }
          ],
          "scatterternary": [
           {
            "marker": {
             "colorbar": {
              "outlinewidth": 0,
              "ticks": ""
             }
            },
            "type": "scatterternary"
           }
          ],
          "surface": [
           {
            "colorbar": {
             "outlinewidth": 0,
             "ticks": ""
            },
            "colorscale": [
             [
              0,
              "#0d0887"
             ],
             [
              0.1111111111111111,
              "#46039f"
             ],
             [
              0.2222222222222222,
              "#7201a8"
             ],
             [
              0.3333333333333333,
              "#9c179e"
             ],
             [
              0.4444444444444444,
              "#bd3786"
             ],
             [
              0.5555555555555556,
              "#d8576b"
             ],
             [
              0.6666666666666666,
              "#ed7953"
             ],
             [
              0.7777777777777778,
              "#fb9f3a"
             ],
             [
              0.8888888888888888,
              "#fdca26"
             ],
             [
              1,
              "#f0f921"
             ]
            ],
            "type": "surface"
           }
          ],
          "table": [
           {
            "cells": {
             "fill": {
              "color": "#EBF0F8"
             },
             "line": {
              "color": "white"
             }
            },
            "header": {
             "fill": {
              "color": "#C8D4E3"
             },
             "line": {
              "color": "white"
             }
            },
            "type": "table"
           }
          ]
         },
         "layout": {
          "annotationdefaults": {
           "arrowcolor": "#2a3f5f",
           "arrowhead": 0,
           "arrowwidth": 1
          },
          "autotypenumbers": "strict",
          "coloraxis": {
           "colorbar": {
            "outlinewidth": 0,
            "ticks": ""
           }
          },
          "colorscale": {
           "diverging": [
            [
             0,
             "#8e0152"
            ],
            [
             0.1,
             "#c51b7d"
            ],
            [
             0.2,
             "#de77ae"
            ],
            [
             0.3,
             "#f1b6da"
            ],
            [
             0.4,
             "#fde0ef"
            ],
            [
             0.5,
             "#f7f7f7"
            ],
            [
             0.6,
             "#e6f5d0"
            ],
            [
             0.7,
             "#b8e186"
            ],
            [
             0.8,
             "#7fbc41"
            ],
            [
             0.9,
             "#4d9221"
            ],
            [
             1,
             "#276419"
            ]
           ],
           "sequential": [
            [
             0,
             "#0d0887"
            ],
            [
             0.1111111111111111,
             "#46039f"
            ],
            [
             0.2222222222222222,
             "#7201a8"
            ],
            [
             0.3333333333333333,
             "#9c179e"
            ],
            [
             0.4444444444444444,
             "#bd3786"
            ],
            [
             0.5555555555555556,
             "#d8576b"
            ],
            [
             0.6666666666666666,
             "#ed7953"
            ],
            [
             0.7777777777777778,
             "#fb9f3a"
            ],
            [
             0.8888888888888888,
             "#fdca26"
            ],
            [
             1,
             "#f0f921"
            ]
           ],
           "sequentialminus": [
            [
             0,
             "#0d0887"
            ],
            [
             0.1111111111111111,
             "#46039f"
            ],
            [
             0.2222222222222222,
             "#7201a8"
            ],
            [
             0.3333333333333333,
             "#9c179e"
            ],
            [
             0.4444444444444444,
             "#bd3786"
            ],
            [
             0.5555555555555556,
             "#d8576b"
            ],
            [
             0.6666666666666666,
             "#ed7953"
            ],
            [
             0.7777777777777778,
             "#fb9f3a"
            ],
            [
             0.8888888888888888,
             "#fdca26"
            ],
            [
             1,
             "#f0f921"
            ]
           ]
          },
          "colorway": [
           "#636efa",
           "#EF553B",
           "#00cc96",
           "#ab63fa",
           "#FFA15A",
           "#19d3f3",
           "#FF6692",
           "#B6E880",
           "#FF97FF",
           "#FECB52"
          ],
          "font": {
           "color": "#2a3f5f"
          },
          "geo": {
           "bgcolor": "white",
           "lakecolor": "white",
           "landcolor": "#E5ECF6",
           "showlakes": true,
           "showland": true,
           "subunitcolor": "white"
          },
          "hoverlabel": {
           "align": "left"
          },
          "hovermode": "closest",
          "mapbox": {
           "style": "light"
          },
          "paper_bgcolor": "white",
          "plot_bgcolor": "#E5ECF6",
          "polar": {
           "angularaxis": {
            "gridcolor": "white",
            "linecolor": "white",
            "ticks": ""
           },
           "bgcolor": "#E5ECF6",
           "radialaxis": {
            "gridcolor": "white",
            "linecolor": "white",
            "ticks": ""
           }
          },
          "scene": {
           "xaxis": {
            "backgroundcolor": "#E5ECF6",
            "gridcolor": "white",
            "gridwidth": 2,
            "linecolor": "white",
            "showbackground": true,
            "ticks": "",
            "zerolinecolor": "white"
           },
           "yaxis": {
            "backgroundcolor": "#E5ECF6",
            "gridcolor": "white",
            "gridwidth": 2,
            "linecolor": "white",
            "showbackground": true,
            "ticks": "",
            "zerolinecolor": "white"
           },
           "zaxis": {
            "backgroundcolor": "#E5ECF6",
            "gridcolor": "white",
            "gridwidth": 2,
            "linecolor": "white",
            "showbackground": true,
            "ticks": "",
            "zerolinecolor": "white"
           }
          },
          "shapedefaults": {
           "line": {
            "color": "#2a3f5f"
           }
          },
          "ternary": {
           "aaxis": {
            "gridcolor": "white",
            "linecolor": "white",
            "ticks": ""
           },
           "baxis": {
            "gridcolor": "white",
            "linecolor": "white",
            "ticks": ""
           },
           "bgcolor": "#E5ECF6",
           "caxis": {
            "gridcolor": "white",
            "linecolor": "white",
            "ticks": ""
           }
          },
          "title": {
           "x": 0.05
          },
          "xaxis": {
           "automargin": true,
           "gridcolor": "white",
           "linecolor": "white",
           "ticks": "",
           "title": {
            "standoff": 15
           },
           "zerolinecolor": "white",
           "zerolinewidth": 2
          },
          "yaxis": {
           "automargin": true,
           "gridcolor": "white",
           "linecolor": "white",
           "ticks": "",
           "title": {
            "standoff": 15
           },
           "zerolinecolor": "white",
           "zerolinewidth": 2
          }
         }
        },
        "title": {
         "text": "TA density across brain regions in PSP"
        },
        "width": 1000
       }
      }
     },
     "metadata": {},
     "output_type": "display_data"
    }
   ],
   "source": [
    "ta_plot = polar_plot(dict_subset=psp_stage_withTA_dict,\n",
    "                     dict_mean=mean_TA_dict,\n",
    "                     tau_type='TA_density',\n",
    "                     val_add=0.00001,\n",
    "                     anatomical_order=anatomical_order_withTA,\n",
    "                     marker_colors=[],\n",
    "                     marker_color='lightcoral',\n",
    "                     marker_line_color='maroon',\n",
    "                     title='TA density across brain regions in PSP',\n",
    "                     tick_label=True,\n",
    "                    fig_height=1200,\n",
    "                    fig_width=1000,\n",
    "                    tickangle_val=90)\n",
    "ta_plot.show()"
   ]
  },
  {
   "cell_type": "code",
   "execution_count": 31,
   "metadata": {},
   "outputs": [
    {
     "name": "stdout",
     "output_type": "stream",
     "text": [
      "min value:  -inf\n",
      "max value:  -4.267229974185\n"
     ]
    },
    {
     "data": {
      "application/vnd.plotly.v1+json": {
       "config": {
        "plotlyServerURL": "https://plot.ly"
       },
       "data": [
        {
         "marker": {
          "color": "darkseagreen",
          "line": {
           "color": "darkslategray"
          }
         },
         "name": "Tau density, stage 2",
         "r": [
          0,
          9.652706452186952e-9,
          9.712417355243926e-9,
          9.929100966604037e-9,
          1.409331620849783e-8,
          1.4405209084021191e-8,
          2.623711997319071e-8,
          4.73195867893393e-8,
          7.590945370567332e-8,
          2.0602624017121706e-7,
          4.4526109380724707e-7,
          0.000001268066150641128
         ],
         "showlegend": false,
         "subplot": "polar",
         "theta": [
          "OC",
          "P",
          "PF",
          "PM",
          "1°S",
          "1°M",
          "C",
          "T",
          "PU",
          "DN",
          "GP",
          "STN"
         ],
         "type": "barpolar"
        },
        {
         "marker": {
          "color": "darkslategray",
          "size": 4
         },
         "mode": "markers",
         "name": "Stage 2",
         "r": [
          0,
          8.38903495481957e-8,
          9.652706452186952e-9,
          1.6267252849097905e-8,
          0,
          1.942483471048785e-8,
          0,
          2.818663241699566e-8,
          1.4405209084021191e-8,
          9.929100966604037e-9,
          1.07488240304829e-8,
          3.6206987097283514e-8,
          0,
          0,
          2.0387396829323506e-7,
          0.000002536132301282256,
          1.5181890741134665e-7,
          6.866482193212591e-7,
          1.9244386643348774e-7,
          2.196086139089464e-7
         ],
         "showlegend": false,
         "subplot": "polar",
         "theta": [
          "PF",
          "T",
          "P",
          "C",
          "1°S",
          "PF",
          "OC",
          "1°S",
          "1°M",
          "PM",
          "T",
          "C",
          "STN",
          "PU",
          "GP",
          "STN",
          "PU",
          "GP",
          "DN",
          "DN"
         ],
         "type": "scatterpolargl"
        },
        {
         "marker": {
          "color": "darkseagreen",
          "line": {
           "color": "darkslategray"
          }
         },
         "name": "Tau density, stage 3",
         "r": [
          1.1861116952787347e-8,
          5.503226816651238e-8,
          7.071719912434166e-8,
          1.1066405184568557e-7,
          1.34747561340668e-7,
          3.0675186207040993e-7,
          4.155965239717176e-7,
          4.4624786144170496e-7,
          4.825597717429722e-7,
          7.561209183348029e-7,
          0.0000010756864086305345,
          0.000003846881003426836
         ],
         "showlegend": false,
         "subplot": "polar2",
         "theta": [
          "OC",
          "1°S",
          "PU",
          "P",
          "PF",
          "1°M",
          "PM",
          "T",
          "C",
          "GP",
          "DN",
          "STN"
         ],
         "type": "barpolar"
        },
        {
         "marker": {
          "color": "darkslategray",
          "size": 4
         },
         "mode": "markers",
         "name": "Stage 3",
         "r": [
          9.645632993631746e-8,
          4.6519095243500567e-8,
          2.411112336890566e-7,
          2.2875122324216237e-8,
          1.4520810262780911e-8,
          0.000001261594386307211,
          8.761488436000542e-7,
          2.268389053783886e-7,
          1.582902864103823e-7,
          6.291505156308555e-8,
          8.307231534297816e-7,
          9.86976834200742e-7,
          3.0523461999098685e-7,
          6.479560807667035e-8,
          4.3013337537947615e-8,
          1.8701504025354272e-8,
          3.882413221853601e-9,
          1.9113492233233148e-8,
          9.201423642793784e-9,
          1.2353589941233351e-8,
          8.897069988589019e-8,
          5.725423000134122e-9,
          0,
          9.982452512225591e-7,
          5.688335915894722e-7,
          0.000006695516755631114,
          1.4143439824868332e-7,
          9.434082450801336e-7,
          0.0000015813878942482289,
          0.000001184211168535573,
          4.614601631078016e-7
         ],
         "showlegend": false,
         "subplot": "polar2",
         "theta": [
          "1°S",
          "1°M",
          "PM",
          "P",
          "OC",
          "T",
          "C",
          "PF",
          "PF",
          "1°S",
          "1°M",
          "PM",
          "P",
          "T",
          "1°M",
          "PM",
          "P",
          "PF",
          "OC",
          "T",
          "C",
          "1°S",
          "PU",
          "STN",
          "GP",
          "STN",
          "PU",
          "GP",
          "DN",
          "DN",
          "DN"
         ],
         "type": "scatterpolargl"
        },
        {
         "marker": {
          "color": "darkseagreen",
          "line": {
           "color": "darkslategray"
          }
         },
         "name": "Tau density, stage 4",
         "r": [
          1.1297137486266005e-8,
          5.791052189693903e-8,
          6.757592502382487e-8,
          8.994813463430823e-8,
          1.4579400221098666e-7,
          1.7617699808551795e-7,
          3.0764929623776174e-7,
          3.6397603123827117e-7,
          4.4193393212638384e-7,
          6.546532892626089e-7,
          0.0000016790866669916393,
          0.000003231800522382158
         ],
         "showlegend": false,
         "subplot": "polar3",
         "theta": [
          "OC",
          "T",
          "PU",
          "1°S",
          "PF",
          "P",
          "1°M",
          "C",
          "GP",
          "PM",
          "DN",
          "STN"
         ],
         "type": "barpolar"
        },
        {
         "marker": {
          "color": "darkslategray",
          "size": 4
         },
         "mode": "markers",
         "name": "Stage 4",
         "r": [
          3.6406177918693214e-8,
          7.712604781271355e-8,
          4.717805392560502e-7,
          6.494260553063645e-9,
          6.469597361276378e-9,
          2.5433574095859496e-7,
          1.797835733252942e-8,
          4.2328109300517494e-9,
          4.812272924133559e-8,
          4.580113257142403e-7,
          8.973665147539198e-8,
          3.7283879645731295e-8,
          3.015223797412121e-7,
          3.0208797285915984e-7,
          1.4182198091283498e-7,
          0.000002130329030484682,
          5.158256720772669e-7,
          2.0147642063258208e-7,
          6.113619074571723e-9,
          6.314124341297695e-8,
          2.64362804745545e-7,
          0,
          8.668851342036319e-8,
          1.0668067303300415e-7,
          6.753399438237306e-7,
          3.507985416692738e-7,
          1.3288098094791424e-7,
          3.263952215530672e-8,
          4.405674424657433e-7,
          0,
          5.7332274854172953e-8,
          5.553227483196404e-8,
          2.532709961820461e-8,
          0,
          2.3656401778586692e-8,
          0,
          0,
          0,
          4.3313536238455164e-8,
          1.1483457413841916e-8,
          1.582769748700583e-7,
          4.195777153873733e-8,
          7.569719846780423e-9,
          4.713421827701354e-7,
          7.810732305481417e-7,
          1.469638915885198e-7,
          7.522771282556936e-8,
          2.0574095588382968e-7,
          2.652644165569896e-7,
          1.1711458630881195e-7,
          2.029150287537773e-7,
          3.726739281503978e-7,
          1.1652422533352544e-7,
          0.000001309431959997976,
          2.346148744633874e-7,
          0.0000030366108283766893,
          1.0324401774478533e-7,
          2.279500923697085e-7,
          0.00000483887654061361,
          8.067674558560044e-8,
          0.0000012454837129577577,
          0.000005220986314560818,
          1.0857430534071226e-7,
          9.736471594886228e-7,
          0.000005443156126151843,
          4.476944528099469e-8,
          3.197313250781441e-7,
          0.0000016671016134776232,
          0,
          9.211036052706665e-8,
          0.0000011064402734965455,
          1.9242735881155852e-8,
          0,
          0.0000018890638258866728,
          0.0000013260524365764558,
          0.0000016284913846527012,
          0.000005577088618834118,
          0.00000119139163716937,
          0.000001359225162713456,
          1.538232525219928e-7,
          2.329950305033599e-7,
          0.0000017536486540666292
         ],
         "showlegend": false,
         "subplot": "polar3",
         "theta": [
          "OC",
          "PF",
          "PF",
          "OC",
          "OC",
          "PF",
          "PF",
          "OC",
          "1°S",
          "1°M",
          "P",
          "T",
          "C",
          "1°S",
          "1°M",
          "PM",
          "P",
          "PF",
          "OC",
          "T",
          "C",
          "OC",
          "PF",
          "1°S",
          "1°M",
          "PM",
          "P",
          "T",
          "C",
          "1°S",
          "1°M",
          "PM",
          "P",
          "T",
          "C",
          "OC",
          "PF",
          "OC",
          "PF",
          "T",
          "PF",
          "OC",
          "1°S",
          "PM",
          "C",
          "PF",
          "1°S",
          "1°M",
          "PM",
          "P",
          "T",
          "C",
          "PU",
          "STN",
          "GP",
          "STN",
          "PU",
          "GP",
          "STN",
          "PU",
          "GP",
          "STN",
          "PU",
          "GP",
          "STN",
          "PU",
          "GP",
          "STN",
          "PU",
          "GP",
          "STN",
          "PU",
          "GP",
          "DN",
          "DN",
          "DN",
          "DN",
          "DN",
          "DN",
          "DN",
          "DN",
          "DN"
         ],
         "type": "scatterpolargl"
        },
        {
         "marker": {
          "color": "darkseagreen",
          "line": {
           "color": "darkslategray"
          }
         },
         "name": "Tau density, stage 5",
         "r": [
          6.061131221798217e-8,
          1.5510706400731456e-7,
          2.223891002775114e-7,
          2.9715670821697693e-7,
          6.122398026585457e-7,
          6.650922893497053e-7,
          7.160357958060792e-7,
          0.00000115364637944021,
          0.0000012071945962854005,
          0.0000018097213517482999,
          0.0000035351234504249577,
          0.000003563980730447066
         ],
         "showlegend": false,
         "subplot": "polar4",
         "theta": [
          "OC",
          "PU",
          "T",
          "PF",
          "P",
          "GP",
          "1°S",
          "PM",
          "C",
          "1°M",
          "STN",
          "DN"
         ],
         "type": "barpolar"
        },
        {
         "marker": {
          "color": "darkslategray",
          "size": 4
         },
         "mode": "markers",
         "name": "Stage 5",
         "r": [
          5.145926139206697e-7,
          5.4992931406964314e-8,
          6.440618818842516e-7,
          2.9904432222921654e-8,
          1.7460809373999505e-7,
          8.177208541097755e-7,
          2.4947550382020977e-7,
          3.156790737028151e-7,
          1.9179846904096496e-7,
          2.569008082841016e-8,
          1.0764868886451377e-7,
          2.812292098625398e-7,
          4.51390094599747e-8,
          0.0000010040157465832057,
          0.000003566197726392132,
          0.000001402089266224677,
          4.390491577355918e-7,
          0.000002675654889659547,
          2.1767358838285877e-7,
          4.0484057470775296e-8,
          3.269978805243246e-9,
          6.766886227512699e-7,
          5.1393989667738304e-8,
          1.4192290022360757e-7,
          1.3208915049885497e-7,
          7.628222667368666e-7,
          4.319670273475017e-7,
          3.999317672541581e-7,
          0.0000011241819005334173,
          0.000001201566018223766,
          1.6791970079068594e-7,
          6.802237649776771e-7,
          7.391154230738757e-7,
          1.870407943357541e-7,
          5.381651645923061e-7,
          5.885695778972712e-8,
          0.000001208702984997783,
          1.1588469969691069e-7,
          5.614219399587334e-7,
          7.85859620459446e-9,
          1.4210994544645725e-7,
          7.680344928837519e-9,
          2.69721480110013e-7,
          3.106429368303639e-7,
          0.0000026938681524900994,
          0.0000026219517512371663,
          0.000008836723892799668,
          0.0000018871157316279524,
          1.664707138160268e-7,
          0.000004603888275643136,
          1.949408505463309e-7,
          5.5365283761052096e-8,
          0.0000011575390714100138,
          0.0000029968384689563794,
          0.0000012295427888839418,
          9.73736717665412e-7,
          1.5955017432208734e-7,
          0.000001863767228401139,
          3.375397853609314e-8,
          1.366853513081569e-7,
          3.405696772619945e-7,
          0.0000011962928643228911,
          2.780533020305523e-7,
          2.1130369930095257e-7,
          2.021577201448015e-7,
          6.560660807798379e-7,
          1.4434822101330133e-7,
          4.540673402116938e-8,
          1.324778322955411e-7,
          6.791516365596913e-7,
          2.2616524732924558e-7,
          2.714730183762064e-7,
          9.985731986708113e-8,
          1.0727428849006005e-7,
          4.456364401642941e-7,
          2.156930484134285e-7,
          5.380418424144616e-7,
          1.0050749644857561e-7,
          1.398159050109111e-7,
          7.041736094462939e-8,
          4.790017728465252e-8,
          5.004973848577247e-7,
          0.000007877278305818,
          4.836847854539084e-8,
          1.608953877978671e-7,
          0.000003636565379787033,
          0.0000013042158734635848,
          2.6652741388371374e-7,
          0.000003035021174367191,
          0,
          4.998159713294706e-7,
          0.0000018364766651581843,
          6.877557266152515e-8,
          9.198647405064796e-7,
          0.000004868940176868281,
          1.771380510644008e-7,
          3.219932152809609e-7,
          0.000006871790934988637,
          0.0000011171856841368626,
          1.6995890395968376e-7,
          0.000003283505588772775,
          2.840312695408883e-7,
          6.816440826542999e-7,
          4.0653282806452217e-7,
          1.518405510307364e-7,
          7.19494888111134e-8,
          0,
          2.2932333537949206e-7,
          9.082661601667084e-7,
          0.000009145542796824736,
          0.000008645487137537566,
          0.0000023641629357962928,
          0.0000020981693124082865,
          3.655013909703685e-7,
          0.0000029444604204087107,
          0.000002014421769195329,
          0.000003979053297856483,
          0.0000017878268713368009,
          0.000004498781679309949,
          0.000001360380423273204
         ],
         "showlegend": false,
         "subplot": "polar4",
         "theta": [
          "PF",
          "OC",
          "PF",
          "OC",
          "1°S",
          "1°M",
          "PM",
          "P",
          "PF",
          "OC",
          "T",
          "C",
          "OC",
          "1°S",
          "PM",
          "P",
          "T",
          "C",
          "PF",
          "OC",
          "1°S",
          "P",
          "T",
          "C",
          "1°M",
          "T",
          "PF",
          "1°S",
          "1°M",
          "PM",
          "P",
          "C",
          "PM",
          "T",
          "PF",
          "1°M",
          "PM",
          "P",
          "C",
          "OC",
          "PF",
          "OC",
          "PF",
          "OC",
          "1°S",
          "PM",
          "1°M",
          "P",
          "T",
          "C",
          "PF",
          "OC",
          "1°S",
          "1°M",
          "PM",
          "P",
          "T",
          "C",
          "OC",
          "PF",
          "1°S",
          "1°M",
          "PM",
          "P",
          "T",
          "C",
          "PF",
          "OC",
          "1°S",
          "1°M",
          "PM",
          "P",
          "T",
          "C",
          "1°M",
          "PM",
          "1°S",
          "P",
          "PF",
          "OC",
          "T",
          "C",
          "STN",
          "PU",
          "GP",
          "STN",
          "GP",
          "PU",
          "STN",
          "PU",
          "GP",
          "STN",
          "PU",
          "GP",
          "STN",
          "PU",
          "GP",
          "STN",
          "GP",
          "PU",
          "STN",
          "PU",
          "GP",
          "STN",
          "PU",
          "GP",
          "STN",
          "PU",
          "GP",
          "DN",
          "DN",
          "DN",
          "DN",
          "DN",
          "DN",
          "DN",
          "DN",
          "DN",
          "DN",
          "DN"
         ],
         "type": "scatterpolargl"
        },
        {
         "marker": {
          "color": "darkseagreen",
          "line": {
           "color": "darkslategray"
          }
         },
         "name": "Tau density, stage 6",
         "r": [
          1.4393580435490098e-7,
          2.995295237851456e-7,
          4.1553812509984507e-7,
          4.4474631768920365e-7,
          5.041528313825702e-7,
          5.779071442183681e-7,
          9.196298434947176e-7,
          9.440780717536788e-7,
          0.0000016589747381280726,
          0.000001979168048217281,
          0.0000022887835427241893,
          0.000003179981340250767
         ],
         "showlegend": false,
         "subplot": "polar5",
         "theta": [
          "OC",
          "P",
          "PU",
          "T",
          "PF",
          "GP",
          "C",
          "PM",
          "STN",
          "1°S",
          "1°M",
          "DN"
         ],
         "type": "barpolar"
        },
        {
         "marker": {
          "color": "darkslategray",
          "size": 4
         },
         "mode": "markers",
         "name": "Stage 6",
         "r": [
          5.041528313825702e-7,
          1.4393580435490098e-7,
          0.000003627653478530026,
          5.076654496957816e-7,
          9.051174746449123e-7,
          3.306826179045361e-7,
          0.0000022887835427241893,
          9.440780717536788e-7,
          2.995295237851456e-7,
          3.8182718568262563e-7,
          9.341422123445228e-7,
          0.0000016589747381280726,
          4.1553812509984507e-7,
          5.779071442183681e-7,
          0.000002313157646782575,
          0.000004046805033718959
         ],
         "showlegend": false,
         "subplot": "polar5",
         "theta": [
          "PF",
          "OC",
          "1°S",
          "T",
          "C",
          "1°S",
          "1°M",
          "PM",
          "P",
          "T",
          "C",
          "STN",
          "PU",
          "GP",
          "DN",
          "DN"
         ],
         "type": "scatterpolargl"
        }
       ],
       "layout": {
        "annotations": [
         {
          "font": {
           "color": "black",
           "size": 16
          },
          "showarrow": false,
          "text": "Stage 2",
          "x": 0.025,
          "xanchor": "center",
          "xref": "paper",
          "y": 1,
          "yanchor": "bottom",
          "yref": "paper"
         },
         {
          "font": {
           "color": "black",
           "size": 16
          },
          "showarrow": false,
          "text": "Stage 3",
          "x": 0.575,
          "xanchor": "center",
          "xref": "paper",
          "y": 1,
          "yanchor": "bottom",
          "yref": "paper"
         },
         {
          "font": {
           "color": "black",
           "size": 16
          },
          "showarrow": false,
          "text": "Stage 4",
          "x": 0.025,
          "xanchor": "center",
          "xref": "paper",
          "y": 0.6111111111111112,
          "yanchor": "bottom",
          "yref": "paper"
         },
         {
          "font": {
           "color": "black",
           "size": 16
          },
          "showarrow": false,
          "text": "Stage 5",
          "x": 0.575,
          "xanchor": "center",
          "xref": "paper",
          "y": 0.6111111111111112,
          "yanchor": "bottom",
          "yref": "paper"
         },
         {
          "font": {
           "color": "black",
           "size": 16
          },
          "showarrow": false,
          "text": "Stage 6",
          "x": 0.025,
          "xanchor": "center",
          "xref": "paper",
          "y": 0.22222222222222224,
          "yanchor": "bottom",
          "yref": "paper"
         }
        ],
        "height": 1200,
        "polar": {
         "angularaxis": {
          "categoryarray": [
           "STN",
           "GP",
           "PU",
           "DN",
           "PF",
           "PM",
           "1°M",
           "1°S",
           "T",
           "P",
           "OC",
           "C"
          ],
          "color": "black",
          "tickfont": {
           "size": 15
          }
         },
         "domain": {
          "x": [
           0,
           0.45
          ],
          "y": [
           0.7777777777777778,
           1
          ]
         },
         "radialaxis": {
          "dtick": 1,
          "range": [
           null,
           -4.267229974185
          ],
          "showticklabels": true,
          "tickangle": 90,
          "ticks": "outside",
          "type": "log"
         }
        },
        "polar2": {
         "angularaxis": {
          "categoryarray": [
           "STN",
           "GP",
           "PU",
           "DN",
           "PF",
           "PM",
           "1°M",
           "1°S",
           "T",
           "P",
           "OC",
           "C"
          ],
          "color": "black",
          "tickfont": {
           "size": 15
          }
         },
         "domain": {
          "x": [
           0.55,
           1
          ],
          "y": [
           0.7777777777777778,
           1
          ]
         },
         "radialaxis": {
          "dtick": 1,
          "range": [
           null,
           -4.267229974185
          ],
          "showticklabels": true,
          "tickangle": 90,
          "ticks": "outside",
          "type": "log"
         }
        },
        "polar3": {
         "angularaxis": {
          "categoryarray": [
           "STN",
           "GP",
           "PU",
           "DN",
           "PF",
           "PM",
           "1°M",
           "1°S",
           "T",
           "P",
           "OC",
           "C"
          ],
          "color": "black",
          "tickfont": {
           "size": 15
          }
         },
         "domain": {
          "x": [
           0,
           0.45
          ],
          "y": [
           0.3888888888888889,
           0.6111111111111112
          ]
         },
         "radialaxis": {
          "dtick": 1,
          "range": [
           null,
           -4.267229974185
          ],
          "showticklabels": true,
          "tickangle": 90,
          "ticks": "outside",
          "type": "log"
         }
        },
        "polar4": {
         "angularaxis": {
          "categoryarray": [
           "STN",
           "GP",
           "PU",
           "DN",
           "PF",
           "PM",
           "1°M",
           "1°S",
           "T",
           "P",
           "OC",
           "C"
          ],
          "color": "black",
          "tickfont": {
           "size": 15
          }
         },
         "domain": {
          "x": [
           0.55,
           1
          ],
          "y": [
           0.3888888888888889,
           0.6111111111111112
          ]
         },
         "radialaxis": {
          "dtick": 1,
          "range": [
           null,
           -4.267229974185
          ],
          "showticklabels": true,
          "tickangle": 90,
          "ticks": "outside",
          "type": "log"
         }
        },
        "polar5": {
         "angularaxis": {
          "categoryarray": [
           "STN",
           "GP",
           "PU",
           "DN",
           "PF",
           "PM",
           "1°M",
           "1°S",
           "T",
           "P",
           "OC",
           "C"
          ],
          "color": "black",
          "tickfont": {
           "size": 15
          }
         },
         "domain": {
          "x": [
           0,
           0.45
          ],
          "y": [
           0,
           0.22222222222222224
          ]
         },
         "radialaxis": {
          "dtick": 1,
          "range": [
           null,
           -4.267229974185
          ],
          "showticklabels": true,
          "tickangle": 90,
          "ticks": "outside",
          "type": "log"
         }
        },
        "polar6": {
         "domain": {
          "x": [
           0.55,
           1
          ],
          "y": [
           0,
           0.22222222222222224
          ]
         }
        },
        "template": {
         "data": {
          "bar": [
           {
            "error_x": {
             "color": "#2a3f5f"
            },
            "error_y": {
             "color": "#2a3f5f"
            },
            "marker": {
             "line": {
              "color": "#E5ECF6",
              "width": 0.5
             },
             "pattern": {
              "fillmode": "overlay",
              "size": 10,
              "solidity": 0.2
             }
            },
            "type": "bar"
           }
          ],
          "barpolar": [
           {
            "marker": {
             "line": {
              "color": "#E5ECF6",
              "width": 0.5
             },
             "pattern": {
              "fillmode": "overlay",
              "size": 10,
              "solidity": 0.2
             }
            },
            "type": "barpolar"
           }
          ],
          "carpet": [
           {
            "aaxis": {
             "endlinecolor": "#2a3f5f",
             "gridcolor": "white",
             "linecolor": "white",
             "minorgridcolor": "white",
             "startlinecolor": "#2a3f5f"
            },
            "baxis": {
             "endlinecolor": "#2a3f5f",
             "gridcolor": "white",
             "linecolor": "white",
             "minorgridcolor": "white",
             "startlinecolor": "#2a3f5f"
            },
            "type": "carpet"
           }
          ],
          "choropleth": [
           {
            "colorbar": {
             "outlinewidth": 0,
             "ticks": ""
            },
            "type": "choropleth"
           }
          ],
          "contour": [
           {
            "colorbar": {
             "outlinewidth": 0,
             "ticks": ""
            },
            "colorscale": [
             [
              0,
              "#0d0887"
             ],
             [
              0.1111111111111111,
              "#46039f"
             ],
             [
              0.2222222222222222,
              "#7201a8"
             ],
             [
              0.3333333333333333,
              "#9c179e"
             ],
             [
              0.4444444444444444,
              "#bd3786"
             ],
             [
              0.5555555555555556,
              "#d8576b"
             ],
             [
              0.6666666666666666,
              "#ed7953"
             ],
             [
              0.7777777777777778,
              "#fb9f3a"
             ],
             [
              0.8888888888888888,
              "#fdca26"
             ],
             [
              1,
              "#f0f921"
             ]
            ],
            "type": "contour"
           }
          ],
          "contourcarpet": [
           {
            "colorbar": {
             "outlinewidth": 0,
             "ticks": ""
            },
            "type": "contourcarpet"
           }
          ],
          "heatmap": [
           {
            "colorbar": {
             "outlinewidth": 0,
             "ticks": ""
            },
            "colorscale": [
             [
              0,
              "#0d0887"
             ],
             [
              0.1111111111111111,
              "#46039f"
             ],
             [
              0.2222222222222222,
              "#7201a8"
             ],
             [
              0.3333333333333333,
              "#9c179e"
             ],
             [
              0.4444444444444444,
              "#bd3786"
             ],
             [
              0.5555555555555556,
              "#d8576b"
             ],
             [
              0.6666666666666666,
              "#ed7953"
             ],
             [
              0.7777777777777778,
              "#fb9f3a"
             ],
             [
              0.8888888888888888,
              "#fdca26"
             ],
             [
              1,
              "#f0f921"
             ]
            ],
            "type": "heatmap"
           }
          ],
          "heatmapgl": [
           {
            "colorbar": {
             "outlinewidth": 0,
             "ticks": ""
            },
            "colorscale": [
             [
              0,
              "#0d0887"
             ],
             [
              0.1111111111111111,
              "#46039f"
             ],
             [
              0.2222222222222222,
              "#7201a8"
             ],
             [
              0.3333333333333333,
              "#9c179e"
             ],
             [
              0.4444444444444444,
              "#bd3786"
             ],
             [
              0.5555555555555556,
              "#d8576b"
             ],
             [
              0.6666666666666666,
              "#ed7953"
             ],
             [
              0.7777777777777778,
              "#fb9f3a"
             ],
             [
              0.8888888888888888,
              "#fdca26"
             ],
             [
              1,
              "#f0f921"
             ]
            ],
            "type": "heatmapgl"
           }
          ],
          "histogram": [
           {
            "marker": {
             "pattern": {
              "fillmode": "overlay",
              "size": 10,
              "solidity": 0.2
             }
            },
            "type": "histogram"
           }
          ],
          "histogram2d": [
           {
            "colorbar": {
             "outlinewidth": 0,
             "ticks": ""
            },
            "colorscale": [
             [
              0,
              "#0d0887"
             ],
             [
              0.1111111111111111,
              "#46039f"
             ],
             [
              0.2222222222222222,
              "#7201a8"
             ],
             [
              0.3333333333333333,
              "#9c179e"
             ],
             [
              0.4444444444444444,
              "#bd3786"
             ],
             [
              0.5555555555555556,
              "#d8576b"
             ],
             [
              0.6666666666666666,
              "#ed7953"
             ],
             [
              0.7777777777777778,
              "#fb9f3a"
             ],
             [
              0.8888888888888888,
              "#fdca26"
             ],
             [
              1,
              "#f0f921"
             ]
            ],
            "type": "histogram2d"
           }
          ],
          "histogram2dcontour": [
           {
            "colorbar": {
             "outlinewidth": 0,
             "ticks": ""
            },
            "colorscale": [
             [
              0,
              "#0d0887"
             ],
             [
              0.1111111111111111,
              "#46039f"
             ],
             [
              0.2222222222222222,
              "#7201a8"
             ],
             [
              0.3333333333333333,
              "#9c179e"
             ],
             [
              0.4444444444444444,
              "#bd3786"
             ],
             [
              0.5555555555555556,
              "#d8576b"
             ],
             [
              0.6666666666666666,
              "#ed7953"
             ],
             [
              0.7777777777777778,
              "#fb9f3a"
             ],
             [
              0.8888888888888888,
              "#fdca26"
             ],
             [
              1,
              "#f0f921"
             ]
            ],
            "type": "histogram2dcontour"
           }
          ],
          "mesh3d": [
           {
            "colorbar": {
             "outlinewidth": 0,
             "ticks": ""
            },
            "type": "mesh3d"
           }
          ],
          "parcoords": [
           {
            "line": {
             "colorbar": {
              "outlinewidth": 0,
              "ticks": ""
             }
            },
            "type": "parcoords"
           }
          ],
          "pie": [
           {
            "automargin": true,
            "type": "pie"
           }
          ],
          "scatter": [
           {
            "fillpattern": {
             "fillmode": "overlay",
             "size": 10,
             "solidity": 0.2
            },
            "type": "scatter"
           }
          ],
          "scatter3d": [
           {
            "line": {
             "colorbar": {
              "outlinewidth": 0,
              "ticks": ""
             }
            },
            "marker": {
             "colorbar": {
              "outlinewidth": 0,
              "ticks": ""
             }
            },
            "type": "scatter3d"
           }
          ],
          "scattercarpet": [
           {
            "marker": {
             "colorbar": {
              "outlinewidth": 0,
              "ticks": ""
             }
            },
            "type": "scattercarpet"
           }
          ],
          "scattergeo": [
           {
            "marker": {
             "colorbar": {
              "outlinewidth": 0,
              "ticks": ""
             }
            },
            "type": "scattergeo"
           }
          ],
          "scattergl": [
           {
            "marker": {
             "colorbar": {
              "outlinewidth": 0,
              "ticks": ""
             }
            },
            "type": "scattergl"
           }
          ],
          "scattermapbox": [
           {
            "marker": {
             "colorbar": {
              "outlinewidth": 0,
              "ticks": ""
             }
            },
            "type": "scattermapbox"
           }
          ],
          "scatterpolar": [
           {
            "marker": {
             "colorbar": {
              "outlinewidth": 0,
              "ticks": ""
             }
            },
            "type": "scatterpolar"
           }
          ],
          "scatterpolargl": [
           {
            "marker": {
             "colorbar": {
              "outlinewidth": 0,
              "ticks": ""
             }
            },
            "type": "scatterpolargl"
           }
          ],
          "scatterternary": [
           {
            "marker": {
             "colorbar": {
              "outlinewidth": 0,
              "ticks": ""
             }
            },
            "type": "scatterternary"
           }
          ],
          "surface": [
           {
            "colorbar": {
             "outlinewidth": 0,
             "ticks": ""
            },
            "colorscale": [
             [
              0,
              "#0d0887"
             ],
             [
              0.1111111111111111,
              "#46039f"
             ],
             [
              0.2222222222222222,
              "#7201a8"
             ],
             [
              0.3333333333333333,
              "#9c179e"
             ],
             [
              0.4444444444444444,
              "#bd3786"
             ],
             [
              0.5555555555555556,
              "#d8576b"
             ],
             [
              0.6666666666666666,
              "#ed7953"
             ],
             [
              0.7777777777777778,
              "#fb9f3a"
             ],
             [
              0.8888888888888888,
              "#fdca26"
             ],
             [
              1,
              "#f0f921"
             ]
            ],
            "type": "surface"
           }
          ],
          "table": [
           {
            "cells": {
             "fill": {
              "color": "#EBF0F8"
             },
             "line": {
              "color": "white"
             }
            },
            "header": {
             "fill": {
              "color": "#C8D4E3"
             },
             "line": {
              "color": "white"
             }
            },
            "type": "table"
           }
          ]
         },
         "layout": {
          "annotationdefaults": {
           "arrowcolor": "#2a3f5f",
           "arrowhead": 0,
           "arrowwidth": 1
          },
          "autotypenumbers": "strict",
          "coloraxis": {
           "colorbar": {
            "outlinewidth": 0,
            "ticks": ""
           }
          },
          "colorscale": {
           "diverging": [
            [
             0,
             "#8e0152"
            ],
            [
             0.1,
             "#c51b7d"
            ],
            [
             0.2,
             "#de77ae"
            ],
            [
             0.3,
             "#f1b6da"
            ],
            [
             0.4,
             "#fde0ef"
            ],
            [
             0.5,
             "#f7f7f7"
            ],
            [
             0.6,
             "#e6f5d0"
            ],
            [
             0.7,
             "#b8e186"
            ],
            [
             0.8,
             "#7fbc41"
            ],
            [
             0.9,
             "#4d9221"
            ],
            [
             1,
             "#276419"
            ]
           ],
           "sequential": [
            [
             0,
             "#0d0887"
            ],
            [
             0.1111111111111111,
             "#46039f"
            ],
            [
             0.2222222222222222,
             "#7201a8"
            ],
            [
             0.3333333333333333,
             "#9c179e"
            ],
            [
             0.4444444444444444,
             "#bd3786"
            ],
            [
             0.5555555555555556,
             "#d8576b"
            ],
            [
             0.6666666666666666,
             "#ed7953"
            ],
            [
             0.7777777777777778,
             "#fb9f3a"
            ],
            [
             0.8888888888888888,
             "#fdca26"
            ],
            [
             1,
             "#f0f921"
            ]
           ],
           "sequentialminus": [
            [
             0,
             "#0d0887"
            ],
            [
             0.1111111111111111,
             "#46039f"
            ],
            [
             0.2222222222222222,
             "#7201a8"
            ],
            [
             0.3333333333333333,
             "#9c179e"
            ],
            [
             0.4444444444444444,
             "#bd3786"
            ],
            [
             0.5555555555555556,
             "#d8576b"
            ],
            [
             0.6666666666666666,
             "#ed7953"
            ],
            [
             0.7777777777777778,
             "#fb9f3a"
            ],
            [
             0.8888888888888888,
             "#fdca26"
            ],
            [
             1,
             "#f0f921"
            ]
           ]
          },
          "colorway": [
           "#636efa",
           "#EF553B",
           "#00cc96",
           "#ab63fa",
           "#FFA15A",
           "#19d3f3",
           "#FF6692",
           "#B6E880",
           "#FF97FF",
           "#FECB52"
          ],
          "font": {
           "color": "#2a3f5f"
          },
          "geo": {
           "bgcolor": "white",
           "lakecolor": "white",
           "landcolor": "#E5ECF6",
           "showlakes": true,
           "showland": true,
           "subunitcolor": "white"
          },
          "hoverlabel": {
           "align": "left"
          },
          "hovermode": "closest",
          "mapbox": {
           "style": "light"
          },
          "paper_bgcolor": "white",
          "plot_bgcolor": "#E5ECF6",
          "polar": {
           "angularaxis": {
            "gridcolor": "white",
            "linecolor": "white",
            "ticks": ""
           },
           "bgcolor": "#E5ECF6",
           "radialaxis": {
            "gridcolor": "white",
            "linecolor": "white",
            "ticks": ""
           }
          },
          "scene": {
           "xaxis": {
            "backgroundcolor": "#E5ECF6",
            "gridcolor": "white",
            "gridwidth": 2,
            "linecolor": "white",
            "showbackground": true,
            "ticks": "",
            "zerolinecolor": "white"
           },
           "yaxis": {
            "backgroundcolor": "#E5ECF6",
            "gridcolor": "white",
            "gridwidth": 2,
            "linecolor": "white",
            "showbackground": true,
            "ticks": "",
            "zerolinecolor": "white"
           },
           "zaxis": {
            "backgroundcolor": "#E5ECF6",
            "gridcolor": "white",
            "gridwidth": 2,
            "linecolor": "white",
            "showbackground": true,
            "ticks": "",
            "zerolinecolor": "white"
           }
          },
          "shapedefaults": {
           "line": {
            "color": "#2a3f5f"
           }
          },
          "ternary": {
           "aaxis": {
            "gridcolor": "white",
            "linecolor": "white",
            "ticks": ""
           },
           "baxis": {
            "gridcolor": "white",
            "linecolor": "white",
            "ticks": ""
           },
           "bgcolor": "#E5ECF6",
           "caxis": {
            "gridcolor": "white",
            "linecolor": "white",
            "ticks": ""
           }
          },
          "title": {
           "x": 0.05
          },
          "xaxis": {
           "automargin": true,
           "gridcolor": "white",
           "linecolor": "white",
           "ticks": "",
           "title": {
            "standoff": 15
           },
           "zerolinecolor": "white",
           "zerolinewidth": 2
          },
          "yaxis": {
           "automargin": true,
           "gridcolor": "white",
           "linecolor": "white",
           "ticks": "",
           "title": {
            "standoff": 15
           },
           "zerolinecolor": "white",
           "zerolinewidth": 2
          }
         }
        },
        "title": {
         "text": "NFT density across brain regions in PSP"
        },
        "width": 1000
       }
      }
     },
     "metadata": {},
     "output_type": "display_data"
    }
   ],
   "source": [
    "nft_plot = polar_plot(dict_subset=psp_stage_dict,\n",
    "                      dict_mean=mean_NFT_dict,\n",
    "                      tau_type='NFT_density',\n",
    "                      val_add=0.00005,\n",
    "                      anatomical_order=anatomical_order,\n",
    "                      marker_colors=[],\n",
    "                      marker_color='darkseagreen',\n",
    "                      marker_line_color='darkslategray',\n",
    "                      title='NFT density across brain regions in PSP',\n",
    "                      tick_label=True,\n",
    "                      fig_height=1200,\n",
    "                      fig_width=1000,\n",
    "                      tickangle_val=90)\n",
    "nft_plot.show()"
   ]
  },
  {
   "cell_type": "code",
   "execution_count": 32,
   "metadata": {},
   "outputs": [
    {
     "name": "stdout",
     "output_type": "stream",
     "text": [
      "min value:  -6.691066099842773\n",
      "max value:  -2.7905849745884472\n"
     ]
    },
    {
     "data": {
      "application/vnd.plotly.v1+json": {
       "config": {
        "plotlyServerURL": "https://plot.ly"
       },
       "data": [
        {
         "marker": {
          "color": "Plum",
          "line": {
           "color": "RebeccaPurple"
          }
         },
         "name": "Tau density, stage 2",
         "r": [
          2.036732062450102e-7,
          5.790894051776518e-7,
          0.0000015489397507902295,
          0.0000018982418029790084,
          0.000002418158649121592,
          0.0000026987689294720376,
          0.000002808937577586403,
          0.000005050436589733246,
          0.00001115158837068368,
          0.000019635897731107874,
          0.00020437206156355458,
          0.0002575754381501
         ],
         "showlegend": false,
         "subplot": "polar",
         "theta": [
          "OC",
          "1°M",
          "PM",
          "1°S",
          "C",
          "PF",
          "P",
          "T",
          "PU",
          "DN",
          "GP",
          "STN"
         ],
         "type": "barpolar"
        },
        {
         "marker": {
          "color": "RebeccaPurple",
          "size": 4
         },
         "mode": "markers",
         "name": "Stage 2",
         "r": [
          0.000003940675255657486,
          0.000009630612128132866,
          0.000002808937577586403,
          0.0000028630365014412314,
          0.000002070052370417032,
          0.000001456862603286589,
          2.036732062450102e-7,
          0.0000017264312355409845,
          5.790894051776518e-7,
          0.0000015489397507902295,
          4.702610513336268e-7,
          0.0000019732807968019518,
          0.0001290735052051,
          0.00000821775588709242,
          0.00009435287252610916,
          0.0003860773710951,
          0.00001408542085427494,
          0.000314391250601,
          0.000028481692232156183,
          0.000010790103230059566
         ],
         "showlegend": false,
         "subplot": "polar",
         "theta": [
          "PF",
          "T",
          "P",
          "C",
          "1°S",
          "PF",
          "OC",
          "1°S",
          "1°M",
          "PM",
          "T",
          "C",
          "STN",
          "PU",
          "GP",
          "STN",
          "PU",
          "GP",
          "DN",
          "DN"
         ],
         "type": "scatterpolargl"
        },
        {
         "marker": {
          "color": "Plum",
          "line": {
           "color": "RebeccaPurple"
          }
         },
         "name": "Tau density, stage 3",
         "r": [
          0.0000013699497146320724,
          0.000003194571345530845,
          0.000003595646680438388,
          0.000006261926035655813,
          0.000007807631509999235,
          0.000010396651172164684,
          0.000013144789422230664,
          0.000014161017016223278,
          0.000040821564268770544,
          0.00006166085128842585,
          0.00042747315776408206,
          0.00124266180479695
         ],
         "showlegend": false,
         "subplot": "polar2",
         "theta": [
          "OC",
          "1°S",
          "P",
          "PF",
          "T",
          "C",
          "PM",
          "1°M",
          "DN",
          "PU",
          "GP",
          "STN"
         ],
         "type": "barpolar"
        },
        {
         "marker": {
          "color": "RebeccaPurple",
          "size": 4
         },
         "mode": "markers",
         "name": "Stage 3",
         "r": [
          0.000002774267775311226,
          0.000001793569561054966,
          0.000006492361024212646,
          0.0000015040392928172175,
          0.0000012584702227743455,
          0.000020925448237400542,
          0.0000177682985482091,
          0.000014880632192822292,
          0.000002333061177961722,
          0.000004994487170238791,
          0.00003606315807242228,
          0.0000308147111595953,
          0.000007496990666445291,
          0.0000011385513990614933,
          0.000004626323415192587,
          0.0000021272960828840486,
          0.0000017859100820526563,
          0.0000015720847361834263,
          0.0000014814292064897995,
          0.0000013588948935356683,
          0.000003025003796120266,
          0.0000018149590910425167,
          0.0000037490213146517,
          0.0001184584364784,
          0.000048407738644264086,
          0.0023668651731155,
          0.0001195726812622,
          0.0008065385768839,
          0.00004986023007747356,
          0.00004999291473655582,
          0.00002261154799228228
         ],
         "showlegend": false,
         "subplot": "polar2",
         "theta": [
          "1°S",
          "1°M",
          "PM",
          "P",
          "OC",
          "T",
          "C",
          "PF",
          "PF",
          "1°S",
          "1°M",
          "PM",
          "P",
          "T",
          "1°M",
          "PM",
          "P",
          "PF",
          "OC",
          "T",
          "C",
          "1°S",
          "PU",
          "STN",
          "GP",
          "STN",
          "PU",
          "GP",
          "DN",
          "DN",
          "DN"
         ],
         "type": "scatterpolargl"
        },
        {
         "marker": {
          "color": "Plum",
          "line": {
           "color": "RebeccaPurple"
          }
         },
         "name": "Tau density, stage 4",
         "r": [
          0.0000015563139597924122,
          0.000006704058581525127,
          0.000007581624364702819,
          0.000008701304357138166,
          0.000010300364475061407,
          0.00001210168024890272,
          0.000021181128757670398,
          0.00003773134997286395,
          0.000045181445271944465,
          0.00009876886089215878,
          0.00010661318108341091,
          0.0006876427724745714
         ],
         "showlegend": false,
         "subplot": "polar3",
         "theta": [
          "OC",
          "1°S",
          "T",
          "PF",
          "C",
          "P",
          "PU",
          "PM",
          "1°M",
          "DN",
          "GP",
          "STN"
         ],
         "type": "barpolar"
        },
        {
         "marker": {
          "color": "RebeccaPurple",
          "size": 4
         },
         "mode": "markers",
         "name": "Stage 4",
         "r": [
          0.0000017214921272982078,
          0.000005983695876136359,
          0.000030622845911710896,
          7.598284847084465e-7,
          9.25152422662522e-7,
          0.000006104057783006279,
          0.000008085766210305108,
          0.000002277252280367841,
          0.000005182447764451524,
          0.00004566696763762895,
          0.000008573589243044742,
          0.000004952542012941307,
          0.00001778982040473151,
          0.00000782407849705224,
          0.000012107118581085172,
          0.00008717076086902185,
          0.000023065772282482115,
          0.000004420629699761948,
          0.000001699586102730939,
          0.000001934828101726222,
          0.000002399600843074947,
          0.0000024413141531329764,
          0.000009385476386311322,
          0.000011805994482319126,
          0.00007943114843033548,
          0.000039565474863682025,
          0.000011240746684630968,
          0.000003590347437083739,
          0.000016638763743789575,
          0.000004815370906394058,
          0.00006213671948695264,
          0.000022504454375653425,
          0.000004862803126695285,
          9.628947231572067e-7,
          0.000003832337088131045,
          6.725489524466141e-7,
          0.000002731731878893945,
          0.0000010005763767676688,
          0.000003343017478768039,
          0.000003014407571133503,
          0.000004273478321491574,
          0.0000025090747380164925,
          8.023903037587248e-7,
          0.000006185332503720374,
          0.000004235820211818769,
          0.000012062344024996203,
          0.000009794069535175086,
          0.00002656527222372009,
          0.000033230727252242055,
          0.0000127654899076605,
          0.00003103472634217494,
          0.00001690584455882259,
          0.00006117521830010085,
          0.0002977087091909,
          0.0001406750787282,
          0.0002172344669531,
          0.000014277172739564598,
          0.000028721711638583272,
          0.0003958201010221,
          0.000009909793582764584,
          0.0001644928132327,
          0.0001053689965302,
          0.000010599566558887034,
          0.0001479943682422,
          0.0001817176737499,
          0.000005088793613606397,
          0.00002968172467808771,
          0.0032278421440153,
          0.00003977041772276203,
          0.0001835759485304,
          0.0003878073158605,
          0.000007446938786007313,
          0.00005115062253370536,
          0.0001014645243404,
          0.0002052350299695,
          0.0001016540510997,
          0.0001748246554801,
          0.0000426064342625808,
          0.0001496235059114,
          0.000011613655565410456,
          0.000012504066637013649,
          0.0000893938247633242
         ],
         "showlegend": false,
         "subplot": "polar3",
         "theta": [
          "OC",
          "PF",
          "PF",
          "OC",
          "OC",
          "PF",
          "PF",
          "OC",
          "1°S",
          "1°M",
          "P",
          "T",
          "C",
          "1°S",
          "1°M",
          "PM",
          "P",
          "PF",
          "OC",
          "T",
          "C",
          "OC",
          "PF",
          "1°S",
          "1°M",
          "PM",
          "P",
          "T",
          "C",
          "1°S",
          "1°M",
          "PM",
          "P",
          "T",
          "C",
          "OC",
          "PF",
          "OC",
          "PF",
          "T",
          "PF",
          "OC",
          "1°S",
          "PM",
          "C",
          "PF",
          "1°S",
          "1°M",
          "PM",
          "P",
          "T",
          "C",
          "PU",
          "STN",
          "GP",
          "STN",
          "PU",
          "GP",
          "STN",
          "PU",
          "GP",
          "STN",
          "PU",
          "GP",
          "STN",
          "PU",
          "GP",
          "STN",
          "PU",
          "GP",
          "STN",
          "PU",
          "GP",
          "DN",
          "DN",
          "DN",
          "DN",
          "DN",
          "DN",
          "DN",
          "DN",
          "DN"
         ],
         "type": "scatterpolargl"
        },
        {
         "marker": {
          "color": "Plum",
          "line": {
           "color": "RebeccaPurple"
          }
         },
         "name": "Tau density, stage 5",
         "r": [
          0.000005806354060374358,
          0.00001743780483979176,
          0.00002011890897984831,
          0.00003993995317663415,
          0.00005404193820292497,
          0.00006335388060129096,
          0.00007831362766056098,
          0.00008237491054734552,
          0.0001330046088646868,
          0.00017167167252655227,
          0.0004333866442321317,
          0.0012882284458221554
         ],
         "showlegend": false,
         "subplot": "polar4",
         "theta": [
          "OC",
          "T",
          "PF",
          "C",
          "P",
          "1°S",
          "PU",
          "PM",
          "1°M",
          "DN",
          "GP",
          "STN"
         ],
         "type": "barpolar"
        },
        {
         "marker": {
          "color": "RebeccaPurple",
          "size": 4
         },
         "mode": "markers",
         "name": "Stage 5",
         "r": [
          0.000029484548675735872,
          0.0000028203517678714552,
          0.00003766611898519507,
          0.000006765877790436025,
          0.00002642169674473605,
          0.0001097417528573,
          0.00004532778000179504,
          0.00003162709719660079,
          0.000025705561481704567,
          0.000009060035172152649,
          0.0000028033512725133794,
          0.000029838895826093208,
          0.0000056552730423425445,
          0.00007334841642240427,
          0.0002526268996535,
          0.00008196681304815878,
          0.000015919993849599505,
          0.0001387408968091,
          0.00001422793727702504,
          0.000006339128665632231,
          0.000003943594439123356,
          0.0001045441093756,
          0.000004116191354297949,
          0.000031581224416424674,
          0.00001482333800042706,
          0.0001049569017345,
          0.00002648639930841261,
          0.000056577444041713234,
          0.000128718827611,
          0.0001241833133078,
          0.000020433728589966597,
          0.000034834617017014724,
          0.000035231168499854744,
          0.000003909755959018344,
          0.000015001353963010531,
          0.000007205773260828019,
          0.00009781606656533528,
          0.000006878584674866627,
          0.00001668826716527335,
          0.0000016267294143510532,
          0.000009583153277715444,
          0.0000031988636628608265,
          0.000003776100721540182,
          0.000012046042772644113,
          0.000173932216304,
          0.000052991024867109045,
          0.0001966639680293,
          0.00005126958347516316,
          0.0000021571829998660142,
          0.000021553939404587537,
          0.000015359994603391935,
          0.000003398044290834572,
          0.00008734687911180721,
          0.0001821927320248,
          0.00007672778421158212,
          0.0001446059132937,
          0.00001231727345766514,
          0.0000834090651392698,
          0.000007645276138425096,
          0.00003247643947081807,
          0.00006871200903198095,
          0.0003179827998792,
          0.0000630291225042856,
          0.00002882591433366866,
          0.00001812488359469677,
          0.000016606672669739646,
          0.00002025354866562493,
          0.000006146936618115804,
          0.000025362880992981335,
          0.0001750224588285,
          0.000054110035423522,
          0.00005705457936206604,
          0.0000033882621637657867,
          0.000012915824334203227,
          0.00006468982929082614,
          0.000021705910438671352,
          0.00005453978832287218,
          0.000013213058679459084,
          0.000011405751328005478,
          0.000004973689388825929,
          0.000006684252011994692,
          0.000013230128984635329,
          0.0001379717230534,
          0.000004556310678975816,
          0.00005711786266824282,
          0.0040463335667814,
          0.0026050625225873,
          0.000399668108173,
          0.0003134743298667,
          0.0000024122593931053,
          0.00007235431204007574,
          0.0023178171990961,
          0.00005786973185376903,
          0.0003715769412309,
          0.0013870603196964,
          0.000068061889620514,
          0.0002432980734662,
          0.0005252011643169,
          0.00008897585984375727,
          0.000030252684904823703,
          0.0023033791705241,
          0.0000756758095541984,
          0.0002229446249646,
          0.0003263442277287,
          0.000027047863490275177,
          0.00006307571852440942,
          0.0002364743113357,
          0.00003927799127638744,
          0.0001760738827637,
          0.0003310495960308,
          0.0003475691674221,
          0.000118535492427,
          0.0001057724176902,
          0.00000731002781940737,
          0.0001811020535685,
          0.0001655630869637,
          0.0002722468266393,
          0.00006575627232776754,
          0.0001930539688133,
          0.00010042948809
         ],
         "showlegend": false,
         "subplot": "polar4",
         "theta": [
          "PF",
          "OC",
          "PF",
          "OC",
          "1°S",
          "1°M",
          "PM",
          "P",
          "PF",
          "OC",
          "T",
          "C",
          "OC",
          "1°S",
          "PM",
          "P",
          "T",
          "C",
          "PF",
          "OC",
          "1°S",
          "P",
          "T",
          "C",
          "1°M",
          "T",
          "PF",
          "1°S",
          "1°M",
          "PM",
          "P",
          "C",
          "PM",
          "T",
          "PF",
          "1°M",
          "PM",
          "P",
          "C",
          "OC",
          "PF",
          "OC",
          "PF",
          "OC",
          "1°S",
          "PM",
          "1°M",
          "P",
          "T",
          "C",
          "PF",
          "OC",
          "1°S",
          "1°M",
          "PM",
          "P",
          "T",
          "C",
          "OC",
          "PF",
          "1°S",
          "1°M",
          "PM",
          "P",
          "T",
          "C",
          "PF",
          "OC",
          "1°S",
          "1°M",
          "PM",
          "P",
          "T",
          "C",
          "1°M",
          "PM",
          "1°S",
          "P",
          "PF",
          "OC",
          "T",
          "C",
          "STN",
          "PU",
          "GP",
          "STN",
          "GP",
          "PU",
          "STN",
          "PU",
          "GP",
          "STN",
          "PU",
          "GP",
          "STN",
          "PU",
          "GP",
          "STN",
          "GP",
          "PU",
          "STN",
          "PU",
          "GP",
          "STN",
          "PU",
          "GP",
          "STN",
          "PU",
          "GP",
          "DN",
          "DN",
          "DN",
          "DN",
          "DN",
          "DN",
          "DN",
          "DN",
          "DN",
          "DN",
          "DN"
         ],
         "type": "scatterpolargl"
        },
        {
         "marker": {
          "color": "Plum",
          "line": {
           "color": "RebeccaPurple"
          }
         },
         "name": "Tau density, stage 6",
         "r": [
          0.00001018405148809643,
          0.000013879069607147307,
          0.000014604686281877284,
          0.000014887785884312564,
          0.000020201602326398155,
          0.00002880569645781426,
          0.00004770035843576131,
          0.00008481408527994378,
          0.00018648103288695,
          0.0001878642762666,
          0.0002353532024524,
          0.0006196270646908
         ],
         "showlegend": false,
         "subplot": "polar5",
         "theta": [
          "T",
          "C",
          "OC",
          "PF",
          "P",
          "PU",
          "PM",
          "1°S",
          "DN",
          "GP",
          "1°M",
          "STN"
         ],
         "type": "barpolar"
        },
        {
         "marker": {
          "color": "RebeccaPurple",
          "size": 4
         },
         "mode": "markers",
         "name": "Stage 6",
         "r": [
          0.000014887785884312564,
          0.000014604686281877284,
          0.0001568647400716,
          0.00001568850002608254,
          0.00001927900220993664,
          0.00001276343048828758,
          0.0002353532024524,
          0.00004770035843576131,
          0.000020201602326398155,
          0.000004679602950110319,
          0.000008479137004357975,
          0.0006196270646908,
          0.00002880569645781426,
          0.0001878642762666,
          0.000189550418278,
          0.0001834116474959
         ],
         "showlegend": false,
         "subplot": "polar5",
         "theta": [
          "PF",
          "OC",
          "1°S",
          "T",
          "C",
          "1°S",
          "1°M",
          "PM",
          "P",
          "T",
          "C",
          "STN",
          "PU",
          "GP",
          "DN",
          "DN"
         ],
         "type": "scatterpolargl"
        }
       ],
       "layout": {
        "annotations": [
         {
          "font": {
           "color": "black",
           "size": 16
          },
          "showarrow": false,
          "text": "Stage 2",
          "x": 0.025,
          "xanchor": "center",
          "xref": "paper",
          "y": 1,
          "yanchor": "bottom",
          "yref": "paper"
         },
         {
          "font": {
           "color": "black",
           "size": 16
          },
          "showarrow": false,
          "text": "Stage 3",
          "x": 0.575,
          "xanchor": "center",
          "xref": "paper",
          "y": 1,
          "yanchor": "bottom",
          "yref": "paper"
         },
         {
          "font": {
           "color": "black",
           "size": 16
          },
          "showarrow": false,
          "text": "Stage 4",
          "x": 0.025,
          "xanchor": "center",
          "xref": "paper",
          "y": 0.6111111111111112,
          "yanchor": "bottom",
          "yref": "paper"
         },
         {
          "font": {
           "color": "black",
           "size": 16
          },
          "showarrow": false,
          "text": "Stage 5",
          "x": 0.575,
          "xanchor": "center",
          "xref": "paper",
          "y": 0.6111111111111112,
          "yanchor": "bottom",
          "yref": "paper"
         },
         {
          "font": {
           "color": "black",
           "size": 16
          },
          "showarrow": false,
          "text": "Stage 6",
          "x": 0.025,
          "xanchor": "center",
          "xref": "paper",
          "y": 0.22222222222222224,
          "yanchor": "bottom",
          "yref": "paper"
         }
        ],
        "height": 1200,
        "polar": {
         "angularaxis": {
          "categoryarray": [
           "STN",
           "GP",
           "PU",
           "DN",
           "PF",
           "PM",
           "1°M",
           "1°S",
           "T",
           "P",
           "OC",
           "C"
          ],
          "color": "black",
          "tickfont": {
           "size": 15
          }
         },
         "domain": {
          "x": [
           0,
           0.45
          ],
          "y": [
           0.7777777777777778,
           1
          ]
         },
         "radialaxis": {
          "dtick": 1,
          "range": [
           -6.691066099842773,
           -2.7905849745884472
          ],
          "showticklabels": true,
          "tickangle": 90,
          "ticks": "outside",
          "type": "log"
         }
        },
        "polar2": {
         "angularaxis": {
          "categoryarray": [
           "STN",
           "GP",
           "PU",
           "DN",
           "PF",
           "PM",
           "1°M",
           "1°S",
           "T",
           "P",
           "OC",
           "C"
          ],
          "color": "black",
          "tickfont": {
           "size": 15
          }
         },
         "domain": {
          "x": [
           0.55,
           1
          ],
          "y": [
           0.7777777777777778,
           1
          ]
         },
         "radialaxis": {
          "dtick": 1,
          "range": [
           -6.691066099842773,
           -2.7905849745884472
          ],
          "showticklabels": true,
          "tickangle": 90,
          "ticks": "outside",
          "type": "log"
         }
        },
        "polar3": {
         "angularaxis": {
          "categoryarray": [
           "STN",
           "GP",
           "PU",
           "DN",
           "PF",
           "PM",
           "1°M",
           "1°S",
           "T",
           "P",
           "OC",
           "C"
          ],
          "color": "black",
          "tickfont": {
           "size": 15
          }
         },
         "domain": {
          "x": [
           0,
           0.45
          ],
          "y": [
           0.3888888888888889,
           0.6111111111111112
          ]
         },
         "radialaxis": {
          "dtick": 1,
          "range": [
           -6.691066099842773,
           -2.7905849745884472
          ],
          "showticklabels": true,
          "tickangle": 90,
          "ticks": "outside",
          "type": "log"
         }
        },
        "polar4": {
         "angularaxis": {
          "categoryarray": [
           "STN",
           "GP",
           "PU",
           "DN",
           "PF",
           "PM",
           "1°M",
           "1°S",
           "T",
           "P",
           "OC",
           "C"
          ],
          "color": "black",
          "tickfont": {
           "size": 15
          }
         },
         "domain": {
          "x": [
           0.55,
           1
          ],
          "y": [
           0.3888888888888889,
           0.6111111111111112
          ]
         },
         "radialaxis": {
          "dtick": 1,
          "range": [
           -6.691066099842773,
           -2.7905849745884472
          ],
          "showticklabels": true,
          "tickangle": 90,
          "ticks": "outside",
          "type": "log"
         }
        },
        "polar5": {
         "angularaxis": {
          "categoryarray": [
           "STN",
           "GP",
           "PU",
           "DN",
           "PF",
           "PM",
           "1°M",
           "1°S",
           "T",
           "P",
           "OC",
           "C"
          ],
          "color": "black",
          "tickfont": {
           "size": 15
          }
         },
         "domain": {
          "x": [
           0,
           0.45
          ],
          "y": [
           0,
           0.22222222222222224
          ]
         },
         "radialaxis": {
          "dtick": 1,
          "range": [
           -6.691066099842773,
           -2.7905849745884472
          ],
          "showticklabels": true,
          "tickangle": 90,
          "ticks": "outside",
          "type": "log"
         }
        },
        "polar6": {
         "domain": {
          "x": [
           0.55,
           1
          ],
          "y": [
           0,
           0.22222222222222224
          ]
         }
        },
        "template": {
         "data": {
          "bar": [
           {
            "error_x": {
             "color": "#2a3f5f"
            },
            "error_y": {
             "color": "#2a3f5f"
            },
            "marker": {
             "line": {
              "color": "#E5ECF6",
              "width": 0.5
             },
             "pattern": {
              "fillmode": "overlay",
              "size": 10,
              "solidity": 0.2
             }
            },
            "type": "bar"
           }
          ],
          "barpolar": [
           {
            "marker": {
             "line": {
              "color": "#E5ECF6",
              "width": 0.5
             },
             "pattern": {
              "fillmode": "overlay",
              "size": 10,
              "solidity": 0.2
             }
            },
            "type": "barpolar"
           }
          ],
          "carpet": [
           {
            "aaxis": {
             "endlinecolor": "#2a3f5f",
             "gridcolor": "white",
             "linecolor": "white",
             "minorgridcolor": "white",
             "startlinecolor": "#2a3f5f"
            },
            "baxis": {
             "endlinecolor": "#2a3f5f",
             "gridcolor": "white",
             "linecolor": "white",
             "minorgridcolor": "white",
             "startlinecolor": "#2a3f5f"
            },
            "type": "carpet"
           }
          ],
          "choropleth": [
           {
            "colorbar": {
             "outlinewidth": 0,
             "ticks": ""
            },
            "type": "choropleth"
           }
          ],
          "contour": [
           {
            "colorbar": {
             "outlinewidth": 0,
             "ticks": ""
            },
            "colorscale": [
             [
              0,
              "#0d0887"
             ],
             [
              0.1111111111111111,
              "#46039f"
             ],
             [
              0.2222222222222222,
              "#7201a8"
             ],
             [
              0.3333333333333333,
              "#9c179e"
             ],
             [
              0.4444444444444444,
              "#bd3786"
             ],
             [
              0.5555555555555556,
              "#d8576b"
             ],
             [
              0.6666666666666666,
              "#ed7953"
             ],
             [
              0.7777777777777778,
              "#fb9f3a"
             ],
             [
              0.8888888888888888,
              "#fdca26"
             ],
             [
              1,
              "#f0f921"
             ]
            ],
            "type": "contour"
           }
          ],
          "contourcarpet": [
           {
            "colorbar": {
             "outlinewidth": 0,
             "ticks": ""
            },
            "type": "contourcarpet"
           }
          ],
          "heatmap": [
           {
            "colorbar": {
             "outlinewidth": 0,
             "ticks": ""
            },
            "colorscale": [
             [
              0,
              "#0d0887"
             ],
             [
              0.1111111111111111,
              "#46039f"
             ],
             [
              0.2222222222222222,
              "#7201a8"
             ],
             [
              0.3333333333333333,
              "#9c179e"
             ],
             [
              0.4444444444444444,
              "#bd3786"
             ],
             [
              0.5555555555555556,
              "#d8576b"
             ],
             [
              0.6666666666666666,
              "#ed7953"
             ],
             [
              0.7777777777777778,
              "#fb9f3a"
             ],
             [
              0.8888888888888888,
              "#fdca26"
             ],
             [
              1,
              "#f0f921"
             ]
            ],
            "type": "heatmap"
           }
          ],
          "heatmapgl": [
           {
            "colorbar": {
             "outlinewidth": 0,
             "ticks": ""
            },
            "colorscale": [
             [
              0,
              "#0d0887"
             ],
             [
              0.1111111111111111,
              "#46039f"
             ],
             [
              0.2222222222222222,
              "#7201a8"
             ],
             [
              0.3333333333333333,
              "#9c179e"
             ],
             [
              0.4444444444444444,
              "#bd3786"
             ],
             [
              0.5555555555555556,
              "#d8576b"
             ],
             [
              0.6666666666666666,
              "#ed7953"
             ],
             [
              0.7777777777777778,
              "#fb9f3a"
             ],
             [
              0.8888888888888888,
              "#fdca26"
             ],
             [
              1,
              "#f0f921"
             ]
            ],
            "type": "heatmapgl"
           }
          ],
          "histogram": [
           {
            "marker": {
             "pattern": {
              "fillmode": "overlay",
              "size": 10,
              "solidity": 0.2
             }
            },
            "type": "histogram"
           }
          ],
          "histogram2d": [
           {
            "colorbar": {
             "outlinewidth": 0,
             "ticks": ""
            },
            "colorscale": [
             [
              0,
              "#0d0887"
             ],
             [
              0.1111111111111111,
              "#46039f"
             ],
             [
              0.2222222222222222,
              "#7201a8"
             ],
             [
              0.3333333333333333,
              "#9c179e"
             ],
             [
              0.4444444444444444,
              "#bd3786"
             ],
             [
              0.5555555555555556,
              "#d8576b"
             ],
             [
              0.6666666666666666,
              "#ed7953"
             ],
             [
              0.7777777777777778,
              "#fb9f3a"
             ],
             [
              0.8888888888888888,
              "#fdca26"
             ],
             [
              1,
              "#f0f921"
             ]
            ],
            "type": "histogram2d"
           }
          ],
          "histogram2dcontour": [
           {
            "colorbar": {
             "outlinewidth": 0,
             "ticks": ""
            },
            "colorscale": [
             [
              0,
              "#0d0887"
             ],
             [
              0.1111111111111111,
              "#46039f"
             ],
             [
              0.2222222222222222,
              "#7201a8"
             ],
             [
              0.3333333333333333,
              "#9c179e"
             ],
             [
              0.4444444444444444,
              "#bd3786"
             ],
             [
              0.5555555555555556,
              "#d8576b"
             ],
             [
              0.6666666666666666,
              "#ed7953"
             ],
             [
              0.7777777777777778,
              "#fb9f3a"
             ],
             [
              0.8888888888888888,
              "#fdca26"
             ],
             [
              1,
              "#f0f921"
             ]
            ],
            "type": "histogram2dcontour"
           }
          ],
          "mesh3d": [
           {
            "colorbar": {
             "outlinewidth": 0,
             "ticks": ""
            },
            "type": "mesh3d"
           }
          ],
          "parcoords": [
           {
            "line": {
             "colorbar": {
              "outlinewidth": 0,
              "ticks": ""
             }
            },
            "type": "parcoords"
           }
          ],
          "pie": [
           {
            "automargin": true,
            "type": "pie"
           }
          ],
          "scatter": [
           {
            "fillpattern": {
             "fillmode": "overlay",
             "size": 10,
             "solidity": 0.2
            },
            "type": "scatter"
           }
          ],
          "scatter3d": [
           {
            "line": {
             "colorbar": {
              "outlinewidth": 0,
              "ticks": ""
             }
            },
            "marker": {
             "colorbar": {
              "outlinewidth": 0,
              "ticks": ""
             }
            },
            "type": "scatter3d"
           }
          ],
          "scattercarpet": [
           {
            "marker": {
             "colorbar": {
              "outlinewidth": 0,
              "ticks": ""
             }
            },
            "type": "scattercarpet"
           }
          ],
          "scattergeo": [
           {
            "marker": {
             "colorbar": {
              "outlinewidth": 0,
              "ticks": ""
             }
            },
            "type": "scattergeo"
           }
          ],
          "scattergl": [
           {
            "marker": {
             "colorbar": {
              "outlinewidth": 0,
              "ticks": ""
             }
            },
            "type": "scattergl"
           }
          ],
          "scattermapbox": [
           {
            "marker": {
             "colorbar": {
              "outlinewidth": 0,
              "ticks": ""
             }
            },
            "type": "scattermapbox"
           }
          ],
          "scatterpolar": [
           {
            "marker": {
             "colorbar": {
              "outlinewidth": 0,
              "ticks": ""
             }
            },
            "type": "scatterpolar"
           }
          ],
          "scatterpolargl": [
           {
            "marker": {
             "colorbar": {
              "outlinewidth": 0,
              "ticks": ""
             }
            },
            "type": "scatterpolargl"
           }
          ],
          "scatterternary": [
           {
            "marker": {
             "colorbar": {
              "outlinewidth": 0,
              "ticks": ""
             }
            },
            "type": "scatterternary"
           }
          ],
          "surface": [
           {
            "colorbar": {
             "outlinewidth": 0,
             "ticks": ""
            },
            "colorscale": [
             [
              0,
              "#0d0887"
             ],
             [
              0.1111111111111111,
              "#46039f"
             ],
             [
              0.2222222222222222,
              "#7201a8"
             ],
             [
              0.3333333333333333,
              "#9c179e"
             ],
             [
              0.4444444444444444,
              "#bd3786"
             ],
             [
              0.5555555555555556,
              "#d8576b"
             ],
             [
              0.6666666666666666,
              "#ed7953"
             ],
             [
              0.7777777777777778,
              "#fb9f3a"
             ],
             [
              0.8888888888888888,
              "#fdca26"
             ],
             [
              1,
              "#f0f921"
             ]
            ],
            "type": "surface"
           }
          ],
          "table": [
           {
            "cells": {
             "fill": {
              "color": "#EBF0F8"
             },
             "line": {
              "color": "white"
             }
            },
            "header": {
             "fill": {
              "color": "#C8D4E3"
             },
             "line": {
              "color": "white"
             }
            },
            "type": "table"
           }
          ]
         },
         "layout": {
          "annotationdefaults": {
           "arrowcolor": "#2a3f5f",
           "arrowhead": 0,
           "arrowwidth": 1
          },
          "autotypenumbers": "strict",
          "coloraxis": {
           "colorbar": {
            "outlinewidth": 0,
            "ticks": ""
           }
          },
          "colorscale": {
           "diverging": [
            [
             0,
             "#8e0152"
            ],
            [
             0.1,
             "#c51b7d"
            ],
            [
             0.2,
             "#de77ae"
            ],
            [
             0.3,
             "#f1b6da"
            ],
            [
             0.4,
             "#fde0ef"
            ],
            [
             0.5,
             "#f7f7f7"
            ],
            [
             0.6,
             "#e6f5d0"
            ],
            [
             0.7,
             "#b8e186"
            ],
            [
             0.8,
             "#7fbc41"
            ],
            [
             0.9,
             "#4d9221"
            ],
            [
             1,
             "#276419"
            ]
           ],
           "sequential": [
            [
             0,
             "#0d0887"
            ],
            [
             0.1111111111111111,
             "#46039f"
            ],
            [
             0.2222222222222222,
             "#7201a8"
            ],
            [
             0.3333333333333333,
             "#9c179e"
            ],
            [
             0.4444444444444444,
             "#bd3786"
            ],
            [
             0.5555555555555556,
             "#d8576b"
            ],
            [
             0.6666666666666666,
             "#ed7953"
            ],
            [
             0.7777777777777778,
             "#fb9f3a"
            ],
            [
             0.8888888888888888,
             "#fdca26"
            ],
            [
             1,
             "#f0f921"
            ]
           ],
           "sequentialminus": [
            [
             0,
             "#0d0887"
            ],
            [
             0.1111111111111111,
             "#46039f"
            ],
            [
             0.2222222222222222,
             "#7201a8"
            ],
            [
             0.3333333333333333,
             "#9c179e"
            ],
            [
             0.4444444444444444,
             "#bd3786"
            ],
            [
             0.5555555555555556,
             "#d8576b"
            ],
            [
             0.6666666666666666,
             "#ed7953"
            ],
            [
             0.7777777777777778,
             "#fb9f3a"
            ],
            [
             0.8888888888888888,
             "#fdca26"
            ],
            [
             1,
             "#f0f921"
            ]
           ]
          },
          "colorway": [
           "#636efa",
           "#EF553B",
           "#00cc96",
           "#ab63fa",
           "#FFA15A",
           "#19d3f3",
           "#FF6692",
           "#B6E880",
           "#FF97FF",
           "#FECB52"
          ],
          "font": {
           "color": "#2a3f5f"
          },
          "geo": {
           "bgcolor": "white",
           "lakecolor": "white",
           "landcolor": "#E5ECF6",
           "showlakes": true,
           "showland": true,
           "subunitcolor": "white"
          },
          "hoverlabel": {
           "align": "left"
          },
          "hovermode": "closest",
          "mapbox": {
           "style": "light"
          },
          "paper_bgcolor": "white",
          "plot_bgcolor": "#E5ECF6",
          "polar": {
           "angularaxis": {
            "gridcolor": "white",
            "linecolor": "white",
            "ticks": ""
           },
           "bgcolor": "#E5ECF6",
           "radialaxis": {
            "gridcolor": "white",
            "linecolor": "white",
            "ticks": ""
           }
          },
          "scene": {
           "xaxis": {
            "backgroundcolor": "#E5ECF6",
            "gridcolor": "white",
            "gridwidth": 2,
            "linecolor": "white",
            "showbackground": true,
            "ticks": "",
            "zerolinecolor": "white"
           },
           "yaxis": {
            "backgroundcolor": "#E5ECF6",
            "gridcolor": "white",
            "gridwidth": 2,
            "linecolor": "white",
            "showbackground": true,
            "ticks": "",
            "zerolinecolor": "white"
           },
           "zaxis": {
            "backgroundcolor": "#E5ECF6",
            "gridcolor": "white",
            "gridwidth": 2,
            "linecolor": "white",
            "showbackground": true,
            "ticks": "",
            "zerolinecolor": "white"
           }
          },
          "shapedefaults": {
           "line": {
            "color": "#2a3f5f"
           }
          },
          "ternary": {
           "aaxis": {
            "gridcolor": "white",
            "linecolor": "white",
            "ticks": ""
           },
           "baxis": {
            "gridcolor": "white",
            "linecolor": "white",
            "ticks": ""
           },
           "bgcolor": "#E5ECF6",
           "caxis": {
            "gridcolor": "white",
            "linecolor": "white",
            "ticks": ""
           }
          },
          "title": {
           "x": 0.05
          },
          "xaxis": {
           "automargin": true,
           "gridcolor": "white",
           "linecolor": "white",
           "ticks": "",
           "title": {
            "standoff": 15
           },
           "zerolinecolor": "white",
           "zerolinewidth": 2
          },
          "yaxis": {
           "automargin": true,
           "gridcolor": "white",
           "linecolor": "white",
           "ticks": "",
           "title": {
            "standoff": 15
           },
           "zerolinecolor": "white",
           "zerolinewidth": 2
          }
         }
        },
        "title": {
         "text": "Others density across brain regions in PSP"
        },
        "width": 1000
       }
      }
     },
     "metadata": {},
     "output_type": "display_data"
    }
   ],
   "source": [
    "others_plot = polar_plot(dict_subset=psp_stage_dict,\n",
    "                         dict_mean=mean_Others_dict,\n",
    "                         tau_type='Others_density',\n",
    "                         val_add=0.001,\n",
    "                         anatomical_order=anatomical_order,\n",
    "                         marker_colors=[],\n",
    "                         marker_color='Plum',\n",
    "                         marker_line_color='RebeccaPurple',\n",
    "                        title='Others density across brain regions in PSP',\n",
    "                        tick_label=True,\n",
    "                        fig_height=1200,\n",
    "                        fig_width=1000,\n",
    "                        tickangle_val=90)\n",
    "others_plot.show()"
   ]
  },
  {
   "cell_type": "code",
   "execution_count": 33,
   "metadata": {},
   "outputs": [],
   "source": [
    "min_val = min(np.log10(psp_stage_dict[2]['TA_density']))"
   ]
  },
  {
   "cell_type": "code",
   "execution_count": 34,
   "metadata": {},
   "outputs": [
    {
     "data": {
      "text/plain": [
       "2.8810418168042382e-09"
      ]
     },
     "execution_count": 34,
     "metadata": {},
     "output_type": "execute_result"
    }
   ],
   "source": [
    "x = psp_stage_dict[2]['TA_density']\n",
    "x_array = np.array(x)\n",
    "np.min(x_array[np.nonzero(x_array)])"
   ]
  },
  {
   "cell_type": "code",
   "execution_count": 35,
   "metadata": {},
   "outputs": [
    {
     "name": "stdout",
     "output_type": "stream",
     "text": [
      "min value:  -8.540450438118222\n",
      "max value:  -2.581760531304333\n"
     ]
    },
    {
     "data": {
      "application/vnd.plotly.v1+json": {
       "config": {
        "plotlyServerURL": "https://plot.ly"
       },
       "data": [
        {
         "marker": {
          "color": "forestgreen",
          "line": {
           "color": "black"
          }
         },
         "name": "CB_density",
         "r": [
          0,
          5.968974602115845e-8,
          6.664305778341314e-8,
          1.123606308553653e-7,
          1.2617667825229782e-7,
          1.886529183654767e-7,
          2.992339000177956e-7,
          3.459828052913083e-7,
          4.69110367840352e-7,
          0.0000012066361755922698,
          0.000006753467633647695,
          0.000013320877491060368
         ],
         "showlegend": true,
         "subplot": "polar",
         "theta": [
          "OC",
          "C",
          "PF",
          "1°M",
          "1°S",
          "PM",
          "P",
          "T",
          "PU",
          "DN",
          "STN",
          "GP"
         ],
         "type": "barpolar"
        },
        {
         "marker": {
          "color": "black",
          "size": 4
         },
         "mode": "markers",
         "name": "Stage 2",
         "r": [
          8.796150124235462e-8,
          6.543447264759264e-7,
          2.992339000177956e-7,
          6.506901139639163e-8,
          1.1846685252386628e-7,
          4.532461432447167e-8,
          0,
          1.3388650398072938e-7,
          1.123606308553653e-7,
          1.886529183654767e-7,
          3.762088410669015e-8,
          5.431048064592527e-8,
          0.00000287468831191978,
          2.634700360747188e-7,
          0.0000031396591117158197,
          0.00001063224695537561,
          6.747506996059851e-7,
          0.000023502095870404917,
          0.0000020618985689302256,
          3.513737822543143e-7
         ],
         "showlegend": false,
         "subplot": "polar",
         "theta": [
          "PF",
          "T",
          "P",
          "C",
          "1°S",
          "PF",
          "OC",
          "1°S",
          "1°M",
          "PM",
          "T",
          "C",
          "STN",
          "PU",
          "GP",
          "STN",
          "PU",
          "GP",
          "DN",
          "DN"
         ],
         "type": "scatterpolargl"
        },
        {
         "marker": {
          "color": "lightcoral",
          "line": {
           "color": "black"
          }
         },
         "name": "NFT_density",
         "r": [
          0,
          9.652706452186952e-9,
          9.712417355243926e-9,
          9.929100966604037e-9,
          1.409331620849783e-8,
          1.4405209084021191e-8,
          2.623711997319071e-8,
          4.73195867893393e-8,
          7.590945370567332e-8,
          2.0602624017121706e-7,
          4.4526109380724707e-7,
          0.000001268066150641128
         ],
         "showlegend": true,
         "subplot": "polar2",
         "theta": [
          "OC",
          "P",
          "PF",
          "PM",
          "1°S",
          "1°M",
          "C",
          "T",
          "PU",
          "DN",
          "GP",
          "STN"
         ],
         "type": "barpolar"
        },
        {
         "marker": {
          "color": "black",
          "size": 4
         },
         "mode": "markers",
         "name": "Stage 2",
         "r": [
          0,
          8.38903495481957e-8,
          9.652706452186952e-9,
          1.6267252849097905e-8,
          0,
          1.942483471048785e-8,
          0,
          2.818663241699566e-8,
          1.4405209084021191e-8,
          9.929100966604037e-9,
          1.07488240304829e-8,
          3.6206987097283514e-8,
          0,
          0,
          2.0387396829323506e-7,
          0.000002536132301282256,
          1.5181890741134665e-7,
          6.866482193212591e-7,
          1.9244386643348774e-7,
          2.196086139089464e-7
         ],
         "showlegend": false,
         "subplot": "polar2",
         "theta": [
          "PF",
          "T",
          "P",
          "C",
          "1°S",
          "PF",
          "OC",
          "1°S",
          "1°M",
          "PM",
          "T",
          "C",
          "STN",
          "PU",
          "GP",
          "STN",
          "PU",
          "GP",
          "DN",
          "DN"
         ],
         "type": "scatterpolargl"
        },
        {
         "marker": {
          "color": "gold",
          "line": {
           "color": "black"
          }
         },
         "name": "TA_density",
         "r": [
          0,
          2.8810418168042382e-9,
          4.964550483302017e-9,
          6.640877802752517e-9,
          7.635547513865705e-9,
          8.133626424548952e-9,
          4.826353226093477e-8,
          5.559948276683974e-8,
          1.0100183809374179e-7
         ],
         "showlegend": true,
         "subplot": "polar3",
         "theta": [
          "OC",
          "1°M",
          "PM",
          "1°S",
          "PF",
          "C",
          "P",
          "T",
          "PU"
         ],
         "type": "barpolar"
        },
        {
         "marker": {
          "color": "black",
          "size": 4
         },
         "mode": "markers",
         "name": "Stage 2",
         "r": [
          8.79615012423546e-9,
          9.507572948795513e-8,
          4.826353226093477e-8,
          1.6267252849097905e-8,
          6.235097501256119e-9,
          6.474944903495951e-9,
          0,
          7.046658104248915e-9,
          2.8810418168042382e-9,
          4.964550483302017e-9,
          1.6123236045724348e-8,
          0,
          0,
          5.018476877613691e-8,
          0,
          0,
          1.5181890741134665e-7,
          0,
          0,
          0
         ],
         "showlegend": false,
         "subplot": "polar3",
         "theta": [
          "PF",
          "T",
          "P",
          "C",
          "1°S",
          "PF",
          "OC",
          "1°S",
          "1°M",
          "PM",
          "T",
          "C",
          "STN",
          "PU",
          "GP",
          "STN",
          "PU",
          "GP",
          "DN",
          "DN"
         ],
         "type": "scatterpolargl"
        },
        {
         "marker": {
          "color": "lightsalmon",
          "line": {
           "color": "black"
          }
         },
         "name": "Others_density",
         "r": [
          2.036732062450102e-7,
          5.790894051776518e-7,
          0.0000015489397507902295,
          0.0000018982418029790084,
          0.000002418158649121592,
          0.0000026987689294720376,
          0.000002808937577586403,
          0.000005050436589733246,
          0.00001115158837068368,
          0.000019635897731107874,
          0.00020437206156355458,
          0.0002575754381501
         ],
         "showlegend": true,
         "subplot": "polar4",
         "theta": [
          "OC",
          "1°M",
          "PM",
          "1°S",
          "C",
          "PF",
          "P",
          "T",
          "PU",
          "DN",
          "GP",
          "STN"
         ],
         "type": "barpolar"
        },
        {
         "marker": {
          "color": "black",
          "size": 4
         },
         "mode": "markers",
         "name": "Stage 2",
         "r": [
          0.000003940675255657486,
          0.000009630612128132866,
          0.000002808937577586403,
          0.0000028630365014412314,
          0.000002070052370417032,
          0.000001456862603286589,
          2.036732062450102e-7,
          0.0000017264312355409845,
          5.790894051776518e-7,
          0.0000015489397507902295,
          4.702610513336268e-7,
          0.0000019732807968019518,
          0.0001290735052051,
          0.00000821775588709242,
          0.00009435287252610916,
          0.0003860773710951,
          0.00001408542085427494,
          0.000314391250601,
          0.000028481692232156183,
          0.000010790103230059566
         ],
         "showlegend": false,
         "subplot": "polar4",
         "theta": [
          "PF",
          "T",
          "P",
          "C",
          "1°S",
          "PF",
          "OC",
          "1°S",
          "1°M",
          "PM",
          "T",
          "C",
          "STN",
          "PU",
          "GP",
          "STN",
          "PU",
          "GP",
          "DN",
          "DN"
         ],
         "type": "scatterpolargl"
        },
        {
         "marker": {
          "color": "forestgreen",
          "line": {
           "color": "black"
          }
         },
         "name": "CB_density,s3",
         "r": [
          2.7759685523804386e-7,
          0.000001097338646923163,
          0.0000015851256959521546,
          0.0000018085865584319198,
          0.0000021772759458941705,
          0.0000023500748492835704,
          0.000004108390501783546,
          0.000004300312431555269,
          0.000004462174675773147,
          0.000007241391450444506,
          0.00002168983945674462,
          0.000056869316588009715
         ],
         "showlegend": false,
         "subplot": "polar5",
         "theta": [
          "OC",
          "1°S",
          "PF",
          "C",
          "DN",
          "P",
          "T",
          "PU",
          "PM",
          "1°M",
          "GP",
          "STN"
         ],
         "type": "barpolar"
        },
        {
         "marker": {
          "color": "black",
          "size": 4
         },
         "mode": "markers",
         "name": "Stage 3",
         "r": [
          0.0000012768980820141074,
          5.117100476785061e-7,
          0.000002311139386336567,
          9.550363570360275e-7,
          5.275894395477064e-7,
          0.000011920402089976054,
          0.0000033206041172442056,
          0.0000025146712939089936,
          0.000002140359959722996,
          0.0000019406873597536386,
          0.000021021293914597468,
          0.000010953824864818072,
          0.000006013657513155758,
          3.471193289821626e-7,
          1.9117038905754495e-7,
          1.2155977616480277e-7,
          8.153067765892561e-8,
          1.0034583422447405e-7,
          2.760427092838136e-8,
          5.76500863924223e-8,
          2.965689996196339e-7,
          7.44304990017436e-8,
          7.409133032908498e-7,
          0.00001397543351711583,
          0.000004209368577762095,
          0.0000997631996589036,
          0.000007859711559819688,
          0.00003917031033572715,
          0.0000017558056767020777,
          0.0000041607419435033655,
          6.152802174770687e-7
         ],
         "showlegend": false,
         "subplot": "polar5",
         "theta": [
          "1°S",
          "1°M",
          "PM",
          "P",
          "OC",
          "T",
          "C",
          "PF",
          "PF",
          "1°S",
          "1°M",
          "PM",
          "P",
          "T",
          "1°M",
          "PM",
          "P",
          "PF",
          "OC",
          "T",
          "C",
          "1°S",
          "PU",
          "STN",
          "GP",
          "STN",
          "PU",
          "GP",
          "DN",
          "DN",
          "DN"
         ],
         "type": "scatterpolargl"
        },
        {
         "marker": {
          "color": "lightcoral",
          "line": {
           "color": "black"
          }
         },
         "name": "NFT_density,s3",
         "r": [
          1.1861116952787347e-8,
          5.503226816651238e-8,
          7.071719912434166e-8,
          1.1066405184568557e-7,
          1.34747561340668e-7,
          3.0675186207040993e-7,
          4.155965239717176e-7,
          4.4624786144170496e-7,
          4.825597717429722e-7,
          7.561209183348029e-7,
          0.0000010756864086305345,
          0.000003846881003426836
         ],
         "showlegend": false,
         "subplot": "polar6",
         "theta": [
          "OC",
          "1°S",
          "PU",
          "P",
          "PF",
          "1°M",
          "PM",
          "T",
          "C",
          "GP",
          "DN",
          "STN"
         ],
         "type": "barpolar"
        },
        {
         "marker": {
          "color": "black",
          "size": 4
         },
         "mode": "markers",
         "name": "Stage 3",
         "r": [
          9.645632993631746e-8,
          4.6519095243500567e-8,
          2.411112336890566e-7,
          2.2875122324216237e-8,
          1.4520810262780911e-8,
          0.000001261594386307211,
          8.761488436000542e-7,
          2.268389053783886e-7,
          1.582902864103823e-7,
          6.291505156308555e-8,
          8.307231534297816e-7,
          9.86976834200742e-7,
          3.0523461999098685e-7,
          6.479560807667035e-8,
          4.3013337537947615e-8,
          1.8701504025354272e-8,
          3.882413221853601e-9,
          1.9113492233233148e-8,
          9.201423642793784e-9,
          1.2353589941233351e-8,
          8.897069988589019e-8,
          5.725423000134122e-9,
          0,
          9.982452512225591e-7,
          5.688335915894722e-7,
          0.000006695516755631114,
          1.4143439824868332e-7,
          9.434082450801336e-7,
          0.0000015813878942482289,
          0.000001184211168535573,
          4.614601631078016e-7
         ],
         "showlegend": false,
         "subplot": "polar6",
         "theta": [
          "1°S",
          "1°M",
          "PM",
          "P",
          "OC",
          "T",
          "C",
          "PF",
          "PF",
          "1°S",
          "1°M",
          "PM",
          "P",
          "T",
          "1°M",
          "PM",
          "P",
          "PF",
          "OC",
          "T",
          "C",
          "1°S",
          "PU",
          "STN",
          "GP",
          "STN",
          "PU",
          "GP",
          "DN",
          "DN",
          "DN"
         ],
         "type": "scatterpolargl"
        },
        {
         "marker": {
          "color": "gold",
          "line": {
           "color": "black"
          }
         },
         "name": "TA_density,s3",
         "r": [
          2.4201350437968183e-9,
          1.1800827324230212e-8,
          3.1333584802011956e-8,
          7.583846947825344e-8,
          9.897278983277431e-8,
          1.4370342125724872e-7,
          1.6512101683850064e-7,
          2.6737969150989435e-7,
          2.9296882549802343e-7
         ],
         "showlegend": false,
         "subplot": "polar7",
         "theta": [
          "OC",
          "1°S",
          "P",
          "PF",
          "T",
          "1°M",
          "C",
          "PU",
          "PM"
         ],
         "type": "barpolar"
        },
        {
         "marker": {
          "color": "black",
          "size": 4
         },
         "mode": "markers",
         "name": "Stage 3",
         "r": [
          4.593158568396069e-9,
          2.584394180194476e-8,
          2.352304718917625e-8,
          1.7156341743162175e-8,
          4.8402700875936365e-9,
          2.737770808995121e-7,
          3.154135836960196e-7,
          1.2314112006255382e-7,
          7.570405002235677e-8,
          1.9358477404026322e-8,
          3.909285427904855e-7,
          8.413573012858784e-7,
          5.354993333175208e-8,
          2.3141288598810843e-8,
          1.433777917931587e-8,
          1.4026128019015705e-8,
          2.3294479331121604e-8,
          2.867023834984972e-8,
          0,
          0,
          1.4828449980981697e-8,
          1.1450846000268245e-8,
          2.963653213163399e-8,
          0,
          0,
          0,
          5.051228508881547e-7,
          0,
          0,
          0,
          0
         ],
         "showlegend": false,
         "subplot": "polar7",
         "theta": [
          "1°S",
          "1°M",
          "PM",
          "P",
          "OC",
          "T",
          "C",
          "PF",
          "PF",
          "1°S",
          "1°M",
          "PM",
          "P",
          "T",
          "1°M",
          "PM",
          "P",
          "PF",
          "OC",
          "T",
          "C",
          "1°S",
          "PU",
          "STN",
          "GP",
          "STN",
          "PU",
          "GP",
          "DN",
          "DN",
          "DN"
         ],
         "type": "scatterpolargl"
        },
        {
         "marker": {
          "color": "lightsalmon",
          "line": {
           "color": "black"
          }
         },
         "name": "Others_density,s3",
         "r": [
          0.0000013699497146320724,
          0.000003194571345530845,
          0.000003595646680438388,
          0.000006261926035655813,
          0.000007807631509999235,
          0.000010396651172164684,
          0.000013144789422230664,
          0.000014161017016223278,
          0.000040821564268770544,
          0.00006166085128842585,
          0.00042747315776408206,
          0.00124266180479695
         ],
         "showlegend": false,
         "subplot": "polar8",
         "theta": [
          "OC",
          "1°S",
          "P",
          "PF",
          "T",
          "C",
          "PM",
          "1°M",
          "DN",
          "PU",
          "GP",
          "STN"
         ],
         "type": "barpolar"
        },
        {
         "marker": {
          "color": "black",
          "size": 4
         },
         "mode": "markers",
         "name": "Stage 3",
         "r": [
          0.000002774267775311226,
          0.000001793569561054966,
          0.000006492361024212646,
          0.0000015040392928172175,
          0.0000012584702227743455,
          0.000020925448237400542,
          0.0000177682985482091,
          0.000014880632192822292,
          0.000002333061177961722,
          0.000004994487170238791,
          0.00003606315807242228,
          0.0000308147111595953,
          0.000007496990666445291,
          0.0000011385513990614933,
          0.000004626323415192587,
          0.0000021272960828840486,
          0.0000017859100820526563,
          0.0000015720847361834263,
          0.0000014814292064897995,
          0.0000013588948935356683,
          0.000003025003796120266,
          0.0000018149590910425167,
          0.0000037490213146517,
          0.0001184584364784,
          0.000048407738644264086,
          0.0023668651731155,
          0.0001195726812622,
          0.0008065385768839,
          0.00004986023007747356,
          0.00004999291473655582,
          0.00002261154799228228
         ],
         "showlegend": false,
         "subplot": "polar8",
         "theta": [
          "1°S",
          "1°M",
          "PM",
          "P",
          "OC",
          "T",
          "C",
          "PF",
          "PF",
          "1°S",
          "1°M",
          "PM",
          "P",
          "T",
          "1°M",
          "PM",
          "P",
          "PF",
          "OC",
          "T",
          "C",
          "1°S",
          "PU",
          "STN",
          "GP",
          "STN",
          "PU",
          "GP",
          "DN",
          "DN",
          "DN"
         ],
         "type": "scatterpolargl"
        },
        {
         "marker": {
          "color": "forestgreen",
          "line": {
           "color": "black"
          }
         },
         "name": "CB_density,s4",
         "r": [
          1.5662804046725927e-7,
          2.3565383414529173e-7,
          8.369798133757729e-7,
          9.117872890478649e-7,
          0.0000013490804764969716,
          0.000001465925822858763,
          0.0000021958584229968097,
          0.000004345825108576268,
          0.000004387470194411716,
          0.0000069757132564088795,
          0.000007045130093201836,
          0.0000207659601564714
         ],
         "showlegend": false,
         "subplot": "polar9",
         "theta": [
          "OC",
          "T",
          "PU",
          "PF",
          "C",
          "1°S",
          "P",
          "DN",
          "GP",
          "PM",
          "1°M",
          "STN"
         ],
         "type": "barpolar"
        },
        {
         "marker": {
          "color": "black",
          "size": 4
         },
         "mode": "markers",
         "name": "Stage 4",
         "r": [
          5.7209708157946485e-8,
          1.67106436927546e-7,
          0.000002458977356122444,
          4.5459823871445513e-8,
          1.617399340319095e-7,
          5.004671031765901e-7,
          2.831591279873384e-7,
          1.227515169715007e-7,
          5.145430280419728e-7,
          0.000004122101931428163,
          6.954590489342878e-7,
          1.895263881991341e-7,
          0.0000011337241478269573,
          0.000002295868593729615,
          0.00000465026811098401,
          0.000019935849373116784,
          0.0000062177905336881375,
          0.0000010962687593243436,
          2.323175248337255e-7,
          2.164842631302067e-7,
          8.947664160618446e-7,
          1.969936492441595e-7,
          8.726643684316562e-7,
          0.000003259687231564016,
          0.000012430317161507463,
          0.000003329710747975566,
          0.0000014173971301110851,
          2.1759681436871146e-7,
          0.0000022175227937442416,
          0.00000131538087059646,
          0.000011558186610601266,
          0.00000578923965123225,
          0.0000013170091801466395,
          1.394847496162309e-7,
          7.215202542468942e-7,
          4.3998529599311215e-8,
          3.942705804589199e-7,
          4.568841903048716e-8,
          5.67013565303413e-7,
          1.4354321767302397e-7,
          0.000001975296646378328,
          5.03493258464848e-7,
          3.4820711295189946e-7,
          0.000004250348806032449,
          0.0000020428069106643707,
          8.026489463680697e-7,
          0.0000010618681002686137,
          0.00000246477665148828,
          0.0000015734177036873494,
          0.0000013316362221038987,
          5.072875718844432e-7,
          0.0000010841423364375209,
          0.000002951947041782644,
          0.00001674202291711698,
          0.000005724602936906652,
          0.000010394552450981745,
          1.6224059931323409e-7,
          6.382602586351838e-7,
          0.00002387179093369381,
          3.227069823424017e-7,
          0.000005070897974185156,
          0.000014239053585165868,
          0.0000010721712652395336,
          0.000010101589279694462,
          0.00004375460116791289,
          5.521564917989345e-7,
          0.000004582815659453399,
          0.00001533733484399413,
          4.897525390551687e-7,
          0.000003062669487524965,
          0.000021022365196434365,
          3.078837740984936e-7,
          0.000001531455764482196,
          0.0000032513694695549468,
          0.000004754845165438434,
          0.000008902419569434767,
          0.000008763996401025042,
          0.000002779913820061863,
          0.000005110686611802594,
          3.653302247397329e-7,
          1.553300203355733e-7,
          0.000005028534694793467
         ],
         "showlegend": false,
         "subplot": "polar9",
         "theta": [
          "OC",
          "PF",
          "PF",
          "OC",
          "OC",
          "PF",
          "PF",
          "OC",
          "1°S",
          "1°M",
          "P",
          "T",
          "C",
          "1°S",
          "1°M",
          "PM",
          "P",
          "PF",
          "OC",
          "T",
          "C",
          "OC",
          "PF",
          "1°S",
          "1°M",
          "PM",
          "P",
          "T",
          "C",
          "1°S",
          "1°M",
          "PM",
          "P",
          "T",
          "C",
          "OC",
          "PF",
          "OC",
          "PF",
          "T",
          "PF",
          "OC",
          "1°S",
          "PM",
          "C",
          "PF",
          "1°S",
          "1°M",
          "PM",
          "P",
          "T",
          "C",
          "PU",
          "STN",
          "GP",
          "STN",
          "PU",
          "GP",
          "STN",
          "PU",
          "GP",
          "STN",
          "PU",
          "GP",
          "STN",
          "PU",
          "GP",
          "STN",
          "PU",
          "GP",
          "STN",
          "PU",
          "GP",
          "DN",
          "DN",
          "DN",
          "DN",
          "DN",
          "DN",
          "DN",
          "DN",
          "DN"
         ],
         "type": "scatterpolargl"
        },
        {
         "marker": {
          "color": "lightcoral",
          "line": {
           "color": "black"
          }
         },
         "name": "NFT_density,s4",
         "r": [
          1.1297137486266005e-8,
          5.791052189693903e-8,
          6.757592502382487e-8,
          8.994813463430823e-8,
          1.4579400221098666e-7,
          1.7617699808551795e-7,
          3.0764929623776174e-7,
          3.6397603123827117e-7,
          4.4193393212638384e-7,
          6.546532892626089e-7,
          0.0000016790866669916393,
          0.000003231800522382158
         ],
         "showlegend": false,
         "subplot": "polar10",
         "theta": [
          "OC",
          "T",
          "PU",
          "1°S",
          "PF",
          "P",
          "1°M",
          "C",
          "GP",
          "PM",
          "DN",
          "STN"
         ],
         "type": "barpolar"
        },
        {
         "marker": {
          "color": "black",
          "size": 4
         },
         "mode": "markers",
         "name": "Stage 4",
         "r": [
          3.6406177918693214e-8,
          7.712604781271355e-8,
          4.717805392560502e-7,
          6.494260553063645e-9,
          6.469597361276378e-9,
          2.5433574095859496e-7,
          1.797835733252942e-8,
          4.2328109300517494e-9,
          4.812272924133559e-8,
          4.580113257142403e-7,
          8.973665147539198e-8,
          3.7283879645731295e-8,
          3.015223797412121e-7,
          3.0208797285915984e-7,
          1.4182198091283498e-7,
          0.000002130329030484682,
          5.158256720772669e-7,
          2.0147642063258208e-7,
          6.113619074571723e-9,
          6.314124341297695e-8,
          2.64362804745545e-7,
          0,
          8.668851342036319e-8,
          1.0668067303300415e-7,
          6.753399438237306e-7,
          3.507985416692738e-7,
          1.3288098094791424e-7,
          3.263952215530672e-8,
          4.405674424657433e-7,
          0,
          5.7332274854172953e-8,
          5.553227483196404e-8,
          2.532709961820461e-8,
          0,
          2.3656401778586692e-8,
          0,
          0,
          0,
          4.3313536238455164e-8,
          1.1483457413841916e-8,
          1.582769748700583e-7,
          4.195777153873733e-8,
          7.569719846780423e-9,
          4.713421827701354e-7,
          7.810732305481417e-7,
          1.469638915885198e-7,
          7.522771282556936e-8,
          2.0574095588382968e-7,
          2.652644165569896e-7,
          1.1711458630881195e-7,
          2.029150287537773e-7,
          3.726739281503978e-7,
          1.1652422533352544e-7,
          0.000001309431959997976,
          2.346148744633874e-7,
          0.0000030366108283766893,
          1.0324401774478533e-7,
          2.279500923697085e-7,
          0.00000483887654061361,
          8.067674558560044e-8,
          0.0000012454837129577577,
          0.000005220986314560818,
          1.0857430534071226e-7,
          9.736471594886228e-7,
          0.000005443156126151843,
          4.476944528099469e-8,
          3.197313250781441e-7,
          0.0000016671016134776232,
          0,
          9.211036052706665e-8,
          0.0000011064402734965455,
          1.9242735881155852e-8,
          0,
          0.0000018890638258866728,
          0.0000013260524365764558,
          0.0000016284913846527012,
          0.000005577088618834118,
          0.00000119139163716937,
          0.000001359225162713456,
          1.538232525219928e-7,
          2.329950305033599e-7,
          0.0000017536486540666292
         ],
         "showlegend": false,
         "subplot": "polar10",
         "theta": [
          "OC",
          "PF",
          "PF",
          "OC",
          "OC",
          "PF",
          "PF",
          "OC",
          "1°S",
          "1°M",
          "P",
          "T",
          "C",
          "1°S",
          "1°M",
          "PM",
          "P",
          "PF",
          "OC",
          "T",
          "C",
          "OC",
          "PF",
          "1°S",
          "1°M",
          "PM",
          "P",
          "T",
          "C",
          "1°S",
          "1°M",
          "PM",
          "P",
          "T",
          "C",
          "OC",
          "PF",
          "OC",
          "PF",
          "T",
          "PF",
          "OC",
          "1°S",
          "PM",
          "C",
          "PF",
          "1°S",
          "1°M",
          "PM",
          "P",
          "T",
          "C",
          "PU",
          "STN",
          "GP",
          "STN",
          "PU",
          "GP",
          "STN",
          "PU",
          "GP",
          "STN",
          "PU",
          "GP",
          "STN",
          "PU",
          "GP",
          "STN",
          "PU",
          "GP",
          "STN",
          "PU",
          "GP",
          "DN",
          "DN",
          "DN",
          "DN",
          "DN",
          "DN",
          "DN",
          "DN",
          "DN"
         ],
         "type": "scatterpolargl"
        },
        {
         "marker": {
          "color": "gold",
          "line": {
           "color": "black"
          }
         },
         "name": "TA_density,s4",
         "r": [
          4.878845328658552e-9,
          8.540163337816346e-8,
          1.170477887043849e-7,
          1.728746721273014e-7,
          1.7968214349213347e-7,
          2.087306510906768e-7,
          2.1396431813630027e-7,
          0.000001072266811180644,
          0.0000011751291113646636
         ],
         "showlegend": false,
         "subplot": "polar11",
         "theta": [
          "OC",
          "T",
          "1°S",
          "P",
          "PF",
          "C",
          "PU",
          "PM",
          "1°M"
         ],
         "type": "barpolar"
        },
        {
         "marker": {
          "color": "black",
          "size": 4
         },
         "mode": "markers",
         "name": "Stage 4",
         "r": [
          0,
          2.5708682604237845e-8,
          6.242752590155815e-7,
          0,
          0,
          9.024816614659821e-8,
          3.0563207465300017e-7,
          2.5396865580310493e-8,
          1.3696469091764746e-7,
          0.000001545209927157134,
          2.654709272813679e-7,
          1.0563765899623869e-7,
          4.583140172066423e-7,
          2.114615810014119e-7,
          2.6125101747101175e-7,
          0.0000033106464662937624,
          3.136777735605002e-7,
          1.6592175816800876e-7,
          1.2227238149143446e-8,
          3.157062170648848e-8,
          2.033560036504192e-8,
          0,
          2.2539013489294435e-7,
          2.48921570410343e-7,
          0.00000293493599646704,
          0.0000010753988080681017,
          1.4272401657368565e-7,
          4.895928323296008e-8,
          5.28680930958892e-7,
          6.153828634369403e-8,
          9.861151274917747e-7,
          7.172918832462021e-7,
          8.611213870189567e-8,
          0,
          9.46256071143468e-8,
          6.285504228473031e-9,
          1.4785146767209496e-7,
          0,
          8.26894782734144e-8,
          1.4354321767302396e-8,
          4.431755296361632e-8,
          0,
          0,
          0,
          6.00825561960109e-8,
          8.478686053183835e-8,
          4.3400603553213095e-8,
          1.481334882363574e-7,
          2.579968982951543e-7,
          5.63885045190576e-8,
          3.1188791456599104e-7,
          9.034519470312673e-8,
          0.0000010972697885573644,
          0,
          0,
          0,
          1.4749145392112188e-8,
          0,
          0,
          1.3446124264266736e-8,
          0,
          0,
          1.3571788167589033e-8,
          0,
          0,
          4.476944528099469e-8,
          0,
          0,
          3.139439352917748e-7,
          0,
          0,
          0,
          0,
          0,
          0,
          0,
          0,
          0,
          0,
          0,
          0,
          0
         ],
         "showlegend": false,
         "subplot": "polar11",
         "theta": [
          "OC",
          "PF",
          "PF",
          "OC",
          "OC",
          "PF",
          "PF",
          "OC",
          "1°S",
          "1°M",
          "P",
          "T",
          "C",
          "1°S",
          "1°M",
          "PM",
          "P",
          "PF",
          "OC",
          "T",
          "C",
          "OC",
          "PF",
          "1°S",
          "1°M",
          "PM",
          "P",
          "T",
          "C",
          "1°S",
          "1°M",
          "PM",
          "P",
          "T",
          "C",
          "OC",
          "PF",
          "OC",
          "PF",
          "T",
          "PF",
          "OC",
          "1°S",
          "PM",
          "C",
          "PF",
          "1°S",
          "1°M",
          "PM",
          "P",
          "T",
          "C",
          "PU",
          "STN",
          "GP",
          "STN",
          "PU",
          "GP",
          "STN",
          "PU",
          "GP",
          "STN",
          "PU",
          "GP",
          "STN",
          "PU",
          "GP",
          "STN",
          "PU",
          "GP",
          "STN",
          "PU",
          "GP",
          "DN",
          "DN",
          "DN",
          "DN",
          "DN",
          "DN",
          "DN",
          "DN",
          "DN"
         ],
         "type": "scatterpolargl"
        },
        {
         "marker": {
          "color": "lightsalmon",
          "line": {
           "color": "black"
          }
         },
         "name": "Others_density,s4",
         "r": [
          0.0000015563139597924122,
          0.000006704058581525127,
          0.000007581624364702819,
          0.000008701304357138166,
          0.000010300364475061407,
          0.00001210168024890272,
          0.000021181128757670398,
          0.00003773134997286395,
          0.000045181445271944465,
          0.00009876886089215878,
          0.00010661318108341091,
          0.0006876427724745714
         ],
         "showlegend": false,
         "subplot": "polar12",
         "theta": [
          "OC",
          "1°S",
          "T",
          "PF",
          "C",
          "P",
          "PU",
          "PM",
          "1°M",
          "DN",
          "GP",
          "STN"
         ],
         "type": "barpolar"
        },
        {
         "marker": {
          "color": "black",
          "size": 4
         },
         "mode": "markers",
         "name": "Stage 4",
         "r": [
          0.0000017214921272982078,
          0.000005983695876136359,
          0.000030622845911710896,
          7.598284847084465e-7,
          9.25152422662522e-7,
          0.000006104057783006279,
          0.000008085766210305108,
          0.000002277252280367841,
          0.000005182447764451524,
          0.00004566696763762895,
          0.000008573589243044742,
          0.000004952542012941307,
          0.00001778982040473151,
          0.00000782407849705224,
          0.000012107118581085172,
          0.00008717076086902185,
          0.000023065772282482115,
          0.000004420629699761948,
          0.000001699586102730939,
          0.000001934828101726222,
          0.000002399600843074947,
          0.0000024413141531329764,
          0.000009385476386311322,
          0.000011805994482319126,
          0.00007943114843033548,
          0.000039565474863682025,
          0.000011240746684630968,
          0.000003590347437083739,
          0.000016638763743789575,
          0.000004815370906394058,
          0.00006213671948695264,
          0.000022504454375653425,
          0.000004862803126695285,
          9.628947231572067e-7,
          0.000003832337088131045,
          6.725489524466141e-7,
          0.000002731731878893945,
          0.0000010005763767676688,
          0.000003343017478768039,
          0.000003014407571133503,
          0.000004273478321491574,
          0.0000025090747380164925,
          8.023903037587248e-7,
          0.000006185332503720374,
          0.000004235820211818769,
          0.000012062344024996203,
          0.000009794069535175086,
          0.00002656527222372009,
          0.000033230727252242055,
          0.0000127654899076605,
          0.00003103472634217494,
          0.00001690584455882259,
          0.00006117521830010085,
          0.0002977087091909,
          0.0001406750787282,
          0.0002172344669531,
          0.000014277172739564598,
          0.000028721711638583272,
          0.0003958201010221,
          0.000009909793582764584,
          0.0001644928132327,
          0.0001053689965302,
          0.000010599566558887034,
          0.0001479943682422,
          0.0001817176737499,
          0.000005088793613606397,
          0.00002968172467808771,
          0.0032278421440153,
          0.00003977041772276203,
          0.0001835759485304,
          0.0003878073158605,
          0.000007446938786007313,
          0.00005115062253370536,
          0.0001014645243404,
          0.0002052350299695,
          0.0001016540510997,
          0.0001748246554801,
          0.0000426064342625808,
          0.0001496235059114,
          0.000011613655565410456,
          0.000012504066637013649,
          0.0000893938247633242
         ],
         "showlegend": false,
         "subplot": "polar12",
         "theta": [
          "OC",
          "PF",
          "PF",
          "OC",
          "OC",
          "PF",
          "PF",
          "OC",
          "1°S",
          "1°M",
          "P",
          "T",
          "C",
          "1°S",
          "1°M",
          "PM",
          "P",
          "PF",
          "OC",
          "T",
          "C",
          "OC",
          "PF",
          "1°S",
          "1°M",
          "PM",
          "P",
          "T",
          "C",
          "1°S",
          "1°M",
          "PM",
          "P",
          "T",
          "C",
          "OC",
          "PF",
          "OC",
          "PF",
          "T",
          "PF",
          "OC",
          "1°S",
          "PM",
          "C",
          "PF",
          "1°S",
          "1°M",
          "PM",
          "P",
          "T",
          "C",
          "PU",
          "STN",
          "GP",
          "STN",
          "PU",
          "GP",
          "STN",
          "PU",
          "GP",
          "STN",
          "PU",
          "GP",
          "STN",
          "PU",
          "GP",
          "STN",
          "PU",
          "GP",
          "STN",
          "PU",
          "GP",
          "DN",
          "DN",
          "DN",
          "DN",
          "DN",
          "DN",
          "DN",
          "DN",
          "DN"
         ],
         "type": "scatterpolargl"
        },
        {
         "marker": {
          "color": "forestgreen",
          "line": {
           "color": "black"
          }
         },
         "name": "CB_density,s5",
         "r": [
          0.0000010752116990332713,
          0.0000015259963860104046,
          0.0000029576792275401273,
          0.000005011989493602433,
          0.000005675537510800978,
          0.000009170015441752574,
          0.0000104367240083641,
          0.000011121917743604472,
          0.000015271265933956683,
          0.00001824307545862174,
          0.000019167277315615744,
          0.000047848910111055265
         ],
         "showlegend": false,
         "subplot": "polar13",
         "theta": [
          "OC",
          "T",
          "PF",
          "C",
          "PU",
          "P",
          "DN",
          "1°S",
          "PM",
          "GP",
          "1°M",
          "STN"
         ],
         "type": "barpolar"
        },
        {
         "marker": {
          "color": "black",
          "size": 4
         },
         "mode": "markers",
         "name": "Stage 5",
         "r": [
          0.000002106613513237741,
          2.788927235638905e-7,
          0.0000016044041521938054,
          5.158514558453986e-7,
          0.000005343007668443848,
          0.00002062825093848196,
          0.000008648484132433938,
          0.000007418458232016156,
          0.000004246966100192796,
          0.000001335884203077328,
          6.907457535472967e-7,
          0.000004923894470983112,
          6.02928197786805e-7,
          0.00001829335112581877,
          0.000031248011551232847,
          0.00002003879470181592,
          0.000004676052005151424,
          0.00001237353873462966,
          0.000002681342838716124,
          9.851120651221986e-7,
          9.482938535205416e-7,
          0.00001896012995518906,
          7.428767597427628e-7,
          0.000003791368905973517,
          0.0000034343179129702293,
          0.0000029657041297038178,
          0.000004177575856584392,
          0.000008933959639467885,
          0.00001659981499900554,
          0.00002325762907469221,
          0.00000394611296858112,
          0.000003950071336975634,
          0.000013142396116532352,
          0.0000023591274382348337,
          0.000007655399466325555,
          0.0000022113399855283186,
          0.00003235057989258772,
          0.000002549463393332035,
          0.0000032983538972575586,
          4.086470026389119e-7,
          0.000002811305442527741,
          3.379351768688508e-7,
          0.0000012296126299132944,
          0.000005308542631612219,
          0.00002682643701854724,
          0.000012552019019628802,
          0.00003319127050037935,
          0.000008142228312475744,
          5.757112186137594e-7,
          0.000006746839274816368,
          0.000002379622796324177,
          8.373999168859129e-7,
          0.00001959808289456451,
          0.00004164226173809262,
          0.00001803329423696448,
          0.000016721824373735655,
          5.185380665467838e-7,
          0.000007520848933430479,
          8.269724741342819e-7,
          0.000003499144993488816,
          0.000006479130445472091,
          0.000022002272737575,
          0.000005060570096956052,
          0.000004928147567567378,
          0.0000015710542822681715,
          0.00000299330149355801,
          0.0000014385046852704856,
          6.527218015543097e-7,
          0.000003649764279742156,
          0.0000215203287285377,
          0.000005133951114373874,
          0.000006043506480517928,
          2.892418920287867e-7,
          0.0000011692897445416543,
          0.000011275638299970975,
          0.00000328572410416456,
          0.00001002523276686321,
          0.000002951488432294756,
          0.0000016616582557065972,
          8.116527393091493e-7,
          8.709123142664094e-7,
          0.000003352388143858345,
          0.00001503844040201618,
          1.2575804421801618e-7,
          0.000004045369750346373,
          0.00008305915327433583,
          0.00004090165892056632,
          0.000014392480349720544,
          0.000032084509557596015,
          1.8645483231731785e-7,
          0.000011733774945972807,
          0.0001098213045764,
          0.000014786748122227908,
          0.00004613847882645658,
          0.00005213123879026211,
          0.0000022755426559811487,
          0.000009627597136900729,
          0.00006302413971803864,
          0.00001750257571814418,
          0.000008928507754682051,
          0.0000525360894203644,
          0.000005408943306909089,
          0.00001480813007145548,
          0.00000741922411217753,
          0.000002733129918553255,
          0.0000020865351755222886,
          0.000015526091148306717,
          0.0000022422726125994777,
          0.000017343558582230952,
          0.0000099076713632268,
          0.00002295170990084378,
          0.000009602138693080328,
          0.000004720880952918645,
          0,
          0.000011103808573348512,
          0.000011459821620311208,
          0.000014749024224054697,
          0.000009368212805804836,
          0.000014114927518834965,
          0.00000682576843958134
         ],
         "showlegend": false,
         "subplot": "polar13",
         "theta": [
          "PF",
          "OC",
          "PF",
          "OC",
          "1°S",
          "1°M",
          "PM",
          "P",
          "PF",
          "OC",
          "T",
          "C",
          "OC",
          "1°S",
          "PM",
          "P",
          "T",
          "C",
          "PF",
          "OC",
          "1°S",
          "P",
          "T",
          "C",
          "1°M",
          "T",
          "PF",
          "1°S",
          "1°M",
          "PM",
          "P",
          "C",
          "PM",
          "T",
          "PF",
          "1°M",
          "PM",
          "P",
          "C",
          "OC",
          "PF",
          "OC",
          "PF",
          "OC",
          "1°S",
          "PM",
          "1°M",
          "P",
          "T",
          "C",
          "PF",
          "OC",
          "1°S",
          "1°M",
          "PM",
          "P",
          "T",
          "C",
          "OC",
          "PF",
          "1°S",
          "1°M",
          "PM",
          "P",
          "T",
          "C",
          "PF",
          "OC",
          "1°S",
          "1°M",
          "PM",
          "P",
          "T",
          "C",
          "1°M",
          "PM",
          "1°S",
          "P",
          "PF",
          "OC",
          "T",
          "C",
          "STN",
          "PU",
          "GP",
          "STN",
          "GP",
          "PU",
          "STN",
          "PU",
          "GP",
          "STN",
          "PU",
          "GP",
          "STN",
          "PU",
          "GP",
          "STN",
          "GP",
          "PU",
          "STN",
          "PU",
          "GP",
          "STN",
          "PU",
          "GP",
          "STN",
          "PU",
          "GP",
          "DN",
          "DN",
          "DN",
          "DN",
          "DN",
          "DN",
          "DN",
          "DN",
          "DN",
          "DN",
          "DN"
         ],
         "type": "scatterpolargl"
        },
        {
         "marker": {
          "color": "lightcoral",
          "line": {
           "color": "black"
          }
         },
         "name": "NFT_density,s5",
         "r": [
          6.061131221798217e-8,
          1.5510706400731456e-7,
          2.223891002775114e-7,
          2.9715670821697693e-7,
          6.122398026585457e-7,
          6.650922893497053e-7,
          7.160357958060792e-7,
          0.00000115364637944021,
          0.0000012071945962854005,
          0.0000018097213517482999,
          0.0000035351234504249577,
          0.000003563980730447066
         ],
         "showlegend": false,
         "subplot": "polar14",
         "theta": [
          "OC",
          "PU",
          "T",
          "PF",
          "P",
          "GP",
          "1°S",
          "PM",
          "C",
          "1°M",
          "STN",
          "DN"
         ],
         "type": "barpolar"
        },
        {
         "marker": {
          "color": "black",
          "size": 4
         },
         "mode": "markers",
         "name": "Stage 5",
         "r": [
          5.145926139206697e-7,
          5.4992931406964314e-8,
          6.440618818842516e-7,
          2.9904432222921654e-8,
          1.7460809373999505e-7,
          8.177208541097755e-7,
          2.4947550382020977e-7,
          3.156790737028151e-7,
          1.9179846904096496e-7,
          2.569008082841016e-8,
          1.0764868886451377e-7,
          2.812292098625398e-7,
          4.51390094599747e-8,
          0.0000010040157465832057,
          0.000003566197726392132,
          0.000001402089266224677,
          4.390491577355918e-7,
          0.000002675654889659547,
          2.1767358838285877e-7,
          4.0484057470775296e-8,
          3.269978805243246e-9,
          6.766886227512699e-7,
          5.1393989667738304e-8,
          1.4192290022360757e-7,
          1.3208915049885497e-7,
          7.628222667368666e-7,
          4.319670273475017e-7,
          3.999317672541581e-7,
          0.0000011241819005334173,
          0.000001201566018223766,
          1.6791970079068594e-7,
          6.802237649776771e-7,
          7.391154230738757e-7,
          1.870407943357541e-7,
          5.381651645923061e-7,
          5.885695778972712e-8,
          0.000001208702984997783,
          1.1588469969691069e-7,
          5.614219399587334e-7,
          7.85859620459446e-9,
          1.4210994544645725e-7,
          7.680344928837519e-9,
          2.69721480110013e-7,
          3.106429368303639e-7,
          0.0000026938681524900994,
          0.0000026219517512371663,
          0.000008836723892799668,
          0.0000018871157316279524,
          1.664707138160268e-7,
          0.000004603888275643136,
          1.949408505463309e-7,
          5.5365283761052096e-8,
          0.0000011575390714100138,
          0.0000029968384689563794,
          0.0000012295427888839418,
          9.73736717665412e-7,
          1.5955017432208734e-7,
          0.000001863767228401139,
          3.375397853609314e-8,
          1.366853513081569e-7,
          3.405696772619945e-7,
          0.0000011962928643228911,
          2.780533020305523e-7,
          2.1130369930095257e-7,
          2.021577201448015e-7,
          6.560660807798379e-7,
          1.4434822101330133e-7,
          4.540673402116938e-8,
          1.324778322955411e-7,
          6.791516365596913e-7,
          2.2616524732924558e-7,
          2.714730183762064e-7,
          9.985731986708113e-8,
          1.0727428849006005e-7,
          4.456364401642941e-7,
          2.156930484134285e-7,
          5.380418424144616e-7,
          1.0050749644857561e-7,
          1.398159050109111e-7,
          7.041736094462939e-8,
          4.790017728465252e-8,
          5.004973848577247e-7,
          0.000007877278305818,
          4.836847854539084e-8,
          1.608953877978671e-7,
          0.000003636565379787033,
          0.0000013042158734635848,
          2.6652741388371374e-7,
          0.000003035021174367191,
          0,
          4.998159713294706e-7,
          0.0000018364766651581843,
          6.877557266152515e-8,
          9.198647405064796e-7,
          0.000004868940176868281,
          1.771380510644008e-7,
          3.219932152809609e-7,
          0.000006871790934988637,
          0.0000011171856841368626,
          1.6995890395968376e-7,
          0.000003283505588772775,
          2.840312695408883e-7,
          6.816440826542999e-7,
          4.0653282806452217e-7,
          1.518405510307364e-7,
          7.19494888111134e-8,
          0,
          2.2932333537949206e-7,
          9.082661601667084e-7,
          0.000009145542796824736,
          0.000008645487137537566,
          0.0000023641629357962928,
          0.0000020981693124082865,
          3.655013909703685e-7,
          0.0000029444604204087107,
          0.000002014421769195329,
          0.000003979053297856483,
          0.0000017878268713368009,
          0.000004498781679309949,
          0.000001360380423273204
         ],
         "showlegend": false,
         "subplot": "polar14",
         "theta": [
          "PF",
          "OC",
          "PF",
          "OC",
          "1°S",
          "1°M",
          "PM",
          "P",
          "PF",
          "OC",
          "T",
          "C",
          "OC",
          "1°S",
          "PM",
          "P",
          "T",
          "C",
          "PF",
          "OC",
          "1°S",
          "P",
          "T",
          "C",
          "1°M",
          "T",
          "PF",
          "1°S",
          "1°M",
          "PM",
          "P",
          "C",
          "PM",
          "T",
          "PF",
          "1°M",
          "PM",
          "P",
          "C",
          "OC",
          "PF",
          "OC",
          "PF",
          "OC",
          "1°S",
          "PM",
          "1°M",
          "P",
          "T",
          "C",
          "PF",
          "OC",
          "1°S",
          "1°M",
          "PM",
          "P",
          "T",
          "C",
          "OC",
          "PF",
          "1°S",
          "1°M",
          "PM",
          "P",
          "T",
          "C",
          "PF",
          "OC",
          "1°S",
          "1°M",
          "PM",
          "P",
          "T",
          "C",
          "1°M",
          "PM",
          "1°S",
          "P",
          "PF",
          "OC",
          "T",
          "C",
          "STN",
          "PU",
          "GP",
          "STN",
          "GP",
          "PU",
          "STN",
          "PU",
          "GP",
          "STN",
          "PU",
          "GP",
          "STN",
          "PU",
          "GP",
          "STN",
          "GP",
          "PU",
          "STN",
          "PU",
          "GP",
          "STN",
          "PU",
          "GP",
          "STN",
          "PU",
          "GP",
          "DN",
          "DN",
          "DN",
          "DN",
          "DN",
          "DN",
          "DN",
          "DN",
          "DN",
          "DN",
          "DN"
         ],
         "type": "scatterpolargl"
        },
        {
         "marker": {
          "color": "gold",
          "line": {
           "color": "black"
          }
         },
         "name": "TA_density,s5",
         "r": [
          1.3310107631122786e-7,
          3.278681219747128e-7,
          6.562367144545577e-7,
          0.0000013444383701004472,
          0.0000013999902621913547,
          0.0000018561217385446312,
          0.000003142524012356115,
          0.000003983492655478991,
          0.0000065083392653944925
         ],
         "showlegend": false,
         "subplot": "polar15",
         "theta": [
          "OC",
          "T",
          "PF",
          "C",
          "PU",
          "1°S",
          "P",
          "PM",
          "1°M"
         ],
         "type": "barpolar"
        },
        {
         "marker": {
          "color": "black",
          "size": 4
         },
         "mode": "markers",
         "name": "Stage 5",
         "r": [
          3.9398497003301286e-7,
          3.928066529068879e-9,
          5.923069092328386e-7,
          1.1214162083595623e-7,
          7.752599362055779e-7,
          0.000005958971307020961,
          0.00000200220083835194,
          7.645352566240054e-7,
          8.219934387469928e-7,
          4.452947343591094e-7,
          1.300754990446208e-7,
          4.957260648424431e-7,
          7.093272915138882e-8,
          0.0000032929874257201462,
          0.000016991180908446444,
          0.000004557994659273349,
          5.282867914216877e-7,
          0.000005897361797616961,
          9.943725287489684e-7,
          1.990466158979785e-7,
          2.0927864353556777e-7,
          0.000005370680588165142,
          2.522977674598062e-7,
          0.0000016287342358994964,
          7.24044232364094e-7,
          0.000001462386101597993,
          7.729936278850031e-7,
          0.0000015158704081407603,
          0.000003907438702660506,
          0.000003827427365366435,
          7.136587283604152e-7,
          9.66633771284067e-7,
          5.928321622571711e-7,
          2.4134296043323103e-8,
          1.3454129114807656e-7,
          5.0448820962623245e-8,
          0.00000145755359955615,
          5.7942349848455346e-8,
          9.824883949277835e-8,
          5.5010173432161226e-8,
          4.819380758618985e-7,
          8.44837942172127e-8,
          3.9664923545590144e-8,
          1.7948258572421025e-7,
          0.0000026938681524900994,
          0.0000011672285208358438,
          0.000007886106625543945,
          0.000002210453318043957,
          1.7340699355836125e-8,
          3.871137288829064e-7,
          4.10047995976765e-7,
          3.460330235065755e-8,
          0.000001958352265467256,
          0.000006664517348327681,
          0.000002890504100183302,
          0.00001029636418123982,
          1.276401394576699e-7,
          0.000002104960634429522,
          8.438494634023286e-8,
          0.0000012028310915117804,
          0.0000018689799361938724,
          0.0000159188516377512,
          0.0000034478609451788486,
          8.656635422974509e-7,
          2.887967430640021e-7,
          7.380743408773176e-7,
          0.0000016376056797715909,
          1.759510943320313e-7,
          0.0000013976411307179583,
          0.000014303765080195947,
          0.00000610646167788963,
          0.0000060952156268753,
          2.1693141902159e-7,
          2.681857212251501e-7,
          0.000003160909633723481,
          0.0000013516764367241515,
          0.0000029928577484304425,
          4.927318728332608e-7,
          3.925600409921735e-7,
          1.519532525647266e-7,
          2.307917632805985e-7,
          8.593445664538292e-7,
          0,
          0,
          0,
          0,
          0,
          0.0000059148583773424165,
          0,
          0,
          0,
          0,
          0.0000020927424252721224,
          0,
          0,
          0.0000016487464752917303,
          0,
          0,
          0,
          4.305625566978655e-7,
          0,
          0.000001481902275865504,
          0,
          0,
          4.960124667004055e-7,
          0,
          0,
          5.350877825521481e-7,
          0,
          0,
          0,
          0,
          0,
          0,
          0,
          0,
          0,
          0,
          0,
          0
         ],
         "showlegend": false,
         "subplot": "polar15",
         "theta": [
          "PF",
          "OC",
          "PF",
          "OC",
          "1°S",
          "1°M",
          "PM",
          "P",
          "PF",
          "OC",
          "T",
          "C",
          "OC",
          "1°S",
          "PM",
          "P",
          "T",
          "C",
          "PF",
          "OC",
          "1°S",
          "P",
          "T",
          "C",
          "1°M",
          "T",
          "PF",
          "1°S",
          "1°M",
          "PM",
          "P",
          "C",
          "PM",
          "T",
          "PF",
          "1°M",
          "PM",
          "P",
          "C",
          "OC",
          "PF",
          "OC",
          "PF",
          "OC",
          "1°S",
          "PM",
          "1°M",
          "P",
          "T",
          "C",
          "PF",
          "OC",
          "1°S",
          "1°M",
          "PM",
          "P",
          "T",
          "C",
          "OC",
          "PF",
          "1°S",
          "1°M",
          "PM",
          "P",
          "T",
          "C",
          "PF",
          "OC",
          "1°S",
          "1°M",
          "PM",
          "P",
          "T",
          "C",
          "1°M",
          "PM",
          "1°S",
          "P",
          "PF",
          "OC",
          "T",
          "C",
          "STN",
          "PU",
          "GP",
          "STN",
          "GP",
          "PU",
          "STN",
          "PU",
          "GP",
          "STN",
          "PU",
          "GP",
          "STN",
          "PU",
          "GP",
          "STN",
          "GP",
          "PU",
          "STN",
          "PU",
          "GP",
          "STN",
          "PU",
          "GP",
          "STN",
          "PU",
          "GP",
          "DN",
          "DN",
          "DN",
          "DN",
          "DN",
          "DN",
          "DN",
          "DN",
          "DN",
          "DN",
          "DN"
         ],
         "type": "scatterpolargl"
        },
        {
         "marker": {
          "color": "lightsalmon",
          "line": {
           "color": "black"
          }
         },
         "name": "Others_density,s5",
         "r": [
          0.000005806354060374358,
          0.00001743780483979176,
          0.00002011890897984831,
          0.00003993995317663415,
          0.00005404193820292497,
          0.00006335388060129096,
          0.00007831362766056098,
          0.00008237491054734552,
          0.0001330046088646868,
          0.00017167167252655227,
          0.0004333866442321317,
          0.0012882284458221554
         ],
         "showlegend": false,
         "subplot": "polar16",
         "theta": [
          "OC",
          "T",
          "PF",
          "C",
          "P",
          "1°S",
          "PU",
          "PM",
          "1°M",
          "DN",
          "GP",
          "STN"
         ],
         "type": "barpolar"
        },
        {
         "marker": {
          "color": "black",
          "size": 4
         },
         "mode": "markers",
         "name": "Stage 5",
         "r": [
          0.000029484548675735872,
          0.0000028203517678714552,
          0.00003766611898519507,
          0.000006765877790436025,
          0.00002642169674473605,
          0.0001097417528573,
          0.00004532778000179504,
          0.00003162709719660079,
          0.000025705561481704567,
          0.000009060035172152649,
          0.0000028033512725133794,
          0.000029838895826093208,
          0.0000056552730423425445,
          0.00007334841642240427,
          0.0002526268996535,
          0.00008196681304815878,
          0.000015919993849599505,
          0.0001387408968091,
          0.00001422793727702504,
          0.000006339128665632231,
          0.000003943594439123356,
          0.0001045441093756,
          0.000004116191354297949,
          0.000031581224416424674,
          0.00001482333800042706,
          0.0001049569017345,
          0.00002648639930841261,
          0.000056577444041713234,
          0.000128718827611,
          0.0001241833133078,
          0.000020433728589966597,
          0.000034834617017014724,
          0.000035231168499854744,
          0.000003909755959018344,
          0.000015001353963010531,
          0.000007205773260828019,
          0.00009781606656533528,
          0.000006878584674866627,
          0.00001668826716527335,
          0.0000016267294143510532,
          0.000009583153277715444,
          0.0000031988636628608265,
          0.000003776100721540182,
          0.000012046042772644113,
          0.000173932216304,
          0.000052991024867109045,
          0.0001966639680293,
          0.00005126958347516316,
          0.0000021571829998660142,
          0.000021553939404587537,
          0.000015359994603391935,
          0.000003398044290834572,
          0.00008734687911180721,
          0.0001821927320248,
          0.00007672778421158212,
          0.0001446059132937,
          0.00001231727345766514,
          0.0000834090651392698,
          0.000007645276138425096,
          0.00003247643947081807,
          0.00006871200903198095,
          0.0003179827998792,
          0.0000630291225042856,
          0.00002882591433366866,
          0.00001812488359469677,
          0.000016606672669739646,
          0.00002025354866562493,
          0.000006146936618115804,
          0.000025362880992981335,
          0.0001750224588285,
          0.000054110035423522,
          0.00005705457936206604,
          0.0000033882621637657867,
          0.000012915824334203227,
          0.00006468982929082614,
          0.000021705910438671352,
          0.00005453978832287218,
          0.000013213058679459084,
          0.000011405751328005478,
          0.000004973689388825929,
          0.000006684252011994692,
          0.000013230128984635329,
          0.0001379717230534,
          0.000004556310678975816,
          0.00005711786266824282,
          0.0040463335667814,
          0.0026050625225873,
          0.000399668108173,
          0.0003134743298667,
          0.0000024122593931053,
          0.00007235431204007574,
          0.0023178171990961,
          0.00005786973185376903,
          0.0003715769412309,
          0.0013870603196964,
          0.000068061889620514,
          0.0002432980734662,
          0.0005252011643169,
          0.00008897585984375727,
          0.000030252684904823703,
          0.0023033791705241,
          0.0000756758095541984,
          0.0002229446249646,
          0.0003263442277287,
          0.000027047863490275177,
          0.00006307571852440942,
          0.0002364743113357,
          0.00003927799127638744,
          0.0001760738827637,
          0.0003310495960308,
          0.0003475691674221,
          0.000118535492427,
          0.0001057724176902,
          0.00000731002781940737,
          0.0001811020535685,
          0.0001655630869637,
          0.0002722468266393,
          0.00006575627232776754,
          0.0001930539688133,
          0.00010042948809
         ],
         "showlegend": false,
         "subplot": "polar16",
         "theta": [
          "PF",
          "OC",
          "PF",
          "OC",
          "1°S",
          "1°M",
          "PM",
          "P",
          "PF",
          "OC",
          "T",
          "C",
          "OC",
          "1°S",
          "PM",
          "P",
          "T",
          "C",
          "PF",
          "OC",
          "1°S",
          "P",
          "T",
          "C",
          "1°M",
          "T",
          "PF",
          "1°S",
          "1°M",
          "PM",
          "P",
          "C",
          "PM",
          "T",
          "PF",
          "1°M",
          "PM",
          "P",
          "C",
          "OC",
          "PF",
          "OC",
          "PF",
          "OC",
          "1°S",
          "PM",
          "1°M",
          "P",
          "T",
          "C",
          "PF",
          "OC",
          "1°S",
          "1°M",
          "PM",
          "P",
          "T",
          "C",
          "OC",
          "PF",
          "1°S",
          "1°M",
          "PM",
          "P",
          "T",
          "C",
          "PF",
          "OC",
          "1°S",
          "1°M",
          "PM",
          "P",
          "T",
          "C",
          "1°M",
          "PM",
          "1°S",
          "P",
          "PF",
          "OC",
          "T",
          "C",
          "STN",
          "PU",
          "GP",
          "STN",
          "GP",
          "PU",
          "STN",
          "PU",
          "GP",
          "STN",
          "PU",
          "GP",
          "STN",
          "PU",
          "GP",
          "STN",
          "GP",
          "PU",
          "STN",
          "PU",
          "GP",
          "STN",
          "PU",
          "GP",
          "STN",
          "PU",
          "GP",
          "DN",
          "DN",
          "DN",
          "DN",
          "DN",
          "DN",
          "DN",
          "DN",
          "DN",
          "DN",
          "DN"
         ],
         "type": "scatterpolargl"
        },
        {
         "marker": {
          "color": "forestgreen",
          "line": {
           "color": "black"
          }
         },
         "name": "CB_density,s6",
         "r": [
          0.000002514078716065604,
          0.000003315186800303568,
          0.000003606700439883928,
          0.0000036889513105111246,
          0.00000684153841682245,
          0.000010410315004443728,
          0.00001635270604425522,
          0.000019475581014504933,
          0.0000227555369708904,
          0.00002347192093440757,
          0.00006526797543380262,
          0.00009511455165267616
         ],
         "showlegend": false,
         "subplot": "polar17",
         "theta": [
          "OC",
          "PF",
          "T",
          "C",
          "PU",
          "P",
          "1°S",
          "DN",
          "PM",
          "GP",
          "1°M",
          "STN"
         ],
         "type": "barpolar"
        },
        {
         "marker": {
          "color": "black",
          "size": 4
         },
         "mode": "markers",
         "name": "Stage 6",
         "r": [
          0.000003315186800303568,
          0.000002514078716065604,
          0.000024181149049193517,
          0.000003941230695487681,
          0.000004000619237930513,
          0.00000852426303931693,
          0.00006526797543380262,
          0.0000227555369708904,
          0.000010410315004443728,
          0.000003272170184280176,
          0.000003377283383091736,
          0.00009511455165267616,
          0.00000684153841682245,
          0.00002347192093440757,
          0.0000133649108480771,
          0.00002558625118093277
         ],
         "showlegend": false,
         "subplot": "polar17",
         "theta": [
          "PF",
          "OC",
          "1°S",
          "T",
          "C",
          "1°S",
          "1°M",
          "PM",
          "P",
          "T",
          "C",
          "STN",
          "PU",
          "GP",
          "DN",
          "DN"
         ],
         "type": "scatterpolargl"
        },
        {
         "marker": {
          "color": "lightcoral",
          "line": {
           "color": "black"
          }
         },
         "name": "NFT_density,s6",
         "r": [
          1.4393580435490098e-7,
          2.995295237851456e-7,
          4.1553812509984507e-7,
          4.4474631768920365e-7,
          5.041528313825702e-7,
          5.779071442183681e-7,
          9.196298434947176e-7,
          9.440780717536788e-7,
          0.0000016589747381280726,
          0.000001979168048217281,
          0.0000022887835427241893,
          0.000003179981340250767
         ],
         "showlegend": false,
         "subplot": "polar18",
         "theta": [
          "OC",
          "P",
          "PU",
          "T",
          "PF",
          "GP",
          "C",
          "PM",
          "STN",
          "1°S",
          "1°M",
          "DN"
         ],
         "type": "barpolar"
        },
        {
         "marker": {
          "color": "black",
          "size": 4
         },
         "mode": "markers",
         "name": "Stage 6",
         "r": [
          5.041528313825702e-7,
          1.4393580435490098e-7,
          0.000003627653478530026,
          5.076654496957816e-7,
          9.051174746449123e-7,
          3.306826179045361e-7,
          0.0000022887835427241893,
          9.440780717536788e-7,
          2.995295237851456e-7,
          3.8182718568262563e-7,
          9.341422123445228e-7,
          0.0000016589747381280726,
          4.1553812509984507e-7,
          5.779071442183681e-7,
          0.000002313157646782575,
          0.000004046805033718959
         ],
         "showlegend": false,
         "subplot": "polar18",
         "theta": [
          "PF",
          "OC",
          "1°S",
          "T",
          "C",
          "1°S",
          "1°M",
          "PM",
          "P",
          "T",
          "C",
          "STN",
          "PU",
          "GP",
          "DN",
          "DN"
         ],
         "type": "scatterpolargl"
        },
        {
         "marker": {
          "color": "gold",
          "line": {
           "color": "black"
          }
         },
         "name": "TA_density,s6",
         "r": [
          2.129987724694369e-7,
          2.2948717271725817e-7,
          2.974673290001287e-7,
          3.710161831248617e-7,
          4.0939941398182367e-7,
          4.201273594854752e-7,
          0.0000013103152547615716,
          0.00000450980704635457,
          0.0000047121481139455265
         ],
         "showlegend": false,
         "subplot": "polar19",
         "theta": [
          "P",
          "T",
          "OC",
          "PU",
          "C",
          "PF",
          "PM",
          "1°M",
          "1°S"
         ],
         "type": "barpolar"
        },
        {
         "marker": {
          "color": "black",
          "size": 4
         },
         "mode": "markers",
         "name": "Stage 6",
         "r": [
          4.201273594854752e-7,
          2.974673290001287e-7,
          0.000009304883060314416,
          3.657374745120147e-7,
          5.79275183772744e-7,
          1.1941316757663804e-7,
          0.00000450980704635457,
          0.0000013103152547615716,
          2.129987724694369e-7,
          9.323687092250163e-8,
          2.395236441909033e-7,
          0,
          3.710161831248617e-7,
          0,
          0,
          0
         ],
         "showlegend": false,
         "subplot": "polar19",
         "theta": [
          "PF",
          "OC",
          "1°S",
          "T",
          "C",
          "1°S",
          "1°M",
          "PM",
          "P",
          "T",
          "C",
          "STN",
          "PU",
          "GP",
          "DN",
          "DN"
         ],
         "type": "scatterpolargl"
        },
        {
         "marker": {
          "color": "lightsalmon",
          "line": {
           "color": "black"
          }
         },
         "name": "Others_density,s6",
         "r": [
          0.00001018405148809643,
          0.000013879069607147307,
          0.000014604686281877284,
          0.000014887785884312564,
          0.000020201602326398155,
          0.00002880569645781426,
          0.00004770035843576131,
          0.00008481408527994378,
          0.00018648103288695,
          0.0001878642762666,
          0.0002353532024524,
          0.0006196270646908
         ],
         "showlegend": false,
         "subplot": "polar20",
         "theta": [
          "T",
          "C",
          "OC",
          "PF",
          "P",
          "PU",
          "PM",
          "1°S",
          "DN",
          "GP",
          "1°M",
          "STN"
         ],
         "type": "barpolar"
        },
        {
         "marker": {
          "color": "black",
          "size": 4
         },
         "mode": "markers",
         "name": "Stage 6",
         "r": [
          0.000014887785884312564,
          0.000014604686281877284,
          0.0001568647400716,
          0.00001568850002608254,
          0.00001927900220993664,
          0.00001276343048828758,
          0.0002353532024524,
          0.00004770035843576131,
          0.000020201602326398155,
          0.000004679602950110319,
          0.000008479137004357975,
          0.0006196270646908,
          0.00002880569645781426,
          0.0001878642762666,
          0.000189550418278,
          0.0001834116474959
         ],
         "showlegend": false,
         "subplot": "polar20",
         "theta": [
          "PF",
          "OC",
          "1°S",
          "T",
          "C",
          "1°S",
          "1°M",
          "PM",
          "P",
          "T",
          "C",
          "STN",
          "PU",
          "GP",
          "DN",
          "DN"
         ],
         "type": "scatterpolargl"
        }
       ],
       "layout": {
        "annotations": [
         {
          "font": {
           "color": "black",
           "size": 16
          },
          "showarrow": false,
          "text": "Stage 2",
          "x": 0.006249999999999992,
          "xanchor": "center",
          "xref": "paper",
          "y": 1,
          "yanchor": "bottom",
          "yref": "paper"
         },
         {
          "font": {
           "color": "black",
           "size": 16
          },
          "showarrow": false,
          "text": "NFT density",
          "x": 0.36875,
          "xanchor": "center",
          "xref": "paper",
          "y": 1.02,
          "yanchor": "bottom",
          "yref": "paper"
         },
         {
          "font": {
           "color": "black",
           "size": 16
          },
          "showarrow": false,
          "text": "TA density",
          "x": 0.6312500000000001,
          "xanchor": "center",
          "xref": "paper",
          "y": 1.02,
          "yanchor": "bottom",
          "yref": "paper"
         },
         {
          "font": {
           "color": "black",
           "size": 16
          },
          "showarrow": false,
          "text": "TF density ",
          "x": 0.89375,
          "xanchor": "center",
          "xref": "paper",
          "y": 1.02,
          "yanchor": "bottom",
          "yref": "paper"
         },
         {
          "font": {
           "color": "black",
           "size": 16
          },
          "showarrow": false,
          "text": "Stage 3",
          "x": 0.006249999999999992,
          "xanchor": "center",
          "xref": "paper",
          "y": 0.78,
          "yanchor": "bottom",
          "yref": "paper"
         },
         {
          "font": {
           "color": "black",
           "size": 16
          },
          "showarrow": false,
          "text": "CB density ",
          "x": 0.10625,
          "xanchor": "center",
          "xref": "paper",
          "y": 1.02,
          "yanchor": "bottom",
          "yref": "paper"
         },
         {
          "font": {
           "size": 16
          },
          "showarrow": false,
          "text": " ",
          "x": 0.6312500000000001,
          "xanchor": "center",
          "xref": "paper",
          "y": 0.78,
          "yanchor": "bottom",
          "yref": "paper"
         },
         {
          "font": {
           "size": 16
          },
          "showarrow": false,
          "text": " ",
          "x": 0.89375,
          "xanchor": "center",
          "xref": "paper",
          "y": 0.78,
          "yanchor": "bottom",
          "yref": "paper"
         },
         {
          "font": {
           "color": "black",
           "size": 16
          },
          "showarrow": false,
          "text": "Stage 4",
          "x": 0.006249999999999992,
          "xanchor": "center",
          "xref": "paper",
          "y": 0.56,
          "yanchor": "bottom",
          "yref": "paper"
         },
         {
          "font": {
           "size": 16
          },
          "showarrow": false,
          "text": " ",
          "x": 0.36875,
          "xanchor": "center",
          "xref": "paper",
          "y": 0.56,
          "yanchor": "bottom",
          "yref": "paper"
         },
         {
          "font": {
           "size": 16
          },
          "showarrow": false,
          "text": " ",
          "x": 0.6312500000000001,
          "xanchor": "center",
          "xref": "paper",
          "y": 0.56,
          "yanchor": "bottom",
          "yref": "paper"
         },
         {
          "font": {
           "size": 16
          },
          "showarrow": false,
          "text": " ",
          "x": 0.89375,
          "xanchor": "center",
          "xref": "paper",
          "y": 0.56,
          "yanchor": "bottom",
          "yref": "paper"
         },
         {
          "font": {
           "color": "black",
           "size": 16
          },
          "showarrow": false,
          "text": "Stage 5",
          "x": 0.006249999999999992,
          "xanchor": "center",
          "xref": "paper",
          "y": 0.33999999999999997,
          "yanchor": "bottom",
          "yref": "paper"
         },
         {
          "font": {
           "size": 16
          },
          "showarrow": false,
          "text": " ",
          "x": 0.36875,
          "xanchor": "center",
          "xref": "paper",
          "y": 0.33999999999999997,
          "yanchor": "bottom",
          "yref": "paper"
         },
         {
          "font": {
           "size": 16
          },
          "showarrow": false,
          "text": " ",
          "x": 0.6312500000000001,
          "xanchor": "center",
          "xref": "paper",
          "y": 0.33999999999999997,
          "yanchor": "bottom",
          "yref": "paper"
         },
         {
          "font": {
           "size": 16
          },
          "showarrow": false,
          "text": " ",
          "x": 0.89375,
          "xanchor": "center",
          "xref": "paper",
          "y": 0.33999999999999997,
          "yanchor": "bottom",
          "yref": "paper"
         },
         {
          "font": {
           "color": "black",
           "size": 16
          },
          "showarrow": false,
          "text": "Stage 6",
          "x": 0.006249999999999992,
          "xanchor": "center",
          "xref": "paper",
          "y": 0.12,
          "yanchor": "bottom",
          "yref": "paper"
         },
         {
          "font": {
           "size": 16
          },
          "showarrow": false,
          "text": " ",
          "x": 0.36875,
          "xanchor": "center",
          "xref": "paper",
          "y": 0.12,
          "yanchor": "bottom",
          "yref": "paper"
         },
         {
          "font": {
           "size": 16
          },
          "showarrow": false,
          "text": " ",
          "x": 0.6312500000000001,
          "xanchor": "center",
          "xref": "paper",
          "y": 0.12,
          "yanchor": "bottom",
          "yref": "paper"
         },
         {
          "font": {
           "size": 16
          },
          "showarrow": false,
          "text": " ",
          "x": 0.89375,
          "xanchor": "center",
          "xref": "paper",
          "y": 0.12,
          "yanchor": "bottom",
          "yref": "paper"
         }
        ],
        "height": 2000,
        "polar": {
         "angularaxis": {
          "categoryarray": [
           "STN",
           "GP",
           "PU",
           "DN",
           "PF",
           "PM",
           "1°M",
           "1°S",
           "T",
           "P",
           "OC",
           "C"
          ],
          "color": "black",
          "tickfont": {
           "size": 15
          }
         },
         "domain": {
          "x": [
           0,
           0.2125
          ],
          "y": [
           0.88,
           1
          ]
         },
         "radialaxis": {
          "dtick": 1,
          "range": [
           -8.540450438118222,
           -2.581760531304333
          ],
          "showticklabels": true,
          "tickangle": 90,
          "ticks": "outside",
          "type": "log"
         }
        },
        "polar10": {
         "angularaxis": {
          "categoryarray": [
           "STN",
           "GP",
           "PU",
           "DN",
           "PF",
           "PM",
           "1°M",
           "1°S",
           "T",
           "P",
           "OC",
           "C"
          ],
          "color": "black",
          "tickfont": {
           "size": 15
          }
         },
         "domain": {
          "x": [
           0.2625,
           0.475
          ],
          "y": [
           0.44,
           0.56
          ]
         },
         "radialaxis": {
          "dtick": 1,
          "range": [
           -8.540450438118222,
           -2.581760531304333
          ],
          "showticklabels": true,
          "tickangle": 90,
          "ticks": "outside",
          "type": "log"
         }
        },
        "polar11": {
         "angularaxis": {
          "categoryarray": [
           "STN",
           "GP",
           "PU",
           "DN",
           "PF",
           "PM",
           "1°M",
           "1°S",
           "T",
           "P",
           "OC",
           "C"
          ],
          "color": "black",
          "tickfont": {
           "size": 15
          }
         },
         "domain": {
          "x": [
           0.525,
           0.7375
          ],
          "y": [
           0.44,
           0.56
          ]
         },
         "radialaxis": {
          "dtick": 1,
          "range": [
           -8.540450438118222,
           -2.581760531304333
          ],
          "showticklabels": true,
          "tickangle": 90,
          "ticks": "outside",
          "type": "log"
         }
        },
        "polar12": {
         "angularaxis": {
          "categoryarray": [
           "STN",
           "GP",
           "PU",
           "DN",
           "PF",
           "PM",
           "1°M",
           "1°S",
           "T",
           "P",
           "OC",
           "C"
          ],
          "color": "black",
          "tickfont": {
           "size": 15
          }
         },
         "domain": {
          "x": [
           0.7875,
           1
          ],
          "y": [
           0.44,
           0.56
          ]
         },
         "radialaxis": {
          "dtick": 1,
          "range": [
           -8.540450438118222,
           -2.581760531304333
          ],
          "showticklabels": true,
          "tickangle": 90,
          "ticks": "outside",
          "type": "log"
         }
        },
        "polar13": {
         "angularaxis": {
          "categoryarray": [
           "STN",
           "GP",
           "PU",
           "DN",
           "PF",
           "PM",
           "1°M",
           "1°S",
           "T",
           "P",
           "OC",
           "C"
          ],
          "color": "black",
          "tickfont": {
           "size": 15
          }
         },
         "domain": {
          "x": [
           0,
           0.2125
          ],
          "y": [
           0.22,
           0.33999999999999997
          ]
         },
         "radialaxis": {
          "dtick": 1,
          "range": [
           -8.540450438118222,
           -2.581760531304333
          ],
          "showticklabels": true,
          "tickangle": 90,
          "ticks": "outside",
          "type": "log"
         }
        },
        "polar14": {
         "angularaxis": {
          "categoryarray": [
           "STN",
           "GP",
           "PU",
           "DN",
           "PF",
           "PM",
           "1°M",
           "1°S",
           "T",
           "P",
           "OC",
           "C"
          ],
          "color": "black",
          "tickfont": {
           "size": 15
          }
         },
         "domain": {
          "x": [
           0.2625,
           0.475
          ],
          "y": [
           0.22,
           0.33999999999999997
          ]
         },
         "radialaxis": {
          "dtick": 1,
          "range": [
           -8.540450438118222,
           -2.581760531304333
          ],
          "showticklabels": true,
          "tickangle": 90,
          "ticks": "outside",
          "type": "log"
         }
        },
        "polar15": {
         "angularaxis": {
          "categoryarray": [
           "STN",
           "GP",
           "PU",
           "DN",
           "PF",
           "PM",
           "1°M",
           "1°S",
           "T",
           "P",
           "OC",
           "C"
          ],
          "color": "black",
          "tickfont": {
           "size": 15
          }
         },
         "domain": {
          "x": [
           0.525,
           0.7375
          ],
          "y": [
           0.22,
           0.33999999999999997
          ]
         },
         "radialaxis": {
          "dtick": 1,
          "range": [
           -8.540450438118222,
           -2.581760531304333
          ],
          "showticklabels": true,
          "tickangle": 90,
          "ticks": "outside",
          "type": "log"
         }
        },
        "polar16": {
         "angularaxis": {
          "categoryarray": [
           "STN",
           "GP",
           "PU",
           "DN",
           "PF",
           "PM",
           "1°M",
           "1°S",
           "T",
           "P",
           "OC",
           "C"
          ],
          "color": "black",
          "tickfont": {
           "size": 15
          }
         },
         "domain": {
          "x": [
           0.7875,
           1
          ],
          "y": [
           0.22,
           0.33999999999999997
          ]
         },
         "radialaxis": {
          "dtick": 1,
          "range": [
           -8.540450438118222,
           -2.581760531304333
          ],
          "showticklabels": true,
          "tickangle": 90,
          "ticks": "outside",
          "type": "log"
         }
        },
        "polar17": {
         "angularaxis": {
          "categoryarray": [
           "STN",
           "GP",
           "PU",
           "DN",
           "PF",
           "PM",
           "1°M",
           "1°S",
           "T",
           "P",
           "OC",
           "C"
          ],
          "color": "black",
          "tickfont": {
           "size": 15
          }
         },
         "domain": {
          "x": [
           0,
           0.2125
          ],
          "y": [
           0,
           0.12
          ]
         },
         "radialaxis": {
          "dtick": 1,
          "range": [
           -8.540450438118222,
           -2.581760531304333
          ],
          "showticklabels": true,
          "tickangle": 90,
          "ticks": "outside",
          "type": "log"
         }
        },
        "polar18": {
         "angularaxis": {
          "categoryarray": [
           "STN",
           "GP",
           "PU",
           "DN",
           "PF",
           "PM",
           "1°M",
           "1°S",
           "T",
           "P",
           "OC",
           "C"
          ],
          "color": "black",
          "tickfont": {
           "size": 15
          }
         },
         "domain": {
          "x": [
           0.2625,
           0.475
          ],
          "y": [
           0,
           0.12
          ]
         },
         "radialaxis": {
          "dtick": 1,
          "range": [
           -8.540450438118222,
           -2.581760531304333
          ],
          "showticklabels": true,
          "tickangle": 90,
          "ticks": "outside",
          "type": "log"
         }
        },
        "polar19": {
         "angularaxis": {
          "categoryarray": [
           "STN",
           "GP",
           "PU",
           "DN",
           "PF",
           "PM",
           "1°M",
           "1°S",
           "T",
           "P",
           "OC",
           "C"
          ],
          "color": "black",
          "tickfont": {
           "size": 15
          }
         },
         "domain": {
          "x": [
           0.525,
           0.7375
          ],
          "y": [
           0,
           0.12
          ]
         },
         "radialaxis": {
          "dtick": 1,
          "range": [
           -8.540450438118222,
           -2.581760531304333
          ],
          "showticklabels": true,
          "tickangle": 90,
          "ticks": "outside",
          "type": "log"
         }
        },
        "polar2": {
         "angularaxis": {
          "categoryarray": [
           "STN",
           "GP",
           "PU",
           "DN",
           "PF",
           "PM",
           "1°M",
           "1°S",
           "T",
           "P",
           "OC",
           "C"
          ],
          "color": "black",
          "tickfont": {
           "size": 15
          }
         },
         "domain": {
          "x": [
           0.2625,
           0.475
          ],
          "y": [
           0.88,
           1
          ]
         },
         "radialaxis": {
          "dtick": 1,
          "range": [
           -8.540450438118222,
           -2.581760531304333
          ],
          "showticklabels": true,
          "tickangle": 90,
          "ticks": "outside",
          "type": "log"
         }
        },
        "polar20": {
         "angularaxis": {
          "categoryarray": [
           "STN",
           "GP",
           "PU",
           "DN",
           "PF",
           "PM",
           "1°M",
           "1°S",
           "T",
           "P",
           "OC",
           "C"
          ],
          "color": "black",
          "tickfont": {
           "size": 15
          }
         },
         "domain": {
          "x": [
           0.7875,
           1
          ],
          "y": [
           0,
           0.12
          ]
         },
         "radialaxis": {
          "dtick": 1,
          "range": [
           -8.540450438118222,
           -2.581760531304333
          ],
          "showticklabels": true,
          "tickangle": 90,
          "ticks": "outside",
          "type": "log"
         }
        },
        "polar3": {
         "angularaxis": {
          "categoryarray": [
           "STN",
           "GP",
           "PU",
           "DN",
           "PF",
           "PM",
           "1°M",
           "1°S",
           "T",
           "P",
           "OC",
           "C"
          ],
          "color": "black",
          "tickfont": {
           "size": 15
          }
         },
         "domain": {
          "x": [
           0.525,
           0.7375
          ],
          "y": [
           0.88,
           1
          ]
         },
         "radialaxis": {
          "dtick": 1,
          "range": [
           -8.540450438118222,
           -2.581760531304333
          ],
          "showticklabels": true,
          "tickangle": 90,
          "ticks": "outside",
          "type": "log"
         }
        },
        "polar4": {
         "angularaxis": {
          "categoryarray": [
           "STN",
           "GP",
           "PU",
           "DN",
           "PF",
           "PM",
           "1°M",
           "1°S",
           "T",
           "P",
           "OC",
           "C"
          ],
          "color": "black",
          "tickfont": {
           "size": 15
          }
         },
         "domain": {
          "x": [
           0.7875,
           1
          ],
          "y": [
           0.88,
           1
          ]
         },
         "radialaxis": {
          "dtick": 1,
          "range": [
           -8.540450438118222,
           -2.581760531304333
          ],
          "showticklabels": true,
          "tickangle": 90,
          "ticks": "outside",
          "type": "log"
         }
        },
        "polar5": {
         "angularaxis": {
          "categoryarray": [
           "STN",
           "GP",
           "PU",
           "DN",
           "PF",
           "PM",
           "1°M",
           "1°S",
           "T",
           "P",
           "OC",
           "C"
          ],
          "color": "black",
          "tickfont": {
           "size": 15
          }
         },
         "domain": {
          "x": [
           0,
           0.2125
          ],
          "y": [
           0.66,
           0.78
          ]
         },
         "radialaxis": {
          "dtick": 1,
          "range": [
           -8.540450438118222,
           -2.581760531304333
          ],
          "showticklabels": true,
          "tickangle": 90,
          "ticks": "outside",
          "type": "log"
         }
        },
        "polar6": {
         "angularaxis": {
          "categoryarray": [
           "STN",
           "GP",
           "PU",
           "DN",
           "PF",
           "PM",
           "1°M",
           "1°S",
           "T",
           "P",
           "OC",
           "C"
          ],
          "color": "black",
          "tickfont": {
           "size": 15
          }
         },
         "domain": {
          "x": [
           0.2625,
           0.475
          ],
          "y": [
           0.66,
           0.78
          ]
         },
         "radialaxis": {
          "dtick": 1,
          "range": [
           -8.540450438118222,
           -2.581760531304333
          ],
          "showticklabels": true,
          "tickangle": 90,
          "ticks": "outside",
          "type": "log"
         }
        },
        "polar7": {
         "angularaxis": {
          "categoryarray": [
           "STN",
           "GP",
           "PU",
           "DN",
           "PF",
           "PM",
           "1°M",
           "1°S",
           "T",
           "P",
           "OC",
           "C"
          ],
          "color": "black",
          "tickfont": {
           "size": 15
          }
         },
         "domain": {
          "x": [
           0.525,
           0.7375
          ],
          "y": [
           0.66,
           0.78
          ]
         },
         "radialaxis": {
          "dtick": 1,
          "range": [
           -8.540450438118222,
           -2.581760531304333
          ],
          "showticklabels": true,
          "tickangle": 90,
          "ticks": "outside",
          "type": "log"
         }
        },
        "polar8": {
         "angularaxis": {
          "categoryarray": [
           "STN",
           "GP",
           "PU",
           "DN",
           "PF",
           "PM",
           "1°M",
           "1°S",
           "T",
           "P",
           "OC",
           "C"
          ],
          "color": "black",
          "tickfont": {
           "size": 15
          }
         },
         "domain": {
          "x": [
           0.7875,
           1
          ],
          "y": [
           0.66,
           0.78
          ]
         },
         "radialaxis": {
          "dtick": 1,
          "range": [
           -8.540450438118222,
           -2.581760531304333
          ],
          "showticklabels": true,
          "tickangle": 90,
          "ticks": "outside",
          "type": "log"
         }
        },
        "polar9": {
         "angularaxis": {
          "categoryarray": [
           "STN",
           "GP",
           "PU",
           "DN",
           "PF",
           "PM",
           "1°M",
           "1°S",
           "T",
           "P",
           "OC",
           "C"
          ],
          "color": "black",
          "tickfont": {
           "size": 15
          }
         },
         "domain": {
          "x": [
           0,
           0.2125
          ],
          "y": [
           0.44,
           0.56
          ]
         },
         "radialaxis": {
          "dtick": 1,
          "range": [
           -8.540450438118222,
           -2.581760531304333
          ],
          "showticklabels": true,
          "tickangle": 90,
          "ticks": "outside",
          "type": "log"
         }
        },
        "template": {
         "data": {
          "bar": [
           {
            "error_x": {
             "color": "#2a3f5f"
            },
            "error_y": {
             "color": "#2a3f5f"
            },
            "marker": {
             "line": {
              "color": "#E5ECF6",
              "width": 0.5
             },
             "pattern": {
              "fillmode": "overlay",
              "size": 10,
              "solidity": 0.2
             }
            },
            "type": "bar"
           }
          ],
          "barpolar": [
           {
            "marker": {
             "line": {
              "color": "#E5ECF6",
              "width": 0.5
             },
             "pattern": {
              "fillmode": "overlay",
              "size": 10,
              "solidity": 0.2
             }
            },
            "type": "barpolar"
           }
          ],
          "carpet": [
           {
            "aaxis": {
             "endlinecolor": "#2a3f5f",
             "gridcolor": "white",
             "linecolor": "white",
             "minorgridcolor": "white",
             "startlinecolor": "#2a3f5f"
            },
            "baxis": {
             "endlinecolor": "#2a3f5f",
             "gridcolor": "white",
             "linecolor": "white",
             "minorgridcolor": "white",
             "startlinecolor": "#2a3f5f"
            },
            "type": "carpet"
           }
          ],
          "choropleth": [
           {
            "colorbar": {
             "outlinewidth": 0,
             "ticks": ""
            },
            "type": "choropleth"
           }
          ],
          "contour": [
           {
            "colorbar": {
             "outlinewidth": 0,
             "ticks": ""
            },
            "colorscale": [
             [
              0,
              "#0d0887"
             ],
             [
              0.1111111111111111,
              "#46039f"
             ],
             [
              0.2222222222222222,
              "#7201a8"
             ],
             [
              0.3333333333333333,
              "#9c179e"
             ],
             [
              0.4444444444444444,
              "#bd3786"
             ],
             [
              0.5555555555555556,
              "#d8576b"
             ],
             [
              0.6666666666666666,
              "#ed7953"
             ],
             [
              0.7777777777777778,
              "#fb9f3a"
             ],
             [
              0.8888888888888888,
              "#fdca26"
             ],
             [
              1,
              "#f0f921"
             ]
            ],
            "type": "contour"
           }
          ],
          "contourcarpet": [
           {
            "colorbar": {
             "outlinewidth": 0,
             "ticks": ""
            },
            "type": "contourcarpet"
           }
          ],
          "heatmap": [
           {
            "colorbar": {
             "outlinewidth": 0,
             "ticks": ""
            },
            "colorscale": [
             [
              0,
              "#0d0887"
             ],
             [
              0.1111111111111111,
              "#46039f"
             ],
             [
              0.2222222222222222,
              "#7201a8"
             ],
             [
              0.3333333333333333,
              "#9c179e"
             ],
             [
              0.4444444444444444,
              "#bd3786"
             ],
             [
              0.5555555555555556,
              "#d8576b"
             ],
             [
              0.6666666666666666,
              "#ed7953"
             ],
             [
              0.7777777777777778,
              "#fb9f3a"
             ],
             [
              0.8888888888888888,
              "#fdca26"
             ],
             [
              1,
              "#f0f921"
             ]
            ],
            "type": "heatmap"
           }
          ],
          "heatmapgl": [
           {
            "colorbar": {
             "outlinewidth": 0,
             "ticks": ""
            },
            "colorscale": [
             [
              0,
              "#0d0887"
             ],
             [
              0.1111111111111111,
              "#46039f"
             ],
             [
              0.2222222222222222,
              "#7201a8"
             ],
             [
              0.3333333333333333,
              "#9c179e"
             ],
             [
              0.4444444444444444,
              "#bd3786"
             ],
             [
              0.5555555555555556,
              "#d8576b"
             ],
             [
              0.6666666666666666,
              "#ed7953"
             ],
             [
              0.7777777777777778,
              "#fb9f3a"
             ],
             [
              0.8888888888888888,
              "#fdca26"
             ],
             [
              1,
              "#f0f921"
             ]
            ],
            "type": "heatmapgl"
           }
          ],
          "histogram": [
           {
            "marker": {
             "pattern": {
              "fillmode": "overlay",
              "size": 10,
              "solidity": 0.2
             }
            },
            "type": "histogram"
           }
          ],
          "histogram2d": [
           {
            "colorbar": {
             "outlinewidth": 0,
             "ticks": ""
            },
            "colorscale": [
             [
              0,
              "#0d0887"
             ],
             [
              0.1111111111111111,
              "#46039f"
             ],
             [
              0.2222222222222222,
              "#7201a8"
             ],
             [
              0.3333333333333333,
              "#9c179e"
             ],
             [
              0.4444444444444444,
              "#bd3786"
             ],
             [
              0.5555555555555556,
              "#d8576b"
             ],
             [
              0.6666666666666666,
              "#ed7953"
             ],
             [
              0.7777777777777778,
              "#fb9f3a"
             ],
             [
              0.8888888888888888,
              "#fdca26"
             ],
             [
              1,
              "#f0f921"
             ]
            ],
            "type": "histogram2d"
           }
          ],
          "histogram2dcontour": [
           {
            "colorbar": {
             "outlinewidth": 0,
             "ticks": ""
            },
            "colorscale": [
             [
              0,
              "#0d0887"
             ],
             [
              0.1111111111111111,
              "#46039f"
             ],
             [
              0.2222222222222222,
              "#7201a8"
             ],
             [
              0.3333333333333333,
              "#9c179e"
             ],
             [
              0.4444444444444444,
              "#bd3786"
             ],
             [
              0.5555555555555556,
              "#d8576b"
             ],
             [
              0.6666666666666666,
              "#ed7953"
             ],
             [
              0.7777777777777778,
              "#fb9f3a"
             ],
             [
              0.8888888888888888,
              "#fdca26"
             ],
             [
              1,
              "#f0f921"
             ]
            ],
            "type": "histogram2dcontour"
           }
          ],
          "mesh3d": [
           {
            "colorbar": {
             "outlinewidth": 0,
             "ticks": ""
            },
            "type": "mesh3d"
           }
          ],
          "parcoords": [
           {
            "line": {
             "colorbar": {
              "outlinewidth": 0,
              "ticks": ""
             }
            },
            "type": "parcoords"
           }
          ],
          "pie": [
           {
            "automargin": true,
            "type": "pie"
           }
          ],
          "scatter": [
           {
            "fillpattern": {
             "fillmode": "overlay",
             "size": 10,
             "solidity": 0.2
            },
            "type": "scatter"
           }
          ],
          "scatter3d": [
           {
            "line": {
             "colorbar": {
              "outlinewidth": 0,
              "ticks": ""
             }
            },
            "marker": {
             "colorbar": {
              "outlinewidth": 0,
              "ticks": ""
             }
            },
            "type": "scatter3d"
           }
          ],
          "scattercarpet": [
           {
            "marker": {
             "colorbar": {
              "outlinewidth": 0,
              "ticks": ""
             }
            },
            "type": "scattercarpet"
           }
          ],
          "scattergeo": [
           {
            "marker": {
             "colorbar": {
              "outlinewidth": 0,
              "ticks": ""
             }
            },
            "type": "scattergeo"
           }
          ],
          "scattergl": [
           {
            "marker": {
             "colorbar": {
              "outlinewidth": 0,
              "ticks": ""
             }
            },
            "type": "scattergl"
           }
          ],
          "scattermapbox": [
           {
            "marker": {
             "colorbar": {
              "outlinewidth": 0,
              "ticks": ""
             }
            },
            "type": "scattermapbox"
           }
          ],
          "scatterpolar": [
           {
            "marker": {
             "colorbar": {
              "outlinewidth": 0,
              "ticks": ""
             }
            },
            "type": "scatterpolar"
           }
          ],
          "scatterpolargl": [
           {
            "marker": {
             "colorbar": {
              "outlinewidth": 0,
              "ticks": ""
             }
            },
            "type": "scatterpolargl"
           }
          ],
          "scatterternary": [
           {
            "marker": {
             "colorbar": {
              "outlinewidth": 0,
              "ticks": ""
             }
            },
            "type": "scatterternary"
           }
          ],
          "surface": [
           {
            "colorbar": {
             "outlinewidth": 0,
             "ticks": ""
            },
            "colorscale": [
             [
              0,
              "#0d0887"
             ],
             [
              0.1111111111111111,
              "#46039f"
             ],
             [
              0.2222222222222222,
              "#7201a8"
             ],
             [
              0.3333333333333333,
              "#9c179e"
             ],
             [
              0.4444444444444444,
              "#bd3786"
             ],
             [
              0.5555555555555556,
              "#d8576b"
             ],
             [
              0.6666666666666666,
              "#ed7953"
             ],
             [
              0.7777777777777778,
              "#fb9f3a"
             ],
             [
              0.8888888888888888,
              "#fdca26"
             ],
             [
              1,
              "#f0f921"
             ]
            ],
            "type": "surface"
           }
          ],
          "table": [
           {
            "cells": {
             "fill": {
              "color": "#EBF0F8"
             },
             "line": {
              "color": "white"
             }
            },
            "header": {
             "fill": {
              "color": "#C8D4E3"
             },
             "line": {
              "color": "white"
             }
            },
            "type": "table"
           }
          ]
         },
         "layout": {
          "annotationdefaults": {
           "arrowcolor": "#2a3f5f",
           "arrowhead": 0,
           "arrowwidth": 1
          },
          "autotypenumbers": "strict",
          "coloraxis": {
           "colorbar": {
            "outlinewidth": 0,
            "ticks": ""
           }
          },
          "colorscale": {
           "diverging": [
            [
             0,
             "#8e0152"
            ],
            [
             0.1,
             "#c51b7d"
            ],
            [
             0.2,
             "#de77ae"
            ],
            [
             0.3,
             "#f1b6da"
            ],
            [
             0.4,
             "#fde0ef"
            ],
            [
             0.5,
             "#f7f7f7"
            ],
            [
             0.6,
             "#e6f5d0"
            ],
            [
             0.7,
             "#b8e186"
            ],
            [
             0.8,
             "#7fbc41"
            ],
            [
             0.9,
             "#4d9221"
            ],
            [
             1,
             "#276419"
            ]
           ],
           "sequential": [
            [
             0,
             "#0d0887"
            ],
            [
             0.1111111111111111,
             "#46039f"
            ],
            [
             0.2222222222222222,
             "#7201a8"
            ],
            [
             0.3333333333333333,
             "#9c179e"
            ],
            [
             0.4444444444444444,
             "#bd3786"
            ],
            [
             0.5555555555555556,
             "#d8576b"
            ],
            [
             0.6666666666666666,
             "#ed7953"
            ],
            [
             0.7777777777777778,
             "#fb9f3a"
            ],
            [
             0.8888888888888888,
             "#fdca26"
            ],
            [
             1,
             "#f0f921"
            ]
           ],
           "sequentialminus": [
            [
             0,
             "#0d0887"
            ],
            [
             0.1111111111111111,
             "#46039f"
            ],
            [
             0.2222222222222222,
             "#7201a8"
            ],
            [
             0.3333333333333333,
             "#9c179e"
            ],
            [
             0.4444444444444444,
             "#bd3786"
            ],
            [
             0.5555555555555556,
             "#d8576b"
            ],
            [
             0.6666666666666666,
             "#ed7953"
            ],
            [
             0.7777777777777778,
             "#fb9f3a"
            ],
            [
             0.8888888888888888,
             "#fdca26"
            ],
            [
             1,
             "#f0f921"
            ]
           ]
          },
          "colorway": [
           "#636efa",
           "#EF553B",
           "#00cc96",
           "#ab63fa",
           "#FFA15A",
           "#19d3f3",
           "#FF6692",
           "#B6E880",
           "#FF97FF",
           "#FECB52"
          ],
          "font": {
           "color": "#2a3f5f"
          },
          "geo": {
           "bgcolor": "white",
           "lakecolor": "white",
           "landcolor": "#E5ECF6",
           "showlakes": true,
           "showland": true,
           "subunitcolor": "white"
          },
          "hoverlabel": {
           "align": "left"
          },
          "hovermode": "closest",
          "mapbox": {
           "style": "light"
          },
          "paper_bgcolor": "white",
          "plot_bgcolor": "#E5ECF6",
          "polar": {
           "angularaxis": {
            "gridcolor": "white",
            "linecolor": "white",
            "ticks": ""
           },
           "bgcolor": "#E5ECF6",
           "radialaxis": {
            "gridcolor": "white",
            "linecolor": "white",
            "ticks": ""
           }
          },
          "scene": {
           "xaxis": {
            "backgroundcolor": "#E5ECF6",
            "gridcolor": "white",
            "gridwidth": 2,
            "linecolor": "white",
            "showbackground": true,
            "ticks": "",
            "zerolinecolor": "white"
           },
           "yaxis": {
            "backgroundcolor": "#E5ECF6",
            "gridcolor": "white",
            "gridwidth": 2,
            "linecolor": "white",
            "showbackground": true,
            "ticks": "",
            "zerolinecolor": "white"
           },
           "zaxis": {
            "backgroundcolor": "#E5ECF6",
            "gridcolor": "white",
            "gridwidth": 2,
            "linecolor": "white",
            "showbackground": true,
            "ticks": "",
            "zerolinecolor": "white"
           }
          },
          "shapedefaults": {
           "line": {
            "color": "#2a3f5f"
           }
          },
          "ternary": {
           "aaxis": {
            "gridcolor": "white",
            "linecolor": "white",
            "ticks": ""
           },
           "baxis": {
            "gridcolor": "white",
            "linecolor": "white",
            "ticks": ""
           },
           "bgcolor": "#E5ECF6",
           "caxis": {
            "gridcolor": "white",
            "linecolor": "white",
            "ticks": ""
           }
          },
          "title": {
           "x": 0.05
          },
          "xaxis": {
           "automargin": true,
           "gridcolor": "white",
           "linecolor": "white",
           "ticks": "",
           "title": {
            "standoff": 15
           },
           "zerolinecolor": "white",
           "zerolinewidth": 2
          },
          "yaxis": {
           "automargin": true,
           "gridcolor": "white",
           "linecolor": "white",
           "ticks": "",
           "title": {
            "standoff": 15
           },
           "zerolinecolor": "white",
           "zerolinewidth": 2
          }
         }
        },
        "title": {
         "text": ""
        },
        "width": 2000
       }
      }
     },
     "metadata": {},
     "output_type": "display_data"
    }
   ],
   "source": [
    "together_plot = polar_plot_together(dict_subset=psp_stage_dict,\n",
    "                         list_dict_mean=[mean_CB_dict,\n",
    "                                         mean_NFT_dict,\n",
    "                                         mean_TA_dict,\n",
    "                                         mean_Others_dict],\n",
    "\n",
    "                         list_tau_type=['CB_density',\n",
    "                                        'NFT_density',\n",
    "                                        'TA_density',\n",
    "                                        'Others_density'],\n",
    "                         min_tau_type='TA_density',\n",
    "                         max_tau_type='Others_density',\n",
    "                         val_add=0.002,\n",
    "                         anatomical_order=anatomical_order,\n",
    "                         tau_marker_colors=['forestgreen','lightcoral','gold','lightsalmon'],\n",
    "                         marker_color='',\n",
    "                         marker_line_color='black',\n",
    "                        title='',\n",
    "                        tick_label=True,\n",
    "                        fig_height=2000,\n",
    "                        fig_width=2000,\n",
    "                        tickangle_val=90)\n",
    "together_plot.show()"
   ]
  },
  {
   "cell_type": "code",
   "execution_count": 36,
   "metadata": {},
   "outputs": [
    {
     "data": {
      "text/plain": [
       "[layout.Annotation({\n",
       "     'font': {'color': 'black', 'size': 16},\n",
       "     'showarrow': False,\n",
       "     'text': 'Stage 2',\n",
       "     'x': 0.006249999999999992,\n",
       "     'xanchor': 'center',\n",
       "     'xref': 'paper',\n",
       "     'y': 1.0,\n",
       "     'yanchor': 'bottom',\n",
       "     'yref': 'paper'\n",
       " }),\n",
       " layout.Annotation({\n",
       "     'font': {'color': 'black', 'size': 16},\n",
       "     'showarrow': False,\n",
       "     'text': 'NFT density',\n",
       "     'x': 0.36875,\n",
       "     'xanchor': 'center',\n",
       "     'xref': 'paper',\n",
       "     'y': 1.02,\n",
       "     'yanchor': 'bottom',\n",
       "     'yref': 'paper'\n",
       " }),\n",
       " layout.Annotation({\n",
       "     'font': {'color': 'black', 'size': 16},\n",
       "     'showarrow': False,\n",
       "     'text': 'TA density',\n",
       "     'x': 0.6312500000000001,\n",
       "     'xanchor': 'center',\n",
       "     'xref': 'paper',\n",
       "     'y': 1.02,\n",
       "     'yanchor': 'bottom',\n",
       "     'yref': 'paper'\n",
       " }),\n",
       " layout.Annotation({\n",
       "     'font': {'color': 'black', 'size': 16},\n",
       "     'showarrow': False,\n",
       "     'text': 'TF density ',\n",
       "     'x': 0.89375,\n",
       "     'xanchor': 'center',\n",
       "     'xref': 'paper',\n",
       "     'y': 1.02,\n",
       "     'yanchor': 'bottom',\n",
       "     'yref': 'paper'\n",
       " }),\n",
       " layout.Annotation({\n",
       "     'font': {'color': 'black', 'size': 16},\n",
       "     'showarrow': False,\n",
       "     'text': 'Stage 3',\n",
       "     'x': 0.006249999999999992,\n",
       "     'xanchor': 'center',\n",
       "     'xref': 'paper',\n",
       "     'y': 0.78,\n",
       "     'yanchor': 'bottom',\n",
       "     'yref': 'paper'\n",
       " }),\n",
       " layout.Annotation({\n",
       "     'font': {'color': 'black', 'size': 16},\n",
       "     'showarrow': False,\n",
       "     'text': 'CB density ',\n",
       "     'x': 0.10625,\n",
       "     'xanchor': 'center',\n",
       "     'xref': 'paper',\n",
       "     'y': 1.02,\n",
       "     'yanchor': 'bottom',\n",
       "     'yref': 'paper'\n",
       " }),\n",
       " layout.Annotation({\n",
       "     'font': {'size': 16},\n",
       "     'showarrow': False,\n",
       "     'text': ' ',\n",
       "     'x': 0.6312500000000001,\n",
       "     'xanchor': 'center',\n",
       "     'xref': 'paper',\n",
       "     'y': 0.78,\n",
       "     'yanchor': 'bottom',\n",
       "     'yref': 'paper'\n",
       " }),\n",
       " layout.Annotation({\n",
       "     'font': {'size': 16},\n",
       "     'showarrow': False,\n",
       "     'text': ' ',\n",
       "     'x': 0.89375,\n",
       "     'xanchor': 'center',\n",
       "     'xref': 'paper',\n",
       "     'y': 0.78,\n",
       "     'yanchor': 'bottom',\n",
       "     'yref': 'paper'\n",
       " }),\n",
       " layout.Annotation({\n",
       "     'font': {'color': 'black', 'size': 16},\n",
       "     'showarrow': False,\n",
       "     'text': 'Stage 4',\n",
       "     'x': 0.006249999999999992,\n",
       "     'xanchor': 'center',\n",
       "     'xref': 'paper',\n",
       "     'y': 0.56,\n",
       "     'yanchor': 'bottom',\n",
       "     'yref': 'paper'\n",
       " }),\n",
       " layout.Annotation({\n",
       "     'font': {'size': 16},\n",
       "     'showarrow': False,\n",
       "     'text': ' ',\n",
       "     'x': 0.36875,\n",
       "     'xanchor': 'center',\n",
       "     'xref': 'paper',\n",
       "     'y': 0.56,\n",
       "     'yanchor': 'bottom',\n",
       "     'yref': 'paper'\n",
       " }),\n",
       " layout.Annotation({\n",
       "     'font': {'size': 16},\n",
       "     'showarrow': False,\n",
       "     'text': ' ',\n",
       "     'x': 0.6312500000000001,\n",
       "     'xanchor': 'center',\n",
       "     'xref': 'paper',\n",
       "     'y': 0.56,\n",
       "     'yanchor': 'bottom',\n",
       "     'yref': 'paper'\n",
       " }),\n",
       " layout.Annotation({\n",
       "     'font': {'size': 16},\n",
       "     'showarrow': False,\n",
       "     'text': ' ',\n",
       "     'x': 0.89375,\n",
       "     'xanchor': 'center',\n",
       "     'xref': 'paper',\n",
       "     'y': 0.56,\n",
       "     'yanchor': 'bottom',\n",
       "     'yref': 'paper'\n",
       " }),\n",
       " layout.Annotation({\n",
       "     'font': {'color': 'black', 'size': 16},\n",
       "     'showarrow': False,\n",
       "     'text': 'Stage 5',\n",
       "     'x': 0.006249999999999992,\n",
       "     'xanchor': 'center',\n",
       "     'xref': 'paper',\n",
       "     'y': 0.33999999999999997,\n",
       "     'yanchor': 'bottom',\n",
       "     'yref': 'paper'\n",
       " }),\n",
       " layout.Annotation({\n",
       "     'font': {'size': 16},\n",
       "     'showarrow': False,\n",
       "     'text': ' ',\n",
       "     'x': 0.36875,\n",
       "     'xanchor': 'center',\n",
       "     'xref': 'paper',\n",
       "     'y': 0.33999999999999997,\n",
       "     'yanchor': 'bottom',\n",
       "     'yref': 'paper'\n",
       " }),\n",
       " layout.Annotation({\n",
       "     'font': {'size': 16},\n",
       "     'showarrow': False,\n",
       "     'text': ' ',\n",
       "     'x': 0.6312500000000001,\n",
       "     'xanchor': 'center',\n",
       "     'xref': 'paper',\n",
       "     'y': 0.33999999999999997,\n",
       "     'yanchor': 'bottom',\n",
       "     'yref': 'paper'\n",
       " }),\n",
       " layout.Annotation({\n",
       "     'font': {'size': 16},\n",
       "     'showarrow': False,\n",
       "     'text': ' ',\n",
       "     'x': 0.89375,\n",
       "     'xanchor': 'center',\n",
       "     'xref': 'paper',\n",
       "     'y': 0.33999999999999997,\n",
       "     'yanchor': 'bottom',\n",
       "     'yref': 'paper'\n",
       " }),\n",
       " layout.Annotation({\n",
       "     'font': {'color': 'black', 'size': 16},\n",
       "     'showarrow': False,\n",
       "     'text': 'Stage 6',\n",
       "     'x': 0.006249999999999992,\n",
       "     'xanchor': 'center',\n",
       "     'xref': 'paper',\n",
       "     'y': 0.12,\n",
       "     'yanchor': 'bottom',\n",
       "     'yref': 'paper'\n",
       " }),\n",
       " layout.Annotation({\n",
       "     'font': {'size': 16},\n",
       "     'showarrow': False,\n",
       "     'text': ' ',\n",
       "     'x': 0.36875,\n",
       "     'xanchor': 'center',\n",
       "     'xref': 'paper',\n",
       "     'y': 0.12,\n",
       "     'yanchor': 'bottom',\n",
       "     'yref': 'paper'\n",
       " }),\n",
       " layout.Annotation({\n",
       "     'font': {'size': 16},\n",
       "     'showarrow': False,\n",
       "     'text': ' ',\n",
       "     'x': 0.6312500000000001,\n",
       "     'xanchor': 'center',\n",
       "     'xref': 'paper',\n",
       "     'y': 0.12,\n",
       "     'yanchor': 'bottom',\n",
       "     'yref': 'paper'\n",
       " }),\n",
       " layout.Annotation({\n",
       "     'font': {'size': 16},\n",
       "     'showarrow': False,\n",
       "     'text': ' ',\n",
       "     'x': 0.89375,\n",
       "     'xanchor': 'center',\n",
       "     'xref': 'paper',\n",
       "     'y': 0.12,\n",
       "     'yanchor': 'bottom',\n",
       "     'yref': 'paper'\n",
       " })]"
      ]
     },
     "execution_count": 36,
     "metadata": {},
     "output_type": "execute_result"
    }
   ],
   "source": [
    "list(together_plot.layout.annotations)"
   ]
  },
  {
   "cell_type": "code",
   "execution_count": 37,
   "metadata": {},
   "outputs": [
    {
     "data": {
      "text/plain": [
       "[3, 4, 5, 6]"
      ]
     },
     "execution_count": 37,
     "metadata": {},
     "output_type": "execute_result"
    }
   ],
   "source": [
    "stages = list(psp_stage_dict.keys())\n",
    "stages.pop(0)\n",
    "stages\n"
   ]
  }
 ],
 "metadata": {
  "kernelspec": {
   "display_name": "Python 3.9.13 ('base')",
   "language": "python",
   "name": "python3"
  },
  "language_info": {
   "codemirror_mode": {
    "name": "ipython",
    "version": 3
   },
   "file_extension": ".py",
   "mimetype": "text/x-python",
   "name": "python",
   "nbconvert_exporter": "python",
   "pygments_lexer": "ipython3",
   "version": "3.8.8"
  },
  "vscode": {
   "interpreter": {
    "hash": "f49f039f1826f29992caaab1300810c8c9e5d31d3955aed133543fc6668591e2"
   }
  }
 },
 "nbformat": 4,
 "nbformat_minor": 2
}
