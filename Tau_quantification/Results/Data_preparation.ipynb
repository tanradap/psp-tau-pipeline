{
 "cells": [
  {
   "attachments": {},
   "cell_type": "markdown",
   "metadata": {},
   "source": [
    "### To summarise tau from prediction files"
   ]
  },
  {
   "cell_type": "code",
   "execution_count": 7,
   "metadata": {},
   "outputs": [],
   "source": [
    "import sys\n",
    "sys.path.insert(0,\n",
    "                '/Users/mokur/OneDrive - University of Cambridge/Attachments/Jan2023/Tau_pipeline/Tau_quantification/')\n",
    "\n",
    "from helper_functions import *"
   ]
  },
  {
   "attachments": {},
   "cell_type": "markdown",
   "metadata": {},
   "source": [
    "**OBEJECTIVES:**\n",
    "\n",
    "**1) To create summary tau density:**\n",
    "    output = df_subset\n",
    "\n",
    "**2) To merge tau quantification with semi-quantitative data**"
   ]
  },
  {
   "attachments": {},
   "cell_type": "markdown",
   "metadata": {},
   "source": [
    "**Importing libraries**"
   ]
  },
  {
   "cell_type": "code",
   "execution_count": 8,
   "metadata": {},
   "outputs": [],
   "source": [
    "import pandas as pd\n",
    "import numpy as np \n"
   ]
  },
  {
   "attachments": {},
   "cell_type": "markdown",
   "metadata": {},
   "source": [
    "### 1) To create summary tau density file"
   ]
  },
  {
   "attachments": {},
   "cell_type": "markdown",
   "metadata": {},
   "source": [
    "#### Import annotation area"
   ]
  },
  {
   "cell_type": "code",
   "execution_count": 9,
   "metadata": {},
   "outputs": [],
   "source": [
    "c1_area = extract_area('/Users/mokur/OneDrive - University of Cambridge/Attachments/Jan2023/Annotation_measurement/cortical1_measurements.csv',\n",
    "            [\"Stroma\"])\n",
    "\n",
    "c2_area = extract_area('/Users/mokur/OneDrive - University of Cambridge/Attachments/Jan2023/Annotation_measurement/cortical2_measurements.csv',\n",
    "            [\"Stroma\"])\n",
    "\n",
    "c3_area = extract_area('/Users/mokur/OneDrive - University of Cambridge/Attachments/Jan2023/Annotation_measurement/cortical3_measurements.csv',\n",
    "            [\"Stroma\"])\n",
    "cortical_area_ = pd.concat([c1_area, c2_area, c3_area])\n",
    "cortical_area = cortical_area_.copy()\n",
    "cortical_area.loc[:,'Name'] = ['Cortical']*cortical_area.shape[0]\n",
    "cortical_area = cortical_area.reset_index(drop=True)"
   ]
  },
  {
   "cell_type": "code",
   "execution_count": 10,
   "metadata": {},
   "outputs": [],
   "source": [
    "bg_area = extract_area('/Users/mokur/OneDrive - University of Cambridge/Attachments/Jan2023/Annotation_measurement/BG_measurements.csv',\n",
    "            [\"STN\",\"GP\",\"STR\"])"
   ]
  },
  {
   "cell_type": "code",
   "execution_count": 11,
   "metadata": {},
   "outputs": [],
   "source": [
    "dn_area_ = extract_area('/Users/mokur/OneDrive - University of Cambridge/Attachments/Jan2023/Annotation_measurement/DN_measurements.csv',\n",
    "            [\"DN+WM\"])\n",
    "dn_area = dn_area_.copy()\n",
    "dn_area.loc[:,'Name'] = ['DN']*dn_area.shape[0]"
   ]
  },
  {
   "attachments": {},
   "cell_type": "markdown",
   "metadata": {},
   "source": [
    "**Import prediction files**"
   ]
  },
  {
   "cell_type": "code",
   "execution_count": 12,
   "metadata": {},
   "outputs": [
    {
     "name": "stdout",
     "output_type": "stream",
     "text": [
      "Read in:  222 files\n",
      "Extracted: 222 files\n",
      "Read in:  27 files\n",
      "Extracted: 27 files\n",
      "Read in:  32 files\n",
      "Extracted: 32 files\n"
     ]
    }
   ],
   "source": [
    "cortical_files = extract_files('C:/Users/mokur/OneDrive/Desktop/Digital_path/Predictions/Cortical/',\n",
    "                              'predictions.txt')\n",
    "bg_files = extract_files('C:/Users/mokur/OneDrive/Desktop/Digital_path/Predictions/BG/',\n",
    "                              'predictions.txt')\n",
    "dn_files = extract_files('C:/Users/mokur/OneDrive/Desktop/Digital_path/Predictions/DN/',\n",
    "                              'predictions.txt')\n"
   ]
  },
  {
   "attachments": {},
   "cell_type": "markdown",
   "metadata": {},
   "source": [
    "**Calculate tau counts & total area** "
   ]
  },
  {
   "cell_type": "code",
   "execution_count": 13,
   "metadata": {},
   "outputs": [],
   "source": [
    "cortical_tau1 = calculate_tau_metrics(cortical_files,'Cortical')\n",
    "bg_tau1 = calculate_tau_metrics_BG(bg_files)\n",
    "dn_tau1 = calculate_tau_metrics(dn_files,'DN')"
   ]
  },
  {
   "attachments": {},
   "cell_type": "markdown",
   "metadata": {},
   "source": [
    "**Calculate tau density & area fraction**"
   ]
  },
  {
   "cell_type": "code",
   "execution_count": 14,
   "metadata": {},
   "outputs": [
    {
     "name": "stdout",
     "output_type": "stream",
     "text": [
      "(222, 31)\n",
      "(81, 31)\n",
      "(32, 31)\n"
     ]
    }
   ],
   "source": [
    "cortical_tau2 = calculate_density_areafrac(cortical_tau1, cortical_area)\n",
    "print(cortical_tau2.shape)\n",
    "bg_tau2 = calculate_density_areafrac(bg_tau1, bg_area)\n",
    "print(bg_tau2.shape)\n",
    "dn_tau2 = calculate_density_areafrac(dn_tau1, dn_area)\n",
    "print(dn_tau2.shape)"
   ]
  },
  {
   "attachments": {},
   "cell_type": "markdown",
   "metadata": {},
   "source": [
    "**Combine results together**"
   ]
  },
  {
   "cell_type": "code",
   "execution_count": 15,
   "metadata": {},
   "outputs": [
    {
     "name": "stdout",
     "output_type": "stream",
     "text": [
      "(335, 31)\n"
     ]
    }
   ],
   "source": [
    "tau_obj = pd.concat([\n",
    "                    cortical_tau2,\n",
    "                    bg_tau2,\n",
    "                    dn_tau2\n",
    "                    ])\n",
    "print(tau_obj.shape)"
   ]
  },
  {
   "attachments": {},
   "cell_type": "markdown",
   "metadata": {},
   "source": [
    "**Import slide metadata**"
   ]
  },
  {
   "cell_type": "code",
   "execution_count": 16,
   "metadata": {},
   "outputs": [
    {
     "name": "stdout",
     "output_type": "stream",
     "text": [
      "(304, 13)\n",
      "Novel                   182\n",
      "subcoritcal              60\n",
      "No_staging               23\n",
      "tau_training             10\n",
      "AD_pathology             10\n",
      "excluded                  6\n",
      "screen_training_only      3\n",
      "cortical_test             2\n",
      "Excluded                  2\n",
      "Cannot_locate             1\n",
      "Name: Comments, dtype: int64\n"
     ]
    }
   ],
   "source": [
    "metadata = pd.read_csv('/Users/mokur/OneDrive - University of Cambridge/Attachments/Jan2023/Metadata/PSP_tau_classification_MAY2023.txt',\n",
    "                    sep = '\\t')\n",
    "print(metadata.shape)\n",
    "metadata.head()\n",
    "print(metadata['Comments'].value_counts())"
   ]
  },
  {
   "attachments": {},
   "cell_type": "markdown",
   "metadata": {},
   "source": [
    "**Merge obj to slide metadata**"
   ]
  },
  {
   "cell_type": "code",
   "execution_count": 17,
   "metadata": {},
   "outputs": [
    {
     "name": "stdout",
     "output_type": "stream",
     "text": [
      "(358, 44)\n"
     ]
    },
    {
     "data": {
      "text/html": [
       "<div>\n",
       "<style scoped>\n",
       "    .dataframe tbody tr th:only-of-type {\n",
       "        vertical-align: middle;\n",
       "    }\n",
       "\n",
       "    .dataframe tbody tr th {\n",
       "        vertical-align: top;\n",
       "    }\n",
       "\n",
       "    .dataframe thead th {\n",
       "        text-align: right;\n",
       "    }\n",
       "</style>\n",
       "<table border=\"1\" class=\"dataframe\">\n",
       "  <thead>\n",
       "    <tr style=\"text-align: right;\">\n",
       "      <th></th>\n",
       "      <th>Comments</th>\n",
       "      <th>Diagnosis</th>\n",
       "      <th>Extra_comments</th>\n",
       "      <th>PSP Stage</th>\n",
       "      <th>Patient_ID</th>\n",
       "      <th>Slice_ID</th>\n",
       "      <th>brain_hemi</th>\n",
       "      <th>brain_region</th>\n",
       "      <th>label_name</th>\n",
       "      <th>new_sample_ID</th>\n",
       "      <th>...</th>\n",
       "      <th>Others_density</th>\n",
       "      <th>Ambiguous_density</th>\n",
       "      <th>Total_tau_AF</th>\n",
       "      <th>Tau_hallmarks_AF</th>\n",
       "      <th>NFT_AF</th>\n",
       "      <th>CB_AF</th>\n",
       "      <th>TA_AF</th>\n",
       "      <th>Others_AF</th>\n",
       "      <th>Ambiguous_AF</th>\n",
       "      <th>_merge</th>\n",
       "    </tr>\n",
       "  </thead>\n",
       "  <tbody>\n",
       "    <tr>\n",
       "      <th>0</th>\n",
       "      <td>Novel</td>\n",
       "      <td>PSP</td>\n",
       "      <td>Cortical</td>\n",
       "      <td>2_01</td>\n",
       "      <td>NP19-00221</td>\n",
       "      <td>S747324</td>\n",
       "      <td>L</td>\n",
       "      <td>BA46</td>\n",
       "      <td>NP19-00221_A6-2_AT8_TAU(N)_BA46</td>\n",
       "      <td>NP19-00221_A6-2_BA46_TAU</td>\n",
       "      <td>...</td>\n",
       "      <td>1.722254e-06</td>\n",
       "      <td>3.363777e-08</td>\n",
       "      <td>0.000038</td>\n",
       "      <td>0.000016</td>\n",
       "      <td>7.636190e-07</td>\n",
       "      <td>0.000006</td>\n",
       "      <td>0.000009</td>\n",
       "      <td>0.000022</td>\n",
       "      <td>0.000003</td>\n",
       "      <td>both</td>\n",
       "    </tr>\n",
       "    <tr>\n",
       "      <th>1</th>\n",
       "      <td>Novel</td>\n",
       "      <td>PSP</td>\n",
       "      <td>Cortical</td>\n",
       "      <td>2_01</td>\n",
       "      <td>NP19-00221</td>\n",
       "      <td>S747390</td>\n",
       "      <td>L</td>\n",
       "      <td>BA1718</td>\n",
       "      <td>NP19-00221_A7-2_AT8_TAU(N)_BA1718</td>\n",
       "      <td>NP19-00221_A7-2_BA1718_TAU</td>\n",
       "      <td>...</td>\n",
       "      <td>8.374336e-07</td>\n",
       "      <td>9.737600e-09</td>\n",
       "      <td>0.000011</td>\n",
       "      <td>0.000003</td>\n",
       "      <td>0.000000e+00</td>\n",
       "      <td>0.000003</td>\n",
       "      <td>0.000000</td>\n",
       "      <td>0.000008</td>\n",
       "      <td>0.000001</td>\n",
       "      <td>both</td>\n",
       "    </tr>\n",
       "    <tr>\n",
       "      <th>2</th>\n",
       "      <td>Novel</td>\n",
       "      <td>PSP</td>\n",
       "      <td>Cortical</td>\n",
       "      <td>2_01</td>\n",
       "      <td>NP19-00221</td>\n",
       "      <td>S760051</td>\n",
       "      <td>L</td>\n",
       "      <td>FCF</td>\n",
       "      <td>NP19-00221-A3-2--TAU</td>\n",
       "      <td>NP19-00221_A3-2_FCF_TAU</td>\n",
       "      <td>...</td>\n",
       "      <td>3.940675e-06</td>\n",
       "      <td>7.036920e-08</td>\n",
       "      <td>0.000075</td>\n",
       "      <td>0.000005</td>\n",
       "      <td>0.000000e+00</td>\n",
       "      <td>0.000004</td>\n",
       "      <td>0.000001</td>\n",
       "      <td>0.000070</td>\n",
       "      <td>0.000007</td>\n",
       "      <td>both</td>\n",
       "    </tr>\n",
       "    <tr>\n",
       "      <th>3</th>\n",
       "      <td>Novel</td>\n",
       "      <td>PSP</td>\n",
       "      <td>Cortical</td>\n",
       "      <td>2_01</td>\n",
       "      <td>NP19-00221</td>\n",
       "      <td>S760052</td>\n",
       "      <td>L</td>\n",
       "      <td>TCF</td>\n",
       "      <td>NP19-00221-A4-2--TAU</td>\n",
       "      <td>NP19-00221_A4-2_TCF_TAU</td>\n",
       "      <td>...</td>\n",
       "      <td>9.630612e-06</td>\n",
       "      <td>1.901515e-07</td>\n",
       "      <td>0.000194</td>\n",
       "      <td>0.000069</td>\n",
       "      <td>1.269558e-05</td>\n",
       "      <td>0.000033</td>\n",
       "      <td>0.000023</td>\n",
       "      <td>0.000125</td>\n",
       "      <td>0.000016</td>\n",
       "      <td>both</td>\n",
       "    </tr>\n",
       "    <tr>\n",
       "      <th>4</th>\n",
       "      <td>Novel</td>\n",
       "      <td>PSP</td>\n",
       "      <td>Cortical</td>\n",
       "      <td>2_01</td>\n",
       "      <td>NP19-00221</td>\n",
       "      <td>S760053</td>\n",
       "      <td>L</td>\n",
       "      <td>PCF</td>\n",
       "      <td>NP19-00221-A5-2--TAU</td>\n",
       "      <td>NP19-00221_A5-2_PCF_TAU</td>\n",
       "      <td>...</td>\n",
       "      <td>2.808938e-06</td>\n",
       "      <td>4.826353e-08</td>\n",
       "      <td>0.000066</td>\n",
       "      <td>0.000026</td>\n",
       "      <td>1.115379e-06</td>\n",
       "      <td>0.000016</td>\n",
       "      <td>0.000009</td>\n",
       "      <td>0.000040</td>\n",
       "      <td>0.000004</td>\n",
       "      <td>both</td>\n",
       "    </tr>\n",
       "  </tbody>\n",
       "</table>\n",
       "<p>5 rows × 44 columns</p>\n",
       "</div>"
      ],
      "text/plain": [
       "  Comments Diagnosis Extra_comments PSP Stage  Patient_ID Slice_ID brain_hemi  \\\n",
       "0    Novel       PSP       Cortical      2_01  NP19-00221  S747324          L   \n",
       "1    Novel       PSP       Cortical      2_01  NP19-00221  S747390          L   \n",
       "2    Novel       PSP       Cortical      2_01  NP19-00221  S760051          L   \n",
       "3    Novel       PSP       Cortical      2_01  NP19-00221  S760052          L   \n",
       "4    Novel       PSP       Cortical      2_01  NP19-00221  S760053          L   \n",
       "\n",
       "  brain_region                         label_name               new_sample_ID  \\\n",
       "0         BA46    NP19-00221_A6-2_AT8_TAU(N)_BA46    NP19-00221_A6-2_BA46_TAU   \n",
       "1       BA1718  NP19-00221_A7-2_AT8_TAU(N)_BA1718  NP19-00221_A7-2_BA1718_TAU   \n",
       "2          FCF               NP19-00221-A3-2--TAU     NP19-00221_A3-2_FCF_TAU   \n",
       "3          TCF               NP19-00221-A4-2--TAU     NP19-00221_A4-2_TCF_TAU   \n",
       "4          PCF               NP19-00221-A5-2--TAU     NP19-00221_A5-2_PCF_TAU   \n",
       "\n",
       "   ... Others_density Ambiguous_density Total_tau_AF Tau_hallmarks_AF  \\\n",
       "0  ...   1.722254e-06      3.363777e-08     0.000038         0.000016   \n",
       "1  ...   8.374336e-07      9.737600e-09     0.000011         0.000003   \n",
       "2  ...   3.940675e-06      7.036920e-08     0.000075         0.000005   \n",
       "3  ...   9.630612e-06      1.901515e-07     0.000194         0.000069   \n",
       "4  ...   2.808938e-06      4.826353e-08     0.000066         0.000026   \n",
       "\n",
       "         NFT_AF     CB_AF     TA_AF  Others_AF  Ambiguous_AF  _merge  \n",
       "0  7.636190e-07  0.000006  0.000009   0.000022      0.000003    both  \n",
       "1  0.000000e+00  0.000003  0.000000   0.000008      0.000001    both  \n",
       "2  0.000000e+00  0.000004  0.000001   0.000070      0.000007    both  \n",
       "3  1.269558e-05  0.000033  0.000023   0.000125      0.000016    both  \n",
       "4  1.115379e-06  0.000016  0.000009   0.000040      0.000004    both  \n",
       "\n",
       "[5 rows x 44 columns]"
      ]
     },
     "execution_count": 17,
     "metadata": {},
     "output_type": "execute_result"
    }
   ],
   "source": [
    "obj_meta = metadata.merge(tau_obj,\n",
    "                          on=['Slice_ID'],\n",
    "                          how='left',\n",
    "                          indicator=True)\n",
    "print(obj_meta.shape)\n",
    "obj_meta.head()"
   ]
  },
  {
   "cell_type": "code",
   "execution_count": 18,
   "metadata": {},
   "outputs": [
    {
     "data": {
      "text/plain": [
       "both          335\n",
       "left_only      23\n",
       "right_only      0\n",
       "Name: _merge, dtype: int64"
      ]
     },
     "execution_count": 18,
     "metadata": {},
     "output_type": "execute_result"
    }
   ],
   "source": [
    "obj_meta['_merge'].value_counts()"
   ]
  },
  {
   "attachments": {},
   "cell_type": "markdown",
   "metadata": {},
   "source": [
    "***We are missing 23 files but after looking below, its all fine.***"
   ]
  },
  {
   "cell_type": "code",
   "execution_count": 19,
   "metadata": {},
   "outputs": [
    {
     "data": {
      "text/html": [
       "<div>\n",
       "<style scoped>\n",
       "    .dataframe tbody tr th:only-of-type {\n",
       "        vertical-align: middle;\n",
       "    }\n",
       "\n",
       "    .dataframe tbody tr th {\n",
       "        vertical-align: top;\n",
       "    }\n",
       "\n",
       "    .dataframe thead th {\n",
       "        text-align: right;\n",
       "    }\n",
       "</style>\n",
       "<table border=\"1\" class=\"dataframe\">\n",
       "  <thead>\n",
       "    <tr style=\"text-align: right;\">\n",
       "      <th></th>\n",
       "      <th>Comments</th>\n",
       "      <th>Extra_comments</th>\n",
       "      <th>PSP Stage</th>\n",
       "      <th>Diagnosis</th>\n",
       "      <th>Slice_ID</th>\n",
       "      <th>Patient_ID</th>\n",
       "      <th>region_name</th>\n",
       "    </tr>\n",
       "  </thead>\n",
       "  <tbody>\n",
       "    <tr>\n",
       "      <th>132</th>\n",
       "      <td>Novel</td>\n",
       "      <td>Cortical</td>\n",
       "      <td>5_05</td>\n",
       "      <td>PSP</td>\n",
       "      <td>Unknown</td>\n",
       "      <td>NP17-00245</td>\n",
       "      <td>premo motor</td>\n",
       "    </tr>\n",
       "    <tr>\n",
       "      <th>136</th>\n",
       "      <td>excluded</td>\n",
       "      <td>Cortical</td>\n",
       "      <td>5_07</td>\n",
       "      <td>PSP</td>\n",
       "      <td>S747384</td>\n",
       "      <td>NP18-00149</td>\n",
       "      <td>occipital</td>\n",
       "    </tr>\n",
       "    <tr>\n",
       "      <th>213</th>\n",
       "      <td>No_staging</td>\n",
       "      <td>Cortical</td>\n",
       "      <td>x_0</td>\n",
       "      <td>PSP</td>\n",
       "      <td>S760045</td>\n",
       "      <td>NP19-00106</td>\n",
       "      <td>temporal</td>\n",
       "    </tr>\n",
       "    <tr>\n",
       "      <th>228</th>\n",
       "      <td>AD_pathology</td>\n",
       "      <td>AD_pathology</td>\n",
       "      <td>3_02</td>\n",
       "      <td>PSP</td>\n",
       "      <td>S747874</td>\n",
       "      <td>NP18-00004</td>\n",
       "      <td>cerebellum</td>\n",
       "    </tr>\n",
       "    <tr>\n",
       "      <th>239</th>\n",
       "      <td>NaN</td>\n",
       "      <td>Cannot_locate</td>\n",
       "      <td>NaN</td>\n",
       "      <td>NaN</td>\n",
       "      <td>S771999</td>\n",
       "      <td>NP18-00321</td>\n",
       "      <td>NaN</td>\n",
       "    </tr>\n",
       "    <tr>\n",
       "      <th>240</th>\n",
       "      <td>NaN</td>\n",
       "      <td>Cannot_locate</td>\n",
       "      <td>NaN</td>\n",
       "      <td>NaN</td>\n",
       "      <td>S772000</td>\n",
       "      <td>NP18-00321</td>\n",
       "      <td>NaN</td>\n",
       "    </tr>\n",
       "    <tr>\n",
       "      <th>241</th>\n",
       "      <td>NaN</td>\n",
       "      <td>Cannot_locate</td>\n",
       "      <td>NaN</td>\n",
       "      <td>NaN</td>\n",
       "      <td>S772001</td>\n",
       "      <td>NP18-00321</td>\n",
       "      <td>NaN</td>\n",
       "    </tr>\n",
       "    <tr>\n",
       "      <th>261</th>\n",
       "      <td>No_staging</td>\n",
       "      <td>No_staging</td>\n",
       "      <td>x_0</td>\n",
       "      <td>PSP</td>\n",
       "      <td>S747360</td>\n",
       "      <td>NP19-00106</td>\n",
       "      <td>cerebellum</td>\n",
       "    </tr>\n",
       "    <tr>\n",
       "      <th>262</th>\n",
       "      <td>No_staging</td>\n",
       "      <td>No_staging</td>\n",
       "      <td>x_01</td>\n",
       "      <td>PSP</td>\n",
       "      <td>S747353</td>\n",
       "      <td>NP19-00018</td>\n",
       "      <td>cerebellum</td>\n",
       "    </tr>\n",
       "    <tr>\n",
       "      <th>263</th>\n",
       "      <td>NaN</td>\n",
       "      <td>No_staging</td>\n",
       "      <td>NaN</td>\n",
       "      <td>NaN</td>\n",
       "      <td>S771833</td>\n",
       "      <td>NP19-00018</td>\n",
       "      <td>NaN</td>\n",
       "    </tr>\n",
       "    <tr>\n",
       "      <th>264</th>\n",
       "      <td>No_staging</td>\n",
       "      <td>No_staging</td>\n",
       "      <td>x_02</td>\n",
       "      <td>PSP</td>\n",
       "      <td>S747835</td>\n",
       "      <td>NP16-00102</td>\n",
       "      <td>cerebellum</td>\n",
       "    </tr>\n",
       "    <tr>\n",
       "      <th>274</th>\n",
       "      <td>AD_pathology</td>\n",
       "      <td>AD pathology</td>\n",
       "      <td>3_02</td>\n",
       "      <td>PSP</td>\n",
       "      <td>S747820</td>\n",
       "      <td>NP18-00004</td>\n",
       "      <td>basal ganglia</td>\n",
       "    </tr>\n",
       "    <tr>\n",
       "      <th>281</th>\n",
       "      <td>subcoritcal</td>\n",
       "      <td>Cannot_locate</td>\n",
       "      <td>4_01</td>\n",
       "      <td>PSP</td>\n",
       "      <td>S747286</td>\n",
       "      <td>NP15-00293</td>\n",
       "      <td>basal ganglia</td>\n",
       "    </tr>\n",
       "    <tr>\n",
       "      <th>288</th>\n",
       "      <td>subcoritcal</td>\n",
       "      <td>Duplicated</td>\n",
       "      <td>4_03</td>\n",
       "      <td>PSP</td>\n",
       "      <td>S747816</td>\n",
       "      <td>NP16-00069</td>\n",
       "      <td>basal ganglia</td>\n",
       "    </tr>\n",
       "    <tr>\n",
       "      <th>298</th>\n",
       "      <td>subcoritcal</td>\n",
       "      <td>Duplicated</td>\n",
       "      <td>4_07</td>\n",
       "      <td>PSP</td>\n",
       "      <td>S703952</td>\n",
       "      <td>NP18-00257</td>\n",
       "      <td>basal ganglia</td>\n",
       "    </tr>\n",
       "    <tr>\n",
       "      <th>302</th>\n",
       "      <td>subcoritcal</td>\n",
       "      <td>Excluded</td>\n",
       "      <td>4_08</td>\n",
       "      <td>PSP</td>\n",
       "      <td>S747828</td>\n",
       "      <td>NP18-00321</td>\n",
       "      <td>basal ganglia</td>\n",
       "    </tr>\n",
       "    <tr>\n",
       "      <th>303</th>\n",
       "      <td>subcoritcal</td>\n",
       "      <td>Excluded</td>\n",
       "      <td>4_08</td>\n",
       "      <td>PSP</td>\n",
       "      <td>S771885</td>\n",
       "      <td>NP18-00321</td>\n",
       "      <td>basal ganglia</td>\n",
       "    </tr>\n",
       "    <tr>\n",
       "      <th>304</th>\n",
       "      <td>subcoritcal</td>\n",
       "      <td>Excluded</td>\n",
       "      <td>4_09</td>\n",
       "      <td>PSP</td>\n",
       "      <td>S747871</td>\n",
       "      <td>NP19-00189</td>\n",
       "      <td>basal ganglia</td>\n",
       "    </tr>\n",
       "    <tr>\n",
       "      <th>323</th>\n",
       "      <td>subcoritcal</td>\n",
       "      <td>Excluded</td>\n",
       "      <td>5_06</td>\n",
       "      <td>PSP</td>\n",
       "      <td>S771775</td>\n",
       "      <td>NP18-00019</td>\n",
       "      <td>basal ganglia</td>\n",
       "    </tr>\n",
       "    <tr>\n",
       "      <th>327</th>\n",
       "      <td>subcoritcal</td>\n",
       "      <td>Excluded</td>\n",
       "      <td>5_08</td>\n",
       "      <td>PSP</td>\n",
       "      <td>S703476</td>\n",
       "      <td>NP18-00200</td>\n",
       "      <td>basal ganglia</td>\n",
       "    </tr>\n",
       "    <tr>\n",
       "      <th>355</th>\n",
       "      <td>No_staging</td>\n",
       "      <td>Excluded</td>\n",
       "      <td>x_0</td>\n",
       "      <td>PSP</td>\n",
       "      <td>S747823</td>\n",
       "      <td>NP19-00106</td>\n",
       "      <td>basal ganglia</td>\n",
       "    </tr>\n",
       "    <tr>\n",
       "      <th>356</th>\n",
       "      <td>No_staging</td>\n",
       "      <td>Excluded</td>\n",
       "      <td>x_01</td>\n",
       "      <td>PSP</td>\n",
       "      <td>S747308</td>\n",
       "      <td>NP19-00018</td>\n",
       "      <td>basal ganglia</td>\n",
       "    </tr>\n",
       "    <tr>\n",
       "      <th>357</th>\n",
       "      <td>NaN</td>\n",
       "      <td>Excluded</td>\n",
       "      <td>NaN</td>\n",
       "      <td>NaN</td>\n",
       "      <td>S771830</td>\n",
       "      <td>NP19-00018</td>\n",
       "      <td>NaN</td>\n",
       "    </tr>\n",
       "  </tbody>\n",
       "</table>\n",
       "</div>"
      ],
      "text/plain": [
       "         Comments Extra_comments PSP Stage Diagnosis Slice_ID  Patient_ID  \\\n",
       "132         Novel       Cortical      5_05       PSP  Unknown  NP17-00245   \n",
       "136      excluded       Cortical      5_07       PSP  S747384  NP18-00149   \n",
       "213    No_staging       Cortical       x_0       PSP  S760045  NP19-00106   \n",
       "228  AD_pathology   AD_pathology      3_02       PSP  S747874  NP18-00004   \n",
       "239           NaN  Cannot_locate       NaN       NaN  S771999  NP18-00321   \n",
       "240           NaN  Cannot_locate       NaN       NaN  S772000  NP18-00321   \n",
       "241           NaN  Cannot_locate       NaN       NaN  S772001  NP18-00321   \n",
       "261    No_staging     No_staging       x_0       PSP  S747360  NP19-00106   \n",
       "262    No_staging     No_staging      x_01       PSP  S747353  NP19-00018   \n",
       "263           NaN     No_staging       NaN       NaN  S771833  NP19-00018   \n",
       "264    No_staging     No_staging      x_02       PSP  S747835  NP16-00102   \n",
       "274  AD_pathology   AD pathology      3_02       PSP  S747820  NP18-00004   \n",
       "281   subcoritcal  Cannot_locate      4_01       PSP  S747286  NP15-00293   \n",
       "288   subcoritcal     Duplicated      4_03       PSP  S747816  NP16-00069   \n",
       "298   subcoritcal     Duplicated      4_07       PSP  S703952  NP18-00257   \n",
       "302   subcoritcal       Excluded      4_08       PSP  S747828  NP18-00321   \n",
       "303   subcoritcal       Excluded      4_08       PSP  S771885  NP18-00321   \n",
       "304   subcoritcal       Excluded      4_09       PSP  S747871  NP19-00189   \n",
       "323   subcoritcal       Excluded      5_06       PSP  S771775  NP18-00019   \n",
       "327   subcoritcal       Excluded      5_08       PSP  S703476  NP18-00200   \n",
       "355    No_staging       Excluded       x_0       PSP  S747823  NP19-00106   \n",
       "356    No_staging       Excluded      x_01       PSP  S747308  NP19-00018   \n",
       "357           NaN       Excluded       NaN       NaN  S771830  NP19-00018   \n",
       "\n",
       "       region_name  \n",
       "132    premo motor  \n",
       "136      occipital  \n",
       "213       temporal  \n",
       "228     cerebellum  \n",
       "239            NaN  \n",
       "240            NaN  \n",
       "241            NaN  \n",
       "261     cerebellum  \n",
       "262     cerebellum  \n",
       "263            NaN  \n",
       "264     cerebellum  \n",
       "274  basal ganglia  \n",
       "281  basal ganglia  \n",
       "288  basal ganglia  \n",
       "298  basal ganglia  \n",
       "302  basal ganglia  \n",
       "303  basal ganglia  \n",
       "304  basal ganglia  \n",
       "323  basal ganglia  \n",
       "327  basal ganglia  \n",
       "355  basal ganglia  \n",
       "356  basal ganglia  \n",
       "357            NaN  "
      ]
     },
     "execution_count": 19,
     "metadata": {},
     "output_type": "execute_result"
    }
   ],
   "source": [
    "obj_meta[obj_meta['_merge']=='left_only'][['Comments','Extra_comments','PSP Stage','Diagnosis','Slice_ID','Patient_ID','region_name']]"
   ]
  },
  {
   "attachments": {},
   "cell_type": "markdown",
   "metadata": {},
   "source": [
    "**Looking at those with predictions**"
   ]
  },
  {
   "cell_type": "code",
   "execution_count": 20,
   "metadata": {},
   "outputs": [],
   "source": [
    "df = obj_meta[obj_meta['_merge']=='both']"
   ]
  },
  {
   "cell_type": "code",
   "execution_count": 21,
   "metadata": {},
   "outputs": [
    {
     "name": "stdout",
     "output_type": "stream",
     "text": [
      "(335, 44)\n"
     ]
    },
    {
     "data": {
      "text/plain": [
       "Novel                   181\n",
       "subcoritcal              98\n",
       "tau_training             18\n",
       "No_staging               17\n",
       "AD_pathology              8\n",
       "excluded                  5\n",
       "screen_training_only      3\n",
       "cortical_test             2\n",
       "Excluded                  2\n",
       "Cannot_locate             1\n",
       "Name: Comments, dtype: int64"
      ]
     },
     "execution_count": 21,
     "metadata": {},
     "output_type": "execute_result"
    }
   ],
   "source": [
    "print(df.shape)\n",
    "df['Comments'].value_counts()"
   ]
  },
  {
   "attachments": {},
   "cell_type": "markdown",
   "metadata": {},
   "source": [
    "**Exclude some predicted slides that cannot be used**"
   ]
  },
  {
   "cell_type": "code",
   "execution_count": 22,
   "metadata": {},
   "outputs": [
    {
     "data": {
      "text/html": [
       "<div>\n",
       "<style scoped>\n",
       "    .dataframe tbody tr th:only-of-type {\n",
       "        vertical-align: middle;\n",
       "    }\n",
       "\n",
       "    .dataframe tbody tr th {\n",
       "        vertical-align: top;\n",
       "    }\n",
       "\n",
       "    .dataframe thead th {\n",
       "        text-align: right;\n",
       "    }\n",
       "</style>\n",
       "<table border=\"1\" class=\"dataframe\">\n",
       "  <thead>\n",
       "    <tr style=\"text-align: right;\">\n",
       "      <th></th>\n",
       "      <th>Comments</th>\n",
       "      <th>Diagnosis</th>\n",
       "      <th>Extra_comments</th>\n",
       "      <th>PSP Stage</th>\n",
       "      <th>Patient_ID</th>\n",
       "      <th>Slice_ID</th>\n",
       "      <th>brain_hemi</th>\n",
       "      <th>brain_region</th>\n",
       "      <th>label_name</th>\n",
       "      <th>new_sample_ID</th>\n",
       "      <th>...</th>\n",
       "      <th>Others_density</th>\n",
       "      <th>Ambiguous_density</th>\n",
       "      <th>Total_tau_AF</th>\n",
       "      <th>Tau_hallmarks_AF</th>\n",
       "      <th>NFT_AF</th>\n",
       "      <th>CB_AF</th>\n",
       "      <th>TA_AF</th>\n",
       "      <th>Others_AF</th>\n",
       "      <th>Ambiguous_AF</th>\n",
       "      <th>_merge</th>\n",
       "    </tr>\n",
       "  </thead>\n",
       "  <tbody>\n",
       "    <tr>\n",
       "      <th>0</th>\n",
       "      <td>Novel</td>\n",
       "      <td>PSP</td>\n",
       "      <td>Cortical</td>\n",
       "      <td>2_01</td>\n",
       "      <td>NP19-00221</td>\n",
       "      <td>S747324</td>\n",
       "      <td>L</td>\n",
       "      <td>BA46</td>\n",
       "      <td>NP19-00221_A6-2_AT8_TAU(N)_BA46</td>\n",
       "      <td>NP19-00221_A6-2_BA46_TAU</td>\n",
       "      <td>...</td>\n",
       "      <td>1.722254e-06</td>\n",
       "      <td>3.363777e-08</td>\n",
       "      <td>0.000038</td>\n",
       "      <td>0.000016</td>\n",
       "      <td>7.636190e-07</td>\n",
       "      <td>0.000006</td>\n",
       "      <td>0.000009</td>\n",
       "      <td>0.000022</td>\n",
       "      <td>0.000003</td>\n",
       "      <td>both</td>\n",
       "    </tr>\n",
       "    <tr>\n",
       "      <th>1</th>\n",
       "      <td>Novel</td>\n",
       "      <td>PSP</td>\n",
       "      <td>Cortical</td>\n",
       "      <td>2_01</td>\n",
       "      <td>NP19-00221</td>\n",
       "      <td>S747390</td>\n",
       "      <td>L</td>\n",
       "      <td>BA1718</td>\n",
       "      <td>NP19-00221_A7-2_AT8_TAU(N)_BA1718</td>\n",
       "      <td>NP19-00221_A7-2_BA1718_TAU</td>\n",
       "      <td>...</td>\n",
       "      <td>8.374336e-07</td>\n",
       "      <td>9.737600e-09</td>\n",
       "      <td>0.000011</td>\n",
       "      <td>0.000003</td>\n",
       "      <td>0.000000e+00</td>\n",
       "      <td>0.000003</td>\n",
       "      <td>0.000000</td>\n",
       "      <td>0.000008</td>\n",
       "      <td>0.000001</td>\n",
       "      <td>both</td>\n",
       "    </tr>\n",
       "    <tr>\n",
       "      <th>2</th>\n",
       "      <td>Novel</td>\n",
       "      <td>PSP</td>\n",
       "      <td>Cortical</td>\n",
       "      <td>2_01</td>\n",
       "      <td>NP19-00221</td>\n",
       "      <td>S760051</td>\n",
       "      <td>L</td>\n",
       "      <td>FCF</td>\n",
       "      <td>NP19-00221-A3-2--TAU</td>\n",
       "      <td>NP19-00221_A3-2_FCF_TAU</td>\n",
       "      <td>...</td>\n",
       "      <td>3.940675e-06</td>\n",
       "      <td>7.036920e-08</td>\n",
       "      <td>0.000075</td>\n",
       "      <td>0.000005</td>\n",
       "      <td>0.000000e+00</td>\n",
       "      <td>0.000004</td>\n",
       "      <td>0.000001</td>\n",
       "      <td>0.000070</td>\n",
       "      <td>0.000007</td>\n",
       "      <td>both</td>\n",
       "    </tr>\n",
       "    <tr>\n",
       "      <th>3</th>\n",
       "      <td>Novel</td>\n",
       "      <td>PSP</td>\n",
       "      <td>Cortical</td>\n",
       "      <td>2_01</td>\n",
       "      <td>NP19-00221</td>\n",
       "      <td>S760052</td>\n",
       "      <td>L</td>\n",
       "      <td>TCF</td>\n",
       "      <td>NP19-00221-A4-2--TAU</td>\n",
       "      <td>NP19-00221_A4-2_TCF_TAU</td>\n",
       "      <td>...</td>\n",
       "      <td>9.630612e-06</td>\n",
       "      <td>1.901515e-07</td>\n",
       "      <td>0.000194</td>\n",
       "      <td>0.000069</td>\n",
       "      <td>1.269558e-05</td>\n",
       "      <td>0.000033</td>\n",
       "      <td>0.000023</td>\n",
       "      <td>0.000125</td>\n",
       "      <td>0.000016</td>\n",
       "      <td>both</td>\n",
       "    </tr>\n",
       "    <tr>\n",
       "      <th>4</th>\n",
       "      <td>Novel</td>\n",
       "      <td>PSP</td>\n",
       "      <td>Cortical</td>\n",
       "      <td>2_01</td>\n",
       "      <td>NP19-00221</td>\n",
       "      <td>S760053</td>\n",
       "      <td>L</td>\n",
       "      <td>PCF</td>\n",
       "      <td>NP19-00221-A5-2--TAU</td>\n",
       "      <td>NP19-00221_A5-2_PCF_TAU</td>\n",
       "      <td>...</td>\n",
       "      <td>2.808938e-06</td>\n",
       "      <td>4.826353e-08</td>\n",
       "      <td>0.000066</td>\n",
       "      <td>0.000026</td>\n",
       "      <td>1.115379e-06</td>\n",
       "      <td>0.000016</td>\n",
       "      <td>0.000009</td>\n",
       "      <td>0.000040</td>\n",
       "      <td>0.000004</td>\n",
       "      <td>both</td>\n",
       "    </tr>\n",
       "  </tbody>\n",
       "</table>\n",
       "<p>5 rows × 44 columns</p>\n",
       "</div>"
      ],
      "text/plain": [
       "  Comments Diagnosis Extra_comments PSP Stage  Patient_ID Slice_ID brain_hemi  \\\n",
       "0    Novel       PSP       Cortical      2_01  NP19-00221  S747324          L   \n",
       "1    Novel       PSP       Cortical      2_01  NP19-00221  S747390          L   \n",
       "2    Novel       PSP       Cortical      2_01  NP19-00221  S760051          L   \n",
       "3    Novel       PSP       Cortical      2_01  NP19-00221  S760052          L   \n",
       "4    Novel       PSP       Cortical      2_01  NP19-00221  S760053          L   \n",
       "\n",
       "  brain_region                         label_name               new_sample_ID  \\\n",
       "0         BA46    NP19-00221_A6-2_AT8_TAU(N)_BA46    NP19-00221_A6-2_BA46_TAU   \n",
       "1       BA1718  NP19-00221_A7-2_AT8_TAU(N)_BA1718  NP19-00221_A7-2_BA1718_TAU   \n",
       "2          FCF               NP19-00221-A3-2--TAU     NP19-00221_A3-2_FCF_TAU   \n",
       "3          TCF               NP19-00221-A4-2--TAU     NP19-00221_A4-2_TCF_TAU   \n",
       "4          PCF               NP19-00221-A5-2--TAU     NP19-00221_A5-2_PCF_TAU   \n",
       "\n",
       "   ... Others_density Ambiguous_density Total_tau_AF Tau_hallmarks_AF  \\\n",
       "0  ...   1.722254e-06      3.363777e-08     0.000038         0.000016   \n",
       "1  ...   8.374336e-07      9.737600e-09     0.000011         0.000003   \n",
       "2  ...   3.940675e-06      7.036920e-08     0.000075         0.000005   \n",
       "3  ...   9.630612e-06      1.901515e-07     0.000194         0.000069   \n",
       "4  ...   2.808938e-06      4.826353e-08     0.000066         0.000026   \n",
       "\n",
       "         NFT_AF     CB_AF     TA_AF  Others_AF  Ambiguous_AF  _merge  \n",
       "0  7.636190e-07  0.000006  0.000009   0.000022      0.000003    both  \n",
       "1  0.000000e+00  0.000003  0.000000   0.000008      0.000001    both  \n",
       "2  0.000000e+00  0.000004  0.000001   0.000070      0.000007    both  \n",
       "3  1.269558e-05  0.000033  0.000023   0.000125      0.000016    both  \n",
       "4  1.115379e-06  0.000016  0.000009   0.000040      0.000004    both  \n",
       "\n",
       "[5 rows x 44 columns]"
      ]
     },
     "execution_count": 22,
     "metadata": {},
     "output_type": "execute_result"
    }
   ],
   "source": [
    "to_exclude =['No_staging',\n",
    "            'AD_pathology',\n",
    "            'excluded',\n",
    "            'Excluded',\n",
    "            'Cannot_locate']\n",
    "df_subset_ = df[~(df['Comments'].isin(to_exclude))]\n",
    "df_subset = df_subset_[~df_subset_['Extra_comments'].isin(to_exclude)] \n",
    "df_subset.shape\n",
    "df_subset.head()\n",
    "# print(df_subset['Comments'].value_counts())\n",
    "# print(df_subset['Extra_comments'].value_counts())\n"
   ]
  },
  {
   "attachments": {},
   "cell_type": "markdown",
   "metadata": {},
   "source": [
    "**Collapsing region_name & Name columns**"
   ]
  },
  {
   "cell_type": "code",
   "execution_count": 23,
   "metadata": {},
   "outputs": [
    {
     "name": "stdout",
     "output_type": "stream",
     "text": [
      "{'frontal', 'premo motor', 'STR', 'parietal', 'GP', 'temporal', 'cingulate', 'primary somatosensory', 'STN', 'Dentate_nucleus', 'occipital', 'primary motor'}\n",
      "before formatting:  (301, 44)\n",
      "formatted: (301, 43)\n"
     ]
    }
   ],
   "source": [
    "# cortical \n",
    "cortical = df_subset[df_subset['Name']=='Cortical']\n",
    "cortical = cortical.drop(columns=['Name'])\n",
    "\n",
    "# basal ganglia \n",
    "bg_ = df_subset[df_subset['region_name']=='basal ganglia']\n",
    "bg = bg_.copy()\n",
    "bg.loc[:,'region_name']= bg_['Name']\n",
    "bg = bg.drop(columns=['Name'])\n",
    "\n",
    "#dentate nucelus \n",
    "dn_ = df_subset[df_subset['region_name']=='cerebellum']\n",
    "dn = dn_.copy()\n",
    "dn.loc[:,'region_name']= ['Dentate_nucleus']*dn_.shape[0]\n",
    "dn = dn.drop(columns=['Name'])\n",
    "\n",
    "# Combined\n",
    "df_subset_formatted = pd.concat([cortical, bg, dn])\n",
    "print(set(df_subset_formatted['region_name']))\n",
    "print('before formatting: ', df_subset.shape)\n",
    "print('formatted:', df_subset_formatted.shape)"
   ]
  },
  {
   "attachments": {},
   "cell_type": "markdown",
   "metadata": {},
   "source": [
    "### 2) To merge tau quantification with semi-quantitative data"
   ]
  },
  {
   "cell_type": "code",
   "execution_count": 24,
   "metadata": {},
   "outputs": [
    {
     "data": {
      "text/html": [
       "<div>\n",
       "<style scoped>\n",
       "    .dataframe tbody tr th:only-of-type {\n",
       "        vertical-align: middle;\n",
       "    }\n",
       "\n",
       "    .dataframe tbody tr th {\n",
       "        vertical-align: top;\n",
       "    }\n",
       "\n",
       "    .dataframe thead th {\n",
       "        text-align: right;\n",
       "    }\n",
       "</style>\n",
       "<table border=\"1\" class=\"dataframe\">\n",
       "  <thead>\n",
       "    <tr style=\"text-align: right;\">\n",
       "      <th></th>\n",
       "      <th>REDCap ID</th>\n",
       "      <th>Patient_ID</th>\n",
       "      <th>JR Number</th>\n",
       "      <th>JR</th>\n",
       "      <th>GP_SK</th>\n",
       "      <th>STN_SK</th>\n",
       "      <th>STR_SK</th>\n",
       "      <th>FCF_SK</th>\n",
       "      <th>DE_SK</th>\n",
       "      <th>OC_SK</th>\n",
       "      <th>...</th>\n",
       "      <th>Age at Death</th>\n",
       "      <th>disease duration (years)</th>\n",
       "      <th>MDS_first</th>\n",
       "      <th>MDS-PSP last visit</th>\n",
       "      <th>years PSPRS and death</th>\n",
       "      <th>years ACER and death</th>\n",
       "      <th>PSPRS Total (last assesment)</th>\n",
       "      <th>ACE-R last assesment</th>\n",
       "      <th>imputed ACER at average</th>\n",
       "      <th>imputed PSPRS at death_average</th>\n",
       "    </tr>\n",
       "  </thead>\n",
       "  <tbody>\n",
       "    <tr>\n",
       "      <th>0</th>\n",
       "      <td>636.0</td>\n",
       "      <td>NP19-00221</td>\n",
       "      <td>133.0</td>\n",
       "      <td>JR133</td>\n",
       "      <td>2.0</td>\n",
       "      <td>2.0</td>\n",
       "      <td>2.0</td>\n",
       "      <td>0.0</td>\n",
       "      <td>1.0</td>\n",
       "      <td>0.0</td>\n",
       "      <td>...</td>\n",
       "      <td>76.4</td>\n",
       "      <td>8.750000</td>\n",
       "      <td>prob. PSP-RS</td>\n",
       "      <td>prob. PSP-RS</td>\n",
       "      <td>0.32</td>\n",
       "      <td>0.32</td>\n",
       "      <td>63.0</td>\n",
       "      <td>94.0</td>\n",
       "      <td>86.20</td>\n",
       "      <td>62.60</td>\n",
       "    </tr>\n",
       "    <tr>\n",
       "      <th>1</th>\n",
       "      <td>3088.0</td>\n",
       "      <td>NP20-00012</td>\n",
       "      <td>139.0</td>\n",
       "      <td>JR139</td>\n",
       "      <td>3.0</td>\n",
       "      <td>3.0</td>\n",
       "      <td>2.0</td>\n",
       "      <td>0.0</td>\n",
       "      <td>1.0</td>\n",
       "      <td>0.0</td>\n",
       "      <td>...</td>\n",
       "      <td>75.2</td>\n",
       "      <td>4.619178</td>\n",
       "      <td>poss. PSP-PGF</td>\n",
       "      <td>poss. PSP-PGF</td>\n",
       "      <td>0.52</td>\n",
       "      <td>0.52</td>\n",
       "      <td>26.0</td>\n",
       "      <td>97.0</td>\n",
       "      <td>93.49</td>\n",
       "      <td>28.18</td>\n",
       "    </tr>\n",
       "    <tr>\n",
       "      <th>2</th>\n",
       "      <td>138.0</td>\n",
       "      <td>NP17-00242</td>\n",
       "      <td>94.0</td>\n",
       "      <td>JR94</td>\n",
       "      <td>2.0</td>\n",
       "      <td>2.0</td>\n",
       "      <td>2.0</td>\n",
       "      <td>1.0</td>\n",
       "      <td>1.0</td>\n",
       "      <td>0.0</td>\n",
       "      <td>...</td>\n",
       "      <td>55.0</td>\n",
       "      <td>5.500000</td>\n",
       "      <td>prob. PSP-RS</td>\n",
       "      <td>prob. PSP-RS</td>\n",
       "      <td>0.41</td>\n",
       "      <td>0.41</td>\n",
       "      <td>53.0</td>\n",
       "      <td>77.0</td>\n",
       "      <td>78.14</td>\n",
       "      <td>52.73</td>\n",
       "    </tr>\n",
       "    <tr>\n",
       "      <th>3</th>\n",
       "      <td>2437.0</td>\n",
       "      <td>NP18-00007</td>\n",
       "      <td>99.0</td>\n",
       "      <td>JR99</td>\n",
       "      <td>2.0</td>\n",
       "      <td>2.0</td>\n",
       "      <td>2.0</td>\n",
       "      <td>1.0</td>\n",
       "      <td>1.0</td>\n",
       "      <td>0.0</td>\n",
       "      <td>...</td>\n",
       "      <td>74.5</td>\n",
       "      <td>6.000000</td>\n",
       "      <td>prob. PSP-RS</td>\n",
       "      <td>prob. PSP-RS</td>\n",
       "      <td>0.67</td>\n",
       "      <td>0.67</td>\n",
       "      <td>45.0</td>\n",
       "      <td>79.0</td>\n",
       "      <td>75.23</td>\n",
       "      <td>55.98</td>\n",
       "    </tr>\n",
       "    <tr>\n",
       "      <th>4</th>\n",
       "      <td>453.0</td>\n",
       "      <td>NP18-00004</td>\n",
       "      <td>98.0</td>\n",
       "      <td>JR98</td>\n",
       "      <td>2.0</td>\n",
       "      <td>2.0</td>\n",
       "      <td>2.0</td>\n",
       "      <td>1.0</td>\n",
       "      <td>1.0</td>\n",
       "      <td>0.0</td>\n",
       "      <td>...</td>\n",
       "      <td>84.7</td>\n",
       "      <td>5.580000</td>\n",
       "      <td>prob. PSP-RS</td>\n",
       "      <td>prob. PSP-RS</td>\n",
       "      <td>1.25</td>\n",
       "      <td>1.25</td>\n",
       "      <td>59.0</td>\n",
       "      <td>66.0</td>\n",
       "      <td>71.44</td>\n",
       "      <td>58.97</td>\n",
       "    </tr>\n",
       "  </tbody>\n",
       "</table>\n",
       "<p>5 rows × 22 columns</p>\n",
       "</div>"
      ],
      "text/plain": [
       "   REDCap ID  Patient_ID  JR Number     JR  GP_SK  STN_SK  STR_SK  FCF_SK  \\\n",
       "0      636.0  NP19-00221      133.0  JR133    2.0     2.0     2.0     0.0   \n",
       "1     3088.0  NP20-00012      139.0  JR139    3.0     3.0     2.0     0.0   \n",
       "2      138.0  NP17-00242       94.0   JR94    2.0     2.0     2.0     1.0   \n",
       "3     2437.0  NP18-00007       99.0   JR99    2.0     2.0     2.0     1.0   \n",
       "4      453.0  NP18-00004       98.0   JR98    2.0     2.0     2.0     1.0   \n",
       "\n",
       "   DE_SK  OC_SK  ...  Age at Death disease duration (years)      MDS_first  \\\n",
       "0    1.0    0.0  ...          76.4                 8.750000   prob. PSP-RS   \n",
       "1    1.0    0.0  ...          75.2                 4.619178  poss. PSP-PGF   \n",
       "2    1.0    0.0  ...          55.0                 5.500000   prob. PSP-RS   \n",
       "3    1.0    0.0  ...          74.5                 6.000000   prob. PSP-RS   \n",
       "4    1.0    0.0  ...          84.7                 5.580000   prob. PSP-RS   \n",
       "\n",
       "   MDS-PSP last visit years PSPRS and death years ACER and death  \\\n",
       "0        prob. PSP-RS                  0.32                 0.32   \n",
       "1       poss. PSP-PGF                  0.52                 0.52   \n",
       "2        prob. PSP-RS                  0.41                 0.41   \n",
       "3        prob. PSP-RS                  0.67                 0.67   \n",
       "4        prob. PSP-RS                  1.25                 1.25   \n",
       "\n",
       "   PSPRS Total (last assesment)  ACE-R last assesment  \\\n",
       "0                          63.0                  94.0   \n",
       "1                          26.0                  97.0   \n",
       "2                          53.0                  77.0   \n",
       "3                          45.0                  79.0   \n",
       "4                          59.0                  66.0   \n",
       "\n",
       "   imputed ACER at average  imputed PSPRS at death_average  \n",
       "0                    86.20                           62.60  \n",
       "1                    93.49                           28.18  \n",
       "2                    78.14                           52.73  \n",
       "3                    75.23                           55.98  \n",
       "4                    71.44                           58.97  \n",
       "\n",
       "[5 rows x 22 columns]"
      ]
     },
     "execution_count": 24,
     "metadata": {},
     "output_type": "execute_result"
    }
   ],
   "source": [
    "semi_quan = pd.read_csv('/Users/mokur/OneDrive - University of Cambridge/Attachments/Jan2023/Metadata/Pathology_assessment_and_demography.csv',sep=',')\n",
    "semi_quan.head()"
   ]
  },
  {
   "cell_type": "code",
   "execution_count": 25,
   "metadata": {},
   "outputs": [
    {
     "name": "stdout",
     "output_type": "stream",
     "text": [
      "objective tau shape:  (301, 43)\n",
      "unique subjects from objective:  32\n",
      "------\n",
      "semi quan shape:  (49, 22)\n",
      "Number of unique subjects (semi):  49\n",
      "------\n",
      "combined shape:  (301, 64)\n",
      "combined unique subjects:  32\n",
      "------\n",
      "combined after NA stage_SK removed:  (301, 64)\n",
      "Number of unique subjects (semi&obj):  32\n",
      "------\n",
      "No duplicated regions for each subject:  (296, 64)\n"
     ]
    }
   ],
   "source": [
    "# Check out predicted slides \n",
    "print('objective tau shape: ', df_subset_formatted.shape)\n",
    "print('unique subjects from objective: ',len(list(set(df_subset_formatted['Patient_ID']))))\n",
    "print('------')\n",
    "\n",
    "# Check semi-quan data\n",
    "print('semi quan shape: ', semi_quan.shape)\n",
    "print('Number of unique subjects (semi): ', len(set(semi_quan['Patient_ID'])))\n",
    "print('------')\n",
    "\n",
    "# Merge obj_meta to semi-quantitative scoring \n",
    "combined = df_subset_formatted.merge(semi_quan,on=['Patient_ID'],how='left')\n",
    "print('combined shape: ',combined.shape)\n",
    "print('combined unique subjects: ', len(set(combined['Patient_ID'])))\n",
    "print('------')\n",
    "\n",
    "# Check if any PSP subject is missing semi-quantitative scoring \n",
    "combined_no_na = combined[combined['Stage_SK'].notna()]\n",
    "print('combined after NA stage_SK removed: ',combined_no_na.shape)\n",
    "print('Number of unique subjects (semi&obj): ', len(set(combined_no_na['Patient_ID'])))\n",
    "print('------')\n",
    "\n",
    "# Remove slide with duplicated regions \n",
    "output_no_dup = combined_no_na.drop_duplicates(subset=['Patient_ID','region_name'],keep='last')\n",
    "output_no_dup['region_name'].value_counts()\n",
    "print('No duplicated regions for each subject: ', output_no_dup.shape)"
   ]
  },
  {
   "cell_type": "code",
   "execution_count": 26,
   "metadata": {},
   "outputs": [
    {
     "data": {
      "text/html": [
       "<div>\n",
       "<style scoped>\n",
       "    .dataframe tbody tr th:only-of-type {\n",
       "        vertical-align: middle;\n",
       "    }\n",
       "\n",
       "    .dataframe tbody tr th {\n",
       "        vertical-align: top;\n",
       "    }\n",
       "\n",
       "    .dataframe thead th {\n",
       "        text-align: right;\n",
       "    }\n",
       "</style>\n",
       "<table border=\"1\" class=\"dataframe\">\n",
       "  <thead>\n",
       "    <tr style=\"text-align: right;\">\n",
       "      <th></th>\n",
       "      <th>Comments</th>\n",
       "      <th>Diagnosis</th>\n",
       "      <th>Extra_comments</th>\n",
       "      <th>PSP Stage</th>\n",
       "      <th>Patient_ID</th>\n",
       "      <th>Slice_ID</th>\n",
       "      <th>brain_hemi</th>\n",
       "      <th>brain_region</th>\n",
       "      <th>label_name</th>\n",
       "      <th>new_sample_ID</th>\n",
       "      <th>...</th>\n",
       "      <th>Age at Death</th>\n",
       "      <th>disease duration (years)</th>\n",
       "      <th>MDS_first</th>\n",
       "      <th>MDS-PSP last visit</th>\n",
       "      <th>years PSPRS and death</th>\n",
       "      <th>years ACER and death</th>\n",
       "      <th>PSPRS Total (last assesment)</th>\n",
       "      <th>ACE-R last assesment</th>\n",
       "      <th>imputed ACER at average</th>\n",
       "      <th>imputed PSPRS at death_average</th>\n",
       "    </tr>\n",
       "  </thead>\n",
       "  <tbody>\n",
       "    <tr>\n",
       "      <th>2</th>\n",
       "      <td>Novel</td>\n",
       "      <td>PSP</td>\n",
       "      <td>Cortical</td>\n",
       "      <td>2_01</td>\n",
       "      <td>NP19-00221</td>\n",
       "      <td>S760051</td>\n",
       "      <td>L</td>\n",
       "      <td>FCF</td>\n",
       "      <td>NP19-00221-A3-2--TAU</td>\n",
       "      <td>NP19-00221_A3-2_FCF_TAU</td>\n",
       "      <td>...</td>\n",
       "      <td>76.4</td>\n",
       "      <td>8.75</td>\n",
       "      <td>prob. PSP-RS</td>\n",
       "      <td>prob. PSP-RS</td>\n",
       "      <td>0.32</td>\n",
       "      <td>0.32</td>\n",
       "      <td>63.0</td>\n",
       "      <td>94.0</td>\n",
       "      <td>86.2</td>\n",
       "      <td>62.6</td>\n",
       "    </tr>\n",
       "    <tr>\n",
       "      <th>3</th>\n",
       "      <td>Novel</td>\n",
       "      <td>PSP</td>\n",
       "      <td>Cortical</td>\n",
       "      <td>2_01</td>\n",
       "      <td>NP19-00221</td>\n",
       "      <td>S760052</td>\n",
       "      <td>L</td>\n",
       "      <td>TCF</td>\n",
       "      <td>NP19-00221-A4-2--TAU</td>\n",
       "      <td>NP19-00221_A4-2_TCF_TAU</td>\n",
       "      <td>...</td>\n",
       "      <td>76.4</td>\n",
       "      <td>8.75</td>\n",
       "      <td>prob. PSP-RS</td>\n",
       "      <td>prob. PSP-RS</td>\n",
       "      <td>0.32</td>\n",
       "      <td>0.32</td>\n",
       "      <td>63.0</td>\n",
       "      <td>94.0</td>\n",
       "      <td>86.2</td>\n",
       "      <td>62.6</td>\n",
       "    </tr>\n",
       "    <tr>\n",
       "      <th>4</th>\n",
       "      <td>Novel</td>\n",
       "      <td>PSP</td>\n",
       "      <td>Cortical</td>\n",
       "      <td>2_01</td>\n",
       "      <td>NP19-00221</td>\n",
       "      <td>S760053</td>\n",
       "      <td>L</td>\n",
       "      <td>PCF</td>\n",
       "      <td>NP19-00221-A5-2--TAU</td>\n",
       "      <td>NP19-00221_A5-2_PCF_TAU</td>\n",
       "      <td>...</td>\n",
       "      <td>76.4</td>\n",
       "      <td>8.75</td>\n",
       "      <td>prob. PSP-RS</td>\n",
       "      <td>prob. PSP-RS</td>\n",
       "      <td>0.32</td>\n",
       "      <td>0.32</td>\n",
       "      <td>63.0</td>\n",
       "      <td>94.0</td>\n",
       "      <td>86.2</td>\n",
       "      <td>62.6</td>\n",
       "    </tr>\n",
       "    <tr>\n",
       "      <th>5</th>\n",
       "      <td>screen_training_only</td>\n",
       "      <td>PSP</td>\n",
       "      <td>Cortical</td>\n",
       "      <td>2_01</td>\n",
       "      <td>NP19-00221</td>\n",
       "      <td>S760054</td>\n",
       "      <td>L</td>\n",
       "      <td>OCF</td>\n",
       "      <td>NP19-00221-A8-2--TAU</td>\n",
       "      <td>NP19-00221_A8-2_OCF_TAU</td>\n",
       "      <td>...</td>\n",
       "      <td>76.4</td>\n",
       "      <td>8.75</td>\n",
       "      <td>prob. PSP-RS</td>\n",
       "      <td>prob. PSP-RS</td>\n",
       "      <td>0.32</td>\n",
       "      <td>0.32</td>\n",
       "      <td>63.0</td>\n",
       "      <td>94.0</td>\n",
       "      <td>86.2</td>\n",
       "      <td>62.6</td>\n",
       "    </tr>\n",
       "    <tr>\n",
       "      <th>6</th>\n",
       "      <td>Novel</td>\n",
       "      <td>PSP</td>\n",
       "      <td>Cortical</td>\n",
       "      <td>2_01</td>\n",
       "      <td>NP19-00221</td>\n",
       "      <td>S760055</td>\n",
       "      <td>L</td>\n",
       "      <td>CING</td>\n",
       "      <td>NP19-00221-A9-2--TAU</td>\n",
       "      <td>NP19-00221_A9-2_CING_TAU</td>\n",
       "      <td>...</td>\n",
       "      <td>76.4</td>\n",
       "      <td>8.75</td>\n",
       "      <td>prob. PSP-RS</td>\n",
       "      <td>prob. PSP-RS</td>\n",
       "      <td>0.32</td>\n",
       "      <td>0.32</td>\n",
       "      <td>63.0</td>\n",
       "      <td>94.0</td>\n",
       "      <td>86.2</td>\n",
       "      <td>62.6</td>\n",
       "    </tr>\n",
       "  </tbody>\n",
       "</table>\n",
       "<p>5 rows × 64 columns</p>\n",
       "</div>"
      ],
      "text/plain": [
       "               Comments Diagnosis Extra_comments PSP Stage  Patient_ID  \\\n",
       "2                 Novel       PSP       Cortical      2_01  NP19-00221   \n",
       "3                 Novel       PSP       Cortical      2_01  NP19-00221   \n",
       "4                 Novel       PSP       Cortical      2_01  NP19-00221   \n",
       "5  screen_training_only       PSP       Cortical      2_01  NP19-00221   \n",
       "6                 Novel       PSP       Cortical      2_01  NP19-00221   \n",
       "\n",
       "  Slice_ID brain_hemi brain_region            label_name  \\\n",
       "2  S760051          L          FCF  NP19-00221-A3-2--TAU   \n",
       "3  S760052          L          TCF  NP19-00221-A4-2--TAU   \n",
       "4  S760053          L          PCF  NP19-00221-A5-2--TAU   \n",
       "5  S760054          L          OCF  NP19-00221-A8-2--TAU   \n",
       "6  S760055          L         CING  NP19-00221-A9-2--TAU   \n",
       "\n",
       "              new_sample_ID  ... Age at Death disease duration (years)  \\\n",
       "2   NP19-00221_A3-2_FCF_TAU  ...         76.4                     8.75   \n",
       "3   NP19-00221_A4-2_TCF_TAU  ...         76.4                     8.75   \n",
       "4   NP19-00221_A5-2_PCF_TAU  ...         76.4                     8.75   \n",
       "5   NP19-00221_A8-2_OCF_TAU  ...         76.4                     8.75   \n",
       "6  NP19-00221_A9-2_CING_TAU  ...         76.4                     8.75   \n",
       "\n",
       "      MDS_first  MDS-PSP last visit  years PSPRS and death  \\\n",
       "2  prob. PSP-RS        prob. PSP-RS                   0.32   \n",
       "3  prob. PSP-RS        prob. PSP-RS                   0.32   \n",
       "4  prob. PSP-RS        prob. PSP-RS                   0.32   \n",
       "5  prob. PSP-RS        prob. PSP-RS                   0.32   \n",
       "6  prob. PSP-RS        prob. PSP-RS                   0.32   \n",
       "\n",
       "   years ACER and death  PSPRS Total (last assesment)  ACE-R last assesment  \\\n",
       "2                  0.32                          63.0                  94.0   \n",
       "3                  0.32                          63.0                  94.0   \n",
       "4                  0.32                          63.0                  94.0   \n",
       "5                  0.32                          63.0                  94.0   \n",
       "6                  0.32                          63.0                  94.0   \n",
       "\n",
       "   imputed ACER at average  imputed PSPRS at death_average  \n",
       "2                     86.2                            62.6  \n",
       "3                     86.2                            62.6  \n",
       "4                     86.2                            62.6  \n",
       "5                     86.2                            62.6  \n",
       "6                     86.2                            62.6  \n",
       "\n",
       "[5 rows x 64 columns]"
      ]
     },
     "execution_count": 26,
     "metadata": {},
     "output_type": "execute_result"
    }
   ],
   "source": [
    "output_no_dup.head()"
   ]
  },
  {
   "cell_type": "code",
   "execution_count": 27,
   "metadata": {},
   "outputs": [
    {
     "data": {
      "text/plain": [
       "{'Dentate_nucleus',\n",
       " 'GP',\n",
       " 'STN',\n",
       " 'STR',\n",
       " 'cingulate',\n",
       " 'frontal',\n",
       " 'occipital',\n",
       " 'parietal',\n",
       " 'premo motor',\n",
       " 'primary motor',\n",
       " 'primary somatosensory',\n",
       " 'temporal'}"
      ]
     },
     "execution_count": 27,
     "metadata": {},
     "output_type": "execute_result"
    }
   ],
   "source": [
    "set(output_no_dup['region_name'])"
   ]
  },
  {
   "attachments": {},
   "cell_type": "markdown",
   "metadata": {},
   "source": [
    "**Compare to the file this should match (created as a pilot)**"
   ]
  },
  {
   "cell_type": "code",
   "execution_count": 28,
   "metadata": {},
   "outputs": [
    {
     "data": {
      "text/plain": [
       "(296, 59)"
      ]
     },
     "execution_count": 28,
     "metadata": {},
     "output_type": "execute_result"
    }
   ],
   "source": [
    "orig = pd.read_csv('/Users/mokur/OneDrive - University of Cambridge/Attachments/May2022/Final/Pathology/tau_classification/Dentate_nucleus/analysis/objective_semiquan_tau_PSP_cortical_bg_dn_withArea.txt', sep='\\t')\n",
    "orig.shape"
   ]
  },
  {
   "cell_type": "code",
   "execution_count": 29,
   "metadata": {},
   "outputs": [
    {
     "data": {
      "text/plain": [
       "{'Dentate_nucleus',\n",
       " 'GP',\n",
       " 'STN',\n",
       " 'STR',\n",
       " 'cingulate',\n",
       " 'frontal',\n",
       " 'occipital',\n",
       " 'parietal',\n",
       " 'premo motor',\n",
       " 'primary motor',\n",
       " 'primary somatosensory',\n",
       " 'temporal'}"
      ]
     },
     "execution_count": 29,
     "metadata": {},
     "output_type": "execute_result"
    }
   ],
   "source": [
    "set(orig['region_name'])"
   ]
  },
  {
   "cell_type": "code",
   "execution_count": 30,
   "metadata": {},
   "outputs": [
    {
     "name": "stdout",
     "output_type": "stream",
     "text": [
      "(296, 3)\n",
      "(296, 3)\n"
     ]
    }
   ],
   "source": [
    "orig_subset = orig[['Patient_ID','Slice_ID','region_name']]\n",
    "print(orig_subset.shape)\n",
    "new_subset = output_no_dup[['Patient_ID','Slice_ID','region_name']]\n",
    "print(new_subset.shape)"
   ]
  },
  {
   "cell_type": "code",
   "execution_count": 31,
   "metadata": {},
   "outputs": [
    {
     "data": {
      "text/plain": [
       "both          296\n",
       "left_only       0\n",
       "right_only      0\n",
       "Name: _merge, dtype: int64"
      ]
     },
     "execution_count": 31,
     "metadata": {},
     "output_type": "execute_result"
    }
   ],
   "source": [
    "tgt = new_subset.merge(orig_subset,on=['Patient_ID','Slice_ID','region_name'], how='left', indicator=True)\n",
    "tgt['_merge'].value_counts()\n"
   ]
  },
  {
   "attachments": {},
   "cell_type": "markdown",
   "metadata": {},
   "source": [
    "**Remove 19 slide used during model development & 2 dodgy slides**"
   ]
  },
  {
   "cell_type": "code",
   "execution_count": 32,
   "metadata": {},
   "outputs": [],
   "source": [
    "# Remove dodgy slides\n",
    "output_no_dup_clean = output_no_dup[(output_no_dup['Slice_ID']!='S747296')&(output_no_dup['Slice_ID']!='S747857')]"
   ]
  },
  {
   "cell_type": "code",
   "execution_count": 33,
   "metadata": {},
   "outputs": [
    {
     "data": {
      "text/plain": [
       "Novel                   177\n",
       "subcoritcal              90\n",
       "tau_training             18\n",
       "screen_training_only      3\n",
       "cortical_test             2\n",
       "Name: Comments, dtype: int64"
      ]
     },
     "execution_count": 33,
     "metadata": {},
     "output_type": "execute_result"
    }
   ],
   "source": [
    "output_no_dup_clean['Comments'].value_counts()"
   ]
  },
  {
   "cell_type": "code",
   "execution_count": 34,
   "metadata": {},
   "outputs": [],
   "source": [
    "# Remove those used during training\n",
    "novel = output_no_dup_clean[(output_no_dup_clean['Comments']!='screen_training_only') & (output_no_dup_clean['Comments']!='tau_training')]"
   ]
  },
  {
   "cell_type": "code",
   "execution_count": 35,
   "metadata": {},
   "outputs": [
    {
     "name": "stdout",
     "output_type": "stream",
     "text": [
      "242\n",
      "240\n",
      "227\n"
     ]
    }
   ],
   "source": [
    "print(len(list(set(output_no_dup['Slice_ID'])))) # still contains dodgy slides\n",
    "print(len(list(set(output_no_dup_clean['Slice_ID'])))) # no dodgy slide but still has training data \n",
    "print(len(list(set(novel['Slice_ID'])))) # no dodgy slides, no training slides"
   ]
  },
  {
   "attachments": {},
   "cell_type": "markdown",
   "metadata": {},
   "source": [
    "**Exporting out**"
   ]
  },
  {
   "cell_type": "code",
   "execution_count": 36,
   "metadata": {},
   "outputs": [
    {
     "data": {
      "text/plain": [
       "Index(['Comments', 'Diagnosis', 'Extra_comments', 'PSP Stage', 'Patient_ID',\n",
       "       'Slice_ID', 'brain_hemi', 'brain_region', 'label_name', 'new_sample_ID',\n",
       "       'region_name', 'sample_ID', 'stained_protein', 'Non_tau', 'Others',\n",
       "       'CB', 'NFT', 'Ambiguous', 'TA', 'Non_tau_area', 'Others_area',\n",
       "       'CB_area', 'NFT_area', 'Ambiguous_area', 'TA_area', 'Area µm^2',\n",
       "       'Total_tau', 'Total_tau_hallmarks', 'Total_tau_density',\n",
       "       'Tau_hallmark_density', 'NFT_density', 'CB_density', 'TA_density',\n",
       "       'Others_density', 'Ambiguous_density', 'Total_tau_AF',\n",
       "       'Tau_hallmarks_AF', 'NFT_AF', 'CB_AF', 'TA_AF', 'Others_AF',\n",
       "       'Ambiguous_AF', '_merge', 'REDCap ID', 'JR Number', 'JR', 'GP_SK',\n",
       "       'STN_SK', 'STR_SK', 'FCF_SK', 'DE_SK', 'OC_SK', 'Stage_SK', 'Gender',\n",
       "       'Age at Death', 'disease duration (years)', 'MDS_first',\n",
       "       'MDS-PSP last visit', 'years PSPRS and death', 'years ACER and death',\n",
       "       'PSPRS Total (last assesment)', 'ACE-R last assesment',\n",
       "       'imputed ACER at average', 'imputed PSPRS at death_average'],\n",
       "      dtype='object')"
      ]
     },
     "execution_count": 36,
     "metadata": {},
     "output_type": "execute_result"
    }
   ],
   "source": [
    "output_no_dup_clean.columns"
   ]
  },
  {
   "cell_type": "code",
   "execution_count": 37,
   "metadata": {},
   "outputs": [],
   "source": [
    "# For neuroimaging-path: contains training slides (but no dodgy slide)\n",
    "path = '/Users/mokur/OneDrive - University of Cambridge/Attachments/Jan2023/Tau_pipeline/Tau_quantification/Results/objective_semiquan_tau_PSP_May2023_corticalUpdated3_noArtefacts.txt'\n",
    "output_no_dup_clean.to_csv(path, sep='\\t',index=False)"
   ]
  },
  {
   "cell_type": "code",
   "execution_count": 38,
   "metadata": {},
   "outputs": [],
   "source": [
    "# For validation: no training slides,  no dodgy slide\n",
    "path = '/Users/mokur/OneDrive - University of Cambridge/Attachments/Jan2023/Tau_pipeline/Tau_quantification/Results/objective_semiquan_tau_PSP_May2023_corticalUpdated3_noArtefacts_novel.txt'\n",
    "novel.to_csv(path, sep='\\t',index=False)"
   ]
  },
  {
   "attachments": {},
   "cell_type": "markdown",
   "metadata": {},
   "source": [
    "**Checking slide per brain**"
   ]
  },
  {
   "cell_type": "code",
   "execution_count": 39,
   "metadata": {},
   "outputs": [
    {
     "name": "stdout",
     "output_type": "stream",
     "text": [
      "(290, 2)\n",
      "(240, 2)\n"
     ]
    }
   ],
   "source": [
    "patient_brain = output_no_dup_clean[['Patient_ID','Slice_ID']]\n",
    "patient_brain_nodup = patient_brain.drop_duplicates(subset=['Slice_ID'])\n",
    "print(patient_brain.shape)\n",
    "print(patient_brain_nodup.shape)"
   ]
  },
  {
   "cell_type": "code",
   "execution_count": 40,
   "metadata": {},
   "outputs": [],
   "source": [
    "from scipy.stats import skew, iqr\n",
    "import statistics"
   ]
  },
  {
   "cell_type": "code",
   "execution_count": 41,
   "metadata": {},
   "outputs": [
    {
     "name": "stdout",
     "output_type": "stream",
     "text": [
      "-0.687448961133831\n",
      "6.0\n"
     ]
    }
   ],
   "source": [
    "print(skew(list(patient_brain_nodup['Patient_ID'].value_counts())))\n",
    "print(iqr(list(patient_brain_nodup['Patient_ID'].value_counts())))"
   ]
  },
  {
   "cell_type": "code",
   "execution_count": 42,
   "metadata": {},
   "outputs": [
    {
     "name": "stdout",
     "output_type": "stream",
     "text": [
      "8.5\n",
      "7.5\n",
      "2.704163456597992\n"
     ]
    }
   ],
   "source": [
    "print(statistics.median(list(patient_brain_nodup['Patient_ID'].value_counts())))\n",
    "print(np.mean(list(patient_brain_nodup['Patient_ID'].value_counts())))\n",
    "print(np.std(list(patient_brain_nodup['Patient_ID'].value_counts())))"
   ]
  },
  {
   "cell_type": "code",
   "execution_count": 43,
   "metadata": {},
   "outputs": [
    {
     "data": {
      "text/plain": [
       "NP19-00059    10\n",
       "NP17-00239    10\n",
       "NP21-019      10\n",
       "NP18-00257    10\n",
       "NP17-00082    10\n",
       "NP20-00040    10\n",
       "NP17-00136    10\n",
       "NP17-00242    10\n",
       "NP19-00055    10\n",
       "NP18-00163    10\n",
       "NP21-011      10\n",
       "NP19-00007    10\n",
       "NP17-00245     9\n",
       "NP20-00012     9\n",
       "NP17-00109     9\n",
       "NP20-00025     9\n",
       "NP18-00149     8\n",
       "NP18-00007     8\n",
       "NP19-00221     8\n",
       "NP19-00175     8\n",
       "NP18-00212     7\n",
       "NP18-00291     7\n",
       "NP19-00189     6\n",
       "NP15-00197     4\n",
       "NP18-00200     4\n",
       "NP18-00321     4\n",
       "NP18-00229     4\n",
       "NP16-00069     4\n",
       "NP16-00042     4\n",
       "NP15-00272     4\n",
       "NP18-00019     2\n",
       "NP15-00293     2\n",
       "Name: Patient_ID, dtype: int64"
      ]
     },
     "execution_count": 43,
     "metadata": {},
     "output_type": "execute_result"
    }
   ],
   "source": [
    "patient_brain_nodup['Patient_ID'].value_counts()"
   ]
  }
 ],
 "metadata": {
  "kernelspec": {
   "display_name": "Python 3.9.13 ('base')",
   "language": "python",
   "name": "python3"
  },
  "language_info": {
   "codemirror_mode": {
    "name": "ipython",
    "version": 3
   },
   "file_extension": ".py",
   "mimetype": "text/x-python",
   "name": "python",
   "nbconvert_exporter": "python",
   "pygments_lexer": "ipython3",
   "version": "3.8.16"
  },
  "vscode": {
   "interpreter": {
    "hash": "f49f039f1826f29992caaab1300810c8c9e5d31d3955aed133543fc6668591e2"
   }
  }
 },
 "nbformat": 4,
 "nbformat_minor": 2
}
