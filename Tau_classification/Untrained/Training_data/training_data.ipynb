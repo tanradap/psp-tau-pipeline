{
 "cells": [
  {
   "attachments": {},
   "cell_type": "markdown",
   "metadata": {},
   "source": [
    "Training data"
   ]
  },
  {
   "cell_type": "code",
   "execution_count": 2,
   "metadata": {},
   "outputs": [],
   "source": [
    "import sys\n",
    "sys.path.insert(0,\n",
    "                '/Users/mokur/OneDrive - University of Cambridge/Attachments/Jan2023/Tau_pipeline/Tau_classification/')\n",
    "\n",
    "from base import *\n",
    "from constants import *\n",
    "from tau_classification import * \n",
    "import joblib"
   ]
  },
  {
   "cell_type": "code",
   "execution_count": 3,
   "metadata": {},
   "outputs": [
    {
     "name": "stdout",
     "output_type": "stream",
     "text": [
      "Non_tau    12006\n",
      "Tau         9827\n",
      "Name: Class, dtype: int64\n",
      "(21833, 54)\n"
     ]
    }
   ],
   "source": [
    "# Read in training data: screening classifier\n",
    "path = \"/Users/mokur/OneDrive - University of Cambridge/Attachments/Jan2023/Tau_pipeline/Tau_classification/Untrained/Training_data/screening_classifier/\"\n",
    "filename = \"training.txt\"\n",
    "\n",
    "# Create tau database object \n",
    "s_data = TauDataBase(path = path,\n",
    "                     filename = filename) \n",
    "\n",
    "# Prepping data to train screening classifier\n",
    "s_data.classifier1_prep()\n",
    "\n",
    "# Check data\n",
    "print(s_data.c1_data['Class'].value_counts())\n",
    "print(s_data.c1_X_train.shape)\n"
   ]
  },
  {
   "cell_type": "code",
   "execution_count": 6,
   "metadata": {},
   "outputs": [
    {
     "name": "stdout",
     "output_type": "stream",
     "text": [
      "Others    2913\n",
      "CB         661\n",
      "TA         254\n",
      "NFT        126\n",
      "Name: Class, dtype: int64\n",
      "(3954, 54)\n"
     ]
    }
   ],
   "source": [
    "path = \"/Users/mokur/OneDrive - University of Cambridge/Attachments/Jan2023/Tau_pipeline/Tau_classification/Untrained/Training_data/cortical_regions/\"\n",
    "filename = \"training.txt\"\n",
    "\n",
    "# Create tau database object \n",
    "cortical_data = TauDataBase(path = path,\n",
    "                            filename = filename) \n",
    "\n",
    "# Prepping data to train tau classifier for cortical regions\n",
    "cortical_data.classifier2_prep()\n",
    "\n",
    "# Check data\n",
    "print(cortical_data.c2_data['Class'].value_counts())\n",
    "print(cortical_data.c2_X_train.shape)"
   ]
  },
  {
   "cell_type": "code",
   "execution_count": 33,
   "metadata": {},
   "outputs": [
    {
     "name": "stdout",
     "output_type": "stream",
     "text": [
      "3954\n"
     ]
    }
   ],
   "source": [
    "print(cortical_data.c2_data['Class'].value_counts().sum())\n"
   ]
  },
  {
   "cell_type": "code",
   "execution_count": 7,
   "metadata": {},
   "outputs": [
    {
     "name": "stdout",
     "output_type": "stream",
     "text": [
      "Others    3116\n",
      "CB         335\n",
      "TA         200\n",
      "NFT         48\n",
      "Name: Class, dtype: int64\n",
      "(3699, 54)\n"
     ]
    }
   ],
   "source": [
    "path = \"/Users/mokur/OneDrive - University of Cambridge/Attachments/Jan2023/Tau_pipeline/Tau_classification/Untrained/Training_data/STR/\"\n",
    "filename = \"training.txt\"\n",
    "\n",
    "# Create tau database object \n",
    "str_data = TauDataBase(path = path,\n",
    "                       filename = filename) \n",
    "\n",
    "# Prepping data to train tau classifier for cortical regions\n",
    "str_data.classifier2_prep()\n",
    "\n",
    "# Check data\n",
    "print(str_data.c2_data['Class'].value_counts())\n",
    "print(str_data.c2_X_train.shape)"
   ]
  },
  {
   "cell_type": "code",
   "execution_count": 34,
   "metadata": {},
   "outputs": [
    {
     "name": "stdout",
     "output_type": "stream",
     "text": [
      "3699\n"
     ]
    }
   ],
   "source": [
    "print(str_data.c2_data['Class'].value_counts().sum())"
   ]
  },
  {
   "cell_type": "code",
   "execution_count": 8,
   "metadata": {},
   "outputs": [
    {
     "name": "stdout",
     "output_type": "stream",
     "text": [
      "Others    12988\n",
      "CB          601\n",
      "NFT          97\n",
      "Name: Class, dtype: int64\n",
      "(13686, 54)\n"
     ]
    }
   ],
   "source": [
    "path = \"/Users/mokur/OneDrive - University of Cambridge/Attachments/Jan2023/Tau_pipeline/Tau_classification/Untrained/Training_data/STN&GP/\"\n",
    "filename = \"training.txt\"\n",
    "\n",
    "# Create tau database object \n",
    "stn_gp_data = TauDataBase(path = path,\n",
    "                          filename = filename) \n",
    "\n",
    "# Prepping data to train tau classifier for cortical regions\n",
    "stn_gp_data.classifier2_prep()\n",
    "\n",
    "# Check data\n",
    "print(stn_gp_data.c2_data['Class'].value_counts())\n",
    "print(stn_gp_data.c2_X_train.shape)"
   ]
  },
  {
   "cell_type": "code",
   "execution_count": 35,
   "metadata": {},
   "outputs": [
    {
     "name": "stdout",
     "output_type": "stream",
     "text": [
      "13686\n"
     ]
    }
   ],
   "source": [
    "print(stn_gp_data.c2_data['Class'].value_counts().sum())"
   ]
  },
  {
   "cell_type": "code",
   "execution_count": 27,
   "metadata": {},
   "outputs": [
    {
     "name": "stdout",
     "output_type": "stream",
     "text": [
      "Others    1805\n",
      "NFT        234\n",
      "CB         147\n",
      "Name: Class, dtype: int64\n",
      "(2186, 54)\n"
     ]
    }
   ],
   "source": [
    "path = \"/Users/mokur/OneDrive - University of Cambridge/Attachments/Jan2023/Tau_pipeline/Tau_classification/Untrained/Training_data/DN/\"\n",
    "filename = \"training.txt\"\n",
    "\n",
    "# Create tau database object \n",
    "dn_data = TauDataBase(path = path,\n",
    "                      filename = filename) \n",
    "\n",
    "# Prepping data to train tau classifier for dn regions\n",
    "dn_data.classifier2_prep()\n",
    "\n",
    "# Check data\n",
    "print(dn_data.c2_data['Class'].value_counts())\n",
    "print(dn_data.c2_X_train.shape)"
   ]
  },
  {
   "cell_type": "code",
   "execution_count": 36,
   "metadata": {},
   "outputs": [
    {
     "name": "stdout",
     "output_type": "stream",
     "text": [
      "2186\n"
     ]
    }
   ],
   "source": [
    "print(dn_data.c2_data['Class'].value_counts().sum())"
   ]
  },
  {
   "cell_type": "code",
   "execution_count": 28,
   "metadata": {},
   "outputs": [],
   "source": [
    "# combine & check unique training samples\n",
    "screening_ = s_data.c1_data[['Centroid_X','Centroid_Y','Class','Image']]\n",
    "screening = screening_[screening_['Class']!='Non_tau']\n",
    "screening = screening.copy()\n",
    "screening.loc[:,'Image_name'] = [i[0:6] for i in screening['Image']]\n",
    "\n",
    "cortical = cortical_data.c2_data[['Centroid_X','Centroid_Y','Class','Image']]\n",
    "cortical = cortical.copy()\n",
    "cortical.loc[:,'Image_name'] = [i[0:6] for i in cortical['Image']]\n",
    "\n",
    "stn_gp = stn_gp_data.c2_data[['Centroid_X','Centroid_Y','Class','Image']]\n",
    "stn_gp = stn_gp.copy()\n",
    "stn_gp.loc[:,'Image_name'] = [i[0:6] for i in stn_gp['Image']]\n",
    "\n",
    "str = str_data.c2_data[['Centroid_X','Centroid_Y','Class','Image']]\n",
    "str = str.copy()\n",
    "str.loc[:,'Image_name'] = [i[0:6] for i in str['Image']]\n",
    "\n",
    "dn = dn_data.c2_data[['Centroid_X','Centroid_Y','Class','Image']]\n",
    "dn = dn.copy()\n",
    "dn.loc[:,'Image_name'] = [i[0:6] for i in dn['Image']]\n",
    "\n",
    "# put them all together\n",
    "all = pd.concat([screening,\n",
    "                 cortical,\n",
    "                 stn_gp,\n",
    "                 str,\n",
    "                 dn])\n"
   ]
  },
  {
   "cell_type": "code",
   "execution_count": 32,
   "metadata": {},
   "outputs": [
    {
     "data": {
      "text/html": [
       "<div>\n",
       "<style scoped>\n",
       "    .dataframe tbody tr th:only-of-type {\n",
       "        vertical-align: middle;\n",
       "    }\n",
       "\n",
       "    .dataframe tbody tr th {\n",
       "        vertical-align: top;\n",
       "    }\n",
       "\n",
       "    .dataframe thead th {\n",
       "        text-align: right;\n",
       "    }\n",
       "</style>\n",
       "<table border=\"1\" class=\"dataframe\">\n",
       "  <thead>\n",
       "    <tr style=\"text-align: right;\">\n",
       "      <th></th>\n",
       "      <th>Centroid_X</th>\n",
       "      <th>Centroid_Y</th>\n",
       "      <th>Class</th>\n",
       "      <th>Image</th>\n",
       "      <th>Image_name</th>\n",
       "    </tr>\n",
       "  </thead>\n",
       "  <tbody>\n",
       "    <tr>\n",
       "      <th>0</th>\n",
       "      <td>7663.6</td>\n",
       "      <td>5319.4</td>\n",
       "      <td>Others</td>\n",
       "      <td>747337.svs_training</td>\n",
       "      <td>747337</td>\n",
       "    </tr>\n",
       "    <tr>\n",
       "      <th>1</th>\n",
       "      <td>7806.3</td>\n",
       "      <td>5350.9</td>\n",
       "      <td>NFT</td>\n",
       "      <td>747337.svs_training</td>\n",
       "      <td>747337</td>\n",
       "    </tr>\n",
       "    <tr>\n",
       "      <th>2</th>\n",
       "      <td>7193.5</td>\n",
       "      <td>5410.5</td>\n",
       "      <td>NFT</td>\n",
       "      <td>747337.svs_training</td>\n",
       "      <td>747337</td>\n",
       "    </tr>\n",
       "    <tr>\n",
       "      <th>3</th>\n",
       "      <td>7103.1</td>\n",
       "      <td>5447.1</td>\n",
       "      <td>NFT</td>\n",
       "      <td>747337.svs_training</td>\n",
       "      <td>747337</td>\n",
       "    </tr>\n",
       "    <tr>\n",
       "      <th>4</th>\n",
       "      <td>7611.8</td>\n",
       "      <td>5452.9</td>\n",
       "      <td>Others</td>\n",
       "      <td>747337.svs_training</td>\n",
       "      <td>747337</td>\n",
       "    </tr>\n",
       "    <tr>\n",
       "      <th>...</th>\n",
       "      <td>...</td>\n",
       "      <td>...</td>\n",
       "      <td>...</td>\n",
       "      <td>...</td>\n",
       "      <td>...</td>\n",
       "    </tr>\n",
       "    <tr>\n",
       "      <th>2181</th>\n",
       "      <td>15906.5</td>\n",
       "      <td>9511.2</td>\n",
       "      <td>Others</td>\n",
       "      <td>747352.svs_training</td>\n",
       "      <td>747352</td>\n",
       "    </tr>\n",
       "    <tr>\n",
       "      <th>2182</th>\n",
       "      <td>15901.1</td>\n",
       "      <td>9512.3</td>\n",
       "      <td>Others</td>\n",
       "      <td>747352.svs_training</td>\n",
       "      <td>747352</td>\n",
       "    </tr>\n",
       "    <tr>\n",
       "      <th>2183</th>\n",
       "      <td>16389.3</td>\n",
       "      <td>9512.6</td>\n",
       "      <td>Others</td>\n",
       "      <td>747352.svs_training</td>\n",
       "      <td>747352</td>\n",
       "    </tr>\n",
       "    <tr>\n",
       "      <th>2184</th>\n",
       "      <td>15888.4</td>\n",
       "      <td>9514.3</td>\n",
       "      <td>Others</td>\n",
       "      <td>747352.svs_training</td>\n",
       "      <td>747352</td>\n",
       "    </tr>\n",
       "    <tr>\n",
       "      <th>2185</th>\n",
       "      <td>15511.3</td>\n",
       "      <td>9518.4</td>\n",
       "      <td>Others</td>\n",
       "      <td>747352.svs_training</td>\n",
       "      <td>747352</td>\n",
       "    </tr>\n",
       "  </tbody>\n",
       "</table>\n",
       "<p>2186 rows × 5 columns</p>\n",
       "</div>"
      ],
      "text/plain": [
       "      Centroid_X  Centroid_Y   Class                Image Image_name\n",
       "0         7663.6      5319.4  Others  747337.svs_training     747337\n",
       "1         7806.3      5350.9     NFT  747337.svs_training     747337\n",
       "2         7193.5      5410.5     NFT  747337.svs_training     747337\n",
       "3         7103.1      5447.1     NFT  747337.svs_training     747337\n",
       "4         7611.8      5452.9  Others  747337.svs_training     747337\n",
       "...          ...         ...     ...                  ...        ...\n",
       "2181     15906.5      9511.2  Others  747352.svs_training     747352\n",
       "2182     15901.1      9512.3  Others  747352.svs_training     747352\n",
       "2183     16389.3      9512.6  Others  747352.svs_training     747352\n",
       "2184     15888.4      9514.3  Others  747352.svs_training     747352\n",
       "2185     15511.3      9518.4  Others  747352.svs_training     747352\n",
       "\n",
       "[2186 rows x 5 columns]"
      ]
     },
     "execution_count": 32,
     "metadata": {},
     "output_type": "execute_result"
    }
   ],
   "source": [
    "dn"
   ]
  },
  {
   "cell_type": "code",
   "execution_count": 29,
   "metadata": {},
   "outputs": [],
   "source": [
    "all_selected = all[['Centroid_X','Centroid_Y','Image_name']]\n",
    "all_result = all_selected.drop_duplicates()"
   ]
  },
  {
   "cell_type": "code",
   "execution_count": 30,
   "metadata": {},
   "outputs": [
    {
     "data": {
      "text/plain": [
       "(33352, 3)"
      ]
     },
     "execution_count": 30,
     "metadata": {},
     "output_type": "execute_result"
    }
   ],
   "source": [
    "all_selected.shape"
   ]
  },
  {
   "cell_type": "code",
   "execution_count": 31,
   "metadata": {},
   "outputs": [
    {
     "data": {
      "text/plain": [
       "(24642, 3)"
      ]
     },
     "execution_count": 31,
     "metadata": {},
     "output_type": "execute_result"
    }
   ],
   "source": [
    "all_result.shape"
   ]
  }
 ],
 "metadata": {
  "kernelspec": {
   "display_name": "base",
   "language": "python",
   "name": "python3"
  },
  "language_info": {
   "codemirror_mode": {
    "name": "ipython",
    "version": 3
   },
   "file_extension": ".py",
   "mimetype": "text/x-python",
   "name": "python",
   "nbconvert_exporter": "python",
   "pygments_lexer": "ipython3",
   "version": "3.8.8"
  },
  "orig_nbformat": 4
 },
 "nbformat": 4,
 "nbformat_minor": 2
}
