{
 "cells": [
  {
   "cell_type": "code",
   "execution_count": 1,
   "metadata": {},
   "outputs": [],
   "source": [
    "# Importing libraries\n",
    "import sys\n",
    "sys.path.insert(0,\n",
    "                '/Users/mokur/OneDrive - University of Cambridge/Attachments/Jan2023/Tau_pipeline/Tau_classification/')\n",
    "\n",
    "from base import *\n",
    "from constants import *\n",
    "sys.path.insert(0,\n",
    "                '/Users/mokur/OneDrive - University of Cambridge/Attachments/Jan2023/Tau_pipeline/Tuning_parameters/')\n",
    "\n",
    "from tuning import * \n",
    "from extra_metrics_training import *\n",
    "from tuning_constants import * "
   ]
  },
  {
   "cell_type": "code",
   "execution_count": 2,
   "metadata": {},
   "outputs": [],
   "source": [
    "import joblib"
   ]
  },
  {
   "cell_type": "code",
   "execution_count": 3,
   "metadata": {},
   "outputs": [],
   "source": [
    "import pandas as pd\n",
    "import numpy as np \n",
    "import random \n",
    "\n",
    "from sklearn import preprocessing \n",
    "\n",
    "from sklearn.pipeline import Pipeline\n",
    "from sklearn.preprocessing import MinMaxScaler\n",
    "from sklearn.ensemble import RandomForestClassifier\n",
    "from imblearn.ensemble import BalancedRandomForestClassifier\n",
    "from sklearn.model_selection import RandomizedSearchCV\n",
    "from sklearn.metrics import ConfusionMatrixDisplay\n",
    "import matplotlib.pyplot as plt\n"
   ]
  },
  {
   "cell_type": "code",
   "execution_count": 11,
   "metadata": {},
   "outputs": [
    {
     "name": "stdout",
     "output_type": "stream",
     "text": [
      "Others    12988\n",
      "CB          601\n",
      "NFT          97\n",
      "Name: Class, dtype: int64\n",
      "(13686, 54)\n"
     ]
    }
   ],
   "source": [
    "path = \"C:/Users/mokur/OneDrive - University of Cambridge/Attachments/Jan2023/Tau_pipeline/Tau_classification/Untrained/Training_data/STN&GP/\"\n",
    "filename = \"training.txt\"\n",
    "\n",
    "# Create tau database object \n",
    "stn_gp_data = TauDataBase(path = path,\n",
    "                      filename = filename) \n",
    "\n",
    "# Prepping data to train tau classifier for dentate nucleus\n",
    "stn_gp_data.classifier2_prep()\n",
    "\n",
    "# Check data\n",
    "print(stn_gp_data.c2_data['Class'].value_counts())\n",
    "print(stn_gp_data.c2_X_train.shape)"
   ]
  },
  {
   "cell_type": "code",
   "execution_count": 10,
   "metadata": {},
   "outputs": [
    {
     "name": "stdout",
     "output_type": "stream",
     "text": [
      "Fitting 10 folds for each of 100 candidates, totalling 1000 fits\n",
      "0.9722748280702873\n",
      "{'selector__n_features_to_select': 34, 'clf__sampling_strategy': 'not majority', 'clf__random_state': 42, 'clf__n_estimators': 500, 'clf__min_samples_split': 2, 'clf__min_samples_leaf': 2, 'clf__max_samples': 0.75, 'clf__max_features': 0.6, 'clf__max_depth': 15, 'clf__class_weight': 'balanced'}\n"
     ]
    }
   ],
   "source": [
    "# Tuning \n",
    "rf_random = RandomizedSearchCV(pipeline,\n",
    "                               param_distributions=random_grid, \n",
    "                               n_iter=100,\n",
    "                               cv=10,\n",
    "                               verbose=2,\n",
    "                               random_state=42,\n",
    "                               n_jobs=-1,\n",
    "                               refit='PR_AUC',\n",
    "                               scoring={\n",
    "                                'PR_AUC':precision_recall_auc_tau_noTA,\n",
    "                                'roc_auc_ovr_weighted':'roc_auc_ovr_weighted',\n",
    "                                'roc_auc_ovo':'roc_auc_ovo',\n",
    "                                'balanced_accuracy':'balanced_accuracy',\n",
    "                                'f1_weighted':'f1_weighted',\n",
    "                                'CB_accuracy': CB_acc_noTA,\n",
    "                                'NFT_accuracy':NFT_acc_noTA,\n",
    "                                'Others_accuracy':Others_acc_noTA\n",
    "                                        })\n",
    "\n",
    "rf_random.fit(stn_gp_data.c2_X_train,\n",
    "              stn_gp_data.c2_Y_train)\n",
    "\n",
    "\n",
    "print(rf_random.best_score_)\n",
    "print(rf_random.best_params_)"
   ]
  },
  {
   "cell_type": "code",
   "execution_count": 13,
   "metadata": {},
   "outputs": [
    {
     "name": "stdout",
     "output_type": "stream",
     "text": [
      "PR-AUC: 97.22748280702874\n",
      "ROC-AUC: 99.58744381409629\n",
      "ROC-AUC: 98.89347152558356\n",
      "Balanced accuracy: 85.45460243381464\n",
      "F1_weighted: 97.82661783188965\n",
      "CB accuracy: 58.55191256830601\n",
      "NFT accuracy: 97.88888888888889\n",
      "Others accuracy: 99.92300584424903\n"
     ]
    }
   ],
   "source": [
    "# Digging into more details \n",
    "print(\"PR-AUC:\",\n",
    "      rf_random.cv_results_['mean_test_PR_AUC'][rf_random.best_index_]*100)\n",
    "print(\"ROC-AUC:\",\n",
    "      rf_random.cv_results_['mean_test_roc_auc_ovr_weighted'][rf_random.best_index_]*100)\n",
    "print(\"ROC-AUC:\",\n",
    "      rf_random.cv_results_['mean_test_roc_auc_ovo'][rf_random.best_index_]*100)\n",
    "\n",
    "print(\"Balanced accuracy:\",\n",
    "      rf_random.cv_results_['mean_test_balanced_accuracy'][rf_random.best_index_]*100)\n",
    "\n",
    "print(\"F1_weighted:\",\n",
    "      rf_random.cv_results_['mean_test_f1_weighted'][rf_random.best_index_]*100)\n",
    "\n",
    "print(\"CB accuracy:\",\n",
    "      rf_random.cv_results_['mean_test_CB_accuracy'][rf_random.best_index_]*100)\n",
    "\n",
    "print(\"NFT accuracy:\",\n",
    "      rf_random.cv_results_['mean_test_NFT_accuracy'][rf_random.best_index_]*100)\n",
    "\n",
    "print(\"Others accuracy:\",\n",
    "      rf_random.cv_results_['mean_test_Others_accuracy'][rf_random.best_index_]*100)\n",
    "\n",
    "# print(\"Classified CB as NFT:\",\n",
    "#       rf_random.cv_results_['mean_test_CB_as_NFT'][rf_random.best_index_]*100)\n",
    "\n",
    "# print(\"Classified CB as Others:\",\n",
    "#       rf_random.cv_results_['mean_test_CB_as_Others'][rf_random.best_index_]*100)\n",
    "\n",
    "# print(\"Classified NFT as CB:\",\n",
    "#       rf_random.cv_results_['mean_test_NFT_as_CB'][rf_random.best_index_]*100)\n",
    "\n",
    "# print(\"Classified NFT as Others:\",\n",
    "#       rf_random.cv_results_['mean_test_NFT_as_Others'][rf_random.best_index_]*100)\n",
    "\n",
    "# print(\"Classified Others as CB:\",\n",
    "#       rf_random.cv_results_['mean_test_Others_as_CB'][rf_random.best_index_]*100)\n",
    "\n",
    "# print(\"Classified Others as NFT:\",\n",
    "#       rf_random.cv_results_['mean_test_Others_as_NFT'][rf_random.best_index_]*100)\n",
    "\n",
    "                                                       "
   ]
  },
  {
   "cell_type": "code",
   "execution_count": 12,
   "metadata": {},
   "outputs": [
    {
     "data": {
      "text/plain": [
       "['stn_gp_random_search.sav']"
      ]
     },
     "execution_count": 12,
     "metadata": {},
     "output_type": "execute_result"
    }
   ],
   "source": [
    "# save object using joblib\n",
    "joblib.dump(rf_random, 'stn_gp_random_search.sav')"
   ]
  },
  {
   "attachments": {},
   "cell_type": "markdown",
   "metadata": {},
   "source": [
    "{'selector__n_features_to_select': 34, 'clf__sampling_strategy': 'not majority', 'clf__random_state': 42, 'clf__n_estimators': 500, 'clf__min_samples_split': 2, 'clf__min_samples_leaf': 2, 'clf__max_samples': 0.75, 'clf__max_features': 0.6, 'clf__max_depth': 15, 'clf__class_weight': 'balanced'}\n"
   ]
  },
  {
   "cell_type": "code",
   "execution_count": 15,
   "metadata": {},
   "outputs": [],
   "source": [
    "stn_gp_classifier_hyperparams = [\n",
    "    ('normalizer', MinMaxScaler()),\n",
    "    ('selector', RFE(RandomForestClassifier(\n",
    "        random_state=42),\n",
    "        n_features_to_select=34)),\n",
    "    ('clf', BalancedRandomForestClassifier(\n",
    "        random_state=42,\n",
    "        sampling_strategy='not majority',\n",
    "        n_estimators=500,\n",
    "        min_samples_split=2,\n",
    "        min_samples_leaf=2,\n",
    "        max_features=0.6,\n",
    "        max_depth=15,\n",
    "        max_samples=0.75,\n",
    "        class_weight='balanced'))]\n",
    "        \n",
    "# 10-fold cross validation\n",
    "model = TauClassifierNoTATuning(hyperparameters=stn_gp_classifier_hyperparams)\n",
    "model.find_bestparameters(X=stn_gp_data.c2_X_train,\n",
    "                          Y=stn_gp_data.c2_Y_train)\n"
   ]
  },
  {
   "cell_type": "code",
   "execution_count": 16,
   "metadata": {},
   "outputs": [
    {
     "data": {
      "text/plain": [
       "{0: (0.18845399342448405,\n",
       "  0.8946962279425845,\n",
       "  0.8965841716432827,\n",
       "  0.9002459016393443),\n",
       " 1: (0.7187865615771717,\n",
       "  0.9529564106344293,\n",
       "  0.9518181818181819,\n",
       "  0.9588888888888889),\n",
       " 2: (0.774700336310272,\n",
       "  0.9956218336556081,\n",
       "  0.9939498939499222,\n",
       "  0.9973053231655025)}"
      ]
     },
     "execution_count": 16,
     "metadata": {},
     "output_type": "execute_result"
    }
   ],
   "source": [
    "model.best_parameters"
   ]
  },
  {
   "cell_type": "code",
   "execution_count": 17,
   "metadata": {},
   "outputs": [],
   "source": [
    "model.cv_withthresholding(best_parameters=model.best_parameters,\n",
    "                          X=stn_gp_data.c2_X_train,\n",
    "                          Y=stn_gp_data.c2_Y_train,\n",
    "                          X_location=stn_gp_data.c2_train_location)\n"
   ]
  },
  {
   "cell_type": "code",
   "execution_count": 18,
   "metadata": {},
   "outputs": [
    {
     "name": "stdout",
     "output_type": "stream",
     "text": [
      "with thresholding (non-calibrated) ACC : 91.70069896154904\n",
      "Macro avg F1  92.9655774203556\n",
      "Weighted avg F1  98.95283661544583\n",
      "--------------------------\n",
      "[[  509     4    74]\n",
      " [   10    79     0]\n",
      " [   53     0 12920]]\n",
      "[[86.7120954   0.68143101 12.60647359]\n",
      " [11.23595506 88.76404494  0.        ]\n",
      " [ 0.40854082  0.         99.59145918]]\n",
      "--------------------------\n",
      "CB accuracy 86.71209540034071\n",
      "NFT accuracy 88.76404494382022\n",
      "Others accuracy 99.59145918446004\n",
      "------------------------------\n",
      "CB f1-score  87.7236378113181\n",
      "CB precision  88.9912614256301\n",
      "CB recall  86.74482963692107\n",
      "--------------------------\n",
      "NFT f1-score  91.66196978116483\n",
      "NFT precision  95.64213564213564\n",
      "NFT recall  88.76587301587303\n",
      "--------------------------\n",
      "Others f1-score  99.51112466858389\n",
      "Others precision  99.43167173995795\n",
      "Others recall  99.59139423185303\n",
      "--------------------------\n",
      "Macro avg precision 94.68835626924124\n",
      "Macro avg recall  91.70069896154904\n"
     ]
    }
   ],
   "source": [
    "# Confusion matrix across 10 folds, WITH thresholding \n",
    "print('with thresholding (non-calibrated) ACC :', mean(model.cv_accuraciesT)*100)\n",
    "print('Macro avg F1 ', \n",
    "      mean([i['macro avg']['f1-score'] for i in model.cv_reportsT])*100)\n",
    "print('Weighted avg F1 ',\n",
    "      mean([i['weighted avg']['f1-score'] for i in model.cv_reportsT])*100)\n",
    "print(\"--------------------------\")\n",
    "cf_t = sum(model.cv_confusion_matricesT)\n",
    "final_cm_t =  cf_t.astype('float') / cf_t.sum(axis=1)[:, np.newaxis]*100\n",
    "print(cf_t)\n",
    "print(final_cm_t)\n",
    "print(\"--------------------------\")\n",
    "print(\"CB accuracy\",final_cm_t[0][0])\n",
    "print(\"NFT accuracy\",final_cm_t[1][1])\n",
    "print(\"Others accuracy\",final_cm_t[2][2])\n",
    "print('------------------------------')\n",
    "# F1-score per class: \n",
    "print('CB f1-score ',mean([i['CB']['f1-score'] for i in model.cv_reportsT])*100)\n",
    "print('CB precision ',mean([i['CB']['precision'] for i in model.cv_reportsT])*100)\n",
    "print('CB recall ',mean([i['CB']['recall'] for i in model.cv_reportsT])*100)\n",
    "print(\"--------------------------\")\n",
    "print('NFT f1-score ',mean([i['NFT']['f1-score'] for i in model.cv_reportsT])*100)\n",
    "print('NFT precision ',mean([i['NFT']['precision'] for i in model.cv_reportsT])*100)\n",
    "print('NFT recall ',mean([i['NFT']['recall'] for i in model.cv_reportsT])*100)\n",
    "print(\"--------------------------\")\n",
    "print('Others f1-score ',mean([i['Others']['f1-score'] for i in model.cv_reportsT])*100)\n",
    "print('Others precision ',mean([i['Others']['precision'] for i in model.cv_reportsT])*100)\n",
    "print('Others recall ',mean([i['Others']['recall'] for i in model.cv_reportsT])*100)\n",
    "print(\"--------------------------\")\n",
    "print('Macro avg precision',\n",
    "      mean([i['macro avg']['precision'] for i in model.cv_reportsT])*100)\n",
    "print('Macro avg recall ',\n",
    "      mean([i['macro avg']['recall'] for i in model.cv_reportsT])*100)"
   ]
  },
  {
   "cell_type": "code",
   "execution_count": 19,
   "metadata": {},
   "outputs": [],
   "source": [
    "model.cv_nothresholding(X=stn_gp_data.c2_X_train,\n",
    "                        Y=stn_gp_data.c2_Y_train,\n",
    "                        X_location=stn_gp_data.c2_train_location)"
   ]
  },
  {
   "cell_type": "code",
   "execution_count": 20,
   "metadata": {},
   "outputs": [
    {
     "name": "stdout",
     "output_type": "stream",
     "text": [
      "with no thresholding: 85.45460243381464\n",
      "Macro avg F1  86.9573793460781\n",
      "Weighted avg F1  97.82661783188965\n",
      "--------------------------\n",
      "[[  352    20   229]\n",
      " [    2    95     0]\n",
      " [   10     0 12978]]\n",
      "[[5.85690516e+01 3.32778702e+00 3.81031614e+01]\n",
      " [2.06185567e+00 9.79381443e+01 0.00000000e+00]\n",
      " [7.69941484e-02 0.00000000e+00 9.99230059e+01]]\n",
      "--------------------------\n",
      "CB accuracy 58.56905158069884\n",
      "NFT accuracy 97.9381443298969\n",
      "Others accuracy 99.92300585155527\n",
      "------------------------------\n",
      "CB f1-score  71.80122481047741\n",
      "CB precision  96.52893680800658\n",
      "CB recall  58.55191256830601\n",
      "--------------------------\n",
      "NFT f1-score  89.98244040699284\n",
      "NFT precision  84.01931401931402\n",
      "NFT recall  97.88888888888889\n",
      "--------------------------\n",
      "Others f1-score  99.08847282076408\n",
      "Others precision  98.2696422029182\n",
      "Others recall  99.92300584424905\n",
      "--------------------------\n",
      "Macro avg precision 92.93929767674626\n",
      "Macro avg recall  85.45460243381464\n"
     ]
    }
   ],
   "source": [
    "#Confusion matrix across 10 folds, WITHOUT thresholding \n",
    "print('with no thresholding:',\n",
    "      mean(model.cv_accuracies)*100)\n",
    "print('Macro avg F1 ',\n",
    "      mean([i['macro avg']['f1-score'] for i in model.cv_reports])*100)\n",
    "print('Weighted avg F1 ',\n",
    "      mean([i['weighted avg']['f1-score'] for i in model.cv_reports])*100)\n",
    "print(\"--------------------------\")\n",
    "cf = sum(model.cv_confusion_matrices)\n",
    "final_cm =  cf.astype('float') / cf.sum(axis=1)[:, np.newaxis]*100\n",
    "print(cf)\n",
    "print(final_cm)\n",
    "print(\"--------------------------\")\n",
    "print(\"CB accuracy\",final_cm[0][0])\n",
    "print(\"NFT accuracy\",final_cm[1][1])\n",
    "print(\"Others accuracy\",final_cm[2][2])\n",
    "print('------------------------------')\n",
    "# F1-score per class: \n",
    "print('CB f1-score ',mean([i['CB']['f1-score'] for i in model.cv_reports])*100)\n",
    "print('CB precision ',mean([i['CB']['precision'] for i in model.cv_reports])*100)\n",
    "print('CB recall ',mean([i['CB']['recall'] for i in model.cv_reports])*100)\n",
    "print(\"--------------------------\")\n",
    "print('NFT f1-score ',mean([i['NFT']['f1-score'] for i in model.cv_reports])*100)\n",
    "print('NFT precision ',mean([i['NFT']['precision'] for i in model.cv_reports])*100)\n",
    "print('NFT recall ',mean([i['NFT']['recall'] for i in model.cv_reports])*100)\n",
    "print(\"--------------------------\")\n",
    "print('Others f1-score ',mean([i['Others']['f1-score'] for i in model.cv_reports])*100)\n",
    "print('Others precision ',mean([i['Others']['precision'] for i in model.cv_reports])*100)\n",
    "print('Others recall ',mean([i['Others']['recall'] for i in model.cv_reports])*100)\n",
    "print(\"--------------------------\")\n",
    "print('Macro avg precision',\n",
    "      mean([i['macro avg']['precision'] for i in model.cv_reports])*100)\n",
    "print('Macro avg recall ',\n",
    "      mean([i['macro avg']['recall'] for i in model.cv_reports])*100)"
   ]
  },
  {
   "cell_type": "code",
   "execution_count": 21,
   "metadata": {},
   "outputs": [
    {
     "data": {
      "text/plain": [
       "['stn_gp_cv_results.sav']"
      ]
     },
     "execution_count": 21,
     "metadata": {},
     "output_type": "execute_result"
    }
   ],
   "source": [
    "# save object using joblib\n",
    "joblib.dump(model, 'stn_gp_cv_results.sav')"
   ]
  },
  {
   "cell_type": "code",
   "execution_count": 5,
   "metadata": {},
   "outputs": [],
   "source": [
    "# The final model\n",
    "loaded_model = joblib.load('/Users/mokur/OneDrive - University of Cambridge/Attachments/Jan2023/Tau_pipeline/Tuning_parameters/Final/results/stn_gp_cv_results.sav')\n",
    "cf_t = sum(loaded_model.cv_confusion_matricesT)\n",
    "final_cm_t =  cf_t.astype('float') / cf_t.sum(axis=1)[:, np.newaxis]*100"
   ]
  },
  {
   "cell_type": "code",
   "execution_count": 6,
   "metadata": {},
   "outputs": [
    {
     "name": "stdout",
     "output_type": "stream",
     "text": [
      "total: 13686\n",
      "{'Ambiguous', 'NFT', 'Others', 'CB'}\n",
      "Ambiguous:  37\n",
      "proportion Ambiguous:  0.0027034926201958205\n"
     ]
    }
   ],
   "source": [
    "# find out proportion of ambiguous cells \n",
    "predicted = (sum(loaded_model.cv_y_predictsT, []))\n",
    "print('total:',len(predicted))\n",
    "print(set(predicted))\n",
    "amb_n = sum(1 for i in predicted if i =='Ambiguous')\n",
    "print('Ambiguous: ',amb_n)\n",
    "print('proportion Ambiguous: ', amb_n/len(predicted) )"
   ]
  },
  {
   "cell_type": "code",
   "execution_count": 7,
   "metadata": {},
   "outputs": [
    {
     "data": {
      "text/plain": [
       "{0: (0.18845399342448405,\n",
       "  0.8946962279425845,\n",
       "  0.8965841716432827,\n",
       "  0.9002459016393443),\n",
       " 1: (0.7187865615771717,\n",
       "  0.9529564106344293,\n",
       "  0.9518181818181819,\n",
       "  0.9588888888888889),\n",
       " 2: (0.774700336310272,\n",
       "  0.9956218336556081,\n",
       "  0.9939498939499222,\n",
       "  0.9973053231655025)}"
      ]
     },
     "execution_count": 7,
     "metadata": {},
     "output_type": "execute_result"
    }
   ],
   "source": [
    "loaded_model.best_parameters"
   ]
  },
  {
   "cell_type": "code",
   "execution_count": 8,
   "metadata": {},
   "outputs": [
    {
     "data": {
      "text/plain": [
       "array([[86.7120954 ,  0.68143101, 12.60647359],\n",
       "       [11.23595506, 88.76404494,  0.        ],\n",
       "       [ 0.40854082,  0.        , 99.59145918]])"
      ]
     },
     "execution_count": 8,
     "metadata": {},
     "output_type": "execute_result"
    }
   ],
   "source": [
    "final_cm_t"
   ]
  },
  {
   "cell_type": "code",
   "execution_count": 13,
   "metadata": {},
   "outputs": [
    {
     "data": {
      "image/png": "[encoded data removed]",
      "text/plain": [
       "<Figure size 640x480 with 2 Axes>"
      ]
     },
     "metadata": {},
     "output_type": "display_data"
    }
   ],
   "source": [
    "plot = ConfusionMatrixDisplay(final_cm_t,\n",
    "                              display_labels=['CB','NFT','TF'])\n",
    "plot.plot(cmap='cividis', values_format='.2f')         \n",
    "plt.show()"
   ]
  },
  {
   "cell_type": "code",
   "execution_count": 14,
   "metadata": {},
   "outputs": [
    {
     "name": "stdout",
     "output_type": "stream",
     "text": [
      "Macro avg F1  92.9655774203556\n",
      "Macro avg F1 std  2.656785212034748\n",
      "--------------------------\n",
      "Macro avg precision 94.68835626924124\n",
      "Macro avg precision std 2.6462475281240327\n",
      "--------------------------\n",
      "Macro avg recall  91.70069896154904\n",
      "Macro avg recall std 4.198626381898822\n"
     ]
    }
   ],
   "source": [
    "model = loaded_model\n",
    "# Confusion matrix across 10 folds, WITH thresholding \n",
    "print('Macro avg F1 ', \n",
    "      mean([i['macro avg']['f1-score'] for i in model.cv_reportsT])*100)\n",
    "print('Macro avg F1 std ', \n",
    "      np.std([i['macro avg']['f1-score'] for i in model.cv_reportsT])*100)\n",
    "\n",
    "print(\"--------------------------\")\n",
    "print('Macro avg precision',\n",
    "      mean([i['macro avg']['precision'] for i in model.cv_reportsT])*100)\n",
    "print('Macro avg precision std',\n",
    "      np.std([i['macro avg']['precision'] for i in model.cv_reportsT])*100)\n",
    "print(\"--------------------------\")\n",
    "print('Macro avg recall ',\n",
    "      mean([i['macro avg']['recall'] for i in model.cv_reportsT])*100)\n",
    "print('Macro avg recall std',\n",
    "      np.std([i['macro avg']['recall'] for i in model.cv_reportsT])*100)"
   ]
  },
  {
   "cell_type": "code",
   "execution_count": 15,
   "metadata": {},
   "outputs": [
    {
     "name": "stdout",
     "output_type": "stream",
     "text": [
      "Macro avg F1  86.9573793460781\n",
      "Macro avg F1 std  6.050319663205212\n",
      "--------------------------\n",
      "Macro avg precision 92.93929767674626\n",
      "Macro avg precision std 3.8440733147390085\n",
      "--------------------------\n",
      "Macro avg recall  85.45460243381464\n",
      "Macro avg recall std 5.616623828711429\n"
     ]
    }
   ],
   "source": [
    "model = loaded_model\n",
    "# Confusion matrix across 10 folds, WITH NO thresholding \n",
    "print('Macro avg F1 ', \n",
    "      mean([i['macro avg']['f1-score'] for i in model.cv_reports])*100)\n",
    "print('Macro avg F1 std ', \n",
    "      np.std([i['macro avg']['f1-score'] for i in model.cv_reports])*100)\n",
    "\n",
    "print(\"--------------------------\")\n",
    "print('Macro avg precision',\n",
    "      mean([i['macro avg']['precision'] for i in model.cv_reports])*100)\n",
    "print('Macro avg precision std',\n",
    "      np.std([i['macro avg']['precision'] for i in model.cv_reports])*100)\n",
    "print(\"--------------------------\")\n",
    "print('Macro avg recall ',\n",
    "      mean([i['macro avg']['recall'] for i in model.cv_reports])*100)\n",
    "print('Macro avg recall std',\n",
    "      np.std([i['macro avg']['recall'] for i in model.cv_reports])*100)"
   ]
  },
  {
   "attachments": {},
   "cell_type": "markdown",
   "metadata": {},
   "source": [
    "Plotting feature importance"
   ]
  },
  {
   "cell_type": "code",
   "execution_count": 16,
   "metadata": {},
   "outputs": [],
   "source": [
    "import seaborn as sns"
   ]
  },
  {
   "cell_type": "code",
   "execution_count": 17,
   "metadata": {},
   "outputs": [],
   "source": [
    "model_rf = joblib.load('/Users/mokur/OneDrive - University of Cambridge/Attachments/Jan2023/Tau_pipeline/Tuning_parameters/Final/scripts/stn_gp_random_search.sav')"
   ]
  },
  {
   "cell_type": "code",
   "execution_count": 18,
   "metadata": {},
   "outputs": [],
   "source": [
    "#With feature selection\n",
    "rf_result = model_rf.best_estimator_.named_steps['selector'].get_support(indices=True)\n",
    "rf_result\n",
    "rf_result_f = [stn_gp_data.c2_X_train.columns[i] for i in rf_result]\n",
    "# (rf_result_f)\n",
    "importance = model_rf.best_estimator_.named_steps['clf'].feature_importances_\n",
    "f_importance = pd.DataFrame(data={'features':rf_result_f,'importance':importance})\n",
    "f_importance = f_importance.sort_values(by=['importance'],ascending=False)"
   ]
  },
  {
   "cell_type": "code",
   "execution_count": 19,
   "metadata": {},
   "outputs": [],
   "source": [
    "f_importance_subset = f_importance[0:11]\n",
    "features = [i.replace('ROI: 0.25 µm per pixel: ','') for i in f_importance_subset['features']]\n",
    "f_importance_subset = f_importance_subset.copy()\n",
    "f_importance_subset.loc[:,'features'] = features\n",
    "f_importance_subset = f_importance_subset.rename(columns={'features':'Feature',\n",
    "                                    'importance':'Importance'})"
   ]
  },
  {
   "cell_type": "code",
   "execution_count": 20,
   "metadata": {},
   "outputs": [
    {
     "data": {
      "text/html": [
       "<div>\n",
       "<style scoped>\n",
       "    .dataframe tbody tr th:only-of-type {\n",
       "        vertical-align: middle;\n",
       "    }\n",
       "\n",
       "    .dataframe tbody tr th {\n",
       "        vertical-align: top;\n",
       "    }\n",
       "\n",
       "    .dataframe thead th {\n",
       "        text-align: right;\n",
       "    }\n",
       "</style>\n",
       "<table border=\"1\" class=\"dataframe\">\n",
       "  <thead>\n",
       "    <tr style=\"text-align: right;\">\n",
       "      <th></th>\n",
       "      <th>Feature</th>\n",
       "      <th>Importance</th>\n",
       "    </tr>\n",
       "  </thead>\n",
       "  <tbody>\n",
       "    <tr>\n",
       "      <th>0</th>\n",
       "      <td>Area µm^2</td>\n",
       "      <td>0.510403</td>\n",
       "    </tr>\n",
       "    <tr>\n",
       "      <th>4</th>\n",
       "      <td>Min diameter µm</td>\n",
       "      <td>0.193240</td>\n",
       "    </tr>\n",
       "    <tr>\n",
       "      <th>21</th>\n",
       "      <td>DAB: Mean</td>\n",
       "      <td>0.074044</td>\n",
       "    </tr>\n",
       "    <tr>\n",
       "      <th>3</th>\n",
       "      <td>Max diameter µm</td>\n",
       "      <td>0.031333</td>\n",
       "    </tr>\n",
       "    <tr>\n",
       "      <th>33</th>\n",
       "      <td>Solidity</td>\n",
       "      <td>0.028362</td>\n",
       "    </tr>\n",
       "    <tr>\n",
       "      <th>17</th>\n",
       "      <td>DAB: Haralick Sum average (F5)</td>\n",
       "      <td>0.017806</td>\n",
       "    </tr>\n",
       "    <tr>\n",
       "      <th>2</th>\n",
       "      <td>Length µm</td>\n",
       "      <td>0.016333</td>\n",
       "    </tr>\n",
       "    <tr>\n",
       "      <th>13</th>\n",
       "      <td>DAB: Haralick Correlation (F2)</td>\n",
       "      <td>0.016182</td>\n",
       "    </tr>\n",
       "    <tr>\n",
       "      <th>22</th>\n",
       "      <td>DAB: Median</td>\n",
       "      <td>0.013722</td>\n",
       "    </tr>\n",
       "    <tr>\n",
       "      <th>18</th>\n",
       "      <td>DAB: Haralick Sum entropy (F7)</td>\n",
       "      <td>0.011604</td>\n",
       "    </tr>\n",
       "    <tr>\n",
       "      <th>23</th>\n",
       "      <td>Green: Mean</td>\n",
       "      <td>0.010431</td>\n",
       "    </tr>\n",
       "  </tbody>\n",
       "</table>\n",
       "</div>"
      ],
      "text/plain": [
       "                           Feature  Importance\n",
       "0                        Area µm^2    0.510403\n",
       "4                  Min diameter µm    0.193240\n",
       "21                       DAB: Mean    0.074044\n",
       "3                  Max diameter µm    0.031333\n",
       "33                        Solidity    0.028362\n",
       "17  DAB: Haralick Sum average (F5)    0.017806\n",
       "2                        Length µm    0.016333\n",
       "13  DAB: Haralick Correlation (F2)    0.016182\n",
       "22                     DAB: Median    0.013722\n",
       "18  DAB: Haralick Sum entropy (F7)    0.011604\n",
       "23                     Green: Mean    0.010431"
      ]
     },
     "execution_count": 20,
     "metadata": {},
     "output_type": "execute_result"
    }
   ],
   "source": [
    "f_importance_subset"
   ]
  },
  {
   "cell_type": "code",
   "execution_count": 21,
   "metadata": {},
   "outputs": [
    {
     "data": {
      "text/plain": [
       "<Axes: xlabel='Importance', ylabel='Feature'>"
      ]
     },
     "execution_count": 21,
     "metadata": {},
     "output_type": "execute_result"
    },
    {
     "data": {
      "image/png": "[encoded data removed]",
      "text/plain": [
       "<Figure size 640x480 with 1 Axes>"
      ]
     },
     "metadata": {},
     "output_type": "display_data"
    }
   ],
   "source": [
    "sns.barplot(data=f_importance_subset,\n",
    "            y=\"Feature\",\n",
    "            x=\"Importance\",\n",
    "            color='midnightblue')"
   ]
  },
  {
   "attachments": {},
   "cell_type": "markdown",
   "metadata": {},
   "source": [
    "Finding PR-AUC"
   ]
  },
  {
   "cell_type": "code",
   "execution_count": 22,
   "metadata": {},
   "outputs": [],
   "source": [
    "keys = ['split0_test_PR_AUC',\n",
    "        'split1_test_PR_AUC',\n",
    "        'split2_test_PR_AUC',\n",
    "        'split3_test_PR_AUC',\n",
    "        'split4_test_PR_AUC',\n",
    "        'split5_test_PR_AUC',\n",
    "        'split6_test_PR_AUC',\n",
    "        'split7_test_PR_AUC',\n",
    "        'split8_test_PR_AUC',\n",
    "        'split9_test_PR_AUC']\n",
    "pr_val = []\n",
    "for i in keys:\n",
    "    pr_val.append(model_rf.cv_results_[i][model_rf.best_index_])"
   ]
  },
  {
   "cell_type": "code",
   "execution_count": 23,
   "metadata": {},
   "outputs": [
    {
     "name": "stdout",
     "output_type": "stream",
     "text": [
      "97.22748280702874\n",
      "mean pr: 97.22748280702874\n",
      "std pr: 2.003747264593253\n"
     ]
    }
   ],
   "source": [
    "print(model_rf.cv_results_['mean_test_PR_AUC'][model_rf.best_index_]*100)\n",
    "print('mean pr:', mean(pr_val)*100)\n",
    "print('std pr:', np.std(pr_val)*100)"
   ]
  }
 ],
 "metadata": {
  "kernelspec": {
   "display_name": "Python 3.9.13 ('base')",
   "language": "python",
   "name": "python3"
  },
  "language_info": {
   "codemirror_mode": {
    "name": "ipython",
    "version": 3
   },
   "file_extension": ".py",
   "mimetype": "text/x-python",
   "name": "python",
   "nbconvert_exporter": "python",
   "pygments_lexer": "ipython3",
   "version": "3.8.16"
  },
  "orig_nbformat": 4,
  "vscode": {
   "interpreter": {
    "hash": "f49f039f1826f29992caaab1300810c8c9e5d31d3955aed133543fc6668591e2"
   }
  }
 },
 "nbformat": 4,
 "nbformat_minor": 2
}
