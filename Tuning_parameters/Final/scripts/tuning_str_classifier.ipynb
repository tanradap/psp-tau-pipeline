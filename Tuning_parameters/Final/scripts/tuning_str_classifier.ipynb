{
 "cells": [
  {
   "cell_type": "code",
   "execution_count": 1,
   "metadata": {},
   "outputs": [],
   "source": [
    "# Importing libraries\n",
    "import sys\n",
    "sys.path.insert(0,\n",
    "                '/Users/mokur/OneDrive - University of Cambridge/Attachments/Jan2023/Tau_pipeline/Tau_classification/')\n",
    "\n",
    "from base import *\n",
    "from constants import *"
   ]
  },
  {
   "cell_type": "code",
   "execution_count": 2,
   "metadata": {},
   "outputs": [],
   "source": [
    "sys.path.insert(0,\n",
    "                '/Users/mokur/OneDrive - University of Cambridge/Attachments/Jan2023/Tau_pipeline/Tuning_parameters/')\n",
    "\n",
    "from tuning import * \n",
    "from extra_metrics_training import *\n",
    "from tuning_constants import *"
   ]
  },
  {
   "cell_type": "code",
   "execution_count": 3,
   "metadata": {},
   "outputs": [],
   "source": [
    "import pandas as pd\n",
    "import numpy as np \n",
    "import random \n",
    "\n",
    "from sklearn import preprocessing \n",
    "\n",
    "from sklearn.pipeline import Pipeline\n",
    "from sklearn.preprocessing import MinMaxScaler\n",
    "from sklearn.ensemble import RandomForestClassifier\n",
    "from imblearn.ensemble import BalancedRandomForestClassifier\n",
    "from sklearn.model_selection import RandomizedSearchCV \n",
    "from sklearn.metrics import ConfusionMatrixDisplay\n",
    "import matplotlib.pyplot as plt\n",
    "\n"
   ]
  },
  {
   "cell_type": "code",
   "execution_count": 4,
   "metadata": {},
   "outputs": [],
   "source": [
    "import joblib"
   ]
  },
  {
   "cell_type": "code",
   "execution_count": 6,
   "metadata": {},
   "outputs": [
    {
     "name": "stdout",
     "output_type": "stream",
     "text": [
      "Others    3116\n",
      "CB         335\n",
      "TA         200\n",
      "NFT         48\n",
      "Name: Class, dtype: int64\n",
      "(3699, 54)\n"
     ]
    }
   ],
   "source": [
    "path = \"/Users/mokur/OneDrive - University of Cambridge/Attachments/Jan2023/Tau_pipeline/Tau_classification/Untrained/Training_data/STR/\"\n",
    "filename = \"training.txt\"\n",
    "\n",
    "# Create tau database object \n",
    "str_data = TauDataBase(path = path,\n",
    "                       filename = filename) \n",
    "\n",
    "# Prepping data to train tau classifier for striatum\n",
    "str_data.classifier2_prep()\n",
    "\n",
    "# Check data\n",
    "print(str_data.c2_data['Class'].value_counts())\n",
    "print(str_data.c2_X_train.shape)"
   ]
  },
  {
   "cell_type": "code",
   "execution_count": 6,
   "metadata": {},
   "outputs": [
    {
     "name": "stdout",
     "output_type": "stream",
     "text": [
      "Fitting 10 folds for each of 100 candidates, totalling 1000 fits\n",
      "0.9749848406191827\n",
      "{'selector__n_features_to_select': 34, 'clf__sampling_strategy': 'not majority', 'clf__random_state': 42, 'clf__n_estimators': 500, 'clf__min_samples_split': 2, 'clf__min_samples_leaf': 2, 'clf__max_samples': 0.75, 'clf__max_features': 0.6, 'clf__max_depth': 15, 'clf__class_weight': 'balanced'}\n"
     ]
    }
   ],
   "source": [
    "# Tuning \n",
    "rf_random = RandomizedSearchCV(pipeline,\n",
    "                               param_distributions=random_grid, \n",
    "                               n_iter=100,\n",
    "                               cv=10,\n",
    "                               verbose=2,\n",
    "                               random_state=42,\n",
    "                               n_jobs=-1,\n",
    "                               refit='PR_AUC',\n",
    "                               scoring={\n",
    "                                'PR_AUC':precision_recall_auc_tau,\n",
    "                                'roc_auc_ovr_weighted':'roc_auc_ovr_weighted',\n",
    "                                'roc_auc_ovo':'roc_auc_ovo',\n",
    "                                'balanced_accuracy':'balanced_accuracy',\n",
    "                                'f1_weighted':'f1_weighted',\n",
    "                                'CB_accuracy': CB_acc,\n",
    "                                'NFT_accuracy':NFT_acc,\n",
    "                                'Others_accuracy':Others_acc,\n",
    "                                'TA_accuracy':TA_acc,\n",
    "                                'CB_as_NFT':CB_as_NFT,\n",
    "                                'CB_as_Others':CB_as_Others,\n",
    "                                'CB_as_TA':CB_as_TA,\n",
    "                                'NFT_as_CB':NFT_as_CB,\n",
    "                                'NFT_as_Others':NFT_as_Others,\n",
    "                                'NFT_as_TA':NFT_as_TA,\n",
    "                                'Others_as_CB':Others_as_CB,\n",
    "                                'Others_as_NFT':Others_as_NFT,\n",
    "                                'Others_as_TA':Others_as_TA,\n",
    "                                'TA_as_CB':TA_as_CB,\n",
    "                                'TA_as_NFT':TA_as_NFT,\n",
    "                                'TA_as_Others':TA_as_Others\n",
    "                                        })\n",
    "\n",
    "rf_random.fit(str_data.c2_X_train,\n",
    "              str_data.c2_Y_train)\n",
    "\n",
    "\n",
    "print(rf_random.best_score_)\n",
    "print(rf_random.best_params_)"
   ]
  },
  {
   "cell_type": "code",
   "execution_count": 7,
   "metadata": {},
   "outputs": [
    {
     "name": "stdout",
     "output_type": "stream",
     "text": [
      "PR-AUC: 97.49848406191826\n",
      "ROC-AUC: 99.69705094764902\n",
      "ROC-AUC: 99.30288578421086\n",
      "Balanced accuracy: 85.55303865244524\n",
      "F1_weighted: 94.70692083592027\n",
      "CB accuracy: 57.62923351158646\n",
      "NFT accuracy: 92.0\n",
      "Others accuracy: 99.5829210981944\n",
      "TA accuracy: 93.0\n",
      "Classified CB as NFT: 1.7914438502673797\n",
      "Classified CB as Others: 33.11942959001782\n",
      "Classified CB as TA: 7.459893048128342\n",
      "Classified NFT as CB: 2.0\n",
      "Classified NFT as Others: 0.0\n",
      "Classified NFT as TA: 6.000000000000001\n",
      "Classified Others as CB: 0.22446203314370516\n",
      "Classified Others as NFT: 0.06420562288729491\n",
      "Classified Others as TA: 0.12841124577458982\n",
      "Classified TA as CB: 2.0\n",
      "Classified TA as NFT: 1.5000000000000002\n",
      "Classified TA as Others: 3.5000000000000004\n"
     ]
    }
   ],
   "source": [
    "# Digging into more details \n",
    "print(\"PR-AUC:\",\n",
    "      rf_random.cv_results_['mean_test_PR_AUC'][rf_random.best_index_]*100)\n",
    "print(\"ROC-AUC:\",\n",
    "      rf_random.cv_results_['mean_test_roc_auc_ovr_weighted'][rf_random.best_index_]*100)\n",
    "print(\"ROC-AUC:\",\n",
    "      rf_random.cv_results_['mean_test_roc_auc_ovo'][rf_random.best_index_]*100)\n",
    "\n",
    "print(\"Balanced accuracy:\",\n",
    "      rf_random.cv_results_['mean_test_balanced_accuracy'][rf_random.best_index_]*100)\n",
    "\n",
    "print(\"F1_weighted:\",\n",
    "      rf_random.cv_results_['mean_test_f1_weighted'][rf_random.best_index_]*100)\n",
    "\n",
    "print(\"CB accuracy:\",\n",
    "      rf_random.cv_results_['mean_test_CB_accuracy'][rf_random.best_index_]*100)\n",
    "\n",
    "print(\"NFT accuracy:\",\n",
    "      rf_random.cv_results_['mean_test_NFT_accuracy'][rf_random.best_index_]*100)\n",
    "\n",
    "print(\"Others accuracy:\",\n",
    "      rf_random.cv_results_['mean_test_Others_accuracy'][rf_random.best_index_]*100)\n",
    "\n",
    "print(\"TA accuracy:\",\n",
    "      rf_random.cv_results_['mean_test_TA_accuracy'][rf_random.best_index_]*100)\n",
    "\n",
    "\n",
    "print(\"Classified CB as NFT:\",\n",
    "      rf_random.cv_results_['mean_test_CB_as_NFT'][rf_random.best_index_]*100)\n",
    "\n",
    "print(\"Classified CB as Others:\",\n",
    "      rf_random.cv_results_['mean_test_CB_as_Others'][rf_random.best_index_]*100)\n",
    "\n",
    "print(\"Classified CB as TA:\",\n",
    "      rf_random.cv_results_['mean_test_CB_as_TA'][rf_random.best_index_]*100)\n",
    "\n",
    "print(\"Classified NFT as CB:\",\n",
    "      rf_random.cv_results_['mean_test_NFT_as_CB'][rf_random.best_index_]*100)\n",
    "\n",
    "print(\"Classified NFT as Others:\",\n",
    "      rf_random.cv_results_['mean_test_NFT_as_Others'][rf_random.best_index_]*100)\n",
    "\n",
    "print(\"Classified NFT as TA:\",\n",
    "      rf_random.cv_results_['mean_test_NFT_as_TA'][rf_random.best_index_]*100)\n",
    "\n",
    "print(\"Classified Others as CB:\",\n",
    "      rf_random.cv_results_['mean_test_Others_as_CB'][rf_random.best_index_]*100)\n",
    "\n",
    "print(\"Classified Others as NFT:\",\n",
    "      rf_random.cv_results_['mean_test_Others_as_NFT'][rf_random.best_index_]*100)\n",
    "\n",
    "print(\"Classified Others as TA:\",\n",
    "      rf_random.cv_results_['mean_test_Others_as_TA'][rf_random.best_index_]*100)\n",
    "\n",
    "\n",
    "print(\"Classified TA as CB:\",\n",
    "      rf_random.cv_results_['mean_test_TA_as_CB'][rf_random.best_index_]*100)\n",
    "\n",
    "print(\"Classified TA as NFT:\",\n",
    "      rf_random.cv_results_['mean_test_TA_as_NFT'][rf_random.best_index_]*100)\n",
    "\n",
    "print(\"Classified TA as Others:\",\n",
    "      rf_random.cv_results_['mean_test_TA_as_Others'][rf_random.best_index_]*100)\n",
    "                                                       "
   ]
  },
  {
   "cell_type": "code",
   "execution_count": 8,
   "metadata": {},
   "outputs": [
    {
     "data": {
      "text/plain": [
       "['str_random_search.sav']"
      ]
     },
     "execution_count": 8,
     "metadata": {},
     "output_type": "execute_result"
    }
   ],
   "source": [
    "# save object using joblib\n",
    "joblib.dump(rf_random, 'str_random_search.sav')"
   ]
  },
  {
   "attachments": {},
   "cell_type": "markdown",
   "metadata": {},
   "source": [
    "{'selector__n_features_to_select': 34, 'clf__sampling_strategy': 'not majority', 'clf__random_state': 42, 'clf__n_estimators': 500, 'clf__min_samples_split': 2, 'clf__min_samples_leaf': 2, 'clf__max_samples': 0.75, 'clf__max_features': 0.6, 'clf__max_depth': 15, 'clf__class_weight': 'balanced'}\n"
   ]
  },
  {
   "cell_type": "code",
   "execution_count": 9,
   "metadata": {},
   "outputs": [],
   "source": [
    "str_classifier_hyperparams = [\n",
    "    ('normalizer', MinMaxScaler()),\n",
    "    ('selector', RFE(RandomForestClassifier(\n",
    "        random_state=42),\n",
    "        n_features_to_select=34)),\n",
    "    ('clf', BalancedRandomForestClassifier(\n",
    "        random_state=42,\n",
    "        sampling_strategy='not majority',\n",
    "        n_estimators=500,\n",
    "        min_samples_split=2,\n",
    "        min_samples_leaf=2,\n",
    "        max_features=0.6,\n",
    "        max_depth=15,\n",
    "        max_samples=0.75,\n",
    "        class_weight='balanced'))]\n",
    "        \n",
    "# 10-fold cross validation\n",
    "model = TauClassifierTuning(hyperparameters=str_classifier_hyperparams)\n",
    "model.find_bestparameters(X=str_data.c2_X_train,\n",
    "                          Y=str_data.c2_Y_train)\n"
   ]
  },
  {
   "cell_type": "code",
   "execution_count": 10,
   "metadata": {},
   "outputs": [
    {
     "data": {
      "text/plain": [
       "{0: (0.19564858129927834,\n",
       "  0.8870751195750726,\n",
       "  0.873128875762111,\n",
       "  0.9072192513368984),\n",
       " 1: (0.8264912975852534, 0.9777777777777779, 1.0, 0.96),\n",
       " 2: (0.7613745234867089,\n",
       "  0.991988553025763,\n",
       "  0.9920257276937077,\n",
       "  0.9919779041965537),\n",
       " 3: (0.45007735002598476,\n",
       "  0.9372955624546812,\n",
       "  0.914380764163373,\n",
       "  0.9650000000000001)}"
      ]
     },
     "execution_count": 10,
     "metadata": {},
     "output_type": "execute_result"
    }
   ],
   "source": [
    "model.best_parameters"
   ]
  },
  {
   "cell_type": "code",
   "execution_count": 11,
   "metadata": {},
   "outputs": [],
   "source": [
    "model.cv_withthresholding(best_parameters=model.best_parameters,\n",
    "                          X=str_data.c2_X_train,\n",
    "                          Y=str_data.c2_Y_train,\n",
    "                          X_location=str_data.c2_train_location)\n"
   ]
  },
  {
   "cell_type": "code",
   "execution_count": 12,
   "metadata": {},
   "outputs": [
    {
     "name": "stdout",
     "output_type": "stream",
     "text": [
      "with thresholding (non-calibrated) ACC : 92.09381413395488\n",
      "Macro avg F1  92.73132961767197\n",
      "Weighted avg F1  97.35258140582046\n",
      "--------------------------\n",
      "[[ 271    0   35   16]\n",
      " [   2   41    0    3]\n",
      " [  26    0 3074    4]\n",
      " [   7    0    2  179]]\n",
      "[[84.16149068  0.         10.86956522  4.9689441 ]\n",
      " [ 4.34782609 89.13043478  0.          6.52173913]\n",
      " [ 0.83762887  0.         99.03350515  0.12886598]\n",
      " [ 3.72340426  0.          1.06382979 95.21276596]]\n",
      "--------------------------\n",
      "CB accuracy 84.16149068322981\n",
      "NFT accuracy 89.13043478260869\n",
      "Others accuracy 99.03350515463917\n",
      "TA accuracy 95.2127659574468\n",
      "------------------------------\n",
      "CB f1-score  85.87304061353484\n",
      "CB precision  89.42153545379352\n",
      "CB recall  84.09365835777126\n",
      "--------------------------\n",
      "NFT f1-score  94.16666666666667\n",
      "NFT precision  100.0\n",
      "NFT recall  90.0\n",
      "--------------------------\n",
      "Others f1-score  98.92382016451052\n",
      "Others precision  98.82771586156437\n",
      "Others recall  99.03357616222436\n",
      "--------------------------\n",
      "TA f1-score  91.96179102597588\n",
      "TA precision  89.18722943722943\n",
      "TA recall  95.24802201582388\n",
      "--------------------------\n",
      "Macro avg precision 94.35912018814683\n",
      "Macro avg recall  92.09381413395488\n"
     ]
    }
   ],
   "source": [
    "# Confusion matrix across 10 folds, WITH thresholding \n",
    "print('with thresholding (non-calibrated) ACC :', mean(model.cv_accuraciesT)*100)\n",
    "print('Macro avg F1 ', \n",
    "      mean([i['macro avg']['f1-score'] for i in model.cv_reportsT])*100)\n",
    "print('Weighted avg F1 ',\n",
    "      mean([i['weighted avg']['f1-score'] for i in model.cv_reportsT])*100)\n",
    "print(\"--------------------------\")\n",
    "cf_t = sum(model.cv_confusion_matricesT)\n",
    "final_cm_t =  cf_t.astype('float') / cf_t.sum(axis=1)[:, np.newaxis]*100\n",
    "print(cf_t)\n",
    "print(final_cm_t)\n",
    "print(\"--------------------------\")\n",
    "print(\"CB accuracy\",final_cm_t[0][0])\n",
    "print(\"NFT accuracy\",final_cm_t[1][1])\n",
    "print(\"Others accuracy\",final_cm_t[2][2])\n",
    "print(\"TA accuracy\",final_cm_t[3][3])\n",
    "print('------------------------------')\n",
    "# F1-score per class: \n",
    "print('CB f1-score ',mean([i['CB']['f1-score'] for i in model.cv_reportsT])*100)\n",
    "print('CB precision ',mean([i['CB']['precision'] for i in model.cv_reportsT])*100)\n",
    "print('CB recall ',mean([i['CB']['recall'] for i in model.cv_reportsT])*100)\n",
    "print(\"--------------------------\")\n",
    "print('NFT f1-score ',mean([i['NFT']['f1-score'] for i in model.cv_reportsT])*100)\n",
    "print('NFT precision ',mean([i['NFT']['precision'] for i in model.cv_reportsT])*100)\n",
    "print('NFT recall ',mean([i['NFT']['recall'] for i in model.cv_reportsT])*100)\n",
    "print(\"--------------------------\")\n",
    "print('Others f1-score ',mean([i['Others']['f1-score'] for i in model.cv_reportsT])*100)\n",
    "print('Others precision ',mean([i['Others']['precision'] for i in model.cv_reportsT])*100)\n",
    "print('Others recall ',mean([i['Others']['recall'] for i in model.cv_reportsT])*100)\n",
    "print(\"--------------------------\")\n",
    "print('TA f1-score ',mean([i['TA']['f1-score'] for i in model.cv_reportsT])*100)\n",
    "print('TA precision ',mean([i['TA']['precision'] for i in model.cv_reportsT])*100)\n",
    "print('TA recall ',mean([i['TA']['recall'] for i in model.cv_reportsT])*100)\n",
    "print(\"--------------------------\")\n",
    "print('Macro avg precision',\n",
    "      mean([i['macro avg']['precision'] for i in model.cv_reportsT])*100)\n",
    "print('Macro avg recall ',\n",
    "      mean([i['macro avg']['recall'] for i in model.cv_reportsT])*100)"
   ]
  },
  {
   "cell_type": "code",
   "execution_count": 13,
   "metadata": {},
   "outputs": [],
   "source": [
    "model.cv_nothresholding(X=str_data.c2_X_train,\n",
    "                        Y=str_data.c2_Y_train,\n",
    "                        X_location=str_data.c2_train_location)"
   ]
  },
  {
   "cell_type": "code",
   "execution_count": 14,
   "metadata": {},
   "outputs": [
    {
     "name": "stdout",
     "output_type": "stream",
     "text": [
      "with no thresholding: 85.55303865244521\n",
      "Macro avg F1  85.61027302292774\n",
      "Weighted avg F1  94.70692083592029\n",
      "--------------------------\n",
      "[[ 193    6  111   25]\n",
      " [   1   44    0    3]\n",
      " [   7    2 3103    4]\n",
      " [   4    3    7  186]]\n",
      "[[5.76119403e+01 1.79104478e+00 3.31343284e+01 7.46268657e+00]\n",
      " [2.08333333e+00 9.16666667e+01 0.00000000e+00 6.25000000e+00]\n",
      " [2.24646983e-01 6.41848524e-02 9.95827985e+01 1.28369705e-01]\n",
      " [2.00000000e+00 1.50000000e+00 3.50000000e+00 9.30000000e+01]]\n",
      "--------------------------\n",
      "CB accuracy 57.611940298507456\n",
      "NFT accuracy 91.66666666666666\n",
      "Others accuracy 99.58279845956355\n",
      "TA accuracy 93.0\n",
      "------------------------------\n",
      "CB f1-score  69.20765909752788\n",
      "CB precision  94.50969791078488\n",
      "CB recall  57.629233511586456\n",
      "--------------------------\n",
      "NFT f1-score  86.22261072261072\n",
      "NFT precision  83.63095238095238\n",
      "NFT recall  92.0\n",
      "--------------------------\n",
      "Others f1-score  97.945742837236\n",
      "Others precision  96.38573133679152\n",
      "Others recall  99.5829210981944\n",
      "--------------------------\n",
      "TA f1-score  89.06507943433638\n",
      "TA precision  85.66901641455418\n",
      "TA recall  93.0\n",
      "--------------------------\n",
      "Macro avg precision 90.04884951077074\n",
      "Macro avg recall  85.55303865244521\n"
     ]
    }
   ],
   "source": [
    "#Confusion matrix across 10 folds, WITHOUT thresholding \n",
    "print('with no thresholding:',\n",
    "      mean(model.cv_accuracies)*100)\n",
    "print('Macro avg F1 ',\n",
    "      mean([i['macro avg']['f1-score'] for i in model.cv_reports])*100)\n",
    "print('Weighted avg F1 ',\n",
    "      mean([i['weighted avg']['f1-score'] for i in model.cv_reports])*100)\n",
    "print(\"--------------------------\")\n",
    "cf = sum(model.cv_confusion_matrices)\n",
    "final_cm =  cf.astype('float') / cf.sum(axis=1)[:, np.newaxis]*100\n",
    "print(cf)\n",
    "print(final_cm)\n",
    "print(\"--------------------------\")\n",
    "print(\"CB accuracy\",final_cm[0][0])\n",
    "print(\"NFT accuracy\",final_cm[1][1])\n",
    "print(\"Others accuracy\",final_cm[2][2])\n",
    "print(\"TA accuracy\",final_cm[3][3])\n",
    "print('------------------------------')\n",
    "# F1-score per class: \n",
    "print('CB f1-score ',mean([i['CB']['f1-score'] for i in model.cv_reports])*100)\n",
    "print('CB precision ',mean([i['CB']['precision'] for i in model.cv_reports])*100)\n",
    "print('CB recall ',mean([i['CB']['recall'] for i in model.cv_reports])*100)\n",
    "print(\"--------------------------\")\n",
    "print('NFT f1-score ',mean([i['NFT']['f1-score'] for i in model.cv_reports])*100)\n",
    "print('NFT precision ',mean([i['NFT']['precision'] for i in model.cv_reports])*100)\n",
    "print('NFT recall ',mean([i['NFT']['recall'] for i in model.cv_reports])*100)\n",
    "print(\"--------------------------\")\n",
    "print('Others f1-score ',mean([i['Others']['f1-score'] for i in model.cv_reports])*100)\n",
    "print('Others precision ',mean([i['Others']['precision'] for i in model.cv_reports])*100)\n",
    "print('Others recall ',mean([i['Others']['recall'] for i in model.cv_reports])*100)\n",
    "print(\"--------------------------\")\n",
    "print('TA f1-score ',mean([i['TA']['f1-score'] for i in model.cv_reports])*100)\n",
    "print('TA precision ',mean([i['TA']['precision'] for i in model.cv_reports])*100)\n",
    "print('TA recall ',mean([i['TA']['recall'] for i in model.cv_reports])*100)\n",
    "print(\"--------------------------\")\n",
    "print('Macro avg precision',\n",
    "      mean([i['macro avg']['precision'] for i in model.cv_reports])*100)\n",
    "print('Macro avg recall ',\n",
    "      mean([i['macro avg']['recall'] for i in model.cv_reports])*100)"
   ]
  },
  {
   "cell_type": "code",
   "execution_count": 15,
   "metadata": {},
   "outputs": [
    {
     "data": {
      "text/plain": [
       "['str_cv_results.sav']"
      ]
     },
     "execution_count": 15,
     "metadata": {},
     "output_type": "execute_result"
    }
   ],
   "source": [
    "# save object using joblib\n",
    "joblib.dump(model, 'str_cv_results.sav')"
   ]
  },
  {
   "cell_type": "code",
   "execution_count": 6,
   "metadata": {},
   "outputs": [],
   "source": [
    "# The final model\n",
    "\n",
    "loaded_model = joblib.load('/Users/mokur/OneDrive - University of Cambridge/Attachments/Jan2023/Tau_pipeline/Tuning_parameters/Final/results/str_cv_results.sav')\n",
    "cf_t = sum(loaded_model.cv_confusion_matricesT)\n",
    "final_cm_t =  cf_t.astype('float') / cf_t.sum(axis=1)[:, np.newaxis]*100"
   ]
  },
  {
   "cell_type": "code",
   "execution_count": 7,
   "metadata": {},
   "outputs": [
    {
     "name": "stdout",
     "output_type": "stream",
     "text": [
      "total: 3699\n",
      "{'TA', 'Ambiguous', 'CB', 'Others', 'NFT'}\n",
      "Ambiguous:  39\n",
      "proportion Ambiguous:  0.010543390105433901\n"
     ]
    }
   ],
   "source": [
    "# find out proportion of ambiguous cells \n",
    "predicted = (sum(loaded_model.cv_y_predictsT, []))\n",
    "print('total:',len(predicted))\n",
    "print(set(predicted))\n",
    "amb_n = sum(1 for i in predicted if i =='Ambiguous')\n",
    "print('Ambiguous: ',amb_n)\n",
    "print('proportion Ambiguous: ', amb_n/len(predicted) )"
   ]
  },
  {
   "cell_type": "code",
   "execution_count": 9,
   "metadata": {},
   "outputs": [
    {
     "data": {
      "text/plain": [
       "array([[84.16149068,  0.        , 10.86956522,  4.9689441 ],\n",
       "       [ 4.34782609, 89.13043478,  0.        ,  6.52173913],\n",
       "       [ 0.83762887,  0.        , 99.03350515,  0.12886598],\n",
       "       [ 3.72340426,  0.        ,  1.06382979, 95.21276596]])"
      ]
     },
     "execution_count": 9,
     "metadata": {},
     "output_type": "execute_result"
    }
   ],
   "source": [
    "final_cm_t"
   ]
  },
  {
   "cell_type": "code",
   "execution_count": 10,
   "metadata": {},
   "outputs": [
    {
     "data": {
      "image/png": "[encoded data removed]",
      "text/plain": [
       "<Figure size 640x480 with 2 Axes>"
      ]
     },
     "metadata": {},
     "output_type": "display_data"
    }
   ],
   "source": [
    "plot = ConfusionMatrixDisplay(final_cm_t,\n",
    "                              display_labels=['CB','NFT','Others','TA'])\n",
    "plot.plot(cmap='cividis', values_format='.2f')         \n",
    "plt.show()"
   ]
  },
  {
   "cell_type": "code",
   "execution_count": 11,
   "metadata": {},
   "outputs": [],
   "source": [
    "x = np.array([[84.16149068,  0. ,  4.9689441, 10.86956522 ],\n",
    "       [ 4.34782609, 89.13043478,  6.52173913,  0.        ],\n",
    "       [ 3.72340426,  0.        , 95.21276596,  1.06382979],\n",
    "       [ 0.83762887,  0.        ,  0.12886598, 99.03350515]])"
   ]
  },
  {
   "cell_type": "code",
   "execution_count": 13,
   "metadata": {},
   "outputs": [
    {
     "data": {
      "image/png": "[encoded data removed]",
      "text/plain": [
       "<Figure size 640x480 with 2 Axes>"
      ]
     },
     "metadata": {},
     "output_type": "display_data"
    }
   ],
   "source": [
    "plot = ConfusionMatrixDisplay(x,\n",
    "                              display_labels=['CB','NFT','TA','TF'])\n",
    "plot.plot(cmap='cividis', values_format='.2f')         \n",
    "plt.show()"
   ]
  },
  {
   "cell_type": "code",
   "execution_count": 14,
   "metadata": {},
   "outputs": [
    {
     "name": "stdout",
     "output_type": "stream",
     "text": [
      "Macro avg F1  92.73132961767197\n",
      "Macro avg F1 std  3.718261821632216\n",
      "--------------------------\n",
      "Macro avg precision 94.35912018814683\n",
      "Macro avg precision std 2.435345067073568\n",
      "--------------------------\n",
      "Macro avg recall  92.09381413395488\n",
      "Macro avg recall std 4.94546004320518\n"
     ]
    }
   ],
   "source": [
    "model = loaded_model\n",
    "# Confusion matrix across 10 folds, WITH thresholding \n",
    "print('Macro avg F1 ', \n",
    "      mean([i['macro avg']['f1-score'] for i in model.cv_reportsT])*100)\n",
    "print('Macro avg F1 std ', \n",
    "      np.std([i['macro avg']['f1-score'] for i in model.cv_reportsT])*100)\n",
    "\n",
    "print(\"--------------------------\")\n",
    "print('Macro avg precision',\n",
    "      mean([i['macro avg']['precision'] for i in model.cv_reportsT])*100)\n",
    "print('Macro avg precision std',\n",
    "      np.std([i['macro avg']['precision'] for i in model.cv_reportsT])*100)\n",
    "print(\"--------------------------\")\n",
    "print('Macro avg recall ',\n",
    "      mean([i['macro avg']['recall'] for i in model.cv_reportsT])*100)\n",
    "print('Macro avg recall std',\n",
    "      np.std([i['macro avg']['recall'] for i in model.cv_reportsT])*100)"
   ]
  },
  {
   "cell_type": "code",
   "execution_count": 15,
   "metadata": {},
   "outputs": [
    {
     "name": "stdout",
     "output_type": "stream",
     "text": [
      "Macro avg F1  85.61027302292774\n",
      "Macro avg F1 std  6.098672313658407\n",
      "--------------------------\n",
      "Macro avg precision 90.04884951077074\n",
      "Macro avg precision std 4.6148586341206785\n",
      "--------------------------\n",
      "Macro avg recall  85.55303865244521\n",
      "Macro avg recall std 6.789240145327252\n"
     ]
    }
   ],
   "source": [
    "model = loaded_model\n",
    "# Confusion matrix across 10 folds, WITH NO thresholding \n",
    "print('Macro avg F1 ', \n",
    "      mean([i['macro avg']['f1-score'] for i in model.cv_reports])*100)\n",
    "print('Macro avg F1 std ', \n",
    "      np.std([i['macro avg']['f1-score'] for i in model.cv_reports])*100)\n",
    "\n",
    "print(\"--------------------------\")\n",
    "print('Macro avg precision',\n",
    "      mean([i['macro avg']['precision'] for i in model.cv_reports])*100)\n",
    "print('Macro avg precision std',\n",
    "      np.std([i['macro avg']['precision'] for i in model.cv_reports])*100)\n",
    "print(\"--------------------------\")\n",
    "print('Macro avg recall ',\n",
    "      mean([i['macro avg']['recall'] for i in model.cv_reports])*100)\n",
    "print('Macro avg recall std',\n",
    "      np.std([i['macro avg']['recall'] for i in model.cv_reports])*100)"
   ]
  },
  {
   "attachments": {},
   "cell_type": "markdown",
   "metadata": {},
   "source": [
    "Plotting feature importance"
   ]
  },
  {
   "cell_type": "code",
   "execution_count": 16,
   "metadata": {},
   "outputs": [],
   "source": [
    "import seaborn as sns"
   ]
  },
  {
   "cell_type": "code",
   "execution_count": 17,
   "metadata": {},
   "outputs": [],
   "source": [
    "model_rf = joblib.load('/Users/mokur/OneDrive - University of Cambridge/Attachments/Jan2023/Tau_pipeline/Tuning_parameters/Final/scripts/str_random_search.sav')"
   ]
  },
  {
   "cell_type": "code",
   "execution_count": 18,
   "metadata": {},
   "outputs": [
    {
     "data": {
      "text/plain": [
       "{'selector__n_features_to_select': 34,\n",
       " 'clf__sampling_strategy': 'not majority',\n",
       " 'clf__random_state': 42,\n",
       " 'clf__n_estimators': 500,\n",
       " 'clf__min_samples_split': 2,\n",
       " 'clf__min_samples_leaf': 2,\n",
       " 'clf__max_samples': 0.75,\n",
       " 'clf__max_features': 0.6,\n",
       " 'clf__max_depth': 15,\n",
       " 'clf__class_weight': 'balanced'}"
      ]
     },
     "execution_count": 18,
     "metadata": {},
     "output_type": "execute_result"
    }
   ],
   "source": [
    "model_rf.best_params_"
   ]
  },
  {
   "cell_type": "code",
   "execution_count": 19,
   "metadata": {},
   "outputs": [],
   "source": [
    "#With feature selection\n",
    "rf_result = model_rf.best_estimator_.named_steps['selector'].get_support(indices=True)\n",
    "rf_result\n",
    "rf_result_f = [str_data.c2_X_train.columns[i] for i in rf_result]\n",
    "# (rf_result_f)\n",
    "importance = model_rf.best_estimator_.named_steps['clf'].feature_importances_\n",
    "f_importance = pd.DataFrame(data={'features':rf_result_f,'importance':importance})\n",
    "f_importance = f_importance.sort_values(by=['importance'],ascending=False)"
   ]
  },
  {
   "cell_type": "code",
   "execution_count": 20,
   "metadata": {},
   "outputs": [],
   "source": [
    "f_importance_subset = f_importance[0:11]\n",
    "features = [i.replace('ROI: 0.25 µm per pixel: ','') for i in f_importance_subset['features']]\n",
    "f_importance_subset = f_importance_subset.copy()\n",
    "f_importance_subset.loc[:,'features'] = features\n",
    "f_importance_subset = f_importance_subset.rename(columns={'features':'Feature',\n",
    "                                    'importance':'Importance'})"
   ]
  },
  {
   "cell_type": "code",
   "execution_count": 21,
   "metadata": {},
   "outputs": [
    {
     "data": {
      "text/html": [
       "<div>\n",
       "<style scoped>\n",
       "    .dataframe tbody tr th:only-of-type {\n",
       "        vertical-align: middle;\n",
       "    }\n",
       "\n",
       "    .dataframe tbody tr th {\n",
       "        vertical-align: top;\n",
       "    }\n",
       "\n",
       "    .dataframe thead th {\n",
       "        text-align: right;\n",
       "    }\n",
       "</style>\n",
       "<table border=\"1\" class=\"dataframe\">\n",
       "  <thead>\n",
       "    <tr style=\"text-align: right;\">\n",
       "      <th></th>\n",
       "      <th>Feature</th>\n",
       "      <th>Importance</th>\n",
       "    </tr>\n",
       "  </thead>\n",
       "  <tbody>\n",
       "    <tr>\n",
       "      <th>0</th>\n",
       "      <td>Area µm^2</td>\n",
       "      <td>0.214311</td>\n",
       "    </tr>\n",
       "    <tr>\n",
       "      <th>4</th>\n",
       "      <td>Min diameter µm</td>\n",
       "      <td>0.181223</td>\n",
       "    </tr>\n",
       "    <tr>\n",
       "      <th>19</th>\n",
       "      <td>DAB: Mean</td>\n",
       "      <td>0.168029</td>\n",
       "    </tr>\n",
       "    <tr>\n",
       "      <th>20</th>\n",
       "      <td>DAB: Median</td>\n",
       "      <td>0.113468</td>\n",
       "    </tr>\n",
       "    <tr>\n",
       "      <th>16</th>\n",
       "      <td>DAB: Haralick Sum average (F5)</td>\n",
       "      <td>0.079985</td>\n",
       "    </tr>\n",
       "    <tr>\n",
       "      <th>5</th>\n",
       "      <td>Blue: Mean</td>\n",
       "      <td>0.063228</td>\n",
       "    </tr>\n",
       "    <tr>\n",
       "      <th>21</th>\n",
       "      <td>Green: Mean</td>\n",
       "      <td>0.037543</td>\n",
       "    </tr>\n",
       "    <tr>\n",
       "      <th>2</th>\n",
       "      <td>Length µm</td>\n",
       "      <td>0.028842</td>\n",
       "    </tr>\n",
       "    <tr>\n",
       "      <th>22</th>\n",
       "      <td>Green: Median</td>\n",
       "      <td>0.021899</td>\n",
       "    </tr>\n",
       "    <tr>\n",
       "      <th>6</th>\n",
       "      <td>Blue: Median</td>\n",
       "      <td>0.016998</td>\n",
       "    </tr>\n",
       "    <tr>\n",
       "      <th>3</th>\n",
       "      <td>Max diameter µm</td>\n",
       "      <td>0.007581</td>\n",
       "    </tr>\n",
       "  </tbody>\n",
       "</table>\n",
       "</div>"
      ],
      "text/plain": [
       "                           Feature  Importance\n",
       "0                        Area µm^2    0.214311\n",
       "4                  Min diameter µm    0.181223\n",
       "19                       DAB: Mean    0.168029\n",
       "20                     DAB: Median    0.113468\n",
       "16  DAB: Haralick Sum average (F5)    0.079985\n",
       "5                       Blue: Mean    0.063228\n",
       "21                     Green: Mean    0.037543\n",
       "2                        Length µm    0.028842\n",
       "22                   Green: Median    0.021899\n",
       "6                     Blue: Median    0.016998\n",
       "3                  Max diameter µm    0.007581"
      ]
     },
     "execution_count": 21,
     "metadata": {},
     "output_type": "execute_result"
    }
   ],
   "source": [
    "f_importance_subset"
   ]
  },
  {
   "cell_type": "code",
   "execution_count": 22,
   "metadata": {},
   "outputs": [
    {
     "data": {
      "text/plain": [
       "<Axes: xlabel='Importance', ylabel='Feature'>"
      ]
     },
     "execution_count": 22,
     "metadata": {},
     "output_type": "execute_result"
    },
    {
     "data": {
      "image/png": "[encoded data removed]",
      "text/plain": [
       "<Figure size 640x480 with 1 Axes>"
      ]
     },
     "metadata": {},
     "output_type": "display_data"
    }
   ],
   "source": [
    "sns.barplot(data=f_importance_subset,\n",
    "            y=\"Feature\",\n",
    "            x=\"Importance\",\n",
    "            color='midnightblue')"
   ]
  },
  {
   "attachments": {},
   "cell_type": "markdown",
   "metadata": {},
   "source": [
    "Finding PR-AUC"
   ]
  },
  {
   "cell_type": "code",
   "execution_count": 23,
   "metadata": {},
   "outputs": [],
   "source": [
    "keys = ['split0_test_PR_AUC',\n",
    "        'split1_test_PR_AUC',\n",
    "        'split2_test_PR_AUC',\n",
    "        'split3_test_PR_AUC',\n",
    "        'split4_test_PR_AUC',\n",
    "        'split5_test_PR_AUC',\n",
    "        'split6_test_PR_AUC',\n",
    "        'split7_test_PR_AUC',\n",
    "        'split8_test_PR_AUC',\n",
    "        'split9_test_PR_AUC']\n",
    "pr_val = []\n",
    "for i in keys:\n",
    "    pr_val.append(model_rf.cv_results_[i][model_rf.best_index_])"
   ]
  },
  {
   "cell_type": "code",
   "execution_count": 24,
   "metadata": {},
   "outputs": [
    {
     "name": "stdout",
     "output_type": "stream",
     "text": [
      "97.49848406191826\n",
      "mean pr: 97.49848406191826\n",
      "std pr: 1.1518569594079722\n"
     ]
    }
   ],
   "source": [
    "print(model_rf.cv_results_['mean_test_PR_AUC'][model_rf.best_index_]*100)\n",
    "print('mean pr:', mean(pr_val)*100)\n",
    "print('std pr:', np.std(pr_val)*100)"
   ]
  }
 ],
 "metadata": {
  "kernelspec": {
   "display_name": "Python 3.9.13 ('base')",
   "language": "python",
   "name": "python3"
  },
  "language_info": {
   "codemirror_mode": {
    "name": "ipython",
    "version": 3
   },
   "file_extension": ".py",
   "mimetype": "text/x-python",
   "name": "python",
   "nbconvert_exporter": "python",
   "pygments_lexer": "ipython3",
   "version": "3.8.16"
  },
  "orig_nbformat": 4,
  "vscode": {
   "interpreter": {
    "hash": "f49f039f1826f29992caaab1300810c8c9e5d31d3955aed133543fc6668591e2"
   }
  }
 },
 "nbformat": 4,
 "nbformat_minor": 2
}
