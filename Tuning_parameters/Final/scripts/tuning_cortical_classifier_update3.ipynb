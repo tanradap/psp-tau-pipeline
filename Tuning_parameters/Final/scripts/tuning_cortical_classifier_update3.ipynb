{
 "cells": [
  {
   "cell_type": "code",
   "execution_count": 1,
   "metadata": {},
   "outputs": [],
   "source": [
    "# Importing libraries\n",
    "import sys\n",
    "sys.path.insert(0,\n",
    "                '/Users/mokur/OneDrive - University of Cambridge/Attachments/Jan2023/Tau_pipeline/Tau_classification/')\n",
    "\n",
    "from base import *\n",
    "from constants import *\n",
    "sys.path.insert(0,\n",
    "                '/Users/mokur/OneDrive - University of Cambridge/Attachments/Jan2023/Tau_pipeline/Tuning_parameters/')\n",
    "\n",
    "from tuning import * \n",
    "from extra_metrics_training import *\n",
    "from tuning_constants import * "
   ]
  },
  {
   "cell_type": "code",
   "execution_count": 2,
   "metadata": {},
   "outputs": [],
   "source": [
    "import pandas as pd\n",
    "import numpy as np \n",
    "import random \n",
    "\n",
    "from sklearn import preprocessing \n",
    "\n",
    "from sklearn.pipeline import Pipeline\n",
    "from sklearn.preprocessing import MinMaxScaler\n",
    "from sklearn.ensemble import RandomForestClassifier\n",
    "from imblearn.ensemble import BalancedRandomForestClassifier\n",
    "from sklearn.model_selection import RandomizedSearchCV\n",
    "from sklearn.metrics import ConfusionMatrixDisplay\n",
    "import matplotlib.pyplot as plt\n",
    "import joblib\n"
   ]
  },
  {
   "cell_type": "code",
   "execution_count": 3,
   "metadata": {},
   "outputs": [],
   "source": [
    "import joblib"
   ]
  },
  {
   "cell_type": "code",
   "execution_count": 4,
   "metadata": {},
   "outputs": [
    {
     "name": "stdout",
     "output_type": "stream",
     "text": [
      "Others    2913\n",
      "CB         661\n",
      "TA         254\n",
      "NFT        126\n",
      "Name: Class, dtype: int64\n",
      "(3954, 54)\n"
     ]
    }
   ],
   "source": [
    "path = \"/Users/mokur/OneDrive - University of Cambridge/Attachments/Jan2023/Tau_pipeline/Tau_classification/Untrained/Training_data/cortical_regions/\"\n",
    "filename = \"training.txt\"\n",
    "\n",
    "# Create tau database object \n",
    "cortical_data = TauDataBase(path = path,\n",
    "                            filename = filename) \n",
    "\n",
    "# Prepping data to train tau classifier for cortical regions\n",
    "cortical_data.classifier2_prep()\n",
    "\n",
    "# Check data\n",
    "print(cortical_data.c2_data['Class'].value_counts())\n",
    "print(cortical_data.c2_X_train.shape)"
   ]
  },
  {
   "cell_type": "code",
   "execution_count": 6,
   "metadata": {},
   "outputs": [
    {
     "name": "stdout",
     "output_type": "stream",
     "text": [
      "Fitting 10 folds for each of 100 candidates, totalling 1000 fits\n",
      "0.9767514582962116\n",
      "{'selector__n_features_to_select': 40, 'clf__sampling_strategy': 'not majority', 'clf__random_state': 42, 'clf__n_estimators': 800, 'clf__min_samples_split': 2, 'clf__min_samples_leaf': 1, 'clf__max_samples': 0.75, 'clf__max_features': 0.2, 'clf__max_depth': 10, 'clf__class_weight': 'balanced'}\n"
     ]
    }
   ],
   "source": [
    "# Tuning \n",
    "rf_random = RandomizedSearchCV(pipeline,\n",
    "                               param_distributions=random_grid, \n",
    "                               n_iter=100,\n",
    "                               cv=10,\n",
    "                               verbose=2,\n",
    "                               random_state=42,\n",
    "                               n_jobs=-1,\n",
    "                               refit='PR_AUC',\n",
    "                               scoring={\n",
    "                                'PR_AUC':precision_recall_auc_tau,\n",
    "                                'roc_auc_ovr_weighted':'roc_auc_ovr_weighted',\n",
    "                                'roc_auc_ovo':'roc_auc_ovo',\n",
    "                                'balanced_accuracy':'balanced_accuracy',\n",
    "                                'f1_weighted':'f1_weighted',\n",
    "                                'CB_accuracy': CB_acc,\n",
    "                                'NFT_accuracy':NFT_acc,\n",
    "                                'Others_accuracy':Others_acc,\n",
    "                                'TA_accuracy':TA_acc,\n",
    "                                'CB_as_NFT':CB_as_NFT,\n",
    "                                'CB_as_Others':CB_as_Others,\n",
    "                                'CB_as_TA':CB_as_TA,\n",
    "                                'NFT_as_CB':NFT_as_CB,\n",
    "                                'NFT_as_Others':NFT_as_Others,\n",
    "                                'NFT_as_TA':NFT_as_TA,\n",
    "                                'Others_as_CB':Others_as_CB,\n",
    "                                'Others_as_NFT':Others_as_NFT,\n",
    "                                'Others_as_TA':Others_as_TA,\n",
    "                                'TA_as_CB':TA_as_CB,\n",
    "                                'TA_as_NFT':TA_as_NFT,\n",
    "                                'TA_as_Others':TA_as_Others\n",
    "                                        })\n",
    "\n",
    "rf_random.fit(cortical_data.c2_X_train,\n",
    "              cortical_data.c2_Y_train)\n",
    "\n",
    "\n",
    "print(rf_random.best_score_)\n",
    "print(rf_random.best_params_)"
   ]
  },
  {
   "cell_type": "code",
   "execution_count": 8,
   "metadata": {},
   "outputs": [
    {
     "data": {
      "text/plain": [
       "['cortical_random_search_update3.sav']"
      ]
     },
     "execution_count": 8,
     "metadata": {},
     "output_type": "execute_result"
    }
   ],
   "source": [
    "# save object using joblib\n",
    "joblib.dump(rf_random, 'cortical_random_search_update3.sav')"
   ]
  },
  {
   "cell_type": "code",
   "execution_count": 9,
   "metadata": {},
   "outputs": [
    {
     "name": "stdout",
     "output_type": "stream",
     "text": [
      "PR-AUC: 97.67514582962116\n",
      "ROC-AUC: 99.78167402959244\n",
      "ROC-AUC: 99.40033920517106\n",
      "Balanced accuracy: 91.93780451155253\n",
      "F1_weighted: 95.95573622274017\n",
      "CB accuracy: 81.08322026232473\n",
      "NFT accuracy: 91.34615384615385\n",
      "Others accuracy: 99.6910747069623\n",
      "TA accuracy: 95.63076923076925\n",
      "Classified CB as NFT: 3.6363636363636362\n",
      "Classified CB as Others: 12.856173677069199\n",
      "Classified CB as TA: 2.4242424242424243\n",
      "Classified NFT as CB: 2.371794871794872\n",
      "Classified NFT as Others: 0.0\n",
      "Classified NFT as TA: 6.282051282051282\n",
      "Classified Others as CB: 0.24031445652685593\n",
      "Classified Others as NFT: 0.034364261168384876\n",
      "Classified Others as TA: 0.03424657534246575\n",
      "Classified TA as CB: 0.7846153846153846\n",
      "Classified TA as NFT: 2.0\n",
      "Classified TA as Others: 1.5846153846153848\n"
     ]
    }
   ],
   "source": [
    "# Digging into more details \n",
    "print(\"PR-AUC:\",\n",
    "      rf_random.cv_results_['mean_test_PR_AUC'][rf_random.best_index_]*100)\n",
    "print(\"ROC-AUC:\",\n",
    "      rf_random.cv_results_['mean_test_roc_auc_ovr_weighted'][rf_random.best_index_]*100)\n",
    "print(\"ROC-AUC:\",\n",
    "      rf_random.cv_results_['mean_test_roc_auc_ovo'][rf_random.best_index_]*100)\n",
    "\n",
    "print(\"Balanced accuracy:\",\n",
    "      rf_random.cv_results_['mean_test_balanced_accuracy'][rf_random.best_index_]*100)\n",
    "\n",
    "print(\"F1_weighted:\",\n",
    "      rf_random.cv_results_['mean_test_f1_weighted'][rf_random.best_index_]*100)\n",
    "\n",
    "print(\"CB accuracy:\",\n",
    "      rf_random.cv_results_['mean_test_CB_accuracy'][rf_random.best_index_]*100)\n",
    "\n",
    "print(\"NFT accuracy:\",\n",
    "      rf_random.cv_results_['mean_test_NFT_accuracy'][rf_random.best_index_]*100)\n",
    "\n",
    "print(\"Others accuracy:\",\n",
    "      rf_random.cv_results_['mean_test_Others_accuracy'][rf_random.best_index_]*100)\n",
    "\n",
    "print(\"TA accuracy:\",\n",
    "      rf_random.cv_results_['mean_test_TA_accuracy'][rf_random.best_index_]*100)\n",
    "\n",
    "\n",
    "print(\"Classified CB as NFT:\",\n",
    "      rf_random.cv_results_['mean_test_CB_as_NFT'][rf_random.best_index_]*100)\n",
    "\n",
    "print(\"Classified CB as Others:\",\n",
    "      rf_random.cv_results_['mean_test_CB_as_Others'][rf_random.best_index_]*100)\n",
    "\n",
    "print(\"Classified CB as TA:\",\n",
    "      rf_random.cv_results_['mean_test_CB_as_TA'][rf_random.best_index_]*100)\n",
    "\n",
    "print(\"Classified NFT as CB:\",\n",
    "      rf_random.cv_results_['mean_test_NFT_as_CB'][rf_random.best_index_]*100)\n",
    "\n",
    "print(\"Classified NFT as Others:\",\n",
    "      rf_random.cv_results_['mean_test_NFT_as_Others'][rf_random.best_index_]*100)\n",
    "\n",
    "print(\"Classified NFT as TA:\",\n",
    "      rf_random.cv_results_['mean_test_NFT_as_TA'][rf_random.best_index_]*100)\n",
    "\n",
    "print(\"Classified Others as CB:\",\n",
    "      rf_random.cv_results_['mean_test_Others_as_CB'][rf_random.best_index_]*100)\n",
    "\n",
    "print(\"Classified Others as NFT:\",\n",
    "      rf_random.cv_results_['mean_test_Others_as_NFT'][rf_random.best_index_]*100)\n",
    "\n",
    "print(\"Classified Others as TA:\",\n",
    "      rf_random.cv_results_['mean_test_Others_as_TA'][rf_random.best_index_]*100)\n",
    "\n",
    "\n",
    "print(\"Classified TA as CB:\",\n",
    "      rf_random.cv_results_['mean_test_TA_as_CB'][rf_random.best_index_]*100)\n",
    "\n",
    "print(\"Classified TA as NFT:\",\n",
    "      rf_random.cv_results_['mean_test_TA_as_NFT'][rf_random.best_index_]*100)\n",
    "\n",
    "print(\"Classified TA as Others:\",\n",
    "      rf_random.cv_results_['mean_test_TA_as_Others'][rf_random.best_index_]*100)\n",
    "                                                       "
   ]
  },
  {
   "attachments": {},
   "cell_type": "markdown",
   "metadata": {},
   "source": [
    "{'selector__n_features_to_select': 40, 'clf__sampling_strategy': 'not majority', 'clf__random_state': 42, 'clf__n_estimators': 800, 'clf__min_samples_split': 2, 'clf__min_samples_leaf': 1, 'clf__max_samples': 0.75, 'clf__max_features': 0.2, 'clf__max_depth': 10, 'clf__class_weight': 'balanced'}\n"
   ]
  },
  {
   "cell_type": "code",
   "execution_count": 11,
   "metadata": {},
   "outputs": [],
   "source": [
    "cortical_classifier_hyperparams = [\n",
    "    ('normalizer', MinMaxScaler()),\n",
    "    ('selector', RFE(RandomForestClassifier(\n",
    "        random_state=42),\n",
    "        n_features_to_select=40)),\n",
    "    ('clf', BalancedRandomForestClassifier(\n",
    "        random_state=42,\n",
    "        sampling_strategy='not majority',\n",
    "        n_estimators=800,\n",
    "        min_samples_split=2,\n",
    "        min_samples_leaf=1,\n",
    "        max_features=0.2,\n",
    "        max_depth=10,\n",
    "        max_samples=0.75,\n",
    "        class_weight='balanced'))]\n",
    "        \n",
    "# 10-fold cross validation\n",
    "model = TauClassifierTuning(hyperparameters=cortical_classifier_hyperparams)\n",
    "model.find_bestparameters(X=cortical_data.c2_X_train,\n",
    "                          Y=cortical_data.c2_Y_train)\n"
   ]
  },
  {
   "cell_type": "code",
   "execution_count": 21,
   "metadata": {},
   "outputs": [
    {
     "data": {
      "text/plain": [
       "{0: (0.20178264912940796,\n",
       "  0.9461222841732907,\n",
       "  0.9392187191317515,\n",
       "  0.9545454545454545),\n",
       " 1: (0.6822153285884559,\n",
       "  0.9098161065987153,\n",
       "  0.9409706959706959,\n",
       "  0.8903846153846153),\n",
       " 2: (0.7611313612515783,\n",
       "  0.9922817367544002,\n",
       "  0.9921489382138381,\n",
       "  0.9924504542672882),\n",
       " 3: (0.5047927492593813,\n",
       "  0.9566895472267282,\n",
       "  0.9541859991859992,\n",
       "  0.960923076923077)}"
      ]
     },
     "execution_count": 21,
     "metadata": {},
     "output_type": "execute_result"
    }
   ],
   "source": [
    "loaded_model.best_parameters"
   ]
  },
  {
   "cell_type": "code",
   "execution_count": 13,
   "metadata": {},
   "outputs": [],
   "source": [
    "model.cv_withthresholding(best_parameters=model.best_parameters,\n",
    "                          X=cortical_data.c2_X_train,\n",
    "                          Y=cortical_data.c2_Y_train,\n",
    "                          X_location = cortical_data.c2_train_location)\n"
   ]
  },
  {
   "cell_type": "code",
   "execution_count": 14,
   "metadata": {},
   "outputs": [
    {
     "name": "stdout",
     "output_type": "stream",
     "text": [
      "with thresholding (non-calibrated) ACC : 94.60684324317958\n",
      "Macro avg F1  94.46453764033144\n",
      "Weighted avg F1  97.77554915158821\n",
      "--------------------------\n",
      "[[ 607   12   20   10]\n",
      " [   8  107    0    5]\n",
      " [  24    0 2877    0]\n",
      " [   8    0    0  235]]\n",
      "[[93.52850539  1.84899846  3.0816641   1.54083205]\n",
      " [ 6.66666667 89.16666667  0.          4.16666667]\n",
      " [ 0.82730093  0.         99.17269907  0.        ]\n",
      " [ 3.29218107  0.          0.         96.70781893]]\n",
      "--------------------------\n",
      "CB accuracy 93.52850539291218\n",
      "NFT accuracy 89.16666666666667\n",
      "Others accuracy 99.17269906928645\n",
      "TA accuracy 96.70781893004116\n",
      "------------------------------\n",
      "CB f1-score  93.6350565125403\n",
      "CB precision  94.02572419812995\n",
      "CB recall  93.47571413801252\n",
      "--------------------------\n",
      "NFT f1-score  89.60510953314551\n",
      "NFT precision  92.59386446886447\n",
      "NFT recall  89.07925407925407\n",
      "--------------------------\n",
      "Others f1-score  99.24034954427611\n",
      "Others precision  99.31113436762082\n",
      "Others recall  99.17240475545174\n",
      "--------------------------\n",
      "TA f1-score  95.37763497136382\n",
      "TA precision  94.37471264367817\n",
      "TA recall  96.7\n",
      "--------------------------\n",
      "Macro avg precision 95.07635891957335\n",
      "Macro avg recall  94.60684324317958\n"
     ]
    }
   ],
   "source": [
    "# Confusion matrix across 10 folds, WITH thresholding \n",
    "print('with thresholding (non-calibrated) ACC :', mean(model.cv_accuraciesT)*100)\n",
    "print('Macro avg F1 ', \n",
    "      mean([i['macro avg']['f1-score'] for i in model.cv_reportsT])*100)\n",
    "print('Weighted avg F1 ',\n",
    "      mean([i['weighted avg']['f1-score'] for i in model.cv_reportsT])*100)\n",
    "print(\"--------------------------\")\n",
    "cf_t = sum(model.cv_confusion_matricesT)\n",
    "final_cm_t =  cf_t.astype('float') / cf_t.sum(axis=1)[:, np.newaxis]*100\n",
    "print(cf_t)\n",
    "print(final_cm_t)\n",
    "print(\"--------------------------\")\n",
    "print(\"CB accuracy\",final_cm_t[0][0])\n",
    "print(\"NFT accuracy\",final_cm_t[1][1])\n",
    "print(\"Others accuracy\",final_cm_t[2][2])\n",
    "print(\"TA accuracy\",final_cm_t[3][3])\n",
    "print('------------------------------')\n",
    "# F1-score per class: \n",
    "print('CB f1-score ',mean([i['CB']['f1-score'] for i in model.cv_reportsT])*100)\n",
    "print('CB precision ',mean([i['CB']['precision'] for i in model.cv_reportsT])*100)\n",
    "print('CB recall ',mean([i['CB']['recall'] for i in model.cv_reportsT])*100)\n",
    "print(\"--------------------------\")\n",
    "print('NFT f1-score ',mean([i['NFT']['f1-score'] for i in model.cv_reportsT])*100)\n",
    "print('NFT precision ',mean([i['NFT']['precision'] for i in model.cv_reportsT])*100)\n",
    "print('NFT recall ',mean([i['NFT']['recall'] for i in model.cv_reportsT])*100)\n",
    "print(\"--------------------------\")\n",
    "print('Others f1-score ',mean([i['Others']['f1-score'] for i in model.cv_reportsT])*100)\n",
    "print('Others precision ',mean([i['Others']['precision'] for i in model.cv_reportsT])*100)\n",
    "print('Others recall ',mean([i['Others']['recall'] for i in model.cv_reportsT])*100)\n",
    "print(\"--------------------------\")\n",
    "print('TA f1-score ',mean([i['TA']['f1-score'] for i in model.cv_reportsT])*100)\n",
    "print('TA precision ',mean([i['TA']['precision'] for i in model.cv_reportsT])*100)\n",
    "print('TA recall ',mean([i['TA']['recall'] for i in model.cv_reportsT])*100)\n",
    "print(\"--------------------------\")\n",
    "print('Macro avg precision',\n",
    "      mean([i['macro avg']['precision'] for i in model.cv_reportsT])*100)\n",
    "print('Macro avg recall ',\n",
    "      mean([i['macro avg']['recall'] for i in model.cv_reportsT])*100)"
   ]
  },
  {
   "cell_type": "code",
   "execution_count": 36,
   "metadata": {},
   "outputs": [
    {
     "data": {
      "text/html": [
       "<div>\n",
       "<style scoped>\n",
       "    .dataframe tbody tr th:only-of-type {\n",
       "        vertical-align: middle;\n",
       "    }\n",
       "\n",
       "    .dataframe tbody tr th {\n",
       "        vertical-align: top;\n",
       "    }\n",
       "\n",
       "    .dataframe thead th {\n",
       "        text-align: right;\n",
       "    }\n",
       "</style>\n",
       "<table border=\"1\" class=\"dataframe\">\n",
       "  <thead>\n",
       "    <tr style=\"text-align: right;\">\n",
       "      <th></th>\n",
       "      <th>truth</th>\n",
       "      <th>predicted</th>\n",
       "      <th>Centroid_X</th>\n",
       "      <th>Centroid_Y</th>\n",
       "      <th>Image</th>\n",
       "    </tr>\n",
       "  </thead>\n",
       "  <tbody>\n",
       "    <tr>\n",
       "      <th>0</th>\n",
       "      <td>TA</td>\n",
       "      <td>TA</td>\n",
       "      <td>16342.6</td>\n",
       "      <td>2246.2</td>\n",
       "      <td>747316.svs_TRAINING_5</td>\n",
       "    </tr>\n",
       "    <tr>\n",
       "      <th>1</th>\n",
       "      <td>CB</td>\n",
       "      <td>CB</td>\n",
       "      <td>16171.2</td>\n",
       "      <td>2253.8</td>\n",
       "      <td>747316.svs_TRAINING_5</td>\n",
       "    </tr>\n",
       "    <tr>\n",
       "      <th>2</th>\n",
       "      <td>Others</td>\n",
       "      <td>Others</td>\n",
       "      <td>14968.7</td>\n",
       "      <td>2261.8</td>\n",
       "      <td>747316.svs_TRAINING_5</td>\n",
       "    </tr>\n",
       "    <tr>\n",
       "      <th>3</th>\n",
       "      <td>CB</td>\n",
       "      <td>CB</td>\n",
       "      <td>15666.5</td>\n",
       "      <td>2264.0</td>\n",
       "      <td>747316.svs_TRAINING_5</td>\n",
       "    </tr>\n",
       "    <tr>\n",
       "      <th>4</th>\n",
       "      <td>Others</td>\n",
       "      <td>Others</td>\n",
       "      <td>14946.4</td>\n",
       "      <td>2265.1</td>\n",
       "      <td>747316.svs_TRAINING_5</td>\n",
       "    </tr>\n",
       "  </tbody>\n",
       "</table>\n",
       "</div>"
      ],
      "text/plain": [
       "    truth predicted  Centroid_X  Centroid_Y                  Image\n",
       "0      TA        TA     16342.6      2246.2  747316.svs_TRAINING_5\n",
       "1      CB        CB     16171.2      2253.8  747316.svs_TRAINING_5\n",
       "2  Others    Others     14968.7      2261.8  747316.svs_TRAINING_5\n",
       "3      CB        CB     15666.5      2264.0  747316.svs_TRAINING_5\n",
       "4  Others    Others     14946.4      2265.1  747316.svs_TRAINING_5"
      ]
     },
     "execution_count": 36,
     "metadata": {},
     "output_type": "execute_result"
    }
   ],
   "source": [
    "model = loaded_model\n",
    "info = pd.concat(model.cv_x_testT)\n",
    "outcome = pd.DataFrame(data={'truth':pd.concat(model.cv_y_testT),\n",
    "                             'predicted':np.concatenate(model.cv_y_predictsT).ravel().tolist(),\n",
    "                             'Centroid_X':info['Centroid_X'],\n",
    "                             'Centroid_Y':info['Centroid_Y'],\n",
    "                             'Image':info['Image']})\n",
    "outcome.head()"
   ]
  },
  {
   "cell_type": "code",
   "execution_count": 37,
   "metadata": {},
   "outputs": [
    {
     "data": {
      "text/html": [
       "<div>\n",
       "<style scoped>\n",
       "    .dataframe tbody tr th:only-of-type {\n",
       "        vertical-align: middle;\n",
       "    }\n",
       "\n",
       "    .dataframe tbody tr th {\n",
       "        vertical-align: top;\n",
       "    }\n",
       "\n",
       "    .dataframe thead th {\n",
       "        text-align: right;\n",
       "    }\n",
       "</style>\n",
       "<table border=\"1\" class=\"dataframe\">\n",
       "  <thead>\n",
       "    <tr style=\"text-align: right;\">\n",
       "      <th></th>\n",
       "      <th>truth</th>\n",
       "      <th>predicted</th>\n",
       "      <th>Centroid_X</th>\n",
       "      <th>Centroid_Y</th>\n",
       "      <th>Image</th>\n",
       "    </tr>\n",
       "  </thead>\n",
       "  <tbody>\n",
       "    <tr>\n",
       "      <th>7</th>\n",
       "      <td>NFT</td>\n",
       "      <td>CB</td>\n",
       "      <td>16543.7</td>\n",
       "      <td>2282.4</td>\n",
       "      <td>747316.svs_TRAINING_5</td>\n",
       "    </tr>\n",
       "    <tr>\n",
       "      <th>1586</th>\n",
       "      <td>NFT</td>\n",
       "      <td>CB</td>\n",
       "      <td>9316.5</td>\n",
       "      <td>16215.5</td>\n",
       "      <td>747316.svs_TRAINING_5</td>\n",
       "    </tr>\n",
       "    <tr>\n",
       "      <th>2063</th>\n",
       "      <td>NFT</td>\n",
       "      <td>CB</td>\n",
       "      <td>16092.7</td>\n",
       "      <td>14114.2</td>\n",
       "      <td>771746.svs_TRAINING_5</td>\n",
       "    </tr>\n",
       "    <tr>\n",
       "      <th>2314</th>\n",
       "      <td>NFT</td>\n",
       "      <td>CB</td>\n",
       "      <td>17078.1</td>\n",
       "      <td>15641.2</td>\n",
       "      <td>771746.svs_TRAINING_5</td>\n",
       "    </tr>\n",
       "    <tr>\n",
       "      <th>2521</th>\n",
       "      <td>NFT</td>\n",
       "      <td>CB</td>\n",
       "      <td>17028.4</td>\n",
       "      <td>3013.7</td>\n",
       "      <td>771791.svs_TRAINING_5</td>\n",
       "    </tr>\n",
       "    <tr>\n",
       "      <th>3342</th>\n",
       "      <td>NFT</td>\n",
       "      <td>CB</td>\n",
       "      <td>17993.9</td>\n",
       "      <td>3935.2</td>\n",
       "      <td>771791.svs_TRAINING_5</td>\n",
       "    </tr>\n",
       "    <tr>\n",
       "      <th>3470</th>\n",
       "      <td>NFT</td>\n",
       "      <td>CB</td>\n",
       "      <td>4074.8</td>\n",
       "      <td>4177.0</td>\n",
       "      <td>771791.svs_TRAINING_5</td>\n",
       "    </tr>\n",
       "    <tr>\n",
       "      <th>3573</th>\n",
       "      <td>NFT</td>\n",
       "      <td>CB</td>\n",
       "      <td>3946.6</td>\n",
       "      <td>4588.0</td>\n",
       "      <td>771791.svs_TRAINING_5</td>\n",
       "    </tr>\n",
       "  </tbody>\n",
       "</table>\n",
       "</div>"
      ],
      "text/plain": [
       "     truth predicted  Centroid_X  Centroid_Y                  Image\n",
       "7      NFT        CB     16543.7      2282.4  747316.svs_TRAINING_5\n",
       "1586   NFT        CB      9316.5     16215.5  747316.svs_TRAINING_5\n",
       "2063   NFT        CB     16092.7     14114.2  771746.svs_TRAINING_5\n",
       "2314   NFT        CB     17078.1     15641.2  771746.svs_TRAINING_5\n",
       "2521   NFT        CB     17028.4      3013.7  771791.svs_TRAINING_5\n",
       "3342   NFT        CB     17993.9      3935.2  771791.svs_TRAINING_5\n",
       "3470   NFT        CB      4074.8      4177.0  771791.svs_TRAINING_5\n",
       "3573   NFT        CB      3946.6      4588.0  771791.svs_TRAINING_5"
      ]
     },
     "execution_count": 37,
     "metadata": {},
     "output_type": "execute_result"
    }
   ],
   "source": [
    "# Check incorrect cases\n",
    "\n",
    "outcome[(outcome['truth']=='NFT')& (outcome['predicted']=='CB')]"
   ]
  },
  {
   "cell_type": "code",
   "execution_count": 16,
   "metadata": {},
   "outputs": [],
   "source": [
    "model.cv_nothresholding(X=cortical_data.c2_X_train,\n",
    "                        Y=cortical_data.c2_Y_train,\n",
    "                        X_location = cortical_data.c2_train_location)"
   ]
  },
  {
   "cell_type": "code",
   "execution_count": 17,
   "metadata": {},
   "outputs": [
    {
     "name": "stdout",
     "output_type": "stream",
     "text": [
      "with no thresholding: 91.93780451155253\n",
      "Macro avg F1  91.39460633528196\n",
      "Weighted avg F1  95.95573622274016\n",
      "--------------------------\n",
      "[[ 536   24   85   16]\n",
      " [   3  115    0    8]\n",
      " [   7    1 2904    1]\n",
      " [   2    5    4  243]]\n",
      "[[8.10892587e+01 3.63086233e+00 1.28593041e+01 2.42057489e+00]\n",
      " [2.38095238e+00 9.12698413e+01 0.00000000e+00 6.34920635e+00]\n",
      " [2.40302094e-01 3.43288706e-02 9.96910402e+01 3.43288706e-02]\n",
      " [7.87401575e-01 1.96850394e+00 1.57480315e+00 9.56692913e+01]]\n",
      "--------------------------\n",
      "CB accuracy 81.08925869894101\n",
      "NFT accuracy 91.26984126984127\n",
      "Others accuracy 99.69104016477857\n",
      "TA accuracy 95.66929133858267\n",
      "------------------------------\n",
      "CB f1-score  88.51755030742436\n",
      "CB precision  97.88002023532525\n",
      "CB recall  81.08322026232474\n",
      "--------------------------\n",
      "NFT f1-score  85.54988344988345\n",
      "NFT precision  82.11013751806591\n",
      "NFT recall  91.34615384615384\n",
      "--------------------------\n",
      "Others f1-score  98.34517560528816\n",
      "Others precision  97.04168873536513\n",
      "Others recall  99.6910747069623\n",
      "--------------------------\n",
      "TA f1-score  93.16581597853182\n",
      "TA precision  91.17095920805598\n",
      "TA recall  95.63076923076923\n",
      "--------------------------\n",
      "Macro avg precision 92.05070142420307\n",
      "Macro avg recall  91.93780451155253\n"
     ]
    }
   ],
   "source": [
    "#Confusion matrix across 10 folds, WITHOUT thresholding \n",
    "print('with no thresholding:',\n",
    "      mean(model.cv_accuracies)*100)\n",
    "print('Macro avg F1 ',\n",
    "      mean([i['macro avg']['f1-score'] for i in model.cv_reports])*100)\n",
    "print('Weighted avg F1 ',\n",
    "      mean([i['weighted avg']['f1-score'] for i in model.cv_reports])*100)\n",
    "print(\"--------------------------\")\n",
    "cf = sum(model.cv_confusion_matrices)\n",
    "final_cm =  cf.astype('float') / cf.sum(axis=1)[:, np.newaxis]*100\n",
    "print(cf)\n",
    "print(final_cm)\n",
    "print(\"--------------------------\")\n",
    "print(\"CB accuracy\",final_cm[0][0])\n",
    "print(\"NFT accuracy\",final_cm[1][1])\n",
    "print(\"Others accuracy\",final_cm[2][2])\n",
    "print(\"TA accuracy\",final_cm[3][3])\n",
    "print('------------------------------')\n",
    "# F1-score per class: \n",
    "print('CB f1-score ',mean([i['CB']['f1-score'] for i in model.cv_reports])*100)\n",
    "print('CB precision ',mean([i['CB']['precision'] for i in model.cv_reports])*100)\n",
    "print('CB recall ',mean([i['CB']['recall'] for i in model.cv_reports])*100)\n",
    "print(\"--------------------------\")\n",
    "print('NFT f1-score ',mean([i['NFT']['f1-score'] for i in model.cv_reports])*100)\n",
    "print('NFT precision ',mean([i['NFT']['precision'] for i in model.cv_reports])*100)\n",
    "print('NFT recall ',mean([i['NFT']['recall'] for i in model.cv_reports])*100)\n",
    "print(\"--------------------------\")\n",
    "print('Others f1-score ',mean([i['Others']['f1-score'] for i in model.cv_reports])*100)\n",
    "print('Others precision ',mean([i['Others']['precision'] for i in model.cv_reports])*100)\n",
    "print('Others recall ',mean([i['Others']['recall'] for i in model.cv_reports])*100)\n",
    "print(\"--------------------------\")\n",
    "print('TA f1-score ',mean([i['TA']['f1-score'] for i in model.cv_reports])*100)\n",
    "print('TA precision ',mean([i['TA']['precision'] for i in model.cv_reports])*100)\n",
    "print('TA recall ',mean([i['TA']['recall'] for i in model.cv_reports])*100)\n",
    "print(\"--------------------------\")\n",
    "print('Macro avg precision',\n",
    "      mean([i['macro avg']['precision'] for i in model.cv_reports])*100)\n",
    "print('Macro avg recall ',\n",
    "      mean([i['macro avg']['recall'] for i in model.cv_reports])*100)"
   ]
  },
  {
   "cell_type": "code",
   "execution_count": 18,
   "metadata": {},
   "outputs": [
    {
     "data": {
      "text/plain": [
       "['cortical_cv_results_updated3.sav']"
      ]
     },
     "execution_count": 18,
     "metadata": {},
     "output_type": "execute_result"
    }
   ],
   "source": [
    "joblib.dump(model,'cortical_cv_results_updated3.sav')"
   ]
  },
  {
   "cell_type": "code",
   "execution_count": 8,
   "metadata": {},
   "outputs": [],
   "source": [
    "# The final model\n",
    "loaded_model = joblib.load('/Users/mokur/OneDrive - University of Cambridge/Attachments/Jan2023/Tau_pipeline/Tuning_parameters/Final/results/cortical_cv_results_updated3.sav')"
   ]
  },
  {
   "cell_type": "code",
   "execution_count": 37,
   "metadata": {},
   "outputs": [
    {
     "name": "stdout",
     "output_type": "stream",
     "text": [
      "total: 3954\n",
      "{'CB', 'NFT', 'Ambiguous', 'Others', 'TA'}\n",
      "Ambiguous:  41\n",
      "proportion Ambiguous:  0.010369246332827516\n"
     ]
    }
   ],
   "source": [
    "# find out proportion of ambiguous cells \n",
    "predicted = (sum(loaded_model.cv_y_predictsT, []))\n",
    "print('total:',len(predicted))\n",
    "print(set(predicted))\n",
    "amb_n = sum(1 for i in predicted if i =='Ambiguous')\n",
    "print('Ambiguous: ',amb_n)\n",
    "print('proportion Ambiguous: ', amb_n/len(predicted) )"
   ]
  },
  {
   "cell_type": "code",
   "execution_count": null,
   "metadata": {},
   "outputs": [],
   "source": [
    "cf_t = sum(loaded_model.cv_confusion_matricesT)\n",
    "final_cm_t =  cf_t.astype('float') / cf_t.sum(axis=1)[:, np.newaxis]*100"
   ]
  },
  {
   "cell_type": "code",
   "execution_count": 7,
   "metadata": {},
   "outputs": [
    {
     "data": {
      "image/png": "[encoded data removed]",
      "text/plain": [
       "<Figure size 640x480 with 2 Axes>"
      ]
     },
     "metadata": {},
     "output_type": "display_data"
    }
   ],
   "source": [
    "plot = ConfusionMatrixDisplay(final_cm_t,\n",
    "                              display_labels=['CB','NFT','Others','TA'])\n",
    "plot.plot(cmap='cividis', values_format='.2f')         \n",
    "plt.show()"
   ]
  },
  {
   "cell_type": "code",
   "execution_count": 8,
   "metadata": {},
   "outputs": [],
   "source": [
    "x = np.array([[93.52850539,  1.84899846,  1.54083205,  3.0816641 ],\n",
    "       [ 6.66666667, 89.16666667,  4.16666667,  0.        ],\n",
    "       [ 0.82730093,  0.        ,  96.70781893 ,  0      ],\n",
    "       [ 3.29218107,  0.        ,  0. , 99.17269907   ]])"
   ]
  },
  {
   "cell_type": "code",
   "execution_count": 9,
   "metadata": {},
   "outputs": [
    {
     "data": {
      "image/png": "[encoded data removed]",
      "text/plain": [
       "<Figure size 640x480 with 2 Axes>"
      ]
     },
     "metadata": {},
     "output_type": "display_data"
    }
   ],
   "source": [
    "plot = ConfusionMatrixDisplay(x,\n",
    "                              display_labels=['CB','NFT','TA','TF'])\n",
    "plot.plot(cmap='cividis', values_format='.2f')         \n",
    "plt.show()"
   ]
  },
  {
   "cell_type": "code",
   "execution_count": 22,
   "metadata": {},
   "outputs": [
    {
     "name": "stdout",
     "output_type": "stream",
     "text": [
      "Macro avg F1  94.46453764033144\n",
      "Macro avg F1 std  2.12427997342512\n",
      "--------------------------\n",
      "Macro avg precision 95.07635891957335\n",
      "Macro avg precision std 2.4911460287618956\n",
      "--------------------------\n",
      "Macro avg recall  94.60684324317958\n",
      "Macro avg recall std 2.7205385749291264\n"
     ]
    }
   ],
   "source": [
    "model = loaded_model\n",
    "# Confusion matrix across 10 folds, WITH thresholding \n",
    "print('Macro avg F1 ', \n",
    "      mean([i['macro avg']['f1-score'] for i in model.cv_reportsT])*100)\n",
    "print('Macro avg F1 std ', \n",
    "      np.std([i['macro avg']['f1-score'] for i in model.cv_reportsT])*100)\n",
    "\n",
    "print(\"--------------------------\")\n",
    "print('Macro avg precision',\n",
    "      mean([i['macro avg']['precision'] for i in model.cv_reportsT])*100)\n",
    "print('Macro avg precision std',\n",
    "      np.std([i['macro avg']['precision'] for i in model.cv_reportsT])*100)\n",
    "print(\"--------------------------\")\n",
    "print('Macro avg recall ',\n",
    "      mean([i['macro avg']['recall'] for i in model.cv_reportsT])*100)\n",
    "print('Macro avg recall std',\n",
    "      np.std([i['macro avg']['recall'] for i in model.cv_reportsT])*100)"
   ]
  },
  {
   "cell_type": "code",
   "execution_count": 24,
   "metadata": {},
   "outputs": [
    {
     "name": "stdout",
     "output_type": "stream",
     "text": [
      "Macro avg F1  91.39460633528196\n",
      "Macro avg F1 std  2.732391045973433\n",
      "--------------------------\n",
      "Macro avg precision 92.05070142420307\n",
      "Macro avg precision std 3.7333350002600416\n",
      "--------------------------\n",
      "Macro avg recall  91.93780451155253\n",
      "Macro avg recall std 1.70520678159149\n"
     ]
    }
   ],
   "source": [
    "model = loaded_model\n",
    "# Confusion matrix across 10 folds, WITH NO thresholding \n",
    "print('Macro avg F1 ', \n",
    "      mean([i['macro avg']['f1-score'] for i in model.cv_reports])*100)\n",
    "print('Macro avg F1 std ', \n",
    "      np.std([i['macro avg']['f1-score'] for i in model.cv_reports])*100)\n",
    "\n",
    "print(\"--------------------------\")\n",
    "print('Macro avg precision',\n",
    "      mean([i['macro avg']['precision'] for i in model.cv_reports])*100)\n",
    "print('Macro avg precision std',\n",
    "      np.std([i['macro avg']['precision'] for i in model.cv_reports])*100)\n",
    "print(\"--------------------------\")\n",
    "print('Macro avg recall ',\n",
    "      mean([i['macro avg']['recall'] for i in model.cv_reports])*100)\n",
    "print('Macro avg recall std',\n",
    "      np.std([i['macro avg']['recall'] for i in model.cv_reports])*100)"
   ]
  },
  {
   "attachments": {},
   "cell_type": "markdown",
   "metadata": {},
   "source": [
    "Plotting feature importance"
   ]
  },
  {
   "cell_type": "code",
   "execution_count": 5,
   "metadata": {},
   "outputs": [],
   "source": [
    "import seaborn as sns"
   ]
  },
  {
   "cell_type": "code",
   "execution_count": 6,
   "metadata": {},
   "outputs": [],
   "source": [
    "model_rf = joblib.load('/Users/mokur/OneDrive - University of Cambridge/Attachments/Jan2023/Tau_pipeline/Tuning_parameters/Final/results/cortical_random_search_update3.sav')"
   ]
  },
  {
   "cell_type": "code",
   "execution_count": 7,
   "metadata": {},
   "outputs": [
    {
     "data": {
      "text/plain": [
       "{'selector__n_features_to_select': 40,\n",
       " 'clf__sampling_strategy': 'not majority',\n",
       " 'clf__random_state': 42,\n",
       " 'clf__n_estimators': 800,\n",
       " 'clf__min_samples_split': 2,\n",
       " 'clf__min_samples_leaf': 1,\n",
       " 'clf__max_samples': 0.75,\n",
       " 'clf__max_features': 0.2,\n",
       " 'clf__max_depth': 10,\n",
       " 'clf__class_weight': 'balanced'}"
      ]
     },
     "execution_count": 7,
     "metadata": {},
     "output_type": "execute_result"
    }
   ],
   "source": [
    "model_rf.best_params_"
   ]
  },
  {
   "cell_type": "code",
   "execution_count": 15,
   "metadata": {},
   "outputs": [],
   "source": [
    "#With feature selection\n",
    "rf_result = model_rf.best_estimator_.named_steps['selector'].get_support(indices=True)\n",
    "rf_result\n",
    "rf_result_f = [cortical_data.c2_X_train.columns[i] for i in rf_result]\n",
    "# (rf_result_f)\n",
    "importance = model_rf.best_estimator_.named_steps['clf'].feature_importances_\n",
    "f_importance = pd.DataFrame(data={'features':rf_result_f,'importance':importance})\n",
    "f_importance = f_importance.sort_values(by=['importance'],ascending=False)"
   ]
  },
  {
   "cell_type": "code",
   "execution_count": 16,
   "metadata": {},
   "outputs": [],
   "source": [
    "f_importance_subset = f_importance[0:11]\n",
    "features = [i.replace('ROI: 0.25 µm per pixel: ','') for i in f_importance_subset['features']]\n",
    "f_importance_subset = f_importance_subset.copy()\n",
    "f_importance_subset.loc[:,'features'] = features\n",
    "f_importance_subset = f_importance_subset.rename(columns={'features':'Feature',\n",
    "                                    'importance':'Importance'})"
   ]
  },
  {
   "cell_type": "code",
   "execution_count": 17,
   "metadata": {},
   "outputs": [
    {
     "data": {
      "text/html": [
       "<div>\n",
       "<style scoped>\n",
       "    .dataframe tbody tr th:only-of-type {\n",
       "        vertical-align: middle;\n",
       "    }\n",
       "\n",
       "    .dataframe tbody tr th {\n",
       "        vertical-align: top;\n",
       "    }\n",
       "\n",
       "    .dataframe thead th {\n",
       "        text-align: right;\n",
       "    }\n",
       "</style>\n",
       "<table border=\"1\" class=\"dataframe\">\n",
       "  <thead>\n",
       "    <tr style=\"text-align: right;\">\n",
       "      <th></th>\n",
       "      <th>Feature</th>\n",
       "      <th>Importance</th>\n",
       "    </tr>\n",
       "  </thead>\n",
       "  <tbody>\n",
       "    <tr>\n",
       "      <th>4</th>\n",
       "      <td>Min diameter µm</td>\n",
       "      <td>0.129815</td>\n",
       "    </tr>\n",
       "    <tr>\n",
       "      <th>0</th>\n",
       "      <td>Area µm^2</td>\n",
       "      <td>0.129211</td>\n",
       "    </tr>\n",
       "    <tr>\n",
       "      <th>2</th>\n",
       "      <td>Length µm</td>\n",
       "      <td>0.091414</td>\n",
       "    </tr>\n",
       "    <tr>\n",
       "      <th>3</th>\n",
       "      <td>Max diameter µm</td>\n",
       "      <td>0.067562</td>\n",
       "    </tr>\n",
       "    <tr>\n",
       "      <th>20</th>\n",
       "      <td>DAB: Median</td>\n",
       "      <td>0.049342</td>\n",
       "    </tr>\n",
       "    <tr>\n",
       "      <th>5</th>\n",
       "      <td>Blue: Mean</td>\n",
       "      <td>0.046621</td>\n",
       "    </tr>\n",
       "    <tr>\n",
       "      <th>19</th>\n",
       "      <td>DAB: Mean</td>\n",
       "      <td>0.035766</td>\n",
       "    </tr>\n",
       "    <tr>\n",
       "      <th>16</th>\n",
       "      <td>DAB: Haralick Sum average (F5)</td>\n",
       "      <td>0.035205</td>\n",
       "    </tr>\n",
       "    <tr>\n",
       "      <th>22</th>\n",
       "      <td>Green: Mean</td>\n",
       "      <td>0.033336</td>\n",
       "    </tr>\n",
       "    <tr>\n",
       "      <th>6</th>\n",
       "      <td>Blue: Median</td>\n",
       "      <td>0.032673</td>\n",
       "    </tr>\n",
       "    <tr>\n",
       "      <th>23</th>\n",
       "      <td>Green: Median</td>\n",
       "      <td>0.028799</td>\n",
       "    </tr>\n",
       "  </tbody>\n",
       "</table>\n",
       "</div>"
      ],
      "text/plain": [
       "                           Feature  Importance\n",
       "4                  Min diameter µm    0.129815\n",
       "0                        Area µm^2    0.129211\n",
       "2                        Length µm    0.091414\n",
       "3                  Max diameter µm    0.067562\n",
       "20                     DAB: Median    0.049342\n",
       "5                       Blue: Mean    0.046621\n",
       "19                       DAB: Mean    0.035766\n",
       "16  DAB: Haralick Sum average (F5)    0.035205\n",
       "22                     Green: Mean    0.033336\n",
       "6                     Blue: Median    0.032673\n",
       "23                   Green: Median    0.028799"
      ]
     },
     "execution_count": 17,
     "metadata": {},
     "output_type": "execute_result"
    }
   ],
   "source": [
    "f_importance_subset"
   ]
  },
  {
   "cell_type": "code",
   "execution_count": 18,
   "metadata": {},
   "outputs": [
    {
     "data": {
      "text/plain": [
       "<Axes: xlabel='Importance', ylabel='Feature'>"
      ]
     },
     "execution_count": 18,
     "metadata": {},
     "output_type": "execute_result"
    },
    {
     "data": {
      "image/png": "[encoded data removed]",
      "text/plain": [
       "<Figure size 640x480 with 1 Axes>"
      ]
     },
     "metadata": {},
     "output_type": "display_data"
    }
   ],
   "source": [
    "sns.barplot(data=f_importance_subset,\n",
    "            y=\"Feature\",\n",
    "            x=\"Importance\",\n",
    "            color='midnightblue')"
   ]
  },
  {
   "attachments": {},
   "cell_type": "markdown",
   "metadata": {},
   "source": [
    "Finding PR-AUC"
   ]
  },
  {
   "cell_type": "code",
   "execution_count": 19,
   "metadata": {},
   "outputs": [],
   "source": [
    "keys = ['split0_test_PR_AUC',\n",
    "        'split1_test_PR_AUC',\n",
    "        'split2_test_PR_AUC',\n",
    "        'split3_test_PR_AUC',\n",
    "        'split4_test_PR_AUC',\n",
    "        'split5_test_PR_AUC',\n",
    "        'split6_test_PR_AUC',\n",
    "        'split7_test_PR_AUC',\n",
    "        'split8_test_PR_AUC',\n",
    "        'split9_test_PR_AUC']\n",
    "pr_val = []\n",
    "for i in keys:\n",
    "    pr_val.append(model_rf.cv_results_[i][model_rf.best_index_])"
   ]
  },
  {
   "cell_type": "code",
   "execution_count": 20,
   "metadata": {},
   "outputs": [
    {
     "name": "stdout",
     "output_type": "stream",
     "text": [
      "97.67514582962116\n",
      "mean pr: 97.67514582962116\n",
      "std pr: 1.0252078940744491\n"
     ]
    }
   ],
   "source": [
    "print(model_rf.cv_results_['mean_test_PR_AUC'][model_rf.best_index_]*100)\n",
    "print('mean pr:', mean(pr_val)*100)\n",
    "print('std pr:', np.std(pr_val)*100)"
   ]
  }
 ],
 "metadata": {
  "kernelspec": {
   "display_name": "Python 3.9.13 ('base')",
   "language": "python",
   "name": "python3"
  },
  "language_info": {
   "codemirror_mode": {
    "name": "ipython",
    "version": 3
   },
   "file_extension": ".py",
   "mimetype": "text/x-python",
   "name": "python",
   "nbconvert_exporter": "python",
   "pygments_lexer": "ipython3",
   "version": "3.8.16"
  },
  "vscode": {
   "interpreter": {
    "hash": "f49f039f1826f29992caaab1300810c8c9e5d31d3955aed133543fc6668591e2"
   }
  }
 },
 "nbformat": 4,
 "nbformat_minor": 2
}
