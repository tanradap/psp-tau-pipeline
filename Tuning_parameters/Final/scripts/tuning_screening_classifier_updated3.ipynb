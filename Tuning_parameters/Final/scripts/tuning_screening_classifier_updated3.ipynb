{
 "cells": [
  {
   "cell_type": "code",
   "execution_count": 1,
   "metadata": {},
   "outputs": [],
   "source": [
    "# Importing libraries\n",
    "import sys\n",
    "sys.path.insert(0,\n",
    "                '/Users/mokur/OneDrive - University of Cambridge/Attachments/Jan2023/Tau_pipeline/Tau_classification/')\n",
    "\n",
    "from base import *\n",
    "from constants import *"
   ]
  },
  {
   "cell_type": "code",
   "execution_count": 2,
   "metadata": {},
   "outputs": [],
   "source": [
    "sys.path.insert(0,\n",
    "                '/Users/mokur/OneDrive - University of Cambridge/Attachments/Jan2023/Tau_pipeline/Tuning_parameters/')\n",
    "\n",
    "from tuning import * \n",
    "from extra_metrics_training import *\n",
    "from tuning_constants import *"
   ]
  },
  {
   "cell_type": "code",
   "execution_count": 3,
   "metadata": {},
   "outputs": [],
   "source": [
    "import pandas as pd\n",
    "import numpy as np \n",
    "import random \n",
    "\n",
    "from sklearn import preprocessing \n",
    "\n",
    "from sklearn.pipeline import Pipeline\n",
    "from sklearn.preprocessing import MinMaxScaler\n",
    "from sklearn.ensemble import RandomForestClassifier\n",
    "from imblearn.ensemble import BalancedRandomForestClassifier\n",
    "from sklearn.model_selection import RandomizedSearchCV\n",
    "from sklearn.feature_selection import RFE\n",
    "from sklearn.metrics import ConfusionMatrixDisplay\n",
    "import matplotlib.pyplot as plt\n"
   ]
  },
  {
   "cell_type": "code",
   "execution_count": 4,
   "metadata": {},
   "outputs": [],
   "source": [
    "import joblib"
   ]
  },
  {
   "cell_type": "code",
   "execution_count": 5,
   "metadata": {},
   "outputs": [
    {
     "name": "stdout",
     "output_type": "stream",
     "text": [
      "Non_tau    12006\n",
      "Tau         9827\n",
      "Name: Class, dtype: int64\n",
      "(21833, 54)\n"
     ]
    }
   ],
   "source": [
    "# Importing training files\n",
    "path = \"C:/Users/mokur/OneDrive - University of Cambridge/Attachments/Jan2023/Tau_pipeline/Tau_classification/Untrained/Training_data/screening_classifier/\"\n",
    "filename = \"training.txt\"\n",
    "\n",
    "# Create tau database object\n",
    "s_data = TauDataBase(path=path,\n",
    "                     filename=filename) \n",
    "\n",
    "# Prepping data to train screening classifier\n",
    "s_data.classifier1_prep()\n",
    "\n",
    "# Check data\n",
    "print(s_data.c1_data['Class'].value_counts())\n",
    "print(s_data.c1_X_train.shape)"
   ]
  },
  {
   "cell_type": "code",
   "execution_count": 10,
   "metadata": {},
   "outputs": [
    {
     "name": "stdout",
     "output_type": "stream",
     "text": [
      "Fitting 10 folds for each of 100 candidates, totalling 1000 fits\n",
      "0.9911478458271097\n",
      "{'selector__n_features_to_select': 46, 'clf__sampling_strategy': 'auto', 'clf__random_state': 42, 'clf__n_estimators': 600, 'clf__min_samples_split': 2, 'clf__min_samples_leaf': 2, 'clf__max_samples': None, 'clf__max_features': 1, 'clf__max_depth': None, 'clf__class_weight': 'balanced'}\n"
     ]
    }
   ],
   "source": [
    "rf_random = RandomizedSearchCV(pipeline,\n",
    "                               param_distributions=random_grid, \n",
    "                               n_iter=100,\n",
    "                               cv=10,\n",
    "                               verbose=2,\n",
    "                               random_state=42,\n",
    "                               n_jobs=-1,\n",
    "                               refit='PR_AUC',\n",
    "                               scoring={\n",
    "                                'PR_AUC': precision_recall_auc_screening,\n",
    "                                'roc_auc_ovr_weighted': 'roc_auc_ovr_weighted',\n",
    "                                'roc_auc_ovo': 'roc_auc_ovo',\n",
    "                                'balanced_accuracy': 'balanced_accuracy',\n",
    "                                'f1_weighted': 'f1_weighted',\n",
    "                                'NT_accuracy': NT_acc,\n",
    "                                'T_accuracy': T_acc,\n",
    "                                'NT_as_T': NT_as_T,\n",
    "                                'T_as_NT': T_as_NT\n",
    "                                        }\n",
    "                                        )\n",
    "\n",
    "rf_random.fit(s_data.c1_X_train,\n",
    "              s_data.c1_Y_train)\n",
    "\n",
    "\n",
    "print(rf_random.best_score_)\n",
    "print(rf_random.best_params_)"
   ]
  },
  {
   "cell_type": "code",
   "execution_count": 11,
   "metadata": {},
   "outputs": [
    {
     "data": {
      "text/plain": [
       "['screening_random_search_updated3.sav']"
      ]
     },
     "execution_count": 11,
     "metadata": {},
     "output_type": "execute_result"
    }
   ],
   "source": [
    "# save object using joblib\n",
    "joblib.dump(rf_random, 'screening_random_search_updated3.sav')"
   ]
  },
  {
   "cell_type": "code",
   "execution_count": 12,
   "metadata": {},
   "outputs": [
    {
     "name": "stdout",
     "output_type": "stream",
     "text": [
      "PR-AUC: 99.11478458271097\n",
      "ROC-AUC: 99.18705409758287\n",
      "ROC-AUC_OVR_weighted: 99.18705409758287\n",
      "Balanced accuracy: 95.75315647997682\n",
      "F1_weighted: 95.50297382158955\n",
      "Tau accuracy: 97.75140732575991\n",
      "Non-tau accuracy: 93.75490563419373\n",
      "Classified Tau as non-tau: 2.2485926742400855\n",
      "Classified non-tau as tau: 6.245094365806271\n"
     ]
    }
   ],
   "source": [
    "# Digging into more details\n",
    "print(\"PR-AUC:\",\n",
    "      rf_random.cv_results_['mean_test_PR_AUC'][rf_random.best_index_]*100)\n",
    "\n",
    "print(\"ROC-AUC:\",\n",
    "      rf_random.cv_results_['mean_test_roc_auc_ovo'][rf_random.best_index_]*100)\n",
    "\n",
    "print(\"ROC-AUC_OVR_weighted:\",\n",
    "      rf_random.cv_results_['mean_test_roc_auc_ovr_weighted'][rf_random.best_index_]*100)\n",
    "\n",
    "print(\"Balanced accuracy:\",\n",
    "      rf_random.cv_results_['mean_test_balanced_accuracy'][rf_random.best_index_]*100)\n",
    "\n",
    "print(\"F1_weighted:\",\n",
    "      rf_random.cv_results_['mean_test_f1_weighted'][rf_random.best_index_]*100)\n",
    "\n",
    "print(\"Tau accuracy:\",\n",
    "      rf_random.cv_results_['mean_test_T_accuracy'][rf_random.best_index_]*100)\n",
    "\n",
    "print(\"Non-tau accuracy:\",\n",
    "      rf_random.cv_results_['mean_test_NT_accuracy'][rf_random.best_index_]*100)\n",
    "\n",
    "\n",
    "print(\"Classified Tau as non-tau:\",\n",
    "      rf_random.cv_results_['mean_test_T_as_NT'][rf_random.best_index_]*100)\n",
    "\n",
    "print(\"Classified non-tau as tau:\",\n",
    "      rf_random.cv_results_['mean_test_NT_as_T'][rf_random.best_index_]*100)"
   ]
  },
  {
   "attachments": {},
   "cell_type": "markdown",
   "metadata": {},
   "source": [
    "{'selector__n_features_to_select': 46, 'clf__sampling_strategy': 'auto', 'clf__random_state': 42, 'clf__n_estimators': 600, 'clf__min_samples_split': 2, 'clf__min_samples_leaf': 2, 'clf__max_samples': None, 'clf__max_features': 1, 'clf__max_depth': None, 'clf__class_weight': 'balanced'}\n",
    "\n"
   ]
  },
  {
   "cell_type": "code",
   "execution_count": 8,
   "metadata": {},
   "outputs": [],
   "source": [
    "screening_classifier_hyperparams = [\n",
    "    ('normalizer', MinMaxScaler()),\n",
    "    ('selector', RFE(RandomForestClassifier(\n",
    "        random_state=42),\n",
    "        n_features_to_select=46)),\n",
    "    ('clf', BalancedRandomForestClassifier(\n",
    "        random_state=42,\n",
    "        sampling_strategy='auto',\n",
    "        n_estimators=600,\n",
    "        min_samples_split=2,\n",
    "        min_samples_leaf=2,\n",
    "        max_features=1,\n",
    "        max_depth=None,\n",
    "        max_samples=None,\n",
    "        class_weight='balanced'))]\n",
    "        \n",
    "# 10-fold cross validation\n",
    "model = ScreeningClassifierTuning(hyperparameters=screening_classifier_hyperparams)\n",
    "\n"
   ]
  },
  {
   "cell_type": "code",
   "execution_count": 9,
   "metadata": {},
   "outputs": [
    {
     "data": {
      "text/plain": [
       "{0: (0.5302233604561282,\n",
       "  0.9729190236439459,\n",
       "  0.9761526491904832,\n",
       "  0.9697699139605884),\n",
       " 1: (0.4553929723271362,\n",
       "  0.9672750402144017,\n",
       "  0.9581882133696038,\n",
       "  0.9766895678675984)}"
      ]
     },
     "execution_count": 9,
     "metadata": {},
     "output_type": "execute_result"
    }
   ],
   "source": [
    "model.find_bestparameters(X=s_data.c1_X_train,\n",
    "                          Y=s_data.c1_Y_train)\n",
    "model.best_parameters"
   ]
  },
  {
   "cell_type": "code",
   "execution_count": 11,
   "metadata": {},
   "outputs": [],
   "source": [
    "model.cv_withthresholding(best_parameters=model.best_parameters,\n",
    "                          X=s_data.c1_X_train,\n",
    "                          Y=s_data.c1_Y_train,\n",
    "                          X_location=s_data.c1_train_location)\n"
   ]
  },
  {
   "cell_type": "code",
   "execution_count": 12,
   "metadata": {},
   "outputs": [
    {
     "name": "stdout",
     "output_type": "stream",
     "text": [
      "with thresholding (non-calibrated) ACC : 95.64416479655493\n",
      "Macro avg F1  95.35360503169731\n",
      "Weighted avg F1  95.34433182163461\n",
      "--------------------------\n",
      "[[11170   811]\n",
      " [  187  9629]]\n",
      "[[93.230949    6.769051  ]\n",
      " [ 1.90505297 98.09494703]]\n",
      "--------------------------\n",
      "Non_tau accuracy 93.23094900258742\n",
      "Tau accuracy 98.09494702526487\n",
      "------------------------------\n",
      "Non_tau f1-score  95.2445480574145\n",
      "Non_tau precision  98.37934168156607\n",
      "Non_tau recall  93.19339729695068\n",
      "--------------------------\n",
      "Tau f1-score  95.46266200598015\n",
      "Tau precision  93.53591591035075\n",
      "Tau recall  98.09493229615919\n",
      "--------------------------\n",
      "Macro avg precision 95.95762879595841\n",
      "Macro avg recall  95.64416479655493\n"
     ]
    }
   ],
   "source": [
    "# Confusion matrix across 10 folds, WITH thresholding \n",
    "print('with thresholding (non-calibrated) ACC :', mean(model.cv_accuraciesT)*100)\n",
    "print('Macro avg F1 ', \n",
    "      mean([i['macro avg']['f1-score'] for i in model.cv_reportsT])*100)\n",
    "print('Weighted avg F1 ',\n",
    "      mean([i['weighted avg']['f1-score'] for i in model.cv_reportsT])*100)\n",
    "print(\"--------------------------\")\n",
    "C_t = sum(model.cv_confusion_matricesT)\n",
    "final_cm_t = C_t.astype('float') / C_t.sum(axis=1)[:, np.newaxis]*100\n",
    "print(C_t)\n",
    "print(final_cm_t)\n",
    "print(\"--------------------------\")\n",
    "print(\"Non_tau accuracy\", final_cm_t[0][0])\n",
    "print(\"Tau accuracy\", final_cm_t[1][1])\n",
    "\n",
    "print('------------------------------')\n",
    "# F1-score per class:\n",
    "print('Non_tau f1-score ',\n",
    "      mean([i['Non_tau']['f1-score'] for i in model.cv_reportsT])*100)\n",
    "print('Non_tau precision ',\n",
    "      mean([i['Non_tau']['precision'] for i in model.cv_reportsT])*100)\n",
    "print('Non_tau recall ',\n",
    "      mean([i['Non_tau']['recall'] for i in model.cv_reportsT])*100)\n",
    "print(\"--------------------------\")\n",
    "print('Tau f1-score ',\n",
    "      mean([i['Tau']['f1-score'] for i in model.cv_reportsT])*100)\n",
    "print('Tau precision ',\n",
    "      mean([i['Tau']['precision'] for i in model.cv_reportsT])*100)\n",
    "print('Tau recall ',\n",
    "      mean([i['Tau']['recall'] for i in model.cv_reportsT])*100)\n",
    "print(\"--------------------------\")\n",
    "print('Macro avg precision',\n",
    "      mean([i['macro avg']['precision'] for i in model.cv_reportsT])*100)\n",
    "print('Macro avg recall ',\n",
    "      mean([i['macro avg']['recall'] for i in model.cv_reportsT])*100)"
   ]
  },
  {
   "cell_type": "code",
   "execution_count": 13,
   "metadata": {},
   "outputs": [],
   "source": [
    "model.cv_nothresholding(X=s_data.c1_X_train,\n",
    "                        Y=s_data.c1_Y_train,\n",
    "                        X_location= s_data.c1_train_location)"
   ]
  },
  {
   "cell_type": "code",
   "execution_count": 14,
   "metadata": {},
   "outputs": [
    {
     "name": "stdout",
     "output_type": "stream",
     "text": [
      "with no thresholding: 95.75315647997682\n",
      "Macro avg F1  95.50643809603123\n",
      "Weighted avg F1  95.50297382158955\n",
      "--------------------------\n",
      "[[11256   750]\n",
      " [  221  9606]]\n",
      "[[93.75312344  6.24687656]\n",
      " [ 2.24890608 97.75109392]]\n",
      "--------------------------\n",
      "Non_tau accuracy 93.75312343828087\n",
      "Tau accuracy 97.75109392490077\n",
      "--------------------------\n",
      "non_tau f1-score  95.47299585532522\n",
      "tau f1-score  95.53988033673726\n",
      "--------------------------\n",
      "Macro avg precision 96.03637053346722\n",
      "Macro avg recall  95.75315647997682\n"
     ]
    }
   ],
   "source": [
    "#Confusion matrix across 10 folds, WITHOUT thresholding \n",
    "print('with no thresholding:',\n",
    "      mean(model.cv_accuracies)*100)\n",
    "print('Macro avg F1 ',\n",
    "      mean([i['macro avg']['f1-score'] for i in model.cv_reports])*100)\n",
    "print('Weighted avg F1 ',\n",
    "      mean([i['weighted avg']['f1-score'] for i in model.cv_reports])*100)\n",
    "print(\"--------------------------\")\n",
    "C = sum(model.cv_confusion_matrices)\n",
    "final_cm = C.astype('float') / C.sum(axis=1)[:, np.newaxis]*100 \n",
    "print(C)\n",
    "print(final_cm)\n",
    "print(\"--------------------------\")\n",
    "print(\"Non_tau accuracy\", final_cm[0][0])\n",
    "print(\"Tau accuracy\", final_cm[1][1])\n",
    "\n",
    "print(\"--------------------------\")\n",
    "# F1-score per class: \n",
    "print('non_tau f1-score ',\n",
    "      mean([i['Non_tau']['f1-score'] for i in model.cv_reports])*100)\n",
    "print('tau f1-score ',\n",
    "      mean([i['Tau']['f1-score'] for i in model.cv_reports])*100)\n",
    "print(\"--------------------------\")\n",
    "print('Macro avg precision',\n",
    "      mean([i['macro avg']['precision'] for i in model.cv_reports])*100)\n",
    "print('Macro avg recall ',\n",
    "      mean([i['macro avg']['recall'] for i in model.cv_reports])*100)"
   ]
  },
  {
   "cell_type": "code",
   "execution_count": 15,
   "metadata": {},
   "outputs": [
    {
     "data": {
      "text/plain": [
       "['screening_cv_results_balanced_updated3.sav']"
      ]
     },
     "execution_count": 15,
     "metadata": {},
     "output_type": "execute_result"
    }
   ],
   "source": [
    "# save object using joblib\n",
    "joblib.dump(model, 'screening_cv_results_balanced_updated3.sav')"
   ]
  },
  {
   "cell_type": "code",
   "execution_count": 28,
   "metadata": {},
   "outputs": [],
   "source": [
    "# The final model\n",
    "loaded_model = joblib.load('/Users/mokur/OneDrive - University of Cambridge/Attachments/Jan2023/Tau_pipeline/Tuning_parameters/Final/results/screening_cv_results_balanced_updated3.sav')\n",
    "\n",
    "# sum all raw values together to create 1 confusion matrix\n",
    "cf = sum(loaded_model.cv_confusion_matrices) \n",
    "\n",
    "# Calculate % accuracy confusion matrix \n",
    "final_cm =  cf.astype('float') / cf.sum(axis=1)[:, np.newaxis]*100 \n",
    "\n",
    "\n"
   ]
  },
  {
   "attachments": {},
   "cell_type": "markdown",
   "metadata": {},
   "source": [
    "Check incorrect & correct cases"
   ]
  },
  {
   "cell_type": "code",
   "execution_count": 7,
   "metadata": {},
   "outputs": [
    {
     "data": {
      "text/html": [
       "<div>\n",
       "<style scoped>\n",
       "    .dataframe tbody tr th:only-of-type {\n",
       "        vertical-align: middle;\n",
       "    }\n",
       "\n",
       "    .dataframe tbody tr th {\n",
       "        vertical-align: top;\n",
       "    }\n",
       "\n",
       "    .dataframe thead th {\n",
       "        text-align: right;\n",
       "    }\n",
       "</style>\n",
       "<table border=\"1\" class=\"dataframe\">\n",
       "  <thead>\n",
       "    <tr style=\"text-align: right;\">\n",
       "      <th></th>\n",
       "      <th>truth</th>\n",
       "      <th>predicted</th>\n",
       "      <th>Centroid_X</th>\n",
       "      <th>Centroid_Y</th>\n",
       "      <th>Image</th>\n",
       "    </tr>\n",
       "  </thead>\n",
       "  <tbody>\n",
       "    <tr>\n",
       "      <th>0</th>\n",
       "      <td>Non_tau</td>\n",
       "      <td>Non_tau</td>\n",
       "      <td>6535.8</td>\n",
       "      <td>4512.4</td>\n",
       "      <td>747297.svs_c1_Tanrada_version6</td>\n",
       "    </tr>\n",
       "    <tr>\n",
       "      <th>1</th>\n",
       "      <td>Non_tau</td>\n",
       "      <td>Non_tau</td>\n",
       "      <td>6794.6</td>\n",
       "      <td>4513.9</td>\n",
       "      <td>747297.svs_c1_Tanrada_version6</td>\n",
       "    </tr>\n",
       "    <tr>\n",
       "      <th>2</th>\n",
       "      <td>Non_tau</td>\n",
       "      <td>Non_tau</td>\n",
       "      <td>6784.2</td>\n",
       "      <td>4517.9</td>\n",
       "      <td>747297.svs_c1_Tanrada_version6</td>\n",
       "    </tr>\n",
       "    <tr>\n",
       "      <th>3</th>\n",
       "      <td>Non_tau</td>\n",
       "      <td>Non_tau</td>\n",
       "      <td>6836.2</td>\n",
       "      <td>4531.4</td>\n",
       "      <td>747297.svs_c1_Tanrada_version6</td>\n",
       "    </tr>\n",
       "    <tr>\n",
       "      <th>4</th>\n",
       "      <td>Non_tau</td>\n",
       "      <td>Non_tau</td>\n",
       "      <td>6779.9</td>\n",
       "      <td>4565.4</td>\n",
       "      <td>747297.svs_c1_Tanrada_version6</td>\n",
       "    </tr>\n",
       "  </tbody>\n",
       "</table>\n",
       "</div>"
      ],
      "text/plain": [
       "     truth predicted  Centroid_X  Centroid_Y                           Image\n",
       "0  Non_tau   Non_tau      6535.8      4512.4  747297.svs_c1_Tanrada_version6\n",
       "1  Non_tau   Non_tau      6794.6      4513.9  747297.svs_c1_Tanrada_version6\n",
       "2  Non_tau   Non_tau      6784.2      4517.9  747297.svs_c1_Tanrada_version6\n",
       "3  Non_tau   Non_tau      6836.2      4531.4  747297.svs_c1_Tanrada_version6\n",
       "4  Non_tau   Non_tau      6779.9      4565.4  747297.svs_c1_Tanrada_version6"
      ]
     },
     "execution_count": 7,
     "metadata": {},
     "output_type": "execute_result"
    }
   ],
   "source": [
    "# Merge predicted labels to annotated labels\n",
    "\n",
    "info = pd.concat(loaded_model.cv_x_test)\n",
    "outcome = pd.DataFrame(data={'truth':pd.concat(loaded_model.cv_y_test),\n",
    "                             'predicted':np.concatenate(loaded_model.cv_y_predicts).ravel().tolist(),\n",
    "                             'Centroid_X':info['Centroid_X'],\n",
    "                             'Centroid_Y':info['Centroid_Y'],\n",
    "                             'Image':info['Image']})\n",
    "outcome.head()\n"
   ]
  },
  {
   "cell_type": "code",
   "execution_count": 8,
   "metadata": {},
   "outputs": [
    {
     "data": {
      "text/plain": [
       "760054.svs_artefact_annotation     286\n",
       "747853.svs_artefact_annotation     220\n",
       "747818.svs_c1_Tanrada_version6      56\n",
       "747297.svs_c1_Tanrada_version6      49\n",
       "747309.svs_c1_Tanrada_version6      39\n",
       "747316.svs_TRAINING_3_screening     25\n",
       "747851.svs_artefact_annotation      25\n",
       "771746.svs_TRAINING_3_screening     24\n",
       "747814.svs_c1_Tanrada_version6      14\n",
       "771791.svs_TRAINING_3_screening     12\n",
       "Name: Image, dtype: int64"
      ]
     },
     "execution_count": 8,
     "metadata": {},
     "output_type": "execute_result"
    }
   ],
   "source": [
    "non_tau_as_tau = outcome[(outcome['truth']=='Non_tau')&(outcome['predicted']=='Tau')]\n",
    "non_tau_as_tau['Image'].value_counts()"
   ]
  },
  {
   "cell_type": "code",
   "execution_count": 10,
   "metadata": {},
   "outputs": [
    {
     "data": {
      "text/html": [
       "<div>\n",
       "<style scoped>\n",
       "    .dataframe tbody tr th:only-of-type {\n",
       "        vertical-align: middle;\n",
       "    }\n",
       "\n",
       "    .dataframe tbody tr th {\n",
       "        vertical-align: top;\n",
       "    }\n",
       "\n",
       "    .dataframe thead th {\n",
       "        text-align: right;\n",
       "    }\n",
       "</style>\n",
       "<table border=\"1\" class=\"dataframe\">\n",
       "  <thead>\n",
       "    <tr style=\"text-align: right;\">\n",
       "      <th></th>\n",
       "      <th>truth</th>\n",
       "      <th>predicted</th>\n",
       "      <th>Centroid_X</th>\n",
       "      <th>Centroid_Y</th>\n",
       "      <th>Image</th>\n",
       "    </tr>\n",
       "  </thead>\n",
       "  <tbody>\n",
       "    <tr>\n",
       "      <th>18479</th>\n",
       "      <td>Non_tau</td>\n",
       "      <td>Tau</td>\n",
       "      <td>14093.0</td>\n",
       "      <td>2298.2</td>\n",
       "      <td>771791.svs_TRAINING_3_screening</td>\n",
       "    </tr>\n",
       "    <tr>\n",
       "      <th>18899</th>\n",
       "      <td>Non_tau</td>\n",
       "      <td>Tau</td>\n",
       "      <td>15406.4</td>\n",
       "      <td>2818.4</td>\n",
       "      <td>771791.svs_TRAINING_3_screening</td>\n",
       "    </tr>\n",
       "    <tr>\n",
       "      <th>18942</th>\n",
       "      <td>Non_tau</td>\n",
       "      <td>Tau</td>\n",
       "      <td>16542.2</td>\n",
       "      <td>2843.5</td>\n",
       "      <td>771791.svs_TRAINING_3_screening</td>\n",
       "    </tr>\n",
       "    <tr>\n",
       "      <th>19668</th>\n",
       "      <td>Non_tau</td>\n",
       "      <td>Tau</td>\n",
       "      <td>16484.0</td>\n",
       "      <td>3234.3</td>\n",
       "      <td>771791.svs_TRAINING_3_screening</td>\n",
       "    </tr>\n",
       "    <tr>\n",
       "      <th>19735</th>\n",
       "      <td>Non_tau</td>\n",
       "      <td>Tau</td>\n",
       "      <td>15448.4</td>\n",
       "      <td>3266.5</td>\n",
       "      <td>771791.svs_TRAINING_3_screening</td>\n",
       "    </tr>\n",
       "    <tr>\n",
       "      <th>19850</th>\n",
       "      <td>Non_tau</td>\n",
       "      <td>Tau</td>\n",
       "      <td>4198.1</td>\n",
       "      <td>3315.9</td>\n",
       "      <td>771791.svs_TRAINING_3_screening</td>\n",
       "    </tr>\n",
       "    <tr>\n",
       "      <th>19970</th>\n",
       "      <td>Non_tau</td>\n",
       "      <td>Tau</td>\n",
       "      <td>9086.6</td>\n",
       "      <td>3369.5</td>\n",
       "      <td>771791.svs_TRAINING_3_screening</td>\n",
       "    </tr>\n",
       "    <tr>\n",
       "      <th>19982</th>\n",
       "      <td>Non_tau</td>\n",
       "      <td>Tau</td>\n",
       "      <td>9075.8</td>\n",
       "      <td>3377.1</td>\n",
       "      <td>771791.svs_TRAINING_3_screening</td>\n",
       "    </tr>\n",
       "    <tr>\n",
       "      <th>20126</th>\n",
       "      <td>Non_tau</td>\n",
       "      <td>Tau</td>\n",
       "      <td>5570.0</td>\n",
       "      <td>3436.1</td>\n",
       "      <td>771791.svs_TRAINING_3_screening</td>\n",
       "    </tr>\n",
       "    <tr>\n",
       "      <th>20899</th>\n",
       "      <td>Non_tau</td>\n",
       "      <td>Tau</td>\n",
       "      <td>18700.3</td>\n",
       "      <td>3925.8</td>\n",
       "      <td>771791.svs_TRAINING_3_screening</td>\n",
       "    </tr>\n",
       "    <tr>\n",
       "      <th>21692</th>\n",
       "      <td>Non_tau</td>\n",
       "      <td>Tau</td>\n",
       "      <td>9393.4</td>\n",
       "      <td>12543.3</td>\n",
       "      <td>771791.svs_TRAINING_3_screening</td>\n",
       "    </tr>\n",
       "    <tr>\n",
       "      <th>21740</th>\n",
       "      <td>Non_tau</td>\n",
       "      <td>Tau</td>\n",
       "      <td>9576.2</td>\n",
       "      <td>12727.9</td>\n",
       "      <td>771791.svs_TRAINING_3_screening</td>\n",
       "    </tr>\n",
       "  </tbody>\n",
       "</table>\n",
       "</div>"
      ],
      "text/plain": [
       "         truth predicted  Centroid_X  Centroid_Y  \\\n",
       "18479  Non_tau       Tau     14093.0      2298.2   \n",
       "18899  Non_tau       Tau     15406.4      2818.4   \n",
       "18942  Non_tau       Tau     16542.2      2843.5   \n",
       "19668  Non_tau       Tau     16484.0      3234.3   \n",
       "19735  Non_tau       Tau     15448.4      3266.5   \n",
       "19850  Non_tau       Tau      4198.1      3315.9   \n",
       "19970  Non_tau       Tau      9086.6      3369.5   \n",
       "19982  Non_tau       Tau      9075.8      3377.1   \n",
       "20126  Non_tau       Tau      5570.0      3436.1   \n",
       "20899  Non_tau       Tau     18700.3      3925.8   \n",
       "21692  Non_tau       Tau      9393.4     12543.3   \n",
       "21740  Non_tau       Tau      9576.2     12727.9   \n",
       "\n",
       "                                 Image  \n",
       "18479  771791.svs_TRAINING_3_screening  \n",
       "18899  771791.svs_TRAINING_3_screening  \n",
       "18942  771791.svs_TRAINING_3_screening  \n",
       "19668  771791.svs_TRAINING_3_screening  \n",
       "19735  771791.svs_TRAINING_3_screening  \n",
       "19850  771791.svs_TRAINING_3_screening  \n",
       "19970  771791.svs_TRAINING_3_screening  \n",
       "19982  771791.svs_TRAINING_3_screening  \n",
       "20126  771791.svs_TRAINING_3_screening  \n",
       "20899  771791.svs_TRAINING_3_screening  \n",
       "21692  771791.svs_TRAINING_3_screening  \n",
       "21740  771791.svs_TRAINING_3_screening  "
      ]
     },
     "execution_count": 10,
     "metadata": {},
     "output_type": "execute_result"
    }
   ],
   "source": [
    "non_tau_as_tau[non_tau_as_tau['Image']=='771791.svs_TRAINING_3_screening']"
   ]
  },
  {
   "cell_type": "code",
   "execution_count": 20,
   "metadata": {},
   "outputs": [
    {
     "data": {
      "text/html": [
       "<div>\n",
       "<style scoped>\n",
       "    .dataframe tbody tr th:only-of-type {\n",
       "        vertical-align: middle;\n",
       "    }\n",
       "\n",
       "    .dataframe tbody tr th {\n",
       "        vertical-align: top;\n",
       "    }\n",
       "\n",
       "    .dataframe thead th {\n",
       "        text-align: right;\n",
       "    }\n",
       "</style>\n",
       "<table border=\"1\" class=\"dataframe\">\n",
       "  <thead>\n",
       "    <tr style=\"text-align: right;\">\n",
       "      <th></th>\n",
       "      <th>truth</th>\n",
       "      <th>predicted</th>\n",
       "      <th>Centroid_X</th>\n",
       "      <th>Centroid_Y</th>\n",
       "      <th>Image</th>\n",
       "    </tr>\n",
       "  </thead>\n",
       "  <tbody>\n",
       "  </tbody>\n",
       "</table>\n",
       "</div>"
      ],
      "text/plain": [
       "Empty DataFrame\n",
       "Columns: [truth, predicted, Centroid_X, Centroid_Y, Image]\n",
       "Index: []"
      ]
     },
     "execution_count": 20,
     "metadata": {},
     "output_type": "execute_result"
    }
   ],
   "source": [
    "image = outcome[outcome['Image']=='747297.svs_c1_Tanrada_version5']\n",
    "image_incorrect = image[image['truth']!=image['predicted']]\n",
    "image_incorrect"
   ]
  },
  {
   "cell_type": "code",
   "execution_count": 58,
   "metadata": {},
   "outputs": [],
   "source": [
    "# # export out for inspection\n",
    "# path = 'C:/Users/mokur/OneDrive - University of Cambridge/Attachments/Jan2023/re-training_screening_classifier/attempt2/'\n",
    "# image_incorrect.to_csv(path+'760054_incorrect.txt', sep=\"\\t\", index=False)"
   ]
  },
  {
   "attachments": {},
   "cell_type": "markdown",
   "metadata": {},
   "source": [
    "Confusion matrix"
   ]
  },
  {
   "cell_type": "code",
   "execution_count": 17,
   "metadata": {},
   "outputs": [
    {
     "data": {
      "image/png": "[encoded data removed]",
      "text/plain": [
       "<Figure size 640x480 with 2 Axes>"
      ]
     },
     "metadata": {},
     "output_type": "display_data"
    }
   ],
   "source": [
    "plot = ConfusionMatrixDisplay(final_cm,\n",
    "                              display_labels=['Non tau','Tau'])\n",
    "plot.plot(cmap='cividis', values_format='.2f')         \n",
    "plt.show()"
   ]
  },
  {
   "cell_type": "code",
   "execution_count": 29,
   "metadata": {},
   "outputs": [
    {
     "name": "stdout",
     "output_type": "stream",
     "text": [
      "Macro avg F1  95.35360503169731\n",
      "Macro avg F1 std  6.42426370314774\n",
      "--------------------------\n",
      "Macro avg precision 95.95762879595841\n",
      "Macro avg precision std 4.638853604164306\n",
      "--------------------------\n",
      "Macro avg recall  95.64416479655493\n",
      "Macro avg recall std 5.736505756683469\n"
     ]
    }
   ],
   "source": [
    "model = loaded_model\n",
    "# Confusion matrix across 10 folds, WITH thresholding \n",
    "print('Macro avg F1 ', \n",
    "      mean([i['macro avg']['f1-score'] for i in model.cv_reportsT])*100)\n",
    "print('Macro avg F1 std ', \n",
    "      np.std([i['macro avg']['f1-score'] for i in model.cv_reportsT])*100)\n",
    "\n",
    "print(\"--------------------------\")\n",
    "print('Macro avg precision',\n",
    "      mean([i['macro avg']['precision'] for i in model.cv_reportsT])*100)\n",
    "print('Macro avg precision std',\n",
    "      np.std([i['macro avg']['precision'] for i in model.cv_reportsT])*100)\n",
    "print(\"--------------------------\")\n",
    "print('Macro avg recall ',\n",
    "      mean([i['macro avg']['recall'] for i in model.cv_reportsT])*100)\n",
    "print('Macro avg recall std',\n",
    "      np.std([i['macro avg']['recall'] for i in model.cv_reportsT])*100)"
   ]
  },
  {
   "cell_type": "code",
   "execution_count": 30,
   "metadata": {},
   "outputs": [
    {
     "name": "stdout",
     "output_type": "stream",
     "text": [
      "Macro avg F1  95.50643809603123\n",
      "Macro avg F1 std  5.956351702881871\n",
      "--------------------------\n",
      "Macro avg precision 96.03637053346722\n",
      "Macro avg precision std 4.432265618362454\n",
      "--------------------------\n",
      "Macro avg recall  95.75315647997682\n",
      "Macro avg recall std 5.307869903914251\n"
     ]
    }
   ],
   "source": [
    "model = loaded_model\n",
    "# Confusion matrix across 10 folds, WITH NO thresholding \n",
    "print('Macro avg F1 ', \n",
    "      mean([i['macro avg']['f1-score'] for i in model.cv_reports])*100)\n",
    "print('Macro avg F1 std ', \n",
    "      np.std([i['macro avg']['f1-score'] for i in model.cv_reports])*100)\n",
    "\n",
    "print(\"--------------------------\")\n",
    "print('Macro avg precision',\n",
    "      mean([i['macro avg']['precision'] for i in model.cv_reports])*100)\n",
    "print('Macro avg precision std',\n",
    "      np.std([i['macro avg']['precision'] for i in model.cv_reports])*100)\n",
    "print(\"--------------------------\")\n",
    "print('Macro avg recall ',\n",
    "      mean([i['macro avg']['recall'] for i in model.cv_reports])*100)\n",
    "print('Macro avg recall std',\n",
    "      np.std([i['macro avg']['recall'] for i in model.cv_reports])*100)"
   ]
  },
  {
   "cell_type": "code",
   "execution_count": 20,
   "metadata": {},
   "outputs": [
    {
     "name": "stdout",
     "output_type": "stream",
     "text": [
      "mean accuracy \n",
      "93.75490563419373\n",
      "6.245094365806271\n",
      "2.2485926742400855\n",
      "97.75140732575991\n",
      "std accuracy \n",
      "11.075029863052457\n",
      "11.075029863052457\n",
      "0.8609636351019537\n",
      "0.860963635101954\n"
     ]
    }
   ],
   "source": [
    "# calculate accuracy in percentages of all confusion matrices and put in a list \n",
    "percent_cm = []\n",
    "for i in loaded_model.cv_confusion_matrices:\n",
    "    x = i.astype('float') / i.sum(axis=1)[:, np.newaxis]*100\n",
    "    percent_cm.append(x)\n",
    "\n",
    "nt_nt = [i[0][0] for i in percent_cm]\n",
    "nt_t = [i[0][1] for i in percent_cm]\n",
    "t_nt = [i[1][0] for i in percent_cm]\n",
    "t_t = [i[1][1] for i in percent_cm]\n",
    "\n",
    "# Calculate mean accuracy per category\n",
    "print('mean accuracy ')\n",
    "print(mean(nt_nt))\n",
    "print(mean(nt_t))\n",
    "print(mean(t_nt))\n",
    "print(mean(t_t))\n",
    "\n",
    "# Calculate std of accuracies \n",
    "print('std accuracy ')\n",
    "print(np.std(nt_nt))\n",
    "print(np.std(nt_t))\n",
    "print(np.std(t_nt))\n",
    "print(np.std(t_t))\n",
    "    "
   ]
  },
  {
   "attachments": {},
   "cell_type": "markdown",
   "metadata": {},
   "source": [
    "Plotting feature importance"
   ]
  },
  {
   "cell_type": "code",
   "execution_count": 8,
   "metadata": {},
   "outputs": [],
   "source": [
    "import seaborn as sns"
   ]
  },
  {
   "cell_type": "code",
   "execution_count": 21,
   "metadata": {},
   "outputs": [],
   "source": [
    "model_rf = joblib.load('/Users/mokur/OneDrive - University of Cambridge/Attachments/Jan2023/Tau_pipeline/Tuning_parameters/Final/results/screening_random_search_updated3.sav')"
   ]
  },
  {
   "cell_type": "code",
   "execution_count": 22,
   "metadata": {},
   "outputs": [
    {
     "data": {
      "text/plain": [
       "{'selector__n_features_to_select': 46,\n",
       " 'clf__sampling_strategy': 'auto',\n",
       " 'clf__random_state': 42,\n",
       " 'clf__n_estimators': 600,\n",
       " 'clf__min_samples_split': 2,\n",
       " 'clf__min_samples_leaf': 2,\n",
       " 'clf__max_samples': None,\n",
       " 'clf__max_features': 1,\n",
       " 'clf__max_depth': None,\n",
       " 'clf__class_weight': 'balanced'}"
      ]
     },
     "execution_count": 22,
     "metadata": {},
     "output_type": "execute_result"
    }
   ],
   "source": [
    "model_rf.best_params_"
   ]
  },
  {
   "cell_type": "code",
   "execution_count": 23,
   "metadata": {},
   "outputs": [],
   "source": [
    "#With feature selection\n",
    "rf_result = model_rf.best_estimator_.named_steps['selector'].get_support(indices=True)\n",
    "rf_result\n",
    "rf_result_f = [s_data.c1_X_train.columns[i] for i in rf_result]\n",
    "# (rf_result_f)\n",
    "importance = model_rf.best_estimator_.named_steps['clf'].feature_importances_\n",
    "f_importance = pd.DataFrame(data={'features':rf_result_f,'importance':importance})\n",
    "f_importance = f_importance.sort_values(by=['importance'],ascending=False)"
   ]
  },
  {
   "cell_type": "code",
   "execution_count": 24,
   "metadata": {},
   "outputs": [],
   "source": [
    "f_importance_subset = f_importance[0:11]\n",
    "features = [i.replace('ROI: 0.25 µm per pixel: ','') for i in f_importance_subset['features']]\n",
    "f_importance_subset = f_importance_subset.copy()\n",
    "f_importance_subset.loc[:,'features'] = features\n",
    "f_importance_subset = f_importance_subset.rename(columns={'features':'Feature',\n",
    "                                    'importance':'Importance'})"
   ]
  },
  {
   "cell_type": "code",
   "execution_count": 27,
   "metadata": {},
   "outputs": [
    {
     "data": {
      "text/html": [
       "<div>\n",
       "<style scoped>\n",
       "    .dataframe tbody tr th:only-of-type {\n",
       "        vertical-align: middle;\n",
       "    }\n",
       "\n",
       "    .dataframe tbody tr th {\n",
       "        vertical-align: top;\n",
       "    }\n",
       "\n",
       "    .dataframe thead th {\n",
       "        text-align: right;\n",
       "    }\n",
       "</style>\n",
       "<table border=\"1\" class=\"dataframe\">\n",
       "  <thead>\n",
       "    <tr style=\"text-align: right;\">\n",
       "      <th></th>\n",
       "      <th>Feature</th>\n",
       "      <th>Importance</th>\n",
       "    </tr>\n",
       "  </thead>\n",
       "  <tbody>\n",
       "    <tr>\n",
       "      <th>33</th>\n",
       "      <td>Hematoxylin: Mean</td>\n",
       "      <td>0.043437</td>\n",
       "    </tr>\n",
       "    <tr>\n",
       "      <th>34</th>\n",
       "      <td>Hematoxylin: Median</td>\n",
       "      <td>0.041947</td>\n",
       "    </tr>\n",
       "    <tr>\n",
       "      <th>37</th>\n",
       "      <td>Red: Mean</td>\n",
       "      <td>0.038536</td>\n",
       "    </tr>\n",
       "    <tr>\n",
       "      <th>36</th>\n",
       "      <td>Red: Max</td>\n",
       "      <td>0.036822</td>\n",
       "    </tr>\n",
       "    <tr>\n",
       "      <th>19</th>\n",
       "      <td>DAB: Haralick Sum average (F5)</td>\n",
       "      <td>0.034232</td>\n",
       "    </tr>\n",
       "    <tr>\n",
       "      <th>24</th>\n",
       "      <td>DAB: Mean</td>\n",
       "      <td>0.033630</td>\n",
       "    </tr>\n",
       "    <tr>\n",
       "      <th>35</th>\n",
       "      <td>Hematoxylin: Min</td>\n",
       "      <td>0.030751</td>\n",
       "    </tr>\n",
       "    <tr>\n",
       "      <th>38</th>\n",
       "      <td>Red: Median</td>\n",
       "      <td>0.030750</td>\n",
       "    </tr>\n",
       "    <tr>\n",
       "      <th>27</th>\n",
       "      <td>DAB: Std.dev.</td>\n",
       "      <td>0.030701</td>\n",
       "    </tr>\n",
       "    <tr>\n",
       "      <th>25</th>\n",
       "      <td>DAB: Median</td>\n",
       "      <td>0.030683</td>\n",
       "    </tr>\n",
       "    <tr>\n",
       "      <th>14</th>\n",
       "      <td>DAB: Haralick Difference variance (F9)</td>\n",
       "      <td>0.029921</td>\n",
       "    </tr>\n",
       "  </tbody>\n",
       "</table>\n",
       "</div>"
      ],
      "text/plain": [
       "                                   Feature  Importance\n",
       "33                       Hematoxylin: Mean    0.043437\n",
       "34                     Hematoxylin: Median    0.041947\n",
       "37                               Red: Mean    0.038536\n",
       "36                                Red: Max    0.036822\n",
       "19          DAB: Haralick Sum average (F5)    0.034232\n",
       "24                               DAB: Mean    0.033630\n",
       "35                        Hematoxylin: Min    0.030751\n",
       "38                             Red: Median    0.030750\n",
       "27                           DAB: Std.dev.    0.030701\n",
       "25                             DAB: Median    0.030683\n",
       "14  DAB: Haralick Difference variance (F9)    0.029921"
      ]
     },
     "execution_count": 27,
     "metadata": {},
     "output_type": "execute_result"
    }
   ],
   "source": [
    "f_importance_subset"
   ]
  },
  {
   "cell_type": "code",
   "execution_count": 25,
   "metadata": {},
   "outputs": [
    {
     "data": {
      "text/plain": [
       "<Axes: xlabel='Importance', ylabel='Feature'>"
      ]
     },
     "execution_count": 25,
     "metadata": {},
     "output_type": "execute_result"
    },
    {
     "data": {
      "image/png": "[encoded data removed]",
      "text/plain": [
       "<Figure size 640x480 with 1 Axes>"
      ]
     },
     "metadata": {},
     "output_type": "display_data"
    }
   ],
   "source": [
    "sns.barplot(data=f_importance_subset,\n",
    "            y=\"Feature\",\n",
    "            x=\"Importance\",\n",
    "            color='midnightblue')"
   ]
  },
  {
   "attachments": {},
   "cell_type": "markdown",
   "metadata": {},
   "source": [
    "Finding PR-AUC"
   ]
  },
  {
   "cell_type": "code",
   "execution_count": 31,
   "metadata": {},
   "outputs": [],
   "source": [
    "keys = ['split0_test_PR_AUC',\n",
    "        'split1_test_PR_AUC',\n",
    "        'split2_test_PR_AUC',\n",
    "        'split3_test_PR_AUC',\n",
    "        'split4_test_PR_AUC',\n",
    "        'split5_test_PR_AUC',\n",
    "        'split6_test_PR_AUC',\n",
    "        'split7_test_PR_AUC',\n",
    "        'split8_test_PR_AUC',\n",
    "        'split9_test_PR_AUC']\n",
    "pr_val = []\n",
    "for i in keys:\n",
    "    pr_val.append(model_rf.cv_results_[i][model_rf.best_index_])"
   ]
  },
  {
   "cell_type": "code",
   "execution_count": 32,
   "metadata": {},
   "outputs": [
    {
     "name": "stdout",
     "output_type": "stream",
     "text": [
      "0.9911478458271097\n",
      "mean pr: 99.11478458271097\n",
      "std pr: 1.1493303596250326\n"
     ]
    }
   ],
   "source": [
    "print(model_rf.cv_results_['mean_test_PR_AUC'][model_rf.best_index_])\n",
    "print('mean pr:', mean(pr_val)*100)\n",
    "print('std pr:', np.std(pr_val)*100)"
   ]
  }
 ],
 "metadata": {
  "kernelspec": {
   "display_name": "Python 3.9.13 ('base')",
   "language": "python",
   "name": "python3"
  },
  "language_info": {
   "codemirror_mode": {
    "name": "ipython",
    "version": 3
   },
   "file_extension": ".py",
   "mimetype": "text/x-python",
   "name": "python",
   "nbconvert_exporter": "python",
   "pygments_lexer": "ipython3",
   "version": "3.8.16"
  },
  "vscode": {
   "interpreter": {
    "hash": "f49f039f1826f29992caaab1300810c8c9e5d31d3955aed133543fc6668591e2"
   }
  }
 },
 "nbformat": 4,
 "nbformat_minor": 2
}
