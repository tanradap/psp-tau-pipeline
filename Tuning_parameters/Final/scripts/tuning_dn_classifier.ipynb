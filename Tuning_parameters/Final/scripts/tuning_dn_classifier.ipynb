{
 "cells": [
  {
   "cell_type": "code",
   "execution_count": 1,
   "metadata": {},
   "outputs": [],
   "source": [
    "# Importing libraries\n",
    "import sys\n",
    "sys.path.insert(0,\n",
    "                '/Users/mokur/OneDrive - University of Cambridge/Attachments/Jan2023/Tau_pipeline/Tau_classification/')\n",
    "\n",
    "from base import *\n",
    "from constants import *\n",
    "sys.path.insert(0,\n",
    "                '/Users/mokur/OneDrive - University of Cambridge/Attachments/Jan2023/Tau_pipeline/Tuning_parameters/')\n",
    "\n",
    "from tuning import * \n",
    "from extra_metrics_training import *\n",
    "from tuning_constants import * "
   ]
  },
  {
   "cell_type": "code",
   "execution_count": 2,
   "metadata": {},
   "outputs": [],
   "source": [
    "import joblib"
   ]
  },
  {
   "cell_type": "code",
   "execution_count": 3,
   "metadata": {},
   "outputs": [],
   "source": [
    "import pandas as pd\n",
    "import numpy as np \n",
    "import random \n",
    "\n",
    "from sklearn import preprocessing \n",
    "\n",
    "from sklearn.pipeline import Pipeline\n",
    "from sklearn.preprocessing import MinMaxScaler\n",
    "from sklearn.ensemble import RandomForestClassifier\n",
    "from imblearn.ensemble import BalancedRandomForestClassifier\n",
    "from sklearn.model_selection import RandomizedSearchCV\n",
    "from sklearn.metrics import ConfusionMatrixDisplay\n",
    "import matplotlib.pyplot as plt\n"
   ]
  },
  {
   "cell_type": "code",
   "execution_count": 4,
   "metadata": {},
   "outputs": [
    {
     "name": "stdout",
     "output_type": "stream",
     "text": [
      "Others    1805\n",
      "NFT        234\n",
      "CB         147\n",
      "Name: Class, dtype: int64\n",
      "(2186, 54)\n"
     ]
    }
   ],
   "source": [
    "path = \"/Users/mokur/OneDrive - University of Cambridge/Attachments/Jan2023/Tau_pipeline/Tau_classification/Untrained/Training_data/DN/\"\n",
    "filename = \"training.txt\"\n",
    "\n",
    "# Create tau database object \n",
    "dn_data = TauDataBase(path = path,\n",
    "                      filename = filename) \n",
    "\n",
    "# Prepping data to train tau classifier for dentate nucleus\n",
    "dn_data.classifier2_prep()\n",
    "\n",
    "# Check data\n",
    "print(dn_data.c2_data['Class'].value_counts())\n",
    "print(dn_data.c2_X_train.shape)"
   ]
  },
  {
   "cell_type": "code",
   "execution_count": 6,
   "metadata": {},
   "outputs": [
    {
     "name": "stdout",
     "output_type": "stream",
     "text": [
      "Fitting 10 folds for each of 100 candidates, totalling 1000 fits\n",
      "0.9796589612447606\n",
      "{'selector__n_features_to_select': 34, 'clf__sampling_strategy': 'not majority', 'clf__random_state': 42, 'clf__n_estimators': 100, 'clf__min_samples_split': 2, 'clf__min_samples_leaf': 1, 'clf__max_samples': None, 'clf__max_features': 0.2, 'clf__max_depth': None, 'clf__class_weight': 'balanced'}\n"
     ]
    }
   ],
   "source": [
    "# Tuning \n",
    "rf_random = RandomizedSearchCV(pipeline,\n",
    "                               param_distributions=random_grid, \n",
    "                               n_iter=100,\n",
    "                               cv=10,\n",
    "                               verbose=2,\n",
    "                               random_state=42,\n",
    "                               n_jobs=-1,\n",
    "                               refit='PR_AUC',\n",
    "                               scoring={\n",
    "                                'PR_AUC':precision_recall_auc_tau_noTA,\n",
    "                                'roc_auc_ovr_weighted':'roc_auc_ovr_weighted',\n",
    "                                'roc_auc_ovo':'roc_auc_ovo',\n",
    "                                'balanced_accuracy':'balanced_accuracy',\n",
    "                                'f1_weighted':'f1_weighted',\n",
    "                                'CB_accuracy': CB_acc_noTA,\n",
    "                                'NFT_accuracy':NFT_acc_noTA,\n",
    "                                'Others_accuracy':Others_acc_noTA\n",
    "                                        })\n",
    "\n",
    "rf_random.fit(dn_data.c2_X_train,\n",
    "              dn_data.c2_Y_train)\n",
    "\n",
    "\n",
    "print(rf_random.best_score_)\n",
    "print(rf_random.best_params_)"
   ]
  },
  {
   "cell_type": "code",
   "execution_count": 7,
   "metadata": {},
   "outputs": [
    {
     "name": "stdout",
     "output_type": "stream",
     "text": [
      "PR-AUC: 97.96589612447606\n",
      "ROC-AUC: 99.56778080589778\n",
      "ROC-AUC: 99.32693861868286\n",
      "Balanced accuracy: 93.03483287515236\n",
      "F1_weighted: 97.97626221538805\n",
      "CB accuracy: 85.0\n",
      "NFT accuracy: 94.54710144927535\n",
      "Others accuracy: 99.55739717618168\n"
     ]
    }
   ],
   "source": [
    "# Digging into more details \n",
    "print(\"PR-AUC:\",\n",
    "      rf_random.cv_results_['mean_test_PR_AUC'][rf_random.best_index_]*100)\n",
    "print(\"ROC-AUC:\",\n",
    "      rf_random.cv_results_['mean_test_roc_auc_ovr_weighted'][rf_random.best_index_]*100)\n",
    "print(\"ROC-AUC:\",\n",
    "      rf_random.cv_results_['mean_test_roc_auc_ovo'][rf_random.best_index_]*100)\n",
    "\n",
    "print(\"Balanced accuracy:\",\n",
    "      rf_random.cv_results_['mean_test_balanced_accuracy'][rf_random.best_index_]*100)\n",
    "\n",
    "print(\"F1_weighted:\",\n",
    "      rf_random.cv_results_['mean_test_f1_weighted'][rf_random.best_index_]*100)\n",
    "\n",
    "print(\"CB accuracy:\",\n",
    "      rf_random.cv_results_['mean_test_CB_accuracy'][rf_random.best_index_]*100)\n",
    "\n",
    "print(\"NFT accuracy:\",\n",
    "      rf_random.cv_results_['mean_test_NFT_accuracy'][rf_random.best_index_]*100)\n",
    "\n",
    "print(\"Others accuracy:\",\n",
    "      rf_random.cv_results_['mean_test_Others_accuracy'][rf_random.best_index_]*100)\n",
    "\n",
    "# print(\"Classified CB as NFT:\",\n",
    "#       rf_random.cv_results_['mean_test_CB_as_NFT'][rf_random.best_index_]*100)\n",
    "\n",
    "# print(\"Classified CB as Others:\",\n",
    "#       rf_random.cv_results_['mean_test_CB_as_Others'][rf_random.best_index_]*100)\n",
    "\n",
    "# print(\"Classified NFT as CB:\",\n",
    "#       rf_random.cv_results_['mean_test_NFT_as_CB'][rf_random.best_index_]*100)\n",
    "\n",
    "# print(\"Classified NFT as Others:\",\n",
    "#       rf_random.cv_results_['mean_test_NFT_as_Others'][rf_random.best_index_]*100)\n",
    "\n",
    "# print(\"Classified Others as CB:\",\n",
    "#       rf_random.cv_results_['mean_test_Others_as_CB'][rf_random.best_index_]*100)\n",
    "\n",
    "# print(\"Classified Others as NFT:\",\n",
    "#       rf_random.cv_results_['mean_test_Others_as_NFT'][rf_random.best_index_]*100)\n",
    "\n",
    "                                                       "
   ]
  },
  {
   "cell_type": "code",
   "execution_count": 8,
   "metadata": {},
   "outputs": [
    {
     "data": {
      "text/plain": [
       "['dn_random_search.sav']"
      ]
     },
     "execution_count": 8,
     "metadata": {},
     "output_type": "execute_result"
    }
   ],
   "source": [
    "# save object using joblib\n",
    "joblib.dump(rf_random, 'dn_random_search.sav')"
   ]
  },
  {
   "attachments": {},
   "cell_type": "markdown",
   "metadata": {},
   "source": [
    "{'selector__n_features_to_select': 34, 'clf__sampling_strategy': 'not majority', 'clf__random_state': 42, 'clf__n_estimators': 100, 'clf__min_samples_split': 2, 'clf__min_samples_leaf': 1, 'clf__max_samples': None, 'clf__max_features': 0.2, 'clf__max_depth': None, 'clf__class_weight': 'balanced'}\n"
   ]
  },
  {
   "cell_type": "code",
   "execution_count": 5,
   "metadata": {},
   "outputs": [],
   "source": [
    "dn_classifier_hyperparams = [\n",
    "    ('normalizer', MinMaxScaler()),\n",
    "    ('selector', RFE(RandomForestClassifier(\n",
    "        random_state=42),\n",
    "        n_features_to_select=34)),\n",
    "    ('clf', BalancedRandomForestClassifier(\n",
    "        random_state=42,\n",
    "        sampling_strategy='not majority',\n",
    "        n_estimators=100,\n",
    "        min_samples_split=2,\n",
    "        min_samples_leaf=1,\n",
    "        max_features=0.2,\n",
    "        max_depth=None,\n",
    "        max_samples=None,\n",
    "        class_weight='balanced'))]\n",
    "        \n",
    "# 10-fold cross validation\n",
    "model = TauClassifierNoTATuning(hyperparameters=dn_classifier_hyperparams)\n",
    "model.find_bestparameters(X=dn_data.c2_X_train,\n",
    "                          Y=dn_data.c2_Y_train)\n"
   ]
  },
  {
   "cell_type": "code",
   "execution_count": 6,
   "metadata": {},
   "outputs": [
    {
     "data": {
      "text/plain": [
       "{0: (0.409, 0.9144010858386309, 0.9031204850361197, 0.9314285714285713),\n",
       " 1: (0.422, 0.9811932262266609, 0.9714598662207358, 0.9916666666666668),\n",
       " 2: (0.6599999999999999,\n",
       "  0.9944717736676886,\n",
       "  0.9934360958126922,\n",
       "  0.9955770411295273)}"
      ]
     },
     "execution_count": 6,
     "metadata": {},
     "output_type": "execute_result"
    }
   ],
   "source": [
    "model.best_parameters"
   ]
  },
  {
   "cell_type": "code",
   "execution_count": 8,
   "metadata": {},
   "outputs": [
    {
     "data": {
      "text/plain": [
       "0.9796589612447606"
      ]
     },
     "execution_count": 8,
     "metadata": {},
     "output_type": "execute_result"
    }
   ],
   "source": [
    "mean(model.pr_auc_validation)"
   ]
  },
  {
   "cell_type": "code",
   "execution_count": 16,
   "metadata": {},
   "outputs": [
    {
     "data": {
      "image/png": "[encoded data removed]",
      "text/plain": [
       "<Figure size 432x288 with 1 Axes>"
      ]
     },
     "metadata": {},
     "output_type": "display_data"
    }
   ],
   "source": [
    "# from matplotlib import pyplot\n",
    "\n",
    "# # plot the precision-recall curves\n",
    "# pyplot.plot(model.recall[0], model.precision[0], marker='.', label='0')\n",
    "# pyplot.plot(model.recall[1], model.precision[1], marker='.', label='1')\n",
    "# pyplot.plot(model.recall[2], model.precision[2], marker='.', label='2')\n",
    "# # axis labels\n",
    "# pyplot.xlabel('Recall')\n",
    "# pyplot.ylabel('Precision')\n",
    "# # show the legend\n",
    "# pyplot.legend()\n",
    "# # show the plot\n",
    "# pyplot.show()"
   ]
  },
  {
   "cell_type": "code",
   "execution_count": 9,
   "metadata": {},
   "outputs": [],
   "source": [
    "model.cv_withthresholding(best_parameters=model.best_parameters,\n",
    "                          X=dn_data.c2_X_train,\n",
    "                          Y=dn_data.c2_Y_train,\n",
    "                          X_location=dn_data.c2_train_location)\n"
   ]
  },
  {
   "cell_type": "code",
   "execution_count": 10,
   "metadata": {},
   "outputs": [
    {
     "name": "stdout",
     "output_type": "stream",
     "text": [
      "with thresholding (non-calibrated) ACC : 95.34223965514876\n",
      "Macro avg F1  95.34125434461464\n",
      "Weighted avg F1  98.4710956184419\n",
      "--------------------------\n",
      "[[ 127    4   10]\n",
      " [   5  218    2]\n",
      " [   9    3 1785]]\n",
      "[[90.07092199  2.83687943  7.09219858]\n",
      " [ 2.22222222 96.88888889  0.88888889]\n",
      " [ 0.50083472  0.16694491 99.33222037]]\n",
      "--------------------------\n",
      "CB accuracy 90.0709219858156\n",
      "NFT accuracy 96.88888888888889\n",
      "Others accuracy 99.33222036727881\n",
      "------------------------------\n",
      "CB f1-score  89.82376493032777\n",
      "CB precision  90.1492673992674\n",
      "CB recall  89.86080586080585\n",
      "--------------------------\n",
      "NFT f1-score  96.86780721614963\n",
      "NFT precision  97.09400527009223\n",
      "NFT recall  96.83418031244119\n",
      "--------------------------\n",
      "Others f1-score  99.33219088736652\n",
      "Others precision  99.33638577985626\n",
      "Others recall  99.33173279219925\n",
      "--------------------------\n",
      "Macro avg precision 95.5265528164053\n",
      "Macro avg recall  95.34223965514876\n"
     ]
    }
   ],
   "source": [
    "# Confusion matrix across 10 folds, WITH thresholding \n",
    "print('with thresholding (non-calibrated) ACC :', mean(model.cv_accuraciesT)*100)\n",
    "print('Macro avg F1 ', \n",
    "      mean([i['macro avg']['f1-score'] for i in model.cv_reportsT])*100)\n",
    "print('Weighted avg F1 ',\n",
    "      mean([i['weighted avg']['f1-score'] for i in model.cv_reportsT])*100)\n",
    "print(\"--------------------------\")\n",
    "cf_t = sum(model.cv_confusion_matricesT)\n",
    "final_cm_t =  cf_t.astype('float') / cf_t.sum(axis=1)[:, np.newaxis]*100\n",
    "print(cf_t)\n",
    "print(final_cm_t)\n",
    "print(\"--------------------------\")\n",
    "print(\"CB accuracy\",final_cm_t[0][0])\n",
    "print(\"NFT accuracy\",final_cm_t[1][1])\n",
    "print(\"Others accuracy\",final_cm_t[2][2])\n",
    "print('------------------------------')\n",
    "# F1-score per class: \n",
    "print('CB f1-score ',mean([i['CB']['f1-score'] for i in model.cv_reportsT])*100)\n",
    "print('CB precision ',mean([i['CB']['precision'] for i in model.cv_reportsT])*100)\n",
    "print('CB recall ',mean([i['CB']['recall'] for i in model.cv_reportsT])*100)\n",
    "print(\"--------------------------\")\n",
    "print('NFT f1-score ',mean([i['NFT']['f1-score'] for i in model.cv_reportsT])*100)\n",
    "print('NFT precision ',mean([i['NFT']['precision'] for i in model.cv_reportsT])*100)\n",
    "print('NFT recall ',mean([i['NFT']['recall'] for i in model.cv_reportsT])*100)\n",
    "print(\"--------------------------\")\n",
    "print('Others f1-score ',mean([i['Others']['f1-score'] for i in model.cv_reportsT])*100)\n",
    "print('Others precision ',mean([i['Others']['precision'] for i in model.cv_reportsT])*100)\n",
    "print('Others recall ',mean([i['Others']['recall'] for i in model.cv_reportsT])*100)\n",
    "print(\"--------------------------\")\n",
    "print('Macro avg precision',\n",
    "      mean([i['macro avg']['precision'] for i in model.cv_reportsT])*100)\n",
    "print('Macro avg recall ',\n",
    "      mean([i['macro avg']['recall'] for i in model.cv_reportsT])*100)"
   ]
  },
  {
   "cell_type": "code",
   "execution_count": 11,
   "metadata": {},
   "outputs": [],
   "source": [
    "model.cv_nothresholding(X=dn_data.c2_X_train,\n",
    "                        Y=dn_data.c2_Y_train,\n",
    "                        X_location=dn_data.c2_train_location)"
   ]
  },
  {
   "cell_type": "code",
   "execution_count": 12,
   "metadata": {},
   "outputs": [
    {
     "name": "stdout",
     "output_type": "stream",
     "text": [
      "with no thresholding: 93.03483287515236\n",
      "Macro avg F1  94.10945973618848\n",
      "Weighted avg F1  97.97626221538806\n",
      "--------------------------\n",
      "[[ 125    5   17]\n",
      " [   6  221    7]\n",
      " [   7    1 1797]]\n",
      "[[8.50340136e+01 3.40136054e+00 1.15646259e+01]\n",
      " [2.56410256e+00 9.44444444e+01 2.99145299e+00]\n",
      " [3.87811634e-01 5.54016620e-02 9.95567867e+01]]\n",
      "--------------------------\n",
      "CB accuracy 85.03401360544217\n",
      "NFT accuracy 94.44444444444444\n",
      "Others accuracy 99.5567867036011\n",
      "------------------------------\n",
      "CB f1-score  87.34521104487735\n",
      "CB precision  90.50457875457876\n",
      "CB recall  85.0\n",
      "--------------------------\n",
      "NFT f1-score  95.86411758659678\n",
      "NFT precision  97.40612648221344\n",
      "NFT recall  94.54710144927536\n",
      "--------------------------\n",
      "Others f1-score  99.11905057709134\n",
      "Others precision  98.68909897420232\n",
      "Others recall  99.55739717618171\n",
      "--------------------------\n",
      "Macro avg precision 95.53326807033152\n",
      "Macro avg recall  93.03483287515236\n"
     ]
    }
   ],
   "source": [
    "#Confusion matrix across 10 folds, WITHOUT thresholding \n",
    "print('with no thresholding:',\n",
    "      mean(model.cv_accuracies)*100)\n",
    "print('Macro avg F1 ',\n",
    "      mean([i['macro avg']['f1-score'] for i in model.cv_reports])*100)\n",
    "print('Weighted avg F1 ',\n",
    "      mean([i['weighted avg']['f1-score'] for i in model.cv_reports])*100)\n",
    "print(\"--------------------------\")\n",
    "cf = sum(model.cv_confusion_matrices)\n",
    "final_cm =  cf.astype('float') / cf.sum(axis=1)[:, np.newaxis]*100\n",
    "print(cf)\n",
    "print(final_cm)\n",
    "print(\"--------------------------\")\n",
    "print(\"CB accuracy\",final_cm[0][0])\n",
    "print(\"NFT accuracy\",final_cm[1][1])\n",
    "print(\"Others accuracy\",final_cm[2][2])\n",
    "print('------------------------------')\n",
    "# F1-score per class: \n",
    "print('CB f1-score ',mean([i['CB']['f1-score'] for i in model.cv_reports])*100)\n",
    "print('CB precision ',mean([i['CB']['precision'] for i in model.cv_reports])*100)\n",
    "print('CB recall ',mean([i['CB']['recall'] for i in model.cv_reports])*100)\n",
    "print(\"--------------------------\")\n",
    "print('NFT f1-score ',mean([i['NFT']['f1-score'] for i in model.cv_reports])*100)\n",
    "print('NFT precision ',mean([i['NFT']['precision'] for i in model.cv_reports])*100)\n",
    "print('NFT recall ',mean([i['NFT']['recall'] for i in model.cv_reports])*100)\n",
    "print(\"--------------------------\")\n",
    "print('Others f1-score ',mean([i['Others']['f1-score'] for i in model.cv_reports])*100)\n",
    "print('Others precision ',mean([i['Others']['precision'] for i in model.cv_reports])*100)\n",
    "print('Others recall ',mean([i['Others']['recall'] for i in model.cv_reports])*100)\n",
    "print(\"--------------------------\")\n",
    "print('Macro avg precision',\n",
    "      mean([i['macro avg']['precision'] for i in model.cv_reports])*100)\n",
    "print('Macro avg recall ',\n",
    "      mean([i['macro avg']['recall'] for i in model.cv_reports])*100)"
   ]
  },
  {
   "cell_type": "code",
   "execution_count": 13,
   "metadata": {},
   "outputs": [
    {
     "data": {
      "text/plain": [
       "['dn_cv_results.sav']"
      ]
     },
     "execution_count": 13,
     "metadata": {},
     "output_type": "execute_result"
    }
   ],
   "source": [
    "# save object using joblib\n",
    "joblib.dump(model, 'dn_cv_results.sav')"
   ]
  },
  {
   "cell_type": "code",
   "execution_count": 4,
   "metadata": {},
   "outputs": [],
   "source": [
    "# The final model\n",
    "loaded_model = joblib.load('/Users/mokur/OneDrive - University of Cambridge/Attachments/Jan2023/Tau_pipeline/Tuning_parameters/Final/results/dn_cv_results.sav')\n",
    "cf_t = sum(loaded_model.cv_confusion_matricesT)\n",
    "final_cm_t =  cf_t.astype('float') / cf_t.sum(axis=1)[:, np.newaxis]*100"
   ]
  },
  {
   "cell_type": "code",
   "execution_count": 5,
   "metadata": {},
   "outputs": [
    {
     "name": "stdout",
     "output_type": "stream",
     "text": [
      "total: 2186\n",
      "{'Ambiguous', 'CB', 'NFT', 'Others'}\n",
      "Ambiguous:  23\n",
      "proportion Ambiguous:  0.010521500457456541\n"
     ]
    }
   ],
   "source": [
    "# find out proportion of ambiguous cells \n",
    "predicted = (sum(loaded_model.cv_y_predictsT, []))\n",
    "print('total:',len(predicted))\n",
    "print(set(predicted))\n",
    "amb_n = sum(1 for i in predicted if i =='Ambiguous')\n",
    "print('Ambiguous: ',amb_n)\n",
    "print('proportion Ambiguous: ', amb_n/len(predicted) )"
   ]
  },
  {
   "cell_type": "code",
   "execution_count": 15,
   "metadata": {},
   "outputs": [
    {
     "data": {
      "text/plain": [
       "array([[90.07092199,  2.83687943,  7.09219858],\n",
       "       [ 2.22222222, 96.88888889,  0.88888889],\n",
       "       [ 0.50083472,  0.16694491, 99.33222037]])"
      ]
     },
     "execution_count": 15,
     "metadata": {},
     "output_type": "execute_result"
    }
   ],
   "source": [
    "final_cm_t"
   ]
  },
  {
   "cell_type": "code",
   "execution_count": 17,
   "metadata": {},
   "outputs": [
    {
     "data": {
      "image/png": "[encoded data removed]",
      "text/plain": [
       "<Figure size 640x480 with 2 Axes>"
      ]
     },
     "metadata": {},
     "output_type": "display_data"
    }
   ],
   "source": [
    "plot = ConfusionMatrixDisplay(final_cm_t,\n",
    "                              display_labels=['CB','NFT','TF'])\n",
    "plot.plot(cmap='cividis', values_format='.2f')         \n",
    "plt.show()"
   ]
  },
  {
   "cell_type": "code",
   "execution_count": 29,
   "metadata": {},
   "outputs": [
    {
     "name": "stdout",
     "output_type": "stream",
     "text": [
      "Macro avg F1  95.34125434461464\n",
      "Macro avg F1 std  2.34880939204109\n",
      "--------------------------\n",
      "Macro avg precision 95.5265528164053\n",
      "Macro avg precision std 2.7969517394227177\n",
      "--------------------------\n",
      "Macro avg recall  95.34223965514876\n",
      "Macro avg recall std 2.5749438225075414\n"
     ]
    }
   ],
   "source": [
    "model = loaded_model\n",
    "# Confusion matrix across 10 folds, WITH thresholding \n",
    "print('Macro avg F1 ', \n",
    "      mean([i['macro avg']['f1-score'] for i in model.cv_reportsT])*100)\n",
    "print('Macro avg F1 std ', \n",
    "      np.std([i['macro avg']['f1-score'] for i in model.cv_reportsT])*100)\n",
    "\n",
    "print(\"--------------------------\")\n",
    "print('Macro avg precision',\n",
    "      mean([i['macro avg']['precision'] for i in model.cv_reportsT])*100)\n",
    "print('Macro avg precision std',\n",
    "      np.std([i['macro avg']['precision'] for i in model.cv_reportsT])*100)\n",
    "print(\"--------------------------\")\n",
    "print('Macro avg recall ',\n",
    "      mean([i['macro avg']['recall'] for i in model.cv_reportsT])*100)\n",
    "print('Macro avg recall std',\n",
    "      np.std([i['macro avg']['recall'] for i in model.cv_reportsT])*100)"
   ]
  },
  {
   "cell_type": "code",
   "execution_count": 30,
   "metadata": {},
   "outputs": [
    {
     "name": "stdout",
     "output_type": "stream",
     "text": [
      "Macro avg F1  94.10945973618848\n",
      "Macro avg F1 std  2.887306352363017\n",
      "--------------------------\n",
      "Macro avg precision 95.53326807033152\n",
      "Macro avg precision std 1.9637282763148058\n",
      "--------------------------\n",
      "Macro avg recall  93.03483287515236\n",
      "Macro avg recall std 4.05865234105943\n"
     ]
    }
   ],
   "source": [
    "model = loaded_model\n",
    "# Confusion matrix across 10 folds, WITH NO thresholding \n",
    "print('Macro avg F1 ', \n",
    "      mean([i['macro avg']['f1-score'] for i in model.cv_reports])*100)\n",
    "print('Macro avg F1 std ', \n",
    "      np.std([i['macro avg']['f1-score'] for i in model.cv_reports])*100)\n",
    "\n",
    "print(\"--------------------------\")\n",
    "print('Macro avg precision',\n",
    "      mean([i['macro avg']['precision'] for i in model.cv_reports])*100)\n",
    "print('Macro avg precision std',\n",
    "      np.std([i['macro avg']['precision'] for i in model.cv_reports])*100)\n",
    "print(\"--------------------------\")\n",
    "print('Macro avg recall ',\n",
    "      mean([i['macro avg']['recall'] for i in model.cv_reports])*100)\n",
    "print('Macro avg recall std',\n",
    "      np.std([i['macro avg']['recall'] for i in model.cv_reports])*100)"
   ]
  },
  {
   "attachments": {},
   "cell_type": "markdown",
   "metadata": {},
   "source": [
    "Plotting feature importance"
   ]
  },
  {
   "cell_type": "code",
   "execution_count": 20,
   "metadata": {},
   "outputs": [],
   "source": [
    "import seaborn as sns"
   ]
  },
  {
   "cell_type": "code",
   "execution_count": 21,
   "metadata": {},
   "outputs": [],
   "source": [
    "model_rf = joblib.load('/Users/mokur/OneDrive - University of Cambridge/Attachments/Jan2023/Tau_pipeline/Tuning_parameters/Final/results/dn_random_search.sav')"
   ]
  },
  {
   "cell_type": "code",
   "execution_count": 22,
   "metadata": {},
   "outputs": [
    {
     "data": {
      "text/plain": [
       "{'selector__n_features_to_select': 34,\n",
       " 'clf__sampling_strategy': 'not majority',\n",
       " 'clf__random_state': 42,\n",
       " 'clf__n_estimators': 100,\n",
       " 'clf__min_samples_split': 2,\n",
       " 'clf__min_samples_leaf': 1,\n",
       " 'clf__max_samples': None,\n",
       " 'clf__max_features': 0.2,\n",
       " 'clf__max_depth': None,\n",
       " 'clf__class_weight': 'balanced'}"
      ]
     },
     "execution_count": 22,
     "metadata": {},
     "output_type": "execute_result"
    }
   ],
   "source": [
    "model_rf.best_params_"
   ]
  },
  {
   "cell_type": "code",
   "execution_count": 23,
   "metadata": {},
   "outputs": [],
   "source": [
    "#With feature selection\n",
    "rf_result = model_rf.best_estimator_.named_steps['selector'].get_support(indices=True)\n",
    "rf_result\n",
    "rf_result_f = [dn_data.c2_X_train.columns[i] for i in rf_result]\n",
    "# (rf_result_f)\n",
    "importance = model_rf.best_estimator_.named_steps['clf'].feature_importances_\n",
    "f_importance = pd.DataFrame(data={'features':rf_result_f,'importance':importance})\n",
    "f_importance = f_importance.sort_values(by=['importance'],ascending=False)"
   ]
  },
  {
   "cell_type": "code",
   "execution_count": 24,
   "metadata": {},
   "outputs": [],
   "source": [
    "f_importance_subset = f_importance[0:11]\n",
    "features = [i.replace('ROI: 0.25 µm per pixel: ','') for i in f_importance_subset['features']]\n",
    "f_importance_subset = f_importance_subset.copy()\n",
    "f_importance_subset.loc[:,'features'] = features\n",
    "f_importance_subset = f_importance_subset.rename(columns={'features':'Feature',\n",
    "                                    'importance':'Importance'})"
   ]
  },
  {
   "cell_type": "code",
   "execution_count": 25,
   "metadata": {},
   "outputs": [
    {
     "data": {
      "text/html": [
       "<div>\n",
       "<style scoped>\n",
       "    .dataframe tbody tr th:only-of-type {\n",
       "        vertical-align: middle;\n",
       "    }\n",
       "\n",
       "    .dataframe tbody tr th {\n",
       "        vertical-align: top;\n",
       "    }\n",
       "\n",
       "    .dataframe thead th {\n",
       "        text-align: right;\n",
       "    }\n",
       "</style>\n",
       "<table border=\"1\" class=\"dataframe\">\n",
       "  <thead>\n",
       "    <tr style=\"text-align: right;\">\n",
       "      <th></th>\n",
       "      <th>Feature</th>\n",
       "      <th>Importance</th>\n",
       "    </tr>\n",
       "  </thead>\n",
       "  <tbody>\n",
       "    <tr>\n",
       "      <th>0</th>\n",
       "      <td>Area µm^2</td>\n",
       "      <td>0.216869</td>\n",
       "    </tr>\n",
       "    <tr>\n",
       "      <th>4</th>\n",
       "      <td>Min diameter µm</td>\n",
       "      <td>0.207962</td>\n",
       "    </tr>\n",
       "    <tr>\n",
       "      <th>3</th>\n",
       "      <td>Max diameter µm</td>\n",
       "      <td>0.058139</td>\n",
       "    </tr>\n",
       "    <tr>\n",
       "      <th>2</th>\n",
       "      <td>Length µm</td>\n",
       "      <td>0.056409</td>\n",
       "    </tr>\n",
       "    <tr>\n",
       "      <th>19</th>\n",
       "      <td>DAB: Haralick Sum entropy (F7)</td>\n",
       "      <td>0.040231</td>\n",
       "    </tr>\n",
       "    <tr>\n",
       "      <th>7</th>\n",
       "      <td>Blue: Min</td>\n",
       "      <td>0.037857</td>\n",
       "    </tr>\n",
       "    <tr>\n",
       "      <th>17</th>\n",
       "      <td>DAB: Haralick Inverse difference moment (F4)</td>\n",
       "      <td>0.025756</td>\n",
       "    </tr>\n",
       "    <tr>\n",
       "      <th>20</th>\n",
       "      <td>DAB: Max</td>\n",
       "      <td>0.024155</td>\n",
       "    </tr>\n",
       "    <tr>\n",
       "      <th>5</th>\n",
       "      <td>Blue: Mean</td>\n",
       "      <td>0.022950</td>\n",
       "    </tr>\n",
       "    <tr>\n",
       "      <th>33</th>\n",
       "      <td>Solidity</td>\n",
       "      <td>0.022746</td>\n",
       "    </tr>\n",
       "    <tr>\n",
       "      <th>16</th>\n",
       "      <td>DAB: Haralick Entropy (F8)</td>\n",
       "      <td>0.020444</td>\n",
       "    </tr>\n",
       "  </tbody>\n",
       "</table>\n",
       "</div>"
      ],
      "text/plain": [
       "                                         Feature  Importance\n",
       "0                                      Area µm^2    0.216869\n",
       "4                                Min diameter µm    0.207962\n",
       "3                                Max diameter µm    0.058139\n",
       "2                                      Length µm    0.056409\n",
       "19                DAB: Haralick Sum entropy (F7)    0.040231\n",
       "7                                      Blue: Min    0.037857\n",
       "17  DAB: Haralick Inverse difference moment (F4)    0.025756\n",
       "20                                      DAB: Max    0.024155\n",
       "5                                     Blue: Mean    0.022950\n",
       "33                                      Solidity    0.022746\n",
       "16                    DAB: Haralick Entropy (F8)    0.020444"
      ]
     },
     "execution_count": 25,
     "metadata": {},
     "output_type": "execute_result"
    }
   ],
   "source": [
    "f_importance_subset"
   ]
  },
  {
   "cell_type": "code",
   "execution_count": 26,
   "metadata": {},
   "outputs": [
    {
     "data": {
      "text/plain": [
       "<Axes: xlabel='Importance', ylabel='Feature'>"
      ]
     },
     "execution_count": 26,
     "metadata": {},
     "output_type": "execute_result"
    },
    {
     "data": {
      "image/png": "[encoded data removed]",
      "text/plain": [
       "<Figure size 640x480 with 1 Axes>"
      ]
     },
     "metadata": {},
     "output_type": "display_data"
    }
   ],
   "source": [
    "sns.barplot(data=f_importance_subset,\n",
    "            y=\"Feature\",\n",
    "            x=\"Importance\",\n",
    "            color='midnightblue')"
   ]
  },
  {
   "cell_type": "code",
   "execution_count": 27,
   "metadata": {},
   "outputs": [],
   "source": [
    "keys = ['split0_test_PR_AUC',\n",
    "        'split1_test_PR_AUC',\n",
    "        'split2_test_PR_AUC',\n",
    "        'split3_test_PR_AUC',\n",
    "        'split4_test_PR_AUC',\n",
    "        'split5_test_PR_AUC',\n",
    "        'split6_test_PR_AUC',\n",
    "        'split7_test_PR_AUC',\n",
    "        'split8_test_PR_AUC',\n",
    "        'split9_test_PR_AUC']\n",
    "pr_val = []\n",
    "for i in keys:\n",
    "    pr_val.append(model_rf.cv_results_[i][model_rf.best_index_])"
   ]
  },
  {
   "cell_type": "code",
   "execution_count": 28,
   "metadata": {},
   "outputs": [
    {
     "name": "stdout",
     "output_type": "stream",
     "text": [
      "97.96589612447606\n",
      "mean pr: 97.96589612447606\n",
      "std pr: 1.6311468228215578\n"
     ]
    }
   ],
   "source": [
    "print(model_rf.cv_results_['mean_test_PR_AUC'][model_rf.best_index_]*100)\n",
    "print('mean pr:', mean(pr_val)*100)\n",
    "print('std pr:', np.std(pr_val)*100)"
   ]
  }
 ],
 "metadata": {
  "kernelspec": {
   "display_name": "Python 3.9.13 ('base')",
   "language": "python",
   "name": "python3"
  },
  "language_info": {
   "codemirror_mode": {
    "name": "ipython",
    "version": 3
   },
   "file_extension": ".py",
   "mimetype": "text/x-python",
   "name": "python",
   "nbconvert_exporter": "python",
   "pygments_lexer": "ipython3",
   "version": "3.8.16"
  },
  "orig_nbformat": 4,
  "vscode": {
   "interpreter": {
    "hash": "f49f039f1826f29992caaab1300810c8c9e5d31d3955aed133543fc6668591e2"
   }
  }
 },
 "nbformat": 4,
 "nbformat_minor": 2
}
