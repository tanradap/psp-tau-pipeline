{
 "cells": [
  {
   "cell_type": "code",
   "execution_count": 1,
   "metadata": {},
   "outputs": [],
   "source": [
    "# Importing libraries\n",
    "import sys\n",
    "sys.path.insert(0,\n",
    "                '/Users/mokur/OneDrive - University of Cambridge/Attachments/Jan2023/Tau_pipeline/Tau_classification/')\n",
    "\n",
    "from base import *\n",
    "from constants import *\n",
    "sys.path.insert(0,\n",
    "                '/Users/mokur/OneDrive - University of Cambridge/Attachments/Jan2023/Tau_pipeline/Tuning_parameters/')\n",
    "\n",
    "from tuning import * \n",
    "from extra_metrics_training import *\n",
    "from tuning_constants import * "
   ]
  },
  {
   "cell_type": "code",
   "execution_count": 2,
   "metadata": {},
   "outputs": [],
   "source": [
    "import joblib"
   ]
  },
  {
   "cell_type": "code",
   "execution_count": 3,
   "metadata": {},
   "outputs": [],
   "source": [
    "import pandas as pd\n",
    "import numpy as np \n",
    "import random \n",
    "\n",
    "from sklearn import preprocessing \n",
    "\n",
    "from sklearn.pipeline import Pipeline\n",
    "from sklearn.preprocessing import MinMaxScaler\n",
    "from sklearn.ensemble import RandomForestClassifier\n",
    "from imblearn.ensemble import BalancedRandomForestClassifier\n",
    "from sklearn.model_selection import RandomizedSearchCV\n",
    "from sklearn.metrics import ConfusionMatrixDisplay\n",
    "import matplotlib.pyplot as plt\n",
    "import scipy.stats as st \n"
   ]
  },
  {
   "cell_type": "code",
   "execution_count": 4,
   "metadata": {},
   "outputs": [
    {
     "name": "stdout",
     "output_type": "stream",
     "text": [
      "Others    12988\n",
      "CB          601\n",
      "NFT          97\n",
      "Name: Class, dtype: int64\n",
      "(13686, 54)\n"
     ]
    }
   ],
   "source": [
    "path = \"C:/Users/mokur/OneDrive - University of Cambridge/Attachments/Jan2023/Tau_pipeline/Tau_classification/Untrained/Training_data/STN&GP/\"\n",
    "filename = \"training.txt\"\n",
    "\n",
    "# Create tau database object \n",
    "stn_gp_data = TauDataBase(path = path,\n",
    "                      filename = filename) \n",
    "\n",
    "# Prepping data to train tau classifier for dentate nucleus\n",
    "stn_gp_data.classifier2_prep()\n",
    "\n",
    "# Check data\n",
    "print(stn_gp_data.c2_data['Class'].value_counts())\n",
    "print(stn_gp_data.c2_X_train.shape)"
   ]
  },
  {
   "cell_type": "code",
   "execution_count": 5,
   "metadata": {},
   "outputs": [
    {
     "name": "stdout",
     "output_type": "stream",
     "text": [
      "sampling:  10 %\n",
      "Fitting 10 folds for each of 100 candidates, totalling 1000 fits\n",
      "sampling:  20 %\n",
      "Fitting 10 folds for each of 100 candidates, totalling 1000 fits\n",
      "sampling:  30 %\n",
      "Fitting 10 folds for each of 100 candidates, totalling 1000 fits\n",
      "sampling:  40 %\n",
      "Fitting 10 folds for each of 100 candidates, totalling 1000 fits\n",
      "sampling:  50 %\n",
      "Fitting 10 folds for each of 100 candidates, totalling 1000 fits\n",
      "sampling:  60 %\n",
      "Fitting 10 folds for each of 100 candidates, totalling 1000 fits\n",
      "sampling:  70 %\n",
      "Fitting 10 folds for each of 100 candidates, totalling 1000 fits\n",
      "sampling:  80 %\n",
      "Fitting 10 folds for each of 100 candidates, totalling 1000 fits\n",
      "sampling:  90 %\n",
      "Fitting 10 folds for each of 100 candidates, totalling 1000 fits\n",
      "sampling:  100 %\n",
      "Fitting 10 folds for each of 100 candidates, totalling 1000 fits\n"
     ]
    }
   ],
   "source": [
    "total_ = [] \n",
    "mean_total = []\n",
    "all_ = [] \n",
    "\n",
    "\n",
    "sampling = list(range(10,110,10)) # 10% each time \n",
    "for i in sampling: \n",
    "    \n",
    "    # Randomly picking out cells at 10% increment each time\n",
    "    to_sample_from = stn_gp_data.c2_data.copy() \n",
    "    dat_sampled= to_sample_from.groupby('Class',group_keys=False).apply(lambda x: x.sample(frac=(i/100),random_state=42))\n",
    "    print('sampling: ', i, '%')\n",
    "    X_train = dat_sampled.drop(columns=['Class','Image','Centroid_X','Centroid_Y'])\n",
    "    y_train = dat_sampled['Class']\n",
    "\n",
    "\n",
    "    # 3) Specify parameters for grid search \n",
    "    rf_random = RandomizedSearchCV(pipeline,\n",
    "                               param_distributions=random_grid, \n",
    "                               n_iter=100,\n",
    "                               cv=10,\n",
    "                               verbose=2,\n",
    "                               random_state=42,\n",
    "                               n_jobs=-1,\n",
    "                               refit='PR_AUC',\n",
    "                               scoring={\n",
    "                                'PR_AUC':precision_recall_auc_tau_noTA,\n",
    "                                'roc_auc_ovr_weighted':'roc_auc_ovr_weighted',\n",
    "                                'roc_auc_ovo':'roc_auc_ovo',\n",
    "                                'balanced_accuracy':'balanced_accuracy',\n",
    "                                'f1_weighted':'f1_weighted',\n",
    "                                'CB_accuracy': CB_acc_noTA,\n",
    "                                'NFT_accuracy':NFT_acc_noTA,\n",
    "                                'Others_accuracy':Others_acc_noTA\n",
    "                                        },\n",
    "                                  return_train_score=True)\n",
    "\n",
    "    # 4) Run grid search \n",
    "    rf_random.fit(X_train,\n",
    "                  y_train)\n",
    "\n",
    "    ## Appending data together \n",
    "    accuracies_10_fold = [] \n",
    "    for i in range(0,10): \n",
    "        x = rf_random.cv_results_['split'+str(i)+'_test_PR_AUC'][rf_random.best_index_]\n",
    "        accuracies_10_fold.append(x)\n",
    "\n",
    "    total_.append(accuracies_10_fold)\n",
    "    mean_total.append(mean(accuracies_10_fold))\n",
    "    all_.append(rf_random) "
   ]
  },
  {
   "cell_type": "code",
   "execution_count": 6,
   "metadata": {},
   "outputs": [
    {
     "data": {
      "text/plain": [
       "['stn_gp_all.sav']"
      ]
     },
     "execution_count": 6,
     "metadata": {},
     "output_type": "execute_result"
    }
   ],
   "source": [
    "### Saving outputs\n",
    "joblib.dump(total_,\"stn_gp_total.sav\")\n",
    "joblib.dump(mean_total,\"stn_gp_mean_total.sav\")\n",
    "joblib.dump(all_,\"stn_gp_all.sav\")"
   ]
  },
  {
   "cell_type": "markdown",
   "metadata": {},
   "source": [
    "**Loading**"
   ]
  },
  {
   "cell_type": "code",
   "execution_count": 6,
   "metadata": {},
   "outputs": [],
   "source": [
    "total_ = joblib.load('C:/Users/mokur/OneDrive - University of Cambridge/Attachments/Jan2023/Tau_pipeline/Sample_size_check/STN_GP/stn_gp_total.sav')\n",
    "mean_total = joblib.load('C:/Users/mokur/OneDrive - University of Cambridge/Attachments/Jan2023/Tau_pipeline/Sample_size_check/STN_GP/stn_gp_mean_total.sav')\n",
    "all_ = joblib.load('C:/Users/mokur/OneDrive - University of Cambridge/Attachments/Jan2023/Tau_pipeline/Sample_size_check/STN_GP/stn_gp_all.sav')"
   ]
  },
  {
   "cell_type": "code",
   "execution_count": 7,
   "metadata": {},
   "outputs": [],
   "source": [
    "sampling = list(range(10,110,10))"
   ]
  },
  {
   "cell_type": "code",
   "execution_count": 8,
   "metadata": {},
   "outputs": [],
   "source": [
    "data = stn_gp_data.c2_data"
   ]
  },
  {
   "cell_type": "markdown",
   "metadata": {},
   "source": [
    "### Inspecting outputs"
   ]
  },
  {
   "cell_type": "code",
   "execution_count": 9,
   "metadata": {},
   "outputs": [
    {
     "name": "stdout",
     "output_type": "stream",
     "text": [
      "[0.9559513477647459, 0.9677100635826827, 0.9727075375994169, 0.9735261312553382, 0.9703207155413509, 0.9741523471794904, 0.9746922364852015, 0.9717065174744832, 0.9725519439673478, 0.9757605765595176]\n"
     ]
    }
   ],
   "source": [
    "#Extract best params per sampling point (from 20% to 100%, 20% step)\n",
    "best_params = []\n",
    "best_scores = []\n",
    "for i in range(0,10):\n",
    "    best_params.append(all_[i].best_params_)\n",
    "    best_scores.append(all_[i].best_score_)\n",
    "print(best_scores)"
   ]
  },
  {
   "cell_type": "code",
   "execution_count": 10,
   "metadata": {},
   "outputs": [],
   "source": [
    "folder_path = \"C:/Users/mokur/OneDrive - University of Cambridge/Attachments/Jan2023/Tau_pipeline/Sample_size_check/STN_GP/\""
   ]
  },
  {
   "cell_type": "markdown",
   "metadata": {},
   "source": [
    "Fit times"
   ]
  },
  {
   "cell_type": "code",
   "execution_count": 11,
   "metadata": {},
   "outputs": [],
   "source": [
    "## get fit times (mean & sd)\n",
    "m_fit_times = []\n",
    "std_fit_times= [] \n",
    "for i in range(0,10):\n",
    "    m_fit_times.append(all_[i].cv_results_['mean_fit_time'])\n",
    "    std_fit_times.append(all_[i].cv_results_['std_fit_time'])"
   ]
  },
  {
   "cell_type": "code",
   "execution_count": 12,
   "metadata": {},
   "outputs": [],
   "source": [
    "## Calculate confidence interval: fit times \n",
    "\n",
    "mean_m_fit_times = [np.mean(i) for i in m_fit_times]\n",
    "\n",
    "fit_total_CI = [st.t.interval(confidence=0.95, df=len(i)-1,\n",
    "                                      loc=np.mean(i), scale=st.sem(i)) for i in m_fit_times]\n",
    "fit_lower_ci = [i[0] for i in fit_total_CI]\n",
    "fit_upper_ci = [i[1] for i in fit_total_CI]\n",
    "cells = [int(i/100*data.shape[0]) for i in sampling]\n",
    "fit_times_rbf = pd.DataFrame({'mean':mean_m_fit_times,\n",
    "                           'lower_ci':fit_lower_ci,\n",
    "                            'upper_ci':fit_upper_ci,\n",
    "                           'cells':cells})"
   ]
  },
  {
   "cell_type": "code",
   "execution_count": 13,
   "metadata": {},
   "outputs": [
    {
     "data": {
      "text/html": [
       "<div>\n",
       "<style scoped>\n",
       "    .dataframe tbody tr th:only-of-type {\n",
       "        vertical-align: middle;\n",
       "    }\n",
       "\n",
       "    .dataframe tbody tr th {\n",
       "        vertical-align: top;\n",
       "    }\n",
       "\n",
       "    .dataframe thead th {\n",
       "        text-align: right;\n",
       "    }\n",
       "</style>\n",
       "<table border=\"1\" class=\"dataframe\">\n",
       "  <thead>\n",
       "    <tr style=\"text-align: right;\">\n",
       "      <th></th>\n",
       "      <th>mean</th>\n",
       "      <th>lower_ci</th>\n",
       "      <th>upper_ci</th>\n",
       "      <th>cells</th>\n",
       "    </tr>\n",
       "  </thead>\n",
       "  <tbody>\n",
       "    <tr>\n",
       "      <th>0</th>\n",
       "      <td>9.673882</td>\n",
       "      <td>8.942343</td>\n",
       "      <td>10.405422</td>\n",
       "      <td>1368</td>\n",
       "    </tr>\n",
       "    <tr>\n",
       "      <th>1</th>\n",
       "      <td>15.411352</td>\n",
       "      <td>14.215953</td>\n",
       "      <td>16.606752</td>\n",
       "      <td>2737</td>\n",
       "    </tr>\n",
       "    <tr>\n",
       "      <th>2</th>\n",
       "      <td>21.508832</td>\n",
       "      <td>19.782272</td>\n",
       "      <td>23.235392</td>\n",
       "      <td>4105</td>\n",
       "    </tr>\n",
       "    <tr>\n",
       "      <th>3</th>\n",
       "      <td>28.578607</td>\n",
       "      <td>26.261616</td>\n",
       "      <td>30.895598</td>\n",
       "      <td>5474</td>\n",
       "    </tr>\n",
       "    <tr>\n",
       "      <th>4</th>\n",
       "      <td>35.861130</td>\n",
       "      <td>32.940461</td>\n",
       "      <td>38.781800</td>\n",
       "      <td>6843</td>\n",
       "    </tr>\n",
       "    <tr>\n",
       "      <th>5</th>\n",
       "      <td>43.339854</td>\n",
       "      <td>39.768749</td>\n",
       "      <td>46.910960</td>\n",
       "      <td>8211</td>\n",
       "    </tr>\n",
       "    <tr>\n",
       "      <th>6</th>\n",
       "      <td>51.495848</td>\n",
       "      <td>47.258443</td>\n",
       "      <td>55.733252</td>\n",
       "      <td>9580</td>\n",
       "    </tr>\n",
       "    <tr>\n",
       "      <th>7</th>\n",
       "      <td>59.221515</td>\n",
       "      <td>54.371713</td>\n",
       "      <td>64.071318</td>\n",
       "      <td>10948</td>\n",
       "    </tr>\n",
       "    <tr>\n",
       "      <th>8</th>\n",
       "      <td>68.487561</td>\n",
       "      <td>62.815908</td>\n",
       "      <td>74.159215</td>\n",
       "      <td>12317</td>\n",
       "    </tr>\n",
       "    <tr>\n",
       "      <th>9</th>\n",
       "      <td>77.145680</td>\n",
       "      <td>70.684441</td>\n",
       "      <td>83.606919</td>\n",
       "      <td>13686</td>\n",
       "    </tr>\n",
       "  </tbody>\n",
       "</table>\n",
       "</div>"
      ],
      "text/plain": [
       "        mean   lower_ci   upper_ci  cells\n",
       "0   9.673882   8.942343  10.405422   1368\n",
       "1  15.411352  14.215953  16.606752   2737\n",
       "2  21.508832  19.782272  23.235392   4105\n",
       "3  28.578607  26.261616  30.895598   5474\n",
       "4  35.861130  32.940461  38.781800   6843\n",
       "5  43.339854  39.768749  46.910960   8211\n",
       "6  51.495848  47.258443  55.733252   9580\n",
       "7  59.221515  54.371713  64.071318  10948\n",
       "8  68.487561  62.815908  74.159215  12317\n",
       "9  77.145680  70.684441  83.606919  13686"
      ]
     },
     "execution_count": 13,
     "metadata": {},
     "output_type": "execute_result"
    }
   ],
   "source": [
    "fit_times_rbf"
   ]
  },
  {
   "cell_type": "code",
   "execution_count": 14,
   "metadata": {},
   "outputs": [
    {
     "data": {
      "image/png": "[encoded data removed]",
      "text/plain": [
       "<Figure size 640x480 with 1 Axes>"
      ]
     },
     "metadata": {},
     "output_type": "display_data"
    }
   ],
   "source": [
    "fig, ax=plt.subplots()\n",
    "\n",
    "ax.plot(fit_times_rbf['cells'],fit_times_rbf['mean'],marker='o',markerfacecolor='purple',linestyle='dashed',color='red')\n",
    "ax.fill_between(fit_times_rbf['cells'],fit_times_rbf['lower_ci'],fit_times_rbf['upper_ci'],color='red',alpha=.1)\n",
    "\n",
    "\n",
    "plt.xlabel('Number of training examples')\n",
    "plt.ylabel('Mean fit times')\n",
    "plt.title('Scalability of the model')\n",
    "\n",
    "path = folder_path+\"fittimes_curve.jpg\"\n",
    "plt.savefig(path)"
   ]
  },
  {
   "cell_type": "markdown",
   "metadata": {},
   "source": [
    "Balanced accuracy"
   ]
  },
  {
   "cell_type": "code",
   "execution_count": 15,
   "metadata": {},
   "outputs": [],
   "source": [
    "samp_test_acc = [] \n",
    "samp_train_acc = []\n",
    "for i in range(0,10):  \n",
    "    test_acc=[]\n",
    "    train_acc=[]\n",
    "    for r in range(0,10):\n",
    "        test_acc.append(all_[i].cv_results_['split'+str(r)+'_test_balanced_accuracy'][all_[i].best_index_])\n",
    "        train_acc.append(all_[i].cv_results_['split'+str(r)+'_train_balanced_accuracy'][all_[i].best_index_])\n",
    "    samp_test_acc.append(test_acc)\n",
    "    samp_train_acc.append(train_acc)\n",
    "    "
   ]
  },
  {
   "cell_type": "code",
   "execution_count": 16,
   "metadata": {},
   "outputs": [],
   "source": [
    "# Rbf-SVM: Validation - calculate confidence interval (training balanced accuracy)\n",
    "\n",
    "v_scaled_mean = [np.mean(i) for i in samp_train_acc]\n",
    "\n",
    "v_total_CI = [st.t.interval(confidence=0.95,\n",
    "                            df=len(i)-1,\n",
    "                            loc=np.mean(i),\n",
    "                            scale=st.sem(i)) for i in samp_train_acc]\n",
    "v_lower_ci = [i[0] for i in v_total_CI]\n",
    "v_upper_ci = [i[1] for i in v_total_CI]\n",
    "cells = [int(i/100*data.shape[0]) for i in sampling]\n",
    "train_rbf = pd.DataFrame({'mean':v_scaled_mean,\n",
    "                           'lower_ci':v_lower_ci,\n",
    "                            'upper_ci':v_upper_ci,\n",
    "                           'cells':cells})"
   ]
  },
  {
   "cell_type": "code",
   "execution_count": 17,
   "metadata": {},
   "outputs": [
    {
     "data": {
      "text/html": [
       "<div>\n",
       "<style scoped>\n",
       "    .dataframe tbody tr th:only-of-type {\n",
       "        vertical-align: middle;\n",
       "    }\n",
       "\n",
       "    .dataframe tbody tr th {\n",
       "        vertical-align: top;\n",
       "    }\n",
       "\n",
       "    .dataframe thead th {\n",
       "        text-align: right;\n",
       "    }\n",
       "</style>\n",
       "<table border=\"1\" class=\"dataframe\">\n",
       "  <thead>\n",
       "    <tr style=\"text-align: right;\">\n",
       "      <th></th>\n",
       "      <th>mean</th>\n",
       "      <th>lower_ci</th>\n",
       "      <th>upper_ci</th>\n",
       "      <th>cells</th>\n",
       "    </tr>\n",
       "  </thead>\n",
       "  <tbody>\n",
       "    <tr>\n",
       "      <th>0</th>\n",
       "      <td>0.851795</td>\n",
       "      <td>0.845166</td>\n",
       "      <td>0.858423</td>\n",
       "      <td>1368</td>\n",
       "    </tr>\n",
       "    <tr>\n",
       "      <th>1</th>\n",
       "      <td>0.859283</td>\n",
       "      <td>0.854164</td>\n",
       "      <td>0.864401</td>\n",
       "      <td>2737</td>\n",
       "    </tr>\n",
       "    <tr>\n",
       "      <th>2</th>\n",
       "      <td>0.817695</td>\n",
       "      <td>0.812587</td>\n",
       "      <td>0.822804</td>\n",
       "      <td>4105</td>\n",
       "    </tr>\n",
       "    <tr>\n",
       "      <th>3</th>\n",
       "      <td>0.826389</td>\n",
       "      <td>0.821785</td>\n",
       "      <td>0.830992</td>\n",
       "      <td>5474</td>\n",
       "    </tr>\n",
       "    <tr>\n",
       "      <th>4</th>\n",
       "      <td>0.852059</td>\n",
       "      <td>0.847161</td>\n",
       "      <td>0.856957</td>\n",
       "      <td>6843</td>\n",
       "    </tr>\n",
       "    <tr>\n",
       "      <th>5</th>\n",
       "      <td>0.855112</td>\n",
       "      <td>0.852298</td>\n",
       "      <td>0.857926</td>\n",
       "      <td>8211</td>\n",
       "    </tr>\n",
       "    <tr>\n",
       "      <th>6</th>\n",
       "      <td>0.894931</td>\n",
       "      <td>0.892212</td>\n",
       "      <td>0.897650</td>\n",
       "      <td>9580</td>\n",
       "    </tr>\n",
       "    <tr>\n",
       "      <th>7</th>\n",
       "      <td>0.877148</td>\n",
       "      <td>0.874021</td>\n",
       "      <td>0.880276</td>\n",
       "      <td>10948</td>\n",
       "    </tr>\n",
       "    <tr>\n",
       "      <th>8</th>\n",
       "      <td>0.881124</td>\n",
       "      <td>0.876989</td>\n",
       "      <td>0.885260</td>\n",
       "      <td>12317</td>\n",
       "    </tr>\n",
       "    <tr>\n",
       "      <th>9</th>\n",
       "      <td>0.906891</td>\n",
       "      <td>0.904403</td>\n",
       "      <td>0.909380</td>\n",
       "      <td>13686</td>\n",
       "    </tr>\n",
       "  </tbody>\n",
       "</table>\n",
       "</div>"
      ],
      "text/plain": [
       "       mean  lower_ci  upper_ci  cells\n",
       "0  0.851795  0.845166  0.858423   1368\n",
       "1  0.859283  0.854164  0.864401   2737\n",
       "2  0.817695  0.812587  0.822804   4105\n",
       "3  0.826389  0.821785  0.830992   5474\n",
       "4  0.852059  0.847161  0.856957   6843\n",
       "5  0.855112  0.852298  0.857926   8211\n",
       "6  0.894931  0.892212  0.897650   9580\n",
       "7  0.877148  0.874021  0.880276  10948\n",
       "8  0.881124  0.876989  0.885260  12317\n",
       "9  0.906891  0.904403  0.909380  13686"
      ]
     },
     "execution_count": 17,
     "metadata": {},
     "output_type": "execute_result"
    }
   ],
   "source": [
    "train_rbf"
   ]
  },
  {
   "cell_type": "code",
   "execution_count": 18,
   "metadata": {},
   "outputs": [],
   "source": [
    "# Rbf-SVM: Validation - calculate confidence interval \n",
    "\n",
    "v_scaled_mean = [np.mean(i) for i in samp_test_acc]\n",
    "\n",
    "v_total_CI = [st.t.interval(confidence=0.95,\n",
    "                            df=len(i)-1,\n",
    "                            loc=np.mean(i),\n",
    "                            scale=st.sem(i)) for i in samp_test_acc]\n",
    "v_lower_ci = [i[0] for i in v_total_CI]\n",
    "v_upper_ci = [i[1] for i in v_total_CI]\n",
    "cells = [int(i/100*data.shape[0]) for i in sampling]\n",
    "validation_rbf = pd.DataFrame({'mean':v_scaled_mean,\n",
    "                           'lower_ci':v_lower_ci,\n",
    "                            'upper_ci':v_upper_ci,\n",
    "                           'cells':cells})"
   ]
  },
  {
   "cell_type": "code",
   "execution_count": 19,
   "metadata": {},
   "outputs": [
    {
     "data": {
      "text/html": [
       "<div>\n",
       "<style scoped>\n",
       "    .dataframe tbody tr th:only-of-type {\n",
       "        vertical-align: middle;\n",
       "    }\n",
       "\n",
       "    .dataframe tbody tr th {\n",
       "        vertical-align: top;\n",
       "    }\n",
       "\n",
       "    .dataframe thead th {\n",
       "        text-align: right;\n",
       "    }\n",
       "</style>\n",
       "<table border=\"1\" class=\"dataframe\">\n",
       "  <thead>\n",
       "    <tr style=\"text-align: right;\">\n",
       "      <th></th>\n",
       "      <th>mean</th>\n",
       "      <th>lower_ci</th>\n",
       "      <th>upper_ci</th>\n",
       "      <th>cells</th>\n",
       "    </tr>\n",
       "  </thead>\n",
       "  <tbody>\n",
       "    <tr>\n",
       "      <th>0</th>\n",
       "      <td>0.793675</td>\n",
       "      <td>0.711417</td>\n",
       "      <td>0.875933</td>\n",
       "      <td>1368</td>\n",
       "    </tr>\n",
       "    <tr>\n",
       "      <th>1</th>\n",
       "      <td>0.813120</td>\n",
       "      <td>0.759712</td>\n",
       "      <td>0.866527</td>\n",
       "      <td>2737</td>\n",
       "    </tr>\n",
       "    <tr>\n",
       "      <th>2</th>\n",
       "      <td>0.770285</td>\n",
       "      <td>0.725213</td>\n",
       "      <td>0.815356</td>\n",
       "      <td>4105</td>\n",
       "    </tr>\n",
       "    <tr>\n",
       "      <th>3</th>\n",
       "      <td>0.791474</td>\n",
       "      <td>0.759612</td>\n",
       "      <td>0.823336</td>\n",
       "      <td>5474</td>\n",
       "    </tr>\n",
       "    <tr>\n",
       "      <th>4</th>\n",
       "      <td>0.813632</td>\n",
       "      <td>0.779094</td>\n",
       "      <td>0.848170</td>\n",
       "      <td>6843</td>\n",
       "    </tr>\n",
       "    <tr>\n",
       "      <th>5</th>\n",
       "      <td>0.820304</td>\n",
       "      <td>0.795947</td>\n",
       "      <td>0.844661</td>\n",
       "      <td>8211</td>\n",
       "    </tr>\n",
       "    <tr>\n",
       "      <th>6</th>\n",
       "      <td>0.864104</td>\n",
       "      <td>0.837683</td>\n",
       "      <td>0.890524</td>\n",
       "      <td>9580</td>\n",
       "    </tr>\n",
       "    <tr>\n",
       "      <th>7</th>\n",
       "      <td>0.843256</td>\n",
       "      <td>0.821754</td>\n",
       "      <td>0.864759</td>\n",
       "      <td>10948</td>\n",
       "    </tr>\n",
       "    <tr>\n",
       "      <th>8</th>\n",
       "      <td>0.851711</td>\n",
       "      <td>0.828225</td>\n",
       "      <td>0.875198</td>\n",
       "      <td>12317</td>\n",
       "    </tr>\n",
       "    <tr>\n",
       "      <th>9</th>\n",
       "      <td>0.882766</td>\n",
       "      <td>0.865952</td>\n",
       "      <td>0.899580</td>\n",
       "      <td>13686</td>\n",
       "    </tr>\n",
       "  </tbody>\n",
       "</table>\n",
       "</div>"
      ],
      "text/plain": [
       "       mean  lower_ci  upper_ci  cells\n",
       "0  0.793675  0.711417  0.875933   1368\n",
       "1  0.813120  0.759712  0.866527   2737\n",
       "2  0.770285  0.725213  0.815356   4105\n",
       "3  0.791474  0.759612  0.823336   5474\n",
       "4  0.813632  0.779094  0.848170   6843\n",
       "5  0.820304  0.795947  0.844661   8211\n",
       "6  0.864104  0.837683  0.890524   9580\n",
       "7  0.843256  0.821754  0.864759  10948\n",
       "8  0.851711  0.828225  0.875198  12317\n",
       "9  0.882766  0.865952  0.899580  13686"
      ]
     },
     "execution_count": 19,
     "metadata": {},
     "output_type": "execute_result"
    }
   ],
   "source": [
    "validation_rbf"
   ]
  },
  {
   "cell_type": "code",
   "execution_count": 20,
   "metadata": {},
   "outputs": [
    {
     "data": {
      "image/png": "[encoded data removed]",
      "text/plain": [
       "<Figure size 640x480 with 1 Axes>"
      ]
     },
     "metadata": {},
     "output_type": "display_data"
    }
   ],
   "source": [
    "fig, ax=plt.subplots()\n",
    "ax.plot(validation_rbf['cells'],validation_rbf['mean'],marker='o',markerfacecolor='blue',linestyle='dashed',color='green')\n",
    "ax.fill_between(validation_rbf['cells'],validation_rbf['lower_ci'],validation_rbf['upper_ci'],color='b',alpha=.1)\n",
    "\n",
    "plt.xlabel('Number of training examples')\n",
    "plt.ylabel('Balanced accuracy')\n",
    "plt.title('Validation curve')\n",
    "plt.ylim([0,1])\n",
    "\n",
    "path = folder_path+\"validation_curve_BA.jpg\"\n",
    "plt.savefig(path)"
   ]
  },
  {
   "cell_type": "code",
   "execution_count": 21,
   "metadata": {},
   "outputs": [
    {
     "data": {
      "image/png": "[encoded data removed]",
      "text/plain": [
       "<Figure size 640x480 with 1 Axes>"
      ]
     },
     "metadata": {},
     "output_type": "display_data"
    }
   ],
   "source": [
    "fig, ax=plt.subplots()\n",
    "\n",
    "ax.plot(train_rbf['cells'],train_rbf['mean'],marker='o',markerfacecolor='purple',linestyle='dashed',color='red')\n",
    "ax.fill_between(train_rbf['cells'],train_rbf['lower_ci'],train_rbf['upper_ci'],color='red',alpha=.1)\n",
    "\n",
    "ax.plot(validation_rbf['cells'],validation_rbf['mean'],marker='o',markerfacecolor='blue',linestyle='dashed',color='green')\n",
    "ax.fill_between(validation_rbf['cells'],validation_rbf['lower_ci'],validation_rbf['upper_ci'],color='b',alpha=.1)\n",
    "\n",
    "plt.xlabel('Number of training examples')\n",
    "plt.ylabel('Balanced accuracy')\n",
    "plt.title('Learning curves')\n",
    "plt.legend([\"Training score\",\"95% CI\",\"Validation score\",\"95% CI\"],bbox_to_anchor=(1.5,0.4))\n",
    "plt.ylim([0,1])\n",
    "\n",
    "path = folder_path + \"learning_curves_BA.jpg\"\n",
    "plt.savefig(path)"
   ]
  },
  {
   "cell_type": "markdown",
   "metadata": {},
   "source": [
    "PR AUC"
   ]
  },
  {
   "cell_type": "code",
   "execution_count": 22,
   "metadata": {},
   "outputs": [],
   "source": [
    "## Get train accuracies \n",
    "total_train =[] \n",
    "for s in range(0,10): # looping through sampling points \n",
    "    samp = all_[s]\n",
    "    train_accuracies = [] \n",
    "    for i in range(0,10): # looping through 10 folds\n",
    "        t = samp.cv_results_['split'+str(i)+'_train_PR_AUC'][samp.best_index_]\n",
    "        train_accuracies.append(t)\n",
    "    total_train.append(train_accuracies)\n",
    "        "
   ]
  },
  {
   "cell_type": "code",
   "execution_count": 23,
   "metadata": {},
   "outputs": [],
   "source": [
    "## Training - calculate confidence interval \n",
    "t_scaled_mean = [np.mean(i) for i in total_train]\n",
    "\n",
    "t_total_CI = [st.t.interval(confidence=0.95, df=len(i)-1, loc=np.mean(i), scale=st.sem(i)) for i in total_train]\n",
    "\n",
    "t_lower_ci = [i[0] for i in t_total_CI]\n",
    "t_upper_ci = [i[1] for i in t_total_CI]\n",
    "cells = [int(i/100*data.shape[0]) for i in sampling]\n",
    "train_rbf_PR = pd.DataFrame({'mean':t_scaled_mean,\n",
    "                           'lower_ci':t_lower_ci,\n",
    "                            'upper_ci':t_upper_ci,\n",
    "                           'cells':cells})"
   ]
  },
  {
   "cell_type": "code",
   "execution_count": 24,
   "metadata": {},
   "outputs": [
    {
     "data": {
      "text/html": [
       "<div>\n",
       "<style scoped>\n",
       "    .dataframe tbody tr th:only-of-type {\n",
       "        vertical-align: middle;\n",
       "    }\n",
       "\n",
       "    .dataframe tbody tr th {\n",
       "        vertical-align: top;\n",
       "    }\n",
       "\n",
       "    .dataframe thead th {\n",
       "        text-align: right;\n",
       "    }\n",
       "</style>\n",
       "<table border=\"1\" class=\"dataframe\">\n",
       "  <thead>\n",
       "    <tr style=\"text-align: right;\">\n",
       "      <th></th>\n",
       "      <th>mean</th>\n",
       "      <th>lower_ci</th>\n",
       "      <th>upper_ci</th>\n",
       "      <th>cells</th>\n",
       "    </tr>\n",
       "  </thead>\n",
       "  <tbody>\n",
       "    <tr>\n",
       "      <th>0</th>\n",
       "      <td>0.995266</td>\n",
       "      <td>0.994622</td>\n",
       "      <td>0.995910</td>\n",
       "      <td>1368</td>\n",
       "    </tr>\n",
       "    <tr>\n",
       "      <th>1</th>\n",
       "      <td>0.992992</td>\n",
       "      <td>0.992343</td>\n",
       "      <td>0.993640</td>\n",
       "      <td>2737</td>\n",
       "    </tr>\n",
       "    <tr>\n",
       "      <th>2</th>\n",
       "      <td>0.999016</td>\n",
       "      <td>0.998877</td>\n",
       "      <td>0.999155</td>\n",
       "      <td>4105</td>\n",
       "    </tr>\n",
       "    <tr>\n",
       "      <th>3</th>\n",
       "      <td>0.997219</td>\n",
       "      <td>0.996992</td>\n",
       "      <td>0.997445</td>\n",
       "      <td>5474</td>\n",
       "    </tr>\n",
       "    <tr>\n",
       "      <th>4</th>\n",
       "      <td>0.993866</td>\n",
       "      <td>0.993574</td>\n",
       "      <td>0.994158</td>\n",
       "      <td>6843</td>\n",
       "    </tr>\n",
       "    <tr>\n",
       "      <th>5</th>\n",
       "      <td>0.994658</td>\n",
       "      <td>0.994378</td>\n",
       "      <td>0.994938</td>\n",
       "      <td>8211</td>\n",
       "    </tr>\n",
       "    <tr>\n",
       "      <th>6</th>\n",
       "      <td>0.991523</td>\n",
       "      <td>0.991157</td>\n",
       "      <td>0.991888</td>\n",
       "      <td>9580</td>\n",
       "    </tr>\n",
       "    <tr>\n",
       "      <th>7</th>\n",
       "      <td>0.993966</td>\n",
       "      <td>0.993546</td>\n",
       "      <td>0.994387</td>\n",
       "      <td>10948</td>\n",
       "    </tr>\n",
       "    <tr>\n",
       "      <th>8</th>\n",
       "      <td>0.994301</td>\n",
       "      <td>0.993967</td>\n",
       "      <td>0.994636</td>\n",
       "      <td>12317</td>\n",
       "    </tr>\n",
       "    <tr>\n",
       "      <th>9</th>\n",
       "      <td>0.992175</td>\n",
       "      <td>0.991588</td>\n",
       "      <td>0.992762</td>\n",
       "      <td>13686</td>\n",
       "    </tr>\n",
       "  </tbody>\n",
       "</table>\n",
       "</div>"
      ],
      "text/plain": [
       "       mean  lower_ci  upper_ci  cells\n",
       "0  0.995266  0.994622  0.995910   1368\n",
       "1  0.992992  0.992343  0.993640   2737\n",
       "2  0.999016  0.998877  0.999155   4105\n",
       "3  0.997219  0.996992  0.997445   5474\n",
       "4  0.993866  0.993574  0.994158   6843\n",
       "5  0.994658  0.994378  0.994938   8211\n",
       "6  0.991523  0.991157  0.991888   9580\n",
       "7  0.993966  0.993546  0.994387  10948\n",
       "8  0.994301  0.993967  0.994636  12317\n",
       "9  0.992175  0.991588  0.992762  13686"
      ]
     },
     "execution_count": 24,
     "metadata": {},
     "output_type": "execute_result"
    }
   ],
   "source": [
    "train_rbf_PR"
   ]
  },
  {
   "cell_type": "code",
   "execution_count": 25,
   "metadata": {},
   "outputs": [],
   "source": [
    "# Rbf-SVM: Validation - calculate confidence interval \n",
    "\n",
    "v_scaled_total = [] \n",
    "for t in total_: \n",
    "    s=[]\n",
    "    for i in t: \n",
    "        i_=i \n",
    "        s.append(i_)\n",
    "    v_scaled_total.append(s) \n",
    "    \n",
    "v_scaled_mean = [np.mean(i) for i in v_scaled_total]\n",
    "\n",
    "v_total_CI = [st.t.interval(confidence=0.95,\n",
    "                            df=len(i)-1,\n",
    "                            loc=np.mean(i),\n",
    "                            scale=st.sem(i)) for i in v_scaled_total]\n",
    "v_lower_ci = [i[0] for i in v_total_CI]\n",
    "v_upper_ci = [i[1] for i in v_total_CI]\n",
    "cells = [int(i/100*data.shape[0]) for i in sampling]\n",
    "validation_rbf_PR = pd.DataFrame({'mean':v_scaled_mean,\n",
    "                           'lower_ci':v_lower_ci,\n",
    "                            'upper_ci':v_upper_ci,\n",
    "                           'cells':cells})"
   ]
  },
  {
   "cell_type": "code",
   "execution_count": 26,
   "metadata": {},
   "outputs": [
    {
     "data": {
      "text/html": [
       "<div>\n",
       "<style scoped>\n",
       "    .dataframe tbody tr th:only-of-type {\n",
       "        vertical-align: middle;\n",
       "    }\n",
       "\n",
       "    .dataframe tbody tr th {\n",
       "        vertical-align: top;\n",
       "    }\n",
       "\n",
       "    .dataframe thead th {\n",
       "        text-align: right;\n",
       "    }\n",
       "</style>\n",
       "<table border=\"1\" class=\"dataframe\">\n",
       "  <thead>\n",
       "    <tr style=\"text-align: right;\">\n",
       "      <th></th>\n",
       "      <th>mean</th>\n",
       "      <th>lower_ci</th>\n",
       "      <th>upper_ci</th>\n",
       "      <th>cells</th>\n",
       "    </tr>\n",
       "  </thead>\n",
       "  <tbody>\n",
       "    <tr>\n",
       "      <th>0</th>\n",
       "      <td>0.955951</td>\n",
       "      <td>0.888916</td>\n",
       "      <td>1.022987</td>\n",
       "      <td>1368</td>\n",
       "    </tr>\n",
       "    <tr>\n",
       "      <th>1</th>\n",
       "      <td>0.967710</td>\n",
       "      <td>0.938661</td>\n",
       "      <td>0.996759</td>\n",
       "      <td>2737</td>\n",
       "    </tr>\n",
       "    <tr>\n",
       "      <th>2</th>\n",
       "      <td>0.972708</td>\n",
       "      <td>0.962929</td>\n",
       "      <td>0.982486</td>\n",
       "      <td>4105</td>\n",
       "    </tr>\n",
       "    <tr>\n",
       "      <th>3</th>\n",
       "      <td>0.973526</td>\n",
       "      <td>0.963699</td>\n",
       "      <td>0.983353</td>\n",
       "      <td>5474</td>\n",
       "    </tr>\n",
       "    <tr>\n",
       "      <th>4</th>\n",
       "      <td>0.970321</td>\n",
       "      <td>0.957362</td>\n",
       "      <td>0.983280</td>\n",
       "      <td>6843</td>\n",
       "    </tr>\n",
       "    <tr>\n",
       "      <th>5</th>\n",
       "      <td>0.974152</td>\n",
       "      <td>0.967001</td>\n",
       "      <td>0.981303</td>\n",
       "      <td>8211</td>\n",
       "    </tr>\n",
       "    <tr>\n",
       "      <th>6</th>\n",
       "      <td>0.974692</td>\n",
       "      <td>0.969326</td>\n",
       "      <td>0.980059</td>\n",
       "      <td>9580</td>\n",
       "    </tr>\n",
       "    <tr>\n",
       "      <th>7</th>\n",
       "      <td>0.971707</td>\n",
       "      <td>0.962620</td>\n",
       "      <td>0.980793</td>\n",
       "      <td>10948</td>\n",
       "    </tr>\n",
       "    <tr>\n",
       "      <th>8</th>\n",
       "      <td>0.972552</td>\n",
       "      <td>0.961931</td>\n",
       "      <td>0.983172</td>\n",
       "      <td>12317</td>\n",
       "    </tr>\n",
       "    <tr>\n",
       "      <th>9</th>\n",
       "      <td>0.975761</td>\n",
       "      <td>0.968666</td>\n",
       "      <td>0.982855</td>\n",
       "      <td>13686</td>\n",
       "    </tr>\n",
       "  </tbody>\n",
       "</table>\n",
       "</div>"
      ],
      "text/plain": [
       "       mean  lower_ci  upper_ci  cells\n",
       "0  0.955951  0.888916  1.022987   1368\n",
       "1  0.967710  0.938661  0.996759   2737\n",
       "2  0.972708  0.962929  0.982486   4105\n",
       "3  0.973526  0.963699  0.983353   5474\n",
       "4  0.970321  0.957362  0.983280   6843\n",
       "5  0.974152  0.967001  0.981303   8211\n",
       "6  0.974692  0.969326  0.980059   9580\n",
       "7  0.971707  0.962620  0.980793  10948\n",
       "8  0.972552  0.961931  0.983172  12317\n",
       "9  0.975761  0.968666  0.982855  13686"
      ]
     },
     "execution_count": 26,
     "metadata": {},
     "output_type": "execute_result"
    }
   ],
   "source": [
    "validation_rbf_PR"
   ]
  },
  {
   "cell_type": "code",
   "execution_count": 38,
   "metadata": {},
   "outputs": [
    {
     "data": {
      "image/png": "[encoded data removed]",
      "text/plain": [
       "<Figure size 640x480 with 1 Axes>"
      ]
     },
     "metadata": {},
     "output_type": "display_data"
    }
   ],
   "source": [
    "fig, ax=plt.subplots()\n",
    "ax.plot(validation_rbf_PR['cells'],\n",
    "        validation_rbf_PR['mean'],\n",
    "        marker='o',markerfacecolor='blue',linestyle='dashed',color='green')\n",
    "ax.fill_between(validation_rbf_PR['cells'],\n",
    "                validation_rbf_PR['lower_ci'],\n",
    "                validation_rbf_PR['upper_ci'],\n",
    "                color='b',alpha=.1)\n",
    "\n",
    "plt.xlabel('Number of training examples')\n",
    "plt.ylabel('PR AUC')\n",
    "plt.title('Validation curve')\n",
    "plt.ylim([0.7,1.05])\n",
    "path = folder_path + \"validation_curve_PRAUC.jpg\"\n",
    "plt.savefig(path)"
   ]
  },
  {
   "cell_type": "code",
   "execution_count": 28,
   "metadata": {},
   "outputs": [
    {
     "data": {
      "image/png": "[encoded data removed]",
      "text/plain": [
       "<Figure size 640x480 with 1 Axes>"
      ]
     },
     "metadata": {},
     "output_type": "display_data"
    }
   ],
   "source": [
    "fig, ax=plt.subplots()\n",
    "\n",
    "ax.plot(train_rbf_PR['cells'],\n",
    "        train_rbf_PR['mean'],\n",
    "        marker='o',markerfacecolor='purple',linestyle='dashed',color='red')\n",
    "ax.fill_between(train_rbf_PR['cells'],\n",
    "                train_rbf_PR['lower_ci'],\n",
    "                train_rbf_PR['upper_ci'],\n",
    "                color='red',alpha=.1)\n",
    "\n",
    "ax.plot(validation_rbf_PR['cells'],\n",
    "        validation_rbf_PR['mean'],\n",
    "        marker='o',markerfacecolor='blue',linestyle='dashed',color='green')\n",
    "ax.fill_between(validation_rbf_PR['cells'],\n",
    "                validation_rbf_PR['lower_ci'],\n",
    "                validation_rbf_PR['upper_ci'],\n",
    "                color='b',alpha=.1)\n",
    "\n",
    "plt.xlabel('Number of training samples')\n",
    "plt.ylabel('PR AUC')\n",
    "plt.title('Learning curves')\n",
    "plt.legend([\"Training score\",\"95% CI\",\"Validation score\",\"95% CI\"],bbox_to_anchor=(1,0.4))\n",
    "plt.ylim([0,1.05])\n",
    "\n",
    "path = folder_path + \"learning_curves_PRAUC.jpg\"\n",
    "plt.savefig(path)"
   ]
  }
 ],
 "metadata": {
  "kernelspec": {
   "display_name": "Python 3.9.13 ('base')",
   "language": "python",
   "name": "python3"
  },
  "language_info": {
   "codemirror_mode": {
    "name": "ipython",
    "version": 3
   },
   "file_extension": ".py",
   "mimetype": "text/x-python",
   "name": "python",
   "nbconvert_exporter": "python",
   "pygments_lexer": "ipython3",
   "version": "3.8.16"
  },
  "orig_nbformat": 4,
  "vscode": {
   "interpreter": {
    "hash": "f49f039f1826f29992caaab1300810c8c9e5d31d3955aed133543fc6668591e2"
   }
  }
 },
 "nbformat": 4,
 "nbformat_minor": 2
}
